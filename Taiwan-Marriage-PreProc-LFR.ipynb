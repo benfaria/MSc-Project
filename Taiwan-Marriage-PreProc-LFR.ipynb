{
 "cells": [
  {
   "cell_type": "code",
   "execution_count": 1,
   "metadata": {},
   "outputs": [],
   "source": [
    "%matplotlib inline\n",
    "# Load all necessary packages\n",
    "import sys\n",
    "import pandas as pd\n",
    "# Import IBM's AI Fairness tooolbox\n",
    "from aif360.datasets      import BinaryLabelDataset\n",
    "from aif360.metrics       import BinaryLabelDatasetMetric\n",
    "from aif360.metrics       import ClassificationMetric\n",
    "from aif360.metrics.utils import compute_boolean_conditioning_vector\n",
    "from aif360.algorithms.preprocessing.lfr import LFR\n",
    "# Import scikit-learn core slibraries\n",
    "from sklearn.ensemble      import RandomForestClassifier\n",
    "from sklearn.linear_model  import LogisticRegression\n",
    "from sklearn.preprocessing import StandardScaler, MinMaxScaler\n",
    "from sklearn.metrics       import accuracy_score\n",
    "from IPython.display import Markdown, display\n",
    "import matplotlib.pyplot as plt\n",
    "# Warnings will be used to silence various model warnings for tidier output\n",
    "import warnings\n",
    "warnings.filterwarnings('ignore')"
   ]
  },
  {
   "cell_type": "code",
   "execution_count": 2,
   "metadata": {},
   "outputs": [
    {
     "data": {
      "text/html": [
       "<div>\n",
       "<style scoped>\n",
       "    .dataframe tbody tr th:only-of-type {\n",
       "        vertical-align: middle;\n",
       "    }\n",
       "\n",
       "    .dataframe tbody tr th {\n",
       "        vertical-align: top;\n",
       "    }\n",
       "\n",
       "    .dataframe thead th {\n",
       "        text-align: right;\n",
       "    }\n",
       "</style>\n",
       "<table border=\"1\" class=\"dataframe\">\n",
       "  <thead>\n",
       "    <tr style=\"text-align: right;\">\n",
       "      <th></th>\n",
       "      <th>LIMIT_BAL</th>\n",
       "      <th>GENDER</th>\n",
       "      <th>EDUCATION</th>\n",
       "      <th>MARRIAGE</th>\n",
       "      <th>AGE</th>\n",
       "      <th>PAY_1</th>\n",
       "      <th>PAY_2</th>\n",
       "      <th>PAY_3</th>\n",
       "      <th>PAY_4</th>\n",
       "      <th>PAY_5</th>\n",
       "      <th>...</th>\n",
       "      <th>BILL_AMT4</th>\n",
       "      <th>BILL_AMT5</th>\n",
       "      <th>BILL_AMT6</th>\n",
       "      <th>PAY_AMT1</th>\n",
       "      <th>PAY_AMT2</th>\n",
       "      <th>PAY_AMT3</th>\n",
       "      <th>PAY_AMT4</th>\n",
       "      <th>PAY_AMT5</th>\n",
       "      <th>PAY_AMT6</th>\n",
       "      <th>DEFAULT</th>\n",
       "    </tr>\n",
       "  </thead>\n",
       "  <tbody>\n",
       "    <tr>\n",
       "      <th>0</th>\n",
       "      <td>20000.0</td>\n",
       "      <td>2.0</td>\n",
       "      <td>2.0</td>\n",
       "      <td>1.0</td>\n",
       "      <td>24.0</td>\n",
       "      <td>2.0</td>\n",
       "      <td>2.0</td>\n",
       "      <td>-1.0</td>\n",
       "      <td>-1.0</td>\n",
       "      <td>-2.0</td>\n",
       "      <td>...</td>\n",
       "      <td>0.0</td>\n",
       "      <td>0.0</td>\n",
       "      <td>0.0</td>\n",
       "      <td>0.0</td>\n",
       "      <td>689.0</td>\n",
       "      <td>0.0</td>\n",
       "      <td>0.0</td>\n",
       "      <td>0.0</td>\n",
       "      <td>0.0</td>\n",
       "      <td>0.0</td>\n",
       "    </tr>\n",
       "    <tr>\n",
       "      <th>1</th>\n",
       "      <td>120000.0</td>\n",
       "      <td>2.0</td>\n",
       "      <td>2.0</td>\n",
       "      <td>0.0</td>\n",
       "      <td>26.0</td>\n",
       "      <td>-1.0</td>\n",
       "      <td>2.0</td>\n",
       "      <td>0.0</td>\n",
       "      <td>0.0</td>\n",
       "      <td>0.0</td>\n",
       "      <td>...</td>\n",
       "      <td>3272.0</td>\n",
       "      <td>3455.0</td>\n",
       "      <td>3261.0</td>\n",
       "      <td>0.0</td>\n",
       "      <td>1000.0</td>\n",
       "      <td>1000.0</td>\n",
       "      <td>1000.0</td>\n",
       "      <td>0.0</td>\n",
       "      <td>2000.0</td>\n",
       "      <td>0.0</td>\n",
       "    </tr>\n",
       "    <tr>\n",
       "      <th>2</th>\n",
       "      <td>90000.0</td>\n",
       "      <td>2.0</td>\n",
       "      <td>2.0</td>\n",
       "      <td>0.0</td>\n",
       "      <td>34.0</td>\n",
       "      <td>0.0</td>\n",
       "      <td>0.0</td>\n",
       "      <td>0.0</td>\n",
       "      <td>0.0</td>\n",
       "      <td>0.0</td>\n",
       "      <td>...</td>\n",
       "      <td>14331.0</td>\n",
       "      <td>14948.0</td>\n",
       "      <td>15549.0</td>\n",
       "      <td>1518.0</td>\n",
       "      <td>1500.0</td>\n",
       "      <td>1000.0</td>\n",
       "      <td>1000.0</td>\n",
       "      <td>1000.0</td>\n",
       "      <td>5000.0</td>\n",
       "      <td>1.0</td>\n",
       "    </tr>\n",
       "  </tbody>\n",
       "</table>\n",
       "<p>3 rows × 24 columns</p>\n",
       "</div>"
      ],
      "text/plain": [
       "   LIMIT_BAL  GENDER  EDUCATION  MARRIAGE   AGE  PAY_1  PAY_2  PAY_3  PAY_4  \\\n",
       "0    20000.0     2.0        2.0       1.0  24.0    2.0    2.0   -1.0   -1.0   \n",
       "1   120000.0     2.0        2.0       0.0  26.0   -1.0    2.0    0.0    0.0   \n",
       "2    90000.0     2.0        2.0       0.0  34.0    0.0    0.0    0.0    0.0   \n",
       "\n",
       "   PAY_5   ...     BILL_AMT4  BILL_AMT5  BILL_AMT6  PAY_AMT1  PAY_AMT2  \\\n",
       "0   -2.0   ...           0.0        0.0        0.0       0.0     689.0   \n",
       "1    0.0   ...        3272.0     3455.0     3261.0       0.0    1000.0   \n",
       "2    0.0   ...       14331.0    14948.0    15549.0    1518.0    1500.0   \n",
       "\n",
       "   PAY_AMT3  PAY_AMT4  PAY_AMT5  PAY_AMT6  DEFAULT  \n",
       "0       0.0       0.0       0.0       0.0      0.0  \n",
       "1    1000.0    1000.0       0.0    2000.0      0.0  \n",
       "2    1000.0    1000.0    1000.0    5000.0      1.0  \n",
       "\n",
       "[3 rows x 24 columns]"
      ]
     },
     "execution_count": 2,
     "metadata": {},
     "output_type": "execute_result"
    }
   ],
   "source": [
    "# Read the cleaned Taiwan-Credit-Card-Cleaned-Marriage dataset\n",
    "Taiwan_df = pd.read_csv('./input/Taiwan-Credit-Card-Cleaned-Marriage.csv')\n",
    "Taiwan_df.head(3)"
   ]
  },
  {
   "cell_type": "code",
   "execution_count": 3,
   "metadata": {},
   "outputs": [],
   "source": [
    "# Set privileged (1)/ unprivileged (0)/ favourable (1) / unfavourable values (0)\n",
    "protected_attr      = 'MARRIAGE'\n",
    "priv_grp            = 1  # Married males and females \n",
    "unpriv_grp          = 0  # Single males and females  \n",
    "lab                 = 'DEFAULT'\n",
    "fav_label           = 1 # Will not default next month\n",
    "unfav_label         = 0 # Will default next month\n",
    "privileged_groups   = [{protected_attr: priv_grp}]   # Married folk (male and female)\n",
    "unprivileged_groups = [{protected_attr: unpriv_grp}] # Single folk  (male and female)"
   ]
  },
  {
   "cell_type": "code",
   "execution_count": 4,
   "metadata": {},
   "outputs": [],
   "source": [
    "# Create a Binary Label Dataset to use with AIF360 APIs\n",
    "X = Taiwan_df.drop(lab,axis=1)\n",
    "y = Taiwan_df[lab]\n",
    "Taiwan_bld = BinaryLabelDataset(df=pd.concat((X, y), axis=1),\n",
    "                                label_names=[lab], protected_attribute_names=[protected_attr],\n",
    "                                favorable_label=fav_label, unfavorable_label=unfav_label)"
   ]
  },
  {
   "cell_type": "code",
   "execution_count": 5,
   "metadata": {},
   "outputs": [],
   "source": [
    "# Create train and test datasets\n",
    "Taiwan_train_df, Taiwan_test_df = Taiwan_bld.split([0.8], shuffle=True, seed=101)"
   ]
  },
  {
   "cell_type": "code",
   "execution_count": 6,
   "metadata": {},
   "outputs": [],
   "source": [
    "scaler = MinMaxScaler(copy=False)\n",
    "Taiwan_train_df.features = scaler.fit_transform(Taiwan_train_df.features)\n",
    "Taiwan_test_df.features  = scaler.fit_transform(Taiwan_test_df.features)"
   ]
  },
  {
   "cell_type": "code",
   "execution_count": 7,
   "metadata": {},
   "outputs": [
    {
     "name": "stdout",
     "output_type": "stream",
     "text": [
      "Logistic regression validation accuracy: 0.8162025316455697\n",
      "Random Forest       validation accuracy: 0.8129957805907173\n"
     ]
    }
   ],
   "source": [
    "# Determine the baseline model accuracy for Logistic Regression and Random Forest Classifiers\n",
    "Taiwan_train, d = Taiwan_train_df.convert_to_dataframe(de_dummy_code=False, sep='=', set_category=False)\n",
    "Taiwan_test, d = Taiwan_test_df.convert_to_dataframe(de_dummy_code=False, sep='=', set_category=False)\n",
    "X_train = Taiwan_train.drop(lab,axis=1)\n",
    "y_train = Taiwan_train[lab]\n",
    "X_test = Taiwan_test.drop(lab,axis=1)\n",
    "y_test = Taiwan_test[lab]\n",
    "biasedLogModel = LogisticRegression(random_state=101)\n",
    "biasedRfcModel = RandomForestClassifier(n_estimators=100,max_depth=4,random_state=101)\n",
    "biasedLogModel.fit(X_train, y_train) \n",
    "biasedRfcModel.fit(X_train, y_train) \n",
    "print(f\"Logistic regression validation accuracy: {biasedLogModel.score(X_test, y_test)}\")\n",
    "print(f\"Random Forest       validation accuracy: {biasedRfcModel.score(X_test, y_test)}\")"
   ]
  },
  {
   "cell_type": "code",
   "execution_count": 8,
   "metadata": {
    "scrolled": true
   },
   "outputs": [
    {
     "data": {
      "text/markdown": [
       "#### Original training dataset"
      ],
      "text/plain": [
       "<IPython.core.display.Markdown object>"
      ]
     },
     "metadata": {},
     "output_type": "display_data"
    },
    {
     "name": "stdout",
     "output_type": "stream",
     "text": [
      "Difference in mean outcomes between unprivileged and privileged groups = 0.026856\n",
      "Number of instances           : 23698.0\n",
      "Base Rate                     :0.777281\n",
      "Consistency                   : [0.78298591]\n",
      "Disparate Impact              : 1.0352073335588141\n",
      "Mean Difference               : 0.026856111476450395\n",
      "Statistical Parity Difference : 0.026856111476450395\n",
      "# of positives(privileged)    : 8329.0\n",
      "# of positives(non-privileged): 10091.0\n",
      "Total positive instances\"     : 18420.0\n",
      "# of negatives(privileged)    : 2590.0\n",
      "# of negatives(non-privileged): 2688.0\n",
      "Total negative instances\"     : 5278.0\n"
     ]
    },
    {
     "data": {
      "text/markdown": [
       "#### Original training dataset"
      ],
      "text/plain": [
       "<IPython.core.display.Markdown object>"
      ]
     },
     "metadata": {},
     "output_type": "display_data"
    },
    {
     "name": "stdout",
     "output_type": "stream",
     "text": [
      "Difference in mean outcomes between unprivileged and privileged groups = 0.026856\n"
     ]
    }
   ],
   "source": [
    "# Create the binary label dataset metric class for the train dataset\n",
    "metric_train_bld = BinaryLabelDatasetMetric(Taiwan_train_df, \n",
    "                                            unprivileged_groups=unprivileged_groups,\n",
    "                                            privileged_groups=privileged_groups)\n",
    "display(Markdown(\"#### Original training dataset\"))\n",
    "print(\"Difference in mean outcomes between unprivileged and privileged groups = %f\" % metric_train_bld.mean_difference())\n",
    "print('Number of instances           :', metric_train_bld.num_instances())\n",
    "print(\"Base Rate                     :%f\" % metric_train_bld.base_rate())\n",
    "print('Consistency                   :', metric_train_bld.consistency())\n",
    "print('Disparate Impact              :', metric_train_bld.disparate_impact())\n",
    "print('Mean Difference               :', metric_train_bld.mean_difference())\n",
    "print('Statistical Parity Difference :', metric_train_bld.statistical_parity_difference()) \n",
    "print('# of positives(privileged)    :', metric_train_bld.num_positives(privileged=True))\n",
    "print('# of positives(non-privileged):', metric_train_bld.num_positives(privileged=False))\n",
    "print('Total positive instances\"     :', metric_train_bld.num_positives(privileged=True)+metric_train_bld.num_positives(privileged=False))\n",
    "print('# of negatives(privileged)    :', metric_train_bld.num_negatives(privileged=True))\n",
    "print('# of negatives(non-privileged):', metric_train_bld.num_negatives(privileged=False))\n",
    "print('Total negative instances\"     :', metric_train_bld.num_negatives(privileged=True)+metric_train_bld.num_negatives(privileged=False))\n",
    "display(Markdown(\"#### Original training dataset\"))\n",
    "print(\"Difference in mean outcomes between unprivileged and privileged groups = %f\" % metric_train_bld.mean_difference())"
   ]
  },
  {
   "cell_type": "code",
   "execution_count": 9,
   "metadata": {},
   "outputs": [
    {
     "name": "stdout",
     "output_type": "stream",
     "text": [
      "Interval : Optimization objective value for the interval\n",
      "250 14587.517700040711\n",
      "500 13692.670529850097\n",
      "750 13120.096292091463\n",
      "1000 13072.429071134293\n",
      "1250 13017.349198439519\n",
      "1500 12285.98907817623\n",
      "1750 12246.958212120666\n",
      "2000 12204.69803057172\n",
      "2250 12111.772536359136\n",
      "2500 12010.495619424868\n",
      "2750 11933.850366042401\n",
      "3000 11894.893787741807\n",
      "3250 11883.334103852361\n",
      "3500 11895.817193449264\n",
      "3750 11903.992928145868\n",
      "4000 11881.908544189171\n",
      "4250 11881.909985108605\n",
      "4500 11894.651485318795\n",
      "4750 11832.362477118042\n",
      "5000 11676.914999054541\n"
     ]
    }
   ],
   "source": [
    "print('Interval : Optimization objective value for the interval')\n",
    "TR = LFR(unprivileged_groups = unprivileged_groups, privileged_groups = privileged_groups, verbose=1, seed=101)\n",
    "TR = TR.fit(Taiwan_train_df)"
   ]
  },
  {
   "cell_type": "code",
   "execution_count": 10,
   "metadata": {},
   "outputs": [],
   "source": [
    "# Transform training data and align features\n",
    "Taiwan_train_lfr = TR.transform(Taiwan_train_df)"
   ]
  },
  {
   "cell_type": "code",
   "execution_count": 11,
   "metadata": {},
   "outputs": [
    {
     "name": "stdout",
     "output_type": "stream",
     "text": [
      "Logistic regression validation accuracy: 0.7969620253164557\n",
      "Random Forest       validation accuracy: 0.7939240506329114\n"
     ]
    }
   ],
   "source": [
    "# Determine the transformed model accuracy for Logistic Regression and Random Forest Classifiers\n",
    "# Convert the scaled Binary Labelled Dataset to a pandas dataframe for consistency \n",
    "Taiwan_train, d = Taiwan_train_lfr.convert_to_dataframe(de_dummy_code=False, sep='=', set_category=False)\n",
    "X_train = Taiwan_train.drop(lab,axis=1)\n",
    "y_train = Taiwan_train[lab]\n",
    "debiasedLogModel = LogisticRegression(random_state=101)\n",
    "debiasedRfcModel = RandomForestClassifier(n_estimators=100,max_depth=4,random_state=101)\n",
    "debiasedLogModel.fit(X_train, y_train) \n",
    "debiasedRfcModel.fit(X_train, y_train) \n",
    "print(f\"Logistic regression validation accuracy: {debiasedLogModel.score(X_test, y_test)}\")\n",
    "print(f\"Random Forest       validation accuracy: {debiasedRfcModel.score(X_test, y_test)}\")"
   ]
  },
  {
   "cell_type": "code",
   "execution_count": 12,
   "metadata": {},
   "outputs": [
    {
     "data": {
      "text/markdown": [
       "#### Transformed training dataset"
      ],
      "text/plain": [
       "<IPython.core.display.Markdown object>"
      ]
     },
     "metadata": {},
     "output_type": "display_data"
    },
    {
     "name": "stdout",
     "output_type": "stream",
     "text": [
      "Classification threshold = 0.100000\n",
      "Difference in mean outcomes between unprivileged and privileged groups = -0.000090\n",
      "Classification threshold = 0.300000\n",
      "Difference in mean outcomes between unprivileged and privileged groups = -0.000706\n",
      "Classification threshold = 0.350000\n",
      "Difference in mean outcomes between unprivileged and privileged groups = -0.000752\n",
      "Classification threshold = 0.400000\n",
      "Difference in mean outcomes between unprivileged and privileged groups = -0.000537\n",
      "Classification threshold = 0.500000\n",
      "Difference in mean outcomes between unprivileged and privileged groups = 0.007184\n",
      "Classification threshold = 0.600000\n",
      "Difference in mean outcomes between unprivileged and privileged groups = 0.013575\n",
      "Classification threshold = 0.700000\n",
      "Difference in mean outcomes between unprivileged and privileged groups = 0.034784\n"
     ]
    }
   ],
   "source": [
    "display(Markdown(\"#### Transformed training dataset\"))\n",
    "from sklearn.metrics import classification_report\n",
    "thresholds = [0.1, 0.3, 0.35, 0.4, 0.5, 0.6, 0.7]\n",
    "for threshold in thresholds:\n",
    "    \n",
    "    # Transform training data and align features\n",
    "    Taiwan_train_lfr = TR.transform(Taiwan_train_df,threshold=threshold)\n",
    "    metric_train_lfr = BinaryLabelDatasetMetric(Taiwan_train_lfr, \n",
    "                                                 unprivileged_groups=unprivileged_groups,\n",
    "                                                 privileged_groups=privileged_groups)\n",
    "    print(\"Classification threshold = %f\" % threshold)\n",
    "    #print(classification_report(dataset_orig_train.labels, dataset_transf_train.labels))\n",
    "    print(\"Difference in mean outcomes between unprivileged and privileged groups = %f\" % metric_train_lfr.mean_difference())"
   ]
  },
  {
   "cell_type": "code",
   "execution_count": 13,
   "metadata": {},
   "outputs": [
    {
     "name": "stdout",
     "output_type": "stream",
     "text": [
      "Difference in mean outcomes between unprivileged and privileged groups = 0.026856\n",
      "Number of instances           : 23698.0\n",
      "Base Rate                     :0.877627\n",
      "Consistency                   : [0.99774665]\n",
      "Disparate Impact              : 1.0404994892335342\n",
      "Mean Difference               : 0.03478379064310688\n",
      "Statistical Parity Difference : 0.03478379064310688\n",
      "# of positives(privileged)    : 9378.0\n",
      "# of positives(non-privileged): 11420.0\n",
      "Total positive instances\"     : 20798.0\n",
      "# of negatives(privileged)    : 1541.0\n",
      "# of negatives(non-privileged): 1359.0\n",
      "Total negative instances\"     : 2900.0\n"
     ]
    },
    {
     "data": {
      "text/markdown": [
       "#### Original training dataset"
      ],
      "text/plain": [
       "<IPython.core.display.Markdown object>"
      ]
     },
     "metadata": {},
     "output_type": "display_data"
    },
    {
     "name": "stdout",
     "output_type": "stream",
     "text": [
      "Difference in mean outcomes between unprivileged and privileged groups = 0.034784\n"
     ]
    }
   ],
   "source": [
    "print(\"Difference in mean outcomes between unprivileged and privileged groups = %f\" % metric_train_bld.mean_difference())\n",
    "print('Number of instances           :', metric_train_lfr.num_instances())\n",
    "print(\"Base Rate                     :%f\" % metric_train_lfr.base_rate())\n",
    "print('Consistency                   :', metric_train_lfr.consistency())\n",
    "print('Disparate Impact              :', metric_train_lfr.disparate_impact())\n",
    "print('Mean Difference               :', metric_train_lfr.mean_difference())\n",
    "print('Statistical Parity Difference :', metric_train_lfr.statistical_parity_difference()) \n",
    "print('# of positives(privileged)    :', metric_train_lfr.num_positives(privileged=True))\n",
    "print('# of positives(non-privileged):', metric_train_lfr.num_positives(privileged=False))\n",
    "print('Total positive instances\"     :', metric_train_lfr.num_positives(privileged=True)+metric_train_lfr.num_positives(privileged=False))\n",
    "print('# of negatives(privileged)    :', metric_train_lfr.num_negatives(privileged=True))\n",
    "print('# of negatives(non-privileged):', metric_train_lfr.num_negatives(privileged=False))\n",
    "print('Total negative instances\"     :', metric_train_lfr.num_negatives(privileged=True)+metric_train_lfr.num_negatives(privileged=False))\n",
    "display(Markdown(\"#### Original training dataset\"))\n",
    "print(\"Difference in mean outcomes between unprivileged and privileged groups = %f\" % metric_train_lfr.mean_difference())"
   ]
  },
  {
   "cell_type": "code",
   "execution_count": 14,
   "metadata": {},
   "outputs": [
    {
     "data": {
      "text/markdown": [
       "#### Individual fairness metrics"
      ],
      "text/plain": [
       "<IPython.core.display.Markdown object>"
      ]
     },
     "metadata": {},
     "output_type": "display_data"
    },
    {
     "name": "stdout",
     "output_type": "stream",
     "text": [
      "Consistency of labels in transformed training dataset= 0.997747\n",
      "Consistency of labels in original training dataset= 0.782986\n"
     ]
    }
   ],
   "source": [
    "display(Markdown(\"#### Individual fairness metrics\"))\n",
    "print(\"Consistency of labels in transformed training dataset= %f\" %metric_train_lfr.consistency())\n",
    "print(\"Consistency of labels in original training dataset= %f\" %metric_train_bld.consistency())"
   ]
  },
  {
   "cell_type": "code",
   "execution_count": 15,
   "metadata": {},
   "outputs": [
    {
     "data": {
      "text/plain": [
       "False"
      ]
     },
     "execution_count": 15,
     "metadata": {},
     "output_type": "execute_result"
    }
   ],
   "source": [
    "# Compare the original and transformed datasets\n",
    "#Convert the returned Binary Labelled Dataset to a pandas dataframe \n",
    "Taiwan_orig_df, d = Taiwan_train_df.convert_to_dataframe(de_dummy_code=False, sep='=', set_category=False)\n",
    "Taiwan_lfr_df, d = Taiwan_train_lfr.convert_to_dataframe(de_dummy_code=False, sep='=', set_category=False)\n",
    "# Check whether the transform on the original dataset has worked. \n",
    "# A false means that the dataset is transformed.\n",
    "Taiwan_lfr_df.equals(Taiwan_df)"
   ]
  },
  {
   "cell_type": "code",
   "execution_count": 16,
   "metadata": {},
   "outputs": [
    {
     "data": {
      "text/html": [
       "<div>\n",
       "<style scoped>\n",
       "    .dataframe tbody tr th:only-of-type {\n",
       "        vertical-align: middle;\n",
       "    }\n",
       "\n",
       "    .dataframe tbody tr th {\n",
       "        vertical-align: top;\n",
       "    }\n",
       "\n",
       "    .dataframe thead th {\n",
       "        text-align: right;\n",
       "    }\n",
       "</style>\n",
       "<table border=\"1\" class=\"dataframe\">\n",
       "  <thead>\n",
       "    <tr style=\"text-align: right;\">\n",
       "      <th></th>\n",
       "      <th>LIMIT_BAL</th>\n",
       "      <th>GENDER</th>\n",
       "      <th>EDUCATION</th>\n",
       "      <th>MARRIAGE</th>\n",
       "      <th>AGE</th>\n",
       "      <th>PAY_1</th>\n",
       "      <th>PAY_2</th>\n",
       "      <th>PAY_3</th>\n",
       "      <th>PAY_4</th>\n",
       "      <th>PAY_5</th>\n",
       "      <th>...</th>\n",
       "      <th>BILL_AMT4</th>\n",
       "      <th>BILL_AMT5</th>\n",
       "      <th>BILL_AMT6</th>\n",
       "      <th>PAY_AMT1</th>\n",
       "      <th>PAY_AMT2</th>\n",
       "      <th>PAY_AMT3</th>\n",
       "      <th>PAY_AMT4</th>\n",
       "      <th>PAY_AMT5</th>\n",
       "      <th>PAY_AMT6</th>\n",
       "      <th>DEFAULT</th>\n",
       "    </tr>\n",
       "  </thead>\n",
       "  <tbody>\n",
       "    <tr>\n",
       "      <th>25872</th>\n",
       "      <td>0.260737</td>\n",
       "      <td>0.861354</td>\n",
       "      <td>0.369755</td>\n",
       "      <td>0.0</td>\n",
       "      <td>0.263271</td>\n",
       "      <td>-0.425176</td>\n",
       "      <td>-0.137054</td>\n",
       "      <td>-0.045944</td>\n",
       "      <td>-0.019097</td>\n",
       "      <td>-0.011862</td>\n",
       "      <td>...</td>\n",
       "      <td>0.181031</td>\n",
       "      <td>0.100390</td>\n",
       "      <td>0.186072</td>\n",
       "      <td>-0.065181</td>\n",
       "      <td>-0.251796</td>\n",
       "      <td>-0.173596</td>\n",
       "      <td>-0.195305</td>\n",
       "      <td>-0.108884</td>\n",
       "      <td>-0.132950</td>\n",
       "      <td>1.0</td>\n",
       "    </tr>\n",
       "    <tr>\n",
       "      <th>4201</th>\n",
       "      <td>0.259493</td>\n",
       "      <td>0.776667</td>\n",
       "      <td>0.433451</td>\n",
       "      <td>0.0</td>\n",
       "      <td>0.307023</td>\n",
       "      <td>-0.052166</td>\n",
       "      <td>0.081197</td>\n",
       "      <td>0.250589</td>\n",
       "      <td>0.162890</td>\n",
       "      <td>0.110407</td>\n",
       "      <td>...</td>\n",
       "      <td>0.258648</td>\n",
       "      <td>0.213249</td>\n",
       "      <td>0.280587</td>\n",
       "      <td>0.102961</td>\n",
       "      <td>0.029241</td>\n",
       "      <td>-0.085794</td>\n",
       "      <td>0.017126</td>\n",
       "      <td>0.036234</td>\n",
       "      <td>0.040384</td>\n",
       "      <td>1.0</td>\n",
       "    </tr>\n",
       "    <tr>\n",
       "      <th>12158</th>\n",
       "      <td>0.276893</td>\n",
       "      <td>0.794766</td>\n",
       "      <td>0.409435</td>\n",
       "      <td>1.0</td>\n",
       "      <td>0.305462</td>\n",
       "      <td>-0.127380</td>\n",
       "      <td>0.056890</td>\n",
       "      <td>0.175129</td>\n",
       "      <td>0.139355</td>\n",
       "      <td>0.077046</td>\n",
       "      <td>...</td>\n",
       "      <td>0.257858</td>\n",
       "      <td>0.175801</td>\n",
       "      <td>0.275315</td>\n",
       "      <td>0.072262</td>\n",
       "      <td>-0.015289</td>\n",
       "      <td>-0.091916</td>\n",
       "      <td>-0.032777</td>\n",
       "      <td>0.016895</td>\n",
       "      <td>0.007205</td>\n",
       "      <td>1.0</td>\n",
       "    </tr>\n",
       "  </tbody>\n",
       "</table>\n",
       "<p>3 rows × 24 columns</p>\n",
       "</div>"
      ],
      "text/plain": [
       "       LIMIT_BAL    GENDER  EDUCATION  MARRIAGE       AGE     PAY_1     PAY_2  \\\n",
       "25872   0.260737  0.861354   0.369755       0.0  0.263271 -0.425176 -0.137054   \n",
       "4201    0.259493  0.776667   0.433451       0.0  0.307023 -0.052166  0.081197   \n",
       "12158   0.276893  0.794766   0.409435       1.0  0.305462 -0.127380  0.056890   \n",
       "\n",
       "          PAY_3     PAY_4     PAY_5   ...     BILL_AMT4  BILL_AMT5  BILL_AMT6  \\\n",
       "25872 -0.045944 -0.019097 -0.011862   ...      0.181031   0.100390   0.186072   \n",
       "4201   0.250589  0.162890  0.110407   ...      0.258648   0.213249   0.280587   \n",
       "12158  0.175129  0.139355  0.077046   ...      0.257858   0.175801   0.275315   \n",
       "\n",
       "       PAY_AMT1  PAY_AMT2  PAY_AMT3  PAY_AMT4  PAY_AMT5  PAY_AMT6  DEFAULT  \n",
       "25872 -0.065181 -0.251796 -0.173596 -0.195305 -0.108884 -0.132950      1.0  \n",
       "4201   0.102961  0.029241 -0.085794  0.017126  0.036234  0.040384      1.0  \n",
       "12158  0.072262 -0.015289 -0.091916 -0.032777  0.016895  0.007205      1.0  \n",
       "\n",
       "[3 rows x 24 columns]"
      ]
     },
     "execution_count": 16,
     "metadata": {},
     "output_type": "execute_result"
    }
   ],
   "source": [
    "Taiwan_lfr_df.head(3)"
   ]
  },
  {
   "cell_type": "code",
   "execution_count": 17,
   "metadata": {},
   "outputs": [
    {
     "data": {
      "text/html": [
       "<div>\n",
       "<style scoped>\n",
       "    .dataframe tbody tr th:only-of-type {\n",
       "        vertical-align: middle;\n",
       "    }\n",
       "\n",
       "    .dataframe tbody tr th {\n",
       "        vertical-align: top;\n",
       "    }\n",
       "\n",
       "    .dataframe thead th {\n",
       "        text-align: right;\n",
       "    }\n",
       "</style>\n",
       "<table border=\"1\" class=\"dataframe\">\n",
       "  <thead>\n",
       "    <tr style=\"text-align: right;\">\n",
       "      <th></th>\n",
       "      <th>LIMIT_BAL</th>\n",
       "      <th>GENDER</th>\n",
       "      <th>EDUCATION</th>\n",
       "      <th>MARRIAGE</th>\n",
       "      <th>AGE</th>\n",
       "      <th>PAY_1</th>\n",
       "      <th>PAY_2</th>\n",
       "      <th>PAY_3</th>\n",
       "      <th>PAY_4</th>\n",
       "      <th>PAY_5</th>\n",
       "      <th>...</th>\n",
       "      <th>BILL_AMT4</th>\n",
       "      <th>BILL_AMT5</th>\n",
       "      <th>BILL_AMT6</th>\n",
       "      <th>PAY_AMT1</th>\n",
       "      <th>PAY_AMT2</th>\n",
       "      <th>PAY_AMT3</th>\n",
       "      <th>PAY_AMT4</th>\n",
       "      <th>PAY_AMT5</th>\n",
       "      <th>PAY_AMT6</th>\n",
       "      <th>DEFAULT</th>\n",
       "    </tr>\n",
       "  </thead>\n",
       "  <tbody>\n",
       "    <tr>\n",
       "      <th>25872</th>\n",
       "      <td>0.313131</td>\n",
       "      <td>1.0</td>\n",
       "      <td>0.333333</td>\n",
       "      <td>0.0</td>\n",
       "      <td>0.185185</td>\n",
       "      <td>0.0</td>\n",
       "      <td>0.0</td>\n",
       "      <td>0.0</td>\n",
       "      <td>0.0</td>\n",
       "      <td>0.0</td>\n",
       "      <td>...</td>\n",
       "      <td>0.163099</td>\n",
       "      <td>0.082278</td>\n",
       "      <td>0.180211</td>\n",
       "      <td>0.007341</td>\n",
       "      <td>0.004406</td>\n",
       "      <td>0.003523</td>\n",
       "      <td>0.003108</td>\n",
       "      <td>0.004513</td>\n",
       "      <td>0.000000</td>\n",
       "      <td>1.0</td>\n",
       "    </tr>\n",
       "    <tr>\n",
       "      <th>4201</th>\n",
       "      <td>0.020202</td>\n",
       "      <td>1.0</td>\n",
       "      <td>0.333333</td>\n",
       "      <td>0.0</td>\n",
       "      <td>0.537037</td>\n",
       "      <td>0.2</td>\n",
       "      <td>0.2</td>\n",
       "      <td>0.4</td>\n",
       "      <td>0.2</td>\n",
       "      <td>0.2</td>\n",
       "      <td>...</td>\n",
       "      <td>0.187232</td>\n",
       "      <td>0.109783</td>\n",
       "      <td>0.203327</td>\n",
       "      <td>0.009236</td>\n",
       "      <td>0.000000</td>\n",
       "      <td>0.001109</td>\n",
       "      <td>0.001980</td>\n",
       "      <td>0.003310</td>\n",
       "      <td>0.001430</td>\n",
       "      <td>1.0</td>\n",
       "    </tr>\n",
       "    <tr>\n",
       "      <th>12158</th>\n",
       "      <td>0.040404</td>\n",
       "      <td>1.0</td>\n",
       "      <td>0.666667</td>\n",
       "      <td>1.0</td>\n",
       "      <td>0.574074</td>\n",
       "      <td>0.2</td>\n",
       "      <td>0.2</td>\n",
       "      <td>0.2</td>\n",
       "      <td>0.2</td>\n",
       "      <td>0.2</td>\n",
       "      <td>...</td>\n",
       "      <td>0.177495</td>\n",
       "      <td>0.099301</td>\n",
       "      <td>0.195031</td>\n",
       "      <td>0.003154</td>\n",
       "      <td>0.001060</td>\n",
       "      <td>0.000735</td>\n",
       "      <td>0.001289</td>\n",
       "      <td>0.001817</td>\n",
       "      <td>0.001105</td>\n",
       "      <td>1.0</td>\n",
       "    </tr>\n",
       "  </tbody>\n",
       "</table>\n",
       "<p>3 rows × 24 columns</p>\n",
       "</div>"
      ],
      "text/plain": [
       "       LIMIT_BAL  GENDER  EDUCATION  MARRIAGE       AGE  PAY_1  PAY_2  PAY_3  \\\n",
       "25872   0.313131     1.0   0.333333       0.0  0.185185    0.0    0.0    0.0   \n",
       "4201    0.020202     1.0   0.333333       0.0  0.537037    0.2    0.2    0.4   \n",
       "12158   0.040404     1.0   0.666667       1.0  0.574074    0.2    0.2    0.2   \n",
       "\n",
       "       PAY_4  PAY_5   ...     BILL_AMT4  BILL_AMT5  BILL_AMT6  PAY_AMT1  \\\n",
       "25872    0.0    0.0   ...      0.163099   0.082278   0.180211  0.007341   \n",
       "4201     0.2    0.2   ...      0.187232   0.109783   0.203327  0.009236   \n",
       "12158    0.2    0.2   ...      0.177495   0.099301   0.195031  0.003154   \n",
       "\n",
       "       PAY_AMT2  PAY_AMT3  PAY_AMT4  PAY_AMT5  PAY_AMT6  DEFAULT  \n",
       "25872  0.004406  0.003523  0.003108  0.004513  0.000000      1.0  \n",
       "4201   0.000000  0.001109  0.001980  0.003310  0.001430      1.0  \n",
       "12158  0.001060  0.000735  0.001289  0.001817  0.001105      1.0  \n",
       "\n",
       "[3 rows x 24 columns]"
      ]
     },
     "execution_count": 17,
     "metadata": {},
     "output_type": "execute_result"
    }
   ],
   "source": [
    "Taiwan_orig_df.head(3)"
   ]
  },
  {
   "cell_type": "code",
   "execution_count": 18,
   "metadata": {},
   "outputs": [
    {
     "name": "stdout",
     "output_type": "stream",
     "text": [
      "                 Taiwan_df  Taiwan_lfr\n",
      "0     LIMIT_BAL   0.313131    0.260737\n",
      "      GENDER      1.000000    0.861354\n",
      "      EDUCATION   0.333333    0.369755\n",
      "      AGE         0.185185    0.263271\n",
      "      PAY_1       0.000000   -0.425176\n",
      "      PAY_2       0.000000   -0.137054\n",
      "      PAY_3       0.000000   -0.045944\n",
      "      PAY_4       0.000000   -0.019097\n",
      "      PAY_5       0.000000   -0.011862\n",
      "      PAY_6       0.000000   -0.144462\n",
      "      BILL_AMT1   0.149718    0.043919\n",
      "      BILL_AMT2   0.067747    0.066114\n",
      "      BILL_AMT3   0.160686    0.138854\n",
      "      BILL_AMT4   0.163099    0.181031\n",
      "      BILL_AMT5   0.082278    0.100390\n",
      "      BILL_AMT6   0.180211    0.186072\n",
      "      PAY_AMT1    0.007341   -0.065181\n",
      "      PAY_AMT2    0.004406   -0.251796\n",
      "      PAY_AMT3    0.003523   -0.173596\n",
      "      PAY_AMT4    0.003108   -0.195305\n",
      "      PAY_AMT5    0.004513   -0.108884\n",
      "      PAY_AMT6    0.000000   -0.132950\n",
      "1     LIMIT_BAL   0.020202    0.259493\n",
      "      GENDER      1.000000    0.776667\n",
      "      EDUCATION   0.333333    0.433451\n",
      "      AGE         0.537037    0.307023\n",
      "      PAY_1       0.200000   -0.052166\n",
      "      PAY_2       0.200000    0.081197\n",
      "      PAY_3       0.400000    0.250589\n",
      "      PAY_4       0.200000    0.162890\n",
      "...                    ...         ...\n",
      "23696 BILL_AMT5   0.081094    0.242282\n",
      "      BILL_AMT6   0.178823    0.414325\n",
      "      PAY_AMT1    0.000000    0.108648\n",
      "      PAY_AMT2    0.000000    0.328578\n",
      "      PAY_AMT3    0.000000   -0.013265\n",
      "      PAY_AMT4    0.000000    0.179073\n",
      "      PAY_AMT5    0.000000    0.058759\n",
      "      PAY_AMT6    0.000545    0.258247\n",
      "23697 LIMIT_BAL   0.323232    0.291267\n",
      "      GENDER      1.000000    0.839166\n",
      "      EDUCATION   0.000000    0.392749\n",
      "      AGE         0.351852    0.283616\n",
      "      PAY_1       0.000000   -0.306336\n",
      "      PAY_2       0.000000   -0.059577\n",
      "      PAY_3       0.000000    0.053462\n",
      "      PAY_4       0.100000    0.039265\n",
      "      PAY_5       0.100000    0.010163\n",
      "      PAY_6       0.200000   -0.086589\n",
      "      BILL_AMT1   0.148796    0.109721\n",
      "      BILL_AMT2   0.065933    0.098404\n",
      "      BILL_AMT3   0.154447    0.208870\n",
      "      BILL_AMT4   0.158369    0.249317\n",
      "      BILL_AMT5   0.331203    0.150498\n",
      "      BILL_AMT6   0.240410    0.227223\n",
      "      PAY_AMT1    0.003564    0.035997\n",
      "      PAY_AMT2    0.000000   -0.132878\n",
      "      PAY_AMT3    0.000663   -0.126430\n",
      "      PAY_AMT4    0.485278   -0.105631\n",
      "      PAY_AMT5    0.007034   -0.019417\n",
      "      PAY_AMT6    0.009352   -0.070364\n",
      "\n",
      "[525900 rows x 2 columns]\n"
     ]
    }
   ],
   "source": [
    "Taiwan_orig_df = Taiwan_orig_df.reset_index(drop=True)\n",
    "Taiwan_lfr_df  = Taiwan_lfr_df.reset_index(drop=True)\n",
    "TaiwanBool     = (Taiwan_orig_df != Taiwan_lfr_df).stack()  # Create Frame of comparison booleans\n",
    "Taiwandiff     = pd.concat([Taiwan_orig_df.stack()[TaiwanBool], Taiwan_lfr_df.stack()[TaiwanBool]], axis=1)\n",
    "Taiwandiff.columns=[\"Taiwan_df\", \"Taiwan_lfr\"]\n",
    "print(Taiwandiff)"
   ]
  },
  {
   "cell_type": "code",
   "execution_count": 19,
   "metadata": {},
   "outputs": [],
   "source": [
    "## PCA Analysis of consitency"
   ]
  },
  {
   "cell_type": "code",
   "execution_count": 20,
   "metadata": {},
   "outputs": [
    {
     "name": "stdout",
     "output_type": "stream",
     "text": [
      "this is the threshold being used : 0.7\n"
     ]
    }
   ],
   "source": [
    "# At this stage the transformed dataframe will have the last threshold encountered!\n",
    "print('this is the threshold being used :',threshold)\n",
    "feat_cols = Taiwan_train_df.feature_names\n",
    "\n",
    "orig_df = pd.DataFrame(Taiwan_train_df.features,columns=feat_cols)\n",
    "orig_df['label'] = Taiwan_train_df.labels\n",
    "orig_df['label'] = orig_df['label'].apply(lambda i: str(i))\n",
    "\n",
    "transf_df = pd.DataFrame(Taiwan_train_lfr.features,columns=feat_cols)\n",
    "transf_df['label'] = Taiwan_train_lfr.labels\n",
    "transf_df['label'] = transf_df['label'].apply(lambda i: str(i))"
   ]
  },
  {
   "cell_type": "code",
   "execution_count": 21,
   "metadata": {},
   "outputs": [
    {
     "data": {
      "text/markdown": [
       "#### Original training dataset"
      ],
      "text/plain": [
       "<IPython.core.display.Markdown object>"
      ]
     },
     "metadata": {},
     "output_type": "display_data"
    },
    {
     "name": "stdout",
     "output_type": "stream",
     "text": [
      "Explained variation per principal component:\n",
      "[0.36911066 0.33736746 0.10051436]\n"
     ]
    }
   ],
   "source": [
    "from sklearn.decomposition import PCA\n",
    "\n",
    "orig_pca = PCA(n_components=3)\n",
    "orig_pca_result = orig_pca.fit_transform(orig_df[feat_cols].values)\n",
    "\n",
    "orig_df['pca-one'] = orig_pca_result[:,0]\n",
    "orig_df['pca-two'] = orig_pca_result[:,1] \n",
    "orig_df['pca-three'] = orig_pca_result[:,2]\n",
    "\n",
    "display(Markdown(\"#### Original training dataset\"))\n",
    "print('Explained variation per principal component:')\n",
    "print(orig_pca.explained_variance_ratio_)"
   ]
  },
  {
   "cell_type": "code",
   "execution_count": 22,
   "metadata": {},
   "outputs": [
    {
     "data": {
      "text/markdown": [
       "#### Transformed training dataset"
      ],
      "text/plain": [
       "<IPython.core.display.Markdown object>"
      ]
     },
     "metadata": {},
     "output_type": "display_data"
    },
    {
     "name": "stdout",
     "output_type": "stream",
     "text": [
      "Explained variation per principal component:\n",
      "[0.94288752 0.0522229  0.00488949]\n"
     ]
    }
   ],
   "source": [
    "transf_pca = PCA(n_components=3)\n",
    "transf_pca_result = transf_pca.fit_transform(transf_df[feat_cols].values)\n",
    "\n",
    "transf_df['pca-one'] = transf_pca_result[:,0]\n",
    "transf_df['pca-two'] = transf_pca_result[:,1] \n",
    "transf_df['pca-three'] = transf_pca_result[:,2]\n",
    "\n",
    "display(Markdown(\"#### Transformed training dataset\"))\n",
    "print('Explained variation per principal component:')\n",
    "print(transf_pca.explained_variance_ratio_)"
   ]
  },
  {
   "cell_type": "code",
   "execution_count": 23,
   "metadata": {},
   "outputs": [
    {
     "name": "stdout",
     "output_type": "stream",
     "text": [
      "Logistic regression validation accuracy: 0.47139240506329116\n",
      "Random Forest       validation accuracy: 0.5510548523206751\n"
     ]
    }
   ],
   "source": [
    "# Test whether we can predict the Sensitive (Protected) variable from the transformed training dataset\n",
    "X_train = Taiwan_lfr_df.drop(protected_attr,axis=1)\n",
    "y_train = Taiwan_lfr_df[protected_attr]\n",
    "debiasedLogModel = LogisticRegression(random_state=101)\n",
    "debiasedRfcModel = RandomForestClassifier(n_estimators=100,max_depth=4,random_state=101)\n",
    "debiasedLogModel.fit(X_train, y_train) \n",
    "debiasedRfcModel.fit(X_train, y_train) \n",
    "# Now test whether we can predict Gender from the test dataset\n",
    "Taiwan_test, d = Taiwan_test_df.convert_to_dataframe(de_dummy_code=False, sep='=', set_category=False)\n",
    "X_test = Taiwan_test.drop(protected_attr,axis=1)\n",
    "y_test = Taiwan_test[protected_attr]\n",
    "print(f\"Logistic regression validation accuracy: {debiasedLogModel.score(X_test, y_test)}\")\n",
    "print(f\"Random Forest       validation accuracy: {debiasedRfcModel.score(X_test, y_test)}\")"
   ]
  },
  {
   "cell_type": "code",
   "execution_count": 24,
   "metadata": {},
   "outputs": [],
   "source": [
    "###Load, clean up original test data and compute metric"
   ]
  },
  {
   "cell_type": "code",
   "execution_count": 25,
   "metadata": {},
   "outputs": [
    {
     "data": {
      "text/markdown": [
       "#### Testing Dataset shape"
      ],
      "text/plain": [
       "<IPython.core.display.Markdown object>"
      ]
     },
     "metadata": {},
     "output_type": "display_data"
    },
    {
     "name": "stdout",
     "output_type": "stream",
     "text": [
      "(5925, 23)\n"
     ]
    },
    {
     "data": {
      "text/markdown": [
       "#### Original test dataset"
      ],
      "text/plain": [
       "<IPython.core.display.Markdown object>"
      ]
     },
     "metadata": {},
     "output_type": "display_data"
    },
    {
     "name": "stdout",
     "output_type": "stream",
     "text": [
      "Difference in mean outcomes between unprivileged and privileged groups = 0.019794\n"
     ]
    }
   ],
   "source": [
    "display(Markdown(\"#### Testing Dataset shape\"))\n",
    "print(Taiwan_test_df.features.shape)\n",
    "\n",
    "metric_test_bld = BinaryLabelDatasetMetric(Taiwan_test_df, \n",
    "                                            unprivileged_groups=unprivileged_groups,\n",
    "                                            privileged_groups=privileged_groups)\n",
    "display(Markdown(\"#### Original test dataset\"))\n",
    "print(\"Difference in mean outcomes between unprivileged and privileged groups = %f\" % metric_test_bld.mean_difference())"
   ]
  },
  {
   "cell_type": "code",
   "execution_count": 26,
   "metadata": {},
   "outputs": [],
   "source": [
    "###Transform test data and compute metric"
   ]
  },
  {
   "cell_type": "code",
   "execution_count": 27,
   "metadata": {},
   "outputs": [],
   "source": [
    "Taiwan_test_lfr = TR.transform(Taiwan_test_df, threshold=threshold)\n",
    "metric_test_lfr = BinaryLabelDatasetMetric(Taiwan_test_lfr, \n",
    "                                         unprivileged_groups=unprivileged_groups,\n",
    "                                         privileged_groups=privileged_groups)"
   ]
  },
  {
   "cell_type": "code",
   "execution_count": 28,
   "metadata": {},
   "outputs": [
    {
     "name": "stdout",
     "output_type": "stream",
     "text": [
      "Consistency of labels in tranformed test dataset= 0.996759\n"
     ]
    }
   ],
   "source": [
    "print(\"Consistency of labels in tranformed test dataset= %f\" %metric_test_lfr.consistency())"
   ]
  },
  {
   "cell_type": "code",
   "execution_count": 29,
   "metadata": {},
   "outputs": [
    {
     "name": "stdout",
     "output_type": "stream",
     "text": [
      "Consistency of labels in original test dataset= 0.789097\n"
     ]
    }
   ],
   "source": [
    "print(\"Consistency of labels in original test dataset= %f\" %metric_test_bld.consistency())"
   ]
  },
  {
   "cell_type": "code",
   "execution_count": 30,
   "metadata": {},
   "outputs": [
    {
     "name": "stdout",
     "output_type": "stream",
     "text": [
      "None\n"
     ]
    }
   ],
   "source": [
    "def check_algorithm_success():\n",
    "    \"\"\"Transformed dataset consistency should be greater than original dataset.\"\"\"\n",
    "    assert metric_test_lfr.consistency() > metric_test_bld.consistency(), \"Transformed dataset consistency should be greater than original dataset.\"\n",
    "\n",
    "print(check_algorithm_success())"
   ]
  }
 ],
 "metadata": {
  "kernelspec": {
   "display_name": "Python 3",
   "language": "python",
   "name": "python3"
  },
  "language_info": {
   "codemirror_mode": {
    "name": "ipython",
    "version": 3
   },
   "file_extension": ".py",
   "mimetype": "text/x-python",
   "name": "python",
   "nbconvert_exporter": "python",
   "pygments_lexer": "ipython3",
   "version": "3.7.3"
  }
 },
 "nbformat": 4,
 "nbformat_minor": 2
}
