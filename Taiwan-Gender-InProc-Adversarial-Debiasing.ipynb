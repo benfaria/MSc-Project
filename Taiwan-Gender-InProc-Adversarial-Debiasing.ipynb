{
 "cells": [
  {
   "cell_type": "code",
   "execution_count": 1,
   "metadata": {},
   "outputs": [],
   "source": [
    "# To be run after Adult-Data-Prep\n",
    "# Import Data handling/display libraries\n",
    "import sys\n",
    "import pandas as pd\n",
    "import numpy  as np \n",
    "import matplotlib.pyplot as plt\n",
    "import tensorflow as tf\n",
    "from sklearn.model_selection import train_test_split\n",
    "from sklearn.ensemble      import RandomForestClassifier\n",
    "from sklearn.linear_model  import LogisticRegression\n",
    "from sklearn.preprocessing import StandardScaler, MinMaxScaler\n",
    "from sklearn.metrics       import accuracy_score\n",
    "from sklearn.metrics       import balanced_accuracy_score\n",
    "from sklearn.metrics       import auc, roc_auc_score, roc_curve, classification_report, confusion_matrix\n",
    "from IPython.display       import Markdown, display\n",
    "# Import IBM's AI Fairness tooolbox\n",
    "from aif360.datasets       import BinaryLabelDataset\n",
    "from aif360.metrics        import BinaryLabelDatasetMetric\n",
    "from aif360.metrics        import ClassificationMetric\n",
    "from aif360.metrics.utils  import compute_boolean_conditioning_vector\n",
    "#from aif360.algorithms.preprocessing.optim_preproc_helpers.data_preproc_functions import load_preproc_data_adult, load_preproc_data_compas, load_preproc_data_german\n",
    "from aif360.algorithms.inprocessing.adversarial_debiasing import AdversarialDebiasing\n",
    "%matplotlib inline\n",
    "# Warnings will be used to silence various model warnings for tidier output\n",
    "import warnings\n",
    "warnings.filterwarnings('ignore')"
   ]
  },
  {
   "cell_type": "code",
   "execution_count": 2,
   "metadata": {},
   "outputs": [],
   "source": [
    "# Read the cleaned Taiwan-Credit-Card-Cleaned-Marriage dataset\n",
    "Taiwan_df = pd.read_csv('./input/Taiwan-Credit-Card-Cleaned-Gender.csv')"
   ]
  },
  {
   "cell_type": "code",
   "execution_count": 3,
   "metadata": {},
   "outputs": [],
   "source": [
    "# Set privileged (1)/ unprivileged (0)/ favourable (1) / unfavourable values (0)\n",
    "protected_attr      = 'GENDER'\n",
    "priv_grp            = 1  # Males \n",
    "unpriv_grp          = 0  # Females  \n",
    "lab                 = 'DEFAULT'\n",
    "fav_label           = 1 # Will not default next month\n",
    "unfav_label         = 0 # Will default next month\n",
    "privileged_groups   = [{protected_attr: priv_grp}]   # Males\n",
    "unprivileged_groups = [{protected_attr: unpriv_grp}] # Females"
   ]
  },
  {
   "cell_type": "code",
   "execution_count": 4,
   "metadata": {},
   "outputs": [],
   "source": [
    "# Create the traoning and test splits\n",
    "X = Taiwan_df.drop(lab,axis=1)\n",
    "y = Taiwan_df[lab]"
   ]
  },
  {
   "cell_type": "code",
   "execution_count": 5,
   "metadata": {},
   "outputs": [],
   "source": [
    "# Create a Binary Label Dataset to use with AIF360 APIs\n",
    "Taiwan_bld = BinaryLabelDataset(df=pd.concat((X, y), axis=1),\n",
    "                                label_names=[lab], protected_attribute_names=[protected_attr],\n",
    "                                favorable_label=fav_label, unfavorable_label=unfav_label)"
   ]
  },
  {
   "cell_type": "code",
   "execution_count": 6,
   "metadata": {},
   "outputs": [],
   "source": [
    "# Create train and test datasets\n",
    "Taiwan_train_bld, Taiwan_test_bld = Taiwan_bld.split([0.8], shuffle=True)"
   ]
  },
  {
   "cell_type": "code",
   "execution_count": 7,
   "metadata": {},
   "outputs": [],
   "source": [
    "#Scale the binary labelled datasets\n",
    "min_max_scaler = MinMaxScaler()\n",
    "Taiwan_train_bld.features = min_max_scaler.fit_transform(Taiwan_train_bld.features)\n",
    "Taiwan_test_bld.features  = min_max_scaler.fit_transform(Taiwan_test_bld.features)"
   ]
  },
  {
   "cell_type": "code",
   "execution_count": 8,
   "metadata": {},
   "outputs": [],
   "source": [
    "# Convert the train and test datasets to dataframes\n",
    "Taiwan_train_df, d = Taiwan_train_bld.convert_to_dataframe(de_dummy_code=False, sep='=', set_category=False)\n",
    "Taiwan_test_df,  d = Taiwan_test_bld.convert_to_dataframe(de_dummy_code=False, sep='=', set_category=False)"
   ]
  },
  {
   "cell_type": "code",
   "execution_count": 9,
   "metadata": {},
   "outputs": [
    {
     "name": "stdout",
     "output_type": "stream",
     "text": [
      "Biased Logistic regression validation accuracy: 0.8056666666666666\n",
      "Biased Random Forest       validation accuracy: 0.8086666666666666\n",
      "\n",
      "Biased Logistic regression balanced accuracy  : 0.5881280319977173\n",
      "Biased Random forest balanced accuracy        : 0.6079897256686702\n"
     ]
    }
   ],
   "source": [
    "# Determine the baseline model accuracy for Logistic Regression and Random Forest Classifiers\n",
    "X_train = Taiwan_train_df.drop(lab,axis=1)\n",
    "y_train = Taiwan_train_df[lab]\n",
    "X_test  = Taiwan_test_df.drop(lab,axis=1)\n",
    "y_test  = Taiwan_test_df[lab]\n",
    "BiasedLogModel = LogisticRegression(random_state=101)\n",
    "BiasedRfcModel = RandomForestClassifier(n_estimators=100,max_depth=4,random_state=101)\n",
    "BiasedLogModel.fit(X_train, y_train) \n",
    "BiasedRfcModel.fit(X_train, y_train)\n",
    "BiasedLogPredictions = BiasedLogModel.predict(X_test)\n",
    "BiasedRfcPredictions = BiasedRfcModel.predict(X_test)\n",
    "print(f\"Biased Logistic regression validation accuracy: {BiasedLogModel.score(X_test, y_test)}\")\n",
    "print(f\"Biased Random Forest       validation accuracy: {BiasedRfcModel.score(X_test, y_test)}\")\n",
    "print('')\n",
    "print(f\"Biased Logistic regression balanced accuracy  : {balanced_accuracy_score(y_test, BiasedLogPredictions)}\")\n",
    "print(f\"Biased Random forest balanced accuracy        : {balanced_accuracy_score(y_test, BiasedRfcPredictions)}\")"
   ]
  },
  {
   "cell_type": "code",
   "execution_count": 10,
   "metadata": {},
   "outputs": [
    {
     "name": "stdout",
     "output_type": "stream",
     "text": [
      "Training Before - DEFAULT value counts:\n",
      "1.0    18698\n",
      "0.0     5302\n",
      "Name: DEFAULT, dtype: int64\n",
      "Training Before - GENDER value counts:\n",
      "0.0    14549\n",
      "1.0     9451\n",
      "Name: GENDER, dtype: int64\n"
     ]
    }
   ],
   "source": [
    "print('Training Before - DEFAULT value counts:')\n",
    "print(Taiwan_train_df.DEFAULT.value_counts())\n",
    "print('Training Before - GENDER value counts:')\n",
    "print(Taiwan_train_df.GENDER.value_counts())"
   ]
  },
  {
   "cell_type": "code",
   "execution_count": 11,
   "metadata": {},
   "outputs": [
    {
     "name": "stdout",
     "output_type": "stream",
     "text": [
      "Test Before - DEFAULT value counts:\n",
      "1.0    4666\n",
      "0.0    1334\n",
      "Name: DEFAULT, dtype: int64\n",
      "Test Before - GENDER value counts:\n",
      "0.0    3563\n",
      "1.0    2437\n",
      "Name: GENDER, dtype: int64\n"
     ]
    }
   ],
   "source": [
    "print('Test Before - DEFAULT value counts:')\n",
    "print(Taiwan_test_df.DEFAULT.value_counts())\n",
    "print('Test Before - GENDER value counts:')\n",
    "print(Taiwan_test_df.GENDER.value_counts())"
   ]
  },
  {
   "cell_type": "code",
   "execution_count": 12,
   "metadata": {},
   "outputs": [],
   "source": [
    "# Create the binary label dataset metric class for the training dataset\n",
    "metric_train_bld = BinaryLabelDatasetMetric(Taiwan_train_bld, \n",
    "                                            unprivileged_groups=unprivileged_groups,\n",
    "                                            privileged_groups=privileged_groups)\n",
    "metric_test_bld = BinaryLabelDatasetMetric(Taiwan_test_bld, \n",
    "                                           unprivileged_groups=unprivileged_groups,\n",
    "                                           privileged_groups=privileged_groups)"
   ]
  },
  {
   "cell_type": "code",
   "execution_count": 13,
   "metadata": {},
   "outputs": [
    {
     "data": {
      "text/markdown": [
       "#### Orig training dataset"
      ],
      "text/plain": [
       "<IPython.core.display.Markdown object>"
      ]
     },
     "metadata": {},
     "output_type": "display_data"
    },
    {
     "name": "stdout",
     "output_type": "stream",
     "text": [
      "Number of instances           : 24000.0\n",
      "Base Rate                     : 0.7790833333333333\n",
      "Consistency                   : [0.783825]\n",
      "Disparate Impact              : 1.0401880843019193\n",
      "Mean Difference               : 0.03056522589802102\n",
      "Statistical Parity Difference : 0.03056522589802102\n"
     ]
    },
    {
     "data": {
      "text/markdown": [
       "#### Orig test dataset"
      ],
      "text/plain": [
       "<IPython.core.display.Markdown object>"
      ]
     },
     "metadata": {},
     "output_type": "display_data"
    },
    {
     "name": "stdout",
     "output_type": "stream",
     "text": [
      "Number of instances           : 6000.0\n",
      "Base Rate                     : 0.7776666666666666\n",
      "Consistency                   : [0.78366667]\n",
      "Disparate Impact              : 1.062836723786911\n",
      "Mean Difference               : 0.04710820449679376\n",
      "Statistical Parity Difference : 0.04710820449679376\n"
     ]
    }
   ],
   "source": [
    "display(Markdown(\"#### Orig training dataset\"))\n",
    "print('Number of instances           :', metric_train_bld.num_instances())\n",
    "print('Base Rate                     :', metric_train_bld.base_rate())\n",
    "print('Consistency                   :', metric_train_bld.consistency())\n",
    "print('Disparate Impact              :', metric_train_bld.disparate_impact())\n",
    "print('Mean Difference               :', metric_train_bld.mean_difference())\n",
    "print('Statistical Parity Difference :', metric_train_bld.statistical_parity_difference()) \n",
    "display(Markdown(\"#### Orig test dataset\"))\n",
    "print('Number of instances           :', metric_test_bld.num_instances())\n",
    "print('Base Rate                     :', metric_test_bld.base_rate())\n",
    "print('Consistency                   :', metric_test_bld.consistency())\n",
    "print('Disparate Impact              :', metric_test_bld.disparate_impact())\n",
    "print('Mean Difference               :', metric_test_bld.mean_difference())\n",
    "print('Statistical Parity Difference :', metric_test_bld.statistical_parity_difference()) "
   ]
  },
  {
   "cell_type": "code",
   "execution_count": 14,
   "metadata": {},
   "outputs": [],
   "source": [
    "# Load post-processing algorithm that equalizes the odds\n",
    "# Learn parameters with debias set to FALSE!\n",
    "sess = tf.Session()\n",
    "biased_model = AdversarialDebiasing(privileged_groups = privileged_groups,\n",
    "                          unprivileged_groups = unprivileged_groups,\n",
    "                          scope_name='plain_classifier',\n",
    "                          debias=False,\n",
    "                          sess=sess)"
   ]
  },
  {
   "cell_type": "code",
   "execution_count": 15,
   "metadata": {},
   "outputs": [
    {
     "name": "stderr",
     "output_type": "stream",
     "text": [
      "WARNING: Logging before flag parsing goes to stderr.\n",
      "W0914 00:07:20.129674  9496 deprecation_wrapper.py:119] From c:\\users\\befaria\\appdata\\local\\continuum\\miniconda3\\lib\\site-packages\\aif360\\algorithms\\inprocessing\\adversarial_debiasing.py:138: The name tf.variable_scope is deprecated. Please use tf.compat.v1.variable_scope instead.\n",
      "\n",
      "W0914 00:07:20.131673  9496 deprecation_wrapper.py:119] From c:\\users\\befaria\\appdata\\local\\continuum\\miniconda3\\lib\\site-packages\\aif360\\algorithms\\inprocessing\\adversarial_debiasing.py:142: The name tf.placeholder is deprecated. Please use tf.compat.v1.placeholder instead.\n",
      "\n",
      "W0914 00:07:20.144665  9496 deprecation_wrapper.py:119] From c:\\users\\befaria\\appdata\\local\\continuum\\miniconda3\\lib\\site-packages\\aif360\\algorithms\\inprocessing\\adversarial_debiasing.py:87: The name tf.get_variable is deprecated. Please use tf.compat.v1.get_variable instead.\n",
      "\n",
      "W0914 00:07:22.624666  9496 lazy_loader.py:50] \n",
      "The TensorFlow contrib module will not be included in TensorFlow 2.0.\n",
      "For more information, please see:\n",
      "  * https://github.com/tensorflow/community/blob/master/rfcs/20180907-contrib-sunset.md\n",
      "  * https://github.com/tensorflow/addons\n",
      "  * https://github.com/tensorflow/io (for I/O related ops)\n",
      "If you depend on functionality not listed there, please file an issue.\n",
      "\n",
      "W0914 00:07:22.653666  9496 deprecation.py:506] From c:\\users\\befaria\\appdata\\local\\continuum\\miniconda3\\lib\\site-packages\\aif360\\algorithms\\inprocessing\\adversarial_debiasing.py:92: calling dropout (from tensorflow.python.ops.nn_ops) with keep_prob is deprecated and will be removed in a future version.\n",
      "Instructions for updating:\n",
      "Please use `rate` instead of `keep_prob`. Rate should be set to `rate = 1 - keep_prob`.\n",
      "W0914 00:07:22.718670  9496 deprecation.py:323] From c:\\users\\befaria\\appdata\\local\\continuum\\miniconda3\\lib\\site-packages\\tensorflow\\python\\ops\\nn_impl.py:180: add_dispatch_support.<locals>.wrapper (from tensorflow.python.ops.array_ops) is deprecated and will be removed in a future version.\n",
      "Instructions for updating:\n",
      "Use tf.where in 2.0, which has the same broadcast rule as np.where\n",
      "W0914 00:07:22.763666  9496 deprecation_wrapper.py:119] From c:\\users\\befaria\\appdata\\local\\continuum\\miniconda3\\lib\\site-packages\\aif360\\algorithms\\inprocessing\\adversarial_debiasing.py:160: The name tf.train.exponential_decay is deprecated. Please use tf.compat.v1.train.exponential_decay instead.\n",
      "\n",
      "W0914 00:07:22.776666  9496 deprecation_wrapper.py:119] From c:\\users\\befaria\\appdata\\local\\continuum\\miniconda3\\lib\\site-packages\\aif360\\algorithms\\inprocessing\\adversarial_debiasing.py:162: The name tf.train.AdamOptimizer is deprecated. Please use tf.compat.v1.train.AdamOptimizer instead.\n",
      "\n",
      "W0914 00:07:22.777665  9496 deprecation_wrapper.py:119] From c:\\users\\befaria\\appdata\\local\\continuum\\miniconda3\\lib\\site-packages\\aif360\\algorithms\\inprocessing\\adversarial_debiasing.py:166: The name tf.trainable_variables is deprecated. Please use tf.compat.v1.trainable_variables instead.\n",
      "\n",
      "W0914 00:07:23.445916  9496 deprecation_wrapper.py:119] From c:\\users\\befaria\\appdata\\local\\continuum\\miniconda3\\lib\\site-packages\\aif360\\algorithms\\inprocessing\\adversarial_debiasing.py:187: The name tf.global_variables_initializer is deprecated. Please use tf.compat.v1.global_variables_initializer instead.\n",
      "\n"
     ]
    },
    {
     "name": "stdout",
     "output_type": "stream",
     "text": [
      "epoch 0; iter: 0; batch classifier loss: 0.657834\n",
      "epoch 1; iter: 0; batch classifier loss: 0.535646\n",
      "epoch 2; iter: 0; batch classifier loss: 0.421517\n",
      "epoch 3; iter: 0; batch classifier loss: 0.486037\n",
      "epoch 4; iter: 0; batch classifier loss: 0.410988\n",
      "epoch 5; iter: 0; batch classifier loss: 0.377697\n",
      "epoch 6; iter: 0; batch classifier loss: 0.429664\n",
      "epoch 7; iter: 0; batch classifier loss: 0.365086\n",
      "epoch 8; iter: 0; batch classifier loss: 0.443991\n",
      "epoch 9; iter: 0; batch classifier loss: 0.456086\n",
      "epoch 10; iter: 0; batch classifier loss: 0.493173\n",
      "epoch 11; iter: 0; batch classifier loss: 0.499553\n",
      "epoch 12; iter: 0; batch classifier loss: 0.405097\n",
      "epoch 13; iter: 0; batch classifier loss: 0.436264\n",
      "epoch 14; iter: 0; batch classifier loss: 0.405587\n",
      "epoch 15; iter: 0; batch classifier loss: 0.459541\n",
      "epoch 16; iter: 0; batch classifier loss: 0.426845\n",
      "epoch 17; iter: 0; batch classifier loss: 0.449122\n",
      "epoch 18; iter: 0; batch classifier loss: 0.475301\n",
      "epoch 19; iter: 0; batch classifier loss: 0.437453\n",
      "epoch 20; iter: 0; batch classifier loss: 0.387378\n",
      "epoch 21; iter: 0; batch classifier loss: 0.491323\n",
      "epoch 22; iter: 0; batch classifier loss: 0.392849\n",
      "epoch 23; iter: 0; batch classifier loss: 0.366973\n",
      "epoch 24; iter: 0; batch classifier loss: 0.422355\n",
      "epoch 25; iter: 0; batch classifier loss: 0.425925\n",
      "epoch 26; iter: 0; batch classifier loss: 0.371283\n",
      "epoch 27; iter: 0; batch classifier loss: 0.463652\n",
      "epoch 28; iter: 0; batch classifier loss: 0.423249\n",
      "epoch 29; iter: 0; batch classifier loss: 0.372533\n",
      "epoch 30; iter: 0; batch classifier loss: 0.416374\n",
      "epoch 31; iter: 0; batch classifier loss: 0.437974\n",
      "epoch 32; iter: 0; batch classifier loss: 0.442732\n",
      "epoch 33; iter: 0; batch classifier loss: 0.513150\n",
      "epoch 34; iter: 0; batch classifier loss: 0.425654\n",
      "epoch 35; iter: 0; batch classifier loss: 0.412564\n",
      "epoch 36; iter: 0; batch classifier loss: 0.431315\n",
      "epoch 37; iter: 0; batch classifier loss: 0.491348\n",
      "epoch 38; iter: 0; batch classifier loss: 0.433400\n",
      "epoch 39; iter: 0; batch classifier loss: 0.412488\n",
      "epoch 40; iter: 0; batch classifier loss: 0.513512\n",
      "epoch 41; iter: 0; batch classifier loss: 0.392781\n",
      "epoch 42; iter: 0; batch classifier loss: 0.427579\n",
      "epoch 43; iter: 0; batch classifier loss: 0.480846\n",
      "epoch 44; iter: 0; batch classifier loss: 0.437227\n",
      "epoch 45; iter: 0; batch classifier loss: 0.475900\n",
      "epoch 46; iter: 0; batch classifier loss: 0.486918\n",
      "epoch 47; iter: 0; batch classifier loss: 0.462513\n",
      "epoch 48; iter: 0; batch classifier loss: 0.386721\n",
      "epoch 49; iter: 0; batch classifier loss: 0.503127\n"
     ]
    },
    {
     "data": {
      "text/plain": [
       "<aif360.algorithms.inprocessing.adversarial_debiasing.AdversarialDebiasing at 0x1b6f0598d68>"
      ]
     },
     "execution_count": 15,
     "metadata": {},
     "output_type": "execute_result"
    }
   ],
   "source": [
    "biased_model.fit(Taiwan_train_bld)"
   ]
  },
  {
   "cell_type": "code",
   "execution_count": 16,
   "metadata": {},
   "outputs": [],
   "source": [
    "# Apply the plain model to test data\n",
    "Taiwan_biased_train = biased_model.predict(Taiwan_train_bld)\n",
    "Taiwan_biased_test  = biased_model.predict(Taiwan_test_bld)\n",
    "# And convert them to dataframes\n",
    "Taiwan_train_df, d = Taiwan_biased_train.convert_to_dataframe(de_dummy_code=False, sep='=', set_category=False)\n",
    "Taiwan_test_df, d  = Taiwan_biased_test.convert_to_dataframe(de_dummy_code=False, sep='=', set_category=False)"
   ]
  },
  {
   "cell_type": "code",
   "execution_count": 17,
   "metadata": {},
   "outputs": [
    {
     "name": "stdout",
     "output_type": "stream",
     "text": [
      "Model Accuracy for predicting the Sensitive Variable before bias transformation:\n",
      "Biased Logistic regression validation accuracy: 0.5946666666666667\n",
      "Biased Random Forest       validation accuracy: 0.5985\n",
      "\n",
      "Biased Balanced accuracy\n",
      "Biased Logistic regression balanced accuracy  : 0.5178840199925578\n",
      "Biased Random Forest       balanced accuracy  : 0.50652283747461\n"
     ]
    }
   ],
   "source": [
    "# Test whether it is possible to predict the Sensitive Variable from the whole original dataset\n",
    "X_se_train = Taiwan_train_df.drop(protected_attr,axis=1)\n",
    "y_se_train = Taiwan_train_df[protected_attr]\n",
    "X_se_test  = Taiwan_test_df.drop(protected_attr,axis=1)\n",
    "y_se_test  = Taiwan_test_df[protected_attr]\n",
    "\n",
    "Se_BiasedLogModel = LogisticRegression(random_state=101)\n",
    "Se_BiasedRfcModel = RandomForestClassifier(n_estimators=100,max_depth=4,random_state=101)\n",
    "Se_BiasedLogModel.fit(X_se_train, y_se_train) \n",
    "Se_BiasedRfcModel.fit(X_se_train, y_se_train) \n",
    "yseLog_pred =  Se_BiasedLogModel.predict(X_se_test)\n",
    "yseRfc_pred =  Se_BiasedRfcModel.predict(X_se_test)\n",
    "# Now test whether we can predict Gender from the test dataset\n",
    "print('Model Accuracy for predicting the Sensitive Variable before bias transformation:')\n",
    "print(f\"Biased Logistic regression validation accuracy: {Se_BiasedLogModel.score(X_se_test, y_se_test)}\")\n",
    "print(f\"Biased Random Forest       validation accuracy: {Se_BiasedRfcModel.score(X_se_test, y_se_test)}\")\n",
    "print('')\n",
    "print('Biased Balanced accuracy')\n",
    "print(f\"Biased Logistic regression balanced accuracy  : {balanced_accuracy_score(y_se_test, yseLog_pred)}\")\n",
    "print(f\"Biased Random Forest       balanced accuracy  : {balanced_accuracy_score(y_se_test, yseRfc_pred)}\")"
   ]
  },
  {
   "cell_type": "code",
   "execution_count": 18,
   "metadata": {},
   "outputs": [
    {
     "data": {
      "text/markdown": [
       "#### Plain model - without debiasing - dataset metrics"
      ],
      "text/plain": [
       "<IPython.core.display.Markdown object>"
      ]
     },
     "metadata": {},
     "output_type": "display_data"
    },
    {
     "data": {
      "text/markdown": [
       "#### Biased training dataset"
      ],
      "text/plain": [
       "<IPython.core.display.Markdown object>"
      ]
     },
     "metadata": {},
     "output_type": "display_data"
    },
    {
     "name": "stdout",
     "output_type": "stream",
     "text": [
      "Number of instances           : 24000.0\n",
      "Base Rate                     : 0.89075\n",
      "Consistency                   : [0.97286667]\n",
      "Disparate Impact              : 1.0255654345893719\n",
      "Mean Difference               : 0.022424870674626285\n",
      "Statistical Parity Difference : 0.022424870674626285\n"
     ]
    },
    {
     "data": {
      "text/markdown": [
       "#### Biased test dataset"
      ],
      "text/plain": [
       "<IPython.core.display.Markdown object>"
      ]
     },
     "metadata": {},
     "output_type": "display_data"
    },
    {
     "name": "stdout",
     "output_type": "stream",
     "text": [
      "Number of instances           : 6000.0\n",
      "Base Rate                     : 0.9348333333333333\n",
      "Consistency                   : [0.9664]\n",
      "Disparate Impact              : 1.0248949391387727\n",
      "Mean Difference               : 0.022933581603013953\n",
      "Statistical Parity Difference : 0.022933581603013953\n"
     ]
    }
   ],
   "source": [
    "# Metrics for the dataset from plain model (without debiasing)\n",
    "display(Markdown(\"#### Plain model - without debiasing - dataset metrics\"))\n",
    "metric_biased_train = BinaryLabelDatasetMetric(Taiwan_biased_train, \n",
    "                             unprivileged_groups=unprivileged_groups,\n",
    "                             privileged_groups=privileged_groups)\n",
    "\n",
    "metric_biased_test = BinaryLabelDatasetMetric(Taiwan_biased_test, \n",
    "                            unprivileged_groups=unprivileged_groups,\n",
    "                            privileged_groups=privileged_groups)\n",
    "display(Markdown(\"#### Biased training dataset\"))\n",
    "print('Number of instances           :', metric_biased_train.num_instances())\n",
    "print('Base Rate                     :', metric_biased_train.base_rate())\n",
    "print('Consistency                   :', metric_biased_train.consistency())\n",
    "print('Disparate Impact              :', metric_biased_train.disparate_impact())\n",
    "print('Mean Difference               :', metric_biased_train.mean_difference())\n",
    "print('Statistical Parity Difference :', metric_biased_train.statistical_parity_difference()) \n",
    "display(Markdown(\"#### Biased test dataset\"))\n",
    "print('Number of instances           :', metric_biased_test.num_instances())\n",
    "print('Base Rate                     :', metric_biased_test.base_rate())\n",
    "print('Consistency                   :', metric_biased_test.consistency())\n",
    "print('Disparate Impact              :', metric_biased_test.disparate_impact())\n",
    "print('Mean Difference               :', metric_biased_test.mean_difference())\n",
    "print('Statistical Parity Difference :', metric_biased_test.statistical_parity_difference()) "
   ]
  },
  {
   "cell_type": "code",
   "execution_count": 19,
   "metadata": {},
   "outputs": [],
   "source": [
    "# Create the Classification metric for train and test\n",
    "classified_metric_biased_test = ClassificationMetric(Taiwan_train_bld, Taiwan_biased_train,\n",
    "                                       unprivileged_groups=unprivileged_groups,\n",
    "                                       privileged_groups=privileged_groups)\n",
    "classified_metric_biased_train = ClassificationMetric(Taiwan_test_bld, Taiwan_biased_test,\n",
    "                                       unprivileged_groups=unprivileged_groups,\n",
    "                                       privileged_groups=privileged_groups)"
   ]
  },
  {
   "cell_type": "code",
   "execution_count": 20,
   "metadata": {},
   "outputs": [
    {
     "data": {
      "text/markdown": [
       "#### Plain model - without debiasing - classification metrics"
      ],
      "text/plain": [
       "<IPython.core.display.Markdown object>"
      ]
     },
     "metadata": {},
     "output_type": "display_data"
    },
    {
     "data": {
      "text/markdown": [
       "#### Biased training dataset - CLassification Metrics"
      ],
      "text/plain": [
       "<IPython.core.display.Markdown object>"
      ]
     },
     "metadata": {},
     "output_type": "display_data"
    },
    {
     "name": "stdout",
     "output_type": "stream",
     "text": [
      "Classification accuracy         = 0.8065\n",
      "Balanced classification accuracy= 0.5940169113899972\n",
      "Disparate impact                = 1.0248949391387727\n",
      "Equal opportunity difference    = 0.008384467421768127\n",
      "Average odds difference         = 0.02088003372899838\n",
      "Theil_index                     = 0.06407616216959693\n"
     ]
    },
    {
     "data": {
      "text/markdown": [
       "#### Biased test dataset - CLassification Metrics"
      ],
      "text/plain": [
       "<IPython.core.display.Markdown object>"
      ]
     },
     "metadata": {},
     "output_type": "display_data"
    },
    {
     "name": "stdout",
     "output_type": "stream",
     "text": [
      "Classification accuracy         = 0.8218333333333333\n",
      "Balanced classification accuracy= 0.6506713813910225\n",
      "Disparate impact                = 1.0255654345893719\n",
      "Equal opportunity difference    = 0.01225560798067249\n",
      "Average odds difference         = 0.014407849363077097\n",
      "Theil_index                     = 0.07485669280783086\n"
     ]
    }
   ],
   "source": [
    "display(Markdown(\"#### Plain model - without debiasing - classification metrics\"))\n",
    "\n",
    "display(Markdown(\"#### Biased training dataset - CLassification Metrics\"))\n",
    "TPR_train = classified_metric_biased_train.true_positive_rate()\n",
    "TNR_train = classified_metric_biased_train.true_negative_rate()\n",
    "bal_acc_biased_train = 0.5*(TPR_train + TNR_train)\n",
    "print('Classification accuracy         =', classified_metric_biased_train.accuracy())\n",
    "print('Balanced classification accuracy=', bal_acc_biased_train)\n",
    "print('Disparate impact                =', classified_metric_biased_train.disparate_impact())\n",
    "print('Equal opportunity difference    =', classified_metric_biased_train.equal_opportunity_difference())\n",
    "print('Average odds difference         =', classified_metric_biased_train.average_odds_difference())\n",
    "print('Theil_index                     =', classified_metric_biased_train.theil_index())\n",
    "\n",
    "display(Markdown(\"#### Biased test dataset - CLassification Metrics\"))\n",
    "TPR_test = classified_metric_biased_test.true_positive_rate()\n",
    "TNR_test = classified_metric_biased_test.true_negative_rate()\n",
    "bal_acc_biased_test = 0.5*(TPR_test+TNR_test)\n",
    "print('Classification accuracy         =', classified_metric_biased_test.accuracy())\n",
    "print('Balanced classification accuracy=', bal_acc_biased_test)\n",
    "print('Disparate impact                =', classified_metric_biased_test.disparate_impact())\n",
    "print('Equal opportunity difference    =', classified_metric_biased_test.equal_opportunity_difference())\n",
    "print('Average odds difference         =', classified_metric_biased_test.average_odds_difference())\n",
    "print('Theil_index                     =', classified_metric_biased_test.theil_index())"
   ]
  },
  {
   "cell_type": "code",
   "execution_count": 21,
   "metadata": {},
   "outputs": [],
   "source": [
    "sess.close()\n",
    "tf.reset_default_graph()\n",
    "sess = tf.Session()"
   ]
  },
  {
   "cell_type": "code",
   "execution_count": 22,
   "metadata": {},
   "outputs": [],
   "source": [
    "unbiased_model = AdversarialDebiasing(privileged_groups = privileged_groups,\n",
    "                          unprivileged_groups = unprivileged_groups,\n",
    "                          scope_name='plain_classifier',\n",
    "                          debias=True,\n",
    "                          sess=sess)"
   ]
  },
  {
   "cell_type": "code",
   "execution_count": 23,
   "metadata": {},
   "outputs": [
    {
     "name": "stdout",
     "output_type": "stream",
     "text": [
      "epoch 0; iter: 0; batch classifier loss: 0.692761; batch adversarial loss: 0.710298\n",
      "epoch 1; iter: 0; batch classifier loss: 0.457519; batch adversarial loss: 0.737755\n",
      "epoch 2; iter: 0; batch classifier loss: 0.404200; batch adversarial loss: 0.695146\n",
      "epoch 3; iter: 0; batch classifier loss: 0.455199; batch adversarial loss: 0.695964\n",
      "epoch 4; iter: 0; batch classifier loss: 0.464165; batch adversarial loss: 0.675323\n",
      "epoch 5; iter: 0; batch classifier loss: 0.420111; batch adversarial loss: 0.668298\n",
      "epoch 6; iter: 0; batch classifier loss: 0.430076; batch adversarial loss: 0.676728\n",
      "epoch 7; iter: 0; batch classifier loss: 0.383151; batch adversarial loss: 0.674743\n",
      "epoch 8; iter: 0; batch classifier loss: 0.429564; batch adversarial loss: 0.677012\n",
      "epoch 9; iter: 0; batch classifier loss: 0.440074; batch adversarial loss: 0.635771\n",
      "epoch 10; iter: 0; batch classifier loss: 0.542047; batch adversarial loss: 0.656798\n",
      "epoch 11; iter: 0; batch classifier loss: 0.424100; batch adversarial loss: 0.659569\n",
      "epoch 12; iter: 0; batch classifier loss: 0.422789; batch adversarial loss: 0.683336\n",
      "epoch 13; iter: 0; batch classifier loss: 0.476753; batch adversarial loss: 0.639064\n",
      "epoch 14; iter: 0; batch classifier loss: 0.462613; batch adversarial loss: 0.659094\n",
      "epoch 15; iter: 0; batch classifier loss: 0.351391; batch adversarial loss: 0.642759\n",
      "epoch 16; iter: 0; batch classifier loss: 0.361076; batch adversarial loss: 0.645996\n",
      "epoch 17; iter: 0; batch classifier loss: 0.474983; batch adversarial loss: 0.670563\n",
      "epoch 18; iter: 0; batch classifier loss: 0.405895; batch adversarial loss: 0.677877\n",
      "epoch 19; iter: 0; batch classifier loss: 0.417911; batch adversarial loss: 0.669975\n",
      "epoch 20; iter: 0; batch classifier loss: 0.546136; batch adversarial loss: 0.673189\n",
      "epoch 21; iter: 0; batch classifier loss: 0.416813; batch adversarial loss: 0.664095\n",
      "epoch 22; iter: 0; batch classifier loss: 0.343782; batch adversarial loss: 0.679397\n",
      "epoch 23; iter: 0; batch classifier loss: 0.488445; batch adversarial loss: 0.662480\n",
      "epoch 24; iter: 0; batch classifier loss: 0.440771; batch adversarial loss: 0.643219\n",
      "epoch 25; iter: 0; batch classifier loss: 0.458433; batch adversarial loss: 0.673022\n",
      "epoch 26; iter: 0; batch classifier loss: 0.446297; batch adversarial loss: 0.673972\n",
      "epoch 27; iter: 0; batch classifier loss: 0.432018; batch adversarial loss: 0.666892\n",
      "epoch 28; iter: 0; batch classifier loss: 0.493802; batch adversarial loss: 0.724736\n",
      "epoch 29; iter: 0; batch classifier loss: 0.453558; batch adversarial loss: 0.702421\n",
      "epoch 30; iter: 0; batch classifier loss: 0.479226; batch adversarial loss: 0.671655\n",
      "epoch 31; iter: 0; batch classifier loss: 0.388856; batch adversarial loss: 0.640756\n",
      "epoch 32; iter: 0; batch classifier loss: 0.502871; batch adversarial loss: 0.656080\n",
      "epoch 33; iter: 0; batch classifier loss: 0.407903; batch adversarial loss: 0.657810\n",
      "epoch 34; iter: 0; batch classifier loss: 0.473288; batch adversarial loss: 0.664267\n",
      "epoch 35; iter: 0; batch classifier loss: 0.367605; batch adversarial loss: 0.688375\n",
      "epoch 36; iter: 0; batch classifier loss: 0.477242; batch adversarial loss: 0.675300\n",
      "epoch 37; iter: 0; batch classifier loss: 0.430200; batch adversarial loss: 0.673478\n",
      "epoch 38; iter: 0; batch classifier loss: 0.513776; batch adversarial loss: 0.677724\n",
      "epoch 39; iter: 0; batch classifier loss: 0.410344; batch adversarial loss: 0.648406\n",
      "epoch 40; iter: 0; batch classifier loss: 0.419400; batch adversarial loss: 0.644255\n",
      "epoch 41; iter: 0; batch classifier loss: 0.467077; batch adversarial loss: 0.665279\n",
      "epoch 42; iter: 0; batch classifier loss: 0.449245; batch adversarial loss: 0.674231\n",
      "epoch 43; iter: 0; batch classifier loss: 0.413265; batch adversarial loss: 0.660878\n",
      "epoch 44; iter: 0; batch classifier loss: 0.433979; batch adversarial loss: 0.647083\n",
      "epoch 45; iter: 0; batch classifier loss: 0.462563; batch adversarial loss: 0.693245\n",
      "epoch 46; iter: 0; batch classifier loss: 0.473423; batch adversarial loss: 0.693241\n",
      "epoch 47; iter: 0; batch classifier loss: 0.409753; batch adversarial loss: 0.647008\n",
      "epoch 48; iter: 0; batch classifier loss: 0.505189; batch adversarial loss: 0.666792\n",
      "epoch 49; iter: 0; batch classifier loss: 0.527617; batch adversarial loss: 0.653918\n"
     ]
    },
    {
     "data": {
      "text/plain": [
       "<aif360.algorithms.inprocessing.adversarial_debiasing.AdversarialDebiasing at 0x1b6f4d07be0>"
      ]
     },
     "execution_count": 23,
     "metadata": {},
     "output_type": "execute_result"
    }
   ],
   "source": [
    "unbiased_model.fit(Taiwan_train_bld)"
   ]
  },
  {
   "cell_type": "code",
   "execution_count": 24,
   "metadata": {},
   "outputs": [],
   "source": [
    "Taiwan_unbiased_train = unbiased_model.predict(Taiwan_train_bld)\n",
    "Taiwan_unbiased_test  = unbiased_model.predict(Taiwan_test_bld)\n",
    "# And convert these to dataframes..\n",
    "Taiwan_train_df, d = Taiwan_unbiased_train.convert_to_dataframe(de_dummy_code=False, sep='=', set_category=False)\n",
    "Taiwan_test_df, d  = Taiwan_unbiased_test.convert_to_dataframe(de_dummy_code=False, sep='=', set_category=False)"
   ]
  },
  {
   "cell_type": "code",
   "execution_count": 25,
   "metadata": {},
   "outputs": [
    {
     "data": {
      "text/markdown": [
       "#### Plain model - after unbiasing - dataset metrics"
      ],
      "text/plain": [
       "<IPython.core.display.Markdown object>"
      ]
     },
     "metadata": {},
     "output_type": "display_data"
    },
    {
     "data": {
      "text/markdown": [
       "#### Biased training dataset"
      ],
      "text/plain": [
       "<IPython.core.display.Markdown object>"
      ]
     },
     "metadata": {},
     "output_type": "display_data"
    },
    {
     "name": "stdout",
     "output_type": "stream",
     "text": [
      "Number of instances           : 24000.0\n",
      "Base Rate                     : 0.8862916666666667\n",
      "Consistency                   : [0.97418333]\n",
      "Disparate Impact              : 1.0216160655965894\n",
      "Mean Difference               : 0.018910340741995713\n",
      "Statistical Parity Difference : 0.018910340741995713\n"
     ]
    },
    {
     "data": {
      "text/markdown": [
       "#### Biased test dataset"
      ],
      "text/plain": [
       "<IPython.core.display.Markdown object>"
      ]
     },
     "metadata": {},
     "output_type": "display_data"
    },
    {
     "name": "stdout",
     "output_type": "stream",
     "text": [
      "Number of instances           : 6000.0\n",
      "Base Rate                     : 0.9165\n",
      "Consistency                   : [0.96363333]\n",
      "Disparate Impact              : 1.0248736222391706\n",
      "Mean Difference               : 0.022464851271405073\n",
      "Statistical Parity Difference : 0.022464851271405073\n"
     ]
    }
   ],
   "source": [
    "# Metrics for the dataset from plain model (after unbiasing)\n",
    "display(Markdown(\"#### Plain model - after unbiasing - dataset metrics\"))\n",
    "metric_unbiased_train = BinaryLabelDatasetMetric(Taiwan_unbiased_train, \n",
    "                             unprivileged_groups=unprivileged_groups,\n",
    "                             privileged_groups=privileged_groups)\n",
    "\n",
    "metric_unbiased_test = BinaryLabelDatasetMetric(Taiwan_unbiased_test, \n",
    "                            unprivileged_groups=unprivileged_groups,\n",
    "                            privileged_groups=privileged_groups)\n",
    "display(Markdown(\"#### Biased training dataset\"))\n",
    "print('Number of instances           :', metric_unbiased_train.num_instances())\n",
    "print('Base Rate                     :', metric_unbiased_train.base_rate())\n",
    "print('Consistency                   :', metric_unbiased_train.consistency())\n",
    "print('Disparate Impact              :', metric_unbiased_train.disparate_impact())\n",
    "print('Mean Difference               :', metric_unbiased_train.mean_difference())\n",
    "print('Statistical Parity Difference :', metric_unbiased_train.statistical_parity_difference()) \n",
    "display(Markdown(\"#### Biased test dataset\"))\n",
    "print('Number of instances           :', metric_unbiased_test.num_instances())\n",
    "print('Base Rate                     :', metric_unbiased_test.base_rate())\n",
    "print('Consistency                   :', metric_unbiased_test.consistency())\n",
    "print('Disparate Impact              :', metric_unbiased_test.disparate_impact())\n",
    "print('Mean Difference               :', metric_unbiased_test.mean_difference())\n",
    "print('Statistical Parity Difference :', metric_unbiased_test.statistical_parity_difference()) "
   ]
  },
  {
   "cell_type": "code",
   "execution_count": 26,
   "metadata": {},
   "outputs": [],
   "source": [
    "# Create the Classification metric for train and test\n",
    "classified_metric_unbiased_train = ClassificationMetric(Taiwan_train_bld, Taiwan_unbiased_train,\n",
    "                                       unprivileged_groups=unprivileged_groups,\n",
    "                                       privileged_groups=privileged_groups)\n",
    "classified_metric_unbiased_test = ClassificationMetric(Taiwan_test_bld, Taiwan_unbiased_test,\n",
    "                                       unprivileged_groups=unprivileged_groups,\n",
    "                                       privileged_groups=privileged_groups)"
   ]
  },
  {
   "cell_type": "code",
   "execution_count": 27,
   "metadata": {},
   "outputs": [
    {
     "data": {
      "text/markdown": [
       "#### Plain model - after debiasing - classification metrics"
      ],
      "text/plain": [
       "<IPython.core.display.Markdown object>"
      ]
     },
     "metadata": {},
     "output_type": "display_data"
    },
    {
     "data": {
      "text/markdown": [
       "#### Unbiased training dataset - CLassification Metrics"
      ],
      "text/plain": [
       "<IPython.core.display.Markdown object>"
      ]
     },
     "metadata": {},
     "output_type": "display_data"
    },
    {
     "name": "stdout",
     "output_type": "stream",
     "text": [
      "Classification accuracy         = 0.8217083333333334\n",
      "Balanced classification accuracy= 0.6541044457398038\n",
      "Disparate impact                = 1.0216160655965894\n",
      "Equal opportunity difference    = 0.009511170030947369\n",
      "Average odds difference         = 0.009491339401270227\n",
      "Theil_index                     = 0.07689013172246865\n"
     ]
    },
    {
     "data": {
      "text/markdown": [
       "#### Unbiased test dataset - CLassification Metrics"
      ],
      "text/plain": [
       "<IPython.core.display.Markdown object>"
      ]
     },
     "metadata": {},
     "output_type": "display_data"
    },
    {
     "name": "stdout",
     "output_type": "stream",
     "text": [
      "Classification accuracy         = 0.8098333333333333\n",
      "Balanced classification accuracy= 0.6135576125353526\n",
      "Disparate impact                = 1.0248736222391706\n",
      "Equal opportunity difference    = 0.012324621499780308\n",
      "Average odds difference         = 0.011186765056565295\n",
      "Theil_index                     = 0.07024042650497817\n"
     ]
    }
   ],
   "source": [
    "display(Markdown(\"#### Plain model - after debiasing - classification metrics\"))\n",
    "display(Markdown(\"#### Unbiased training dataset - CLassification Metrics\"))\n",
    "TPR_train = classified_metric_unbiased_train.true_positive_rate()\n",
    "TNR_train = classified_metric_unbiased_train.true_negative_rate()\n",
    "bal_acc_unbiased_train = 0.5*(TPR_train + TNR_train)\n",
    "print('Classification accuracy         =', classified_metric_unbiased_train.accuracy())\n",
    "print('Balanced classification accuracy=', bal_acc_unbiased_train)\n",
    "print('Disparate impact                =', classified_metric_unbiased_train.disparate_impact())\n",
    "print('Equal opportunity difference    =', classified_metric_unbiased_train.equal_opportunity_difference())\n",
    "print('Average odds difference         =', classified_metric_unbiased_train.average_odds_difference())\n",
    "print('Theil_index                     =', classified_metric_unbiased_train.theil_index())\n",
    "\n",
    "display(Markdown(\"#### Unbiased test dataset - CLassification Metrics\"))\n",
    "TPR_test = classified_metric_unbiased_test.true_positive_rate()\n",
    "TNR_test = classified_metric_unbiased_test.true_negative_rate()\n",
    "bal_acc_unbiased_test = 0.5*(TPR_test+TNR_test)\n",
    "print('Classification accuracy         =', classified_metric_unbiased_test.accuracy())\n",
    "print('Balanced classification accuracy=', bal_acc_unbiased_test)\n",
    "print('Disparate impact                =', classified_metric_unbiased_test.disparate_impact())\n",
    "print('Equal opportunity difference    =', classified_metric_unbiased_test.equal_opportunity_difference())\n",
    "print('Average odds difference         =', classified_metric_unbiased_test.average_odds_difference())\n",
    "print('Theil_index                     =', classified_metric_unbiased_test.theil_index())"
   ]
  },
  {
   "cell_type": "code",
   "execution_count": 28,
   "metadata": {},
   "outputs": [
    {
     "name": "stdout",
     "output_type": "stream",
     "text": [
      "Model Accuracy for Log Reg and RFC after bias transformation:\n",
      "Biased Logistic regression validation accuracy: 0.9695\n",
      "Biased Random Forest       validation accuracy: 0.9746666666666667\n",
      "\n",
      "Biased Balanced accuracy\n",
      "Biased Logistic regression balanced accuracy  : 0.9706615138517292\n",
      "Biased Random Forest       balanced accuracy  : 0.9136130357942054\n"
     ]
    }
   ],
   "source": [
    "# Determine the after-transformation model accuracy for Logistic Regression and Random Forest Classifiers\n",
    "X_train = Taiwan_train_df.drop(lab,axis=1)\n",
    "y_train = Taiwan_train_df[lab]\n",
    "X_test  = Taiwan_test_df.drop(lab,axis=1)\n",
    "y_test  = Taiwan_test_df[lab]\n",
    "\n",
    "UnbiasedLogModel = LogisticRegression(random_state=101)\n",
    "UnbiasedRfcModel = RandomForestClassifier(n_estimators=100,max_depth=4,random_state=101)\n",
    "UnbiasedLogModel.fit(X_train, y_train) \n",
    "UnbiasedRfcModel.fit(X_train, y_train) \n",
    "UnbiasedLog_pred = UnbiasedLogModel.predict(X_test)\n",
    "UnbiasedRfc_pred = UnbiasedRfcModel.predict(X_test)\n",
    "\n",
    "# Now get Logistic Regression and Random Forest Clasisfication performancce of unbiased data\n",
    "print('Model Accuracy for Log Reg and RFC after bias transformation:')\n",
    "print(f\"Biased Logistic regression validation accuracy: {UnbiasedLogModel.score(X_test, y_test)}\")\n",
    "print(f\"Biased Random Forest       validation accuracy: {UnbiasedRfcModel.score(X_test, y_test)}\")\n",
    "print('')\n",
    "print('Biased Balanced accuracy')\n",
    "print(f\"Biased Logistic regression balanced accuracy  : {balanced_accuracy_score(y_test, UnbiasedLog_pred)}\")\n",
    "print(f\"Biased Random Forest       balanced accuracy  : {balanced_accuracy_score(y_test, UnbiasedRfc_pred)}\")"
   ]
  },
  {
   "cell_type": "code",
   "execution_count": 29,
   "metadata": {},
   "outputs": [
    {
     "name": "stdout",
     "output_type": "stream",
     "text": [
      "Model Accuracy for predicting the Sensitive Variable after bias transformation:\n",
      "Biased Logistic regression validation accuracy: 0.5945\n",
      "Biased Random Forest       validation accuracy: 0.5996666666666667\n",
      "\n",
      "Biased Balanced accuracy\n",
      "Biased Logistic regression balanced accuracy  : 0.5178085279207226\n",
      "Biased Random Forest       balanced accuracy  : 0.5084129032822755\n"
     ]
    }
   ],
   "source": [
    "# Finally test whether it is possible to predict the Sensitive Variable from the transformed dataset\n",
    "X_se_train = Taiwan_train_df.drop(protected_attr,axis=1)\n",
    "y_se_train = Taiwan_train_df[protected_attr]\n",
    "X_se_test  = Taiwan_test_df.drop(protected_attr,axis=1)\n",
    "y_se_test  = Taiwan_test_df[protected_attr]\n",
    "\n",
    "Se_BiasedLogModel = LogisticRegression(random_state=101)\n",
    "Se_BiasedRfcModel = RandomForestClassifier(n_estimators=100,max_depth=4,random_state=101)\n",
    "Se_BiasedLogModel.fit(X_se_train, y_se_train) \n",
    "Se_BiasedRfcModel.fit(X_se_train, y_se_train) \n",
    "yseLog_pred =  Se_BiasedLogModel.predict(X_se_test)\n",
    "yseRfc_pred =  Se_BiasedRfcModel.predict(X_se_test)\n",
    "\n",
    "# Now test whether we can predict the protected_attr from the test dataset\n",
    "print('Model Accuracy for predicting the Sensitive Variable after bias transformation:')\n",
    "print(f\"Biased Logistic regression validation accuracy: {Se_BiasedLogModel.score(X_se_test, y_se_test)}\")\n",
    "print(f\"Biased Random Forest       validation accuracy: {Se_BiasedRfcModel.score(X_se_test, y_se_test)}\")\n",
    "print('')\n",
    "print('Biased Balanced accuracy')\n",
    "print(f\"Biased Logistic regression balanced accuracy  : {balanced_accuracy_score(y_se_test, yseLog_pred)}\")\n",
    "print(f\"Biased Random Forest       balanced accuracy  : {balanced_accuracy_score(y_se_test, yseRfc_pred)}\")"
   ]
  },
  {
   "cell_type": "code",
   "execution_count": 30,
   "metadata": {},
   "outputs": [
    {
     "name": "stdout",
     "output_type": "stream",
     "text": [
      "Predicted Training After - DEFAULT value counts:\n",
      "1.0    21271\n",
      "0.0     2729\n",
      "Name: DEFAULT, dtype: int64\n",
      "Predicted Training After - GENDER value counts:\n",
      "0.0    14549\n",
      "1.0     9451\n",
      "Name: GENDER, dtype: int64\n"
     ]
    }
   ],
   "source": [
    "print('Predicted Training After - DEFAULT value counts:')\n",
    "print(Taiwan_train_df.DEFAULT.value_counts())\n",
    "print('Predicted Training After - GENDER value counts:')\n",
    "print(Taiwan_train_df.GENDER.value_counts())"
   ]
  },
  {
   "cell_type": "code",
   "execution_count": 31,
   "metadata": {
    "scrolled": true
   },
   "outputs": [
    {
     "name": "stdout",
     "output_type": "stream",
     "text": [
      "Predicted Test After - DEFAULT value counts:\n",
      "1.0    5499\n",
      "0.0     501\n",
      "Name: DEFAULT, dtype: int64\n",
      "Predicted Test After - GENDER value counts:\n",
      "0.0    3563\n",
      "1.0    2437\n",
      "Name: GENDER, dtype: int64\n"
     ]
    }
   ],
   "source": [
    "print('Predicted Test After - DEFAULT value counts:')\n",
    "print(Taiwan_test_df.DEFAULT.value_counts())\n",
    "print('Predicted Test After - GENDER value counts:')\n",
    "print(Taiwan_test_df.GENDER.value_counts())"
   ]
  }
 ],
 "metadata": {
  "kernelspec": {
   "display_name": "Python 3",
   "language": "python",
   "name": "python3"
  },
  "language_info": {
   "codemirror_mode": {
    "name": "ipython",
    "version": 3
   },
   "file_extension": ".py",
   "mimetype": "text/x-python",
   "name": "python",
   "nbconvert_exporter": "python",
   "pygments_lexer": "ipython3",
   "version": "3.7.3"
  }
 },
 "nbformat": 4,
 "nbformat_minor": 2
}
