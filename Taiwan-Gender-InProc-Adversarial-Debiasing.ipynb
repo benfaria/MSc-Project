{
 "cells": [
  {
   "cell_type": "code",
   "execution_count": 1,
   "metadata": {},
   "outputs": [],
   "source": [
    "# To be run after Adult-Data-Prep\n",
    "# Import Data handling/display libraries\n",
    "import sys\n",
    "import pandas as pd\n",
    "import numpy  as np \n",
    "import matplotlib.pyplot as plt\n",
    "import tensorflow as tf\n",
    "from sklearn.model_selection import train_test_split\n",
    "from sklearn.ensemble      import RandomForestClassifier\n",
    "from sklearn.linear_model  import LogisticRegression\n",
    "from sklearn.preprocessing import StandardScaler, MinMaxScaler\n",
    "from sklearn.metrics       import accuracy_score\n",
    "from sklearn.metrics       import balanced_accuracy_score\n",
    "from sklearn.metrics       import auc, roc_auc_score, roc_curve, classification_report, confusion_matrix\n",
    "from IPython.display       import Markdown, display\n",
    "# Import IBM's AI Fairness tooolbox\n",
    "from aif360.datasets       import BinaryLabelDataset\n",
    "from aif360.metrics        import BinaryLabelDatasetMetric\n",
    "from aif360.metrics        import ClassificationMetric\n",
    "from aif360.metrics.utils  import compute_boolean_conditioning_vector\n",
    "#from aif360.algorithms.preprocessing.optim_preproc_helpers.data_preproc_functions import load_preproc_data_adult, load_preproc_data_compas, load_preproc_data_german\n",
    "from aif360.algorithms.inprocessing.adversarial_debiasing import AdversarialDebiasing\n",
    "%matplotlib inline\n",
    "# Warnings will be used to silence various model warnings for tidier output\n",
    "import warnings\n",
    "warnings.filterwarnings('ignore')"
   ]
  },
  {
   "cell_type": "code",
   "execution_count": 2,
   "metadata": {},
   "outputs": [],
   "source": [
    "# Read the cleaned Taiwan-Credit-Card-Cleaned-Marriage dataset\n",
    "Taiwan_df = pd.read_csv('./input/Taiwan-Credit-Card-Cleaned-Gender.csv')"
   ]
  },
  {
   "cell_type": "code",
   "execution_count": 3,
   "metadata": {},
   "outputs": [],
   "source": [
    "# Set privileged (1)/ unprivileged (0)/ favourable (1) / unfavourable values (0)\n",
    "protected_attr      = 'GENDER'\n",
    "priv_grp            = 1  # Males \n",
    "unpriv_grp          = 0  # Females  \n",
    "lab                 = 'DEFAULT'\n",
    "fav_label           = 1 # Will not default next month\n",
    "unfav_label         = 0 # Will default next month\n",
    "privileged_groups   = [{protected_attr: priv_grp}]   # Males\n",
    "unprivileged_groups = [{protected_attr: unpriv_grp}] # Females"
   ]
  },
  {
   "cell_type": "code",
   "execution_count": 4,
   "metadata": {},
   "outputs": [],
   "source": [
    "# Create the traoning and test splits\n",
    "X = Taiwan_df.drop(lab,axis=1)\n",
    "y = Taiwan_df[lab]"
   ]
  },
  {
   "cell_type": "code",
   "execution_count": 5,
   "metadata": {},
   "outputs": [],
   "source": [
    "# Create a Binary Label Dataset to use with AIF360 APIs\n",
    "Taiwan_bld = BinaryLabelDataset(df=pd.concat((X, y), axis=1),\n",
    "                                label_names=[lab], protected_attribute_names=[protected_attr],\n",
    "                                favorable_label=fav_label, unfavorable_label=unfav_label)"
   ]
  },
  {
   "cell_type": "code",
   "execution_count": 6,
   "metadata": {},
   "outputs": [],
   "source": [
    "# Create train and test datasets\n",
    "Taiwan_train_bld, Taiwan_test_bld = Taiwan_bld.split([0.8], shuffle=True)"
   ]
  },
  {
   "cell_type": "code",
   "execution_count": 7,
   "metadata": {},
   "outputs": [],
   "source": [
    "#Scale the binary labelled datasets\n",
    "min_max_scaler = MinMaxScaler()\n",
    "Taiwan_train_bld.features = min_max_scaler.fit_transform(Taiwan_train_bld.features)\n",
    "Taiwan_test_bld.features  = min_max_scaler.fit_transform(Taiwan_test_bld.features)"
   ]
  },
  {
   "cell_type": "code",
   "execution_count": 8,
   "metadata": {},
   "outputs": [],
   "source": [
    "# Convert the train and test datasets to dataframes\n",
    "Taiwan_train_df, d = Taiwan_train_bld.convert_to_dataframe(de_dummy_code=False, sep='=', set_category=False)\n",
    "Taiwan_test_df,  d = Taiwan_test_bld.convert_to_dataframe(de_dummy_code=False, sep='=', set_category=False)"
   ]
  },
  {
   "cell_type": "code",
   "execution_count": 9,
   "metadata": {},
   "outputs": [
    {
     "name": "stdout",
     "output_type": "stream",
     "text": [
      "Biased Logistic regression validation accuracy: 0.8216666666666667\n",
      "Biased Random Forest       validation accuracy: 0.8121666666666667\n",
      "\n",
      "Biased Logistic regression balanced accuracy  : 0.6470951939311788\n",
      "Biased Random forest balanced accuracy        : 0.6002443461511022\n"
     ]
    }
   ],
   "source": [
    "# Determine the baseline model accuracy for Logistic Regression and Random Forest Classifiers\n",
    "X_train = Taiwan_train_df.drop(lab,axis=1)\n",
    "y_train = Taiwan_train_df[lab]\n",
    "X_test  = Taiwan_test_df.drop(lab,axis=1)\n",
    "y_test  = Taiwan_test_df[lab]\n",
    "BiasedLogModel = LogisticRegression(random_state=101)\n",
    "BiasedRfcModel = RandomForestClassifier(n_estimators=100,max_depth=4,random_state=101)\n",
    "BiasedLogModel.fit(X_train, y_train) \n",
    "BiasedRfcModel.fit(X_train, y_train)\n",
    "BiasedLogPredictions = BiasedLogModel.predict(X_test)\n",
    "BiasedRfcPredictions = BiasedRfcModel.predict(X_test)\n",
    "print(f\"Biased Logistic regression validation accuracy: {BiasedLogModel.score(X_test, y_test)}\")\n",
    "print(f\"Biased Random Forest       validation accuracy: {BiasedRfcModel.score(X_test, y_test)}\")\n",
    "print('')\n",
    "print(f\"Biased Logistic regression balanced accuracy  : {balanced_accuracy_score(y_test, BiasedLogPredictions)}\")\n",
    "print(f\"Biased Random forest balanced accuracy        : {balanced_accuracy_score(y_test, BiasedRfcPredictions)}\")"
   ]
  },
  {
   "cell_type": "code",
   "execution_count": 10,
   "metadata": {},
   "outputs": [
    {
     "name": "stdout",
     "output_type": "stream",
     "text": [
      "Training Before - DEFAULT value counts:\n",
      "1.0    18648\n",
      "0.0     5352\n",
      "Name: DEFAULT, dtype: int64\n",
      "Training Before - GENDER value counts:\n",
      "0.0    14443\n",
      "1.0     9557\n",
      "Name: GENDER, dtype: int64\n"
     ]
    }
   ],
   "source": [
    "print('Training Before - DEFAULT value counts:')\n",
    "print(Taiwan_train_df.DEFAULT.value_counts())\n",
    "print('Training Before - GENDER value counts:')\n",
    "print(Taiwan_train_df.GENDER.value_counts())"
   ]
  },
  {
   "cell_type": "code",
   "execution_count": 11,
   "metadata": {},
   "outputs": [
    {
     "name": "stdout",
     "output_type": "stream",
     "text": [
      "Test Before - DEFAULT value counts:\n",
      "1.0    4716\n",
      "0.0    1284\n",
      "Name: DEFAULT, dtype: int64\n",
      "Test Before - GENDER value counts:\n",
      "0.0    3669\n",
      "1.0    2331\n",
      "Name: GENDER, dtype: int64\n"
     ]
    }
   ],
   "source": [
    "print('Test Before - DEFAULT value counts:')\n",
    "print(Taiwan_test_df.DEFAULT.value_counts())\n",
    "print('Test Before - GENDER value counts:')\n",
    "print(Taiwan_test_df.GENDER.value_counts())"
   ]
  },
  {
   "cell_type": "code",
   "execution_count": 12,
   "metadata": {},
   "outputs": [],
   "source": [
    "# Create the binary label dataset metric class for the training dataset\n",
    "metric_train_bld = BinaryLabelDatasetMetric(Taiwan_train_bld, \n",
    "                                            unprivileged_groups=unprivileged_groups,\n",
    "                                            privileged_groups=privileged_groups)\n",
    "metric_test_bld = BinaryLabelDatasetMetric(Taiwan_test_bld, \n",
    "                                           unprivileged_groups=unprivileged_groups,\n",
    "                                           privileged_groups=privileged_groups)"
   ]
  },
  {
   "cell_type": "code",
   "execution_count": 13,
   "metadata": {},
   "outputs": [
    {
     "data": {
      "text/markdown": [
       "#### Orig training dataset"
      ],
      "text/plain": [
       "<IPython.core.display.Markdown object>"
      ]
     },
     "metadata": {},
     "output_type": "display_data"
    },
    {
     "name": "stdout",
     "output_type": "stream",
     "text": [
      "Number of instances           : 24000.0\n",
      "Base Rate                     : 0.777\n",
      "Consistency                   : [0.78123333]\n",
      "Disparate Impact              : 1.040995516689795\n",
      "Mean Difference               : 0.03108658673756881\n",
      "Statistical Parity Difference : 0.03108658673756881\n"
     ]
    },
    {
     "data": {
      "text/markdown": [
       "#### Orig test dataset"
      ],
      "text/plain": [
       "<IPython.core.display.Markdown object>"
      ]
     },
     "metadata": {},
     "output_type": "display_data"
    },
    {
     "name": "stdout",
     "output_type": "stream",
     "text": [
      "Number of instances           : 6000.0\n",
      "Base Rate                     : 0.786\n",
      "Consistency                   : [0.78736667]\n",
      "Disparate Impact              : 1.0593507545794594\n",
      "Mean Difference               : 0.0450159305433222\n",
      "Statistical Parity Difference : 0.0450159305433222\n"
     ]
    }
   ],
   "source": [
    "display(Markdown(\"#### Orig training dataset\"))\n",
    "print('Number of instances           :', metric_train_bld.num_instances())\n",
    "print('Base Rate                     :', metric_train_bld.base_rate())\n",
    "print('Consistency                   :', metric_train_bld.consistency())\n",
    "print('Disparate Impact              :', metric_train_bld.disparate_impact())\n",
    "print('Mean Difference               :', metric_train_bld.mean_difference())\n",
    "print('Statistical Parity Difference :', metric_train_bld.statistical_parity_difference()) \n",
    "display(Markdown(\"#### Orig test dataset\"))\n",
    "print('Number of instances           :', metric_test_bld.num_instances())\n",
    "print('Base Rate                     :', metric_test_bld.base_rate())\n",
    "print('Consistency                   :', metric_test_bld.consistency())\n",
    "print('Disparate Impact              :', metric_test_bld.disparate_impact())\n",
    "print('Mean Difference               :', metric_test_bld.mean_difference())\n",
    "print('Statistical Parity Difference :', metric_test_bld.statistical_parity_difference()) "
   ]
  },
  {
   "cell_type": "code",
   "execution_count": 14,
   "metadata": {},
   "outputs": [],
   "source": [
    "# Load post-processing algorithm that equalizes the odds\n",
    "# Learn parameters with debias set to FALSE!\n",
    "sess = tf.Session()\n",
    "biased_model = AdversarialDebiasing(privileged_groups = privileged_groups,\n",
    "                          unprivileged_groups = unprivileged_groups,\n",
    "                          scope_name='plain_classifier',\n",
    "                          debias=False,\n",
    "                          sess=sess)"
   ]
  },
  {
   "cell_type": "code",
   "execution_count": 15,
   "metadata": {},
   "outputs": [
    {
     "name": "stderr",
     "output_type": "stream",
     "text": [
      "WARNING: Logging before flag parsing goes to stderr.\n",
      "W0831 16:47:20.490764 19292 deprecation_wrapper.py:119] From c:\\users\\befaria\\appdata\\local\\continuum\\miniconda3\\lib\\site-packages\\aif360\\algorithms\\inprocessing\\adversarial_debiasing.py:138: The name tf.variable_scope is deprecated. Please use tf.compat.v1.variable_scope instead.\n",
      "\n",
      "W0831 16:47:20.498808 19292 deprecation_wrapper.py:119] From c:\\users\\befaria\\appdata\\local\\continuum\\miniconda3\\lib\\site-packages\\aif360\\algorithms\\inprocessing\\adversarial_debiasing.py:142: The name tf.placeholder is deprecated. Please use tf.compat.v1.placeholder instead.\n",
      "\n",
      "W0831 16:47:20.512083 19292 deprecation_wrapper.py:119] From c:\\users\\befaria\\appdata\\local\\continuum\\miniconda3\\lib\\site-packages\\aif360\\algorithms\\inprocessing\\adversarial_debiasing.py:87: The name tf.get_variable is deprecated. Please use tf.compat.v1.get_variable instead.\n",
      "\n",
      "W0831 16:47:22.573667 19292 lazy_loader.py:50] \n",
      "The TensorFlow contrib module will not be included in TensorFlow 2.0.\n",
      "For more information, please see:\n",
      "  * https://github.com/tensorflow/community/blob/master/rfcs/20180907-contrib-sunset.md\n",
      "  * https://github.com/tensorflow/addons\n",
      "  * https://github.com/tensorflow/io (for I/O related ops)\n",
      "If you depend on functionality not listed there, please file an issue.\n",
      "\n",
      "W0831 16:47:22.616886 19292 deprecation.py:506] From c:\\users\\befaria\\appdata\\local\\continuum\\miniconda3\\lib\\site-packages\\aif360\\algorithms\\inprocessing\\adversarial_debiasing.py:92: calling dropout (from tensorflow.python.ops.nn_ops) with keep_prob is deprecated and will be removed in a future version.\n",
      "Instructions for updating:\n",
      "Please use `rate` instead of `keep_prob`. Rate should be set to `rate = 1 - keep_prob`.\n",
      "W0831 16:47:22.700451 19292 deprecation.py:323] From c:\\users\\befaria\\appdata\\local\\continuum\\miniconda3\\lib\\site-packages\\tensorflow\\python\\ops\\nn_impl.py:180: add_dispatch_support.<locals>.wrapper (from tensorflow.python.ops.array_ops) is deprecated and will be removed in a future version.\n",
      "Instructions for updating:\n",
      "Use tf.where in 2.0, which has the same broadcast rule as np.where\n",
      "W0831 16:47:22.730811 19292 deprecation_wrapper.py:119] From c:\\users\\befaria\\appdata\\local\\continuum\\miniconda3\\lib\\site-packages\\aif360\\algorithms\\inprocessing\\adversarial_debiasing.py:160: The name tf.train.exponential_decay is deprecated. Please use tf.compat.v1.train.exponential_decay instead.\n",
      "\n",
      "W0831 16:47:22.752476 19292 deprecation_wrapper.py:119] From c:\\users\\befaria\\appdata\\local\\continuum\\miniconda3\\lib\\site-packages\\aif360\\algorithms\\inprocessing\\adversarial_debiasing.py:162: The name tf.train.AdamOptimizer is deprecated. Please use tf.compat.v1.train.AdamOptimizer instead.\n",
      "\n",
      "W0831 16:47:22.754186 19292 deprecation_wrapper.py:119] From c:\\users\\befaria\\appdata\\local\\continuum\\miniconda3\\lib\\site-packages\\aif360\\algorithms\\inprocessing\\adversarial_debiasing.py:166: The name tf.trainable_variables is deprecated. Please use tf.compat.v1.trainable_variables instead.\n",
      "\n",
      "W0831 16:47:23.102089 19292 deprecation_wrapper.py:119] From c:\\users\\befaria\\appdata\\local\\continuum\\miniconda3\\lib\\site-packages\\aif360\\algorithms\\inprocessing\\adversarial_debiasing.py:187: The name tf.global_variables_initializer is deprecated. Please use tf.compat.v1.global_variables_initializer instead.\n",
      "\n"
     ]
    },
    {
     "name": "stdout",
     "output_type": "stream",
     "text": [
      "epoch 0; iter: 0; batch classifier loss: 0.663917\n",
      "epoch 1; iter: 0; batch classifier loss: 0.449005\n",
      "epoch 2; iter: 0; batch classifier loss: 0.497912\n",
      "epoch 3; iter: 0; batch classifier loss: 0.416388\n",
      "epoch 4; iter: 0; batch classifier loss: 0.482037\n",
      "epoch 5; iter: 0; batch classifier loss: 0.531882\n",
      "epoch 6; iter: 0; batch classifier loss: 0.441385\n",
      "epoch 7; iter: 0; batch classifier loss: 0.454006\n",
      "epoch 8; iter: 0; batch classifier loss: 0.388343\n",
      "epoch 9; iter: 0; batch classifier loss: 0.488100\n",
      "epoch 10; iter: 0; batch classifier loss: 0.396346\n",
      "epoch 11; iter: 0; batch classifier loss: 0.488882\n",
      "epoch 12; iter: 0; batch classifier loss: 0.364399\n",
      "epoch 13; iter: 0; batch classifier loss: 0.485268\n",
      "epoch 14; iter: 0; batch classifier loss: 0.488213\n",
      "epoch 15; iter: 0; batch classifier loss: 0.412113\n",
      "epoch 16; iter: 0; batch classifier loss: 0.445931\n",
      "epoch 17; iter: 0; batch classifier loss: 0.394253\n",
      "epoch 18; iter: 0; batch classifier loss: 0.449528\n",
      "epoch 19; iter: 0; batch classifier loss: 0.513021\n",
      "epoch 20; iter: 0; batch classifier loss: 0.443331\n",
      "epoch 21; iter: 0; batch classifier loss: 0.472581\n",
      "epoch 22; iter: 0; batch classifier loss: 0.458233\n",
      "epoch 23; iter: 0; batch classifier loss: 0.368647\n",
      "epoch 24; iter: 0; batch classifier loss: 0.444199\n",
      "epoch 25; iter: 0; batch classifier loss: 0.434120\n",
      "epoch 26; iter: 0; batch classifier loss: 0.455582\n",
      "epoch 27; iter: 0; batch classifier loss: 0.403776\n",
      "epoch 28; iter: 0; batch classifier loss: 0.468257\n",
      "epoch 29; iter: 0; batch classifier loss: 0.413125\n",
      "epoch 30; iter: 0; batch classifier loss: 0.400490\n",
      "epoch 31; iter: 0; batch classifier loss: 0.504286\n",
      "epoch 32; iter: 0; batch classifier loss: 0.378374\n",
      "epoch 33; iter: 0; batch classifier loss: 0.481790\n",
      "epoch 34; iter: 0; batch classifier loss: 0.446080\n",
      "epoch 35; iter: 0; batch classifier loss: 0.364796\n",
      "epoch 36; iter: 0; batch classifier loss: 0.451759\n",
      "epoch 37; iter: 0; batch classifier loss: 0.468722\n",
      "epoch 38; iter: 0; batch classifier loss: 0.375157\n",
      "epoch 39; iter: 0; batch classifier loss: 0.343455\n",
      "epoch 40; iter: 0; batch classifier loss: 0.464707\n",
      "epoch 41; iter: 0; batch classifier loss: 0.459266\n",
      "epoch 42; iter: 0; batch classifier loss: 0.329253\n",
      "epoch 43; iter: 0; batch classifier loss: 0.519918\n",
      "epoch 44; iter: 0; batch classifier loss: 0.503585\n",
      "epoch 45; iter: 0; batch classifier loss: 0.425247\n",
      "epoch 46; iter: 0; batch classifier loss: 0.422160\n",
      "epoch 47; iter: 0; batch classifier loss: 0.338407\n",
      "epoch 48; iter: 0; batch classifier loss: 0.531093\n",
      "epoch 49; iter: 0; batch classifier loss: 0.397180\n"
     ]
    },
    {
     "data": {
      "text/plain": [
       "<aif360.algorithms.inprocessing.adversarial_debiasing.AdversarialDebiasing at 0x1d6bff46cc0>"
      ]
     },
     "execution_count": 15,
     "metadata": {},
     "output_type": "execute_result"
    }
   ],
   "source": [
    "biased_model.fit(Taiwan_train_bld)"
   ]
  },
  {
   "cell_type": "code",
   "execution_count": 16,
   "metadata": {},
   "outputs": [],
   "source": [
    "# Apply the plain model to test data\n",
    "Taiwan_biased_train = biased_model.predict(Taiwan_train_bld)\n",
    "Taiwan_biased_test  = biased_model.predict(Taiwan_test_bld)\n",
    "# And convert them to dataframes\n",
    "Taiwan_train_df, d = Taiwan_biased_train.convert_to_dataframe(de_dummy_code=False, sep='=', set_category=False)\n",
    "Taiwan_test_df, d  = Taiwan_biased_test.convert_to_dataframe(de_dummy_code=False, sep='=', set_category=False)"
   ]
  },
  {
   "cell_type": "code",
   "execution_count": 17,
   "metadata": {},
   "outputs": [
    {
     "name": "stdout",
     "output_type": "stream",
     "text": [
      "Model Accuracy for predicting the Sensitive Variable before bias transformation:\n",
      "Biased Logistic regression validation accuracy: 0.6143333333333333\n",
      "Biased Random Forest       validation accuracy: 0.6151666666666666\n",
      "\n",
      "Biased Balanced accuracy\n",
      "Biased Logistic regression balanced accuracy  : 0.5303988721813743\n",
      "Biased Random Forest       balanced accuracy  : 0.5112115386031985\n"
     ]
    }
   ],
   "source": [
    "# Test whether it is possible to predict the Sensitive Variable from the whole original dataset\n",
    "X_se_train = Taiwan_train_df.drop(protected_attr,axis=1)\n",
    "y_se_train = Taiwan_train_df[protected_attr]\n",
    "X_se_test  = Taiwan_test_df.drop(protected_attr,axis=1)\n",
    "y_se_test  = Taiwan_test_df[protected_attr]\n",
    "\n",
    "Se_BiasedLogModel = LogisticRegression(random_state=101)\n",
    "Se_BiasedRfcModel = RandomForestClassifier(n_estimators=100,max_depth=4,random_state=101)\n",
    "Se_BiasedLogModel.fit(X_se_train, y_se_train) \n",
    "Se_BiasedRfcModel.fit(X_se_train, y_se_train) \n",
    "yseLog_pred =  Se_BiasedLogModel.predict(X_se_test)\n",
    "yseRfc_pred =  Se_BiasedRfcModel.predict(X_se_test)\n",
    "# Now test whether we can predict Gender from the test dataset\n",
    "print('Model Accuracy for predicting the Sensitive Variable before bias transformation:')\n",
    "print(f\"Biased Logistic regression validation accuracy: {Se_BiasedLogModel.score(X_se_test, y_se_test)}\")\n",
    "print(f\"Biased Random Forest       validation accuracy: {Se_BiasedRfcModel.score(X_se_test, y_se_test)}\")\n",
    "print('')\n",
    "print('Biased Balanced accuracy')\n",
    "print(f\"Biased Logistic regression balanced accuracy  : {balanced_accuracy_score(y_se_test, yseLog_pred)}\")\n",
    "print(f\"Biased Random Forest       balanced accuracy  : {balanced_accuracy_score(y_se_test, yseRfc_pred)}\")"
   ]
  },
  {
   "cell_type": "code",
   "execution_count": 18,
   "metadata": {},
   "outputs": [
    {
     "data": {
      "text/markdown": [
       "#### Plain model - without debiasing - dataset metrics"
      ],
      "text/plain": [
       "<IPython.core.display.Markdown object>"
      ]
     },
     "metadata": {},
     "output_type": "display_data"
    },
    {
     "data": {
      "text/markdown": [
       "#### Biased training dataset"
      ],
      "text/plain": [
       "<IPython.core.display.Markdown object>"
      ]
     },
     "metadata": {},
     "output_type": "display_data"
    },
    {
     "name": "stdout",
     "output_type": "stream",
     "text": [
      "Number of instances           : 24000.0\n",
      "Base Rate                     : 0.878375\n",
      "Consistency                   : [0.973]\n",
      "Disparate Impact              : 1.0359216728817544\n",
      "Mean Difference               : 0.030885046151446716\n",
      "Statistical Parity Difference : 0.030885046151446716\n"
     ]
    },
    {
     "data": {
      "text/markdown": [
       "#### Biased test dataset"
      ],
      "text/plain": [
       "<IPython.core.display.Markdown object>"
      ]
     },
     "metadata": {},
     "output_type": "display_data"
    },
    {
     "name": "stdout",
     "output_type": "stream",
     "text": [
      "Number of instances           : 6000.0\n",
      "Base Rate                     : 0.8368333333333333\n",
      "Consistency                   : [0.9484]\n",
      "Disparate Impact              : 1.0668950941183348\n",
      "Mean Difference               : 0.053780097116155945\n",
      "Statistical Parity Difference : 0.053780097116155945\n"
     ]
    }
   ],
   "source": [
    "# Metrics for the dataset from plain model (without debiasing)\n",
    "display(Markdown(\"#### Plain model - without debiasing - dataset metrics\"))\n",
    "metric_biased_train = BinaryLabelDatasetMetric(Taiwan_biased_train, \n",
    "                             unprivileged_groups=unprivileged_groups,\n",
    "                             privileged_groups=privileged_groups)\n",
    "\n",
    "metric_biased_test = BinaryLabelDatasetMetric(Taiwan_biased_test, \n",
    "                            unprivileged_groups=unprivileged_groups,\n",
    "                            privileged_groups=privileged_groups)\n",
    "display(Markdown(\"#### Biased training dataset\"))\n",
    "print('Number of instances           :', metric_biased_train.num_instances())\n",
    "print('Base Rate                     :', metric_biased_train.base_rate())\n",
    "print('Consistency                   :', metric_biased_train.consistency())\n",
    "print('Disparate Impact              :', metric_biased_train.disparate_impact())\n",
    "print('Mean Difference               :', metric_biased_train.mean_difference())\n",
    "print('Statistical Parity Difference :', metric_biased_train.statistical_parity_difference()) \n",
    "display(Markdown(\"#### Biased test dataset\"))\n",
    "print('Number of instances           :', metric_biased_test.num_instances())\n",
    "print('Base Rate                     :', metric_biased_test.base_rate())\n",
    "print('Consistency                   :', metric_biased_test.consistency())\n",
    "print('Disparate Impact              :', metric_biased_test.disparate_impact())\n",
    "print('Mean Difference               :', metric_biased_test.mean_difference())\n",
    "print('Statistical Parity Difference :', metric_biased_test.statistical_parity_difference()) "
   ]
  },
  {
   "cell_type": "code",
   "execution_count": 19,
   "metadata": {},
   "outputs": [],
   "source": [
    "# Create the Classification metric for train and test\n",
    "classified_metric_biased_test = ClassificationMetric(Taiwan_train_bld, Taiwan_biased_train,\n",
    "                                       unprivileged_groups=unprivileged_groups,\n",
    "                                       privileged_groups=privileged_groups)\n",
    "classified_metric_biased_train = ClassificationMetric(Taiwan_test_bld, Taiwan_biased_test,\n",
    "                                       unprivileged_groups=unprivileged_groups,\n",
    "                                       privileged_groups=privileged_groups)"
   ]
  },
  {
   "cell_type": "code",
   "execution_count": 20,
   "metadata": {},
   "outputs": [
    {
     "data": {
      "text/markdown": [
       "#### Plain model - without debiasing - classification metrics"
      ],
      "text/plain": [
       "<IPython.core.display.Markdown object>"
      ]
     },
     "metadata": {},
     "output_type": "display_data"
    },
    {
     "data": {
      "text/markdown": [
       "#### Biased training dataset - CLassification Metrics"
      ],
      "text/plain": [
       "<IPython.core.display.Markdown object>"
      ]
     },
     "metadata": {},
     "output_type": "display_data"
    },
    {
     "name": "stdout",
     "output_type": "stream",
     "text": [
      "Classification accuracy         = 0.8191666666666667\n",
      "Balanced classification accuracy= 0.6880127702076051\n",
      "Disparate impact                = 1.0668950941183348\n",
      "Equal opportunity difference    = 0.026955923795256576\n",
      "Average odds difference         = 0.04944167915434938\n",
      "Theil_index                     = 0.10322769425658443\n"
     ]
    },
    {
     "data": {
      "text/markdown": [
       "#### Biased test dataset - CLassification Metrics"
      ],
      "text/plain": [
       "<IPython.core.display.Markdown object>"
      ]
     },
     "metadata": {},
     "output_type": "display_data"
    },
    {
     "name": "stdout",
     "output_type": "stream",
     "text": [
      "Classification accuracy         = 0.8207083333333334\n",
      "Balanced classification accuracy= 0.6602815579833516\n",
      "Disparate impact                = 1.0359216728817544\n",
      "Equal opportunity difference    = 0.01774893390218346\n",
      "Average odds difference         = 0.024745775130092185\n",
      "Theil_index                     = 0.08007735819136895\n"
     ]
    }
   ],
   "source": [
    "display(Markdown(\"#### Plain model - without debiasing - classification metrics\"))\n",
    "\n",
    "display(Markdown(\"#### Biased training dataset - CLassification Metrics\"))\n",
    "TPR_train = classified_metric_biased_train.true_positive_rate()\n",
    "TNR_train = classified_metric_biased_train.true_negative_rate()\n",
    "bal_acc_biased_train = 0.5*(TPR_train + TNR_train)\n",
    "print('Classification accuracy         =', classified_metric_biased_train.accuracy())\n",
    "print('Balanced classification accuracy=', bal_acc_biased_train)\n",
    "print('Disparate impact                =', classified_metric_biased_train.disparate_impact())\n",
    "print('Equal opportunity difference    =', classified_metric_biased_train.equal_opportunity_difference())\n",
    "print('Average odds difference         =', classified_metric_biased_train.average_odds_difference())\n",
    "print('Theil_index                     =', classified_metric_biased_train.theil_index())\n",
    "\n",
    "display(Markdown(\"#### Biased test dataset - CLassification Metrics\"))\n",
    "TPR_test = classified_metric_biased_test.true_positive_rate()\n",
    "TNR_test = classified_metric_biased_test.true_negative_rate()\n",
    "bal_acc_biased_test = 0.5*(TPR_test+TNR_test)\n",
    "print('Classification accuracy         =', classified_metric_biased_test.accuracy())\n",
    "print('Balanced classification accuracy=', bal_acc_biased_test)\n",
    "print('Disparate impact                =', classified_metric_biased_test.disparate_impact())\n",
    "print('Equal opportunity difference    =', classified_metric_biased_test.equal_opportunity_difference())\n",
    "print('Average odds difference         =', classified_metric_biased_test.average_odds_difference())\n",
    "print('Theil_index                     =', classified_metric_biased_test.theil_index())"
   ]
  },
  {
   "cell_type": "code",
   "execution_count": 21,
   "metadata": {},
   "outputs": [],
   "source": [
    "sess.close()\n",
    "tf.reset_default_graph()\n",
    "sess = tf.Session()"
   ]
  },
  {
   "cell_type": "code",
   "execution_count": 22,
   "metadata": {},
   "outputs": [],
   "source": [
    "unbiased_model = AdversarialDebiasing(privileged_groups = privileged_groups,\n",
    "                          unprivileged_groups = unprivileged_groups,\n",
    "                          scope_name='plain_classifier',\n",
    "                          debias=True,\n",
    "                          sess=sess)"
   ]
  },
  {
   "cell_type": "code",
   "execution_count": 23,
   "metadata": {},
   "outputs": [
    {
     "name": "stdout",
     "output_type": "stream",
     "text": [
      "epoch 0; iter: 0; batch classifier loss: 0.659084; batch adversarial loss: 0.771623\n",
      "epoch 1; iter: 0; batch classifier loss: 0.449056; batch adversarial loss: 0.753232\n",
      "epoch 2; iter: 0; batch classifier loss: 0.400835; batch adversarial loss: 0.668881\n",
      "epoch 3; iter: 0; batch classifier loss: 0.491472; batch adversarial loss: 0.699763\n",
      "epoch 4; iter: 0; batch classifier loss: 0.414240; batch adversarial loss: 0.660297\n",
      "epoch 5; iter: 0; batch classifier loss: 0.460763; batch adversarial loss: 0.697132\n",
      "epoch 6; iter: 0; batch classifier loss: 0.425250; batch adversarial loss: 0.673589\n",
      "epoch 7; iter: 0; batch classifier loss: 0.444501; batch adversarial loss: 0.678944\n",
      "epoch 8; iter: 0; batch classifier loss: 0.499639; batch adversarial loss: 0.699787\n",
      "epoch 9; iter: 0; batch classifier loss: 0.454855; batch adversarial loss: 0.666096\n",
      "epoch 10; iter: 0; batch classifier loss: 0.541011; batch adversarial loss: 0.684043\n",
      "epoch 11; iter: 0; batch classifier loss: 0.467476; batch adversarial loss: 0.672251\n",
      "epoch 12; iter: 0; batch classifier loss: 0.430063; batch adversarial loss: 0.679541\n",
      "epoch 13; iter: 0; batch classifier loss: 0.388238; batch adversarial loss: 0.643385\n",
      "epoch 14; iter: 0; batch classifier loss: 0.475936; batch adversarial loss: 0.689881\n",
      "epoch 15; iter: 0; batch classifier loss: 0.513466; batch adversarial loss: 0.634507\n",
      "epoch 16; iter: 0; batch classifier loss: 0.590619; batch adversarial loss: 0.659156\n",
      "epoch 17; iter: 0; batch classifier loss: 0.435610; batch adversarial loss: 0.680679\n",
      "epoch 18; iter: 0; batch classifier loss: 0.550310; batch adversarial loss: 0.649624\n",
      "epoch 19; iter: 0; batch classifier loss: 0.381621; batch adversarial loss: 0.657819\n",
      "epoch 20; iter: 0; batch classifier loss: 0.431856; batch adversarial loss: 0.695155\n",
      "epoch 21; iter: 0; batch classifier loss: 0.496389; batch adversarial loss: 0.678734\n",
      "epoch 22; iter: 0; batch classifier loss: 0.394232; batch adversarial loss: 0.666756\n",
      "epoch 23; iter: 0; batch classifier loss: 0.395087; batch adversarial loss: 0.682287\n",
      "epoch 24; iter: 0; batch classifier loss: 0.469753; batch adversarial loss: 0.670758\n",
      "epoch 25; iter: 0; batch classifier loss: 0.411192; batch adversarial loss: 0.692150\n",
      "epoch 26; iter: 0; batch classifier loss: 0.408018; batch adversarial loss: 0.675319\n",
      "epoch 27; iter: 0; batch classifier loss: 0.407896; batch adversarial loss: 0.703002\n",
      "epoch 28; iter: 0; batch classifier loss: 0.461891; batch adversarial loss: 0.667034\n",
      "epoch 29; iter: 0; batch classifier loss: 0.424060; batch adversarial loss: 0.614218\n",
      "epoch 30; iter: 0; batch classifier loss: 0.448109; batch adversarial loss: 0.682249\n",
      "epoch 31; iter: 0; batch classifier loss: 0.444116; batch adversarial loss: 0.685336\n",
      "epoch 32; iter: 0; batch classifier loss: 0.418749; batch adversarial loss: 0.673822\n",
      "epoch 33; iter: 0; batch classifier loss: 0.438444; batch adversarial loss: 0.691112\n",
      "epoch 34; iter: 0; batch classifier loss: 0.411252; batch adversarial loss: 0.697092\n",
      "epoch 35; iter: 0; batch classifier loss: 0.384829; batch adversarial loss: 0.699459\n",
      "epoch 36; iter: 0; batch classifier loss: 0.357534; batch adversarial loss: 0.610950\n",
      "epoch 37; iter: 0; batch classifier loss: 0.485254; batch adversarial loss: 0.654965\n",
      "epoch 38; iter: 0; batch classifier loss: 0.492373; batch adversarial loss: 0.673898\n",
      "epoch 39; iter: 0; batch classifier loss: 0.493116; batch adversarial loss: 0.651665\n",
      "epoch 40; iter: 0; batch classifier loss: 0.392853; batch adversarial loss: 0.653979\n",
      "epoch 41; iter: 0; batch classifier loss: 0.367542; batch adversarial loss: 0.650876\n",
      "epoch 42; iter: 0; batch classifier loss: 0.451139; batch adversarial loss: 0.650964\n",
      "epoch 43; iter: 0; batch classifier loss: 0.560316; batch adversarial loss: 0.707945\n",
      "epoch 44; iter: 0; batch classifier loss: 0.399167; batch adversarial loss: 0.656348\n",
      "epoch 45; iter: 0; batch classifier loss: 0.450404; batch adversarial loss: 0.656456\n",
      "epoch 46; iter: 0; batch classifier loss: 0.401666; batch adversarial loss: 0.688526\n",
      "epoch 47; iter: 0; batch classifier loss: 0.339588; batch adversarial loss: 0.697334\n",
      "epoch 48; iter: 0; batch classifier loss: 0.369209; batch adversarial loss: 0.650547\n",
      "epoch 49; iter: 0; batch classifier loss: 0.491324; batch adversarial loss: 0.694244\n"
     ]
    },
    {
     "data": {
      "text/plain": [
       "<aif360.algorithms.inprocessing.adversarial_debiasing.AdversarialDebiasing at 0x1d6c466eba8>"
      ]
     },
     "execution_count": 23,
     "metadata": {},
     "output_type": "execute_result"
    }
   ],
   "source": [
    "unbiased_model.fit(Taiwan_train_bld)"
   ]
  },
  {
   "cell_type": "code",
   "execution_count": 24,
   "metadata": {},
   "outputs": [],
   "source": [
    "Taiwan_unbiased_train = unbiased_model.predict(Taiwan_train_bld)\n",
    "Taiwan_unbiased_test  = unbiased_model.predict(Taiwan_test_bld)\n",
    "# And convert these to dataframes..\n",
    "Taiwan_train_df, d = Taiwan_unbiased_train.convert_to_dataframe(de_dummy_code=False, sep='=', set_category=False)\n",
    "Taiwan_test_df, d  = Taiwan_unbiased_test.convert_to_dataframe(de_dummy_code=False, sep='=', set_category=False)"
   ]
  },
  {
   "cell_type": "code",
   "execution_count": 25,
   "metadata": {},
   "outputs": [
    {
     "data": {
      "text/markdown": [
       "#### Plain model - after unbiasing - dataset metrics"
      ],
      "text/plain": [
       "<IPython.core.display.Markdown object>"
      ]
     },
     "metadata": {},
     "output_type": "display_data"
    },
    {
     "data": {
      "text/markdown": [
       "#### Biased training dataset"
      ],
      "text/plain": [
       "<IPython.core.display.Markdown object>"
      ]
     },
     "metadata": {},
     "output_type": "display_data"
    },
    {
     "name": "stdout",
     "output_type": "stream",
     "text": [
      "Number of instances           : 24000.0\n",
      "Base Rate                     : 0.895625\n",
      "Consistency                   : [0.97380833]\n",
      "Disparate Impact              : 0.9662387198211285\n",
      "Mean Difference               : -0.03086452913286597\n",
      "Statistical Parity Difference : -0.03086452913286597\n"
     ]
    },
    {
     "data": {
      "text/markdown": [
       "#### Biased test dataset"
      ],
      "text/plain": [
       "<IPython.core.display.Markdown object>"
      ]
     },
     "metadata": {},
     "output_type": "display_data"
    },
    {
     "name": "stdout",
     "output_type": "stream",
     "text": [
      "Number of instances           : 6000.0\n",
      "Base Rate                     : 0.844\n",
      "Consistency                   : [0.9543]\n",
      "Disparate Impact              : 1.0069820527685918\n",
      "Mean Difference               : 0.005867799817104835\n",
      "Statistical Parity Difference : 0.005867799817104835\n"
     ]
    }
   ],
   "source": [
    "# Metrics for the dataset from plain model (after unbiasing)\n",
    "display(Markdown(\"#### Plain model - after unbiasing - dataset metrics\"))\n",
    "metric_unbiased_train = BinaryLabelDatasetMetric(Taiwan_unbiased_train, \n",
    "                             unprivileged_groups=unprivileged_groups,\n",
    "                             privileged_groups=privileged_groups)\n",
    "\n",
    "metric_unbiased_test = BinaryLabelDatasetMetric(Taiwan_unbiased_test, \n",
    "                            unprivileged_groups=unprivileged_groups,\n",
    "                            privileged_groups=privileged_groups)\n",
    "display(Markdown(\"#### Biased training dataset\"))\n",
    "print('Number of instances           :', metric_unbiased_train.num_instances())\n",
    "print('Base Rate                     :', metric_unbiased_train.base_rate())\n",
    "print('Consistency                   :', metric_unbiased_train.consistency())\n",
    "print('Disparate Impact              :', metric_unbiased_train.disparate_impact())\n",
    "print('Mean Difference               :', metric_unbiased_train.mean_difference())\n",
    "print('Statistical Parity Difference :', metric_unbiased_train.statistical_parity_difference()) \n",
    "display(Markdown(\"#### Biased test dataset\"))\n",
    "print('Number of instances           :', metric_unbiased_test.num_instances())\n",
    "print('Base Rate                     :', metric_unbiased_test.base_rate())\n",
    "print('Consistency                   :', metric_unbiased_test.consistency())\n",
    "print('Disparate Impact              :', metric_unbiased_test.disparate_impact())\n",
    "print('Mean Difference               :', metric_unbiased_test.mean_difference())\n",
    "print('Statistical Parity Difference :', metric_unbiased_test.statistical_parity_difference()) "
   ]
  },
  {
   "cell_type": "code",
   "execution_count": 26,
   "metadata": {},
   "outputs": [],
   "source": [
    "# Create the Classification metric for train and test\n",
    "classified_metric_unbiased_train = ClassificationMetric(Taiwan_train_bld, Taiwan_unbiased_train,\n",
    "                                       unprivileged_groups=unprivileged_groups,\n",
    "                                       privileged_groups=privileged_groups)\n",
    "classified_metric_unbiased_test = ClassificationMetric(Taiwan_test_bld, Taiwan_unbiased_test,\n",
    "                                       unprivileged_groups=unprivileged_groups,\n",
    "                                       privileged_groups=privileged_groups)"
   ]
  },
  {
   "cell_type": "code",
   "execution_count": 27,
   "metadata": {},
   "outputs": [
    {
     "data": {
      "text/markdown": [
       "#### Plain model - after debiasing - classification metrics"
      ],
      "text/plain": [
       "<IPython.core.display.Markdown object>"
      ]
     },
     "metadata": {},
     "output_type": "display_data"
    },
    {
     "data": {
      "text/markdown": [
       "#### Unbiased training dataset - CLassification Metrics"
      ],
      "text/plain": [
       "<IPython.core.display.Markdown object>"
      ]
     },
     "metadata": {},
     "output_type": "display_data"
    },
    {
     "name": "stdout",
     "output_type": "stream",
     "text": [
      "Classification accuracy         = 0.8162083333333333\n",
      "Balanced classification accuracy= 0.6400004665139194\n",
      "Disparate impact                = 0.9662387198211285\n",
      "Equal opportunity difference    = -0.015551036262315576\n",
      "Average odds difference         = -0.06820013624808358\n",
      "Theil_index                     = 0.07528985574089764\n"
     ]
    },
    {
     "data": {
      "text/markdown": [
       "#### Unbiased test dataset - CLassification Metrics"
      ],
      "text/plain": [
       "<IPython.core.display.Markdown object>"
      ]
     },
     "metadata": {},
     "output_type": "display_data"
    },
    {
     "name": "stdout",
     "output_type": "stream",
     "text": [
      "Classification accuracy         = 0.8166666666666667\n",
      "Balanced classification accuracy= 0.6782042440528564\n",
      "Disparate impact                = 1.0069820527685918\n",
      "Equal opportunity difference    = -0.005392873149677402\n",
      "Average odds difference         = -0.016211315012374883\n",
      "Theil_index                     = 0.10172885330787475\n"
     ]
    }
   ],
   "source": [
    "display(Markdown(\"#### Plain model - after debiasing - classification metrics\"))\n",
    "display(Markdown(\"#### Unbiased training dataset - CLassification Metrics\"))\n",
    "TPR_train = classified_metric_unbiased_train.true_positive_rate()\n",
    "TNR_train = classified_metric_unbiased_train.true_negative_rate()\n",
    "bal_acc_unbiased_train = 0.5*(TPR_train + TNR_train)\n",
    "print('Classification accuracy         =', classified_metric_unbiased_train.accuracy())\n",
    "print('Balanced classification accuracy=', bal_acc_unbiased_train)\n",
    "print('Disparate impact                =', classified_metric_unbiased_train.disparate_impact())\n",
    "print('Equal opportunity difference    =', classified_metric_unbiased_train.equal_opportunity_difference())\n",
    "print('Average odds difference         =', classified_metric_unbiased_train.average_odds_difference())\n",
    "print('Theil_index                     =', classified_metric_unbiased_train.theil_index())\n",
    "\n",
    "display(Markdown(\"#### Unbiased test dataset - CLassification Metrics\"))\n",
    "TPR_test = classified_metric_unbiased_test.true_positive_rate()\n",
    "TNR_test = classified_metric_unbiased_test.true_negative_rate()\n",
    "bal_acc_unbiased_test = 0.5*(TPR_test+TNR_test)\n",
    "print('Classification accuracy         =', classified_metric_unbiased_test.accuracy())\n",
    "print('Balanced classification accuracy=', bal_acc_unbiased_test)\n",
    "print('Disparate impact                =', classified_metric_unbiased_test.disparate_impact())\n",
    "print('Equal opportunity difference    =', classified_metric_unbiased_test.equal_opportunity_difference())\n",
    "print('Average odds difference         =', classified_metric_unbiased_test.average_odds_difference())\n",
    "print('Theil_index                     =', classified_metric_unbiased_test.theil_index())"
   ]
  },
  {
   "cell_type": "code",
   "execution_count": 28,
   "metadata": {},
   "outputs": [
    {
     "name": "stdout",
     "output_type": "stream",
     "text": [
      "Model Accuracy for Log Reg and RFC after bias transformation:\n",
      "Biased Logistic regression validation accuracy: 0.9496666666666667\n",
      "Biased Random Forest       validation accuracy: 0.9203333333333333\n",
      "\n",
      "Biased Balanced accuracy\n",
      "Biased Logistic regression balanced accuracy  : 0.8460778952485113\n",
      "Biased Random Forest       balanced accuracy  : 0.748577186373395\n"
     ]
    }
   ],
   "source": [
    "# Determine the after-transformation model accuracy for Logistic Regression and Random Forest Classifiers\n",
    "X_train = Taiwan_train_df.drop(lab,axis=1)\n",
    "y_train = Taiwan_train_df[lab]\n",
    "X_test  = Taiwan_test_df.drop(lab,axis=1)\n",
    "y_test  = Taiwan_test_df[lab]\n",
    "\n",
    "UnbiasedLogModel = LogisticRegression(random_state=101)\n",
    "UnbiasedRfcModel = RandomForestClassifier(n_estimators=100,max_depth=4,random_state=101)\n",
    "UnbiasedLogModel.fit(X_train, y_train) \n",
    "UnbiasedRfcModel.fit(X_train, y_train) \n",
    "UnbiasedLog_pred = UnbiasedLogModel.predict(X_test)\n",
    "UnbiasedRfc_pred = UnbiasedRfcModel.predict(X_test)\n",
    "\n",
    "# Now get Logistic Regression and Random Forest Clasisfication performancce of unbiased data\n",
    "print('Model Accuracy for Log Reg and RFC after bias transformation:')\n",
    "print(f\"Biased Logistic regression validation accuracy: {UnbiasedLogModel.score(X_test, y_test)}\")\n",
    "print(f\"Biased Random Forest       validation accuracy: {UnbiasedRfcModel.score(X_test, y_test)}\")\n",
    "print('')\n",
    "print('Biased Balanced accuracy')\n",
    "print(f\"Biased Logistic regression balanced accuracy  : {balanced_accuracy_score(y_test, UnbiasedLog_pred)}\")\n",
    "print(f\"Biased Random Forest       balanced accuracy  : {balanced_accuracy_score(y_test, UnbiasedRfc_pred)}\")"
   ]
  },
  {
   "cell_type": "code",
   "execution_count": 29,
   "metadata": {},
   "outputs": [
    {
     "name": "stdout",
     "output_type": "stream",
     "text": [
      "Model Accuracy for predicting the Sensitive Variable after bias transformation:\n",
      "Biased Logistic regression validation accuracy: 0.6285\n",
      "Biased Random Forest       validation accuracy: 0.6155\n",
      "\n",
      "Biased Balanced accuracy\n",
      "Biased Logistic regression balanced accuracy  : 0.5556714873967531\n",
      "Biased Random Forest       balanced accuracy  : 0.5089027235388641\n"
     ]
    }
   ],
   "source": [
    "# Finally test whether it is possible to predict the Sensitive Variable from the transformed dataset\n",
    "X_se_train = Taiwan_train_df.drop(protected_attr,axis=1)\n",
    "y_se_train = Taiwan_train_df[protected_attr]\n",
    "X_se_test  = Taiwan_test_df.drop(protected_attr,axis=1)\n",
    "y_se_test  = Taiwan_test_df[protected_attr]\n",
    "\n",
    "Se_BiasedLogModel = LogisticRegression(random_state=101)\n",
    "Se_BiasedRfcModel = RandomForestClassifier(n_estimators=100,max_depth=4,random_state=101)\n",
    "Se_BiasedLogModel.fit(X_se_train, y_se_train) \n",
    "Se_BiasedRfcModel.fit(X_se_train, y_se_train) \n",
    "yseLog_pred =  Se_BiasedLogModel.predict(X_se_test)\n",
    "yseRfc_pred =  Se_BiasedRfcModel.predict(X_se_test)\n",
    "\n",
    "# Now test whether we can predict the protected_attr from the test dataset\n",
    "print('Model Accuracy for predicting the Sensitive Variable after bias transformation:')\n",
    "print(f\"Biased Logistic regression validation accuracy: {Se_BiasedLogModel.score(X_se_test, y_se_test)}\")\n",
    "print(f\"Biased Random Forest       validation accuracy: {Se_BiasedRfcModel.score(X_se_test, y_se_test)}\")\n",
    "print('')\n",
    "print('Biased Balanced accuracy')\n",
    "print(f\"Biased Logistic regression balanced accuracy  : {balanced_accuracy_score(y_se_test, yseLog_pred)}\")\n",
    "print(f\"Biased Random Forest       balanced accuracy  : {balanced_accuracy_score(y_se_test, yseRfc_pred)}\")"
   ]
  },
  {
   "cell_type": "code",
   "execution_count": 30,
   "metadata": {},
   "outputs": [
    {
     "name": "stdout",
     "output_type": "stream",
     "text": [
      "Predicted Training After - DEFAULT value counts:\n",
      "1.0    21495\n",
      "0.0     2505\n",
      "Name: DEFAULT, dtype: int64\n",
      "Predicted Training After - GENDER value counts:\n",
      "0.0    14443\n",
      "1.0     9557\n",
      "Name: GENDER, dtype: int64\n"
     ]
    }
   ],
   "source": [
    "print('Predicted Training After - DEFAULT value counts:')\n",
    "print(Taiwan_train_df.DEFAULT.value_counts())\n",
    "print('Predicted Training After - GENDER value counts:')\n",
    "print(Taiwan_train_df.GENDER.value_counts())"
   ]
  },
  {
   "cell_type": "code",
   "execution_count": 31,
   "metadata": {
    "scrolled": true
   },
   "outputs": [
    {
     "name": "stdout",
     "output_type": "stream",
     "text": [
      "Predicted Test After - DEFAULT value counts:\n",
      "1.0    5064\n",
      "0.0     936\n",
      "Name: DEFAULT, dtype: int64\n",
      "Predicted Test After - GENDER value counts:\n",
      "0.0    3669\n",
      "1.0    2331\n",
      "Name: GENDER, dtype: int64\n"
     ]
    }
   ],
   "source": [
    "print('Predicted Test After - DEFAULT value counts:')\n",
    "print(Taiwan_test_df.DEFAULT.value_counts())\n",
    "print('Predicted Test After - GENDER value counts:')\n",
    "print(Taiwan_test_df.GENDER.value_counts())"
   ]
  }
 ],
 "metadata": {
  "kernelspec": {
   "display_name": "Python 3",
   "language": "python",
   "name": "python3"
  },
  "language_info": {
   "codemirror_mode": {
    "name": "ipython",
    "version": 3
   },
   "file_extension": ".py",
   "mimetype": "text/x-python",
   "name": "python",
   "nbconvert_exporter": "python",
   "pygments_lexer": "ipython3",
   "version": "3.7.3"
  }
 },
 "nbformat": 4,
 "nbformat_minor": 2
}
