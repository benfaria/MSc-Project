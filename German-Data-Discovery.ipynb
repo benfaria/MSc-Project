{
 "cells": [
  {
   "cell_type": "code",
   "execution_count": 1,
   "metadata": {},
   "outputs": [],
   "source": [
    "# In this notebook, we explore the German Credit Default dataset data.\n",
    "# The intention is to use Gender as the Protected Variable."
   ]
  },
  {
   "cell_type": "code",
   "execution_count": 2,
   "metadata": {},
   "outputs": [],
   "source": [
    "# Import Data handling/display libraries\n",
    "import pandas as pd\n",
    "import matplotlib.pyplot as plt\n",
    "import warnings\n",
    "warnings.filterwarnings('ignore')"
   ]
  },
  {
   "cell_type": "code",
   "execution_count": 3,
   "metadata": {},
   "outputs": [],
   "source": [
    "German = './input/german.data'\n",
    "feature_names = ['CurrentAcc', 'NumMonths', 'CreditHistory', 'Purpose', 'CreditAmount', \n",
    "         'Savings', 'EmployDuration', 'PayBackPercent', 'Gender', 'Debtors', \n",
    "         'ResidenceDuration', 'Collateral', 'Age', 'OtherPayBackPlan', 'Property', \n",
    "         'ExistingCredit', 'Job', 'Dependents', 'Telephone', 'ForeignWorker', 'CreditStatus']\n",
    "German_df = pd.read_csv(German,names = feature_names, delimiter=' ')"
   ]
  },
  {
   "cell_type": "code",
   "execution_count": 4,
   "metadata": {},
   "outputs": [
    {
     "data": {
      "text/plain": [
       "(1000, 21)"
      ]
     },
     "execution_count": 4,
     "metadata": {},
     "output_type": "execute_result"
    }
   ],
   "source": [
    "# How many (rows, columns)\n",
    "German_df.shape"
   ]
  },
  {
   "cell_type": "code",
   "execution_count": 5,
   "metadata": {},
   "outputs": [
    {
     "name": "stdout",
     "output_type": "stream",
     "text": [
      "Before CreditStatus transform:\n",
      "1    700\n",
      "2    300\n",
      "Name: CreditStatus, dtype: int64\n",
      "After CreditStatus transform:\n",
      "1    700\n",
      "0    300\n",
      "Name: CreditStatus, dtype: int64\n"
     ]
    }
   ],
   "source": [
    "# Encode CreditStatus from GoodCreditStatus=1 and BadCreditStatus=2 ==> GoodCreditStatus=1 and BadCreditStatus=0 \n",
    "# to comply with the AIF360 convention for favourable/unfavavourable labels. \n",
    "print('Before CreditStatus transform:')\n",
    "print(German_df.CreditStatus.value_counts())\n",
    "Status = {1: 1,2: 0} \n",
    "German_df.CreditStatus = [Status[item] for item in German_df.CreditStatus]\n",
    "print('After CreditStatus transform:')\n",
    "print(German_df.CreditStatus.value_counts())"
   ]
  },
  {
   "cell_type": "code",
   "execution_count": 6,
   "metadata": {},
   "outputs": [
    {
     "name": "stdout",
     "output_type": "stream",
     "text": [
      "Marital Status Unique values\n",
      "Single Male        548\n",
      "Women With Man     310\n",
      "Married Man         92\n",
      "Man Was Married     50\n",
      "Name: MaritalStatus, dtype: int64\n"
     ]
    }
   ],
   "source": [
    "German_df.loc[German_df.Gender=='A91', 'MaritalStatus'] = 'Man Was Married' \n",
    "German_df.loc[German_df.Gender=='A92', 'MaritalStatus'] = 'Women With Man' \n",
    "German_df.loc[German_df.Gender=='A93', 'MaritalStatus'] = 'Single Male' \n",
    "German_df.loc[German_df.Gender=='A94', 'MaritalStatus'] = 'Married Man' \n",
    "German_df.loc[German_df.Gender=='A95', 'MaritalStatus'] = 'Single Female'\n",
    "print('Marital Status Unique values')\n",
    "print(German_df.MaritalStatus.value_counts())"
   ]
  },
  {
   "cell_type": "code",
   "execution_count": 7,
   "metadata": {},
   "outputs": [
    {
     "name": "stdout",
     "output_type": "stream",
     "text": [
      "CurrentAcc Unique values ['A11' 'A12' 'A14' 'A13']\n"
     ]
    }
   ],
   "source": [
    "German_df[['CurrentAcc']].describe()\n",
    "print('CurrentAcc Unique values', German_df.CurrentAcc.unique())"
   ]
  },
  {
   "cell_type": "code",
   "execution_count": 8,
   "metadata": {},
   "outputs": [
    {
     "name": "stdout",
     "output_type": "stream",
     "text": [
      "Purpose Unique values ['A43' 'A46' 'A42' 'A40' 'A41' 'A49' 'A44' 'A45' 'A410' 'A48']\n"
     ]
    }
   ],
   "source": [
    "German_df[['Purpose']].describe()\n",
    "print('Purpose Unique values', German_df.Purpose.unique())"
   ]
  },
  {
   "cell_type": "code",
   "execution_count": 9,
   "metadata": {},
   "outputs": [
    {
     "name": "stdout",
     "output_type": "stream",
     "text": [
      "Marital Status Unique values ['A93' 'A92' 'A91' 'A94']\n",
      "Marital Status Value Counts\n",
      "A93    548\n",
      "A92    310\n",
      "A94     92\n",
      "A91     50\n",
      "Name: Gender, dtype: int64\n",
      "NOTE: THERE ARE NO SINGLE WOMEN (Category A95)\n"
     ]
    }
   ],
   "source": [
    "German_df[['Gender']].describe()\n",
    "print('Marital Status Unique values', German_df.Gender.unique())\n",
    "print('Marital Status Value Counts')\n",
    "print(German_df.Gender.value_counts())\n",
    "print('NOTE: THERE ARE NO SINGLE WOMEN (Category A95)')"
   ]
  },
  {
   "cell_type": "code",
   "execution_count": 10,
   "metadata": {},
   "outputs": [
    {
     "name": "stdout",
     "output_type": "stream",
     "text": [
      "AxesSubplot(0.125,0.125;0.775x0.755)\n"
     ]
    },
    {
     "data": {
      "image/png": "[encoded data removed]",
      "text/plain": [
       "<Figure size 432x288 with 1 Axes>"
      ]
     },
     "metadata": {
      "needs_background": "light"
     },
     "output_type": "display_data"
    }
   ],
   "source": [
    "# What is the age distribution\n",
    "print(German_df.Age.hist())"
   ]
  },
  {
   "cell_type": "code",
   "execution_count": 11,
   "metadata": {},
   "outputs": [
    {
     "name": "stdout",
     "output_type": "stream",
     "text": [
      "AxesSubplot(0.125,0.125;0.775x0.755)\n"
     ]
    },
    {
     "data": {
      "image/png": "[encoded data removed]",
      "text/plain": [
       "<Figure size 432x288 with 1 Axes>"
      ]
     },
     "metadata": {
      "needs_background": "light"
     },
     "output_type": "display_data"
    }
   ],
   "source": [
    "# What is the age distribution\n",
    "print(German_df.Property.hist())"
   ]
  },
  {
   "cell_type": "code",
   "execution_count": 12,
   "metadata": {},
   "outputs": [
    {
     "name": "stdout",
     "output_type": "stream",
     "text": [
      "Job Unique values ['A173' 'A172' 'A174' 'A171']\n"
     ]
    }
   ],
   "source": [
    "German_df[['Job']].describe()\n",
    "print('Job Unique values', German_df.Job.unique())"
   ]
  },
  {
   "cell_type": "code",
   "execution_count": 13,
   "metadata": {},
   "outputs": [
    {
     "name": "stdout",
     "output_type": "stream",
     "text": [
      "Job Unique values ['A173' 'A172' 'A174' 'A171']\n"
     ]
    }
   ],
   "source": [
    "German_df[['Job']].describe()\n",
    "print('Job Unique values', German_df.Job.unique())"
   ]
  },
  {
   "cell_type": "code",
   "execution_count": 14,
   "metadata": {},
   "outputs": [
    {
     "name": "stdout",
     "output_type": "stream",
     "text": [
      "Credit Status values [1 0]\n"
     ]
    }
   ],
   "source": [
    "German_df[['CreditStatus']].describe()\n",
    "print('Credit Status values', German_df.CreditStatus.unique())"
   ]
  },
  {
   "cell_type": "code",
   "execution_count": 15,
   "metadata": {},
   "outputs": [
    {
     "data": {
      "text/plain": [
       "<matplotlib.axes._subplots.AxesSubplot at 0x256297f0a58>"
      ]
     },
     "execution_count": 15,
     "metadata": {},
     "output_type": "execute_result"
    },
    {
     "data": {
      "image/png": "[encoded data removed]",
      "text/plain": [
       "<Figure size 432x288 with 1 Axes>"
      ]
     },
     "metadata": {
      "needs_background": "light"
     },
     "output_type": "display_data"
    }
   ],
   "source": [
    "# What is the age distribution\n",
    "German_df.CreditStatus.value_counts().plot(kind = 'bar')"
   ]
  },
  {
   "cell_type": "code",
   "execution_count": 16,
   "metadata": {},
   "outputs": [
    {
     "data": {
      "text/plain": [
       "<matplotlib.axes._subplots.AxesSubplot at 0x256297f0d30>"
      ]
     },
     "execution_count": 16,
     "metadata": {},
     "output_type": "execute_result"
    },
    {
     "data": {
      "image/png": "[encoded data removed]",
      "text/plain": [
       "<Figure size 432x288 with 1 Axes>"
      ]
     },
     "metadata": {
      "needs_background": "light"
     },
     "output_type": "display_data"
    }
   ],
   "source": [
    "German_df.Gender.value_counts().plot(kind = 'bar')"
   ]
  },
  {
   "cell_type": "code",
   "execution_count": 17,
   "metadata": {},
   "outputs": [
    {
     "name": "stdout",
     "output_type": "stream",
     "text": [
      "Males = 1, Females = 0\n",
      "1    690\n",
      "0    310\n",
      "Name: Gender, dtype: int64\n"
     ]
    }
   ],
   "source": [
    "#print('Before - German gender value counts', German_df.Gender.value_counts())\n",
    "German_df['Gender'].replace('A91' ,1, inplace=True)\n",
    "German_df['Gender'].replace('A92' ,0, inplace=True)\n",
    "German_df['Gender'].replace('A93' ,1, inplace=True)\n",
    "German_df['Gender'].replace('A94' ,1, inplace=True)\n",
    "German_df['Gender'].replace('A95' ,0, inplace=True)\n",
    "print ('Males = 1, Females = 0')\n",
    "print(German_df.Gender.value_counts())"
   ]
  },
  {
   "cell_type": "code",
   "execution_count": 18,
   "metadata": {},
   "outputs": [
    {
     "data": {
      "text/plain": [
       "Gender  CreditStatus\n",
       "0       0               109\n",
       "        1               201\n",
       "1       0               191\n",
       "        1               499\n",
       "dtype: int64"
      ]
     },
     "execution_count": 18,
     "metadata": {},
     "output_type": "execute_result"
    }
   ],
   "source": [
    "### get into the meat of whats what\n",
    "gender = German_df.groupby(['Gender', 'CreditStatus']).size()\n",
    "gender"
   ]
  },
  {
   "cell_type": "code",
   "execution_count": 19,
   "metadata": {},
   "outputs": [
    {
     "name": "stdout",
     "output_type": "stream",
     "text": [
      "Good Credit Status = 1, Bad Credit Status = 0\n"
     ]
    },
    {
     "data": {
      "text/plain": [
       "MaritalStatus    CreditStatus\n",
       "Man Was Married  0                20\n",
       "                 1                30\n",
       "Married Man      0                25\n",
       "                 1                67\n",
       "Single Male      0               146\n",
       "                 1               402\n",
       "Women With Man   0               109\n",
       "                 1               201\n",
       "dtype: int64"
      ]
     },
     "execution_count": 19,
     "metadata": {},
     "output_type": "execute_result"
    }
   ],
   "source": [
    "### get into the meat of whats what\n",
    "print('Good Credit Status = 1, Bad Credit Status = 0')\n",
    "marrstatus = German_df.groupby(['MaritalStatus', 'CreditStatus']).size()\n",
    "marrstatus"
   ]
  },
  {
   "cell_type": "code",
   "execution_count": 20,
   "metadata": {},
   "outputs": [],
   "source": [
    "#Make foreign worker status Foreign worker = 0, German worker = 1\n",
    "German_df['ForeignWorker'].replace('A201' ,0, inplace=True)\n",
    "German_df['ForeignWorker'].replace('A202' ,1, inplace=True)"
   ]
  },
  {
   "cell_type": "code",
   "execution_count": 21,
   "metadata": {},
   "outputs": [
    {
     "name": "stdout",
     "output_type": "stream",
     "text": [
      "Foreign Worker = 0, German Worker = 1\n",
      "Good Credit Status = 1, Bad Credit Status = 0\n"
     ]
    },
    {
     "data": {
      "text/plain": [
       "ForeignWorker  CreditStatus\n",
       "0              0               296\n",
       "               1               667\n",
       "1              0                 4\n",
       "               1                33\n",
       "dtype: int64"
      ]
     },
     "execution_count": 21,
     "metadata": {},
     "output_type": "execute_result"
    }
   ],
   "source": [
    "### get into the meat of whats what\n",
    "print('Foreign Worker = 0, German Worker = 1')\n",
    "print('Good Credit Status = 1, Bad Credit Status = 0')\n",
    "workerstatus = German_df.groupby(['ForeignWorker', 'CreditStatus']).size()\n",
    "workerstatus"
   ]
  }
 ],
 "metadata": {
  "kernelspec": {
   "display_name": "Python 3",
   "language": "python",
   "name": "python3"
  },
  "language_info": {
   "codemirror_mode": {
    "name": "ipython",
    "version": 3
   },
   "file_extension": ".py",
   "mimetype": "text/x-python",
   "name": "python",
   "nbconvert_exporter": "python",
   "pygments_lexer": "ipython3",
   "version": "3.7.3"
  }
 },
 "nbformat": 4,
 "nbformat_minor": 2
}
