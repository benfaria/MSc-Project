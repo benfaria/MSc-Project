{
 "cells": [
  {
   "cell_type": "code",
   "execution_count": 1,
   "metadata": {},
   "outputs": [],
   "source": [
    "# In this notebook, we explore the Taiwan Credit Default dataset data."
   ]
  },
  {
   "cell_type": "code",
   "execution_count": 2,
   "metadata": {},
   "outputs": [],
   "source": [
    "# Import Data handling/display libraries\n",
    "import pandas as pd\n",
    "import matplotlib.pyplot as plt\n",
    "import warnings\n",
    "warnings.filterwarnings('ignore')"
   ]
  },
  {
   "cell_type": "code",
   "execution_count": 3,
   "metadata": {},
   "outputs": [
    {
     "data": {
      "text/html": [
       "<div>\n",
       "<style scoped>\n",
       "    .dataframe tbody tr th:only-of-type {\n",
       "        vertical-align: middle;\n",
       "    }\n",
       "\n",
       "    .dataframe tbody tr th {\n",
       "        vertical-align: top;\n",
       "    }\n",
       "\n",
       "    .dataframe thead th {\n",
       "        text-align: right;\n",
       "    }\n",
       "</style>\n",
       "<table border=\"1\" class=\"dataframe\">\n",
       "  <thead>\n",
       "    <tr style=\"text-align: right;\">\n",
       "      <th></th>\n",
       "      <th>LIMIT_BAL</th>\n",
       "      <th>GENDER</th>\n",
       "      <th>EDUCATION</th>\n",
       "      <th>MARRIAGE</th>\n",
       "      <th>AGE</th>\n",
       "      <th>PAY_1</th>\n",
       "      <th>PAY_2</th>\n",
       "      <th>PAY_3</th>\n",
       "      <th>PAY_4</th>\n",
       "      <th>PAY_5</th>\n",
       "      <th>...</th>\n",
       "      <th>BILL_AMT4</th>\n",
       "      <th>BILL_AMT5</th>\n",
       "      <th>BILL_AMT6</th>\n",
       "      <th>PAY_AMT1</th>\n",
       "      <th>PAY_AMT2</th>\n",
       "      <th>PAY_AMT3</th>\n",
       "      <th>PAY_AMT4</th>\n",
       "      <th>PAY_AMT5</th>\n",
       "      <th>PAY_AMT6</th>\n",
       "      <th>DEFAULT</th>\n",
       "    </tr>\n",
       "  </thead>\n",
       "  <tbody>\n",
       "    <tr>\n",
       "      <th>0</th>\n",
       "      <td>20000</td>\n",
       "      <td>2</td>\n",
       "      <td>2</td>\n",
       "      <td>1</td>\n",
       "      <td>24</td>\n",
       "      <td>2</td>\n",
       "      <td>2</td>\n",
       "      <td>-1</td>\n",
       "      <td>-1</td>\n",
       "      <td>-2</td>\n",
       "      <td>...</td>\n",
       "      <td>0</td>\n",
       "      <td>0</td>\n",
       "      <td>0</td>\n",
       "      <td>0</td>\n",
       "      <td>689</td>\n",
       "      <td>0</td>\n",
       "      <td>0</td>\n",
       "      <td>0</td>\n",
       "      <td>0</td>\n",
       "      <td>1</td>\n",
       "    </tr>\n",
       "    <tr>\n",
       "      <th>1</th>\n",
       "      <td>120000</td>\n",
       "      <td>2</td>\n",
       "      <td>2</td>\n",
       "      <td>2</td>\n",
       "      <td>26</td>\n",
       "      <td>-1</td>\n",
       "      <td>2</td>\n",
       "      <td>0</td>\n",
       "      <td>0</td>\n",
       "      <td>0</td>\n",
       "      <td>...</td>\n",
       "      <td>3272</td>\n",
       "      <td>3455</td>\n",
       "      <td>3261</td>\n",
       "      <td>0</td>\n",
       "      <td>1000</td>\n",
       "      <td>1000</td>\n",
       "      <td>1000</td>\n",
       "      <td>0</td>\n",
       "      <td>2000</td>\n",
       "      <td>1</td>\n",
       "    </tr>\n",
       "    <tr>\n",
       "      <th>2</th>\n",
       "      <td>90000</td>\n",
       "      <td>2</td>\n",
       "      <td>2</td>\n",
       "      <td>2</td>\n",
       "      <td>34</td>\n",
       "      <td>0</td>\n",
       "      <td>0</td>\n",
       "      <td>0</td>\n",
       "      <td>0</td>\n",
       "      <td>0</td>\n",
       "      <td>...</td>\n",
       "      <td>14331</td>\n",
       "      <td>14948</td>\n",
       "      <td>15549</td>\n",
       "      <td>1518</td>\n",
       "      <td>1500</td>\n",
       "      <td>1000</td>\n",
       "      <td>1000</td>\n",
       "      <td>1000</td>\n",
       "      <td>5000</td>\n",
       "      <td>0</td>\n",
       "    </tr>\n",
       "    <tr>\n",
       "      <th>3</th>\n",
       "      <td>50000</td>\n",
       "      <td>2</td>\n",
       "      <td>2</td>\n",
       "      <td>1</td>\n",
       "      <td>37</td>\n",
       "      <td>0</td>\n",
       "      <td>0</td>\n",
       "      <td>0</td>\n",
       "      <td>0</td>\n",
       "      <td>0</td>\n",
       "      <td>...</td>\n",
       "      <td>28314</td>\n",
       "      <td>28959</td>\n",
       "      <td>29547</td>\n",
       "      <td>2000</td>\n",
       "      <td>2019</td>\n",
       "      <td>1200</td>\n",
       "      <td>1100</td>\n",
       "      <td>1069</td>\n",
       "      <td>1000</td>\n",
       "      <td>0</td>\n",
       "    </tr>\n",
       "    <tr>\n",
       "      <th>4</th>\n",
       "      <td>50000</td>\n",
       "      <td>1</td>\n",
       "      <td>2</td>\n",
       "      <td>1</td>\n",
       "      <td>57</td>\n",
       "      <td>-1</td>\n",
       "      <td>0</td>\n",
       "      <td>-1</td>\n",
       "      <td>0</td>\n",
       "      <td>0</td>\n",
       "      <td>...</td>\n",
       "      <td>20940</td>\n",
       "      <td>19146</td>\n",
       "      <td>19131</td>\n",
       "      <td>2000</td>\n",
       "      <td>36681</td>\n",
       "      <td>10000</td>\n",
       "      <td>9000</td>\n",
       "      <td>689</td>\n",
       "      <td>679</td>\n",
       "      <td>0</td>\n",
       "    </tr>\n",
       "  </tbody>\n",
       "</table>\n",
       "<p>5 rows × 24 columns</p>\n",
       "</div>"
      ],
      "text/plain": [
       "   LIMIT_BAL  GENDER  EDUCATION  MARRIAGE  AGE  PAY_1  PAY_2  PAY_3  PAY_4  \\\n",
       "0      20000       2          2         1   24      2      2     -1     -1   \n",
       "1     120000       2          2         2   26     -1      2      0      0   \n",
       "2      90000       2          2         2   34      0      0      0      0   \n",
       "3      50000       2          2         1   37      0      0      0      0   \n",
       "4      50000       1          2         1   57     -1      0     -1      0   \n",
       "\n",
       "   PAY_5   ...     BILL_AMT4  BILL_AMT5  BILL_AMT6  PAY_AMT1  PAY_AMT2  \\\n",
       "0     -2   ...             0          0          0         0       689   \n",
       "1      0   ...          3272       3455       3261         0      1000   \n",
       "2      0   ...         14331      14948      15549      1518      1500   \n",
       "3      0   ...         28314      28959      29547      2000      2019   \n",
       "4      0   ...         20940      19146      19131      2000     36681   \n",
       "\n",
       "   PAY_AMT3  PAY_AMT4  PAY_AMT5  PAY_AMT6  DEFAULT  \n",
       "0         0         0         0         0        1  \n",
       "1      1000      1000         0      2000        1  \n",
       "2      1000      1000      1000      5000        0  \n",
       "3      1200      1100      1069      1000        0  \n",
       "4     10000      9000       689       679        0  \n",
       "\n",
       "[5 rows x 24 columns]"
      ]
     },
     "execution_count": 3,
     "metadata": {},
     "output_type": "execute_result"
    }
   ],
   "source": [
    "# Import the Taiwan Credit Card Default training dataset\n",
    "Taiwan_df = pd.read_csv('./input/Taiwan-Credit-Card-New.csv')\n",
    "# Rename a couple of columns for aesthetics\n",
    "Taiwan_df.rename(columns={'SEX':'GENDER', 'PAY_0': 'PAY_1',\n",
    "                          'default payment next month':'DEFAULT'}, \n",
    "                          inplace=True)\n",
    "# Drop ID as it has no impact on this study.\n",
    "Taiwan_df.drop([\"ID\"], axis=1, inplace=True)\n",
    "# Create MARRIED & SINGLE subset of the dataset\n",
    "Taiwan_df = Taiwan_df.loc[(Taiwan_df['MARRIAGE'] ==1) | (Taiwan_df['MARRIAGE'] ==2)]\n",
    "Taiwan_df.head(5)"
   ]
  },
  {
   "cell_type": "code",
   "execution_count": 4,
   "metadata": {},
   "outputs": [
    {
     "data": {
      "text/plain": [
       "(29623, 24)"
      ]
     },
     "execution_count": 4,
     "metadata": {},
     "output_type": "execute_result"
    }
   ],
   "source": [
    "# How many (rows, columns)\n",
    "Taiwan_df.shape"
   ]
  },
  {
   "cell_type": "code",
   "execution_count": 5,
   "metadata": {},
   "outputs": [
    {
     "data": {
      "text/html": [
       "<div>\n",
       "<style scoped>\n",
       "    .dataframe tbody tr th:only-of-type {\n",
       "        vertical-align: middle;\n",
       "    }\n",
       "\n",
       "    .dataframe tbody tr th {\n",
       "        vertical-align: top;\n",
       "    }\n",
       "\n",
       "    .dataframe thead th {\n",
       "        text-align: right;\n",
       "    }\n",
       "</style>\n",
       "<table border=\"1\" class=\"dataframe\">\n",
       "  <thead>\n",
       "    <tr style=\"text-align: right;\">\n",
       "      <th></th>\n",
       "      <th>LIMIT_BAL</th>\n",
       "      <th>GENDER</th>\n",
       "      <th>EDUCATION</th>\n",
       "      <th>MARRIAGE</th>\n",
       "      <th>AGE</th>\n",
       "      <th>PAY_1</th>\n",
       "      <th>PAY_2</th>\n",
       "      <th>PAY_3</th>\n",
       "      <th>PAY_4</th>\n",
       "      <th>PAY_5</th>\n",
       "      <th>...</th>\n",
       "      <th>BILL_AMT4</th>\n",
       "      <th>BILL_AMT5</th>\n",
       "      <th>BILL_AMT6</th>\n",
       "      <th>PAY_AMT1</th>\n",
       "      <th>PAY_AMT2</th>\n",
       "      <th>PAY_AMT3</th>\n",
       "      <th>PAY_AMT4</th>\n",
       "      <th>PAY_AMT5</th>\n",
       "      <th>PAY_AMT6</th>\n",
       "      <th>DEFAULT</th>\n",
       "    </tr>\n",
       "  </thead>\n",
       "  <tbody>\n",
       "    <tr>\n",
       "      <th>4444</th>\n",
       "      <td>100000</td>\n",
       "      <td>1</td>\n",
       "      <td>2</td>\n",
       "      <td>2</td>\n",
       "      <td>36</td>\n",
       "      <td>8</td>\n",
       "      <td>7</td>\n",
       "      <td>6</td>\n",
       "      <td>5</td>\n",
       "      <td>4</td>\n",
       "      <td>...</td>\n",
       "      <td>104554</td>\n",
       "      <td>102360</td>\n",
       "      <td>100413</td>\n",
       "      <td>0</td>\n",
       "      <td>0</td>\n",
       "      <td>1170</td>\n",
       "      <td>0</td>\n",
       "      <td>0</td>\n",
       "      <td>0</td>\n",
       "      <td>0</td>\n",
       "    </tr>\n",
       "    <tr>\n",
       "      <th>26877</th>\n",
       "      <td>440000</td>\n",
       "      <td>1</td>\n",
       "      <td>2</td>\n",
       "      <td>1</td>\n",
       "      <td>34</td>\n",
       "      <td>0</td>\n",
       "      <td>0</td>\n",
       "      <td>0</td>\n",
       "      <td>0</td>\n",
       "      <td>0</td>\n",
       "      <td>...</td>\n",
       "      <td>119829</td>\n",
       "      <td>87068</td>\n",
       "      <td>23533</td>\n",
       "      <td>10506</td>\n",
       "      <td>8833</td>\n",
       "      <td>5456</td>\n",
       "      <td>2519</td>\n",
       "      <td>875</td>\n",
       "      <td>1018</td>\n",
       "      <td>0</td>\n",
       "    </tr>\n",
       "    <tr>\n",
       "      <th>14709</th>\n",
       "      <td>500000</td>\n",
       "      <td>2</td>\n",
       "      <td>1</td>\n",
       "      <td>1</td>\n",
       "      <td>39</td>\n",
       "      <td>-1</td>\n",
       "      <td>0</td>\n",
       "      <td>-1</td>\n",
       "      <td>-1</td>\n",
       "      <td>-1</td>\n",
       "      <td>...</td>\n",
       "      <td>33120</td>\n",
       "      <td>21771</td>\n",
       "      <td>52277</td>\n",
       "      <td>90668</td>\n",
       "      <td>26834</td>\n",
       "      <td>33452</td>\n",
       "      <td>21881</td>\n",
       "      <td>52539</td>\n",
       "      <td>57159</td>\n",
       "      <td>0</td>\n",
       "    </tr>\n",
       "    <tr>\n",
       "      <th>27506</th>\n",
       "      <td>170000</td>\n",
       "      <td>1</td>\n",
       "      <td>1</td>\n",
       "      <td>2</td>\n",
       "      <td>51</td>\n",
       "      <td>0</td>\n",
       "      <td>0</td>\n",
       "      <td>0</td>\n",
       "      <td>0</td>\n",
       "      <td>0</td>\n",
       "      <td>...</td>\n",
       "      <td>180389</td>\n",
       "      <td>137030</td>\n",
       "      <td>129222</td>\n",
       "      <td>6873</td>\n",
       "      <td>7509</td>\n",
       "      <td>5573</td>\n",
       "      <td>4309</td>\n",
       "      <td>4239</td>\n",
       "      <td>5142</td>\n",
       "      <td>1</td>\n",
       "    </tr>\n",
       "    <tr>\n",
       "      <th>1847</th>\n",
       "      <td>30000</td>\n",
       "      <td>1</td>\n",
       "      <td>2</td>\n",
       "      <td>2</td>\n",
       "      <td>26</td>\n",
       "      <td>1</td>\n",
       "      <td>3</td>\n",
       "      <td>2</td>\n",
       "      <td>2</td>\n",
       "      <td>0</td>\n",
       "      <td>...</td>\n",
       "      <td>29504</td>\n",
       "      <td>30276</td>\n",
       "      <td>29695</td>\n",
       "      <td>0</td>\n",
       "      <td>1060</td>\n",
       "      <td>0</td>\n",
       "      <td>1251</td>\n",
       "      <td>1078</td>\n",
       "      <td>1243</td>\n",
       "      <td>1</td>\n",
       "    </tr>\n",
       "  </tbody>\n",
       "</table>\n",
       "<p>5 rows × 24 columns</p>\n",
       "</div>"
      ],
      "text/plain": [
       "       LIMIT_BAL  GENDER  EDUCATION  MARRIAGE  AGE  PAY_1  PAY_2  PAY_3  \\\n",
       "4444      100000       1          2         2   36      8      7      6   \n",
       "26877     440000       1          2         1   34      0      0      0   \n",
       "14709     500000       2          1         1   39     -1      0     -1   \n",
       "27506     170000       1          1         2   51      0      0      0   \n",
       "1847       30000       1          2         2   26      1      3      2   \n",
       "\n",
       "       PAY_4  PAY_5   ...     BILL_AMT4  BILL_AMT5  BILL_AMT6  PAY_AMT1  \\\n",
       "4444       5      4   ...        104554     102360     100413         0   \n",
       "26877      0      0   ...        119829      87068      23533     10506   \n",
       "14709     -1     -1   ...         33120      21771      52277     90668   \n",
       "27506      0      0   ...        180389     137030     129222      6873   \n",
       "1847       2      0   ...         29504      30276      29695         0   \n",
       "\n",
       "       PAY_AMT2  PAY_AMT3  PAY_AMT4  PAY_AMT5  PAY_AMT6  DEFAULT  \n",
       "4444          0      1170         0         0         0        0  \n",
       "26877      8833      5456      2519       875      1018        0  \n",
       "14709     26834     33452     21881     52539     57159        0  \n",
       "27506      7509      5573      4309      4239      5142        1  \n",
       "1847       1060         0      1251      1078      1243        1  \n",
       "\n",
       "[5 rows x 24 columns]"
      ]
     },
     "execution_count": 5,
     "metadata": {},
     "output_type": "execute_result"
    }
   ],
   "source": [
    "Taiwan_df.sample(5)"
   ]
  },
  {
   "cell_type": "code",
   "execution_count": 6,
   "metadata": {},
   "outputs": [],
   "source": [
    "#Taiwan_df[['GENDER','EDUCATION', 'MARRIAGE', 'AGE']].describe()"
   ]
  },
  {
   "cell_type": "code",
   "execution_count": 7,
   "metadata": {},
   "outputs": [],
   "source": [
    "#Taiwan_df[['PAY_1', 'PAY_2', 'PAY_3', 'PAY_4', 'PAY_5', 'PAY_6']].describe()"
   ]
  },
  {
   "cell_type": "code",
   "execution_count": 8,
   "metadata": {},
   "outputs": [
    {
     "name": "stdout",
     "output_type": "stream",
     "text": [
      "AxesSubplot(0.125,0.125;0.775x0.755)\n"
     ]
    },
    {
     "data": {
      "image/png": "[encoded data removed]",
      "text/plain": [
       "<Figure size 432x288 with 1 Axes>"
      ]
     },
     "metadata": {
      "needs_background": "light"
     },
     "output_type": "display_data"
    }
   ],
   "source": [
    "# What is the age distribution\n",
    "print(Taiwan_df.AGE.hist())"
   ]
  },
  {
   "cell_type": "code",
   "execution_count": 9,
   "metadata": {},
   "outputs": [
    {
     "name": "stdout",
     "output_type": "stream",
     "text": [
      "Most of the individuals in the dataset ate single, followed by married\n"
     ]
    },
    {
     "data": {
      "text/plain": [
       "2    15964\n",
       "1    13659\n",
       "Name: MARRIAGE, dtype: int64"
      ]
     },
     "execution_count": 9,
     "metadata": {},
     "output_type": "execute_result"
    }
   ],
   "source": [
    "# How many people are married etc. (1 = married; 2 = single; 3,0 = others)\n",
    "print('Most of the individuals in the dataset ate single, followed by married')\n",
    "Taiwan_df['MARRIAGE'].value_counts()"
   ]
  },
  {
   "cell_type": "code",
   "execution_count": 10,
   "metadata": {},
   "outputs": [
    {
     "data": {
      "text/plain": [
       "<matplotlib.axes._subplots.AxesSubplot at 0x1fe60114b38>"
      ]
     },
     "execution_count": 10,
     "metadata": {},
     "output_type": "execute_result"
    },
    {
     "data": {
      "image/png": "[encoded data removed]",
      "text/plain": [
       "<Figure size 432x288 with 1 Axes>"
      ]
     },
     "metadata": {
      "needs_background": "light"
     },
     "output_type": "display_data"
    }
   ],
   "source": [
    "# Plot distribution of Marriage (1 = married; 2 = single; 3,0 = others)\n",
    "Taiwan_df.MARRIAGE.value_counts().plot(kind = 'bar')"
   ]
  },
  {
   "cell_type": "code",
   "execution_count": 11,
   "metadata": {},
   "outputs": [
    {
     "data": {
      "text/plain": [
       "2    13862\n",
       "1    10531\n",
       "3     4770\n",
       "5      277\n",
       "4      120\n",
       "6       49\n",
       "0       14\n",
       "Name: EDUCATION, dtype: int64"
      ]
     },
     "execution_count": 11,
     "metadata": {},
     "output_type": "execute_result"
    }
   ],
   "source": [
    "# Educational distribution (1=grad school; 2=university; 3=high school; 0,4, 5, 6=others)\n",
    "Taiwan_df.EDUCATION.value_counts() "
   ]
  },
  {
   "cell_type": "code",
   "execution_count": 12,
   "metadata": {},
   "outputs": [
    {
     "data": {
      "text/plain": [
       "2    17880\n",
       "1    11743\n",
       "Name: GENDER, dtype: int64"
      ]
     },
     "execution_count": 12,
     "metadata": {},
     "output_type": "execute_result"
    }
   ],
   "source": [
    "# Count how many men(1) & women (2)\n",
    "Taiwan_df.GENDER.value_counts()"
   ]
  },
  {
   "cell_type": "code",
   "execution_count": 13,
   "metadata": {},
   "outputs": [
    {
     "data": {
      "text/plain": [
       "GENDER  DEFAULT\n",
       "1       0           8912\n",
       "        1           2831\n",
       "2       0          14164\n",
       "        1           3716\n",
       "dtype: int64"
      ]
     },
     "execution_count": 13,
     "metadata": {},
     "output_type": "execute_result"
    }
   ],
   "source": [
    "### get into the meat of whats what\n",
    "#gender = Taiwan_df.groupby(['MARRIAGE', 'DEFAULT']).size().unstack(1)\n",
    "gender = Taiwan_df.groupby(['MARRIAGE', 'DEFAULT']).size()\n",
    "# 1 is the default for unstack, but I put it to show explicitly what we are unstacking\n",
    "gender"
   ]
  },
  {
   "cell_type": "code",
   "execution_count": 14,
   "metadata": {
    "scrolled": true
   },
   "outputs": [
    {
     "data": {
      "text/plain": [
       "<matplotlib.axes._subplots.AxesSubplot at 0x1fe6282f2b0>"
      ]
     },
     "execution_count": 14,
     "metadata": {},
     "output_type": "execute_result"
    },
    {
     "data": {
      "image/png": "[encoded data removed]",
      "text/plain": [
       "<Figure size 432x288 with 1 Axes>"
      ]
     },
     "metadata": {
      "needs_background": "light"
     },
     "output_type": "display_data"
    }
   ],
   "source": [
    "# Plot chart of number of women who've defaulted etc.\n",
    "gender.plot(kind='bar', stacked = True)"
   ]
  },
  {
   "cell_type": "code",
   "execution_count": 15,
   "metadata": {},
   "outputs": [
    {
     "name": "stdout",
     "output_type": "stream",
     "text": [
      "Total number of examples     :  29623\n",
      "Number of Defaults           :  6547\n",
      "Number of NonDefaults        :  23076\n",
      "Number of Male defaults      :  2831\n",
      "Number of Female defaults    :  3716\n",
      "Percentage of Defaults       :  22.101070114438105 %\n",
      "Defaults - Male percentage   :  43.24117916603024 %\n",
      "Defaults - Female percentage :  56.75882083396976 %\n",
      "\n",
      "Checksum of all Marriage Percentages:  100.0\n"
     ]
    }
   ],
   "source": [
    "# Calculate the percentages of male / females who have defaulted\n",
    "PercentDefaults = MalePercentDefaults = FemalePercentDefaults = 0\n",
    "TotalRows            = len(Taiwan_df)\n",
    "TotalDefaults        = len(Taiwan_df[Taiwan_df[\"DEFAULT\"]==1])\n",
    "TotalNonDefaults     = len(Taiwan_df[Taiwan_df[\"DEFAULT\"]==0])\n",
    "MaleDefaults         = len(Taiwan_df[(Taiwan_df[\"DEFAULT\"]==1) & (Taiwan_df[\"GENDER\"]==1)])\n",
    "FemaleDefaults       = len(Taiwan_df[(Taiwan_df[\"DEFAULT\"]==1) & (Taiwan_df[\"GENDER\"]==2)])\n",
    "PercentDefaults      = (100*TotalDefaults) / TotalRows\n",
    "MalePercentDefaults  = (100*MaleDefaults) / TotalDefaults\n",
    "FemalePercentDefaults= (100*FemaleDefaults) / TotalDefaults\n",
    "\n",
    "print('Total number of examples     : ', TotalRows)\n",
    "print('Number of Defaults           : ', TotalDefaults) \n",
    "print('Number of NonDefaults        : ', TotalNonDefaults) \n",
    "print('Number of Male defaults      : ', MaleDefaults)\n",
    "print('Number of Female defaults    : ', FemaleDefaults)\n",
    "print('Percentage of Defaults       : ', PercentDefaults,'%')\n",
    "print('Defaults - Male percentage   : ', MalePercentDefaults,'%')\n",
    "print('Defaults - Female percentage : ', FemalePercentDefaults,'%')\n",
    "print('')\n",
    "print('Checksum of all Marriage Percentages: ', MalePercentDefaults + FemalePercentDefaults)"
   ]
  },
  {
   "cell_type": "code",
   "execution_count": 16,
   "metadata": {},
   "outputs": [
    {
     "name": "stdout",
     "output_type": "stream",
     "text": [
      "Total number of examples         :  29623\n",
      "Total number of Males            :  11743   39.641494784458025 %\n",
      "Total number of Females          :  17880   60.358505215541975 %\n",
      "Ratio of Females to Males        :  1.5226092139998297\n",
      "Total number of Other            :  0      0.0 %\n",
      "Number of Defaults               :  6547    22.101070114438105 %\n",
      "\n",
      "Percentage of Married Males      :  17.520170138068394\n",
      "Percentage of Married Females    :  28.589271849576342\n",
      "Ratio of Married Females to Males:  1.4361361208606744\n",
      "\n",
      "Percentage of Single Males       :  22.12132464638963\n",
      "Percentage of Single Females     :  31.769233365965636\n",
      "Ratio of Single  Females to Males:  1.631791907514451\n",
      "Checksum of all Marriage Percentages :  100.0\n",
      "\n",
      "Number of Married Male defaults  :  1346\n",
      "Number of Married Female defaults:  1860\n",
      "Ratio of Married+Defaulted Females to Males :  1.3818722139673105\n",
      " \n",
      "Number of Single Male defaults   :  1485\n",
      "Number of Single Female defaults :  1856\n",
      "Ratio of Single +Defaulted Females to Males :  1.2498316498316497\n",
      " \n",
      "Number of Other Married defaults :  0\n",
      "Checksum of all Marriage defaults:  6547\n",
      "\n",
      "Percentage Default Married Males :  20.559034672369023\n",
      "Percentage Default Married Females: 28.409958759737286\n",
      "Percentage Default Single Males  :  22.68214449366122\n",
      "Percentage Default Single Females:  28.34886207423247\n",
      "Percentage Default Other Marriage:  0.0\n",
      "Checksum of all Default Percentages: 100.0\n"
     ]
    }
   ],
   "source": [
    "# Calculate the percentages of married / single male / females who have defaulted\n",
    "MarriedMalePercent = MarriedMaleDefaultPercent = MarriedFemalePercent = MarriedFemaleDefaultPercent = 0 \n",
    "MalesPercent = FemalesPercent = TotalMales = TotalFemales = Ratio_F_M = 0\n",
    "TotalRows            = len(Taiwan_df)\n",
    "TotalMales           = len(Taiwan_df[Taiwan_df[\"GENDER\"]==1])\n",
    "TotalFemales         = len(Taiwan_df[Taiwan_df[\"GENDER\"]==2])\n",
    "TotalDefaults        = len(Taiwan_df[Taiwan_df[\"DEFAULT\"]==1])\n",
    "\n",
    "MarriedMales         = len(Taiwan_df[(Taiwan_df[\"GENDER\"]==1)  & (Taiwan_df[\"MARRIAGE\"]==1)])\n",
    "MarriedFemales       = len(Taiwan_df[(Taiwan_df[\"GENDER\"]==2)  & (Taiwan_df[\"MARRIAGE\"]==1)])\n",
    "MarriedMaleDefaults  = len(Taiwan_df[(Taiwan_df[\"DEFAULT\"]==1) & (Taiwan_df[\"GENDER\"]==1) & (Taiwan_df[\"MARRIAGE\"]==1)])\n",
    "MarriedFemaleDefaults= len(Taiwan_df[(Taiwan_df[\"DEFAULT\"]==1) & (Taiwan_df[\"GENDER\"]==2) & (Taiwan_df[\"MARRIAGE\"]==1)])\n",
    "\n",
    "SingleMales          = len(Taiwan_df[(Taiwan_df[\"GENDER\"]==1)  & (Taiwan_df[\"MARRIAGE\"]==2)])\n",
    "SingleFemales        = len(Taiwan_df[(Taiwan_df[\"GENDER\"]==2)  & (Taiwan_df[\"MARRIAGE\"]==2)])\n",
    "SingleMaleDefaults   = len(Taiwan_df[(Taiwan_df[\"DEFAULT\"]==1) & (Taiwan_df[\"GENDER\"]==1) & (Taiwan_df[\"MARRIAGE\"]==2)])\n",
    "SingleFemaleDefaults = len(Taiwan_df[(Taiwan_df[\"DEFAULT\"]==1) & (Taiwan_df[\"GENDER\"]==2) & (Taiwan_df[\"MARRIAGE\"]==2)])\n",
    "\n",
    "OtherMarriage        = len(Taiwan_df[(Taiwan_df[\"MARRIAGE\"]==3)])\n",
    "OtherMarriageDefaults= len(Taiwan_df[(Taiwan_df[\"DEFAULT\"]==1) & (Taiwan_df[\"MARRIAGE\"]==3)])\n",
    "OtherMarriagePercent = (100*OtherMarriage) / TotalRows\n",
    "OtherMarriageDefaultP= (100*OtherMarriageDefaults) / TotalDefaults\n",
    "\n",
    "MalesPercent                = (100*TotalMales)   / TotalRows\n",
    "FemalesPercent              = (100*TotalFemales) / TotalRows\n",
    "\n",
    "MarriedMalePercent          = (100*MarriedMales) / TotalRows\n",
    "MarriedMaleDefaultPercent   = (100*MarriedMaleDefaults) / TotalDefaults\n",
    "MarriedFemalePercent        = (100*MarriedFemales) / TotalRows\n",
    "MarriedFemaleDefaultPercent = (100*MarriedFemaleDefaults) / TotalDefaults\n",
    "\n",
    "SingleMalePercent           = (100*SingleMales) / TotalRows\n",
    "SingleMaleDefaultPercent    = (100*SingleMaleDefaults) / TotalDefaults\n",
    "SingleFemalePercent         = (100*SingleFemales) / TotalRows\n",
    "SingleFemaleDefaultPercent  = (100*SingleFemaleDefaults) / TotalDefaults\n",
    "\n",
    "TotalMales = TotalFemales   = Ratio_F_M = 0\n",
    "Ratio_Married_F_M = Ratio_Single_F_M = Ratio_Defa_Married_F_M = Ratio_Defa_Single_F_M = 0 \n",
    "TotalMales                  = len(Taiwan_df[Taiwan_df[\"GENDER\"]==1])\n",
    "TotalFemales                = len(Taiwan_df[Taiwan_df[\"GENDER\"]==2])\n",
    "Ratio_F_M                   = TotalFemales / TotalMales\n",
    "Ratio_Married_F_M           = MarriedFemales / MarriedMales\n",
    "Ratio_Single_F_M            = SingleFemales / SingleMales\n",
    "Ratio_Defa_Married_F_M      = MarriedFemaleDefaults / MarriedMaleDefaults\n",
    "Ratio_Defa_Single_F_M       = SingleFemaleDefaults  / SingleMaleDefaults\n",
    "\n",
    "\n",
    "print('Total number of examples         : ', TotalRows)\n",
    "print('Total number of Males            : ', TotalMales, ' ', MalesPercent,'%')\n",
    "print('Total number of Females          : ', TotalFemales, ' ', FemalesPercent,'%')\n",
    "print('Ratio of Females to Males        : ', Ratio_F_M)\n",
    "print('Total number of Other            : ', OtherMarriage, '    ',OtherMarriagePercent, '%')\n",
    "print('Number of Defaults               : ', TotalDefaults,'  ',PercentDefaults,'%') \n",
    "print('')\n",
    "print('Percentage of Married Males      : ', MarriedMalePercent)\n",
    "print('Percentage of Married Females    : ', MarriedFemalePercent)\n",
    "print('Ratio of Married Females to Males: ', Ratio_Single_F_M)\n",
    "print('')\n",
    "print('Percentage of Single Males       : ', SingleMalePercent)\n",
    "print('Percentage of Single Females     : ', SingleFemalePercent)\n",
    "print('Ratio of Single  Females to Males: ', Ratio_Married_F_M)\n",
    "print('Checksum of all Marriage Percentages : ', MarriedMalePercent + MarriedFemalePercent + SingleMalePercent + SingleFemalePercent + OtherMarriagePercent)\n",
    "print('')\n",
    "print('Number of Married Male defaults  : ', MarriedMaleDefaults)\n",
    "print('Number of Married Female defaults: ', MarriedFemaleDefaults)\n",
    "print('Ratio of Married+Defaulted Females to Males : ',Ratio_Defa_Married_F_M)\n",
    "print(' ')\n",
    "print('Number of Single Male defaults   : ', SingleMaleDefaults)\n",
    "print('Number of Single Female defaults : ', SingleFemaleDefaults)\n",
    "print('Ratio of Single +Defaulted Females to Males : ',Ratio_Defa_Single_F_M)\n",
    "print(' ')\n",
    "print('Number of Other Married defaults : ', OtherMarriageDefaults)\n",
    "print('Checksum of all Marriage defaults: ', MarriedMaleDefaults + MarriedFemaleDefaults + SingleMaleDefaults + SingleFemaleDefaults + OtherMarriageDefaults)\n",
    "print('')\n",
    "print('Percentage Default Married Males : ', MarriedMaleDefaultPercent)\n",
    "print('Percentage Default Married Females:', MarriedFemaleDefaultPercent)\n",
    "print('Percentage Default Single Males  : ', SingleMaleDefaultPercent)\n",
    "print('Percentage Default Single Females: ', SingleFemaleDefaultPercent)\n",
    "print('Percentage Default Other Marriage: ', OtherMarriageDefaultP)\n",
    "print('Checksum of all Default Percentages:', MarriedMaleDefaultPercent + MarriedFemaleDefaultPercent + SingleMaleDefaultPercent + SingleFemaleDefaultPercent + OtherMarriageDefaultP)\n",
    "\n",
    "#print('Number of Marriage Other defaults: ', OtherMarriageDefaultP)\n",
    "\n"
   ]
  },
  {
   "cell_type": "code",
   "execution_count": 17,
   "metadata": {},
   "outputs": [
    {
     "name": "stdout",
     "output_type": "stream",
     "text": [
      "Ratio of Females to Males                   :  1.5226092139998297\n",
      "Ratio of Married Females to Males           :  1.4361361208606744\n",
      "Ratio of Single  Females to Males           :  1.631791907514451\n",
      "Ratio of Married+Defaulted Females to Males :  1.3818722139673105\n",
      "Ratio of Single +Defaulted Females to Males :  1.2498316498316497\n"
     ]
    }
   ],
   "source": [
    "#Ratios \n",
    "TotalMales = TotalFemales = Ratio_F_M = 0\n",
    "Ratio_Married_F_M = Ratio_Single_F_M = Ratio_Defa_Married_F_M = Ratio_Defa_Single_F_M = 0 \n",
    "TotalMales             = len(Taiwan_df[Taiwan_df[\"GENDER\"]==1])\n",
    "TotalFemales           = len(Taiwan_df[Taiwan_df[\"GENDER\"]==2])\n",
    "Ratio_F_M              = TotalFemales / TotalMales\n",
    "Ratio_Married_F_M      = MarriedFemales / MarriedMales\n",
    "Ratio_Single_F_M       = SingleFemales / SingleMales\n",
    "Ratio_Defa_Married_F_M = MarriedFemaleDefaults / MarriedMaleDefaults\n",
    "Ratio_Defa_Single_F_M  = SingleFemaleDefaults  / SingleMaleDefaults\n",
    "\n",
    "print('Ratio of Females to Males                   : ', Ratio_F_M)\n",
    "print('Ratio of Married Females to Males           : ', Ratio_Single_F_M)\n",
    "print('Ratio of Single  Females to Males           : ', Ratio_Married_F_M)\n",
    "print('Ratio of Married+Defaulted Females to Males : ',Ratio_Defa_Married_F_M)\n",
    "print('Ratio of Single +Defaulted Females to Males : ',Ratio_Defa_Single_F_M)"
   ]
  },
  {
   "cell_type": "code",
   "execution_count": 18,
   "metadata": {},
   "outputs": [
    {
     "data": {
      "text/html": [
       "<div>\n",
       "<style scoped>\n",
       "    .dataframe tbody tr th:only-of-type {\n",
       "        vertical-align: middle;\n",
       "    }\n",
       "\n",
       "    .dataframe tbody tr th {\n",
       "        vertical-align: top;\n",
       "    }\n",
       "\n",
       "    .dataframe thead th {\n",
       "        text-align: right;\n",
       "    }\n",
       "</style>\n",
       "<table border=\"1\" class=\"dataframe\">\n",
       "  <thead>\n",
       "    <tr style=\"text-align: right;\">\n",
       "      <th></th>\n",
       "      <th>LIMIT_BAL</th>\n",
       "      <th>GENDER</th>\n",
       "      <th>EDUCATION</th>\n",
       "      <th>MARRIAGE</th>\n",
       "      <th>AGE</th>\n",
       "      <th>PAY_1</th>\n",
       "      <th>PAY_2</th>\n",
       "      <th>PAY_3</th>\n",
       "      <th>PAY_4</th>\n",
       "      <th>PAY_5</th>\n",
       "      <th>...</th>\n",
       "      <th>BILL_AMT3</th>\n",
       "      <th>BILL_AMT4</th>\n",
       "      <th>BILL_AMT5</th>\n",
       "      <th>BILL_AMT6</th>\n",
       "      <th>PAY_AMT1</th>\n",
       "      <th>PAY_AMT2</th>\n",
       "      <th>PAY_AMT3</th>\n",
       "      <th>PAY_AMT4</th>\n",
       "      <th>PAY_AMT5</th>\n",
       "      <th>PAY_AMT6</th>\n",
       "    </tr>\n",
       "    <tr>\n",
       "      <th>DEFAULT</th>\n",
       "      <th></th>\n",
       "      <th></th>\n",
       "      <th></th>\n",
       "      <th></th>\n",
       "      <th></th>\n",
       "      <th></th>\n",
       "      <th></th>\n",
       "      <th></th>\n",
       "      <th></th>\n",
       "      <th></th>\n",
       "      <th></th>\n",
       "      <th></th>\n",
       "      <th></th>\n",
       "      <th></th>\n",
       "      <th></th>\n",
       "      <th></th>\n",
       "      <th></th>\n",
       "      <th></th>\n",
       "      <th></th>\n",
       "      <th></th>\n",
       "      <th></th>\n",
       "    </tr>\n",
       "  </thead>\n",
       "  <tbody>\n",
       "    <tr>\n",
       "      <th>0</th>\n",
       "      <td>178931.443924</td>\n",
       "      <td>1.613798</td>\n",
       "      <td>1.835110</td>\n",
       "      <td>1.547019</td>\n",
       "      <td>35.337797</td>\n",
       "      <td>-0.213555</td>\n",
       "      <td>-0.303389</td>\n",
       "      <td>-0.317689</td>\n",
       "      <td>-0.356474</td>\n",
       "      <td>-0.390362</td>\n",
       "      <td>...</td>\n",
       "      <td>47696.993023</td>\n",
       "      <td>43798.297539</td>\n",
       "      <td>40707.913893</td>\n",
       "      <td>39189.658606</td>\n",
       "      <td>6283.82848</td>\n",
       "      <td>6620.012307</td>\n",
       "      <td>5737.164110</td>\n",
       "      <td>5296.068686</td>\n",
       "      <td>5251.803995</td>\n",
       "      <td>5752.308676</td>\n",
       "    </tr>\n",
       "    <tr>\n",
       "      <th>1</th>\n",
       "      <td>130845.834733</td>\n",
       "      <td>1.567588</td>\n",
       "      <td>1.890484</td>\n",
       "      <td>1.510310</td>\n",
       "      <td>35.626088</td>\n",
       "      <td>0.669161</td>\n",
       "      <td>0.458072</td>\n",
       "      <td>0.358638</td>\n",
       "      <td>0.249580</td>\n",
       "      <td>0.166488</td>\n",
       "      <td>...</td>\n",
       "      <td>45315.334657</td>\n",
       "      <td>42169.723232</td>\n",
       "      <td>39694.272644</td>\n",
       "      <td>38440.813502</td>\n",
       "      <td>3398.31587</td>\n",
       "      <td>3387.939056</td>\n",
       "      <td>3387.148159</td>\n",
       "      <td>3171.134260</td>\n",
       "      <td>3238.449672</td>\n",
       "      <td>3437.120208</td>\n",
       "    </tr>\n",
       "  </tbody>\n",
       "</table>\n",
       "<p>2 rows × 23 columns</p>\n",
       "</div>"
      ],
      "text/plain": [
       "             LIMIT_BAL    GENDER  EDUCATION  MARRIAGE        AGE     PAY_1  \\\n",
       "DEFAULT                                                                      \n",
       "0        178931.443924  1.613798   1.835110  1.547019  35.337797 -0.213555   \n",
       "1        130845.834733  1.567588   1.890484  1.510310  35.626088  0.669161   \n",
       "\n",
       "            PAY_2     PAY_3     PAY_4     PAY_5     ...          BILL_AMT3  \\\n",
       "DEFAULT                                             ...                      \n",
       "0       -0.303389 -0.317689 -0.356474 -0.390362     ...       47696.993023   \n",
       "1        0.458072  0.358638  0.249580  0.166488     ...       45315.334657   \n",
       "\n",
       "            BILL_AMT4     BILL_AMT5     BILL_AMT6    PAY_AMT1     PAY_AMT2  \\\n",
       "DEFAULT                                                                      \n",
       "0        43798.297539  40707.913893  39189.658606  6283.82848  6620.012307   \n",
       "1        42169.723232  39694.272644  38440.813502  3398.31587  3387.939056   \n",
       "\n",
       "            PAY_AMT3     PAY_AMT4     PAY_AMT5     PAY_AMT6  \n",
       "DEFAULT                                                      \n",
       "0        5737.164110  5296.068686  5251.803995  5752.308676  \n",
       "1        3387.148159  3171.134260  3238.449672  3437.120208  \n",
       "\n",
       "[2 rows x 23 columns]"
      ]
     },
     "execution_count": 18,
     "metadata": {},
     "output_type": "execute_result"
    }
   ],
   "source": [
    "# Use this to get the average of all columns for each value of DEFAULT\n",
    "Taiwan_df.groupby('DEFAULT').mean()"
   ]
  },
  {
   "cell_type": "code",
   "execution_count": 19,
   "metadata": {},
   "outputs": [],
   "source": [
    "#https://www.kaggle.com/lucabasa/credit-card-default-a-very-pedagogical-notebook/"
   ]
  }
 ],
 "metadata": {
  "kernelspec": {
   "display_name": "Python 3",
   "language": "python",
   "name": "python3"
  },
  "language_info": {
   "codemirror_mode": {
    "name": "ipython",
    "version": 3
   },
   "file_extension": ".py",
   "mimetype": "text/x-python",
   "name": "python",
   "nbconvert_exporter": "python",
   "pygments_lexer": "ipython3",
   "version": "3.7.3"
  }
 },
 "nbformat": 4,
 "nbformat_minor": 2
}
