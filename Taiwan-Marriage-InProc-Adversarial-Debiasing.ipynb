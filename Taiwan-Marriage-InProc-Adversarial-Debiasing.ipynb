{
 "cells": [
  {
   "cell_type": "code",
   "execution_count": 1,
   "metadata": {},
   "outputs": [],
   "source": [
    "# To be run after Adult-Data-Prep\n",
    "# Import Data handling/display libraries\n",
    "import sys\n",
    "import pandas as pd\n",
    "import numpy  as np \n",
    "import matplotlib.pyplot as plt\n",
    "import tensorflow as tf\n",
    "from sklearn.model_selection import train_test_split\n",
    "from sklearn.ensemble      import RandomForestClassifier\n",
    "from sklearn.linear_model  import LogisticRegression\n",
    "from sklearn.preprocessing import StandardScaler, MinMaxScaler\n",
    "from sklearn.metrics       import accuracy_score\n",
    "from sklearn.metrics       import balanced_accuracy_score\n",
    "from sklearn.metrics       import auc, roc_auc_score, roc_curve, classification_report, confusion_matrix\n",
    "from IPython.display       import Markdown, display\n",
    "# Import IBM's AI Fairness tooolbox\n",
    "from aif360.datasets       import BinaryLabelDataset\n",
    "from aif360.metrics        import BinaryLabelDatasetMetric\n",
    "from aif360.metrics        import ClassificationMetric\n",
    "from aif360.metrics.utils  import compute_boolean_conditioning_vector\n",
    "#from aif360.algorithms.preprocessing.optim_preproc_helpers.data_preproc_functions import load_preproc_data_adult, load_preproc_data_compas, load_preproc_data_german\n",
    "from aif360.algorithms.inprocessing.adversarial_debiasing import AdversarialDebiasing\n",
    "%matplotlib inline\n",
    "# Warnings will be used to silence various model warnings for tidier output\n",
    "import warnings\n",
    "warnings.filterwarnings('ignore')"
   ]
  },
  {
   "cell_type": "code",
   "execution_count": 2,
   "metadata": {},
   "outputs": [],
   "source": [
    "# Read the cleaned Taiwan-Credit-Card-Cleaned-Marriage dataset\n",
    "Taiwan_df = pd.read_csv('./input/Taiwan-Credit-Card-Cleaned-Marriage.csv')"
   ]
  },
  {
   "cell_type": "code",
   "execution_count": 3,
   "metadata": {},
   "outputs": [],
   "source": [
    "# Set privileged (1)/ unprivileged (0)/ favourable (1) / unfavourable values (0)\n",
    "protected_attr      = 'MARRIAGE'\n",
    "priv_grp            = 1  # Males \n",
    "unpriv_grp          = 0  # Females  \n",
    "lab                 = 'DEFAULT'\n",
    "fav_label           = 1 # Will not default next month\n",
    "unfav_label         = 0 # Will default next month\n",
    "privileged_groups   = [{protected_attr: priv_grp}]   # Males\n",
    "unprivileged_groups = [{protected_attr: unpriv_grp}] # Females"
   ]
  },
  {
   "cell_type": "code",
   "execution_count": 4,
   "metadata": {},
   "outputs": [],
   "source": [
    "# Create the traoning and test splits\n",
    "X = Taiwan_df.drop(lab,axis=1)\n",
    "y = Taiwan_df[lab]"
   ]
  },
  {
   "cell_type": "code",
   "execution_count": 5,
   "metadata": {},
   "outputs": [],
   "source": [
    "# Create a Binary Label Dataset to use with AIF360 APIs\n",
    "Taiwan_bld = BinaryLabelDataset(df=pd.concat((X, y), axis=1),\n",
    "                                label_names=[lab], protected_attribute_names=[protected_attr],\n",
    "                                favorable_label=fav_label, unfavorable_label=unfav_label)"
   ]
  },
  {
   "cell_type": "code",
   "execution_count": 6,
   "metadata": {},
   "outputs": [],
   "source": [
    "# Create train and test datasets\n",
    "Taiwan_train_bld, Taiwan_test_bld = Taiwan_bld.split([0.8], shuffle=True)"
   ]
  },
  {
   "cell_type": "code",
   "execution_count": 7,
   "metadata": {},
   "outputs": [],
   "source": [
    "#Scale the binary labelled datasets\n",
    "min_max_scaler = MinMaxScaler()\n",
    "Taiwan_train_bld.features = min_max_scaler.fit_transform(Taiwan_train_bld.features)\n",
    "Taiwan_test_bld.features  = min_max_scaler.fit_transform(Taiwan_test_bld.features)"
   ]
  },
  {
   "cell_type": "code",
   "execution_count": 8,
   "metadata": {},
   "outputs": [],
   "source": [
    "# Convert the train and test datasets to dataframes\n",
    "Taiwan_train_df, d = Taiwan_train_bld.convert_to_dataframe(de_dummy_code=False, sep='=', set_category=False)\n",
    "Taiwan_test_df,  d = Taiwan_test_bld.convert_to_dataframe(de_dummy_code=False, sep='=', set_category=False)"
   ]
  },
  {
   "cell_type": "code",
   "execution_count": 9,
   "metadata": {},
   "outputs": [
    {
     "name": "stdout",
     "output_type": "stream",
     "text": [
      "Biased Logistic regression validation accuracy: 0.8119831223628692\n",
      "Biased Random Forest       validation accuracy: 0.8027004219409283\n",
      "\n",
      "Biased Logistic regression balanced accuracy  : 0.6360746239680864\n",
      "Biased Random forest balanced accuracy        : 0.5950924915815957\n"
     ]
    }
   ],
   "source": [
    "# Determine the baseline model accuracy for Logistic Regression and Random Forest Classifiers\n",
    "X_train = Taiwan_train_df.drop(lab,axis=1)\n",
    "y_train = Taiwan_train_df[lab]\n",
    "X_test  = Taiwan_test_df.drop(lab,axis=1)\n",
    "y_test  = Taiwan_test_df[lab]\n",
    "BiasedLogModel = LogisticRegression(random_state=101)\n",
    "BiasedRfcModel = RandomForestClassifier(n_estimators=100,max_depth=4,random_state=101)\n",
    "BiasedLogModel.fit(X_train, y_train) \n",
    "BiasedRfcModel.fit(X_train, y_train)\n",
    "BiasedLogPredictions = BiasedLogModel.predict(X_test)\n",
    "BiasedRfcPredictions = BiasedRfcModel.predict(X_test)\n",
    "print(f\"Biased Logistic regression validation accuracy: {BiasedLogModel.score(X_test, y_test)}\")\n",
    "print(f\"Biased Random Forest       validation accuracy: {BiasedRfcModel.score(X_test, y_test)}\")\n",
    "print('')\n",
    "print(f\"Biased Logistic regression balanced accuracy  : {balanced_accuracy_score(y_test, BiasedLogPredictions)}\")\n",
    "print(f\"Biased Random forest balanced accuracy        : {balanced_accuracy_score(y_test, BiasedRfcPredictions)}\")"
   ]
  },
  {
   "cell_type": "code",
   "execution_count": 10,
   "metadata": {},
   "outputs": [
    {
     "name": "stdout",
     "output_type": "stream",
     "text": [
      "Training Before - DEFAULT value counts:\n",
      "1.0    18474\n",
      "0.0     5224\n",
      "Name: DEFAULT, dtype: int64\n",
      "Training Before - MARRIAGE value counts:\n",
      "0.0    12711\n",
      "1.0    10987\n",
      "Name: MARRIAGE, dtype: int64\n"
     ]
    }
   ],
   "source": [
    "print('Training Before - DEFAULT value counts:')\n",
    "print(Taiwan_train_df.DEFAULT.value_counts())\n",
    "print('Training Before - MARRIAGE value counts:')\n",
    "print(Taiwan_train_df.MARRIAGE.value_counts())"
   ]
  },
  {
   "cell_type": "code",
   "execution_count": 11,
   "metadata": {},
   "outputs": [
    {
     "name": "stdout",
     "output_type": "stream",
     "text": [
      "Test Before - DEFAULT value counts:\n",
      "1.0    4602\n",
      "0.0    1323\n",
      "Name: DEFAULT, dtype: int64\n",
      "Test Before - MARRIAGE value counts:\n",
      "0.0    3253\n",
      "1.0    2672\n",
      "Name: MARRIAGE, dtype: int64\n"
     ]
    }
   ],
   "source": [
    "print('Test Before - DEFAULT value counts:')\n",
    "print(Taiwan_test_df.DEFAULT.value_counts())\n",
    "print('Test Before - MARRIAGE value counts:')\n",
    "print(Taiwan_test_df.MARRIAGE.value_counts())"
   ]
  },
  {
   "cell_type": "code",
   "execution_count": 12,
   "metadata": {},
   "outputs": [],
   "source": [
    "# Create the binary label dataset metric class for the training dataset\n",
    "metric_train_bld = BinaryLabelDatasetMetric(Taiwan_train_bld, \n",
    "                                            unprivileged_groups=unprivileged_groups,\n",
    "                                            privileged_groups=privileged_groups)\n",
    "metric_test_bld = BinaryLabelDatasetMetric(Taiwan_test_bld, \n",
    "                                           unprivileged_groups=unprivileged_groups,\n",
    "                                           privileged_groups=privileged_groups)"
   ]
  },
  {
   "cell_type": "code",
   "execution_count": 13,
   "metadata": {},
   "outputs": [
    {
     "data": {
      "text/markdown": [
       "#### Orig training dataset"
      ],
      "text/plain": [
       "<IPython.core.display.Markdown object>"
      ]
     },
     "metadata": {},
     "output_type": "display_data"
    },
    {
     "name": "stdout",
     "output_type": "stream",
     "text": [
      "Number of instances           : 23698.0\n",
      "Base Rate                     : 0.7795594564942189\n",
      "Consistency                   : [0.78480041]\n",
      "Disparate Impact              : 1.0280649132335675\n",
      "Mean Difference               : 0.021553812493386948\n",
      "Statistical Parity Difference : 0.021553812493386948\n"
     ]
    },
    {
     "data": {
      "text/markdown": [
       "#### Orig test dataset"
      ],
      "text/plain": [
       "<IPython.core.display.Markdown object>"
      ]
     },
     "metadata": {},
     "output_type": "display_data"
    },
    {
     "name": "stdout",
     "output_type": "stream",
     "text": [
      "Number of instances           : 5925.0\n",
      "Base Rate                     : 0.7767088607594936\n",
      "Consistency                   : [0.7782616]\n",
      "Disparate Impact              : 1.054566008547941\n",
      "Mean Difference               : 0.04114914192518748\n",
      "Statistical Parity Difference : 0.04114914192518748\n"
     ]
    }
   ],
   "source": [
    "display(Markdown(\"#### Orig training dataset\"))\n",
    "print('Number of instances           :', metric_train_bld.num_instances())\n",
    "print('Base Rate                     :', metric_train_bld.base_rate())\n",
    "print('Consistency                   :', metric_train_bld.consistency())\n",
    "print('Disparate Impact              :', metric_train_bld.disparate_impact())\n",
    "print('Mean Difference               :', metric_train_bld.mean_difference())\n",
    "print('Statistical Parity Difference :', metric_train_bld.statistical_parity_difference()) \n",
    "display(Markdown(\"#### Orig test dataset\"))\n",
    "print('Number of instances           :', metric_test_bld.num_instances())\n",
    "print('Base Rate                     :', metric_test_bld.base_rate())\n",
    "print('Consistency                   :', metric_test_bld.consistency())\n",
    "print('Disparate Impact              :', metric_test_bld.disparate_impact())\n",
    "print('Mean Difference               :', metric_test_bld.mean_difference())\n",
    "print('Statistical Parity Difference :', metric_test_bld.statistical_parity_difference()) "
   ]
  },
  {
   "cell_type": "code",
   "execution_count": 14,
   "metadata": {},
   "outputs": [],
   "source": [
    "# Load post-processing algorithm that equalizes the odds\n",
    "# Learn parameters with debias set to FALSE!\n",
    "sess = tf.Session()\n",
    "biased_model = AdversarialDebiasing(privileged_groups = privileged_groups,\n",
    "                          unprivileged_groups = unprivileged_groups,\n",
    "                          scope_name='plain_classifier',\n",
    "                          debias=False,\n",
    "                          sess=sess)"
   ]
  },
  {
   "cell_type": "code",
   "execution_count": 15,
   "metadata": {},
   "outputs": [
    {
     "name": "stderr",
     "output_type": "stream",
     "text": [
      "WARNING: Logging before flag parsing goes to stderr.\n",
      "W0914 00:06:38.295317 26680 deprecation_wrapper.py:119] From c:\\users\\befaria\\appdata\\local\\continuum\\miniconda3\\lib\\site-packages\\aif360\\algorithms\\inprocessing\\adversarial_debiasing.py:138: The name tf.variable_scope is deprecated. Please use tf.compat.v1.variable_scope instead.\n",
      "\n",
      "W0914 00:06:38.298323 26680 deprecation_wrapper.py:119] From c:\\users\\befaria\\appdata\\local\\continuum\\miniconda3\\lib\\site-packages\\aif360\\algorithms\\inprocessing\\adversarial_debiasing.py:142: The name tf.placeholder is deprecated. Please use tf.compat.v1.placeholder instead.\n",
      "\n",
      "W0914 00:06:38.308331 26680 deprecation_wrapper.py:119] From c:\\users\\befaria\\appdata\\local\\continuum\\miniconda3\\lib\\site-packages\\aif360\\algorithms\\inprocessing\\adversarial_debiasing.py:87: The name tf.get_variable is deprecated. Please use tf.compat.v1.get_variable instead.\n",
      "\n",
      "W0914 00:06:40.056318 26680 lazy_loader.py:50] \n",
      "The TensorFlow contrib module will not be included in TensorFlow 2.0.\n",
      "For more information, please see:\n",
      "  * https://github.com/tensorflow/community/blob/master/rfcs/20180907-contrib-sunset.md\n",
      "  * https://github.com/tensorflow/addons\n",
      "  * https://github.com/tensorflow/io (for I/O related ops)\n",
      "If you depend on functionality not listed there, please file an issue.\n",
      "\n",
      "W0914 00:06:40.085323 26680 deprecation.py:506] From c:\\users\\befaria\\appdata\\local\\continuum\\miniconda3\\lib\\site-packages\\aif360\\algorithms\\inprocessing\\adversarial_debiasing.py:92: calling dropout (from tensorflow.python.ops.nn_ops) with keep_prob is deprecated and will be removed in a future version.\n",
      "Instructions for updating:\n",
      "Please use `rate` instead of `keep_prob`. Rate should be set to `rate = 1 - keep_prob`.\n",
      "W0914 00:06:40.138324 26680 deprecation.py:323] From c:\\users\\befaria\\appdata\\local\\continuum\\miniconda3\\lib\\site-packages\\tensorflow\\python\\ops\\nn_impl.py:180: add_dispatch_support.<locals>.wrapper (from tensorflow.python.ops.array_ops) is deprecated and will be removed in a future version.\n",
      "Instructions for updating:\n",
      "Use tf.where in 2.0, which has the same broadcast rule as np.where\n",
      "W0914 00:06:40.156318 26680 deprecation_wrapper.py:119] From c:\\users\\befaria\\appdata\\local\\continuum\\miniconda3\\lib\\site-packages\\aif360\\algorithms\\inprocessing\\adversarial_debiasing.py:160: The name tf.train.exponential_decay is deprecated. Please use tf.compat.v1.train.exponential_decay instead.\n",
      "\n",
      "W0914 00:06:40.170322 26680 deprecation_wrapper.py:119] From c:\\users\\befaria\\appdata\\local\\continuum\\miniconda3\\lib\\site-packages\\aif360\\algorithms\\inprocessing\\adversarial_debiasing.py:162: The name tf.train.AdamOptimizer is deprecated. Please use tf.compat.v1.train.AdamOptimizer instead.\n",
      "\n",
      "W0914 00:06:40.172318 26680 deprecation_wrapper.py:119] From c:\\users\\befaria\\appdata\\local\\continuum\\miniconda3\\lib\\site-packages\\aif360\\algorithms\\inprocessing\\adversarial_debiasing.py:166: The name tf.trainable_variables is deprecated. Please use tf.compat.v1.trainable_variables instead.\n",
      "\n",
      "W0914 00:06:40.481321 26680 deprecation_wrapper.py:119] From c:\\users\\befaria\\appdata\\local\\continuum\\miniconda3\\lib\\site-packages\\aif360\\algorithms\\inprocessing\\adversarial_debiasing.py:187: The name tf.global_variables_initializer is deprecated. Please use tf.compat.v1.global_variables_initializer instead.\n",
      "\n"
     ]
    },
    {
     "name": "stdout",
     "output_type": "stream",
     "text": [
      "epoch 0; iter: 0; batch classifier loss: 0.686926\n",
      "epoch 1; iter: 0; batch classifier loss: 0.473848\n",
      "epoch 2; iter: 0; batch classifier loss: 0.491747\n",
      "epoch 3; iter: 0; batch classifier loss: 0.406061\n",
      "epoch 4; iter: 0; batch classifier loss: 0.378639\n",
      "epoch 5; iter: 0; batch classifier loss: 0.429190\n",
      "epoch 6; iter: 0; batch classifier loss: 0.474371\n",
      "epoch 7; iter: 0; batch classifier loss: 0.419771\n",
      "epoch 8; iter: 0; batch classifier loss: 0.408401\n",
      "epoch 9; iter: 0; batch classifier loss: 0.398505\n",
      "epoch 10; iter: 0; batch classifier loss: 0.430726\n",
      "epoch 11; iter: 0; batch classifier loss: 0.468822\n",
      "epoch 12; iter: 0; batch classifier loss: 0.452588\n",
      "epoch 13; iter: 0; batch classifier loss: 0.465672\n",
      "epoch 14; iter: 0; batch classifier loss: 0.440301\n",
      "epoch 15; iter: 0; batch classifier loss: 0.401465\n",
      "epoch 16; iter: 0; batch classifier loss: 0.490134\n",
      "epoch 17; iter: 0; batch classifier loss: 0.376563\n",
      "epoch 18; iter: 0; batch classifier loss: 0.544678\n",
      "epoch 19; iter: 0; batch classifier loss: 0.458909\n",
      "epoch 20; iter: 0; batch classifier loss: 0.448685\n",
      "epoch 21; iter: 0; batch classifier loss: 0.385623\n",
      "epoch 22; iter: 0; batch classifier loss: 0.396505\n",
      "epoch 23; iter: 0; batch classifier loss: 0.458969\n",
      "epoch 24; iter: 0; batch classifier loss: 0.425198\n",
      "epoch 25; iter: 0; batch classifier loss: 0.514873\n",
      "epoch 26; iter: 0; batch classifier loss: 0.366675\n",
      "epoch 27; iter: 0; batch classifier loss: 0.482230\n",
      "epoch 28; iter: 0; batch classifier loss: 0.330909\n",
      "epoch 29; iter: 0; batch classifier loss: 0.367854\n",
      "epoch 30; iter: 0; batch classifier loss: 0.484351\n",
      "epoch 31; iter: 0; batch classifier loss: 0.437888\n",
      "epoch 32; iter: 0; batch classifier loss: 0.389808\n",
      "epoch 33; iter: 0; batch classifier loss: 0.395795\n",
      "epoch 34; iter: 0; batch classifier loss: 0.400090\n",
      "epoch 35; iter: 0; batch classifier loss: 0.338788\n",
      "epoch 36; iter: 0; batch classifier loss: 0.389217\n",
      "epoch 37; iter: 0; batch classifier loss: 0.435420\n",
      "epoch 38; iter: 0; batch classifier loss: 0.396875\n",
      "epoch 39; iter: 0; batch classifier loss: 0.542088\n",
      "epoch 40; iter: 0; batch classifier loss: 0.523174\n",
      "epoch 41; iter: 0; batch classifier loss: 0.468025\n",
      "epoch 42; iter: 0; batch classifier loss: 0.552222\n",
      "epoch 43; iter: 0; batch classifier loss: 0.451420\n",
      "epoch 44; iter: 0; batch classifier loss: 0.390191\n",
      "epoch 45; iter: 0; batch classifier loss: 0.411566\n",
      "epoch 46; iter: 0; batch classifier loss: 0.452379\n",
      "epoch 47; iter: 0; batch classifier loss: 0.462728\n",
      "epoch 48; iter: 0; batch classifier loss: 0.443965\n",
      "epoch 49; iter: 0; batch classifier loss: 0.398951\n"
     ]
    },
    {
     "data": {
      "text/plain": [
       "<aif360.algorithms.inprocessing.adversarial_debiasing.AdversarialDebiasing at 0x1efccb14c18>"
      ]
     },
     "execution_count": 15,
     "metadata": {},
     "output_type": "execute_result"
    }
   ],
   "source": [
    "biased_model.fit(Taiwan_train_bld)"
   ]
  },
  {
   "cell_type": "code",
   "execution_count": 16,
   "metadata": {},
   "outputs": [],
   "source": [
    "# Apply the plain model to test data\n",
    "Taiwan_biased_train = biased_model.predict(Taiwan_train_bld)\n",
    "Taiwan_biased_test  = biased_model.predict(Taiwan_test_bld)\n",
    "# And convert them to dataframes\n",
    "Taiwan_train_df, d = Taiwan_biased_train.convert_to_dataframe(de_dummy_code=False, sep='=', set_category=False)\n",
    "Taiwan_test_df, d  = Taiwan_biased_test.convert_to_dataframe(de_dummy_code=False, sep='=', set_category=False)"
   ]
  },
  {
   "cell_type": "code",
   "execution_count": 17,
   "metadata": {},
   "outputs": [
    {
     "name": "stdout",
     "output_type": "stream",
     "text": [
      "Model Accuracy for predicting the Sensitive Variable before bias transformation:\n",
      "Biased Logistic regression validation accuracy: 0.7250632911392405\n",
      "Biased Random Forest       validation accuracy: 0.7365400843881856\n",
      "\n",
      "Biased Balanced accuracy\n",
      "Biased Logistic regression balanced accuracy  : 0.7152918839541943\n",
      "Biased Random Forest       balanced accuracy  : 0.735536266845344\n"
     ]
    }
   ],
   "source": [
    "# Test whether it is possible to predict the Sensitive Variable from the biased dataset\n",
    "X_se_train = Taiwan_train_df.drop(protected_attr,axis=1)\n",
    "y_se_train = Taiwan_train_df[protected_attr]\n",
    "X_se_test  = Taiwan_test_df.drop(protected_attr,axis=1)\n",
    "y_se_test  = Taiwan_test_df[protected_attr]\n",
    "\n",
    "Se_BiasedLogModel = LogisticRegression(random_state=101)\n",
    "Se_BiasedRfcModel = RandomForestClassifier(n_estimators=100,max_depth=4,random_state=101)\n",
    "Se_BiasedLogModel.fit(X_se_train, y_se_train) \n",
    "Se_BiasedRfcModel.fit(X_se_train, y_se_train) \n",
    "yseLog_pred =  Se_BiasedLogModel.predict(X_se_test)\n",
    "yseRfc_pred =  Se_BiasedRfcModel.predict(X_se_test)\n",
    "# Now test whether we can predict Gender from the test dataset\n",
    "print('Model Accuracy for predicting the Sensitive Variable before bias transformation:')\n",
    "print(f\"Biased Logistic regression validation accuracy: {Se_BiasedLogModel.score(X_se_test, y_se_test)}\")\n",
    "print(f\"Biased Random Forest       validation accuracy: {Se_BiasedRfcModel.score(X_se_test, y_se_test)}\")\n",
    "print('')\n",
    "print('Biased Balanced accuracy')\n",
    "print(f\"Biased Logistic regression balanced accuracy  : {balanced_accuracy_score(y_se_test, yseLog_pred)}\")\n",
    "print(f\"Biased Random Forest       balanced accuracy  : {balanced_accuracy_score(y_se_test, yseRfc_pred)}\")"
   ]
  },
  {
   "cell_type": "code",
   "execution_count": 18,
   "metadata": {},
   "outputs": [
    {
     "data": {
      "text/markdown": [
       "#### Plain model - without debiasing - dataset metrics"
      ],
      "text/plain": [
       "<IPython.core.display.Markdown object>"
      ]
     },
     "metadata": {},
     "output_type": "display_data"
    },
    {
     "data": {
      "text/markdown": [
       "#### Biased training dataset"
      ],
      "text/plain": [
       "<IPython.core.display.Markdown object>"
      ]
     },
     "metadata": {},
     "output_type": "display_data"
    },
    {
     "name": "stdout",
     "output_type": "stream",
     "text": [
      "Number of instances           : 23698.0\n",
      "Base Rate                     : 0.8923537851295468\n",
      "Consistency                   : [0.97278251]\n",
      "Disparate Impact              : 1.0303979064550337\n",
      "Mean Difference               : 0.026690507287859266\n",
      "Statistical Parity Difference : 0.026690507287859266\n"
     ]
    },
    {
     "data": {
      "text/markdown": [
       "#### Biased test dataset"
      ],
      "text/plain": [
       "<IPython.core.display.Markdown object>"
      ]
     },
     "metadata": {},
     "output_type": "display_data"
    },
    {
     "name": "stdout",
     "output_type": "stream",
     "text": [
      "Number of instances           : 5925.0\n",
      "Base Rate                     : 0.8541772151898734\n",
      "Consistency                   : [0.96054008]\n",
      "Disparate Impact              : 1.040262810215215\n",
      "Mean Difference               : 0.033647775153658244\n",
      "Statistical Parity Difference : 0.033647775153658244\n"
     ]
    }
   ],
   "source": [
    "# Metrics for the dataset from plain model (without debiasing)\n",
    "display(Markdown(\"#### Plain model - without debiasing - dataset metrics\"))\n",
    "metric_biased_train = BinaryLabelDatasetMetric(Taiwan_biased_train, \n",
    "                             unprivileged_groups=unprivileged_groups,\n",
    "                             privileged_groups=privileged_groups)\n",
    "\n",
    "metric_biased_test = BinaryLabelDatasetMetric(Taiwan_biased_test, \n",
    "                            unprivileged_groups=unprivileged_groups,\n",
    "                            privileged_groups=privileged_groups)\n",
    "display(Markdown(\"#### Biased training dataset\"))\n",
    "print('Number of instances           :', metric_biased_train.num_instances())\n",
    "print('Base Rate                     :', metric_biased_train.base_rate())\n",
    "print('Consistency                   :', metric_biased_train.consistency())\n",
    "print('Disparate Impact              :', metric_biased_train.disparate_impact())\n",
    "print('Mean Difference               :', metric_biased_train.mean_difference())\n",
    "print('Statistical Parity Difference :', metric_biased_train.statistical_parity_difference()) \n",
    "display(Markdown(\"#### Biased test dataset\"))\n",
    "print('Number of instances           :', metric_biased_test.num_instances())\n",
    "print('Base Rate                     :', metric_biased_test.base_rate())\n",
    "print('Consistency                   :', metric_biased_test.consistency())\n",
    "print('Disparate Impact              :', metric_biased_test.disparate_impact())\n",
    "print('Mean Difference               :', metric_biased_test.mean_difference())\n",
    "print('Statistical Parity Difference :', metric_biased_test.statistical_parity_difference()) "
   ]
  },
  {
   "cell_type": "code",
   "execution_count": 19,
   "metadata": {},
   "outputs": [],
   "source": [
    "# Create the Classification metric for train and test\n",
    "classified_metric_biased_test = ClassificationMetric(Taiwan_train_bld, Taiwan_biased_train,\n",
    "                                       unprivileged_groups=unprivileged_groups,\n",
    "                                       privileged_groups=privileged_groups)\n",
    "classified_metric_biased_train = ClassificationMetric(Taiwan_test_bld, Taiwan_biased_test,\n",
    "                                       unprivileged_groups=unprivileged_groups,\n",
    "                                       privileged_groups=privileged_groups)"
   ]
  },
  {
   "cell_type": "code",
   "execution_count": 20,
   "metadata": {},
   "outputs": [
    {
     "data": {
      "text/markdown": [
       "#### Plain model - without debiasing - classification metrics"
      ],
      "text/plain": [
       "<IPython.core.display.Markdown object>"
      ]
     },
     "metadata": {},
     "output_type": "display_data"
    },
    {
     "data": {
      "text/markdown": [
       "#### Biased training dataset - CLassification Metrics"
      ],
      "text/plain": [
       "<IPython.core.display.Markdown object>"
      ]
     },
     "metadata": {},
     "output_type": "display_data"
    },
    {
     "name": "stdout",
     "output_type": "stream",
     "text": [
      "Classification accuracy         = 0.8141772151898734\n",
      "Balanced classification accuracy= 0.6703392786927895\n",
      "Disparate impact                = 1.040262810215215\n",
      "Equal opportunity difference    = 0.0039278277242290605\n",
      "Average odds difference         = 0.038771269162620525\n",
      "Theil_index                     = 0.09476389731126786\n"
     ]
    },
    {
     "data": {
      "text/markdown": [
       "#### Biased test dataset - CLassification Metrics"
      ],
      "text/plain": [
       "<IPython.core.display.Markdown object>"
      ]
     },
     "metadata": {},
     "output_type": "display_data"
    },
    {
     "name": "stdout",
     "output_type": "stream",
     "text": [
      "Classification accuracy         = 0.8221368891889611\n",
      "Balanced classification accuracy= 0.6495003697925034\n",
      "Disparate impact                = 1.0303979064550337\n",
      "Equal opportunity difference    = 0.01218290145048817\n",
      "Average odds difference         = 0.030403568726439345\n",
      "Theil_index                     = 0.07417301330576265\n"
     ]
    }
   ],
   "source": [
    "display(Markdown(\"#### Plain model - without debiasing - classification metrics\"))\n",
    "\n",
    "display(Markdown(\"#### Biased training dataset - CLassification Metrics\"))\n",
    "TPR_train = classified_metric_biased_train.true_positive_rate()\n",
    "TNR_train = classified_metric_biased_train.true_negative_rate()\n",
    "bal_acc_biased_train = 0.5*(TPR_train + TNR_train)\n",
    "print('Classification accuracy         =', classified_metric_biased_train.accuracy())\n",
    "print('Balanced classification accuracy=', bal_acc_biased_train)\n",
    "print('Disparate impact                =', classified_metric_biased_train.disparate_impact())\n",
    "print('Equal opportunity difference    =', classified_metric_biased_train.equal_opportunity_difference())\n",
    "print('Average odds difference         =', classified_metric_biased_train.average_odds_difference())\n",
    "print('Theil_index                     =', classified_metric_biased_train.theil_index())\n",
    "\n",
    "display(Markdown(\"#### Biased test dataset - CLassification Metrics\"))\n",
    "TPR_test = classified_metric_biased_test.true_positive_rate()\n",
    "TNR_test = classified_metric_biased_test.true_negative_rate()\n",
    "bal_acc_biased_test = 0.5*(TPR_test+TNR_test)\n",
    "print('Classification accuracy         =', classified_metric_biased_test.accuracy())\n",
    "print('Balanced classification accuracy=', bal_acc_biased_test)\n",
    "print('Disparate impact                =', classified_metric_biased_test.disparate_impact())\n",
    "print('Equal opportunity difference    =', classified_metric_biased_test.equal_opportunity_difference())\n",
    "print('Average odds difference         =', classified_metric_biased_test.average_odds_difference())\n",
    "print('Theil_index                     =', classified_metric_biased_test.theil_index())"
   ]
  },
  {
   "cell_type": "code",
   "execution_count": 21,
   "metadata": {},
   "outputs": [],
   "source": [
    "sess.close()\n",
    "tf.reset_default_graph()\n",
    "sess = tf.Session()"
   ]
  },
  {
   "cell_type": "code",
   "execution_count": 22,
   "metadata": {},
   "outputs": [],
   "source": [
    "unbiased_model = AdversarialDebiasing(privileged_groups = privileged_groups,\n",
    "                          unprivileged_groups = unprivileged_groups,\n",
    "                          scope_name='plain_classifier',\n",
    "                          debias=True,\n",
    "                          sess=sess)"
   ]
  },
  {
   "cell_type": "code",
   "execution_count": 23,
   "metadata": {},
   "outputs": [
    {
     "name": "stdout",
     "output_type": "stream",
     "text": [
      "epoch 0; iter: 0; batch classifier loss: 0.684868; batch adversarial loss: 0.704031\n",
      "epoch 1; iter: 0; batch classifier loss: 0.502312; batch adversarial loss: 0.706123\n",
      "epoch 2; iter: 0; batch classifier loss: 0.463108; batch adversarial loss: 0.690920\n",
      "epoch 3; iter: 0; batch classifier loss: 0.479215; batch adversarial loss: 0.699542\n",
      "epoch 4; iter: 0; batch classifier loss: 0.483548; batch adversarial loss: 0.685131\n",
      "epoch 5; iter: 0; batch classifier loss: 0.385743; batch adversarial loss: 0.687012\n",
      "epoch 6; iter: 0; batch classifier loss: 0.496718; batch adversarial loss: 0.685808\n",
      "epoch 7; iter: 0; batch classifier loss: 0.453411; batch adversarial loss: 0.685112\n",
      "epoch 8; iter: 0; batch classifier loss: 0.482463; batch adversarial loss: 0.702718\n",
      "epoch 9; iter: 0; batch classifier loss: 0.500065; batch adversarial loss: 0.700173\n",
      "epoch 10; iter: 0; batch classifier loss: 0.445717; batch adversarial loss: 0.688543\n",
      "epoch 11; iter: 0; batch classifier loss: 0.415051; batch adversarial loss: 0.694794\n",
      "epoch 12; iter: 0; batch classifier loss: 0.483516; batch adversarial loss: 0.704988\n",
      "epoch 13; iter: 0; batch classifier loss: 0.518690; batch adversarial loss: 0.685790\n",
      "epoch 14; iter: 0; batch classifier loss: 0.391600; batch adversarial loss: 0.698389\n",
      "epoch 15; iter: 0; batch classifier loss: 0.382099; batch adversarial loss: 0.686562\n",
      "epoch 16; iter: 0; batch classifier loss: 0.438850; batch adversarial loss: 0.695807\n",
      "epoch 17; iter: 0; batch classifier loss: 0.391945; batch adversarial loss: 0.687073\n",
      "epoch 18; iter: 0; batch classifier loss: 0.467455; batch adversarial loss: 0.693523\n",
      "epoch 19; iter: 0; batch classifier loss: 0.485609; batch adversarial loss: 0.680661\n",
      "epoch 20; iter: 0; batch classifier loss: 0.380142; batch adversarial loss: 0.700289\n",
      "epoch 21; iter: 0; batch classifier loss: 0.471428; batch adversarial loss: 0.690490\n",
      "epoch 22; iter: 0; batch classifier loss: 0.459461; batch adversarial loss: 0.697782\n",
      "epoch 23; iter: 0; batch classifier loss: 0.550786; batch adversarial loss: 0.688351\n",
      "epoch 24; iter: 0; batch classifier loss: 0.319522; batch adversarial loss: 0.688977\n",
      "epoch 25; iter: 0; batch classifier loss: 0.411283; batch adversarial loss: 0.689153\n",
      "epoch 26; iter: 0; batch classifier loss: 0.498474; batch adversarial loss: 0.692566\n",
      "epoch 27; iter: 0; batch classifier loss: 0.413750; batch adversarial loss: 0.683717\n",
      "epoch 28; iter: 0; batch classifier loss: 0.496458; batch adversarial loss: 0.685396\n",
      "epoch 29; iter: 0; batch classifier loss: 0.416260; batch adversarial loss: 0.700816\n",
      "epoch 30; iter: 0; batch classifier loss: 0.455517; batch adversarial loss: 0.683413\n",
      "epoch 31; iter: 0; batch classifier loss: 0.488839; batch adversarial loss: 0.694142\n",
      "epoch 32; iter: 0; batch classifier loss: 0.401108; batch adversarial loss: 0.686053\n",
      "epoch 33; iter: 0; batch classifier loss: 0.494899; batch adversarial loss: 0.702239\n",
      "epoch 34; iter: 0; batch classifier loss: 0.440139; batch adversarial loss: 0.690824\n",
      "epoch 35; iter: 0; batch classifier loss: 0.454933; batch adversarial loss: 0.689324\n",
      "epoch 36; iter: 0; batch classifier loss: 0.412582; batch adversarial loss: 0.700931\n",
      "epoch 37; iter: 0; batch classifier loss: 0.486031; batch adversarial loss: 0.690553\n",
      "epoch 38; iter: 0; batch classifier loss: 0.433991; batch adversarial loss: 0.707454\n",
      "epoch 39; iter: 0; batch classifier loss: 0.503296; batch adversarial loss: 0.693830\n",
      "epoch 40; iter: 0; batch classifier loss: 0.405941; batch adversarial loss: 0.695019\n",
      "epoch 41; iter: 0; batch classifier loss: 0.426804; batch adversarial loss: 0.684100\n",
      "epoch 42; iter: 0; batch classifier loss: 0.389988; batch adversarial loss: 0.687730\n",
      "epoch 43; iter: 0; batch classifier loss: 0.377124; batch adversarial loss: 0.679018\n",
      "epoch 44; iter: 0; batch classifier loss: 0.434251; batch adversarial loss: 0.694105\n",
      "epoch 45; iter: 0; batch classifier loss: 0.439247; batch adversarial loss: 0.678552\n",
      "epoch 46; iter: 0; batch classifier loss: 0.439047; batch adversarial loss: 0.685212\n",
      "epoch 47; iter: 0; batch classifier loss: 0.387803; batch adversarial loss: 0.682762\n",
      "epoch 48; iter: 0; batch classifier loss: 0.423458; batch adversarial loss: 0.690572\n",
      "epoch 49; iter: 0; batch classifier loss: 0.444439; batch adversarial loss: 0.700686\n"
     ]
    },
    {
     "data": {
      "text/plain": [
       "<aif360.algorithms.inprocessing.adversarial_debiasing.AdversarialDebiasing at 0x1efd08d4898>"
      ]
     },
     "execution_count": 23,
     "metadata": {},
     "output_type": "execute_result"
    }
   ],
   "source": [
    "unbiased_model.fit(Taiwan_train_bld)"
   ]
  },
  {
   "cell_type": "code",
   "execution_count": 24,
   "metadata": {},
   "outputs": [],
   "source": [
    "Taiwan_unbiased_train = unbiased_model.predict(Taiwan_train_bld)\n",
    "Taiwan_unbiased_test  = unbiased_model.predict(Taiwan_test_bld)\n",
    "# And convert these to dataframes..\n",
    "Taiwan_train_df, d = Taiwan_unbiased_train.convert_to_dataframe(de_dummy_code=False, sep='=', set_category=False)\n",
    "Taiwan_test_df, d  = Taiwan_unbiased_test.convert_to_dataframe(de_dummy_code=False, sep='=', set_category=False)"
   ]
  },
  {
   "cell_type": "code",
   "execution_count": 25,
   "metadata": {},
   "outputs": [
    {
     "data": {
      "text/markdown": [
       "#### Plain model - after unbiasing - dataset metrics"
      ],
      "text/plain": [
       "<IPython.core.display.Markdown object>"
      ]
     },
     "metadata": {},
     "output_type": "display_data"
    },
    {
     "data": {
      "text/markdown": [
       "#### Biased training dataset"
      ],
      "text/plain": [
       "<IPython.core.display.Markdown object>"
      ]
     },
     "metadata": {},
     "output_type": "display_data"
    },
    {
     "name": "stdout",
     "output_type": "stream",
     "text": [
      "Number of instances           : 23698.0\n",
      "Base Rate                     : 0.8887247869018483\n",
      "Consistency                   : [0.97225926]\n",
      "Disparate Impact              : 0.9826765034145699\n",
      "Mean Difference               : -0.015540218653499527\n",
      "Statistical Parity Difference : -0.015540218653499527\n"
     ]
    },
    {
     "data": {
      "text/markdown": [
       "#### Biased test dataset"
      ],
      "text/plain": [
       "<IPython.core.display.Markdown object>"
      ]
     },
     "metadata": {},
     "output_type": "display_data"
    },
    {
     "name": "stdout",
     "output_type": "stream",
     "text": [
      "Number of instances           : 5925.0\n",
      "Base Rate                     : 0.8077637130801688\n",
      "Consistency                   : [0.95284388]\n",
      "Disparate Impact              : 0.9910522712162564\n",
      "Mean Difference               : -0.007263332235007414\n",
      "Statistical Parity Difference : -0.007263332235007414\n"
     ]
    }
   ],
   "source": [
    "# Metrics for the dataset from plain model (after unbiasing)\n",
    "display(Markdown(\"#### Plain model - after unbiasing - dataset metrics\"))\n",
    "metric_unbiased_train = BinaryLabelDatasetMetric(Taiwan_unbiased_train, \n",
    "                             unprivileged_groups=unprivileged_groups,\n",
    "                             privileged_groups=privileged_groups)\n",
    "\n",
    "metric_unbiased_test = BinaryLabelDatasetMetric(Taiwan_unbiased_test, \n",
    "                            unprivileged_groups=unprivileged_groups,\n",
    "                            privileged_groups=privileged_groups)\n",
    "display(Markdown(\"#### Biased training dataset\"))\n",
    "print('Number of instances           :', metric_unbiased_train.num_instances())\n",
    "print('Base Rate                     :', metric_unbiased_train.base_rate())\n",
    "print('Consistency                   :', metric_unbiased_train.consistency())\n",
    "print('Disparate Impact              :', metric_unbiased_train.disparate_impact())\n",
    "print('Mean Difference               :', metric_unbiased_train.mean_difference())\n",
    "print('Statistical Parity Difference :', metric_unbiased_train.statistical_parity_difference()) \n",
    "display(Markdown(\"#### Biased test dataset\"))\n",
    "print('Number of instances           :', metric_unbiased_test.num_instances())\n",
    "print('Base Rate                     :', metric_unbiased_test.base_rate())\n",
    "print('Consistency                   :', metric_unbiased_test.consistency())\n",
    "print('Disparate Impact              :', metric_unbiased_test.disparate_impact())\n",
    "print('Mean Difference               :', metric_unbiased_test.mean_difference())\n",
    "print('Statistical Parity Difference :', metric_unbiased_test.statistical_parity_difference()) "
   ]
  },
  {
   "cell_type": "code",
   "execution_count": 26,
   "metadata": {},
   "outputs": [],
   "source": [
    "# Create the Classification metric for train and test\n",
    "classified_metric_unbiased_train = ClassificationMetric(Taiwan_train_bld, Taiwan_unbiased_train,\n",
    "                                       unprivileged_groups=unprivileged_groups,\n",
    "                                       privileged_groups=privileged_groups)\n",
    "classified_metric_unbiased_test = ClassificationMetric(Taiwan_test_bld, Taiwan_unbiased_test,\n",
    "                                       unprivileged_groups=unprivileged_groups,\n",
    "                                       privileged_groups=privileged_groups)"
   ]
  },
  {
   "cell_type": "code",
   "execution_count": 27,
   "metadata": {},
   "outputs": [
    {
     "data": {
      "text/markdown": [
       "#### Plain model - after debiasing - classification metrics"
      ],
      "text/plain": [
       "<IPython.core.display.Markdown object>"
      ]
     },
     "metadata": {},
     "output_type": "display_data"
    },
    {
     "data": {
      "text/markdown": [
       "#### Unbiased training dataset - CLassification Metrics"
      ],
      "text/plain": [
       "<IPython.core.display.Markdown object>"
      ]
     },
     "metadata": {},
     "output_type": "display_data"
    },
    {
     "name": "stdout",
     "output_type": "stream",
     "text": [
      "Classification accuracy         = 0.8214617267279939\n",
      "Balanced classification accuracy= 0.6514699749376675\n",
      "Disparate impact                = 0.9826765034145699\n",
      "Equal opportunity difference    = -0.010787332939649064\n",
      "Average odds difference         = -0.0362736523906364\n",
      "Theil_index                     = 0.07618592488355933\n"
     ]
    },
    {
     "data": {
      "text/markdown": [
       "#### Unbiased test dataset - CLassification Metrics"
      ],
      "text/plain": [
       "<IPython.core.display.Markdown object>"
      ]
     },
     "metadata": {},
     "output_type": "display_data"
    },
    {
     "name": "stdout",
     "output_type": "stream",
     "text": [
      "Classification accuracy         = 0.8062447257383967\n",
      "Balanced classification accuracy= 0.6959307843085083\n",
      "Disparate impact                = 0.9910522712162564\n",
      "Equal opportunity difference    = -0.028290335049939497\n",
      "Average odds difference         = -0.017569825059216337\n",
      "Theil_index                     = 0.12055068297639153\n"
     ]
    }
   ],
   "source": [
    "display(Markdown(\"#### Plain model - after debiasing - classification metrics\"))\n",
    "display(Markdown(\"#### Unbiased training dataset - CLassification Metrics\"))\n",
    "TPR_train = classified_metric_unbiased_train.true_positive_rate()\n",
    "TNR_train = classified_metric_unbiased_train.true_negative_rate()\n",
    "bal_acc_unbiased_train = 0.5*(TPR_train + TNR_train)\n",
    "print('Classification accuracy         =', classified_metric_unbiased_train.accuracy())\n",
    "print('Balanced classification accuracy=', bal_acc_unbiased_train)\n",
    "print('Disparate impact                =', classified_metric_unbiased_train.disparate_impact())\n",
    "print('Equal opportunity difference    =', classified_metric_unbiased_train.equal_opportunity_difference())\n",
    "print('Average odds difference         =', classified_metric_unbiased_train.average_odds_difference())\n",
    "print('Theil_index                     =', classified_metric_unbiased_train.theil_index())\n",
    "\n",
    "display(Markdown(\"#### Unbiased test dataset - CLassification Metrics\"))\n",
    "TPR_test = classified_metric_unbiased_test.true_positive_rate()\n",
    "TNR_test = classified_metric_unbiased_test.true_negative_rate()\n",
    "bal_acc_unbiased_test = 0.5*(TPR_test+TNR_test)\n",
    "print('Classification accuracy         =', classified_metric_unbiased_test.accuracy())\n",
    "print('Balanced classification accuracy=', bal_acc_unbiased_test)\n",
    "print('Disparate impact                =', classified_metric_unbiased_test.disparate_impact())\n",
    "print('Equal opportunity difference    =', classified_metric_unbiased_test.equal_opportunity_difference())\n",
    "print('Average odds difference         =', classified_metric_unbiased_test.average_odds_difference())\n",
    "print('Theil_index                     =', classified_metric_unbiased_test.theil_index())"
   ]
  },
  {
   "cell_type": "code",
   "execution_count": 28,
   "metadata": {},
   "outputs": [
    {
     "name": "stdout",
     "output_type": "stream",
     "text": [
      "Model Accuracy for Log Reg and RFC after bias transformation:\n",
      "Biased Logistic regression validation accuracy: 0.9282700421940928\n",
      "Biased Random Forest       validation accuracy: 0.8877637130801688\n",
      "\n",
      "Biased Balanced accuracy\n",
      "Biased Logistic regression balanced accuracy  : 0.8141018561967577\n",
      "Biased Random Forest       balanced accuracy  : 0.7087462811309104\n"
     ]
    }
   ],
   "source": [
    "# Determine the after-transformation model accuracy for Logistic Regression and Random Forest Classifiers\n",
    "X_train = Taiwan_train_df.drop(lab,axis=1)\n",
    "y_train = Taiwan_train_df[lab]\n",
    "X_test  = Taiwan_test_df.drop(lab,axis=1)\n",
    "y_test  = Taiwan_test_df[lab]\n",
    "\n",
    "UnbiasedLogModel = LogisticRegression(random_state=101)\n",
    "UnbiasedRfcModel = RandomForestClassifier(n_estimators=100,max_depth=4,random_state=101)\n",
    "UnbiasedLogModel.fit(X_train, y_train) \n",
    "UnbiasedRfcModel.fit(X_train, y_train) \n",
    "UnbiasedLog_pred = UnbiasedLogModel.predict(X_test)\n",
    "UnbiasedRfc_pred = UnbiasedRfcModel.predict(X_test)\n",
    "\n",
    "# Now get Logistic Regression and Random Forest Clasisfication performancce of unbiased data\n",
    "print('Model Accuracy for Log Reg and RFC after bias transformation:')\n",
    "print(f\"Biased Logistic regression validation accuracy: {UnbiasedLogModel.score(X_test, y_test)}\")\n",
    "print(f\"Biased Random Forest       validation accuracy: {UnbiasedRfcModel.score(X_test, y_test)}\")\n",
    "print('')\n",
    "print('Biased Balanced accuracy')\n",
    "print(f\"Biased Logistic regression balanced accuracy  : {balanced_accuracy_score(y_test, UnbiasedLog_pred)}\")\n",
    "print(f\"Biased Random Forest       balanced accuracy  : {balanced_accuracy_score(y_test, UnbiasedRfc_pred)}\")"
   ]
  },
  {
   "cell_type": "code",
   "execution_count": 29,
   "metadata": {},
   "outputs": [
    {
     "name": "stdout",
     "output_type": "stream",
     "text": [
      "Model Accuracy for predicting the Sensitive Variable before bias transformation:\n",
      "Biased Logistic regression validation accuracy: 0.7232067510548523\n",
      "Biased Random Forest       validation accuracy: 0.7363713080168777\n",
      "\n",
      "Biased Balanced accuracy\n",
      "Biased Logistic regression balanced accuracy  : 0.7142027235108633\n",
      "Biased Random Forest       balanced accuracy  : 0.7352154551947442\n"
     ]
    }
   ],
   "source": [
    "# Finally test whether it is possible to predict the Sensitive Variable from the transformed dataset\n",
    "X_se_train = Taiwan_train_df.drop(protected_attr,axis=1)\n",
    "y_se_train = Taiwan_train_df[protected_attr]\n",
    "X_se_test  = Taiwan_test_df.drop(protected_attr,axis=1)\n",
    "y_se_test  = Taiwan_test_df[protected_attr]\n",
    "\n",
    "Se_unbiasedLogModel = LogisticRegression(random_state=101)\n",
    "Se_unbiasedRfcModel = RandomForestClassifier(n_estimators=100,max_depth=4,random_state=101)\n",
    "Se_unbiasedLogModel.fit(X_se_train, y_se_train) \n",
    "Se_unbiasedRfcModel.fit(X_se_train, y_se_train) \n",
    "yseLog_pred =  Se_unbiasedLogModel.predict(X_se_test)\n",
    "yseRfc_pred =  Se_unbiasedRfcModel.predict(X_se_test)\n",
    "# Now test whether we can predict Gender from the test dataset\n",
    "print('Model Accuracy for predicting the Sensitive Variable before bias transformation:')\n",
    "print(f\"Biased Logistic regression validation accuracy: {Se_unbiasedLogModel.score(X_se_test, y_se_test)}\")\n",
    "print(f\"Biased Random Forest       validation accuracy: {Se_unbiasedRfcModel.score(X_se_test, y_se_test)}\")\n",
    "print('')\n",
    "print('Biased Balanced accuracy')\n",
    "print(f\"Biased Logistic regression balanced accuracy  : {balanced_accuracy_score(y_se_test, yseLog_pred)}\")\n",
    "print(f\"Biased Random Forest       balanced accuracy  : {balanced_accuracy_score(y_se_test, yseRfc_pred)}\")"
   ]
  },
  {
   "cell_type": "code",
   "execution_count": 30,
   "metadata": {},
   "outputs": [
    {
     "name": "stdout",
     "output_type": "stream",
     "text": [
      "Predicted Training After - DEFAULT value counts:\n",
      "1.0    21061\n",
      "0.0     2637\n",
      "Name: DEFAULT, dtype: int64\n",
      "Predicted Training After - MARRIAGE value counts:\n",
      "0.0    12711\n",
      "1.0    10987\n",
      "Name: MARRIAGE, dtype: int64\n"
     ]
    }
   ],
   "source": [
    "print('Predicted Training After - DEFAULT value counts:')\n",
    "print(Taiwan_train_df.DEFAULT.value_counts())\n",
    "print('Predicted Training After - MARRIAGE value counts:')\n",
    "print(Taiwan_train_df.MARRIAGE.value_counts())"
   ]
  },
  {
   "cell_type": "code",
   "execution_count": 31,
   "metadata": {},
   "outputs": [
    {
     "name": "stdout",
     "output_type": "stream",
     "text": [
      "Predicted Test After - DEFAULT value counts:\n",
      "1.0    4786\n",
      "0.0    1139\n",
      "Name: DEFAULT, dtype: int64\n",
      "Predicted Test After - MARRIAGE value counts:\n",
      "0.0    3253\n",
      "1.0    2672\n",
      "Name: MARRIAGE, dtype: int64\n"
     ]
    }
   ],
   "source": [
    "print('Predicted Test After - DEFAULT value counts:')\n",
    "print(Taiwan_test_df.DEFAULT.value_counts())\n",
    "print('Predicted Test After - MARRIAGE value counts:')\n",
    "print(Taiwan_test_df.MARRIAGE.value_counts())"
   ]
  }
 ],
 "metadata": {
  "kernelspec": {
   "display_name": "Python 3",
   "language": "python",
   "name": "python3"
  },
  "language_info": {
   "codemirror_mode": {
    "name": "ipython",
    "version": 3
   },
   "file_extension": ".py",
   "mimetype": "text/x-python",
   "name": "python",
   "nbconvert_exporter": "python",
   "pygments_lexer": "ipython3",
   "version": "3.7.3"
  }
 },
 "nbformat": 4,
 "nbformat_minor": 2
}
