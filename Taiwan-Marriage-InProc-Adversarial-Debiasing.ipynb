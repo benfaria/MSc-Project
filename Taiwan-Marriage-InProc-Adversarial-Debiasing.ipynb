{
 "cells": [
  {
   "cell_type": "code",
   "execution_count": 1,
   "metadata": {},
   "outputs": [],
   "source": [
    "# To be run after Adult-Data-Prep\n",
    "# Import Data handling/display libraries\n",
    "import sys\n",
    "import pandas as pd\n",
    "import numpy  as np \n",
    "import matplotlib.pyplot as plt\n",
    "import tensorflow as tf\n",
    "from sklearn.model_selection import train_test_split\n",
    "from sklearn.ensemble      import RandomForestClassifier\n",
    "from sklearn.linear_model  import LogisticRegression\n",
    "from sklearn.preprocessing import StandardScaler, MinMaxScaler\n",
    "from sklearn.metrics       import accuracy_score\n",
    "from sklearn.metrics       import balanced_accuracy_score\n",
    "from sklearn.metrics       import auc, roc_auc_score, roc_curve, classification_report, confusion_matrix\n",
    "from IPython.display       import Markdown, display\n",
    "# Import IBM's AI Fairness tooolbox\n",
    "from aif360.datasets       import BinaryLabelDataset\n",
    "from aif360.metrics        import BinaryLabelDatasetMetric\n",
    "from aif360.metrics        import ClassificationMetric\n",
    "from aif360.metrics.utils  import compute_boolean_conditioning_vector\n",
    "#from aif360.algorithms.preprocessing.optim_preproc_helpers.data_preproc_functions import load_preproc_data_adult, load_preproc_data_compas, load_preproc_data_german\n",
    "from aif360.algorithms.inprocessing.adversarial_debiasing import AdversarialDebiasing\n",
    "%matplotlib inline\n",
    "# Warnings will be used to silence various model warnings for tidier output\n",
    "import warnings\n",
    "warnings.filterwarnings('ignore')"
   ]
  },
  {
   "cell_type": "code",
   "execution_count": 2,
   "metadata": {},
   "outputs": [],
   "source": [
    "# Read the cleaned Taiwan-Credit-Card-Cleaned-Marriage dataset\n",
    "Taiwan_df = pd.read_csv('./input/Taiwan-Credit-Card-Cleaned-Marriage.csv')"
   ]
  },
  {
   "cell_type": "code",
   "execution_count": 3,
   "metadata": {},
   "outputs": [],
   "source": [
    "# Set privileged (1)/ unprivileged (0)/ favourable (1) / unfavourable values (0)\n",
    "protected_attr      = 'MARRIAGE'\n",
    "priv_grp            = 1  # Males \n",
    "unpriv_grp          = 0  # Females  \n",
    "lab                 = 'DEFAULT'\n",
    "fav_label           = 1 # Will not default next month\n",
    "unfav_label         = 0 # Will default next month\n",
    "privileged_groups   = [{protected_attr: priv_grp}]   # Males\n",
    "unprivileged_groups = [{protected_attr: unpriv_grp}] # Females"
   ]
  },
  {
   "cell_type": "code",
   "execution_count": 4,
   "metadata": {},
   "outputs": [],
   "source": [
    "# Create the traoning and test splits\n",
    "X = Taiwan_df.drop(lab,axis=1)\n",
    "y = Taiwan_df[lab]"
   ]
  },
  {
   "cell_type": "code",
   "execution_count": 5,
   "metadata": {},
   "outputs": [],
   "source": [
    "# Create a Binary Label Dataset to use with AIF360 APIs\n",
    "Taiwan_bld = BinaryLabelDataset(df=pd.concat((X, y), axis=1),\n",
    "                                label_names=[lab], protected_attribute_names=[protected_attr],\n",
    "                                favorable_label=fav_label, unfavorable_label=unfav_label)"
   ]
  },
  {
   "cell_type": "code",
   "execution_count": 6,
   "metadata": {},
   "outputs": [],
   "source": [
    "# Create train and test datasets\n",
    "Taiwan_train_bld, Taiwan_test_bld = Taiwan_bld.split([0.8], shuffle=True)"
   ]
  },
  {
   "cell_type": "code",
   "execution_count": 7,
   "metadata": {},
   "outputs": [],
   "source": [
    "#Scale the binary labelled datasets\n",
    "min_max_scaler = MinMaxScaler()\n",
    "Taiwan_train_bld.features = min_max_scaler.fit_transform(Taiwan_train_bld.features)\n",
    "Taiwan_test_bld.features  = min_max_scaler.fit_transform(Taiwan_test_bld.features)"
   ]
  },
  {
   "cell_type": "code",
   "execution_count": 8,
   "metadata": {},
   "outputs": [],
   "source": [
    "# Convert the train and test datasets to dataframes\n",
    "Taiwan_train_df, d = Taiwan_train_bld.convert_to_dataframe(de_dummy_code=False, sep='=', set_category=False)\n",
    "Taiwan_test_df,  d = Taiwan_test_bld.convert_to_dataframe(de_dummy_code=False, sep='=', set_category=False)"
   ]
  },
  {
   "cell_type": "code",
   "execution_count": 9,
   "metadata": {},
   "outputs": [
    {
     "name": "stdout",
     "output_type": "stream",
     "text": [
      "Biased Logistic regression validation accuracy: 0.8153586497890295\n",
      "Biased Random Forest       validation accuracy: 0.8114767932489452\n",
      "\n",
      "Biased Logistic regression balanced accuracy  : 0.6002291903252249\n",
      "Biased Random forest balanced accuracy        : 0.5866584361661615\n"
     ]
    }
   ],
   "source": [
    "# Determine the baseline model accuracy for Logistic Regression and Random Forest Classifiers\n",
    "X_train = Taiwan_train_df.drop(lab,axis=1)\n",
    "y_train = Taiwan_train_df[lab]\n",
    "X_test  = Taiwan_test_df.drop(lab,axis=1)\n",
    "y_test  = Taiwan_test_df[lab]\n",
    "BiasedLogModel = LogisticRegression(random_state=101)\n",
    "BiasedRfcModel = RandomForestClassifier(n_estimators=100,max_depth=4,random_state=101)\n",
    "BiasedLogModel.fit(X_train, y_train) \n",
    "BiasedRfcModel.fit(X_train, y_train)\n",
    "BiasedLogPredictions = BiasedLogModel.predict(X_test)\n",
    "BiasedRfcPredictions = BiasedRfcModel.predict(X_test)\n",
    "print(f\"Biased Logistic regression validation accuracy: {BiasedLogModel.score(X_test, y_test)}\")\n",
    "print(f\"Biased Random Forest       validation accuracy: {BiasedRfcModel.score(X_test, y_test)}\")\n",
    "print('')\n",
    "print(f\"Biased Logistic regression balanced accuracy  : {balanced_accuracy_score(y_test, BiasedLogPredictions)}\")\n",
    "print(f\"Biased Random forest balanced accuracy        : {balanced_accuracy_score(y_test, BiasedRfcPredictions)}\")"
   ]
  },
  {
   "cell_type": "code",
   "execution_count": 10,
   "metadata": {},
   "outputs": [
    {
     "name": "stdout",
     "output_type": "stream",
     "text": [
      "Training Before - DEFAULT value counts:\n",
      "1.0    18403\n",
      "0.0     5295\n",
      "Name: DEFAULT, dtype: int64\n",
      "Training Before - MARRIAGE value counts:\n",
      "0.0    12749\n",
      "1.0    10949\n",
      "Name: MARRIAGE, dtype: int64\n"
     ]
    }
   ],
   "source": [
    "print('Training Before - DEFAULT value counts:')\n",
    "print(Taiwan_train_df.DEFAULT.value_counts())\n",
    "print('Training Before - MARRIAGE value counts:')\n",
    "print(Taiwan_train_df.MARRIAGE.value_counts())"
   ]
  },
  {
   "cell_type": "code",
   "execution_count": 11,
   "metadata": {},
   "outputs": [
    {
     "name": "stdout",
     "output_type": "stream",
     "text": [
      "Test Before - DEFAULT value counts:\n",
      "1.0    4673\n",
      "0.0    1252\n",
      "Name: DEFAULT, dtype: int64\n",
      "Test Before - MARRIAGE value counts:\n",
      "0.0    3215\n",
      "1.0    2710\n",
      "Name: MARRIAGE, dtype: int64\n"
     ]
    }
   ],
   "source": [
    "print('Test Before - DEFAULT value counts:')\n",
    "print(Taiwan_test_df.DEFAULT.value_counts())\n",
    "print('Test Before - MARRIAGE value counts:')\n",
    "print(Taiwan_test_df.MARRIAGE.value_counts())"
   ]
  },
  {
   "cell_type": "code",
   "execution_count": 12,
   "metadata": {},
   "outputs": [],
   "source": [
    "# Create the binary label dataset metric class for the training dataset\n",
    "metric_train_bld = BinaryLabelDatasetMetric(Taiwan_train_bld, \n",
    "                                            unprivileged_groups=unprivileged_groups,\n",
    "                                            privileged_groups=privileged_groups)\n",
    "metric_test_bld = BinaryLabelDatasetMetric(Taiwan_test_bld, \n",
    "                                           unprivileged_groups=unprivileged_groups,\n",
    "                                           privileged_groups=privileged_groups)"
   ]
  },
  {
   "cell_type": "code",
   "execution_count": 13,
   "metadata": {},
   "outputs": [
    {
     "data": {
      "text/markdown": [
       "#### Orig training dataset"
      ],
      "text/plain": [
       "<IPython.core.display.Markdown object>"
      ]
     },
     "metadata": {},
     "output_type": "display_data"
    },
    {
     "name": "stdout",
     "output_type": "stream",
     "text": [
      "Number of instances           : 23698.0\n",
      "Base Rate                     : 0.7765634230736771\n",
      "Consistency                   : [0.78331505]\n",
      "Disparate Impact              : 1.030574947054671\n",
      "Mean Difference               : 0.023359159020214015\n",
      "Statistical Parity Difference : 0.023359159020214015\n"
     ]
    },
    {
     "data": {
      "text/markdown": [
       "#### Orig test dataset"
      ],
      "text/plain": [
       "<IPython.core.display.Markdown object>"
      ]
     },
     "metadata": {},
     "output_type": "display_data"
    },
    {
     "name": "stdout",
     "output_type": "stream",
     "text": [
      "Number of instances           : 5925.0\n",
      "Base Rate                     : 0.7886919831223629\n",
      "Consistency                   : [0.78872574]\n",
      "Disparate Impact              : 1.0435622650053926\n",
      "Mean Difference               : 0.03356384108164567\n",
      "Statistical Parity Difference : 0.03356384108164567\n"
     ]
    }
   ],
   "source": [
    "display(Markdown(\"#### Orig training dataset\"))\n",
    "print('Number of instances           :', metric_train_bld.num_instances())\n",
    "print('Base Rate                     :', metric_train_bld.base_rate())\n",
    "print('Consistency                   :', metric_train_bld.consistency())\n",
    "print('Disparate Impact              :', metric_train_bld.disparate_impact())\n",
    "print('Mean Difference               :', metric_train_bld.mean_difference())\n",
    "print('Statistical Parity Difference :', metric_train_bld.statistical_parity_difference()) \n",
    "display(Markdown(\"#### Orig test dataset\"))\n",
    "print('Number of instances           :', metric_test_bld.num_instances())\n",
    "print('Base Rate                     :', metric_test_bld.base_rate())\n",
    "print('Consistency                   :', metric_test_bld.consistency())\n",
    "print('Disparate Impact              :', metric_test_bld.disparate_impact())\n",
    "print('Mean Difference               :', metric_test_bld.mean_difference())\n",
    "print('Statistical Parity Difference :', metric_test_bld.statistical_parity_difference()) "
   ]
  },
  {
   "cell_type": "code",
   "execution_count": 14,
   "metadata": {},
   "outputs": [],
   "source": [
    "# Load post-processing algorithm that equalizes the odds\n",
    "# Learn parameters with debias set to FALSE!\n",
    "sess = tf.Session()\n",
    "biased_model = AdversarialDebiasing(privileged_groups = privileged_groups,\n",
    "                          unprivileged_groups = unprivileged_groups,\n",
    "                          scope_name='plain_classifier',\n",
    "                          debias=False,\n",
    "                          sess=sess)"
   ]
  },
  {
   "cell_type": "code",
   "execution_count": 15,
   "metadata": {},
   "outputs": [
    {
     "name": "stderr",
     "output_type": "stream",
     "text": [
      "WARNING: Logging before flag parsing goes to stderr.\n",
      "W0831 16:46:39.520472  2232 deprecation_wrapper.py:119] From c:\\users\\befaria\\appdata\\local\\continuum\\miniconda3\\lib\\site-packages\\aif360\\algorithms\\inprocessing\\adversarial_debiasing.py:138: The name tf.variable_scope is deprecated. Please use tf.compat.v1.variable_scope instead.\n",
      "\n",
      "W0831 16:46:39.526547  2232 deprecation_wrapper.py:119] From c:\\users\\befaria\\appdata\\local\\continuum\\miniconda3\\lib\\site-packages\\aif360\\algorithms\\inprocessing\\adversarial_debiasing.py:142: The name tf.placeholder is deprecated. Please use tf.compat.v1.placeholder instead.\n",
      "\n",
      "W0831 16:46:39.540892  2232 deprecation_wrapper.py:119] From c:\\users\\befaria\\appdata\\local\\continuum\\miniconda3\\lib\\site-packages\\aif360\\algorithms\\inprocessing\\adversarial_debiasing.py:87: The name tf.get_variable is deprecated. Please use tf.compat.v1.get_variable instead.\n",
      "\n",
      "W0831 16:46:41.917606  2232 lazy_loader.py:50] \n",
      "The TensorFlow contrib module will not be included in TensorFlow 2.0.\n",
      "For more information, please see:\n",
      "  * https://github.com/tensorflow/community/blob/master/rfcs/20180907-contrib-sunset.md\n",
      "  * https://github.com/tensorflow/addons\n",
      "  * https://github.com/tensorflow/io (for I/O related ops)\n",
      "If you depend on functionality not listed there, please file an issue.\n",
      "\n",
      "W0831 16:46:41.942547  2232 deprecation.py:506] From c:\\users\\befaria\\appdata\\local\\continuum\\miniconda3\\lib\\site-packages\\aif360\\algorithms\\inprocessing\\adversarial_debiasing.py:92: calling dropout (from tensorflow.python.ops.nn_ops) with keep_prob is deprecated and will be removed in a future version.\n",
      "Instructions for updating:\n",
      "Please use `rate` instead of `keep_prob`. Rate should be set to `rate = 1 - keep_prob`.\n",
      "W0831 16:46:42.016357  2232 deprecation.py:323] From c:\\users\\befaria\\appdata\\local\\continuum\\miniconda3\\lib\\site-packages\\tensorflow\\python\\ops\\nn_impl.py:180: add_dispatch_support.<locals>.wrapper (from tensorflow.python.ops.array_ops) is deprecated and will be removed in a future version.\n",
      "Instructions for updating:\n",
      "Use tf.where in 2.0, which has the same broadcast rule as np.where\n",
      "W0831 16:46:42.043393  2232 deprecation_wrapper.py:119] From c:\\users\\befaria\\appdata\\local\\continuum\\miniconda3\\lib\\site-packages\\aif360\\algorithms\\inprocessing\\adversarial_debiasing.py:160: The name tf.train.exponential_decay is deprecated. Please use tf.compat.v1.train.exponential_decay instead.\n",
      "\n",
      "W0831 16:46:42.071312  2232 deprecation_wrapper.py:119] From c:\\users\\befaria\\appdata\\local\\continuum\\miniconda3\\lib\\site-packages\\aif360\\algorithms\\inprocessing\\adversarial_debiasing.py:162: The name tf.train.AdamOptimizer is deprecated. Please use tf.compat.v1.train.AdamOptimizer instead.\n",
      "\n",
      "W0831 16:46:42.071312  2232 deprecation_wrapper.py:119] From c:\\users\\befaria\\appdata\\local\\continuum\\miniconda3\\lib\\site-packages\\aif360\\algorithms\\inprocessing\\adversarial_debiasing.py:166: The name tf.trainable_variables is deprecated. Please use tf.compat.v1.trainable_variables instead.\n",
      "\n",
      "W0831 16:46:42.478106  2232 deprecation_wrapper.py:119] From c:\\users\\befaria\\appdata\\local\\continuum\\miniconda3\\lib\\site-packages\\aif360\\algorithms\\inprocessing\\adversarial_debiasing.py:187: The name tf.global_variables_initializer is deprecated. Please use tf.compat.v1.global_variables_initializer instead.\n",
      "\n"
     ]
    },
    {
     "name": "stdout",
     "output_type": "stream",
     "text": [
      "epoch 0; iter: 0; batch classifier loss: 0.677309\n",
      "epoch 1; iter: 0; batch classifier loss: 0.452899\n",
      "epoch 2; iter: 0; batch classifier loss: 0.498052\n",
      "epoch 3; iter: 0; batch classifier loss: 0.512399\n",
      "epoch 4; iter: 0; batch classifier loss: 0.429060\n",
      "epoch 5; iter: 0; batch classifier loss: 0.451899\n",
      "epoch 6; iter: 0; batch classifier loss: 0.357156\n",
      "epoch 7; iter: 0; batch classifier loss: 0.508569\n",
      "epoch 8; iter: 0; batch classifier loss: 0.518928\n",
      "epoch 9; iter: 0; batch classifier loss: 0.475040\n",
      "epoch 10; iter: 0; batch classifier loss: 0.435826\n",
      "epoch 11; iter: 0; batch classifier loss: 0.500367\n",
      "epoch 12; iter: 0; batch classifier loss: 0.514661\n",
      "epoch 13; iter: 0; batch classifier loss: 0.426351\n",
      "epoch 14; iter: 0; batch classifier loss: 0.491395\n",
      "epoch 15; iter: 0; batch classifier loss: 0.447138\n",
      "epoch 16; iter: 0; batch classifier loss: 0.436185\n",
      "epoch 17; iter: 0; batch classifier loss: 0.310271\n",
      "epoch 18; iter: 0; batch classifier loss: 0.356293\n",
      "epoch 19; iter: 0; batch classifier loss: 0.427328\n",
      "epoch 20; iter: 0; batch classifier loss: 0.362112\n",
      "epoch 21; iter: 0; batch classifier loss: 0.389950\n",
      "epoch 22; iter: 0; batch classifier loss: 0.418523\n",
      "epoch 23; iter: 0; batch classifier loss: 0.439766\n",
      "epoch 24; iter: 0; batch classifier loss: 0.371438\n",
      "epoch 25; iter: 0; batch classifier loss: 0.533860\n",
      "epoch 26; iter: 0; batch classifier loss: 0.371293\n",
      "epoch 27; iter: 0; batch classifier loss: 0.470489\n",
      "epoch 28; iter: 0; batch classifier loss: 0.385712\n",
      "epoch 29; iter: 0; batch classifier loss: 0.420642\n",
      "epoch 30; iter: 0; batch classifier loss: 0.380240\n",
      "epoch 31; iter: 0; batch classifier loss: 0.475699\n",
      "epoch 32; iter: 0; batch classifier loss: 0.403386\n",
      "epoch 33; iter: 0; batch classifier loss: 0.442231\n",
      "epoch 34; iter: 0; batch classifier loss: 0.412541\n",
      "epoch 35; iter: 0; batch classifier loss: 0.567531\n",
      "epoch 36; iter: 0; batch classifier loss: 0.477439\n",
      "epoch 37; iter: 0; batch classifier loss: 0.481373\n",
      "epoch 38; iter: 0; batch classifier loss: 0.431211\n",
      "epoch 39; iter: 0; batch classifier loss: 0.452480\n",
      "epoch 40; iter: 0; batch classifier loss: 0.470966\n",
      "epoch 41; iter: 0; batch classifier loss: 0.403692\n",
      "epoch 42; iter: 0; batch classifier loss: 0.417742\n",
      "epoch 43; iter: 0; batch classifier loss: 0.395619\n",
      "epoch 44; iter: 0; batch classifier loss: 0.449389\n",
      "epoch 45; iter: 0; batch classifier loss: 0.338138\n",
      "epoch 46; iter: 0; batch classifier loss: 0.416430\n",
      "epoch 47; iter: 0; batch classifier loss: 0.383824\n",
      "epoch 48; iter: 0; batch classifier loss: 0.468165\n",
      "epoch 49; iter: 0; batch classifier loss: 0.420716\n"
     ]
    },
    {
     "data": {
      "text/plain": [
       "<aif360.algorithms.inprocessing.adversarial_debiasing.AdversarialDebiasing at 0x1a2a9804898>"
      ]
     },
     "execution_count": 15,
     "metadata": {},
     "output_type": "execute_result"
    }
   ],
   "source": [
    "biased_model.fit(Taiwan_train_bld)"
   ]
  },
  {
   "cell_type": "code",
   "execution_count": 16,
   "metadata": {},
   "outputs": [],
   "source": [
    "# Apply the plain model to test data\n",
    "Taiwan_biased_train = biased_model.predict(Taiwan_train_bld)\n",
    "Taiwan_biased_test  = biased_model.predict(Taiwan_test_bld)\n",
    "# And convert them to dataframes\n",
    "Taiwan_train_df, d = Taiwan_biased_train.convert_to_dataframe(de_dummy_code=False, sep='=', set_category=False)\n",
    "Taiwan_test_df, d  = Taiwan_biased_test.convert_to_dataframe(de_dummy_code=False, sep='=', set_category=False)"
   ]
  },
  {
   "cell_type": "code",
   "execution_count": 17,
   "metadata": {},
   "outputs": [
    {
     "name": "stdout",
     "output_type": "stream",
     "text": [
      "Model Accuracy for predicting the Sensitive Variable before bias transformation:\n",
      "Biased Logistic regression validation accuracy: 0.7259071729957806\n",
      "Biased Random Forest       validation accuracy: 0.7211814345991561\n",
      "\n",
      "Biased Balanced accuracy\n",
      "Biased Logistic regression balanced accuracy  : 0.7278138683408607\n",
      "Biased Random Forest       balanced accuracy  : 0.7277484462247421\n"
     ]
    }
   ],
   "source": [
    "# Test whether it is possible to predict the Sensitive Variable from the biased dataset\n",
    "X_se_train = Taiwan_train_df.drop(protected_attr,axis=1)\n",
    "y_se_train = Taiwan_train_df[protected_attr]\n",
    "X_se_test  = Taiwan_test_df.drop(protected_attr,axis=1)\n",
    "y_se_test  = Taiwan_test_df[protected_attr]\n",
    "\n",
    "Se_BiasedLogModel = LogisticRegression(random_state=101)\n",
    "Se_BiasedRfcModel = RandomForestClassifier(n_estimators=100,max_depth=4,random_state=101)\n",
    "Se_BiasedLogModel.fit(X_se_train, y_se_train) \n",
    "Se_BiasedRfcModel.fit(X_se_train, y_se_train) \n",
    "yseLog_pred =  Se_BiasedLogModel.predict(X_se_test)\n",
    "yseRfc_pred =  Se_BiasedRfcModel.predict(X_se_test)\n",
    "# Now test whether we can predict Gender from the test dataset\n",
    "print('Model Accuracy for predicting the Sensitive Variable before bias transformation:')\n",
    "print(f\"Biased Logistic regression validation accuracy: {Se_BiasedLogModel.score(X_se_test, y_se_test)}\")\n",
    "print(f\"Biased Random Forest       validation accuracy: {Se_BiasedRfcModel.score(X_se_test, y_se_test)}\")\n",
    "print('')\n",
    "print('Biased Balanced accuracy')\n",
    "print(f\"Biased Logistic regression balanced accuracy  : {balanced_accuracy_score(y_se_test, yseLog_pred)}\")\n",
    "print(f\"Biased Random Forest       balanced accuracy  : {balanced_accuracy_score(y_se_test, yseRfc_pred)}\")"
   ]
  },
  {
   "cell_type": "code",
   "execution_count": 18,
   "metadata": {},
   "outputs": [
    {
     "data": {
      "text/markdown": [
       "#### Plain model - without debiasing - dataset metrics"
      ],
      "text/plain": [
       "<IPython.core.display.Markdown object>"
      ]
     },
     "metadata": {},
     "output_type": "display_data"
    },
    {
     "data": {
      "text/markdown": [
       "#### Biased training dataset"
      ],
      "text/plain": [
       "<IPython.core.display.Markdown object>"
      ]
     },
     "metadata": {},
     "output_type": "display_data"
    },
    {
     "name": "stdout",
     "output_type": "stream",
     "text": [
      "Number of instances           : 23698.0\n",
      "Base Rate                     : 0.8863617182884631\n",
      "Consistency                   : [0.97359271]\n",
      "Disparate Impact              : 1.0163804376487724\n",
      "Mean Difference               : 0.014392164597788804\n",
      "Statistical Parity Difference : 0.014392164597788804\n"
     ]
    },
    {
     "data": {
      "text/markdown": [
       "#### Biased test dataset"
      ],
      "text/plain": [
       "<IPython.core.display.Markdown object>"
      ]
     },
     "metadata": {},
     "output_type": "display_data"
    },
    {
     "name": "stdout",
     "output_type": "stream",
     "text": [
      "Number of instances           : 5925.0\n",
      "Base Rate                     : 0.870210970464135\n",
      "Consistency                   : [0.95986498]\n",
      "Disparate Impact              : 1.0120122213084342\n",
      "Mean Difference               : 0.010385473994708905\n",
      "Statistical Parity Difference : 0.010385473994708905\n"
     ]
    }
   ],
   "source": [
    "# Metrics for the dataset from plain model (without debiasing)\n",
    "display(Markdown(\"#### Plain model - without debiasing - dataset metrics\"))\n",
    "metric_biased_train = BinaryLabelDatasetMetric(Taiwan_biased_train, \n",
    "                             unprivileged_groups=unprivileged_groups,\n",
    "                             privileged_groups=privileged_groups)\n",
    "\n",
    "metric_biased_test = BinaryLabelDatasetMetric(Taiwan_biased_test, \n",
    "                            unprivileged_groups=unprivileged_groups,\n",
    "                            privileged_groups=privileged_groups)\n",
    "display(Markdown(\"#### Biased training dataset\"))\n",
    "print('Number of instances           :', metric_biased_train.num_instances())\n",
    "print('Base Rate                     :', metric_biased_train.base_rate())\n",
    "print('Consistency                   :', metric_biased_train.consistency())\n",
    "print('Disparate Impact              :', metric_biased_train.disparate_impact())\n",
    "print('Mean Difference               :', metric_biased_train.mean_difference())\n",
    "print('Statistical Parity Difference :', metric_biased_train.statistical_parity_difference()) \n",
    "display(Markdown(\"#### Biased test dataset\"))\n",
    "print('Number of instances           :', metric_biased_test.num_instances())\n",
    "print('Base Rate                     :', metric_biased_test.base_rate())\n",
    "print('Consistency                   :', metric_biased_test.consistency())\n",
    "print('Disparate Impact              :', metric_biased_test.disparate_impact())\n",
    "print('Mean Difference               :', metric_biased_test.mean_difference())\n",
    "print('Statistical Parity Difference :', metric_biased_test.statistical_parity_difference()) "
   ]
  },
  {
   "cell_type": "code",
   "execution_count": 19,
   "metadata": {},
   "outputs": [],
   "source": [
    "# Create the Classification metric for train and test\n",
    "classified_metric_biased_test = ClassificationMetric(Taiwan_train_bld, Taiwan_biased_train,\n",
    "                                       unprivileged_groups=unprivileged_groups,\n",
    "                                       privileged_groups=privileged_groups)\n",
    "classified_metric_biased_train = ClassificationMetric(Taiwan_test_bld, Taiwan_biased_test,\n",
    "                                       unprivileged_groups=unprivileged_groups,\n",
    "                                       privileged_groups=privileged_groups)"
   ]
  },
  {
   "cell_type": "code",
   "execution_count": 20,
   "metadata": {},
   "outputs": [
    {
     "data": {
      "text/markdown": [
       "#### Plain model - without debiasing - classification metrics"
      ],
      "text/plain": [
       "<IPython.core.display.Markdown object>"
      ]
     },
     "metadata": {},
     "output_type": "display_data"
    },
    {
     "data": {
      "text/markdown": [
       "#### Biased training dataset - CLassification Metrics"
      ],
      "text/plain": [
       "<IPython.core.display.Markdown object>"
      ]
     },
     "metadata": {},
     "output_type": "display_data"
    },
    {
     "name": "stdout",
     "output_type": "stream",
     "text": [
      "Classification accuracy         = 0.8222784810126582\n",
      "Balanced classification accuracy= 0.6627964056995219\n",
      "Disparate impact                = 1.0120122213084342\n",
      "Equal opportunity difference    = 0.0005676723211572865\n",
      "Average odds difference         = -0.0020384217886889044\n",
      "Theil_index                     = 0.08778111604104136\n"
     ]
    },
    {
     "data": {
      "text/markdown": [
       "#### Biased test dataset - CLassification Metrics"
      ],
      "text/plain": [
       "<IPython.core.display.Markdown object>"
      ]
     },
     "metadata": {},
     "output_type": "display_data"
    },
    {
     "name": "stdout",
     "output_type": "stream",
     "text": [
      "Classification accuracy         = 0.8199004135370074\n",
      "Balanced classification accuracy= 0.6530052142317602\n",
      "Disparate impact                = 1.0163804376487724\n",
      "Equal opportunity difference    = 0.0029288702928870203\n",
      "Average odds difference         = 0.012540098108827002\n",
      "Theil_index                     = 0.0768833571517733\n"
     ]
    }
   ],
   "source": [
    "display(Markdown(\"#### Plain model - without debiasing - classification metrics\"))\n",
    "\n",
    "display(Markdown(\"#### Biased training dataset - CLassification Metrics\"))\n",
    "TPR_train = classified_metric_biased_train.true_positive_rate()\n",
    "TNR_train = classified_metric_biased_train.true_negative_rate()\n",
    "bal_acc_biased_train = 0.5*(TPR_train + TNR_train)\n",
    "print('Classification accuracy         =', classified_metric_biased_train.accuracy())\n",
    "print('Balanced classification accuracy=', bal_acc_biased_train)\n",
    "print('Disparate impact                =', classified_metric_biased_train.disparate_impact())\n",
    "print('Equal opportunity difference    =', classified_metric_biased_train.equal_opportunity_difference())\n",
    "print('Average odds difference         =', classified_metric_biased_train.average_odds_difference())\n",
    "print('Theil_index                     =', classified_metric_biased_train.theil_index())\n",
    "\n",
    "display(Markdown(\"#### Biased test dataset - CLassification Metrics\"))\n",
    "TPR_test = classified_metric_biased_test.true_positive_rate()\n",
    "TNR_test = classified_metric_biased_test.true_negative_rate()\n",
    "bal_acc_biased_test = 0.5*(TPR_test+TNR_test)\n",
    "print('Classification accuracy         =', classified_metric_biased_test.accuracy())\n",
    "print('Balanced classification accuracy=', bal_acc_biased_test)\n",
    "print('Disparate impact                =', classified_metric_biased_test.disparate_impact())\n",
    "print('Equal opportunity difference    =', classified_metric_biased_test.equal_opportunity_difference())\n",
    "print('Average odds difference         =', classified_metric_biased_test.average_odds_difference())\n",
    "print('Theil_index                     =', classified_metric_biased_test.theil_index())"
   ]
  },
  {
   "cell_type": "code",
   "execution_count": 21,
   "metadata": {},
   "outputs": [],
   "source": [
    "sess.close()\n",
    "tf.reset_default_graph()\n",
    "sess = tf.Session()"
   ]
  },
  {
   "cell_type": "code",
   "execution_count": 22,
   "metadata": {},
   "outputs": [],
   "source": [
    "unbiased_model = AdversarialDebiasing(privileged_groups = privileged_groups,\n",
    "                          unprivileged_groups = unprivileged_groups,\n",
    "                          scope_name='plain_classifier',\n",
    "                          debias=True,\n",
    "                          sess=sess)"
   ]
  },
  {
   "cell_type": "code",
   "execution_count": 23,
   "metadata": {},
   "outputs": [
    {
     "name": "stdout",
     "output_type": "stream",
     "text": [
      "epoch 0; iter: 0; batch classifier loss: 0.703472; batch adversarial loss: 0.807544\n",
      "epoch 1; iter: 0; batch classifier loss: 0.527477; batch adversarial loss: 0.737845\n",
      "epoch 2; iter: 0; batch classifier loss: 0.490016; batch adversarial loss: 0.710539\n",
      "epoch 3; iter: 0; batch classifier loss: 0.473594; batch adversarial loss: 0.704102\n",
      "epoch 4; iter: 0; batch classifier loss: 0.478514; batch adversarial loss: 0.684847\n",
      "epoch 5; iter: 0; batch classifier loss: 0.417504; batch adversarial loss: 0.682009\n",
      "epoch 6; iter: 0; batch classifier loss: 0.429960; batch adversarial loss: 0.681300\n",
      "epoch 7; iter: 0; batch classifier loss: 0.460244; batch adversarial loss: 0.694946\n",
      "epoch 8; iter: 0; batch classifier loss: 0.414330; batch adversarial loss: 0.693604\n",
      "epoch 9; iter: 0; batch classifier loss: 0.438703; batch adversarial loss: 0.711385\n",
      "epoch 10; iter: 0; batch classifier loss: 0.385647; batch adversarial loss: 0.690745\n",
      "epoch 11; iter: 0; batch classifier loss: 0.489671; batch adversarial loss: 0.684943\n",
      "epoch 12; iter: 0; batch classifier loss: 0.486874; batch adversarial loss: 0.688036\n",
      "epoch 13; iter: 0; batch classifier loss: 0.408256; batch adversarial loss: 0.684294\n",
      "epoch 14; iter: 0; batch classifier loss: 0.467741; batch adversarial loss: 0.700077\n",
      "epoch 15; iter: 0; batch classifier loss: 0.406604; batch adversarial loss: 0.686526\n",
      "epoch 16; iter: 0; batch classifier loss: 0.470318; batch adversarial loss: 0.692254\n",
      "epoch 17; iter: 0; batch classifier loss: 0.483118; batch adversarial loss: 0.695582\n",
      "epoch 18; iter: 0; batch classifier loss: 0.421572; batch adversarial loss: 0.678381\n",
      "epoch 19; iter: 0; batch classifier loss: 0.412977; batch adversarial loss: 0.693621\n",
      "epoch 20; iter: 0; batch classifier loss: 0.403929; batch adversarial loss: 0.683375\n",
      "epoch 21; iter: 0; batch classifier loss: 0.405073; batch adversarial loss: 0.691961\n",
      "epoch 22; iter: 0; batch classifier loss: 0.416574; batch adversarial loss: 0.694943\n",
      "epoch 23; iter: 0; batch classifier loss: 0.486600; batch adversarial loss: 0.692594\n",
      "epoch 24; iter: 0; batch classifier loss: 0.483890; batch adversarial loss: 0.686629\n",
      "epoch 25; iter: 0; batch classifier loss: 0.489340; batch adversarial loss: 0.685073\n",
      "epoch 26; iter: 0; batch classifier loss: 0.407734; batch adversarial loss: 0.687182\n",
      "epoch 27; iter: 0; batch classifier loss: 0.459653; batch adversarial loss: 0.682650\n",
      "epoch 28; iter: 0; batch classifier loss: 0.461069; batch adversarial loss: 0.684316\n",
      "epoch 29; iter: 0; batch classifier loss: 0.389471; batch adversarial loss: 0.694680\n",
      "epoch 30; iter: 0; batch classifier loss: 0.443274; batch adversarial loss: 0.690189\n",
      "epoch 31; iter: 0; batch classifier loss: 0.441644; batch adversarial loss: 0.681689\n",
      "epoch 32; iter: 0; batch classifier loss: 0.491230; batch adversarial loss: 0.684342\n",
      "epoch 33; iter: 0; batch classifier loss: 0.523496; batch adversarial loss: 0.686667\n",
      "epoch 34; iter: 0; batch classifier loss: 0.445347; batch adversarial loss: 0.699659\n",
      "epoch 35; iter: 0; batch classifier loss: 0.452983; batch adversarial loss: 0.694324\n",
      "epoch 36; iter: 0; batch classifier loss: 0.412834; batch adversarial loss: 0.682962\n",
      "epoch 37; iter: 0; batch classifier loss: 0.402486; batch adversarial loss: 0.693903\n",
      "epoch 38; iter: 0; batch classifier loss: 0.493335; batch adversarial loss: 0.692878\n",
      "epoch 39; iter: 0; batch classifier loss: 0.447517; batch adversarial loss: 0.685305\n",
      "epoch 40; iter: 0; batch classifier loss: 0.560953; batch adversarial loss: 0.695528\n",
      "epoch 41; iter: 0; batch classifier loss: 0.448186; batch adversarial loss: 0.681704\n",
      "epoch 42; iter: 0; batch classifier loss: 0.406801; batch adversarial loss: 0.688390\n",
      "epoch 43; iter: 0; batch classifier loss: 0.518657; batch adversarial loss: 0.684207\n",
      "epoch 44; iter: 0; batch classifier loss: 0.407370; batch adversarial loss: 0.708542\n",
      "epoch 45; iter: 0; batch classifier loss: 0.446078; batch adversarial loss: 0.694756\n",
      "epoch 46; iter: 0; batch classifier loss: 0.370477; batch adversarial loss: 0.698397\n",
      "epoch 47; iter: 0; batch classifier loss: 0.371178; batch adversarial loss: 0.689478\n",
      "epoch 48; iter: 0; batch classifier loss: 0.402267; batch adversarial loss: 0.687425\n",
      "epoch 49; iter: 0; batch classifier loss: 0.386659; batch adversarial loss: 0.690272\n"
     ]
    },
    {
     "data": {
      "text/plain": [
       "<aif360.algorithms.inprocessing.adversarial_debiasing.AdversarialDebiasing at 0x1a2bebe34e0>"
      ]
     },
     "execution_count": 23,
     "metadata": {},
     "output_type": "execute_result"
    }
   ],
   "source": [
    "unbiased_model.fit(Taiwan_train_bld)"
   ]
  },
  {
   "cell_type": "code",
   "execution_count": 24,
   "metadata": {},
   "outputs": [],
   "source": [
    "Taiwan_unbiased_train = unbiased_model.predict(Taiwan_train_bld)\n",
    "Taiwan_unbiased_test  = unbiased_model.predict(Taiwan_test_bld)\n",
    "# And convert these to dataframes..\n",
    "Taiwan_train_df, d = Taiwan_unbiased_train.convert_to_dataframe(de_dummy_code=False, sep='=', set_category=False)\n",
    "Taiwan_test_df, d  = Taiwan_unbiased_test.convert_to_dataframe(de_dummy_code=False, sep='=', set_category=False)"
   ]
  },
  {
   "cell_type": "code",
   "execution_count": 25,
   "metadata": {},
   "outputs": [
    {
     "data": {
      "text/markdown": [
       "#### Plain model - after unbiasing - dataset metrics"
      ],
      "text/plain": [
       "<IPython.core.display.Markdown object>"
      ]
     },
     "metadata": {},
     "output_type": "display_data"
    },
    {
     "data": {
      "text/markdown": [
       "#### Biased training dataset"
      ],
      "text/plain": [
       "<IPython.core.display.Markdown object>"
      ]
     },
     "metadata": {},
     "output_type": "display_data"
    },
    {
     "name": "stdout",
     "output_type": "stream",
     "text": [
      "Number of instances           : 23698.0\n",
      "Base Rate                     : 0.880327453793569\n",
      "Consistency                   : [0.97370242]\n",
      "Disparate Impact              : 1.0151071607454623\n",
      "Mean Difference               : 0.013192032504097506\n",
      "Statistical Parity Difference : 0.013192032504097506\n"
     ]
    },
    {
     "data": {
      "text/markdown": [
       "#### Biased test dataset"
      ],
      "text/plain": [
       "<IPython.core.display.Markdown object>"
      ]
     },
     "metadata": {},
     "output_type": "display_data"
    },
    {
     "name": "stdout",
     "output_type": "stream",
     "text": [
      "Number of instances           : 5925.0\n",
      "Base Rate                     : 0.860590717299578\n",
      "Consistency                   : [0.95632068]\n",
      "Disparate Impact              : 1.0241780424892548\n",
      "Mean Difference               : 0.020537953435521894\n",
      "Statistical Parity Difference : 0.020537953435521894\n"
     ]
    }
   ],
   "source": [
    "# Metrics for the dataset from plain model (after unbiasing)\n",
    "display(Markdown(\"#### Plain model - after unbiasing - dataset metrics\"))\n",
    "metric_unbiased_train = BinaryLabelDatasetMetric(Taiwan_unbiased_train, \n",
    "                             unprivileged_groups=unprivileged_groups,\n",
    "                             privileged_groups=privileged_groups)\n",
    "\n",
    "metric_unbiased_test = BinaryLabelDatasetMetric(Taiwan_unbiased_test, \n",
    "                            unprivileged_groups=unprivileged_groups,\n",
    "                            privileged_groups=privileged_groups)\n",
    "display(Markdown(\"#### Biased training dataset\"))\n",
    "print('Number of instances           :', metric_unbiased_train.num_instances())\n",
    "print('Base Rate                     :', metric_unbiased_train.base_rate())\n",
    "print('Consistency                   :', metric_unbiased_train.consistency())\n",
    "print('Disparate Impact              :', metric_unbiased_train.disparate_impact())\n",
    "print('Mean Difference               :', metric_unbiased_train.mean_difference())\n",
    "print('Statistical Parity Difference :', metric_unbiased_train.statistical_parity_difference()) \n",
    "display(Markdown(\"#### Biased test dataset\"))\n",
    "print('Number of instances           :', metric_unbiased_test.num_instances())\n",
    "print('Base Rate                     :', metric_unbiased_test.base_rate())\n",
    "print('Consistency                   :', metric_unbiased_test.consistency())\n",
    "print('Disparate Impact              :', metric_unbiased_test.disparate_impact())\n",
    "print('Mean Difference               :', metric_unbiased_test.mean_difference())\n",
    "print('Statistical Parity Difference :', metric_unbiased_test.statistical_parity_difference()) "
   ]
  },
  {
   "cell_type": "code",
   "execution_count": 26,
   "metadata": {},
   "outputs": [],
   "source": [
    "# Create the Classification metric for train and test\n",
    "classified_metric_unbiased_train = ClassificationMetric(Taiwan_train_bld, Taiwan_unbiased_train,\n",
    "                                       unprivileged_groups=unprivileged_groups,\n",
    "                                       privileged_groups=privileged_groups)\n",
    "classified_metric_unbiased_test = ClassificationMetric(Taiwan_test_bld, Taiwan_unbiased_test,\n",
    "                                       unprivileged_groups=unprivileged_groups,\n",
    "                                       privileged_groups=privileged_groups)"
   ]
  },
  {
   "cell_type": "code",
   "execution_count": 27,
   "metadata": {},
   "outputs": [
    {
     "data": {
      "text/markdown": [
       "#### Plain model - after debiasing - classification metrics"
      ],
      "text/plain": [
       "<IPython.core.display.Markdown object>"
      ]
     },
     "metadata": {},
     "output_type": "display_data"
    },
    {
     "data": {
      "text/markdown": [
       "#### Unbiased training dataset - CLassification Metrics"
      ],
      "text/plain": [
       "<IPython.core.display.Markdown object>"
      ]
     },
     "metadata": {},
     "output_type": "display_data"
    },
    {
     "name": "stdout",
     "output_type": "stream",
     "text": [
      "Classification accuracy         = 0.8203645877289223\n",
      "Balanced classification accuracy= 0.6584830387253136\n",
      "Disparate impact                = 1.0151071607454623\n",
      "Equal opportunity difference    = 0.002709703128113139\n",
      "Average odds difference         = 0.009567080038121067\n",
      "Theil_index                     = 0.0792443954176491\n"
     ]
    },
    {
     "data": {
      "text/markdown": [
       "#### Unbiased test dataset - CLassification Metrics"
      ],
      "text/plain": [
       "<IPython.core.display.Markdown object>"
      ]
     },
     "metadata": {},
     "output_type": "display_data"
    },
    {
     "name": "stdout",
     "output_type": "stream",
     "text": [
      "Classification accuracy         = 0.8194092827004219\n",
      "Balanced classification accuracy= 0.6668247132428902\n",
      "Disparate impact                = 1.0241780424892548\n",
      "Equal opportunity difference    = 0.010496009248760485\n",
      "Average odds difference         = 0.007820351891261235\n",
      "Theil_index                     = 0.09384162020093618\n"
     ]
    }
   ],
   "source": [
    "display(Markdown(\"#### Plain model - after debiasing - classification metrics\"))\n",
    "display(Markdown(\"#### Unbiased training dataset - CLassification Metrics\"))\n",
    "TPR_train = classified_metric_unbiased_train.true_positive_rate()\n",
    "TNR_train = classified_metric_unbiased_train.true_negative_rate()\n",
    "bal_acc_unbiased_train = 0.5*(TPR_train + TNR_train)\n",
    "print('Classification accuracy         =', classified_metric_unbiased_train.accuracy())\n",
    "print('Balanced classification accuracy=', bal_acc_unbiased_train)\n",
    "print('Disparate impact                =', classified_metric_unbiased_train.disparate_impact())\n",
    "print('Equal opportunity difference    =', classified_metric_unbiased_train.equal_opportunity_difference())\n",
    "print('Average odds difference         =', classified_metric_unbiased_train.average_odds_difference())\n",
    "print('Theil_index                     =', classified_metric_unbiased_train.theil_index())\n",
    "\n",
    "display(Markdown(\"#### Unbiased test dataset - CLassification Metrics\"))\n",
    "TPR_test = classified_metric_unbiased_test.true_positive_rate()\n",
    "TNR_test = classified_metric_unbiased_test.true_negative_rate()\n",
    "bal_acc_unbiased_test = 0.5*(TPR_test+TNR_test)\n",
    "print('Classification accuracy         =', classified_metric_unbiased_test.accuracy())\n",
    "print('Balanced classification accuracy=', bal_acc_unbiased_test)\n",
    "print('Disparate impact                =', classified_metric_unbiased_test.disparate_impact())\n",
    "print('Equal opportunity difference    =', classified_metric_unbiased_test.equal_opportunity_difference())\n",
    "print('Average odds difference         =', classified_metric_unbiased_test.average_odds_difference())\n",
    "print('Theil_index                     =', classified_metric_unbiased_test.theil_index())"
   ]
  },
  {
   "cell_type": "code",
   "execution_count": 28,
   "metadata": {},
   "outputs": [
    {
     "name": "stdout",
     "output_type": "stream",
     "text": [
      "Model Accuracy for Log Reg and RFC after bias transformation:\n",
      "Biased Logistic regression validation accuracy: 0.9738396624472574\n",
      "Biased Random Forest       validation accuracy: 0.9409282700421941\n",
      "\n",
      "Biased Balanced accuracy\n",
      "Biased Logistic regression balanced accuracy  : 0.9158124343803822\n",
      "Biased Random Forest       balanced accuracy  : 0.7891501300877017\n"
     ]
    }
   ],
   "source": [
    "# Determine the after-transformation model accuracy for Logistic Regression and Random Forest Classifiers\n",
    "X_train = Taiwan_train_df.drop(lab,axis=1)\n",
    "y_train = Taiwan_train_df[lab]\n",
    "X_test  = Taiwan_test_df.drop(lab,axis=1)\n",
    "y_test  = Taiwan_test_df[lab]\n",
    "\n",
    "UnbiasedLogModel = LogisticRegression(random_state=101)\n",
    "UnbiasedRfcModel = RandomForestClassifier(n_estimators=100,max_depth=4,random_state=101)\n",
    "UnbiasedLogModel.fit(X_train, y_train) \n",
    "UnbiasedRfcModel.fit(X_train, y_train) \n",
    "UnbiasedLog_pred = UnbiasedLogModel.predict(X_test)\n",
    "UnbiasedRfc_pred = UnbiasedRfcModel.predict(X_test)\n",
    "\n",
    "# Now get Logistic Regression and Random Forest Clasisfication performancce of unbiased data\n",
    "print('Model Accuracy for Log Reg and RFC after bias transformation:')\n",
    "print(f\"Biased Logistic regression validation accuracy: {UnbiasedLogModel.score(X_test, y_test)}\")\n",
    "print(f\"Biased Random Forest       validation accuracy: {UnbiasedRfcModel.score(X_test, y_test)}\")\n",
    "print('')\n",
    "print('Biased Balanced accuracy')\n",
    "print(f\"Biased Logistic regression balanced accuracy  : {balanced_accuracy_score(y_test, UnbiasedLog_pred)}\")\n",
    "print(f\"Biased Random Forest       balanced accuracy  : {balanced_accuracy_score(y_test, UnbiasedRfc_pred)}\")"
   ]
  },
  {
   "cell_type": "code",
   "execution_count": 29,
   "metadata": {},
   "outputs": [
    {
     "name": "stdout",
     "output_type": "stream",
     "text": [
      "Model Accuracy for predicting the Sensitive Variable before bias transformation:\n",
      "Biased Logistic regression validation accuracy: 0.7270886075949367\n",
      "Biased Random Forest       validation accuracy: 0.7220253164556962\n",
      "\n",
      "Biased Balanced accuracy\n",
      "Biased Logistic regression balanced accuracy  : 0.729134362105674\n",
      "Biased Random Forest       balanced accuracy  : 0.728526051201414\n"
     ]
    }
   ],
   "source": [
    "# Finally test whether it is possible to predict the Sensitive Variable from the transformed dataset\n",
    "X_se_train = Taiwan_train_df.drop(protected_attr,axis=1)\n",
    "y_se_train = Taiwan_train_df[protected_attr]\n",
    "X_se_test  = Taiwan_test_df.drop(protected_attr,axis=1)\n",
    "y_se_test  = Taiwan_test_df[protected_attr]\n",
    "\n",
    "Se_unbiasedLogModel = LogisticRegression(random_state=101)\n",
    "Se_unbiasedRfcModel = RandomForestClassifier(n_estimators=100,max_depth=4,random_state=101)\n",
    "Se_unbiasedLogModel.fit(X_se_train, y_se_train) \n",
    "Se_unbiasedRfcModel.fit(X_se_train, y_se_train) \n",
    "yseLog_pred =  Se_unbiasedLogModel.predict(X_se_test)\n",
    "yseRfc_pred =  Se_unbiasedRfcModel.predict(X_se_test)\n",
    "# Now test whether we can predict Gender from the test dataset\n",
    "print('Model Accuracy for predicting the Sensitive Variable before bias transformation:')\n",
    "print(f\"Biased Logistic regression validation accuracy: {Se_unbiasedLogModel.score(X_se_test, y_se_test)}\")\n",
    "print(f\"Biased Random Forest       validation accuracy: {Se_unbiasedRfcModel.score(X_se_test, y_se_test)}\")\n",
    "print('')\n",
    "print('Biased Balanced accuracy')\n",
    "print(f\"Biased Logistic regression balanced accuracy  : {balanced_accuracy_score(y_se_test, yseLog_pred)}\")\n",
    "print(f\"Biased Random Forest       balanced accuracy  : {balanced_accuracy_score(y_se_test, yseRfc_pred)}\")"
   ]
  },
  {
   "cell_type": "code",
   "execution_count": 30,
   "metadata": {},
   "outputs": [
    {
     "name": "stdout",
     "output_type": "stream",
     "text": [
      "Predicted Training After - DEFAULT value counts:\n",
      "1.0    20862\n",
      "0.0     2836\n",
      "Name: DEFAULT, dtype: int64\n",
      "Predicted Training After - MARRIAGE value counts:\n",
      "0.0    12749\n",
      "1.0    10949\n",
      "Name: MARRIAGE, dtype: int64\n"
     ]
    }
   ],
   "source": [
    "print('Predicted Training After - DEFAULT value counts:')\n",
    "print(Taiwan_train_df.DEFAULT.value_counts())\n",
    "print('Predicted Training After - MARRIAGE value counts:')\n",
    "print(Taiwan_train_df.MARRIAGE.value_counts())"
   ]
  },
  {
   "cell_type": "code",
   "execution_count": 31,
   "metadata": {},
   "outputs": [
    {
     "name": "stdout",
     "output_type": "stream",
     "text": [
      "Predicted Test After - DEFAULT value counts:\n",
      "1.0    5099\n",
      "0.0     826\n",
      "Name: DEFAULT, dtype: int64\n",
      "Predicted Test After - MARRIAGE value counts:\n",
      "0.0    3215\n",
      "1.0    2710\n",
      "Name: MARRIAGE, dtype: int64\n"
     ]
    }
   ],
   "source": [
    "print('Predicted Test After - DEFAULT value counts:')\n",
    "print(Taiwan_test_df.DEFAULT.value_counts())\n",
    "print('Predicted Test After - MARRIAGE value counts:')\n",
    "print(Taiwan_test_df.MARRIAGE.value_counts())"
   ]
  }
 ],
 "metadata": {
  "kernelspec": {
   "display_name": "Python 3",
   "language": "python",
   "name": "python3"
  },
  "language_info": {
   "codemirror_mode": {
    "name": "ipython",
    "version": 3
   },
   "file_extension": ".py",
   "mimetype": "text/x-python",
   "name": "python",
   "nbconvert_exporter": "python",
   "pygments_lexer": "ipython3",
   "version": "3.7.3"
  }
 },
 "nbformat": 4,
 "nbformat_minor": 2
}
