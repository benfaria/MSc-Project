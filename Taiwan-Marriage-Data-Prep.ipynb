{
 "cells": [
  {
   "cell_type": "code",
   "execution_count": 1,
   "metadata": {},
   "outputs": [],
   "source": [
    "# This notebook preps a subset of 'Married'&Singles' of the Taiwan Credit Default dataset.\n",
    "# Here MARRIAGE is the protected variable.\n",
    "# Import Data handling/display libraries\n",
    "import pandas                as pd\n",
    "import numpy                 as np\n",
    "import seaborn               as sns\n",
    "import matplotlib.pyplot     as plt\n",
    "from sklearn.preprocessing   import MinMaxScaler\n",
    "from sklearn.model_selection import train_test_split\n",
    "from sklearn.ensemble        import RandomForestClassifier\n",
    "from sklearn.linear_model    import LogisticRegression\n",
    "from sklearn.base            import TransformerMixin\n",
    "from sklearn.pipeline        import Pipeline, FeatureUnion\n",
    "from sklearn.preprocessing   import LabelEncoder,StandardScaler, MinMaxScaler, RobustScaler \n",
    "from typing                  import List, Union, Dict\n",
    "# Warnings will be used to silence various model warnings for tidier output\n",
    "import warnings\n",
    "warnings.filterwarnings('ignore')"
   ]
  },
  {
   "cell_type": "code",
   "execution_count": 2,
   "metadata": {},
   "outputs": [
    {
     "data": {
      "text/html": [
       "<div>\n",
       "<style scoped>\n",
       "    .dataframe tbody tr th:only-of-type {\n",
       "        vertical-align: middle;\n",
       "    }\n",
       "\n",
       "    .dataframe tbody tr th {\n",
       "        vertical-align: top;\n",
       "    }\n",
       "\n",
       "    .dataframe thead th {\n",
       "        text-align: right;\n",
       "    }\n",
       "</style>\n",
       "<table border=\"1\" class=\"dataframe\">\n",
       "  <thead>\n",
       "    <tr style=\"text-align: right;\">\n",
       "      <th></th>\n",
       "      <th>ID</th>\n",
       "      <th>LIMIT_BAL</th>\n",
       "      <th>SEX</th>\n",
       "      <th>EDUCATION</th>\n",
       "      <th>MARRIAGE</th>\n",
       "      <th>AGE</th>\n",
       "      <th>PAY_0</th>\n",
       "      <th>PAY_2</th>\n",
       "      <th>PAY_3</th>\n",
       "      <th>PAY_4</th>\n",
       "      <th>...</th>\n",
       "      <th>BILL_AMT4</th>\n",
       "      <th>BILL_AMT5</th>\n",
       "      <th>BILL_AMT6</th>\n",
       "      <th>PAY_AMT1</th>\n",
       "      <th>PAY_AMT2</th>\n",
       "      <th>PAY_AMT3</th>\n",
       "      <th>PAY_AMT4</th>\n",
       "      <th>PAY_AMT5</th>\n",
       "      <th>PAY_AMT6</th>\n",
       "      <th>default payment next month</th>\n",
       "    </tr>\n",
       "  </thead>\n",
       "  <tbody>\n",
       "    <tr>\n",
       "      <th>0</th>\n",
       "      <td>1</td>\n",
       "      <td>20000</td>\n",
       "      <td>2</td>\n",
       "      <td>2</td>\n",
       "      <td>1</td>\n",
       "      <td>24</td>\n",
       "      <td>2</td>\n",
       "      <td>2</td>\n",
       "      <td>-1</td>\n",
       "      <td>-1</td>\n",
       "      <td>...</td>\n",
       "      <td>0</td>\n",
       "      <td>0</td>\n",
       "      <td>0</td>\n",
       "      <td>0</td>\n",
       "      <td>689</td>\n",
       "      <td>0</td>\n",
       "      <td>0</td>\n",
       "      <td>0</td>\n",
       "      <td>0</td>\n",
       "      <td>1</td>\n",
       "    </tr>\n",
       "    <tr>\n",
       "      <th>1</th>\n",
       "      <td>2</td>\n",
       "      <td>120000</td>\n",
       "      <td>2</td>\n",
       "      <td>2</td>\n",
       "      <td>2</td>\n",
       "      <td>26</td>\n",
       "      <td>-1</td>\n",
       "      <td>2</td>\n",
       "      <td>0</td>\n",
       "      <td>0</td>\n",
       "      <td>...</td>\n",
       "      <td>3272</td>\n",
       "      <td>3455</td>\n",
       "      <td>3261</td>\n",
       "      <td>0</td>\n",
       "      <td>1000</td>\n",
       "      <td>1000</td>\n",
       "      <td>1000</td>\n",
       "      <td>0</td>\n",
       "      <td>2000</td>\n",
       "      <td>1</td>\n",
       "    </tr>\n",
       "  </tbody>\n",
       "</table>\n",
       "<p>2 rows × 25 columns</p>\n",
       "</div>"
      ],
      "text/plain": [
       "   ID  LIMIT_BAL  SEX  EDUCATION  MARRIAGE  AGE  PAY_0  PAY_2  PAY_3  PAY_4  \\\n",
       "0   1      20000    2          2         1   24      2      2     -1     -1   \n",
       "1   2     120000    2          2         2   26     -1      2      0      0   \n",
       "\n",
       "              ...              BILL_AMT4  BILL_AMT5  BILL_AMT6  PAY_AMT1  \\\n",
       "0             ...                      0          0          0         0   \n",
       "1             ...                   3272       3455       3261         0   \n",
       "\n",
       "   PAY_AMT2  PAY_AMT3  PAY_AMT4  PAY_AMT5  PAY_AMT6  \\\n",
       "0       689         0         0         0         0   \n",
       "1      1000      1000      1000         0      2000   \n",
       "\n",
       "   default payment next month  \n",
       "0                           1  \n",
       "1                           1  \n",
       "\n",
       "[2 rows x 25 columns]"
      ]
     },
     "execution_count": 2,
     "metadata": {},
     "output_type": "execute_result"
    }
   ],
   "source": [
    "# Import the Taiwan Credit Card Default training dataset\n",
    "Taiwan_df = pd.read_csv('./input/Taiwan-Credit-Card-Default.csv')\n",
    "\n",
    "# Drop the first row because it is a redundant heading row.\n",
    "Taiwan_df.to_csv('./input/Taiwan-Credit-Card-New.csv', header=False, index=False)\n",
    "\n",
    "# Re-read the dataset with its proper column headers\n",
    "Taiwan_df = pd.read_csv('./input/Taiwan-Credit-Card-New.csv')\n",
    "Taiwan_df.head(2)"
   ]
  },
  {
   "cell_type": "code",
   "execution_count": 3,
   "metadata": {},
   "outputs": [],
   "source": [
    "# Create MARRIED & SINGLE subset of the dataset\n",
    "Taiwan_df = Taiwan_df.loc[(Taiwan_df['MARRIAGE'] ==1) | (Taiwan_df['MARRIAGE'] ==2)]"
   ]
  },
  {
   "cell_type": "code",
   "execution_count": 4,
   "metadata": {},
   "outputs": [],
   "source": [
    "# Rename a couple of columns for aesthetics\n",
    "Taiwan_df.rename(columns={'SEX':'GENDER', 'PAY_0': 'PAY_1',\n",
    "                          'default payment next month':'DEFAULT'}, inplace=True)\n",
    "# Drop ID as it has no impact on this study.\n",
    "Taiwan_df.drop([\"ID\"], axis=1, inplace=True)"
   ]
  },
  {
   "cell_type": "code",
   "execution_count": 5,
   "metadata": {},
   "outputs": [
    {
     "data": {
      "text/plain": [
       "MARRIAGE  DEFAULT\n",
       "1         0          10453\n",
       "          1           3206\n",
       "2         0          12623\n",
       "          1           3341\n",
       "dtype: int64"
      ]
     },
     "execution_count": 5,
     "metadata": {},
     "output_type": "execute_result"
    }
   ],
   "source": [
    "# Marrieds are 1s, Singles are 2s.\n",
    "Taiwan_df.groupby(['MARRIAGE', 'DEFAULT']).size()"
   ]
  },
  {
   "cell_type": "code",
   "execution_count": 6,
   "metadata": {},
   "outputs": [],
   "source": [
    "# Clean up the EDUCATION values\n",
    "# Education categories 0, 5, and 6 have no definition, make them 'Education Other',eg '4'\n",
    "fil = (Taiwan_df.EDUCATION == 5) | (Taiwan_df.EDUCATION == 6) | (Taiwan_df.EDUCATION == 0)\n",
    "Taiwan_df.loc[fil, 'EDUCATION'] = 4"
   ]
  },
  {
   "cell_type": "code",
   "execution_count": 7,
   "metadata": {},
   "outputs": [
    {
     "name": "stdout",
     "output_type": "stream",
     "text": [
      "Before DEFAULT transform:\n",
      "0    23076\n",
      "1     6547\n",
      "Name: DEFAULT, dtype: int64\n",
      "Before DEFAULT transform:\n",
      "1    23076\n",
      "0     6547\n",
      "Name: DEFAULT, dtype: int64\n"
     ]
    }
   ],
   "source": [
    "# Encode DEFAULT from non-default=0 and default=1 ==> non-default=1, default=0\n",
    "# to comply with the AIF360 hard coded values for favourable/unfavavourable labels. \n",
    "print('Before DEFAULT transform:')\n",
    "print(Taiwan_df.DEFAULT.value_counts())\n",
    "default = {1: 0,0: 1}\n",
    "Taiwan_df.DEFAULT = [default[item] for item in Taiwan_df.DEFAULT]\n",
    "print('Before DEFAULT transform:')\n",
    "print(Taiwan_df.DEFAULT.value_counts())"
   ]
  },
  {
   "cell_type": "code",
   "execution_count": 8,
   "metadata": {},
   "outputs": [
    {
     "name": "stdout",
     "output_type": "stream",
     "text": [
      "Before MARRIAGE transform:\n",
      "2    15964\n",
      "1    13659\n",
      "Name: MARRIAGE, dtype: int64\n",
      "After MARRIAGE transform:\n",
      "0    15964\n",
      "1    13659\n",
      "Name: MARRIAGE, dtype: int64\n"
     ]
    }
   ],
   "source": [
    "# This step made Marriage value: Singles 0, Married 1 (Originally they were Singles 2, Married 1)\n",
    "print('Before MARRIAGE transform:')\n",
    "print(Taiwan_df.MARRIAGE.value_counts())\n",
    "marriage = {1: 1,2: 0} \n",
    "Taiwan_df.MARRIAGE = [marriage[item] for item in Taiwan_df.MARRIAGE]\n",
    "print('After MARRIAGE transform:')\n",
    "print(Taiwan_df.MARRIAGE.value_counts())"
   ]
  },
  {
   "cell_type": "code",
   "execution_count": 9,
   "metadata": {},
   "outputs": [
    {
     "data": {
      "text/html": [
       "<div>\n",
       "<style scoped>\n",
       "    .dataframe tbody tr th:only-of-type {\n",
       "        vertical-align: middle;\n",
       "    }\n",
       "\n",
       "    .dataframe tbody tr th {\n",
       "        vertical-align: top;\n",
       "    }\n",
       "\n",
       "    .dataframe thead th {\n",
       "        text-align: right;\n",
       "    }\n",
       "</style>\n",
       "<table border=\"1\" class=\"dataframe\">\n",
       "  <thead>\n",
       "    <tr style=\"text-align: right;\">\n",
       "      <th>DEFAULT</th>\n",
       "      <th>0</th>\n",
       "      <th>1</th>\n",
       "    </tr>\n",
       "    <tr>\n",
       "      <th>MARRIAGE</th>\n",
       "      <th></th>\n",
       "      <th></th>\n",
       "    </tr>\n",
       "  </thead>\n",
       "  <tbody>\n",
       "    <tr>\n",
       "      <th>0</th>\n",
       "      <td>3341</td>\n",
       "      <td>12623</td>\n",
       "    </tr>\n",
       "    <tr>\n",
       "      <th>1</th>\n",
       "      <td>3206</td>\n",
       "      <td>10453</td>\n",
       "    </tr>\n",
       "  </tbody>\n",
       "</table>\n",
       "</div>"
      ],
      "text/plain": [
       "DEFAULT      0      1\n",
       "MARRIAGE             \n",
       "0         3341  12623\n",
       "1         3206  10453"
      ]
     },
     "execution_count": 9,
     "metadata": {},
     "output_type": "execute_result"
    }
   ],
   "source": [
    "marriage = Taiwan_df.groupby(['MARRIAGE', 'DEFAULT']).size().unstack(1)\n",
    "marriage"
   ]
  },
  {
   "cell_type": "code",
   "execution_count": 10,
   "metadata": {},
   "outputs": [
    {
     "data": {
      "text/plain": [
       "<matplotlib.axes._subplots.AxesSubplot at 0x1b829e65be0>"
      ]
     },
     "execution_count": 10,
     "metadata": {},
     "output_type": "execute_result"
    },
    {
     "data": {
      "image/png": "[encoded data removed]",
      "text/plain": [
       "<Figure size 432x288 with 1 Axes>"
      ]
     },
     "metadata": {
      "needs_background": "light"
     },
     "output_type": "display_data"
    }
   ],
   "source": [
    "marriage.plot(kind='bar', stacked = True)"
   ]
  },
  {
   "cell_type": "code",
   "execution_count": 11,
   "metadata": {},
   "outputs": [],
   "source": [
    "# This step makes GENDER value: Males 1s, Females 0s (Originally they were Males 1, Females 2)\n",
    "#print('Before GENDER transform:')\n",
    "#print(Taiwan_df.GENDER.value_counts())\n",
    "#gender = {1: 1,2: 0} \n",
    "#Taiwan_df.GENDER = [gender[item] for item in Taiwan_df.GENDER]\n",
    "#print('After GENDER transform:')\n",
    "#print(Taiwan_df.GENDER.value_counts())"
   ]
  },
  {
   "cell_type": "code",
   "execution_count": 12,
   "metadata": {},
   "outputs": [],
   "source": [
    "#Create new column AMT_PAY_RATIO = Total sum owed / Total sum paid over 6 months\n",
    "Taiwan_df['AMT_PAY_RATIO'] = (Taiwan_df['BILL_AMT1']+Taiwan_df['BILL_AMT2']+\n",
    "                              Taiwan_df['BILL_AMT3']+Taiwan_df['BILL_AMT4']+\n",
    "                              Taiwan_df['BILL_AMT5']+\n",
    "                              Taiwan_df['BILL_AMT6']) / (Taiwan_df['PAY_AMT1']+\n",
    "                                                         Taiwan_df['PAY_AMT2']+Taiwan_df['PAY_AMT3']+\n",
    "                                                         Taiwan_df['PAY_AMT4']+Taiwan_df['PAY_AMT5']+\n",
    "                                                         Taiwan_df['PAY_AMT6'])  "
   ]
  },
  {
   "cell_type": "code",
   "execution_count": 13,
   "metadata": {},
   "outputs": [],
   "source": [
    "# Here we create a 6 new columns called AMT-PAY-RATIO. This will contain \n",
    "# the amount/payment ratio for the 6 BILL_AMTx/PAY_AMTx. \n",
    "Taiwan_df['AMT_PAY_RATIO1'] = Taiwan_df['BILL_AMT1']/Taiwan_df['PAY_AMT1']\n",
    "Taiwan_df['AMT_PAY_RATIO2'] = Taiwan_df['BILL_AMT2']/Taiwan_df['PAY_AMT2']\n",
    "Taiwan_df['AMT_PAY_RATIO3'] = Taiwan_df['BILL_AMT3']/Taiwan_df['PAY_AMT3']\n",
    "Taiwan_df['AMT_PAY_RATIO4'] = Taiwan_df['BILL_AMT4']/Taiwan_df['PAY_AMT4']\n",
    "Taiwan_df['AMT_PAY_RATIO5'] = Taiwan_df['BILL_AMT5']/Taiwan_df['PAY_AMT5']\n",
    "Taiwan_df['AMT_PAY_RATIO6'] = Taiwan_df['BILL_AMT6']/Taiwan_df['PAY_AMT6']\n",
    "\n",
    "# We now replace the inf values (from division by zero) with NaN\n",
    "Taiwan_df.replace([np.inf, -np.inf], np.nan, inplace=True)"
   ]
  },
  {
   "cell_type": "code",
   "execution_count": 14,
   "metadata": {},
   "outputs": [],
   "source": [
    "# Here we create a 1 new column called BILL-AMT-AVERAGE. This will contain \n",
    "# the average of the BILL_AMTx for the 6 BILL_AMTx. \n",
    "Taiwan_df['BILL_AMT_AVERAGE'] = (Taiwan_df['BILL_AMT1']+Taiwan_df['BILL_AMT2']+Taiwan_df['BILL_AMT3']+\n",
    "                                 Taiwan_df['BILL_AMT4']+Taiwan_df['BILL_AMT5']+Taiwan_df['BILL_AMT6'])/6\n",
    "# We now replace the inf values (from division by zero) with NaN\n",
    "Taiwan_df.replace([np.inf, -np.inf], np.nan, inplace=True)"
   ]
  },
  {
   "cell_type": "code",
   "execution_count": 15,
   "metadata": {},
   "outputs": [],
   "source": [
    "# Here we create another 1 new column called PAY-AMT-AVERAGE. This will contain \n",
    "# the average of the PAY_AMTx for the 6 PAY_AMTx. \n",
    "Taiwan_df['PAY_AMT_AVERAGE'] = (Taiwan_df['PAY_AMT1']+Taiwan_df['PAY_AMT2']+Taiwan_df['PAY_AMT3']+\n",
    "                                Taiwan_df['PAY_AMT4']+Taiwan_df['PAY_AMT5']+Taiwan_df['PAY_AMT6'])/6\n",
    "# We now replace the inf values (from division by zero) with NaN\n",
    "Taiwan_df.replace([np.inf, -np.inf], np.nan, inplace=True)"
   ]
  },
  {
   "cell_type": "code",
   "execution_count": 16,
   "metadata": {},
   "outputs": [],
   "source": [
    "# Create a function to simply return columns from the dataframe.\n",
    "class SelectCols(TransformerMixin):\n",
    "    def __init__(self, cols: List[str]) -> None:\n",
    "        self.cols = cols\n",
    "    def fit(self, x: None) -> \"SelectCols\":\n",
    "        # Do nothing\n",
    "        return self\n",
    "    def transform(self, x: pd.DataFrame) -> pd.DataFrame:\n",
    "        # Return the selected columns only.\n",
    "        return x[self.cols]"
   ]
  },
  {
   "cell_type": "code",
   "execution_count": 17,
   "metadata": {},
   "outputs": [],
   "source": [
    "#This function replaces invalid numerical values with the column's median.\n",
    "class NumericEncoder(TransformerMixin):\n",
    "    def fit(self, x: pd.DataFrame) -> \"NumericEncoder\":\n",
    "        # Find median for all columns. Make all non-NaNs and invalid values NaNs\n",
    "        # If a column is all NaNs (after coercion), the median value will be a NaN.\n",
    "        self.encoders_ = {\n",
    "            c: pd.to_numeric(x[c], errors='coerce').median(skipna=True) for c in x}\n",
    "        return self\n",
    "\n",
    "    def transform(self, x: pd.DataFrame) -> pd.DataFrame:\n",
    "        #For each column in x, encode any NaN values with the learned medium \n",
    "        # Create a list of new DataFrames, each with 1 cleaned columns\n",
    "        output_dfs = []\n",
    "        for c in x:\n",
    "            new_cols = pd.DataFrame()\n",
    "            # Find invalid values that aren't nans (-inf, inf, string)\n",
    "            invalid_idx = pd.to_numeric(x[c].replace([-np.inf, np.inf],np.nan),\n",
    "                                        errors='coerce').isnull()\n",
    "            # Copy to new df for this column\n",
    "            new_cols.loc[:, c] = x[c].copy()\n",
    "            # Replace the invalid values with learned median\n",
    "            new_cols.loc[invalid_idx, c] = self.encoders_[c]\n",
    "            output_dfs.append(new_cols)\n",
    "\n",
    "        # Concat list of output_dfs to single df\n",
    "        df = pd.concat(output_dfs, axis=1)\n",
    "        # Return with an remaining NaNs removed. These might exist if the median\n",
    "        # is a NaN because there was no numeric data in the column at all.\n",
    "        return df.fillna(0)"
   ]
  },
  {
   "cell_type": "markdown",
   "metadata": {},
   "source": [
    "#### SELECT THE COLUMNS TO GO INTO THE CLEANED DATASET"
   ]
  },
  {
   "cell_type": "code",
   "execution_count": 18,
   "metadata": {},
   "outputs": [],
   "source": [
    "# This code includes all original Taiwan columns in the cleaned dataset\n",
    "pp_numeric_cols = Pipeline([('select', SelectCols(cols=['LIMIT_BAL','GENDER','EDUCATION','MARRIAGE','AGE',\n",
    "                                                        'PAY_1','PAY_2','PAY_3','PAY_4','PAY_5','PAY_6',\n",
    "                                                        'BILL_AMT1','BILL_AMT2','BILL_AMT3', \n",
    "                                                        'BILL_AMT4','BILL_AMT5','BILL_AMT6',\n",
    "                                                        'PAY_AMT1','PAY_AMT2','PAY_AMT3','PAY_AMT4', \n",
    "                                                        'PAY_AMT5','PAY_AMT6', 'DEFAULT'])),\n",
    "                            ('process', NumericEncoder())])"
   ]
  },
  {
   "cell_type": "code",
   "execution_count": 19,
   "metadata": {},
   "outputs": [],
   "source": [
    "# This code includes the calculated ratios in the cleaned dataset\n",
    "#pp_numeric_cols = Pipeline([('select', SelectCols(cols=['LIMIT_BAL','GENDER','EDUCATION','MARRIAGE','AGE',\n",
    "#                                                       'PAY_1','PAY_2','PAY_3','PAY_4','PAY_5','PAY_6',\n",
    "#                                                       'AMT_PAY_RATIO1', 'AMT_PAY_RATIO2', 'AMT_PAY_RATIO3', \n",
    "#                                                       'AMT_PAY_RATIO4', 'AMT_PAY_RATIO5', 'AMT_PAY_RATIO6',\n",
    "#                                                       'AMT_PAY_RATIO', 'DEFAULT'])),\n",
    "#                            ('process', NumericEncoder())])"
   ]
  },
  {
   "cell_type": "code",
   "execution_count": 20,
   "metadata": {},
   "outputs": [],
   "source": [
    "# This code includes the calculated averages in the cleaned dataset\n",
    "#pp_numeric_cols = Pipeline([('select', SelectCols(cols=['LIMIT_BAL','GENDER','EDUCATION','MARRIAGE','AGE',\n",
    "#                                                        'PAY_1','PAY_2','PAY_3','PAY_4','PAY_5','PAY_6',\n",
    "#                                                        'BILL_AMT_AVERAGE','PAY_AMT_AVERAGE','DEFAULT'])),\n",
    "#                            ('process', NumericEncoder())])"
   ]
  },
  {
   "cell_type": "code",
   "execution_count": 21,
   "metadata": {},
   "outputs": [],
   "source": [
    "# This code includes the calculated ratios in the cleaned dataset\n",
    "#pp_numeric_cols = Pipeline([('select', SelectCols(cols=['LIMIT_BAL','GENDER','EDUCATION','MARRIAGE','AGE',\n",
    "#                                                       'PAY_1','PAY_2','PAY_3','PAY_4','PAY_5','PAY_6',\n",
    "#                                                       'AMT_PAY_RATIO1','AMT_PAY_RATIO2','AMT_PAY_RATIO3', \n",
    "#                                                       'AMT_PAY_RATIO4','AMT_PAY_RATIO5','AMT_PAY_RATIO6',\n",
    "#                                                       'AMT_PAY_RATIO','BILL_AMT_AVERAGE','PAY_AMT_AVERAGE',\n",
    "#                                                       'DEFAULT'])),\n",
    "#                            ('process', NumericEncoder())])"
   ]
  },
  {
   "cell_type": "code",
   "execution_count": 22,
   "metadata": {},
   "outputs": [
    {
     "data": {
      "text/plain": [
       "(29623, 24)"
      ]
     },
     "execution_count": 22,
     "metadata": {},
     "output_type": "execute_result"
    }
   ],
   "source": [
    "# Fit_transform on the Taiwan dataset\n",
    "Taiwan_pp = pp_numeric_cols.fit_transform(Taiwan_df)\n",
    "Taiwan_pp.shape"
   ]
  },
  {
   "cell_type": "code",
   "execution_count": 23,
   "metadata": {},
   "outputs": [],
   "source": [
    "# Test step - \n",
    "# Drop various columns to see whether we get meaningful results in de-biasing.\n",
    "#Taiwan_pp.drop([\"PAY_1\", \"PAY_2\", \"PAY_3\", \"PAY_4\", \"PAY_5\", \"PAY_6\"], axis=1, inplace=True)\n",
    "#Taiwan_pp.drop([\"EDUCATION\"], axis=1, inplace=True)\n",
    "#Taiwan_pp.drop([\"AGE\"], axis=1, inplace=True)\n",
    "#Taiwan_pp.drop([\"GENDER\"], axis=1, inplace=True)\n",
    "#Taiwan_pp.drop([\"BILL_AMT1\",\"BILL_AMT2\",\"BILL_AMT3\",\"BILL_AMT4\",\"BILL_AMT5\",\"BILL_AMT6\"], axis=1, inplace=True)\n",
    "#Taiwan_pp.drop([\"PAY_AMT1\",\"PAY_AMT2\",\"PAY_AMT3\",\"PAY_AMT4\",\"PAY_AMT5\",\"PAY_AMT6\"], axis=1, inplace=True)\n",
    "#Taiwan_pp.drop([\"AMT_PAY_RATIO1\",\"AMT_PAY_RATIO2\", \"AMT_PAY_RATIO3\", \"AMT_PAY_RATIO4\", \"AMT_PAY_RATIO5\", \"AMT_PAY_RATIO6\"], axis=1, inplace=True)\n",
    "#Taiwan_pp.drop([\"LIMIT_BAL\"], axis=1, inplace=True)\n",
    "#Taiwan_pp.drop([\"AMT_PAY_RATIO\"], axis=1, inplace=True)\n",
    "#Taiwan_pp.drop([\"AGE\"], axis=1, inplace=True)\n",
    "#Taiwan_pp.head(5)"
   ]
  },
  {
   "cell_type": "code",
   "execution_count": 24,
   "metadata": {},
   "outputs": [],
   "source": [
    "# Finally write the cleaned dataset out to a csv\n",
    "Taiwan_pp.to_csv('./input/Taiwan-Credit-Card-Cleaned-Marriage.csv',index=False)\n",
    "#Taiwan_pp.shape"
   ]
  },
  {
   "cell_type": "code",
   "execution_count": 25,
   "metadata": {},
   "outputs": [],
   "source": [
    "## NOW DETERMINE THE MOST IMPORTANT FEATURES OF A RANDOM FOREST CLASSIFIER"
   ]
  },
  {
   "cell_type": "code",
   "execution_count": 26,
   "metadata": {},
   "outputs": [],
   "source": [
    "# Create the train and test data sets\n",
    "Taiwan_df = pd.read_csv('./input/Taiwan-Credit-Card-Cleaned-Marriage.csv')\n",
    "X = Taiwan_df.drop(\"DEFAULT\",axis=1)\n",
    "y = Taiwan_df[\"DEFAULT\"]\n",
    "X_train, X_test, y_train, y_test = train_test_split(X, y, test_size = 0.2, random_state = 101)"
   ]
  },
  {
   "cell_type": "code",
   "execution_count": 27,
   "metadata": {},
   "outputs": [],
   "source": [
    "# Scale the Test and Train dataframes \n",
    "scaler = MinMaxScaler(copy=False)\n",
    "X_train = pd.DataFrame(scaler.fit_transform(X_train.values), columns=X_train.columns, index=X_train.index)\n",
    "X_test  = pd.DataFrame(scaler.fit_transform(X_test.values),  columns=X_test.columns,  index=X_test.index)"
   ]
  },
  {
   "cell_type": "code",
   "execution_count": 28,
   "metadata": {},
   "outputs": [
    {
     "name": "stdout",
     "output_type": "stream",
     "text": [
      "Logistic regression validation accuracy: 0.8168776371308016\n"
     ]
    }
   ],
   "source": [
    "biasedlogmodel = LogisticRegression(random_state=101)\n",
    "biasedlogmodel.fit(X_train,y_train)\n",
    "logpredictions = biasedlogmodel.predict(X_test)\n",
    "print(f\"Logistic regression validation accuracy: {biasedlogmodel.score(X_test, y_test)}\")"
   ]
  },
  {
   "cell_type": "code",
   "execution_count": 29,
   "metadata": {},
   "outputs": [
    {
     "data": {
      "text/html": [
       "<div>\n",
       "<style scoped>\n",
       "    .dataframe tbody tr th:only-of-type {\n",
       "        vertical-align: middle;\n",
       "    }\n",
       "\n",
       "    .dataframe tbody tr th {\n",
       "        vertical-align: top;\n",
       "    }\n",
       "\n",
       "    .dataframe thead th {\n",
       "        text-align: right;\n",
       "    }\n",
       "</style>\n",
       "<table border=\"1\" class=\"dataframe\">\n",
       "  <thead>\n",
       "    <tr style=\"text-align: right;\">\n",
       "      <th></th>\n",
       "      <th>importance</th>\n",
       "    </tr>\n",
       "  </thead>\n",
       "  <tbody>\n",
       "    <tr>\n",
       "      <th>PAY_AMT1</th>\n",
       "      <td>2.781813</td>\n",
       "    </tr>\n",
       "    <tr>\n",
       "      <th>BILL_AMT1</th>\n",
       "      <td>1.903809</td>\n",
       "    </tr>\n",
       "    <tr>\n",
       "      <th>PAY_AMT2</th>\n",
       "      <td>1.840256</td>\n",
       "    </tr>\n",
       "    <tr>\n",
       "      <th>PAY_AMT4</th>\n",
       "      <td>1.417990</td>\n",
       "    </tr>\n",
       "    <tr>\n",
       "      <th>PAY_AMT3</th>\n",
       "      <td>1.331573</td>\n",
       "    </tr>\n",
       "    <tr>\n",
       "      <th>PAY_AMT6</th>\n",
       "      <td>1.020478</td>\n",
       "    </tr>\n",
       "    <tr>\n",
       "      <th>LIMIT_BAL</th>\n",
       "      <td>0.848707</td>\n",
       "    </tr>\n",
       "    <tr>\n",
       "      <th>PAY_AMT5</th>\n",
       "      <td>0.764309</td>\n",
       "    </tr>\n",
       "    <tr>\n",
       "      <th>BILL_AMT3</th>\n",
       "      <td>0.320115</td>\n",
       "    </tr>\n",
       "    <tr>\n",
       "      <th>EDUCATION</th>\n",
       "      <td>0.309609</td>\n",
       "    </tr>\n",
       "    <tr>\n",
       "      <th>GENDER</th>\n",
       "      <td>0.103306</td>\n",
       "    </tr>\n",
       "    <tr>\n",
       "      <th>BILL_AMT4</th>\n",
       "      <td>0.085251</td>\n",
       "    </tr>\n",
       "    <tr>\n",
       "      <th>BILL_AMT2</th>\n",
       "      <td>-0.018341</td>\n",
       "    </tr>\n",
       "    <tr>\n",
       "      <th>PAY_4</th>\n",
       "      <td>-0.022339</td>\n",
       "    </tr>\n",
       "    <tr>\n",
       "      <th>BILL_AMT6</th>\n",
       "      <td>-0.098760</td>\n",
       "    </tr>\n",
       "    <tr>\n",
       "      <th>PAY_6</th>\n",
       "      <td>-0.155272</td>\n",
       "    </tr>\n",
       "    <tr>\n",
       "      <th>MARRIAGE</th>\n",
       "      <td>-0.213392</td>\n",
       "    </tr>\n",
       "    <tr>\n",
       "      <th>AGE</th>\n",
       "      <td>-0.236886</td>\n",
       "    </tr>\n",
       "    <tr>\n",
       "      <th>PAY_5</th>\n",
       "      <td>-0.443629</td>\n",
       "    </tr>\n",
       "    <tr>\n",
       "      <th>BILL_AMT5</th>\n",
       "      <td>-0.483690</td>\n",
       "    </tr>\n",
       "    <tr>\n",
       "      <th>PAY_2</th>\n",
       "      <td>-0.631013</td>\n",
       "    </tr>\n",
       "    <tr>\n",
       "      <th>PAY_3</th>\n",
       "      <td>-0.849868</td>\n",
       "    </tr>\n",
       "    <tr>\n",
       "      <th>PAY_1</th>\n",
       "      <td>-5.685628</td>\n",
       "    </tr>\n",
       "  </tbody>\n",
       "</table>\n",
       "</div>"
      ],
      "text/plain": [
       "           importance\n",
       "PAY_AMT1     2.781813\n",
       "BILL_AMT1    1.903809\n",
       "PAY_AMT2     1.840256\n",
       "PAY_AMT4     1.417990\n",
       "PAY_AMT3     1.331573\n",
       "PAY_AMT6     1.020478\n",
       "LIMIT_BAL    0.848707\n",
       "PAY_AMT5     0.764309\n",
       "BILL_AMT3    0.320115\n",
       "EDUCATION    0.309609\n",
       "GENDER       0.103306\n",
       "BILL_AMT4    0.085251\n",
       "BILL_AMT2   -0.018341\n",
       "PAY_4       -0.022339\n",
       "BILL_AMT6   -0.098760\n",
       "PAY_6       -0.155272\n",
       "MARRIAGE    -0.213392\n",
       "AGE         -0.236886\n",
       "PAY_5       -0.443629\n",
       "BILL_AMT5   -0.483690\n",
       "PAY_2       -0.631013\n",
       "PAY_3       -0.849868\n",
       "PAY_1       -5.685628"
      ]
     },
     "execution_count": 29,
     "metadata": {},
     "output_type": "execute_result"
    }
   ],
   "source": [
    "## CODE TO DISPLAY LOG REGRESSION FEATURE IMPORTANCE \n",
    "# List feature importances from the Logistic Regression Classifier\n",
    "log_feature_importance = pd.DataFrame((biasedlogmodel.coef_[0]),index = X_train.columns,\n",
    "                         columns=['importance']).sort_values('importance',ascending=False)\n",
    "log_feature_importance"
   ]
  },
  {
   "cell_type": "code",
   "execution_count": 30,
   "metadata": {},
   "outputs": [
    {
     "data": {
      "image/png": "[encoded data removed]",
      "text/plain": [
       "<Figure size 432x288 with 1 Axes>"
      ]
     },
     "metadata": {
      "needs_background": "light"
     },
     "output_type": "display_data"
    }
   ],
   "source": [
    "## CODE TO DISPLAY LOG FEATURE IMPORTANCE\n",
    "# Display feature importances from the Logistic Regression Classifier\n",
    "feature_names = list(Taiwan_df.columns)\n",
    "\n",
    "importances = biasedlogmodel.coef_[0]\n",
    "# Sort feature importances in descending order\n",
    "indices = np.argsort(importances)[::-1]\n",
    " \n",
    "# Rearrange feature names so they match the sorted feature importances\n",
    "names = [feature_names[i] for i in indices]\n",
    "\n",
    "# Barplot: Add bars\n",
    "plt.bar(range(X_train.shape[1]), importances[indices])\n",
    "# Add feature names as x-axis labels\n",
    "plt.xticks(range(X_train.shape[1]), names, rotation=90, fontsize = 8, )\n",
    "# Create plot title\n",
    "plt.title(\"Biased Logistic Regression Feature Importance\")\n",
    "# Show plot\n",
    "plt.show()"
   ]
  },
  {
   "cell_type": "code",
   "execution_count": 31,
   "metadata": {},
   "outputs": [
    {
     "name": "stdout",
     "output_type": "stream",
     "text": [
      "Random forest validation accuracy: 0.8081012658227849\n"
     ]
    }
   ],
   "source": [
    "biasedrfcmodel = RandomForestClassifier(n_estimators=100,max_depth=4)\n",
    "biasedrfcmodel.fit(X_train, y_train)\n",
    "rfcpredictions = biasedrfcmodel.predict(X_test)\n",
    "print(f\"Random forest validation accuracy: {biasedrfcmodel.score(X_test, y_test)}\")"
   ]
  },
  {
   "cell_type": "code",
   "execution_count": 32,
   "metadata": {},
   "outputs": [
    {
     "data": {
      "text/html": [
       "<div>\n",
       "<style scoped>\n",
       "    .dataframe tbody tr th:only-of-type {\n",
       "        vertical-align: middle;\n",
       "    }\n",
       "\n",
       "    .dataframe tbody tr th {\n",
       "        vertical-align: top;\n",
       "    }\n",
       "\n",
       "    .dataframe thead th {\n",
       "        text-align: right;\n",
       "    }\n",
       "</style>\n",
       "<table border=\"1\" class=\"dataframe\">\n",
       "  <thead>\n",
       "    <tr style=\"text-align: right;\">\n",
       "      <th></th>\n",
       "      <th>importance</th>\n",
       "    </tr>\n",
       "  </thead>\n",
       "  <tbody>\n",
       "    <tr>\n",
       "      <th>PAY_1</th>\n",
       "      <td>0.311000</td>\n",
       "    </tr>\n",
       "    <tr>\n",
       "      <th>PAY_2</th>\n",
       "      <td>0.200932</td>\n",
       "    </tr>\n",
       "    <tr>\n",
       "      <th>PAY_3</th>\n",
       "      <td>0.127104</td>\n",
       "    </tr>\n",
       "    <tr>\n",
       "      <th>PAY_4</th>\n",
       "      <td>0.095829</td>\n",
       "    </tr>\n",
       "    <tr>\n",
       "      <th>PAY_5</th>\n",
       "      <td>0.073308</td>\n",
       "    </tr>\n",
       "    <tr>\n",
       "      <th>PAY_6</th>\n",
       "      <td>0.046000</td>\n",
       "    </tr>\n",
       "    <tr>\n",
       "      <th>PAY_AMT1</th>\n",
       "      <td>0.031475</td>\n",
       "    </tr>\n",
       "    <tr>\n",
       "      <th>LIMIT_BAL</th>\n",
       "      <td>0.027117</td>\n",
       "    </tr>\n",
       "    <tr>\n",
       "      <th>PAY_AMT2</th>\n",
       "      <td>0.016051</td>\n",
       "    </tr>\n",
       "    <tr>\n",
       "      <th>PAY_AMT3</th>\n",
       "      <td>0.012677</td>\n",
       "    </tr>\n",
       "    <tr>\n",
       "      <th>PAY_AMT4</th>\n",
       "      <td>0.009439</td>\n",
       "    </tr>\n",
       "    <tr>\n",
       "      <th>BILL_AMT2</th>\n",
       "      <td>0.007808</td>\n",
       "    </tr>\n",
       "    <tr>\n",
       "      <th>BILL_AMT1</th>\n",
       "      <td>0.007709</td>\n",
       "    </tr>\n",
       "    <tr>\n",
       "      <th>PAY_AMT5</th>\n",
       "      <td>0.005752</td>\n",
       "    </tr>\n",
       "    <tr>\n",
       "      <th>PAY_AMT6</th>\n",
       "      <td>0.005497</td>\n",
       "    </tr>\n",
       "    <tr>\n",
       "      <th>BILL_AMT4</th>\n",
       "      <td>0.005391</td>\n",
       "    </tr>\n",
       "    <tr>\n",
       "      <th>BILL_AMT5</th>\n",
       "      <td>0.005288</td>\n",
       "    </tr>\n",
       "    <tr>\n",
       "      <th>BILL_AMT3</th>\n",
       "      <td>0.004228</td>\n",
       "    </tr>\n",
       "    <tr>\n",
       "      <th>BILL_AMT6</th>\n",
       "      <td>0.003006</td>\n",
       "    </tr>\n",
       "    <tr>\n",
       "      <th>AGE</th>\n",
       "      <td>0.001851</td>\n",
       "    </tr>\n",
       "    <tr>\n",
       "      <th>EDUCATION</th>\n",
       "      <td>0.001252</td>\n",
       "    </tr>\n",
       "    <tr>\n",
       "      <th>MARRIAGE</th>\n",
       "      <td>0.000935</td>\n",
       "    </tr>\n",
       "    <tr>\n",
       "      <th>GENDER</th>\n",
       "      <td>0.000350</td>\n",
       "    </tr>\n",
       "  </tbody>\n",
       "</table>\n",
       "</div>"
      ],
      "text/plain": [
       "           importance\n",
       "PAY_1        0.311000\n",
       "PAY_2        0.200932\n",
       "PAY_3        0.127104\n",
       "PAY_4        0.095829\n",
       "PAY_5        0.073308\n",
       "PAY_6        0.046000\n",
       "PAY_AMT1     0.031475\n",
       "LIMIT_BAL    0.027117\n",
       "PAY_AMT2     0.016051\n",
       "PAY_AMT3     0.012677\n",
       "PAY_AMT4     0.009439\n",
       "BILL_AMT2    0.007808\n",
       "BILL_AMT1    0.007709\n",
       "PAY_AMT5     0.005752\n",
       "PAY_AMT6     0.005497\n",
       "BILL_AMT4    0.005391\n",
       "BILL_AMT5    0.005288\n",
       "BILL_AMT3    0.004228\n",
       "BILL_AMT6    0.003006\n",
       "AGE          0.001851\n",
       "EDUCATION    0.001252\n",
       "MARRIAGE     0.000935\n",
       "GENDER       0.000350"
      ]
     },
     "execution_count": 32,
     "metadata": {},
     "output_type": "execute_result"
    }
   ],
   "source": [
    "## CODE TO DISPLAY RFC FEATURE IMPORTANCE\n",
    "# List feature importances from the Random Forest Classifier\n",
    "rfc_feature_importances = pd.DataFrame(biasedrfcmodel.feature_importances_, index = X_train.columns,\n",
    "                          columns=['importance']).sort_values('importance',ascending=False)\n",
    "rfc_feature_importances"
   ]
  },
  {
   "cell_type": "code",
   "execution_count": 33,
   "metadata": {},
   "outputs": [
    {
     "data": {
      "image/png": "[encoded data removed]",
      "text/plain": [
       "<Figure size 432x288 with 1 Axes>"
      ]
     },
     "metadata": {
      "needs_background": "light"
     },
     "output_type": "display_data"
    }
   ],
   "source": [
    "## THIS IS MY CODE TO DISPLAY RFC FEATURE IMPORTANCE\n",
    "# Display feature importances from the Random Forest Classifier\n",
    "feature_names = list(Taiwan_df.columns)\n",
    "\n",
    "importances = biasedrfcmodel.feature_importances_\n",
    "# Sort feature importances in descending order\n",
    "indices = np.argsort(importances)[::-1]\n",
    " \n",
    "# Rearrange feature names so they match the sorted feature importances\n",
    "names = [feature_names[i] for i in indices]\n",
    "\n",
    "# Barplot: Add bars\n",
    "plt.bar(range(X_train.shape[1]), importances[indices])\n",
    "# Add feature names as x-axis labels\n",
    "plt.xticks(range(X_train.shape[1]), names, rotation=90, fontsize = 8)\n",
    "# Create plot title\n",
    "plt.title(\"Biased RFC Feature Importance\")\n",
    "# Show plot\n",
    "plt.show()"
   ]
  },
  {
   "cell_type": "code",
   "execution_count": 34,
   "metadata": {},
   "outputs": [],
   "source": [
    "## THIS IS GARETH's CODE TO DISPLAY FEATURE IMPORTANCE\n",
    "# Check for the attribute with the most impact on a random forest classification\n",
    "def feature_importance(mod: Union[LogisticRegression,RandomForestClassifier],\n",
    "                       names: List[str],\n",
    "                       scale=None) -> pd.DataFrame:\n",
    "    \"\"\"Return feature importance for LR or RFC models in a sorted DataFrame.\"\"\"\n",
    "    if type(mod) == LogisticRegression:\n",
    "        imp = np.abs(mod.coef_.squeeze()) / scale\n",
    "        var = np.zeros(shape=imp.shape)\n",
    "    elif type(mod) == RandomForestClassifier:\n",
    "        imps = np.array([fi.feature_importances_ for fi in mod.estimators_])\n",
    "        imp = imps.mean(axis=0)\n",
    "        var = imps.std(axis=0)\n",
    "\n",
    "    return pd.DataFrame({'feature': names,'importance': imp,\n",
    "                         'std': var}).sort_values('importance',ascending=False)\n",
    "def plot_feature_importance(**kwargs) -> None:\n",
    "    ax = sns.barplot(**kwargs)\n",
    "    for l in ax.get_xticklabels():\n",
    "        l.set_rotation(90)"
   ]
  },
  {
   "cell_type": "code",
   "execution_count": 35,
   "metadata": {
    "scrolled": true
   },
   "outputs": [
    {
     "data": {
      "image/png": "[encoded data removed]",
      "text/plain": [
       "<Figure size 1152x432 with 2 Axes>"
      ]
     },
     "metadata": {
      "needs_background": "light"
     },
     "output_type": "display_data"
    }
   ],
   "source": [
    "## THIS IS GARETH's CODE TO DISPLAY FEATURE IMPORTANCE\n",
    "## THE RFC CHART (bottom right) DIFFERS FROM MINE IN CELL 22 & 23\n",
    "fig, ax = plt.subplots(nrows=1, \n",
    "                       ncols=2,\n",
    "                       figsize=(16, 6))\n",
    "\n",
    "plot_feature_importance(x='feature', \n",
    "                        y='importance', \n",
    "                        data=feature_importance(biasedlogmodel,\n",
    "                                                names=X_train.columns.tolist(),\n",
    "                                                scale=X_train.std()),\n",
    "                       ax=ax[0])\n",
    "_ = ax[0].set_title('LR Feature Importance - before Mitigating')\n",
    "plot_feature_importance(x='feature', \n",
    "                        y='importance', \n",
    "                        data=feature_importance(biasedrfcmodel,\n",
    "                                                names=X_train.columns.tolist()),\n",
    "                       ax=ax[1])\n",
    "_ = ax[1].set_title('RFC Feature Importance - before Mitigating')"
   ]
  },
  {
   "cell_type": "code",
   "execution_count": 36,
   "metadata": {},
   "outputs": [],
   "source": [
    "#Taiwan_df.equals(Taiwan_pp)"
   ]
  }
 ],
 "metadata": {
  "kernelspec": {
   "display_name": "Python 3",
   "language": "python",
   "name": "python3"
  },
  "language_info": {
   "codemirror_mode": {
    "name": "ipython",
    "version": 3
   },
   "file_extension": ".py",
   "mimetype": "text/x-python",
   "name": "python",
   "nbconvert_exporter": "python",
   "pygments_lexer": "ipython3",
   "version": "3.7.3"
  }
 },
 "nbformat": 4,
 "nbformat_minor": 2
}
