{
 "cells": [
  {
   "cell_type": "code",
   "execution_count": 1,
   "metadata": {},
   "outputs": [
    {
     "data": {
      "text/plain": [
       "891"
      ]
     },
     "execution_count": 1,
     "metadata": {},
     "output_type": "execute_result"
    }
   ],
   "source": [
    "from typing import List, Union, Dict\n",
    "%matplotlib inline\n",
    "# Data handling/display\n",
    "import pandas as pd\n",
    "import numpy as np\n",
    "import seaborn as sns\n",
    "import matplotlib.pyplot as plt\n",
    "from IPython.display import display\n",
    "from sklearn.metrics import auc, roc_auc_score, roc_curve\n",
    "\n",
    "# IBM's fairness tooolbox:\n",
    "from aif360.datasets import BinaryLabelDataset  # To handle the data\n",
    "from aif360.metrics import BinaryLabelDatasetMetric, ClassificationMetric  # For calculating metrics\n",
    "from aif360.explainers import MetricTextExplainer  # For explaining metrics\n",
    "from aif360.algorithms.preprocessing import Reweighing  # Preprocessing technique\n",
    "import warnings\n",
    "warnings.filterwarnings(\"ignore\", category=FutureWarning)\n",
    "sns.set()\n",
    "sns.set_context(\"talk\")\n",
    "\n",
    "train = pd.read_csv(\"./input/bftrain.csv\")                             # read input file\n",
    "def add_age(cols):                                                     # replace missing age vals \n",
    "    Age = cols[0]                                                      # with ave age for pclass\n",
    "    Pclass = cols[1]\n",
    "    if pd.isnull(Age):\n",
    "        return int(train[train[\"Pclass\"] == Pclass][\"Age\"].mean())\n",
    "    else:\n",
    "        return Age\n",
    "train[\"Age\"] = train[[\"Age\", \"Pclass\"]].apply(add_age,axis=1)\n",
    "\n",
    "gender = {'male': 0,'female': 1} \n",
    "train.Sex = [gender[item] for item in train.Sex] \n",
    "\n",
    "# sex = pd.get_dummies(train[\"Sex\"],drop_first=False)                   # Make \n",
    "embarked = pd.get_dummies(train[\"Embarked\"],drop_first=False)           # One hot encoding\n",
    "pclass = pd.get_dummies(train[\"Pclass\"],drop_first=False)               # One hot encoding\n",
    "train = pd.concat([train,pclass,embarked],axis=1)                       # Add to train dataset\n",
    "train.drop([\"PassengerId\",\"Pclass\",\"Name\",\"Ticket\",\"Cabin\",\"Embarked\"],axis=1,inplace=True)\n",
    "\n",
    "train.dropna(inplace=True)                                              # Drop rows with nulls\n",
    "train.Sex.count()"
   ]
  },
  {
   "cell_type": "code",
   "execution_count": 2,
   "metadata": {},
   "outputs": [],
   "source": [
    "X = train.drop(\"Survived\",axis=1)\n",
    "y = train[\"Survived\"]\n",
    "from sklearn.model_selection import train_test_split\n",
    "#from sklearn.cross_validation import train_test_split\n",
    "X_train, X_test, y_train, y_test = train_test_split(X, y, test_size = 0.3, random_state = 101)"
   ]
  },
  {
   "cell_type": "code",
   "execution_count": 3,
   "metadata": {},
   "outputs": [
    {
     "name": "stdout",
     "output_type": "stream",
     "text": [
      "              precision    recall  f1-score   support\n",
      "\n",
      "           0       0.78      0.88      0.83       154\n",
      "           1       0.81      0.67      0.73       114\n",
      "\n",
      "    accuracy                           0.79       268\n",
      "   macro avg       0.80      0.77      0.78       268\n",
      "weighted avg       0.79      0.79      0.79       268\n",
      "\n"
     ]
    },
    {
     "data": {
      "text/plain": [
       "array([[136,  18],\n",
       "       [ 38,  76]], dtype=int64)"
      ]
     },
     "execution_count": 3,
     "metadata": {},
     "output_type": "execute_result"
    }
   ],
   "source": [
    "from sklearn.linear_model import LogisticRegression\n",
    "logmodel = LogisticRegression()\n",
    "logmodel.fit(X_train,y_train)\n",
    "predictions = logmodel.predict(X_test)\n",
    "from sklearn.metrics import classification_report\n",
    "print(classification_report(y_test, predictions))\n",
    "from sklearn.metrics import confusion_matrix\n",
    "confusion_matrix(y_test, predictions)"
   ]
  },
  {
   "cell_type": "code",
   "execution_count": 4,
   "metadata": {},
   "outputs": [],
   "source": [
    "train_pp_bld = BinaryLabelDataset(df=pd.concat((X_train, y_train),\n",
    "                                               axis=1),\n",
    "                                  label_names=['Survived'],\n",
    "                                  protected_attribute_names=['Sex'],\n",
    "                                  favorable_label=1,\n",
    "                                  unfavorable_label=0)\n",
    "\n",
    "privileged_groups = [{'Sex': 1}]\n",
    "unprivileged_groups = [{'Sex': 0}]"
   ]
  },
  {
   "cell_type": "code",
   "execution_count": 5,
   "metadata": {},
   "outputs": [],
   "source": [
    "class MetricAdditions:\n",
    "    def explain(self,\n",
    "                disp: bool=True) -> Union[None, str]:\n",
    "        \"\"\"Explain everything available for the given metric.\"\"\"\n",
    "\n",
    "        # Find intersecting methods/attributes between MetricTextExplainer and provided metric.\n",
    "        inter = set(dir(self)).intersection(set(dir(self.metric)))\n",
    "\n",
    "        # Ignore private and dunder methods\n",
    "        metric_methods = [getattr(self, c) for c in inter if c.startswith('_') < 1]\n",
    "\n",
    "        # Call methods, join to new lines\n",
    "        s = \"\\n\".join([f() for f in metric_methods if callable(f)])\n",
    "\n",
    "        if disp:\n",
    "            print(s)\n",
    "        else:\n",
    "            return s  \n",
    "        \n",
    "class MetricTextExplainer_(MetricTextExplainer, MetricAdditions):\n",
    "    \"\"\"Combine explainer and .explain.\"\"\"\n",
    "    pass"
   ]
  },
  {
   "cell_type": "code",
   "execution_count": 6,
   "metadata": {},
   "outputs": [
    {
     "name": "stdout",
     "output_type": "stream",
     "text": [
      "Base Rate       : 0.36597110754414125\n",
      "Consistency     : [0.72712681]\n",
      "Disparate Impact: 0.23038366336633667\n",
      "Mean Difference : -0.5622767756227677\n",
      "# of negatives(privileged)    : 59.0\n",
      "# of negatives(non-privileged): 336.0\n",
      "# of positives(privileged)    : 160.0\n",
      "# of positives(non-privileged): 68.0\n",
      "Statistical Parity Diference  : -0.5622767756227677\n",
      "\n",
      "This is the explainer\n",
      "Mean difference (mean label value on privileged instances - mean label value on unprivileged instances): -0.5622767756227677\n",
      "Statistical parity difference (probability of favorable outcome for unprivileged instances - probability of favorable outcome for privileged instances): -0.5622767756227677\n",
      "Disparate impact (probability of favorable outcome for unprivileged instances / probability of favorable outcome for privileged instances): 0.23038366336633667\n",
      "Number of positive-outcome instances: 228.0\n",
      "Number of negative-outcome instances: 395.0\n",
      "Number of instances: 623.0\n",
      "Consistency (Zemel, et al. 2013): [0.72712681]\n"
     ]
    }
   ],
   "source": [
    "# Create the metric object\n",
    "metric_train_bld = BinaryLabelDatasetMetric(train_pp_bld,\n",
    "                                            unprivileged_groups=unprivileged_groups,\n",
    "                                            privileged_groups=privileged_groups)\n",
    "print(\"Base Rate       :\", metric_train_bld.base_rate())\n",
    "print(\"Consistency     :\", metric_train_bld.consistency())\n",
    "print(\"Disparate Impact:\", metric_train_bld.disparate_impact())\n",
    "print(\"Mean Difference :\", metric_train_bld.mean_difference())\n",
    "print(\"# of negatives(privileged)    :\", metric_train_bld.num_negatives(privileged=True))\n",
    "print(\"# of negatives(non-privileged):\", metric_train_bld.num_negatives(privileged=False))\n",
    "print(\"# of positives(privileged)    :\", metric_train_bld.num_positives(privileged=True))\n",
    "print(\"# of positives(non-privileged):\", metric_train_bld.num_positives(privileged=False))\n",
    "print(\"Statistical Parity Diference  :\", metric_train_bld.statistical_parity_difference()) \n",
    "print(\"\")\n",
    "print(\"This is the explainer\")\n",
    "# Create the explainer object\n",
    "explainer = MetricTextExplainer_(metric_train_bld)\n",
    "# Explain relevant metrics\n",
    "explainer.explain()"
   ]
  }
 ],
 "metadata": {
  "kernelspec": {
   "display_name": "Python 3",
   "language": "python",
   "name": "python3"
  },
  "language_info": {
   "codemirror_mode": {
    "name": "ipython",
    "version": 3
   },
   "file_extension": ".py",
   "mimetype": "text/x-python",
   "name": "python",
   "nbconvert_exporter": "python",
   "pygments_lexer": "ipython3",
   "version": "3.7.3"
  }
 },
 "nbformat": 4,
 "nbformat_minor": 2
}
