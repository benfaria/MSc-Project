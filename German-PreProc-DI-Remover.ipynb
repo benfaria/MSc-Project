{
 "cells": [
  {
   "cell_type": "code",
   "execution_count": 1,
   "metadata": {},
   "outputs": [],
   "source": [
    "# Import Data handling/display libraries\n",
    "import pandas  as pd\n",
    "import numpy   as np\n",
    "import seaborn as sns\n",
    "sns.set()\n",
    "sns.set_context(\"talk\")\n",
    "import matplotlib.pyplot as plt\n",
    "from IPython.display import display\n",
    "from typing import List, Union, Dict\n",
    "# Import scikit-learn core slibraries\n",
    "from sklearn.metrics         import auc, roc_auc_score, roc_curve\n",
    "from sklearn.metrics         import classification_report, confusion_matrix\n",
    "from sklearn.linear_model    import LogisticRegression\n",
    "from sklearn.ensemble        import RandomForestClassifier\n",
    "from sklearn.preprocessing   import MinMaxScaler\n",
    "from sklearn.metrics         import balanced_accuracy_score\n",
    "from sklearn.model_selection import train_test_split\n",
    "from collections             import Counter\n",
    "from IPython.display         import Markdown, display\n",
    "# Import IBM's AI Fairness tooolbox\n",
    "from aif360.datasets   import BinaryLabelDataset  # To handle the data\n",
    "from aif360.metrics    import BinaryLabelDatasetMetric, ClassificationMetric, DatasetMetric  # For calculating metrics\n",
    "from aif360.explainers import MetricTextExplainer  # For explaining metrics\n",
    "from aif360.algorithms import Transformer\n",
    "from aif360.algorithms.preprocessing import DisparateImpactRemover # Preprocessing technique\n",
    "# Warnings will be used to silence various model warnings for tidier output\n",
    "import warnings\n",
    "warnings.filterwarnings('ignore')"
   ]
  },
  {
   "cell_type": "code",
   "execution_count": 2,
   "metadata": {},
   "outputs": [],
   "source": [
    "# Read the cleaned German dataset\n",
    "German_df = pd.read_csv('./input/German-Cleaned.csv')"
   ]
  },
  {
   "cell_type": "code",
   "execution_count": 3,
   "metadata": {},
   "outputs": [],
   "source": [
    "# Set privileged (1)/ unprivileged (0)/ favourable (1) / unfavourable values (0)\n",
    "protected_attr      = 'Gender'\n",
    "priv_grp            = 1  # Males \n",
    "unpriv_grp          = 0  # Females  \n",
    "lab                 = 'CreditStatus'\n",
    "fav_label           = 1 # Good Credit status\n",
    "unfav_label         = 0 # Bad Credit Status\n",
    "privileged_groups   = [{protected_attr: priv_grp}]   # Males\n",
    "unprivileged_groups = [{protected_attr: unpriv_grp}] # Females"
   ]
  },
  {
   "cell_type": "code",
   "execution_count": 4,
   "metadata": {},
   "outputs": [],
   "source": [
    "# Create a Binary Label Dataset to use with AIF360 APIs\n",
    "X = German_df.drop(lab,axis=1)\n",
    "y = German_df[lab]"
   ]
  },
  {
   "cell_type": "code",
   "execution_count": 5,
   "metadata": {},
   "outputs": [],
   "source": [
    "German_bld = BinaryLabelDataset(df=pd.concat((X, y), axis=1),\n",
    "                                label_names=[lab], protected_attribute_names=[protected_attr],\n",
    "                                favorable_label=fav_label, unfavorable_label=unfav_label)"
   ]
  },
  {
   "cell_type": "code",
   "execution_count": 6,
   "metadata": {},
   "outputs": [],
   "source": [
    "# Create train and test datasets\n",
    "German_train_bld, German_test_bld = German_bld.split([0.8], shuffle=True, seed=101)"
   ]
  },
  {
   "cell_type": "code",
   "execution_count": 7,
   "metadata": {},
   "outputs": [],
   "source": [
    "scaler = MinMaxScaler(copy=False)\n",
    "German_train_bld.features = scaler.fit_transform(German_train_bld.features)\n",
    "German_test_bld.features  = scaler.fit_transform(German_test_bld.features)"
   ]
  },
  {
   "cell_type": "code",
   "execution_count": 8,
   "metadata": {},
   "outputs": [],
   "source": [
    "German_train_df, d = German_train_bld.convert_to_dataframe(de_dummy_code=False, sep='=', set_category=False)\n",
    "German_test_df,  d = German_test_bld.convert_to_dataframe(de_dummy_code=False, sep='=', set_category=False)"
   ]
  },
  {
   "cell_type": "code",
   "execution_count": 9,
   "metadata": {},
   "outputs": [
    {
     "name": "stdout",
     "output_type": "stream",
     "text": [
      "Model Accuracy for predicting the Sensitive Variable before bias transformation:\n",
      "Biased Logistic regression validation accuracy: 0.735\n",
      "Biased Random Forest       validation accuracy: 0.71\n",
      "\n",
      "Biased Balanced accuracy\n",
      "Biased Logistic regression balanced accuracy  : 0.6202380952380953\n",
      "Biased Random Forest       balanced accuracy  : 0.5595238095238095\n"
     ]
    }
   ],
   "source": [
    "# First test whether it is possible to predict the Sensitive Variable from the whole original dataset\n",
    "X_se_train = German_train_df.drop(protected_attr,axis=1)\n",
    "y_se_train = German_train_df[protected_attr]\n",
    "X_se_test  = German_test_df.drop(protected_attr,axis=1)\n",
    "y_se_test  = German_test_df[protected_attr]\n",
    "\n",
    "Se_BiasedLogModel = LogisticRegression(random_state=101)\n",
    "Se_BiasedRfcModel = RandomForestClassifier(n_estimators=100,max_depth=4,random_state=101)\n",
    "Se_BiasedLogModel.fit(X_se_train, y_se_train) \n",
    "Se_BiasedRfcModel.fit(X_se_train, y_se_train) \n",
    "yseLog_pred =  Se_BiasedLogModel.predict(X_se_test)\n",
    "yseRfc_pred =  Se_BiasedRfcModel.predict(X_se_test)\n",
    "# Now test whether we can predict Gender from the test dataset\n",
    "print('Model Accuracy for predicting the Sensitive Variable before bias transformation:')\n",
    "print(f\"Biased Logistic regression validation accuracy: {Se_BiasedLogModel.score(X_se_test, y_se_test)}\")\n",
    "print(f\"Biased Random Forest       validation accuracy: {Se_BiasedRfcModel.score(X_se_test, y_se_test)}\")\n",
    "print('')\n",
    "print('Biased Balanced accuracy')\n",
    "print(f\"Biased Logistic regression balanced accuracy  : {balanced_accuracy_score(y_se_test, yseLog_pred)}\")\n",
    "print(f\"Biased Random Forest       balanced accuracy  : {balanced_accuracy_score(y_se_test, yseRfc_pred)}\")"
   ]
  },
  {
   "cell_type": "code",
   "execution_count": 10,
   "metadata": {},
   "outputs": [
    {
     "name": "stdout",
     "output_type": "stream",
     "text": [
      "Training Before - CreditStatus value counts:\n",
      "1.0    553\n",
      "0.0    247\n",
      "Name: CreditStatus, dtype: int64\n",
      "Training Before - Gender value counts:\n",
      "1.0    550\n",
      "0.0    250\n",
      "Name: Gender, dtype: int64\n"
     ]
    }
   ],
   "source": [
    "# Next get the number of labels from the modified training dataset\n",
    "print('Training Before - CreditStatus value counts:')\n",
    "print(German_train_df.CreditStatus.value_counts())\n",
    "print('Training Before - Gender value counts:')\n",
    "print(German_train_df.Gender.value_counts())"
   ]
  },
  {
   "cell_type": "code",
   "execution_count": 11,
   "metadata": {},
   "outputs": [
    {
     "name": "stdout",
     "output_type": "stream",
     "text": [
      "Biased Logistic regression validation accuracy: 0.72\n",
      "Biased Random Forest       validation accuracy: 0.76\n",
      "\n",
      "Biased Logistic regression balanced accuracy  : 0.5742523424464125\n",
      "Biased Random forest balanced accuracy        : 0.5592350147606212\n"
     ]
    }
   ],
   "source": [
    "# Determine the baseline model accuracy for Logistic Regression and Random Forest Classifiers\n",
    "X_train = German_train_df.drop(lab,axis=1)\n",
    "y_train = German_train_df[lab]\n",
    "X_test  = German_test_df.drop(lab,axis=1)\n",
    "y_test  = German_test_df[lab]\n",
    "\n",
    "BiasedLogModel = LogisticRegression(random_state=101)\n",
    "BiasedRfcModel = RandomForestClassifier(n_estimators=100,max_depth=4,random_state=101)\n",
    "\n",
    "BiasedLogModel.fit(X_train, y_train) \n",
    "BiasedRfcModel.fit(X_train, y_train)\n",
    "\n",
    "BiasedLogPredictions = BiasedLogModel.predict(X_test)\n",
    "BiasedRfcPredictions = BiasedRfcModel.predict(X_test)\n",
    "print(f\"Biased Logistic regression validation accuracy: {BiasedLogModel.score(X_test, y_test)}\")\n",
    "print(f\"Biased Random Forest       validation accuracy: {BiasedRfcModel.score(X_test, y_test)}\")\n",
    "print('')\n",
    "print(f\"Biased Logistic regression balanced accuracy  : {balanced_accuracy_score(y_test, BiasedLogPredictions)}\")\n",
    "print(f\"Biased Random forest balanced accuracy        : {balanced_accuracy_score(y_test, BiasedRfcPredictions)}\")"
   ]
  },
  {
   "cell_type": "code",
   "execution_count": 12,
   "metadata": {},
   "outputs": [
    {
     "data": {
      "text/markdown": [
       "#### Biased training dataset"
      ],
      "text/plain": [
       "<IPython.core.display.Markdown object>"
      ]
     },
     "metadata": {},
     "output_type": "display_data"
    },
    {
     "name": "stdout",
     "output_type": "stream",
     "text": [
      "Number of instances           : 800.0\n",
      "Base Rate                     :0.691250\n",
      "Consistency                   : [0.7055]\n",
      "Disparate Impact              : 0.8722222222222222\n",
      "Mean Difference               : -0.09199999999999997\n",
      "Statistical Parity Difference : -0.09199999999999997\n",
      "# of positives(privileged)    : 396.0\n",
      "# of positives(non-privileged): 157.0\n",
      "Total positive instances\"     : 553.0\n",
      "# of negatives(privileged)    : 154.0\n",
      "# of negatives(non-privileged): 93.0\n",
      "Total negative instances\"     : 247.0\n"
     ]
    },
    {
     "data": {
      "text/markdown": [
       "#### Biased training dataset"
      ],
      "text/plain": [
       "<IPython.core.display.Markdown object>"
      ]
     },
     "metadata": {},
     "output_type": "display_data"
    },
    {
     "name": "stdout",
     "output_type": "stream",
     "text": [
      "Difference in mean outcomes between unprivileged and privileged groups = -0.092000\n"
     ]
    }
   ],
   "source": [
    "# Create the binary label dataset metric class for the training dataset\n",
    "metric_train_bld = BinaryLabelDatasetMetric(German_train_bld, \n",
    "                                            unprivileged_groups=unprivileged_groups,\n",
    "                                            privileged_groups=privileged_groups)\n",
    "display(Markdown(\"#### Biased training dataset\"))\n",
    "print('Number of instances           :', metric_train_bld.num_instances())\n",
    "print(\"Base Rate                     :%f\" % metric_train_bld.base_rate())\n",
    "print('Consistency                   :', metric_train_bld.consistency())\n",
    "print('Disparate Impact              :', metric_train_bld.disparate_impact())\n",
    "print('Mean Difference               :', metric_train_bld.mean_difference())\n",
    "print('Statistical Parity Difference :', metric_train_bld.statistical_parity_difference()) \n",
    "print('# of positives(privileged)    :', metric_train_bld.num_positives(privileged=True))\n",
    "print('# of positives(non-privileged):', metric_train_bld.num_positives(privileged=False))\n",
    "print('Total positive instances\"     :', metric_train_bld.num_positives(privileged=True)+metric_train_bld.num_positives(privileged=False))\n",
    "print('# of negatives(privileged)    :', metric_train_bld.num_negatives(privileged=True))\n",
    "print('# of negatives(non-privileged):', metric_train_bld.num_negatives(privileged=False))\n",
    "print('Total negative instances\"     :', metric_train_bld.num_negatives(privileged=True)+metric_train_bld.num_negatives(privileged=False))\n",
    "display(Markdown(\"#### Biased training dataset\"))\n",
    "print(\"Difference in mean outcomes between unprivileged and privileged groups = %f\" % metric_train_bld.mean_difference())"
   ]
  },
  {
   "cell_type": "code",
   "execution_count": 13,
   "metadata": {},
   "outputs": [
    {
     "name": "stderr",
     "output_type": "stream",
     "text": [
      "100%|██████████████████████████████████████████████████████████████████████████████████████████████████████████████████████████| 11/11 [00:02<00:00,  4.78it/s]\n"
     ]
    }
   ],
   "source": [
    "from tqdm import tqdm\n",
    "index = German_train_bld.feature_names.index(protected_attr)\n",
    "DIs = []\n",
    "for level in tqdm(np.linspace(0., 1., 11)):\n",
    "    di = DisparateImpactRemover(repair_level=level)\n",
    "    train_repd = di.fit_transform(German_train_bld)\n",
    "    test_repd = di.fit_transform(German_test_bld)\n",
    "    \n",
    "    X_tr = np.delete(train_repd.features, index, axis=1)\n",
    "    X_te = np.delete(test_repd.features, index, axis=1)\n",
    "    y_tr = train_repd.labels.ravel()\n",
    "    \n",
    "    lmod = LogisticRegression(class_weight='balanced', solver='liblinear', random_state=101)\n",
    "    lmod.fit(X_tr, y_tr)\n",
    "    \n",
    "    test_repd_pred = test_repd.copy()\n",
    "    test_repd_pred.labels = lmod.predict(X_te)\n",
    "    cm = BinaryLabelDatasetMetric(test_repd_pred, privileged_groups=privileged_groups, unprivileged_groups=unprivileged_groups)\n",
    "    DIs.append(cm.disparate_impact())"
   ]
  },
  {
   "cell_type": "code",
   "execution_count": 14,
   "metadata": {},
   "outputs": [
    {
     "data": {
      "image/png": "[encoded data removed]",
      "text/plain": [
       "<Figure size 432x288 with 1 Axes>"
      ]
     },
     "metadata": {
      "needs_background": "light"
     },
     "output_type": "display_data"
    }
   ],
   "source": [
    "%matplotlib inline\n",
    "plt.plot(np.linspace(0, 1, 11), DIs, marker='o')\n",
    "plt.plot([0, 1], [1, 1], 'g')\n",
    "plt.plot([0, 1], [0.8, 0.8], 'r')\n",
    "plt.ylim([0.4, 1.2])\n",
    "plt.ylabel('Disparate Impact (DI)')\n",
    "plt.xlabel('repair level')\n",
    "plt.show()"
   ]
  },
  {
   "cell_type": "code",
   "execution_count": 15,
   "metadata": {},
   "outputs": [],
   "source": [
    "# Where the plot meets the 0.8 (threshold) line is where we target, eg level = 0.5\n",
    "# Therefore set up an instance of the disparate remover object using this repair level\n",
    "di = DisparateImpactRemover(repair_level=0.5)\n",
    "German_di_train_bld = di.fit_transform(German_train_bld)\n",
    "German_di_test_bld  = di.fit_transform(German_test_bld)"
   ]
  },
  {
   "cell_type": "code",
   "execution_count": 16,
   "metadata": {},
   "outputs": [
    {
     "name": "stdout",
     "output_type": "stream",
     "text": [
      "Model Accuracy after DI removed:\n",
      "Unbiased Logistic regression validation accuracy: 0.66\n",
      "Unbiased Random Forest       validation accuracy: 0.74\n",
      "\n",
      "Biased Balanced accuracy\n",
      "Unbiased Logistic regression balanced accuracy  : 0.6842510589141317\n",
      "Unbiased Random Forest       balanced accuracy  : 0.5395969708638172\n"
     ]
    }
   ],
   "source": [
    "# Train Logistic and Random Forest classifiers with the transformed dataset.\n",
    "X_di_train = np.delete(German_di_train_bld.features,index, axis=1) # Drop Gender! This is what the AIF360 example does\n",
    "X_di_test  = np.delete(German_di_test_bld.features, index, axis=1) # thus we cannot compare before and after feature \n",
    "y_di_train = German_di_train_bld.labels.ravel()                    # importance, and binary label dataset metrics because\n",
    "y_di_test  = German_di_test_bld.labels.ravel()                     # the sensitive attr has been dropped. Doh!\n",
    "\n",
    "Di_LogModel= LogisticRegression(class_weight='balanced', solver='liblinear', random_state=101)\n",
    "Di_RfcModel= RandomForestClassifier(n_estimators=100,max_depth=4,random_state=101)\n",
    "\n",
    "Di_LogModel.fit(X_di_train, y_train)\n",
    "Di_RfcModel.fit(X_di_train, y_train)\n",
    "\n",
    "Di_train_LogPredictions= Di_LogModel.predict(X_di_train) \n",
    "Di_train_RfcPredictions= Di_RfcModel.predict(X_di_train)\n",
    "Di_test_LogPredictions = Di_LogModel.predict(X_di_test) \n",
    "Di_test_RfcPredictions = Di_RfcModel.predict(X_di_test)\n",
    "\n",
    "# Now test whether we can predict Gender from the test dataset\n",
    "print('Model Accuracy after DI removed:')\n",
    "print(f\"Unbiased Logistic regression validation accuracy: {Di_LogModel.score(X_di_test, y_di_test)}\")\n",
    "print(f\"Unbiased Random Forest       validation accuracy: {Di_RfcModel.score(X_di_test, y_di_test)}\")\n",
    "print('')\n",
    "print('Biased Balanced accuracy')\n",
    "print(f\"Unbiased Logistic regression balanced accuracy  : {balanced_accuracy_score(y_test, Di_test_LogPredictions)}\")\n",
    "print(f\"Unbiased Random Forest       balanced accuracy  : {balanced_accuracy_score(y_test, Di_test_RfcPredictions)}\")"
   ]
  },
  {
   "cell_type": "code",
   "execution_count": 17,
   "metadata": {},
   "outputs": [
    {
     "data": {
      "text/markdown": [
       "#### Biased training dataset"
      ],
      "text/plain": [
       "<IPython.core.display.Markdown object>"
      ]
     },
     "metadata": {},
     "output_type": "display_data"
    },
    {
     "name": "stdout",
     "output_type": "stream",
     "text": [
      "Number of instances           : 200.0\n",
      "Base Rate                     :0.535000\n",
      "Consistency                   : 0.7599999999999999\n",
      "Disparate Impact              : 0.8270042194092827\n",
      "Mean Difference               : -0.0976190476190476\n",
      "Statistical Parity Difference : -0.0976190476190476\n",
      "# of positives(privileged)    : 79.0\n",
      "# of positives(non-privileged): 28.0\n",
      "Total positive instances\"     : 107.0\n",
      "# of negatives(privileged)    : 61.0\n",
      "# of negatives(non-privileged): 32.0\n",
      "Total negative instances\"     : 93.0\n"
     ]
    },
    {
     "data": {
      "text/markdown": [
       "#### Biased training dataset"
      ],
      "text/plain": [
       "<IPython.core.display.Markdown object>"
      ]
     },
     "metadata": {},
     "output_type": "display_data"
    },
    {
     "name": "stdout",
     "output_type": "stream",
     "text": [
      "Difference in mean outcomes between unprivileged and privileged groups = -0.097619\n"
     ]
    }
   ],
   "source": [
    "German_di_test_bld_cpy        = German_di_test_bld.copy()\n",
    "German_di_test_bld_cpy.labels = Di_test_LogPredictions\n",
    "\n",
    "German_di_train_bld_cpy       = German_di_train_bld.copy()\n",
    "German_di_train_bld_cpy.labels= Di_train_LogPredictions\n",
    "\n",
    "metric_train_bld = BinaryLabelDatasetMetric(German_di_test_bld_cpy, \n",
    "                                            unprivileged_groups=unprivileged_groups,\n",
    "                                            privileged_groups=privileged_groups)\n",
    "display(Markdown(\"#### Biased training dataset\"))\n",
    "print('Number of instances           :', metric_train_bld.num_instances())\n",
    "print(\"Base Rate                     :%f\" % metric_train_bld.base_rate())\n",
    "print('Consistency                   :', metric_train_bld.consistency())\n",
    "print('Disparate Impact              :', metric_train_bld.disparate_impact())\n",
    "print('Mean Difference               :', metric_train_bld.mean_difference())\n",
    "print('Statistical Parity Difference :', metric_train_bld.statistical_parity_difference()) \n",
    "print('# of positives(privileged)    :', metric_train_bld.num_positives(privileged=True))\n",
    "print('# of positives(non-privileged):', metric_train_bld.num_positives(privileged=False))\n",
    "print('Total positive instances\"     :', metric_train_bld.num_positives(privileged=True)+metric_train_bld.num_positives(privileged=False))\n",
    "print('# of negatives(privileged)    :', metric_train_bld.num_negatives(privileged=True))\n",
    "print('# of negatives(non-privileged):', metric_train_bld.num_negatives(privileged=False))\n",
    "print('Total negative instances\"     :', metric_train_bld.num_negatives(privileged=True)+metric_train_bld.num_negatives(privileged=False))\n",
    "display(Markdown(\"#### Biased training dataset\"))\n",
    "print(\"Difference in mean outcomes between unprivileged and privileged groups = %f\" % metric_train_bld.mean_difference())"
   ]
  },
  {
   "cell_type": "code",
   "execution_count": 18,
   "metadata": {},
   "outputs": [],
   "source": [
    "German_di_train_df,d = German_di_train_bld.convert_to_dataframe(de_dummy_code=False, sep='=', set_category=False)\n",
    "German_di_test_df, d = German_di_test_bld.convert_to_dataframe(de_dummy_code=False, sep='=', set_category=False)"
   ]
  },
  {
   "cell_type": "code",
   "execution_count": 19,
   "metadata": {
    "scrolled": true
   },
   "outputs": [
    {
     "name": "stdout",
     "output_type": "stream",
     "text": [
      "                  German_train_df  German_di_train_df\n",
      "0   NumMonths            0.294118            0.264706\n",
      "    CreditAmount         0.059591            0.054969\n",
      "1   NumMonths            0.205882            0.176471\n",
      "    CreditAmount         0.124629            0.109552\n",
      "2   NumMonths            0.147059            0.132353\n",
      "    CreditAmount         0.063827            0.059481\n",
      "4   NumMonths            0.602941            0.529412\n",
      "    CreditAmount         0.153021            0.138109\n",
      "5   NumMonths            0.294118            0.264706\n",
      "    CreditAmount         0.141851            0.127985\n",
      "6   NumMonths            0.117647            0.102941\n",
      "    CreditAmount         0.025696            0.023330\n",
      "7   CreditAmount         0.245736            0.213987\n",
      "9   NumMonths            0.294118            0.264706\n",
      "    CreditAmount         0.107131            0.093540\n",
      "10  NumMonths            0.205882            0.176471\n",
      "    CreditAmount         0.194234            0.179817\n",
      "11  NumMonths            0.205882            0.176471\n",
      "    CreditAmount         0.119787            0.106251\n",
      "12  NumMonths            0.250000            0.235294\n",
      "    CreditAmount         0.160119            0.143832\n",
      "17  NumMonths            0.250000            0.235294\n",
      "    CreditAmount         0.137284            0.118631\n",
      "18  NumMonths            0.205882            0.176471\n",
      "    CreditAmount         0.309013            0.252724\n",
      "19  NumMonths            0.294118            0.264706\n",
      "    CreditAmount         0.041213            0.037471\n",
      "20  NumMonths            0.647059            0.602941\n",
      "    CreditAmount         0.848575            0.805877\n",
      "21  NumMonths            0.117647            0.102941\n",
      "...                           ...                 ...\n",
      "772 CreditAmount         0.052438            0.048036\n",
      "773 NumMonths            0.294118            0.264706\n",
      "    CreditAmount         0.416199            0.404204\n",
      "775 NumMonths            0.205882            0.176471\n",
      "    CreditAmount         0.109992            0.095411\n",
      "776 NumMonths            0.294118            0.264706\n",
      "    CreditAmount         0.114614            0.101794\n",
      "781 NumMonths            0.647059            0.602941\n",
      "    CreditAmount         0.548696            0.497029\n",
      "782 NumMonths            0.117647            0.102941\n",
      "    CreditAmount         0.061737            0.057280\n",
      "783 NumMonths            0.117647            0.102941\n",
      "    CreditAmount         0.104050            0.092275\n",
      "784 NumMonths            0.470588            0.426471\n",
      "    CreditAmount         0.141411            0.127985\n",
      "785 NumMonths            0.250000            0.235294\n",
      "    CreditAmount         0.115715            0.101794\n",
      "786 CreditAmount         0.009684            0.007428\n",
      "787 NumMonths            0.294118            0.264706\n",
      "    CreditAmount         0.243700            0.212556\n",
      "788 CreditAmount         0.183064            0.166447\n",
      "789 CreditAmount         0.044019            0.037746\n",
      "792 NumMonths            0.205882            0.176471\n",
      "    CreditAmount         0.065588            0.060966\n",
      "793 NumMonths            0.117647            0.102941\n",
      "    CreditAmount         0.083526            0.070870\n",
      "795 NumMonths            0.294118            0.264706\n",
      "    CreditAmount         0.238858            0.204853\n",
      "796 NumMonths            0.294118            0.264706\n",
      "    CreditAmount         0.160174            0.145373\n",
      "\n",
      "[1000 rows x 2 columns]\n"
     ]
    }
   ],
   "source": [
    "# Let's take a look at the differences between the original dataset and the DI_removed dataset\n",
    "German_train_df   = German_train_df.reset_index(drop=True)\n",
    "German_di_train_df= German_di_train_df.reset_index(drop=True)\n",
    "GermanBool        = (German_train_df != German_di_train_df).stack()  # Create Frame of comparison booleans\n",
    "Germandiff        = pd.concat([German_train_df.stack()[GermanBool], German_di_train_df.stack()[GermanBool]], axis=1)\n",
    "Germandiff.columns=[\"German_train_df\", \"German_di_train_df\"]\n",
    "print(Germandiff)"
   ]
  },
  {
   "cell_type": "code",
   "execution_count": 20,
   "metadata": {},
   "outputs": [
    {
     "name": "stdout",
     "output_type": "stream",
     "text": [
      "Accuracy:\n"
     ]
    },
    {
     "data": {
      "text/html": [
       "<div>\n",
       "<style scoped>\n",
       "    .dataframe tbody tr th:only-of-type {\n",
       "        vertical-align: middle;\n",
       "    }\n",
       "\n",
       "    .dataframe tbody tr th {\n",
       "        vertical-align: top;\n",
       "    }\n",
       "\n",
       "    .dataframe thead th {\n",
       "        text-align: right;\n",
       "    }\n",
       "</style>\n",
       "<table border=\"1\" class=\"dataframe\">\n",
       "  <thead>\n",
       "    <tr style=\"text-align: right;\">\n",
       "      <th></th>\n",
       "      <th>LogReg</th>\n",
       "      <th>RFC</th>\n",
       "    </tr>\n",
       "  </thead>\n",
       "  <tbody>\n",
       "    <tr>\n",
       "      <th>Biased</th>\n",
       "      <td>0.72</td>\n",
       "      <td>0.76</td>\n",
       "    </tr>\n",
       "    <tr>\n",
       "      <th>Fair</th>\n",
       "      <td>0.66</td>\n",
       "      <td>0.74</td>\n",
       "    </tr>\n",
       "  </tbody>\n",
       "</table>\n",
       "</div>"
      ],
      "text/plain": [
       "        LogReg   RFC\n",
       "Biased    0.72  0.76\n",
       "Fair      0.66  0.74"
      ]
     },
     "metadata": {},
     "output_type": "display_data"
    },
    {
     "name": "stdout",
     "output_type": "stream",
     "text": [
      "AUC:\n"
     ]
    },
    {
     "data": {
      "image/png": "[encoded data removed]",
      "text/plain": [
       "<Figure size 1152x432 with 2 Axes>"
      ]
     },
     "metadata": {
      "needs_background": "light"
     },
     "output_type": "display_data"
    }
   ],
   "source": [
    "%matplotlib inline\n",
    "def plot_auc(y_true: np.ndarray, preds: Dict[str, np.ndarray], title: str='', ax=None) -> None:\n",
    "    leg = []\n",
    "    for k, p in preds.items():\n",
    "        fpr, tpr, _ = roc_curve(y_true, p)\n",
    "        ax = sns.lineplot(x=fpr, y=tpr, ci=None, ax=ax)\n",
    "        leg.append(f\"{k}: {round(auc(fpr, tpr), 2)}\")\n",
    "   \n",
    "    ax.legend(leg)\n",
    "    ax.set_xlabel('FPR')\n",
    "    ax.set_ylabel('TPR')\n",
    "    sns.lineplot(x=[0, 1], y=[0, 1], color='gray',ax=ax)\n",
    "    ax.set_title(title)\n",
    "    \n",
    "print('Accuracy:')\n",
    "display(pd.DataFrame({'LogReg': [BiasedLogModel.score(X_test, y_test), \n",
    "                                 Di_LogModel.score(X_di_test, y_di_test)],\n",
    "                      'RFC': [BiasedRfcModel.score(X_test, y_test),\n",
    "                              Di_RfcModel.score(X_di_test, y_di_test)]}, \n",
    "                      index =['Biased', 'Fair']))\n",
    "\n",
    "print('AUC:')\n",
    "\n",
    "fig, ax = plt.subplots(nrows=1, ncols=2,figsize=(16, 6))\n",
    "plot_auc(y_test, \n",
    "         {'AUC biased': BiasedLogModel.predict_proba(X_test)[:, 1], \n",
    "          'AUC fair'  : Di_LogModel.predict_proba(X_di_test)[:, 1]},\n",
    "         title='LR', ax=ax[0]) \n",
    "plot_auc(y_test, \n",
    "         {'AUC biased': BiasedRfcModel.predict_proba(X_test)[:, 1],\n",
    "          'AUC fair'  : Di_RfcModel.predict_proba(X_di_test)[:, 1]},\n",
    "         title='RFC', ax=ax[1]) \n",
    "plt.show()"
   ]
  },
  {
   "cell_type": "code",
   "execution_count": 21,
   "metadata": {},
   "outputs": [
    {
     "name": "stdout",
     "output_type": "stream",
     "text": [
      "Model Accuracy for predicting the Sensitive Variable before bias transformation:\n",
      "Biased Logistic regression validation accuracy: 0.73\n",
      "Biased Random Forest       validation accuracy: 0.725\n",
      "\n",
      "Biased Balanced accuracy\n",
      "Biased Logistic regression balanced accuracy  : 0.6071428571428571\n",
      "Biased Random Forest       balanced accuracy  : 0.575\n"
     ]
    }
   ],
   "source": [
    "# Finally test whether it is possible to predict the Sensitive Variable from the transformed dataset\n",
    "X_se_train = German_di_train_df.drop(protected_attr,axis=1)\n",
    "y_se_train = German_di_train_df[protected_attr]\n",
    "X_se_test  = German_di_test_df.drop(protected_attr,axis=1)\n",
    "y_se_test  = German_di_test_df[protected_attr]\n",
    "\n",
    "Se_BiasedLogModel = LogisticRegression(random_state=101)\n",
    "Se_BiasedRfcModel = RandomForestClassifier(n_estimators=100,max_depth=4,random_state=101)\n",
    "Se_BiasedLogModel.fit(X_se_train, y_se_train) \n",
    "Se_BiasedRfcModel.fit(X_se_train, y_se_train) \n",
    "yseLog_pred =  Se_BiasedLogModel.predict(X_se_test)\n",
    "yseRfc_pred =  Se_BiasedRfcModel.predict(X_se_test)\n",
    "# Now test whether we can predict Gender from the test dataset\n",
    "print('Model Accuracy for predicting the Sensitive Variable before bias transformation:')\n",
    "print(f\"Biased Logistic regression validation accuracy: {Se_BiasedLogModel.score(X_se_test, y_se_test)}\")\n",
    "print(f\"Biased Random Forest       validation accuracy: {Se_BiasedRfcModel.score(X_se_test, y_se_test)}\")\n",
    "print('')\n",
    "print('Biased Balanced accuracy')\n",
    "print(f\"Biased Logistic regression balanced accuracy  : {balanced_accuracy_score(y_se_test, yseLog_pred)}\")\n",
    "print(f\"Biased Random Forest       balanced accuracy  : {balanced_accuracy_score(y_se_test, yseRfc_pred)}\")"
   ]
  },
  {
   "cell_type": "code",
   "execution_count": 22,
   "metadata": {},
   "outputs": [
    {
     "name": "stdout",
     "output_type": "stream",
     "text": [
      "Training Before - CreditStatus value counts:\n",
      "1.0    553\n",
      "0.0    247\n",
      "Name: CreditStatus, dtype: int64\n",
      "Training Before - Gender value counts:\n",
      "1.0    550\n",
      "0.0    250\n",
      "Name: Gender, dtype: int64\n"
     ]
    }
   ],
   "source": [
    "# Lastly get the number of labels from the modified training dataset\n",
    "print('Training Before - CreditStatus value counts:')\n",
    "print(German_di_train_df.CreditStatus.value_counts())\n",
    "print('Training Before - Gender value counts:')\n",
    "print(German_di_train_df.Gender.value_counts())"
   ]
  }
 ],
 "metadata": {
  "kernelspec": {
   "display_name": "Python 3",
   "language": "python",
   "name": "python3"
  },
  "language_info": {
   "codemirror_mode": {
    "name": "ipython",
    "version": 3
   },
   "file_extension": ".py",
   "mimetype": "text/x-python",
   "name": "python",
   "nbconvert_exporter": "python",
   "pygments_lexer": "ipython3",
   "version": "3.7.3"
  }
 },
 "nbformat": 4,
 "nbformat_minor": 2
}
