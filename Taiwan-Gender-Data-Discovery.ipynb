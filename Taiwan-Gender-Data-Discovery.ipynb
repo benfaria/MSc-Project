{
 "cells": [
  {
   "cell_type": "code",
   "execution_count": 1,
   "metadata": {},
   "outputs": [],
   "source": [
    "# In this notebook, we explore the Taiwan Credit Default dataset data.\n",
    "# The intention is to use Gender as the Protected Variable."
   ]
  },
  {
   "cell_type": "code",
   "execution_count": 2,
   "metadata": {},
   "outputs": [],
   "source": [
    "# Import Data handling/display libraries\n",
    "import pandas as pd\n",
    "import matplotlib.pyplot as plt\n",
    "import warnings\n",
    "warnings.filterwarnings('ignore')"
   ]
  },
  {
   "cell_type": "code",
   "execution_count": 3,
   "metadata": {},
   "outputs": [],
   "source": [
    "# Import the Taiwan Credit Card Default training dataset\n",
    "Taiwan_df = pd.read_csv('./input/Taiwan-Credit-Card-New.csv')"
   ]
  },
  {
   "cell_type": "code",
   "execution_count": 4,
   "metadata": {},
   "outputs": [],
   "source": [
    "# Rename a couple of columns for aesthetics\n",
    "Taiwan_df.rename(columns={'SEX':'GENDER', 'PAY_0': 'PAY_1',\n",
    "                          'default payment next month':'DEFAULT'}, \n",
    "                          inplace=True)\n",
    "# Drop ID as it has no impact on this study.\n",
    "Taiwan_df.drop([\"ID\"], axis=1, inplace=True)"
   ]
  },
  {
   "cell_type": "code",
   "execution_count": 5,
   "metadata": {},
   "outputs": [
    {
     "data": {
      "text/plain": [
       "(30000, 24)"
      ]
     },
     "execution_count": 5,
     "metadata": {},
     "output_type": "execute_result"
    }
   ],
   "source": [
    "# How many (rows, columns)\n",
    "Taiwan_df.shape"
   ]
  },
  {
   "cell_type": "code",
   "execution_count": 6,
   "metadata": {},
   "outputs": [],
   "source": [
    "# Taiwan_df[['GENDER','EDUCATION', 'MARRIAGE', 'AGE']].describe()"
   ]
  },
  {
   "cell_type": "code",
   "execution_count": 7,
   "metadata": {},
   "outputs": [
    {
     "data": {
      "text/html": [
       "<div>\n",
       "<style scoped>\n",
       "    .dataframe tbody tr th:only-of-type {\n",
       "        vertical-align: middle;\n",
       "    }\n",
       "\n",
       "    .dataframe tbody tr th {\n",
       "        vertical-align: top;\n",
       "    }\n",
       "\n",
       "    .dataframe thead th {\n",
       "        text-align: right;\n",
       "    }\n",
       "</style>\n",
       "<table border=\"1\" class=\"dataframe\">\n",
       "  <thead>\n",
       "    <tr style=\"text-align: right;\">\n",
       "      <th></th>\n",
       "      <th>PAY_1</th>\n",
       "      <th>PAY_2</th>\n",
       "      <th>PAY_3</th>\n",
       "      <th>PAY_4</th>\n",
       "      <th>PAY_5</th>\n",
       "      <th>PAY_6</th>\n",
       "    </tr>\n",
       "  </thead>\n",
       "  <tbody>\n",
       "    <tr>\n",
       "      <th>count</th>\n",
       "      <td>30000.000000</td>\n",
       "      <td>30000.000000</td>\n",
       "      <td>30000.000000</td>\n",
       "      <td>30000.000000</td>\n",
       "      <td>30000.000000</td>\n",
       "      <td>30000.000000</td>\n",
       "    </tr>\n",
       "    <tr>\n",
       "      <th>mean</th>\n",
       "      <td>-0.016700</td>\n",
       "      <td>-0.133767</td>\n",
       "      <td>-0.166200</td>\n",
       "      <td>-0.220667</td>\n",
       "      <td>-0.266200</td>\n",
       "      <td>-0.291100</td>\n",
       "    </tr>\n",
       "    <tr>\n",
       "      <th>std</th>\n",
       "      <td>1.123802</td>\n",
       "      <td>1.197186</td>\n",
       "      <td>1.196868</td>\n",
       "      <td>1.169139</td>\n",
       "      <td>1.133187</td>\n",
       "      <td>1.149988</td>\n",
       "    </tr>\n",
       "    <tr>\n",
       "      <th>min</th>\n",
       "      <td>-2.000000</td>\n",
       "      <td>-2.000000</td>\n",
       "      <td>-2.000000</td>\n",
       "      <td>-2.000000</td>\n",
       "      <td>-2.000000</td>\n",
       "      <td>-2.000000</td>\n",
       "    </tr>\n",
       "    <tr>\n",
       "      <th>25%</th>\n",
       "      <td>-1.000000</td>\n",
       "      <td>-1.000000</td>\n",
       "      <td>-1.000000</td>\n",
       "      <td>-1.000000</td>\n",
       "      <td>-1.000000</td>\n",
       "      <td>-1.000000</td>\n",
       "    </tr>\n",
       "    <tr>\n",
       "      <th>50%</th>\n",
       "      <td>0.000000</td>\n",
       "      <td>0.000000</td>\n",
       "      <td>0.000000</td>\n",
       "      <td>0.000000</td>\n",
       "      <td>0.000000</td>\n",
       "      <td>0.000000</td>\n",
       "    </tr>\n",
       "    <tr>\n",
       "      <th>75%</th>\n",
       "      <td>0.000000</td>\n",
       "      <td>0.000000</td>\n",
       "      <td>0.000000</td>\n",
       "      <td>0.000000</td>\n",
       "      <td>0.000000</td>\n",
       "      <td>0.000000</td>\n",
       "    </tr>\n",
       "    <tr>\n",
       "      <th>max</th>\n",
       "      <td>8.000000</td>\n",
       "      <td>8.000000</td>\n",
       "      <td>8.000000</td>\n",
       "      <td>8.000000</td>\n",
       "      <td>8.000000</td>\n",
       "      <td>8.000000</td>\n",
       "    </tr>\n",
       "  </tbody>\n",
       "</table>\n",
       "</div>"
      ],
      "text/plain": [
       "              PAY_1         PAY_2         PAY_3         PAY_4         PAY_5  \\\n",
       "count  30000.000000  30000.000000  30000.000000  30000.000000  30000.000000   \n",
       "mean      -0.016700     -0.133767     -0.166200     -0.220667     -0.266200   \n",
       "std        1.123802      1.197186      1.196868      1.169139      1.133187   \n",
       "min       -2.000000     -2.000000     -2.000000     -2.000000     -2.000000   \n",
       "25%       -1.000000     -1.000000     -1.000000     -1.000000     -1.000000   \n",
       "50%        0.000000      0.000000      0.000000      0.000000      0.000000   \n",
       "75%        0.000000      0.000000      0.000000      0.000000      0.000000   \n",
       "max        8.000000      8.000000      8.000000      8.000000      8.000000   \n",
       "\n",
       "              PAY_6  \n",
       "count  30000.000000  \n",
       "mean      -0.291100  \n",
       "std        1.149988  \n",
       "min       -2.000000  \n",
       "25%       -1.000000  \n",
       "50%        0.000000  \n",
       "75%        0.000000  \n",
       "max        8.000000  "
      ]
     },
     "execution_count": 7,
     "metadata": {},
     "output_type": "execute_result"
    }
   ],
   "source": [
    "Taiwan_df[['PAY_1', 'PAY_2', 'PAY_3', 'PAY_4', 'PAY_5', 'PAY_6']].describe()"
   ]
  },
  {
   "cell_type": "code",
   "execution_count": 8,
   "metadata": {},
   "outputs": [
    {
     "name": "stdout",
     "output_type": "stream",
     "text": [
      "Repayment Status: PAY_1 (Sep2005), PAY_2 (Aug2005), PAY_3 (Jul2005)\n",
      "                  PAY_4 (Jun2005), PAY_5 (May2005), Pay_6 (Apr2005)\n",
      "-2,0=unknown, -1=pay duly, 1=payment delay by for one month\n",
      "2=payment delay for two months, ... 8=payment delay for eight months\n",
      "PAY_1 Unique values [ 2 -1  0 -2  1  3  4  8  7  5  6]\n",
      "PAY_2 Unique values [ 2  0 -1 -2  3  5  7  4  1  6  8]\n",
      "PAY_3 Unique values [-1  0  2 -2  3  4  6  7  1  5  8]\n",
      "PAY_4 Unique values [-1  0 -2  2  3  4  5  7  6  1  8]\n",
      "PAY_5 Unique values [-2  0 -1  2  3  5  4  7  8  6]\n",
      "PAY_6 Unique values [-2  2  0 -1  3  6  4  7  8  5]\n"
     ]
    }
   ],
   "source": [
    "# Unique values of PAY_x\n",
    "print('Repayment Status: PAY_1 (Sep2005), PAY_2 (Aug2005), PAY_3 (Jul2005)')\n",
    "print('                  PAY_4 (Jun2005), PAY_5 (May2005), Pay_6 (Apr2005)')\n",
    "print('-2,0=unknown, -1=pay duly, 1=payment delay by for one month') \n",
    "print('2=payment delay for two months, ... 8=payment delay for eight months')\n",
    "print('PAY_1 Unique values', Taiwan_df.PAY_1.unique())\n",
    "print('PAY_2 Unique values', Taiwan_df.PAY_2.unique())\n",
    "print('PAY_3 Unique values', Taiwan_df.PAY_3.unique())\n",
    "print('PAY_4 Unique values', Taiwan_df.PAY_4.unique())\n",
    "print('PAY_5 Unique values', Taiwan_df.PAY_5.unique())\n",
    "print('PAY_6 Unique values', Taiwan_df.PAY_6.unique())"
   ]
  },
  {
   "cell_type": "code",
   "execution_count": 9,
   "metadata": {},
   "outputs": [
    {
     "name": "stdout",
     "output_type": "stream",
     "text": [
      "Amount Outstanding: BILL_AMT1 (Sep2005), BILL_AMT2 (Aug2005), BILL_AMT3 (Jul2005)\n",
      "                    BILL_AMT4 (Jun2005), BILL_AMT5 (May2005), BILL_AMT6 (Apr2005)\n"
     ]
    },
    {
     "data": {
      "text/html": [
       "<div>\n",
       "<style scoped>\n",
       "    .dataframe tbody tr th:only-of-type {\n",
       "        vertical-align: middle;\n",
       "    }\n",
       "\n",
       "    .dataframe tbody tr th {\n",
       "        vertical-align: top;\n",
       "    }\n",
       "\n",
       "    .dataframe thead th {\n",
       "        text-align: right;\n",
       "    }\n",
       "</style>\n",
       "<table border=\"1\" class=\"dataframe\">\n",
       "  <thead>\n",
       "    <tr style=\"text-align: right;\">\n",
       "      <th></th>\n",
       "      <th>BILL_AMT1</th>\n",
       "      <th>BILL_AMT2</th>\n",
       "      <th>BILL_AMT3</th>\n",
       "      <th>BILL_AMT4</th>\n",
       "      <th>BILL_AMT5</th>\n",
       "      <th>BILL_AMT6</th>\n",
       "    </tr>\n",
       "  </thead>\n",
       "  <tbody>\n",
       "    <tr>\n",
       "      <th>count</th>\n",
       "      <td>30000.000000</td>\n",
       "      <td>30000.000000</td>\n",
       "      <td>3.000000e+04</td>\n",
       "      <td>30000.000000</td>\n",
       "      <td>30000.000000</td>\n",
       "      <td>30000.000000</td>\n",
       "    </tr>\n",
       "    <tr>\n",
       "      <th>mean</th>\n",
       "      <td>51223.330900</td>\n",
       "      <td>49179.075167</td>\n",
       "      <td>4.701315e+04</td>\n",
       "      <td>43262.948967</td>\n",
       "      <td>40311.400967</td>\n",
       "      <td>38871.760400</td>\n",
       "    </tr>\n",
       "    <tr>\n",
       "      <th>std</th>\n",
       "      <td>73635.860576</td>\n",
       "      <td>71173.768783</td>\n",
       "      <td>6.934939e+04</td>\n",
       "      <td>64332.856134</td>\n",
       "      <td>60797.155770</td>\n",
       "      <td>59554.107537</td>\n",
       "    </tr>\n",
       "    <tr>\n",
       "      <th>min</th>\n",
       "      <td>-165580.000000</td>\n",
       "      <td>-69777.000000</td>\n",
       "      <td>-1.572640e+05</td>\n",
       "      <td>-170000.000000</td>\n",
       "      <td>-81334.000000</td>\n",
       "      <td>-339603.000000</td>\n",
       "    </tr>\n",
       "    <tr>\n",
       "      <th>25%</th>\n",
       "      <td>3558.750000</td>\n",
       "      <td>2984.750000</td>\n",
       "      <td>2.666250e+03</td>\n",
       "      <td>2326.750000</td>\n",
       "      <td>1763.000000</td>\n",
       "      <td>1256.000000</td>\n",
       "    </tr>\n",
       "    <tr>\n",
       "      <th>50%</th>\n",
       "      <td>22381.500000</td>\n",
       "      <td>21200.000000</td>\n",
       "      <td>2.008850e+04</td>\n",
       "      <td>19052.000000</td>\n",
       "      <td>18104.500000</td>\n",
       "      <td>17071.000000</td>\n",
       "    </tr>\n",
       "    <tr>\n",
       "      <th>75%</th>\n",
       "      <td>67091.000000</td>\n",
       "      <td>64006.250000</td>\n",
       "      <td>6.016475e+04</td>\n",
       "      <td>54506.000000</td>\n",
       "      <td>50190.500000</td>\n",
       "      <td>49198.250000</td>\n",
       "    </tr>\n",
       "    <tr>\n",
       "      <th>max</th>\n",
       "      <td>964511.000000</td>\n",
       "      <td>983931.000000</td>\n",
       "      <td>1.664089e+06</td>\n",
       "      <td>891586.000000</td>\n",
       "      <td>927171.000000</td>\n",
       "      <td>961664.000000</td>\n",
       "    </tr>\n",
       "  </tbody>\n",
       "</table>\n",
       "</div>"
      ],
      "text/plain": [
       "           BILL_AMT1      BILL_AMT2     BILL_AMT3      BILL_AMT4  \\\n",
       "count   30000.000000   30000.000000  3.000000e+04   30000.000000   \n",
       "mean    51223.330900   49179.075167  4.701315e+04   43262.948967   \n",
       "std     73635.860576   71173.768783  6.934939e+04   64332.856134   \n",
       "min   -165580.000000  -69777.000000 -1.572640e+05 -170000.000000   \n",
       "25%      3558.750000    2984.750000  2.666250e+03    2326.750000   \n",
       "50%     22381.500000   21200.000000  2.008850e+04   19052.000000   \n",
       "75%     67091.000000   64006.250000  6.016475e+04   54506.000000   \n",
       "max    964511.000000  983931.000000  1.664089e+06  891586.000000   \n",
       "\n",
       "           BILL_AMT5      BILL_AMT6  \n",
       "count   30000.000000   30000.000000  \n",
       "mean    40311.400967   38871.760400  \n",
       "std     60797.155770   59554.107537  \n",
       "min    -81334.000000 -339603.000000  \n",
       "25%      1763.000000    1256.000000  \n",
       "50%     18104.500000   17071.000000  \n",
       "75%     50190.500000   49198.250000  \n",
       "max    927171.000000  961664.000000  "
      ]
     },
     "execution_count": 9,
     "metadata": {},
     "output_type": "execute_result"
    }
   ],
   "source": [
    "# BILL_AMTx description\n",
    "print('Amount Outstanding: BILL_AMT1 (Sep2005), BILL_AMT2 (Aug2005), BILL_AMT3 (Jul2005)')\n",
    "print('                    BILL_AMT4 (Jun2005), BILL_AMT5 (May2005), BILL_AMT6 (Apr2005)')\n",
    "Taiwan_df[['BILL_AMT1', 'BILL_AMT2', 'BILL_AMT3', 'BILL_AMT4', 'BILL_AMT5', 'BILL_AMT6']].describe()"
   ]
  },
  {
   "cell_type": "code",
   "execution_count": 10,
   "metadata": {},
   "outputs": [
    {
     "name": "stdout",
     "output_type": "stream",
     "text": [
      "Amount Paid: PAY_AMT1 (Sep2005), PAY_AMT2 (Aug2005), PAY_AMT3 (Jul2005)\n",
      "                    PAY_AMT4 (Jun2005), PAY_AMT5 (May2005), PAY_AMT6 (Apr2005)\n"
     ]
    },
    {
     "data": {
      "text/html": [
       "<div>\n",
       "<style scoped>\n",
       "    .dataframe tbody tr th:only-of-type {\n",
       "        vertical-align: middle;\n",
       "    }\n",
       "\n",
       "    .dataframe tbody tr th {\n",
       "        vertical-align: top;\n",
       "    }\n",
       "\n",
       "    .dataframe thead th {\n",
       "        text-align: right;\n",
       "    }\n",
       "</style>\n",
       "<table border=\"1\" class=\"dataframe\">\n",
       "  <thead>\n",
       "    <tr style=\"text-align: right;\">\n",
       "      <th></th>\n",
       "      <th>PAY_AMT1</th>\n",
       "      <th>PAY_AMT2</th>\n",
       "      <th>PAY_AMT3</th>\n",
       "      <th>PAY_AMT4</th>\n",
       "      <th>PAY_AMT5</th>\n",
       "      <th>PAY_AMT6</th>\n",
       "    </tr>\n",
       "  </thead>\n",
       "  <tbody>\n",
       "    <tr>\n",
       "      <th>count</th>\n",
       "      <td>30000.000000</td>\n",
       "      <td>3.000000e+04</td>\n",
       "      <td>30000.00000</td>\n",
       "      <td>30000.000000</td>\n",
       "      <td>30000.000000</td>\n",
       "      <td>30000.000000</td>\n",
       "    </tr>\n",
       "    <tr>\n",
       "      <th>mean</th>\n",
       "      <td>5663.580500</td>\n",
       "      <td>5.921163e+03</td>\n",
       "      <td>5225.68150</td>\n",
       "      <td>4826.076867</td>\n",
       "      <td>4799.387633</td>\n",
       "      <td>5215.502567</td>\n",
       "    </tr>\n",
       "    <tr>\n",
       "      <th>std</th>\n",
       "      <td>16563.280354</td>\n",
       "      <td>2.304087e+04</td>\n",
       "      <td>17606.96147</td>\n",
       "      <td>15666.159744</td>\n",
       "      <td>15278.305679</td>\n",
       "      <td>17777.465775</td>\n",
       "    </tr>\n",
       "    <tr>\n",
       "      <th>min</th>\n",
       "      <td>0.000000</td>\n",
       "      <td>0.000000e+00</td>\n",
       "      <td>0.00000</td>\n",
       "      <td>0.000000</td>\n",
       "      <td>0.000000</td>\n",
       "      <td>0.000000</td>\n",
       "    </tr>\n",
       "    <tr>\n",
       "      <th>25%</th>\n",
       "      <td>1000.000000</td>\n",
       "      <td>8.330000e+02</td>\n",
       "      <td>390.00000</td>\n",
       "      <td>296.000000</td>\n",
       "      <td>252.500000</td>\n",
       "      <td>117.750000</td>\n",
       "    </tr>\n",
       "    <tr>\n",
       "      <th>50%</th>\n",
       "      <td>2100.000000</td>\n",
       "      <td>2.009000e+03</td>\n",
       "      <td>1800.00000</td>\n",
       "      <td>1500.000000</td>\n",
       "      <td>1500.000000</td>\n",
       "      <td>1500.000000</td>\n",
       "    </tr>\n",
       "    <tr>\n",
       "      <th>75%</th>\n",
       "      <td>5006.000000</td>\n",
       "      <td>5.000000e+03</td>\n",
       "      <td>4505.00000</td>\n",
       "      <td>4013.250000</td>\n",
       "      <td>4031.500000</td>\n",
       "      <td>4000.000000</td>\n",
       "    </tr>\n",
       "    <tr>\n",
       "      <th>max</th>\n",
       "      <td>873552.000000</td>\n",
       "      <td>1.684259e+06</td>\n",
       "      <td>896040.00000</td>\n",
       "      <td>621000.000000</td>\n",
       "      <td>426529.000000</td>\n",
       "      <td>528666.000000</td>\n",
       "    </tr>\n",
       "  </tbody>\n",
       "</table>\n",
       "</div>"
      ],
      "text/plain": [
       "            PAY_AMT1      PAY_AMT2      PAY_AMT3       PAY_AMT4  \\\n",
       "count   30000.000000  3.000000e+04   30000.00000   30000.000000   \n",
       "mean     5663.580500  5.921163e+03    5225.68150    4826.076867   \n",
       "std     16563.280354  2.304087e+04   17606.96147   15666.159744   \n",
       "min         0.000000  0.000000e+00       0.00000       0.000000   \n",
       "25%      1000.000000  8.330000e+02     390.00000     296.000000   \n",
       "50%      2100.000000  2.009000e+03    1800.00000    1500.000000   \n",
       "75%      5006.000000  5.000000e+03    4505.00000    4013.250000   \n",
       "max    873552.000000  1.684259e+06  896040.00000  621000.000000   \n",
       "\n",
       "            PAY_AMT5       PAY_AMT6  \n",
       "count   30000.000000   30000.000000  \n",
       "mean     4799.387633    5215.502567  \n",
       "std     15278.305679   17777.465775  \n",
       "min         0.000000       0.000000  \n",
       "25%       252.500000     117.750000  \n",
       "50%      1500.000000    1500.000000  \n",
       "75%      4031.500000    4000.000000  \n",
       "max    426529.000000  528666.000000  "
      ]
     },
     "execution_count": 10,
     "metadata": {},
     "output_type": "execute_result"
    }
   ],
   "source": [
    "# PAY_AMTx description\n",
    "print('Amount Paid: PAY_AMT1 (Sep2005), PAY_AMT2 (Aug2005), PAY_AMT3 (Jul2005)')\n",
    "print('                    PAY_AMT4 (Jun2005), PAY_AMT5 (May2005), PAY_AMT6 (Apr2005)')\n",
    "Taiwan_df[['PAY_AMT1', 'PAY_AMT2', 'PAY_AMT3', 'PAY_AMT4', 'PAY_AMT5', 'PAY_AMT6']].describe()"
   ]
  },
  {
   "cell_type": "code",
   "execution_count": 11,
   "metadata": {},
   "outputs": [
    {
     "name": "stdout",
     "output_type": "stream",
     "text": [
      "AxesSubplot(0.125,0.125;0.775x0.755)\n"
     ]
    },
    {
     "data": {
      "image/png": "[encoded data removed]",
      "text/plain": [
       "<Figure size 432x288 with 1 Axes>"
      ]
     },
     "metadata": {
      "needs_background": "light"
     },
     "output_type": "display_data"
    }
   ],
   "source": [
    "# What is the age distribution\n",
    "print(Taiwan_df.AGE.hist())"
   ]
  },
  {
   "cell_type": "code",
   "execution_count": 12,
   "metadata": {},
   "outputs": [
    {
     "name": "stdout",
     "output_type": "stream",
     "text": [
      "Most of the individuals in the dataset ate single, followed by married\n"
     ]
    },
    {
     "data": {
      "text/plain": [
       "2    15964\n",
       "1    13659\n",
       "3      377\n",
       "Name: MARRIAGE, dtype: int64"
      ]
     },
     "execution_count": 12,
     "metadata": {},
     "output_type": "execute_result"
    }
   ],
   "source": [
    "# How many people are married etc. (1 = married; 2 = single; 3,0 = others)\n",
    "Taiwan_df.loc[Taiwan_df.MARRIAGE == 0, 'MARRIAGE'] = 3\n",
    "print('Most of the individuals in the dataset ate single, followed by married')\n",
    "Taiwan_df['MARRIAGE'].value_counts()"
   ]
  },
  {
   "cell_type": "code",
   "execution_count": 13,
   "metadata": {},
   "outputs": [
    {
     "data": {
      "text/plain": [
       "<matplotlib.axes._subplots.AxesSubplot at 0x1e40c5b54a8>"
      ]
     },
     "execution_count": 13,
     "metadata": {},
     "output_type": "execute_result"
    },
    {
     "data": {
      "image/png": "[encoded data removed]",
      "text/plain": [
       "<Figure size 432x288 with 1 Axes>"
      ]
     },
     "metadata": {
      "needs_background": "light"
     },
     "output_type": "display_data"
    }
   ],
   "source": [
    "# Plot distribution of Marriage (1 = married; 2 = single; 3,0 = others)\n",
    "Taiwan_df.MARRIAGE.value_counts().plot(kind = 'bar')"
   ]
  },
  {
   "cell_type": "code",
   "execution_count": 14,
   "metadata": {},
   "outputs": [
    {
     "data": {
      "text/plain": [
       "2    14030\n",
       "1    10585\n",
       "3     4917\n",
       "5      280\n",
       "4      123\n",
       "6       51\n",
       "0       14\n",
       "Name: EDUCATION, dtype: int64"
      ]
     },
     "execution_count": 14,
     "metadata": {},
     "output_type": "execute_result"
    }
   ],
   "source": [
    "# Educational distribution (1=grad school; 2=university; 3=high school; 0,4, 5, 6=others)\n",
    "Taiwan_df.EDUCATION.value_counts() "
   ]
  },
  {
   "cell_type": "code",
   "execution_count": 15,
   "metadata": {},
   "outputs": [
    {
     "data": {
      "text/plain": [
       "2    18112\n",
       "1    11888\n",
       "Name: GENDER, dtype: int64"
      ]
     },
     "execution_count": 15,
     "metadata": {},
     "output_type": "execute_result"
    }
   ],
   "source": [
    "# Count how many men(1) & women (2)\n",
    "Taiwan_df.GENDER.value_counts()"
   ]
  },
  {
   "cell_type": "code",
   "execution_count": 16,
   "metadata": {},
   "outputs": [
    {
     "data": {
      "text/plain": [
       "GENDER  DEFAULT\n",
       "1       0           9015\n",
       "        1           2873\n",
       "2       0          14349\n",
       "        1           3763\n",
       "dtype: int64"
      ]
     },
     "execution_count": 16,
     "metadata": {},
     "output_type": "execute_result"
    }
   ],
   "source": [
    "### get into the meat of whats what\n",
    "#gender = Taiwan_df.groupby(['GENDER', 'DEFAULT']).size().unstack(1)\n",
    "gender = Taiwan_df.groupby(['GENDER', 'DEFAULT']).size()\n",
    "gender"
   ]
  },
  {
   "cell_type": "code",
   "execution_count": 17,
   "metadata": {
    "scrolled": true
   },
   "outputs": [
    {
     "data": {
      "text/plain": [
       "<matplotlib.axes._subplots.AxesSubplot at 0x1e40c638048>"
      ]
     },
     "execution_count": 17,
     "metadata": {},
     "output_type": "execute_result"
    },
    {
     "data": {
      "image/png": "[encoded data removed]",
      "text/plain": [
       "<Figure size 432x288 with 1 Axes>"
      ]
     },
     "metadata": {
      "needs_background": "light"
     },
     "output_type": "display_data"
    }
   ],
   "source": [
    "# Plot chart of number of women who've defaulted etc.\n",
    "gender.plot(kind='bar', stacked = True)"
   ]
  },
  {
   "cell_type": "code",
   "execution_count": 18,
   "metadata": {},
   "outputs": [
    {
     "name": "stdout",
     "output_type": "stream",
     "text": [
      "Total number of examples     :  30000\n",
      "Number of Defaults           :  6636\n",
      "Number of NonDefaults        :  23364\n",
      "Number of Male defaults      :  2873\n",
      "Number of Female defaults    :  3763\n",
      "Percentage of Defaults       :  22.12 %\n",
      "Defaults - Male percentage   :  43.29415310427969 %\n",
      "Defaults - Female percentage :  56.70584689572031 %\n",
      "\n",
      "Checksum of all Marriage Percentages:  100.0\n"
     ]
    }
   ],
   "source": [
    "# Calculate the percentages of male / females who have defaulted\n",
    "PercentDefaults = MalePercentDefaults = FemalePercentDefaults = 0\n",
    "TotalRows            = len(Taiwan_df)\n",
    "TotalDefaults        = len(Taiwan_df[Taiwan_df[\"DEFAULT\"]==1])\n",
    "TotalNonDefaults     = len(Taiwan_df[Taiwan_df[\"DEFAULT\"]==0])\n",
    "MaleDefaults         = len(Taiwan_df[(Taiwan_df[\"DEFAULT\"]==1) & (Taiwan_df[\"GENDER\"]==1)])\n",
    "FemaleDefaults       = len(Taiwan_df[(Taiwan_df[\"DEFAULT\"]==1) & (Taiwan_df[\"GENDER\"]==2)])\n",
    "PercentDefaults      = (100*TotalDefaults) / TotalRows\n",
    "MalePercentDefaults  = (100*MaleDefaults) / TotalDefaults\n",
    "FemalePercentDefaults= (100*FemaleDefaults) / TotalDefaults\n",
    "\n",
    "print('Total number of examples     : ', TotalRows)\n",
    "print('Number of Defaults           : ', TotalDefaults) \n",
    "print('Number of NonDefaults        : ', TotalNonDefaults) \n",
    "print('Number of Male defaults      : ', MaleDefaults)\n",
    "print('Number of Female defaults    : ', FemaleDefaults)\n",
    "print('Percentage of Defaults       : ', PercentDefaults,'%')\n",
    "print('Defaults - Male percentage   : ', MalePercentDefaults,'%')\n",
    "print('Defaults - Female percentage : ', FemalePercentDefaults,'%')\n",
    "print('')\n",
    "print('Checksum of all Marriage Percentages: ', MalePercentDefaults + FemalePercentDefaults)"
   ]
  },
  {
   "cell_type": "code",
   "execution_count": 19,
   "metadata": {
    "scrolled": false
   },
   "outputs": [
    {
     "name": "stdout",
     "output_type": "stream",
     "text": [
      "Total number of examples         :  30000\n",
      "Total number of Males            :  11888   39.626666666666665 %\n",
      "Total number of Females          :  18112   60.373333333333335 %\n",
      "Ratio of Females to Males        :  1.5235531628532974\n",
      "Total number of Other            :  377      1.2566666666666666 %\n",
      "Number of Defaults               :  6636    22.12 %\n",
      "\n",
      "Percentage of Married Males      :  17.3\n",
      "Percentage of Married Females    :  28.23\n",
      "Ratio of Married Females to Males:  1.4361361208606744\n",
      "\n",
      "Percentage of Single Males       :  21.843333333333334\n",
      "Percentage of Single Females     :  31.37\n",
      "Ratio of Single  Females to Males:  1.631791907514451\n",
      "Checksum of all Marriage Percentages :  100.0\n",
      "\n",
      "Number of Married Male defaults  :  1346\n",
      "Number of Married Female defaults:  1860\n",
      "Ratio of Married+Defaulted Females to Males :  1.3818722139673105\n",
      " \n",
      "Number of Single Male defaults   :  1485\n",
      "Number of Single Female defaults :  1856\n",
      "Ratio of Single +Defaulted Females to Males :  1.2498316498316497\n",
      " \n",
      "Number of Other Married defaults :  89\n",
      "Checksum of all Marriage defaults:  6636\n",
      "\n",
      "Percentage Default Married Males :  20.2833031946956\n",
      "Percentage Default Married Females: 28.028933092224232\n",
      "Percentage Default Single Males  :  22.377938517179025\n",
      "Percentage Default Single Females:  27.96865581675708\n",
      "Percentage Default Other Marriage:  1.3411693791440626\n",
      "Checksum of all Default Percentages: 100.0\n",
      "\n",
      "Number of Male defaults  9015\n",
      "Number of Female defaults  14349\n",
      "percentage of Male defaults : 38.58500256805342\n",
      "\n",
      "Number of Singles defaults  3341\n",
      "Number of Married defaults  3206\n",
      "percentage of single defaults : 51.03100656789369\n"
     ]
    }
   ],
   "source": [
    "# Calculate the percentages of married / single male / females who have defaulted\n",
    "MarriedMalePercent = MarriedMaleDefaultPercent = MarriedFemalePercent = MarriedFemaleDefaultPercent = 0 \n",
    "MalesPercent = FemalesPercent = TotalMales = TotalFemales = Ratio_F_M = 0\n",
    "TotalRows            = len(Taiwan_df)\n",
    "TotalMales           = len(Taiwan_df[Taiwan_df[\"GENDER\"]==1])\n",
    "TotalFemales         = len(Taiwan_df[Taiwan_df[\"GENDER\"]==2])\n",
    "TotalMaleDefa        = len(Taiwan_df[(Taiwan_df[\"GENDER\"]==1)  & (Taiwan_df[\"DEFAULT\"]==0)])\n",
    "TotalFemaleDefa      = len(Taiwan_df[(Taiwan_df[\"GENDER\"]==2)  & (Taiwan_df[\"DEFAULT\"]==0)])\n",
    "\n",
    "TotalDefaults        = len(Taiwan_df[Taiwan_df[\"DEFAULT\"]==1])\n",
    "\n",
    "MarriedMales         = len(Taiwan_df[(Taiwan_df[\"GENDER\"]==1)  & (Taiwan_df[\"MARRIAGE\"]==1)])\n",
    "MarriedFemales       = len(Taiwan_df[(Taiwan_df[\"GENDER\"]==2)  & (Taiwan_df[\"MARRIAGE\"]==1)])\n",
    "MarriedMaleDefaults  = len(Taiwan_df[(Taiwan_df[\"DEFAULT\"]==1) & (Taiwan_df[\"GENDER\"]==1) & (Taiwan_df[\"MARRIAGE\"]==1)])\n",
    "MarriedFemaleDefaults= len(Taiwan_df[(Taiwan_df[\"DEFAULT\"]==1) & (Taiwan_df[\"GENDER\"]==2) & (Taiwan_df[\"MARRIAGE\"]==1)])\n",
    "\n",
    "SingleMales          = len(Taiwan_df[(Taiwan_df[\"GENDER\"]==1)  & (Taiwan_df[\"MARRIAGE\"]==2)])\n",
    "SingleFemales        = len(Taiwan_df[(Taiwan_df[\"GENDER\"]==2)  & (Taiwan_df[\"MARRIAGE\"]==2)])\n",
    "SingleMaleDefaults   = len(Taiwan_df[(Taiwan_df[\"DEFAULT\"]==1) & (Taiwan_df[\"GENDER\"]==1) & (Taiwan_df[\"MARRIAGE\"]==2)])\n",
    "SingleFemaleDefaults = len(Taiwan_df[(Taiwan_df[\"DEFAULT\"]==1) & (Taiwan_df[\"GENDER\"]==2) & (Taiwan_df[\"MARRIAGE\"]==2)])\n",
    "\n",
    "TotalMarrieds        = len(Taiwan_df[Taiwan_df[\"MARRIAGE\"]==1])\n",
    "TotalSingles         = len(Taiwan_df[Taiwan_df[\"MARRIAGE\"]==2])\n",
    "TotalMarriedsDefa    = len(Taiwan_df[(Taiwan_df[\"DEFAULT\"]==1)  & (Taiwan_df[\"MARRIAGE\"]==1)])\n",
    "TotalSinglesDefa     = len(Taiwan_df[(Taiwan_df[\"DEFAULT\"]==1)  & (Taiwan_df[\"MARRIAGE\"]==2)])\n",
    "\n",
    "OtherMarriage        = len(Taiwan_df[(Taiwan_df[\"MARRIAGE\"]==3)])\n",
    "OtherMarriageDefaults= len(Taiwan_df[(Taiwan_df[\"DEFAULT\"]==1) & (Taiwan_df[\"MARRIAGE\"]==3)])\n",
    "OtherMarriagePercent = (100*OtherMarriage) / TotalRows\n",
    "OtherMarriageDefaultP= (100*OtherMarriageDefaults) / TotalDefaults\n",
    "\n",
    "MalesPercent                = (100*TotalMales)   / TotalRows\n",
    "FemalesPercent              = (100*TotalFemales) / TotalRows\n",
    "\n",
    "MarriedMalePercent          = (100*MarriedMales) / TotalRows\n",
    "MarriedMaleDefaultPercent   = (100*MarriedMaleDefaults) / TotalDefaults\n",
    "MarriedFemalePercent        = (100*MarriedFemales) / TotalRows\n",
    "MarriedFemaleDefaultPercent = (100*MarriedFemaleDefaults) / TotalDefaults\n",
    "\n",
    "SingleMalePercent           = (100*SingleMales) / TotalRows\n",
    "SingleMaleDefaultPercent    = (100*SingleMaleDefaults) / TotalDefaults\n",
    "SingleFemalePercent         = (100*SingleFemales) / TotalRows\n",
    "SingleFemaleDefaultPercent  = (100*SingleFemaleDefaults) / TotalDefaults\n",
    "\n",
    "TotalMales = TotalFemales   = Ratio_F_M = Ratio_Defa_F_M = 0\n",
    "Ratio_Married_F_M = Ratio_Single_F_M = Ratio_Defa_Married_F_M = Ratio_Defa_Single_F_M = 0 \n",
    "TotalMales                  = len(Taiwan_df[Taiwan_df[\"GENDER\"]==1])\n",
    "TotalFemales                = len(Taiwan_df[Taiwan_df[\"GENDER\"]==2])\n",
    "Ratio_Defa_F_M              = FemaleDefaults / MaleDefaults\n",
    "Ratio_F_M                   = TotalFemales / TotalMales\n",
    "Ratio_Married_F_M           = MarriedFemales / MarriedMales\n",
    "Ratio_Single_F_M            = SingleFemales / SingleMales\n",
    "Ratio_Defa_Married_F_M      = MarriedFemaleDefaults / MarriedMaleDefaults\n",
    "Ratio_Defa_Single_F_M       = SingleFemaleDefaults  / SingleMaleDefaults\n",
    "\n",
    "\n",
    "print('Total number of examples         : ', TotalRows)\n",
    "print('Total number of Males            : ', TotalMales, ' ', MalesPercent,'%')\n",
    "print('Total number of Females          : ', TotalFemales, ' ', FemalesPercent,'%')\n",
    "print('Ratio of Females to Males        : ', Ratio_F_M)\n",
    "print('Total number of Other            : ', OtherMarriage, '    ',OtherMarriagePercent, '%')\n",
    "print('Number of Defaults               : ', TotalDefaults,'  ',PercentDefaults,'%') \n",
    "print('')\n",
    "print('Percentage of Married Males      : ', MarriedMalePercent)\n",
    "print('Percentage of Married Females    : ', MarriedFemalePercent)\n",
    "print('Ratio of Married Females to Males: ', Ratio_Single_F_M)\n",
    "print('')\n",
    "print('Percentage of Single Males       : ', SingleMalePercent)\n",
    "print('Percentage of Single Females     : ', SingleFemalePercent)\n",
    "print('Ratio of Single  Females to Males: ', Ratio_Married_F_M)\n",
    "print('Checksum of all Marriage Percentages : ', MarriedMalePercent + MarriedFemalePercent + SingleMalePercent + SingleFemalePercent + OtherMarriagePercent)\n",
    "print('')\n",
    "print('Number of Married Male defaults  : ', MarriedMaleDefaults)\n",
    "print('Number of Married Female defaults: ', MarriedFemaleDefaults)\n",
    "print('Ratio of Married+Defaulted Females to Males : ',Ratio_Defa_Married_F_M)\n",
    "print(' ')\n",
    "print('Number of Single Male defaults   : ', SingleMaleDefaults)\n",
    "print('Number of Single Female defaults : ', SingleFemaleDefaults)\n",
    "print('Ratio of Single +Defaulted Females to Males : ',Ratio_Defa_Single_F_M)\n",
    "print(' ')\n",
    "print('Number of Other Married defaults : ', OtherMarriageDefaults)\n",
    "print('Checksum of all Marriage defaults: ', MarriedMaleDefaults + MarriedFemaleDefaults + SingleMaleDefaults + SingleFemaleDefaults + OtherMarriageDefaults)\n",
    "print('')\n",
    "print('Percentage Default Married Males : ', MarriedMaleDefaultPercent)\n",
    "print('Percentage Default Married Females:', MarriedFemaleDefaultPercent)\n",
    "print('Percentage Default Single Males  : ', SingleMaleDefaultPercent)\n",
    "print('Percentage Default Single Females: ', SingleFemaleDefaultPercent)\n",
    "print('Percentage Default Other Marriage: ', OtherMarriageDefaultP)\n",
    "print('Checksum of all Default Percentages:', MarriedMaleDefaultPercent + MarriedFemaleDefaultPercent + SingleMaleDefaultPercent + SingleFemaleDefaultPercent + OtherMarriageDefaultP)\n",
    "print('')\n",
    "print('Number of Male defaults ', TotalMaleDefa )\n",
    "print('Number of Female defaults ', TotalFemaleDefa)\n",
    "print('percentage of Male defaults :',((100*TotalMaleDefa)/(TotalMaleDefa+TotalFemaleDefa)))\n",
    "print('')\n",
    "print('Number of Singles defaults ', TotalSinglesDefa )\n",
    "print('Number of Married defaults ', TotalMarriedsDefa)\n",
    "print('percentage of single defaults :',((100*TotalSinglesDefa)/(TotalSinglesDefa+TotalMarriedsDefa)))"
   ]
  },
  {
   "cell_type": "code",
   "execution_count": 20,
   "metadata": {},
   "outputs": [
    {
     "name": "stdout",
     "output_type": "stream",
     "text": [
      "Ratio of Females to Males                   := 1.523553\n",
      "Ratio of Defaulted Females to Males         := 1.309781\n",
      "Ratio of singles to marrieds                := 1.168753\n",
      "Ratio of defaulted singles to marrieds      := 1.042109\n",
      "\n",
      "Ratio of Married Females to Males           := 1.436136\n",
      "Ratio of Single  Females to Males           := 1.631792\n",
      "Ratio of Married+Defaulted Females to Males := 1.381872\n",
      "Ratio of Single +Defaulted Females to Males := 1.249832\n"
     ]
    }
   ],
   "source": [
    "#Ratios \n",
    "TotalMales = TotalFemales = Ratio_F_M = Ratio_Defa_F_M = Ratio_Singles_Marrieds = 0\n",
    "Ratio_Married_F_M = Ratio_Single_F_M = Ratio_Defa_Married_F_M = Ratio_Defa_Single_F_M = 0 \n",
    "Ratio_defa_sings_married= 0\n",
    "TotalMales             = len(Taiwan_df[Taiwan_df[\"GENDER\"]==1])\n",
    "TotalFemales           = len(Taiwan_df[Taiwan_df[\"GENDER\"]==2])\n",
    "Ratio_F_M              = TotalFemales / TotalMales\n",
    "Ratio_Defa_F_M         = FemaleDefaults / MaleDefaults\n",
    "Ratio_Married_F_M      = MarriedFemales / MarriedMales\n",
    "Ratio_Single_F_M       = SingleFemales / SingleMales\n",
    "Ratio_Defa_Married_F_M = MarriedFemaleDefaults / MarriedMaleDefaults\n",
    "Ratio_Defa_Single_F_M  = SingleFemaleDefaults  / SingleMaleDefaults\n",
    "Ratio_Singles_Marrieds = TotalSingles / TotalMarrieds\n",
    "Ratio_defa_Singles_Marrieds= TotalSinglesDefa / TotalMarriedsDefa\n",
    "\n",
    "\n",
    "print(\"Ratio of Females to Males                   := %f\" % Ratio_F_M)\n",
    "print(\"Ratio of Defaulted Females to Males         := %f\" % Ratio_Defa_F_M)\n",
    "print(\"Ratio of singles to marrieds                := %f\" % Ratio_Singles_Marrieds)\n",
    "print(\"Ratio of defaulted singles to marrieds      := %f\" % Ratio_defa_Singles_Marrieds)\n",
    "print('')\n",
    "print(\"Ratio of Married Females to Males           := %f\" % Ratio_Single_F_M)\n",
    "print(\"Ratio of Single  Females to Males           := %f\" % Ratio_Married_F_M)\n",
    "print(\"Ratio of Married+Defaulted Females to Males := %f\" % Ratio_Defa_Married_F_M)\n",
    "print(\"Ratio of Single +Defaulted Females to Males := %f\" % Ratio_Defa_Single_F_M)"
   ]
  },
  {
   "cell_type": "code",
   "execution_count": 21,
   "metadata": {},
   "outputs": [
    {
     "data": {
      "text/html": [
       "<div>\n",
       "<style scoped>\n",
       "    .dataframe tbody tr th:only-of-type {\n",
       "        vertical-align: middle;\n",
       "    }\n",
       "\n",
       "    .dataframe tbody tr th {\n",
       "        vertical-align: top;\n",
       "    }\n",
       "\n",
       "    .dataframe thead th {\n",
       "        text-align: right;\n",
       "    }\n",
       "</style>\n",
       "<table border=\"1\" class=\"dataframe\">\n",
       "  <thead>\n",
       "    <tr style=\"text-align: right;\">\n",
       "      <th></th>\n",
       "      <th>LIMIT_BAL</th>\n",
       "      <th>GENDER</th>\n",
       "      <th>EDUCATION</th>\n",
       "      <th>MARRIAGE</th>\n",
       "      <th>AGE</th>\n",
       "      <th>PAY_1</th>\n",
       "      <th>PAY_2</th>\n",
       "      <th>PAY_3</th>\n",
       "      <th>PAY_4</th>\n",
       "      <th>PAY_5</th>\n",
       "      <th>...</th>\n",
       "      <th>BILL_AMT3</th>\n",
       "      <th>BILL_AMT4</th>\n",
       "      <th>BILL_AMT5</th>\n",
       "      <th>BILL_AMT6</th>\n",
       "      <th>PAY_AMT1</th>\n",
       "      <th>PAY_AMT2</th>\n",
       "      <th>PAY_AMT3</th>\n",
       "      <th>PAY_AMT4</th>\n",
       "      <th>PAY_AMT5</th>\n",
       "      <th>PAY_AMT6</th>\n",
       "    </tr>\n",
       "    <tr>\n",
       "      <th>DEFAULT</th>\n",
       "      <th></th>\n",
       "      <th></th>\n",
       "      <th></th>\n",
       "      <th></th>\n",
       "      <th></th>\n",
       "      <th></th>\n",
       "      <th></th>\n",
       "      <th></th>\n",
       "      <th></th>\n",
       "      <th></th>\n",
       "      <th></th>\n",
       "      <th></th>\n",
       "      <th></th>\n",
       "      <th></th>\n",
       "      <th></th>\n",
       "      <th></th>\n",
       "      <th></th>\n",
       "      <th></th>\n",
       "      <th></th>\n",
       "      <th></th>\n",
       "      <th></th>\n",
       "    </tr>\n",
       "  </thead>\n",
       "  <tbody>\n",
       "    <tr>\n",
       "      <th>0</th>\n",
       "      <td>178099.726074</td>\n",
       "      <td>1.614150</td>\n",
       "      <td>1.841337</td>\n",
       "      <td>1.564929</td>\n",
       "      <td>35.417266</td>\n",
       "      <td>-0.211222</td>\n",
       "      <td>-0.301917</td>\n",
       "      <td>-0.316256</td>\n",
       "      <td>-0.355633</td>\n",
       "      <td>-0.389488</td>\n",
       "      <td>...</td>\n",
       "      <td>47533.365605</td>\n",
       "      <td>43611.165254</td>\n",
       "      <td>40530.445343</td>\n",
       "      <td>39042.268704</td>\n",
       "      <td>6307.337357</td>\n",
       "      <td>6640.465074</td>\n",
       "      <td>5753.496833</td>\n",
       "      <td>5300.529319</td>\n",
       "      <td>5248.220296</td>\n",
       "      <td>5719.371769</td>\n",
       "    </tr>\n",
       "    <tr>\n",
       "      <th>1</th>\n",
       "      <td>130109.656420</td>\n",
       "      <td>1.567058</td>\n",
       "      <td>1.894665</td>\n",
       "      <td>1.530289</td>\n",
       "      <td>35.725738</td>\n",
       "      <td>0.668174</td>\n",
       "      <td>0.458258</td>\n",
       "      <td>0.362116</td>\n",
       "      <td>0.254521</td>\n",
       "      <td>0.167872</td>\n",
       "      <td>...</td>\n",
       "      <td>45181.598855</td>\n",
       "      <td>42036.950573</td>\n",
       "      <td>39540.190476</td>\n",
       "      <td>38271.435503</td>\n",
       "      <td>3397.044153</td>\n",
       "      <td>3388.649638</td>\n",
       "      <td>3367.351567</td>\n",
       "      <td>3155.626733</td>\n",
       "      <td>3219.139542</td>\n",
       "      <td>3441.482068</td>\n",
       "    </tr>\n",
       "  </tbody>\n",
       "</table>\n",
       "<p>2 rows × 23 columns</p>\n",
       "</div>"
      ],
      "text/plain": [
       "             LIMIT_BAL    GENDER  EDUCATION  MARRIAGE        AGE     PAY_1  \\\n",
       "DEFAULT                                                                      \n",
       "0        178099.726074  1.614150   1.841337  1.564929  35.417266 -0.211222   \n",
       "1        130109.656420  1.567058   1.894665  1.530289  35.725738  0.668174   \n",
       "\n",
       "            PAY_2     PAY_3     PAY_4     PAY_5     ...          BILL_AMT3  \\\n",
       "DEFAULT                                             ...                      \n",
       "0       -0.301917 -0.316256 -0.355633 -0.389488     ...       47533.365605   \n",
       "1        0.458258  0.362116  0.254521  0.167872     ...       45181.598855   \n",
       "\n",
       "            BILL_AMT4     BILL_AMT5     BILL_AMT6     PAY_AMT1     PAY_AMT2  \\\n",
       "DEFAULT                                                                       \n",
       "0        43611.165254  40530.445343  39042.268704  6307.337357  6640.465074   \n",
       "1        42036.950573  39540.190476  38271.435503  3397.044153  3388.649638   \n",
       "\n",
       "            PAY_AMT3     PAY_AMT4     PAY_AMT5     PAY_AMT6  \n",
       "DEFAULT                                                      \n",
       "0        5753.496833  5300.529319  5248.220296  5719.371769  \n",
       "1        3367.351567  3155.626733  3219.139542  3441.482068  \n",
       "\n",
       "[2 rows x 23 columns]"
      ]
     },
     "execution_count": 21,
     "metadata": {},
     "output_type": "execute_result"
    }
   ],
   "source": [
    "# Use this to get the average of all columns for each value of DEFAULT\n",
    "Taiwan_df.groupby('DEFAULT').mean()\n"
   ]
  },
  {
   "cell_type": "code",
   "execution_count": 22,
   "metadata": {},
   "outputs": [],
   "source": [
    "## display(Markdown(\"#### Training Dataset shape\"))\n",
    "## print(dataset_orig_train.features.shape)\n",
    "#Taiwan_df.info()"
   ]
  }
 ],
 "metadata": {
  "kernelspec": {
   "display_name": "Python 3",
   "language": "python",
   "name": "python3"
  },
  "language_info": {
   "codemirror_mode": {
    "name": "ipython",
    "version": 3
   },
   "file_extension": ".py",
   "mimetype": "text/x-python",
   "name": "python",
   "nbconvert_exporter": "python",
   "pygments_lexer": "ipython3",
   "version": "3.7.3"
  }
 },
 "nbformat": 4,
 "nbformat_minor": 2
}
