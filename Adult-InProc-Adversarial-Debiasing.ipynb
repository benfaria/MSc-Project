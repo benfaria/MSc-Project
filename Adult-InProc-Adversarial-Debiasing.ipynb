{
 "cells": [
  {
   "cell_type": "code",
   "execution_count": 1,
   "metadata": {},
   "outputs": [],
   "source": [
    "# To be run after Adult-Data-Prep\n",
    "# Import Data handling/display libraries\n",
    "import sys\n",
    "import pandas as pd\n",
    "import numpy  as np \n",
    "import matplotlib.pyplot as plt\n",
    "import tensorflow as tf\n",
    "from sklearn.model_selection import train_test_split\n",
    "from sklearn.ensemble      import RandomForestClassifier\n",
    "from sklearn.linear_model  import LogisticRegression\n",
    "from sklearn.preprocessing import StandardScaler, MinMaxScaler\n",
    "from sklearn.metrics       import accuracy_score\n",
    "from sklearn.metrics       import balanced_accuracy_score\n",
    "from sklearn.metrics       import auc, roc_auc_score, roc_curve, classification_report, confusion_matrix\n",
    "from IPython.display       import Markdown, display\n",
    "# Import IBM's AI Fairness tooolbox\n",
    "from aif360.datasets       import BinaryLabelDataset\n",
    "from aif360.metrics        import BinaryLabelDatasetMetric\n",
    "from aif360.metrics        import ClassificationMetric\n",
    "from aif360.metrics.utils  import compute_boolean_conditioning_vector\n",
    "#from aif360.algorithms.preprocessing.optim_preproc_helpers.data_preproc_functions import load_preproc_data_adult, load_preproc_data_compas, load_preproc_data_Adult\n",
    "from aif360.algorithms.inprocessing.adversarial_debiasing import AdversarialDebiasing\n",
    "%matplotlib inline\n",
    "# Warnings will be used to silence various model warnings for tidier output\n",
    "import warnings\n",
    "warnings.filterwarnings('ignore')"
   ]
  },
  {
   "cell_type": "code",
   "execution_count": 2,
   "metadata": {},
   "outputs": [],
   "source": [
    "# Read the cleaned Adult dataset\n",
    "Adult_df = pd.read_csv('./input/adult-cleaned.csv')\n",
    "# The AIF demo drops the following columns - we'll try the same\n",
    "Adult_df.drop([\"Fnlwgt\"],axis=1,inplace=True)\n",
    "#Adult_df.drop([\"Fnlwgt\", \"NativeCountry\", \"Relationship\", \"MaritalStatus\"],axis=1,inplace=True)"
   ]
  },
  {
   "cell_type": "code",
   "execution_count": 3,
   "metadata": {},
   "outputs": [],
   "source": [
    "# Set privileged (1)/ unprivileged (0)/ favourable (1) / unfavourable values (0)\n",
    "protected_attr      = 'Gender'\n",
    "priv_grp            = 1  # Males \n",
    "unpriv_grp          = 0  # Females  \n",
    "lab                 = 'Income'\n",
    "fav_label           = 1 # Income over £50K\n",
    "unfav_label         = 0 # Income under £50K\n",
    "privileged_groups   = [{protected_attr: priv_grp}]   # Males\n",
    "unprivileged_groups = [{protected_attr: unpriv_grp}] # Females"
   ]
  },
  {
   "cell_type": "code",
   "execution_count": 4,
   "metadata": {},
   "outputs": [],
   "source": [
    "# Create the traoning and test splits\n",
    "X = Adult_df.drop(lab,axis=1)\n",
    "y = Adult_df[lab]"
   ]
  },
  {
   "cell_type": "code",
   "execution_count": 5,
   "metadata": {},
   "outputs": [],
   "source": [
    "# Create a Binary Label Dataset to use with AIF360 APIs\n",
    "Adult_bld = BinaryLabelDataset(df=pd.concat((X, y), axis=1),\n",
    "                                label_names=[lab], protected_attribute_names=[protected_attr],\n",
    "                                favorable_label=fav_label, unfavorable_label=unfav_label)"
   ]
  },
  {
   "cell_type": "code",
   "execution_count": 6,
   "metadata": {},
   "outputs": [],
   "source": [
    "# Create train and test datasets\n",
    "Adult_train_bld, Adult_test_bld = Adult_bld.split([0.8], shuffle=True)"
   ]
  },
  {
   "cell_type": "code",
   "execution_count": 7,
   "metadata": {},
   "outputs": [],
   "source": [
    "#Scale the binary labelled datasets\n",
    "min_max_scaler = MinMaxScaler()\n",
    "Adult_train_bld.features = min_max_scaler.fit_transform(Adult_train_bld.features)\n",
    "Adult_test_bld.features  = min_max_scaler.fit_transform(Adult_test_bld.features)"
   ]
  },
  {
   "cell_type": "code",
   "execution_count": 8,
   "metadata": {},
   "outputs": [],
   "source": [
    "# Convert the train and test datasets to dataframes\n",
    "Adult_train_df, d = Adult_train_bld.convert_to_dataframe(de_dummy_code=False, sep='=', set_category=False)\n",
    "Adult_test_df,  d = Adult_test_bld.convert_to_dataframe(de_dummy_code=False, sep='=', set_category=False)"
   ]
  },
  {
   "cell_type": "code",
   "execution_count": 9,
   "metadata": {},
   "outputs": [
    {
     "name": "stdout",
     "output_type": "stream",
     "text": [
      "Biased Logistic regression validation accuracy: 0.8217831917289384\n",
      "Biased Random Forest       validation accuracy: 0.8353976865595251\n",
      "\n",
      "Biased Logistic regression balanced accuracy  : 0.6818849323466032\n",
      "Biased Random forest balanced accuracy        : 0.6725080487787696\n"
     ]
    }
   ],
   "source": [
    "# Determine the baseline model accuracy for Logistic Regression and Random Forest Classifiers\n",
    "X_train = Adult_train_df.drop(lab,axis=1)\n",
    "y_train = Adult_train_df[lab]\n",
    "X_test  = Adult_test_df.drop(lab,axis=1)\n",
    "y_test  = Adult_test_df[lab]\n",
    "BiasedLogModel = LogisticRegression(random_state=101)\n",
    "BiasedRfcModel = RandomForestClassifier(n_estimators=100,max_depth=4,random_state=101)\n",
    "BiasedLogModel.fit(X_train, y_train) \n",
    "BiasedRfcModel.fit(X_train, y_train)\n",
    "BiasedLogPredictions = BiasedLogModel.predict(X_test)\n",
    "BiasedRfcPredictions = BiasedRfcModel.predict(X_test)\n",
    "print(f\"Biased Logistic regression validation accuracy: {BiasedLogModel.score(X_test, y_test)}\")\n",
    "print(f\"Biased Random Forest       validation accuracy: {BiasedRfcModel.score(X_test, y_test)}\")\n",
    "print('')\n",
    "print(f\"Biased Logistic regression balanced accuracy  : {balanced_accuracy_score(y_test, BiasedLogPredictions)}\")\n",
    "print(f\"Biased Random forest balanced accuracy        : {balanced_accuracy_score(y_test, BiasedRfcPredictions)}\")"
   ]
  },
  {
   "cell_type": "code",
   "execution_count": 10,
   "metadata": {},
   "outputs": [
    {
     "name": "stdout",
     "output_type": "stream",
     "text": [
      "Training Before - Income value counts:\n",
      "0.0    29713\n",
      "1.0     9360\n",
      "Name: Income, dtype: int64\n",
      "Training Before - Gender value counts:\n",
      "1.0    26052\n",
      "0.0    13021\n",
      "Name: Gender, dtype: int64\n"
     ]
    }
   ],
   "source": [
    "print('Training Before - Income value counts:')\n",
    "print(Adult_train_df.Income.value_counts())\n",
    "print('Training Before - Gender value counts:')\n",
    "print(Adult_train_df.Gender.value_counts())"
   ]
  },
  {
   "cell_type": "code",
   "execution_count": 11,
   "metadata": {},
   "outputs": [
    {
     "name": "stdout",
     "output_type": "stream",
     "text": [
      "Test Before - Income value counts:\n",
      "0.0    7442\n",
      "1.0    2327\n",
      "Name: Income, dtype: int64\n",
      "Test Before - Gender value counts:\n",
      "1.0    6598\n",
      "0.0    3171\n",
      "Name: Gender, dtype: int64\n"
     ]
    }
   ],
   "source": [
    "print('Test Before - Income value counts:')\n",
    "print(Adult_test_df.Income.value_counts())\n",
    "print('Test Before - Gender value counts:')\n",
    "print(Adult_test_df.Gender.value_counts())"
   ]
  },
  {
   "cell_type": "code",
   "execution_count": 12,
   "metadata": {},
   "outputs": [],
   "source": [
    "# Create the binary label dataset metric class for the training dataset\n",
    "metric_train_bld = BinaryLabelDatasetMetric(Adult_train_bld, \n",
    "                                            unprivileged_groups=unprivileged_groups,\n",
    "                                            privileged_groups=privileged_groups)\n",
    "metric_test_bld = BinaryLabelDatasetMetric(Adult_test_bld, \n",
    "                                           unprivileged_groups=unprivileged_groups,\n",
    "                                           privileged_groups=privileged_groups)"
   ]
  },
  {
   "cell_type": "code",
   "execution_count": 13,
   "metadata": {},
   "outputs": [
    {
     "data": {
      "text/markdown": [
       "#### Orig training dataset"
      ],
      "text/plain": [
       "<IPython.core.display.Markdown object>"
      ]
     },
     "metadata": {},
     "output_type": "display_data"
    },
    {
     "name": "stdout",
     "output_type": "stream",
     "text": [
      "Number of instances           : 39073.0\n",
      "Base Rate                     : 0.23955160852762777\n",
      "Consistency                   : [0.83169452]\n",
      "Disparate Impact              : 0.36168796895587446\n",
      "Mean Difference               : -0.1942230719363881\n",
      "Statistical Parity Difference : -0.1942230719363881\n"
     ]
    },
    {
     "data": {
      "text/markdown": [
       "#### Orig test dataset"
      ],
      "text/plain": [
       "<IPython.core.display.Markdown object>"
      ]
     },
     "metadata": {},
     "output_type": "display_data"
    },
    {
     "name": "stdout",
     "output_type": "stream",
     "text": [
      "Number of instances           : 9769.0\n",
      "Base Rate                     : 0.23820247722387142\n",
      "Consistency                   : [0.8279046]\n",
      "Disparate Impact              : 0.3511430576667853\n",
      "Mean Difference               : -0.19579784361707042\n",
      "Statistical Parity Difference : -0.19579784361707042\n"
     ]
    }
   ],
   "source": [
    "display(Markdown(\"#### Orig training dataset\"))\n",
    "print('Number of instances           :', metric_train_bld.num_instances())\n",
    "print('Base Rate                     :', metric_train_bld.base_rate())\n",
    "print('Consistency                   :', metric_train_bld.consistency())\n",
    "print('Disparate Impact              :', metric_train_bld.disparate_impact())\n",
    "print('Mean Difference               :', metric_train_bld.mean_difference())\n",
    "print('Statistical Parity Difference :', metric_train_bld.statistical_parity_difference()) \n",
    "display(Markdown(\"#### Orig test dataset\"))\n",
    "print('Number of instances           :', metric_test_bld.num_instances())\n",
    "print('Base Rate                     :', metric_test_bld.base_rate())\n",
    "print('Consistency                   :', metric_test_bld.consistency())\n",
    "print('Disparate Impact              :', metric_test_bld.disparate_impact())\n",
    "print('Mean Difference               :', metric_test_bld.mean_difference())\n",
    "print('Statistical Parity Difference :', metric_test_bld.statistical_parity_difference()) "
   ]
  },
  {
   "cell_type": "code",
   "execution_count": 14,
   "metadata": {},
   "outputs": [],
   "source": [
    "# Load post-processing algorithm that equalizes the odds\n",
    "# Learn parameters with debias set to FALSE!\n",
    "sess = tf.Session()\n",
    "biased_model = AdversarialDebiasing(privileged_groups = privileged_groups,\n",
    "                          unprivileged_groups = unprivileged_groups,\n",
    "                          scope_name='plain_classifier',\n",
    "                          debias=False,\n",
    "                          sess=sess)"
   ]
  },
  {
   "cell_type": "code",
   "execution_count": 15,
   "metadata": {},
   "outputs": [
    {
     "name": "stderr",
     "output_type": "stream",
     "text": [
      "WARNING: Logging before flag parsing goes to stderr.\n",
      "W0831 18:14:25.010267 11188 deprecation_wrapper.py:119] From c:\\users\\befaria\\appdata\\local\\continuum\\miniconda3\\lib\\site-packages\\aif360\\algorithms\\inprocessing\\adversarial_debiasing.py:138: The name tf.variable_scope is deprecated. Please use tf.compat.v1.variable_scope instead.\n",
      "\n",
      "W0831 18:14:25.015812 11188 deprecation_wrapper.py:119] From c:\\users\\befaria\\appdata\\local\\continuum\\miniconda3\\lib\\site-packages\\aif360\\algorithms\\inprocessing\\adversarial_debiasing.py:142: The name tf.placeholder is deprecated. Please use tf.compat.v1.placeholder instead.\n",
      "\n",
      "W0831 18:14:25.029087 11188 deprecation_wrapper.py:119] From c:\\users\\befaria\\appdata\\local\\continuum\\miniconda3\\lib\\site-packages\\aif360\\algorithms\\inprocessing\\adversarial_debiasing.py:87: The name tf.get_variable is deprecated. Please use tf.compat.v1.get_variable instead.\n",
      "\n",
      "W0831 18:14:28.749302 11188 lazy_loader.py:50] \n",
      "The TensorFlow contrib module will not be included in TensorFlow 2.0.\n",
      "For more information, please see:\n",
      "  * https://github.com/tensorflow/community/blob/master/rfcs/20180907-contrib-sunset.md\n",
      "  * https://github.com/tensorflow/addons\n",
      "  * https://github.com/tensorflow/io (for I/O related ops)\n",
      "If you depend on functionality not listed there, please file an issue.\n",
      "\n",
      "W0831 18:14:28.795915 11188 deprecation.py:506] From c:\\users\\befaria\\appdata\\local\\continuum\\miniconda3\\lib\\site-packages\\aif360\\algorithms\\inprocessing\\adversarial_debiasing.py:92: calling dropout (from tensorflow.python.ops.nn_ops) with keep_prob is deprecated and will be removed in a future version.\n",
      "Instructions for updating:\n",
      "Please use `rate` instead of `keep_prob`. Rate should be set to `rate = 1 - keep_prob`.\n",
      "W0831 18:14:28.877298 11188 deprecation.py:323] From c:\\users\\befaria\\appdata\\local\\continuum\\miniconda3\\lib\\site-packages\\tensorflow\\python\\ops\\nn_impl.py:180: add_dispatch_support.<locals>.wrapper (from tensorflow.python.ops.array_ops) is deprecated and will be removed in a future version.\n",
      "Instructions for updating:\n",
      "Use tf.where in 2.0, which has the same broadcast rule as np.where\n",
      "W0831 18:14:28.895876 11188 deprecation_wrapper.py:119] From c:\\users\\befaria\\appdata\\local\\continuum\\miniconda3\\lib\\site-packages\\aif360\\algorithms\\inprocessing\\adversarial_debiasing.py:160: The name tf.train.exponential_decay is deprecated. Please use tf.compat.v1.train.exponential_decay instead.\n",
      "\n",
      "W0831 18:14:28.912969 11188 deprecation_wrapper.py:119] From c:\\users\\befaria\\appdata\\local\\continuum\\miniconda3\\lib\\site-packages\\aif360\\algorithms\\inprocessing\\adversarial_debiasing.py:162: The name tf.train.AdamOptimizer is deprecated. Please use tf.compat.v1.train.AdamOptimizer instead.\n",
      "\n",
      "W0831 18:14:28.916949 11188 deprecation_wrapper.py:119] From c:\\users\\befaria\\appdata\\local\\continuum\\miniconda3\\lib\\site-packages\\aif360\\algorithms\\inprocessing\\adversarial_debiasing.py:166: The name tf.trainable_variables is deprecated. Please use tf.compat.v1.trainable_variables instead.\n",
      "\n",
      "W0831 18:14:29.262020 11188 deprecation_wrapper.py:119] From c:\\users\\befaria\\appdata\\local\\continuum\\miniconda3\\lib\\site-packages\\aif360\\algorithms\\inprocessing\\adversarial_debiasing.py:187: The name tf.global_variables_initializer is deprecated. Please use tf.compat.v1.global_variables_initializer instead.\n",
      "\n"
     ]
    },
    {
     "name": "stdout",
     "output_type": "stream",
     "text": [
      "epoch 0; iter: 0; batch classifier loss: 0.685152\n",
      "epoch 0; iter: 200; batch classifier loss: 0.479433\n",
      "epoch 1; iter: 0; batch classifier loss: 0.363894\n",
      "epoch 1; iter: 200; batch classifier loss: 0.386594\n",
      "epoch 2; iter: 0; batch classifier loss: 0.313558\n",
      "epoch 2; iter: 200; batch classifier loss: 0.285010\n",
      "epoch 3; iter: 0; batch classifier loss: 0.360125\n",
      "epoch 3; iter: 200; batch classifier loss: 0.268008\n",
      "epoch 4; iter: 0; batch classifier loss: 0.239669\n",
      "epoch 4; iter: 200; batch classifier loss: 0.348645\n",
      "epoch 5; iter: 0; batch classifier loss: 0.313359\n",
      "epoch 5; iter: 200; batch classifier loss: 0.398899\n",
      "epoch 6; iter: 0; batch classifier loss: 0.282975\n",
      "epoch 6; iter: 200; batch classifier loss: 0.371400\n",
      "epoch 7; iter: 0; batch classifier loss: 0.287612\n",
      "epoch 7; iter: 200; batch classifier loss: 0.292009\n",
      "epoch 8; iter: 0; batch classifier loss: 0.318573\n",
      "epoch 8; iter: 200; batch classifier loss: 0.342842\n",
      "epoch 9; iter: 0; batch classifier loss: 0.311289\n",
      "epoch 9; iter: 200; batch classifier loss: 0.294993\n",
      "epoch 10; iter: 0; batch classifier loss: 0.437784\n",
      "epoch 10; iter: 200; batch classifier loss: 0.250125\n",
      "epoch 11; iter: 0; batch classifier loss: 0.349167\n",
      "epoch 11; iter: 200; batch classifier loss: 0.294132\n",
      "epoch 12; iter: 0; batch classifier loss: 0.432245\n",
      "epoch 12; iter: 200; batch classifier loss: 0.379419\n",
      "epoch 13; iter: 0; batch classifier loss: 0.397016\n",
      "epoch 13; iter: 200; batch classifier loss: 0.237834\n",
      "epoch 14; iter: 0; batch classifier loss: 0.311879\n",
      "epoch 14; iter: 200; batch classifier loss: 0.409895\n",
      "epoch 15; iter: 0; batch classifier loss: 0.330882\n",
      "epoch 15; iter: 200; batch classifier loss: 0.318237\n",
      "epoch 16; iter: 0; batch classifier loss: 0.297446\n",
      "epoch 16; iter: 200; batch classifier loss: 0.374992\n",
      "epoch 17; iter: 0; batch classifier loss: 0.325130\n",
      "epoch 17; iter: 200; batch classifier loss: 0.339059\n",
      "epoch 18; iter: 0; batch classifier loss: 0.337174\n",
      "epoch 18; iter: 200; batch classifier loss: 0.456926\n",
      "epoch 19; iter: 0; batch classifier loss: 0.298239\n",
      "epoch 19; iter: 200; batch classifier loss: 0.286226\n",
      "epoch 20; iter: 0; batch classifier loss: 0.344448\n",
      "epoch 20; iter: 200; batch classifier loss: 0.302460\n",
      "epoch 21; iter: 0; batch classifier loss: 0.379693\n",
      "epoch 21; iter: 200; batch classifier loss: 0.271371\n",
      "epoch 22; iter: 0; batch classifier loss: 0.308954\n",
      "epoch 22; iter: 200; batch classifier loss: 0.308583\n",
      "epoch 23; iter: 0; batch classifier loss: 0.256498\n",
      "epoch 23; iter: 200; batch classifier loss: 0.388864\n",
      "epoch 24; iter: 0; batch classifier loss: 0.261380\n",
      "epoch 24; iter: 200; batch classifier loss: 0.320232\n",
      "epoch 25; iter: 0; batch classifier loss: 0.314321\n",
      "epoch 25; iter: 200; batch classifier loss: 0.326628\n",
      "epoch 26; iter: 0; batch classifier loss: 0.297455\n",
      "epoch 26; iter: 200; batch classifier loss: 0.411645\n",
      "epoch 27; iter: 0; batch classifier loss: 0.289114\n",
      "epoch 27; iter: 200; batch classifier loss: 0.297453\n",
      "epoch 28; iter: 0; batch classifier loss: 0.306104\n",
      "epoch 28; iter: 200; batch classifier loss: 0.291525\n",
      "epoch 29; iter: 0; batch classifier loss: 0.345357\n",
      "epoch 29; iter: 200; batch classifier loss: 0.354385\n",
      "epoch 30; iter: 0; batch classifier loss: 0.311578\n",
      "epoch 30; iter: 200; batch classifier loss: 0.354037\n",
      "epoch 31; iter: 0; batch classifier loss: 0.257035\n",
      "epoch 31; iter: 200; batch classifier loss: 0.287187\n",
      "epoch 32; iter: 0; batch classifier loss: 0.356505\n",
      "epoch 32; iter: 200; batch classifier loss: 0.326048\n",
      "epoch 33; iter: 0; batch classifier loss: 0.406109\n",
      "epoch 33; iter: 200; batch classifier loss: 0.308244\n",
      "epoch 34; iter: 0; batch classifier loss: 0.386683\n",
      "epoch 34; iter: 200; batch classifier loss: 0.375271\n",
      "epoch 35; iter: 0; batch classifier loss: 0.313030\n",
      "epoch 35; iter: 200; batch classifier loss: 0.222090\n",
      "epoch 36; iter: 0; batch classifier loss: 0.357875\n",
      "epoch 36; iter: 200; batch classifier loss: 0.330320\n",
      "epoch 37; iter: 0; batch classifier loss: 0.347571\n",
      "epoch 37; iter: 200; batch classifier loss: 0.331213\n",
      "epoch 38; iter: 0; batch classifier loss: 0.441218\n",
      "epoch 38; iter: 200; batch classifier loss: 0.364118\n",
      "epoch 39; iter: 0; batch classifier loss: 0.295275\n",
      "epoch 39; iter: 200; batch classifier loss: 0.322559\n",
      "epoch 40; iter: 0; batch classifier loss: 0.301445\n",
      "epoch 40; iter: 200; batch classifier loss: 0.345719\n",
      "epoch 41; iter: 0; batch classifier loss: 0.308916\n",
      "epoch 41; iter: 200; batch classifier loss: 0.474993\n",
      "epoch 42; iter: 0; batch classifier loss: 0.288938\n",
      "epoch 42; iter: 200; batch classifier loss: 0.279996\n",
      "epoch 43; iter: 0; batch classifier loss: 0.395468\n",
      "epoch 43; iter: 200; batch classifier loss: 0.284997\n",
      "epoch 44; iter: 0; batch classifier loss: 0.302887\n",
      "epoch 44; iter: 200; batch classifier loss: 0.260502\n",
      "epoch 45; iter: 0; batch classifier loss: 0.252527\n",
      "epoch 45; iter: 200; batch classifier loss: 0.360958\n",
      "epoch 46; iter: 0; batch classifier loss: 0.382877\n",
      "epoch 46; iter: 200; batch classifier loss: 0.301338\n",
      "epoch 47; iter: 0; batch classifier loss: 0.353321\n",
      "epoch 47; iter: 200; batch classifier loss: 0.330698\n",
      "epoch 48; iter: 0; batch classifier loss: 0.323085\n",
      "epoch 48; iter: 200; batch classifier loss: 0.280493\n",
      "epoch 49; iter: 0; batch classifier loss: 0.271552\n",
      "epoch 49; iter: 200; batch classifier loss: 0.393565\n"
     ]
    },
    {
     "data": {
      "text/plain": [
       "<aif360.algorithms.inprocessing.adversarial_debiasing.AdversarialDebiasing at 0x1d2d145fba8>"
      ]
     },
     "execution_count": 15,
     "metadata": {},
     "output_type": "execute_result"
    }
   ],
   "source": [
    "biased_model.fit(Adult_train_bld)"
   ]
  },
  {
   "cell_type": "code",
   "execution_count": 16,
   "metadata": {},
   "outputs": [],
   "source": [
    "# Apply the plain model to test data\n",
    "Adult_biased_train = biased_model.predict(Adult_train_bld)\n",
    "Adult_biased_test  = biased_model.predict(Adult_test_bld)\n",
    "# And convert them to dataframes\n",
    "Adult_train_df, d = Adult_biased_train.convert_to_dataframe(de_dummy_code=False, sep='=', set_category=False)\n",
    "Adult_test_df, d  = Adult_biased_test.convert_to_dataframe(de_dummy_code=False, sep='=', set_category=False)"
   ]
  },
  {
   "cell_type": "code",
   "execution_count": 17,
   "metadata": {},
   "outputs": [
    {
     "name": "stdout",
     "output_type": "stream",
     "text": [
      "Model Accuracy for predicting the Sensitive Variable before bias transformation:\n",
      "Biased Logistic regression validation accuracy: 0.7548367284266557\n",
      "Biased Random Forest       validation accuracy: 0.7975227761285699\n",
      "\n",
      "Biased Balanced accuracy\n",
      "Biased Logistic regression balanced accuracy  : 0.6893517898498336\n",
      "Biased Random Forest       balanced accuracy  : 0.7554315122201437\n"
     ]
    }
   ],
   "source": [
    "# Test whether it is possible to predict the Sensitive Variable from the biased dataset\n",
    "X_se_train = Adult_train_df.drop(protected_attr,axis=1)\n",
    "y_se_train = Adult_train_df[protected_attr]\n",
    "X_se_test  = Adult_test_df.drop(protected_attr,axis=1)\n",
    "y_se_test  = Adult_test_df[protected_attr]\n",
    "\n",
    "Se_BiasedLogModel = LogisticRegression(random_state=101)\n",
    "Se_BiasedRfcModel = RandomForestClassifier(n_estimators=100,max_depth=4,random_state=101)\n",
    "Se_BiasedLogModel.fit(X_se_train, y_se_train) \n",
    "Se_BiasedRfcModel.fit(X_se_train, y_se_train) \n",
    "yseLog_pred =  Se_BiasedLogModel.predict(X_se_test)\n",
    "yseRfc_pred =  Se_BiasedRfcModel.predict(X_se_test)\n",
    "# Now test whether we can predict Gender from the test dataset\n",
    "print('Model Accuracy for predicting the Sensitive Variable before bias transformation:')\n",
    "print(f\"Biased Logistic regression validation accuracy: {Se_BiasedLogModel.score(X_se_test, y_se_test)}\")\n",
    "print(f\"Biased Random Forest       validation accuracy: {Se_BiasedRfcModel.score(X_se_test, y_se_test)}\")\n",
    "print('')\n",
    "print('Biased Balanced accuracy')\n",
    "print(f\"Biased Logistic regression balanced accuracy  : {balanced_accuracy_score(y_se_test, yseLog_pred)}\")\n",
    "print(f\"Biased Random Forest       balanced accuracy  : {balanced_accuracy_score(y_se_test, yseRfc_pred)}\")"
   ]
  },
  {
   "cell_type": "code",
   "execution_count": 18,
   "metadata": {},
   "outputs": [
    {
     "data": {
      "text/markdown": [
       "#### Plain model - without debiasing - dataset metrics"
      ],
      "text/plain": [
       "<IPython.core.display.Markdown object>"
      ]
     },
     "metadata": {},
     "output_type": "display_data"
    },
    {
     "data": {
      "text/markdown": [
       "#### Biased training dataset"
      ],
      "text/plain": [
       "<IPython.core.display.Markdown object>"
      ]
     },
     "metadata": {},
     "output_type": "display_data"
    },
    {
     "name": "stdout",
     "output_type": "stream",
     "text": [
      "Number of instances           : 39073.0\n",
      "Base Rate                     : 0.20356768100734524\n",
      "Consistency                   : [0.95967036]\n",
      "Disparate Impact              : 0.24350060294972123\n",
      "Mean Difference               : -0.20590884479055455\n",
      "Statistical Parity Difference : -0.20590884479055455\n"
     ]
    },
    {
     "data": {
      "text/markdown": [
       "#### Biased test dataset"
      ],
      "text/plain": [
       "<IPython.core.display.Markdown object>"
      ]
     },
     "metadata": {},
     "output_type": "display_data"
    },
    {
     "name": "stdout",
     "output_type": "stream",
     "text": [
      "Number of instances           : 9769.0\n",
      "Base Rate                     : 0.19920155594226635\n",
      "Consistency                   : [0.94484594]\n",
      "Disparate Impact              : 0.2802618114417006\n",
      "Mean Difference               : -0.1870795685628196\n",
      "Statistical Parity Difference : -0.1870795685628196\n"
     ]
    }
   ],
   "source": [
    "# Metrics for the dataset from plain model (without debiasing)\n",
    "display(Markdown(\"#### Plain model - without debiasing - dataset metrics\"))\n",
    "metric_biased_train = BinaryLabelDatasetMetric(Adult_biased_train, \n",
    "                             unprivileged_groups=unprivileged_groups,\n",
    "                             privileged_groups=privileged_groups)\n",
    "\n",
    "metric_biased_test = BinaryLabelDatasetMetric(Adult_biased_test, \n",
    "                            unprivileged_groups=unprivileged_groups,\n",
    "                            privileged_groups=privileged_groups)\n",
    "display(Markdown(\"#### Biased training dataset\"))\n",
    "print('Number of instances           :', metric_biased_train.num_instances())\n",
    "print('Base Rate                     :', metric_biased_train.base_rate())\n",
    "print('Consistency                   :', metric_biased_train.consistency())\n",
    "print('Disparate Impact              :', metric_biased_train.disparate_impact())\n",
    "print('Mean Difference               :', metric_biased_train.mean_difference())\n",
    "print('Statistical Parity Difference :', metric_biased_train.statistical_parity_difference()) \n",
    "display(Markdown(\"#### Biased test dataset\"))\n",
    "print('Number of instances           :', metric_biased_test.num_instances())\n",
    "print('Base Rate                     :', metric_biased_test.base_rate())\n",
    "print('Consistency                   :', metric_biased_test.consistency())\n",
    "print('Disparate Impact              :', metric_biased_test.disparate_impact())\n",
    "print('Mean Difference               :', metric_biased_test.mean_difference())\n",
    "print('Statistical Parity Difference :', metric_biased_test.statistical_parity_difference()) "
   ]
  },
  {
   "cell_type": "code",
   "execution_count": 19,
   "metadata": {},
   "outputs": [],
   "source": [
    "# Create the Classification metric for train and test\n",
    "classified_metric_biased_test = ClassificationMetric(Adult_train_bld, Adult_biased_train,\n",
    "                                       unprivileged_groups=unprivileged_groups,\n",
    "                                       privileged_groups=privileged_groups)\n",
    "classified_metric_biased_train = ClassificationMetric(Adult_test_bld, Adult_biased_test,\n",
    "                                       unprivileged_groups=unprivileged_groups,\n",
    "                                       privileged_groups=privileged_groups)"
   ]
  },
  {
   "cell_type": "code",
   "execution_count": 20,
   "metadata": {},
   "outputs": [
    {
     "data": {
      "text/markdown": [
       "#### Plain model - without debiasing - classification metrics"
      ],
      "text/plain": [
       "<IPython.core.display.Markdown object>"
      ]
     },
     "metadata": {},
     "output_type": "display_data"
    },
    {
     "data": {
      "text/markdown": [
       "#### Biased training dataset - CLassification Metrics"
      ],
      "text/plain": [
       "<IPython.core.display.Markdown object>"
      ]
     },
     "metadata": {},
     "output_type": "display_data"
    },
    {
     "name": "stdout",
     "output_type": "stream",
     "text": [
      "Classification accuracy         = 0.8529020370559934\n",
      "Balanced classification accuracy= 0.7692098078167481\n",
      "Disparate impact                = 0.2802618114417006\n",
      "Equal opportunity difference    = -0.13826056540144943\n",
      "Average odds difference         = -0.10763116070670366\n",
      "Theil_index                     = 0.11774981149746311\n"
     ]
    },
    {
     "data": {
      "text/markdown": [
       "#### Biased test dataset - CLassification Metrics"
      ],
      "text/plain": [
       "<IPython.core.display.Markdown object>"
      ]
     },
     "metadata": {},
     "output_type": "display_data"
    },
    {
     "name": "stdout",
     "output_type": "stream",
     "text": [
      "Classification accuracy         = 0.8531978604151205\n",
      "Balanced classification accuracy= 0.7728095881511474\n",
      "Disparate impact                = 0.24350060294972123\n",
      "Equal opportunity difference    = -0.1658572189301346\n",
      "Average odds difference         = -0.13006204357645484\n",
      "Theil_index                     = 0.11632786221132833\n"
     ]
    }
   ],
   "source": [
    "display(Markdown(\"#### Plain model - without debiasing - classification metrics\"))\n",
    "\n",
    "display(Markdown(\"#### Biased training dataset - CLassification Metrics\"))\n",
    "TPR_train = classified_metric_biased_train.true_positive_rate()\n",
    "TNR_train = classified_metric_biased_train.true_negative_rate()\n",
    "bal_acc_biased_train = 0.5*(TPR_train + TNR_train)\n",
    "print('Classification accuracy         =', classified_metric_biased_train.accuracy())\n",
    "print('Balanced classification accuracy=', bal_acc_biased_train)\n",
    "print('Disparate impact                =', classified_metric_biased_train.disparate_impact())\n",
    "print('Equal opportunity difference    =', classified_metric_biased_train.equal_opportunity_difference())\n",
    "print('Average odds difference         =', classified_metric_biased_train.average_odds_difference())\n",
    "print('Theil_index                     =', classified_metric_biased_train.theil_index())\n",
    "\n",
    "display(Markdown(\"#### Biased test dataset - CLassification Metrics\"))\n",
    "TPR_test = classified_metric_biased_test.true_positive_rate()\n",
    "TNR_test = classified_metric_biased_test.true_negative_rate()\n",
    "bal_acc_biased_test = 0.5*(TPR_test+TNR_test)\n",
    "print('Classification accuracy         =', classified_metric_biased_test.accuracy())\n",
    "print('Balanced classification accuracy=', bal_acc_biased_test)\n",
    "print('Disparate impact                =', classified_metric_biased_test.disparate_impact())\n",
    "print('Equal opportunity difference    =', classified_metric_biased_test.equal_opportunity_difference())\n",
    "print('Average odds difference         =', classified_metric_biased_test.average_odds_difference())\n",
    "print('Theil_index                     =', classified_metric_biased_test.theil_index())"
   ]
  },
  {
   "cell_type": "code",
   "execution_count": 21,
   "metadata": {},
   "outputs": [],
   "source": [
    "sess.close()\n",
    "tf.reset_default_graph()\n",
    "sess = tf.Session()"
   ]
  },
  {
   "cell_type": "code",
   "execution_count": 22,
   "metadata": {},
   "outputs": [],
   "source": [
    "unbiased_model = AdversarialDebiasing(privileged_groups = privileged_groups,\n",
    "                          unprivileged_groups = unprivileged_groups,\n",
    "                          scope_name='plain_classifier',\n",
    "                          debias=True,\n",
    "                          sess=sess)"
   ]
  },
  {
   "cell_type": "code",
   "execution_count": 23,
   "metadata": {},
   "outputs": [
    {
     "name": "stdout",
     "output_type": "stream",
     "text": [
      "epoch 0; iter: 0; batch classifier loss: 0.680460; batch adversarial loss: 0.894226\n",
      "epoch 0; iter: 200; batch classifier loss: 0.946332; batch adversarial loss: 1.011363\n",
      "epoch 1; iter: 0; batch classifier loss: 0.852266; batch adversarial loss: 0.880331\n",
      "epoch 1; iter: 200; batch classifier loss: 0.954274; batch adversarial loss: 0.720528\n",
      "epoch 2; iter: 0; batch classifier loss: 0.701423; batch adversarial loss: 0.657317\n",
      "epoch 2; iter: 200; batch classifier loss: 0.289072; batch adversarial loss: 0.652108\n",
      "epoch 3; iter: 0; batch classifier loss: 0.441544; batch adversarial loss: 0.634345\n",
      "epoch 3; iter: 200; batch classifier loss: 0.272201; batch adversarial loss: 0.676511\n",
      "epoch 4; iter: 0; batch classifier loss: 0.328823; batch adversarial loss: 0.612028\n",
      "epoch 4; iter: 200; batch classifier loss: 0.397757; batch adversarial loss: 0.657345\n",
      "epoch 5; iter: 0; batch classifier loss: 0.262638; batch adversarial loss: 0.606627\n",
      "epoch 5; iter: 200; batch classifier loss: 0.338500; batch adversarial loss: 0.587021\n",
      "epoch 6; iter: 0; batch classifier loss: 0.353129; batch adversarial loss: 0.648978\n",
      "epoch 6; iter: 200; batch classifier loss: 0.379476; batch adversarial loss: 0.627248\n",
      "epoch 7; iter: 0; batch classifier loss: 0.414109; batch adversarial loss: 0.629516\n",
      "epoch 7; iter: 200; batch classifier loss: 0.337568; batch adversarial loss: 0.641424\n",
      "epoch 8; iter: 0; batch classifier loss: 0.491370; batch adversarial loss: 0.640560\n",
      "epoch 8; iter: 200; batch classifier loss: 0.543536; batch adversarial loss: 0.613381\n",
      "epoch 9; iter: 0; batch classifier loss: 0.535434; batch adversarial loss: 0.620153\n",
      "epoch 9; iter: 200; batch classifier loss: 0.422971; batch adversarial loss: 0.628980\n",
      "epoch 10; iter: 0; batch classifier loss: 0.284936; batch adversarial loss: 0.697822\n",
      "epoch 10; iter: 200; batch classifier loss: 0.338816; batch adversarial loss: 0.637338\n",
      "epoch 11; iter: 0; batch classifier loss: 0.344265; batch adversarial loss: 0.650200\n",
      "epoch 11; iter: 200; batch classifier loss: 0.369857; batch adversarial loss: 0.648310\n",
      "epoch 12; iter: 0; batch classifier loss: 0.261310; batch adversarial loss: 0.668786\n",
      "epoch 12; iter: 200; batch classifier loss: 0.376036; batch adversarial loss: 0.662190\n",
      "epoch 13; iter: 0; batch classifier loss: 0.310650; batch adversarial loss: 0.638287\n",
      "epoch 13; iter: 200; batch classifier loss: 0.305703; batch adversarial loss: 0.635114\n",
      "epoch 14; iter: 0; batch classifier loss: 0.346313; batch adversarial loss: 0.652788\n",
      "epoch 14; iter: 200; batch classifier loss: 0.350106; batch adversarial loss: 0.666215\n",
      "epoch 15; iter: 0; batch classifier loss: 0.325366; batch adversarial loss: 0.596829\n",
      "epoch 15; iter: 200; batch classifier loss: 0.402858; batch adversarial loss: 0.577137\n",
      "epoch 16; iter: 0; batch classifier loss: 0.358448; batch adversarial loss: 0.675170\n",
      "epoch 16; iter: 200; batch classifier loss: 0.256347; batch adversarial loss: 0.596637\n",
      "epoch 17; iter: 0; batch classifier loss: 0.296771; batch adversarial loss: 0.654054\n",
      "epoch 17; iter: 200; batch classifier loss: 0.310773; batch adversarial loss: 0.654120\n",
      "epoch 18; iter: 0; batch classifier loss: 0.288409; batch adversarial loss: 0.579568\n",
      "epoch 18; iter: 200; batch classifier loss: 0.374346; batch adversarial loss: 0.625164\n",
      "epoch 19; iter: 0; batch classifier loss: 0.329608; batch adversarial loss: 0.668320\n",
      "epoch 19; iter: 200; batch classifier loss: 0.424654; batch adversarial loss: 0.600953\n",
      "epoch 20; iter: 0; batch classifier loss: 0.344463; batch adversarial loss: 0.605773\n",
      "epoch 20; iter: 200; batch classifier loss: 0.332360; batch adversarial loss: 0.612668\n",
      "epoch 21; iter: 0; batch classifier loss: 0.252556; batch adversarial loss: 0.667288\n",
      "epoch 21; iter: 200; batch classifier loss: 0.375892; batch adversarial loss: 0.643897\n",
      "epoch 22; iter: 0; batch classifier loss: 0.318524; batch adversarial loss: 0.631263\n",
      "epoch 22; iter: 200; batch classifier loss: 0.344379; batch adversarial loss: 0.606730\n",
      "epoch 23; iter: 0; batch classifier loss: 0.234069; batch adversarial loss: 0.685254\n",
      "epoch 23; iter: 200; batch classifier loss: 0.342091; batch adversarial loss: 0.568355\n",
      "epoch 24; iter: 0; batch classifier loss: 0.299719; batch adversarial loss: 0.647852\n",
      "epoch 24; iter: 200; batch classifier loss: 0.432097; batch adversarial loss: 0.641720\n",
      "epoch 25; iter: 0; batch classifier loss: 0.315235; batch adversarial loss: 0.614109\n",
      "epoch 25; iter: 200; batch classifier loss: 0.355187; batch adversarial loss: 0.632279\n",
      "epoch 26; iter: 0; batch classifier loss: 0.325451; batch adversarial loss: 0.653365\n",
      "epoch 26; iter: 200; batch classifier loss: 0.299117; batch adversarial loss: 0.593187\n",
      "epoch 27; iter: 0; batch classifier loss: 0.285471; batch adversarial loss: 0.634693\n",
      "epoch 27; iter: 200; batch classifier loss: 0.306453; batch adversarial loss: 0.604118\n",
      "epoch 28; iter: 0; batch classifier loss: 0.420826; batch adversarial loss: 0.553301\n",
      "epoch 28; iter: 200; batch classifier loss: 0.332054; batch adversarial loss: 0.546104\n",
      "epoch 29; iter: 0; batch classifier loss: 0.324982; batch adversarial loss: 0.648972\n",
      "epoch 29; iter: 200; batch classifier loss: 0.362809; batch adversarial loss: 0.639800\n",
      "epoch 30; iter: 0; batch classifier loss: 0.305268; batch adversarial loss: 0.598918\n",
      "epoch 30; iter: 200; batch classifier loss: 0.296491; batch adversarial loss: 0.628306\n",
      "epoch 31; iter: 0; batch classifier loss: 0.304329; batch adversarial loss: 0.632482\n",
      "epoch 31; iter: 200; batch classifier loss: 0.286342; batch adversarial loss: 0.663617\n",
      "epoch 32; iter: 0; batch classifier loss: 0.385632; batch adversarial loss: 0.654603\n",
      "epoch 32; iter: 200; batch classifier loss: 0.309997; batch adversarial loss: 0.674302\n",
      "epoch 33; iter: 0; batch classifier loss: 0.378429; batch adversarial loss: 0.600788\n",
      "epoch 33; iter: 200; batch classifier loss: 0.322903; batch adversarial loss: 0.694316\n",
      "epoch 34; iter: 0; batch classifier loss: 0.275852; batch adversarial loss: 0.611353\n",
      "epoch 34; iter: 200; batch classifier loss: 0.340847; batch adversarial loss: 0.648605\n",
      "epoch 35; iter: 0; batch classifier loss: 0.442033; batch adversarial loss: 0.633998\n",
      "epoch 35; iter: 200; batch classifier loss: 0.292658; batch adversarial loss: 0.619536\n",
      "epoch 36; iter: 0; batch classifier loss: 0.447146; batch adversarial loss: 0.620340\n",
      "epoch 36; iter: 200; batch classifier loss: 0.321235; batch adversarial loss: 0.633242\n",
      "epoch 37; iter: 0; batch classifier loss: 0.266525; batch adversarial loss: 0.646072\n",
      "epoch 37; iter: 200; batch classifier loss: 0.273847; batch adversarial loss: 0.614325\n",
      "epoch 38; iter: 0; batch classifier loss: 0.370399; batch adversarial loss: 0.646483\n",
      "epoch 38; iter: 200; batch classifier loss: 0.298755; batch adversarial loss: 0.619211\n",
      "epoch 39; iter: 0; batch classifier loss: 0.294139; batch adversarial loss: 0.640540\n",
      "epoch 39; iter: 200; batch classifier loss: 0.304840; batch adversarial loss: 0.597245\n",
      "epoch 40; iter: 0; batch classifier loss: 0.361078; batch adversarial loss: 0.649747\n",
      "epoch 40; iter: 200; batch classifier loss: 0.412049; batch adversarial loss: 0.656959\n",
      "epoch 41; iter: 0; batch classifier loss: 0.288277; batch adversarial loss: 0.638081\n",
      "epoch 41; iter: 200; batch classifier loss: 0.381037; batch adversarial loss: 0.626008\n",
      "epoch 42; iter: 0; batch classifier loss: 0.443218; batch adversarial loss: 0.591066\n",
      "epoch 42; iter: 200; batch classifier loss: 0.294634; batch adversarial loss: 0.647074\n",
      "epoch 43; iter: 0; batch classifier loss: 0.352685; batch adversarial loss: 0.614795\n",
      "epoch 43; iter: 200; batch classifier loss: 0.417607; batch adversarial loss: 0.611700\n",
      "epoch 44; iter: 0; batch classifier loss: 0.323002; batch adversarial loss: 0.560844\n",
      "epoch 44; iter: 200; batch classifier loss: 0.425772; batch adversarial loss: 0.623145\n",
      "epoch 45; iter: 0; batch classifier loss: 0.363698; batch adversarial loss: 0.622298\n",
      "epoch 45; iter: 200; batch classifier loss: 0.327009; batch adversarial loss: 0.597881\n",
      "epoch 46; iter: 0; batch classifier loss: 0.372883; batch adversarial loss: 0.591739\n",
      "epoch 46; iter: 200; batch classifier loss: 0.388699; batch adversarial loss: 0.609868\n",
      "epoch 47; iter: 0; batch classifier loss: 0.266695; batch adversarial loss: 0.618473\n",
      "epoch 47; iter: 200; batch classifier loss: 0.407078; batch adversarial loss: 0.623509\n"
     ]
    },
    {
     "name": "stdout",
     "output_type": "stream",
     "text": [
      "epoch 48; iter: 0; batch classifier loss: 0.402862; batch adversarial loss: 0.684182\n",
      "epoch 48; iter: 200; batch classifier loss: 0.355890; batch adversarial loss: 0.635136\n",
      "epoch 49; iter: 0; batch classifier loss: 0.239760; batch adversarial loss: 0.691541\n",
      "epoch 49; iter: 200; batch classifier loss: 0.351629; batch adversarial loss: 0.650936\n"
     ]
    },
    {
     "data": {
      "text/plain": [
       "<aif360.algorithms.inprocessing.adversarial_debiasing.AdversarialDebiasing at 0x1d2e76929b0>"
      ]
     },
     "execution_count": 23,
     "metadata": {},
     "output_type": "execute_result"
    }
   ],
   "source": [
    "unbiased_model.fit(Adult_train_bld)"
   ]
  },
  {
   "cell_type": "code",
   "execution_count": 24,
   "metadata": {},
   "outputs": [],
   "source": [
    "Adult_unbiased_train = unbiased_model.predict(Adult_train_bld)\n",
    "Adult_unbiased_test  = unbiased_model.predict(Adult_test_bld)\n",
    "# And convert these to dataframes..\n",
    "Adult_train_df, d = Adult_unbiased_train.convert_to_dataframe(de_dummy_code=False, sep='=', set_category=False)\n",
    "Adult_test_df, d  = Adult_unbiased_test.convert_to_dataframe(de_dummy_code=False, sep='=', set_category=False)"
   ]
  },
  {
   "cell_type": "code",
   "execution_count": 25,
   "metadata": {},
   "outputs": [
    {
     "data": {
      "text/markdown": [
       "#### Plain model - after unbiasing - dataset metrics"
      ],
      "text/plain": [
       "<IPython.core.display.Markdown object>"
      ]
     },
     "metadata": {},
     "output_type": "display_data"
    },
    {
     "data": {
      "text/markdown": [
       "#### Biased training dataset"
      ],
      "text/plain": [
       "<IPython.core.display.Markdown object>"
      ]
     },
     "metadata": {},
     "output_type": "display_data"
    },
    {
     "name": "stdout",
     "output_type": "stream",
     "text": [
      "Number of instances           : 39073.0\n",
      "Base Rate                     : 0.15806311263532363\n",
      "Consistency                   : [0.95915338]\n",
      "Disparate Impact              : 0.7974075323140213\n",
      "Mean Difference               : -0.03434086969527414\n",
      "Statistical Parity Difference : -0.03434086969527414\n"
     ]
    },
    {
     "data": {
      "text/markdown": [
       "#### Biased test dataset"
      ],
      "text/plain": [
       "<IPython.core.display.Markdown object>"
      ]
     },
     "metadata": {},
     "output_type": "display_data"
    },
    {
     "name": "stdout",
     "output_type": "stream",
     "text": [
      "Number of instances           : 9769.0\n",
      "Base Rate                     : 0.15579895588084758\n",
      "Consistency                   : [0.94138602]\n",
      "Disparate Impact              : 0.819335715267598\n",
      "Mean Difference               : -0.029900787955105035\n",
      "Statistical Parity Difference : -0.029900787955105035\n"
     ]
    }
   ],
   "source": [
    "# Metrics for the dataset from plain model (after unbiasing)\n",
    "display(Markdown(\"#### Plain model - after unbiasing - dataset metrics\"))\n",
    "metric_unbiased_train = BinaryLabelDatasetMetric(Adult_unbiased_train, \n",
    "                             unprivileged_groups=unprivileged_groups,\n",
    "                             privileged_groups=privileged_groups)\n",
    "\n",
    "metric_unbiased_test = BinaryLabelDatasetMetric(Adult_unbiased_test, \n",
    "                            unprivileged_groups=unprivileged_groups,\n",
    "                            privileged_groups=privileged_groups)\n",
    "display(Markdown(\"#### Biased training dataset\"))\n",
    "print('Number of instances           :', metric_unbiased_train.num_instances())\n",
    "print('Base Rate                     :', metric_unbiased_train.base_rate())\n",
    "print('Consistency                   :', metric_unbiased_train.consistency())\n",
    "print('Disparate Impact              :', metric_unbiased_train.disparate_impact())\n",
    "print('Mean Difference               :', metric_unbiased_train.mean_difference())\n",
    "print('Statistical Parity Difference :', metric_unbiased_train.statistical_parity_difference()) \n",
    "display(Markdown(\"#### Biased test dataset\"))\n",
    "print('Number of instances           :', metric_unbiased_test.num_instances())\n",
    "print('Base Rate                     :', metric_unbiased_test.base_rate())\n",
    "print('Consistency                   :', metric_unbiased_test.consistency())\n",
    "print('Disparate Impact              :', metric_unbiased_test.disparate_impact())\n",
    "print('Mean Difference               :', metric_unbiased_test.mean_difference())\n",
    "print('Statistical Parity Difference :', metric_unbiased_test.statistical_parity_difference()) "
   ]
  },
  {
   "cell_type": "code",
   "execution_count": 26,
   "metadata": {},
   "outputs": [],
   "source": [
    "# Create the Classification metric for train and test\n",
    "classified_metric_unbiased_train = ClassificationMetric(Adult_train_bld, Adult_unbiased_train,\n",
    "                                       unprivileged_groups=unprivileged_groups,\n",
    "                                       privileged_groups=privileged_groups)\n",
    "classified_metric_unbiased_test = ClassificationMetric(Adult_test_bld, Adult_unbiased_test,\n",
    "                                       unprivileged_groups=unprivileged_groups,\n",
    "                                       privileged_groups=privileged_groups)"
   ]
  },
  {
   "cell_type": "code",
   "execution_count": 27,
   "metadata": {},
   "outputs": [
    {
     "data": {
      "text/markdown": [
       "#### Plain model - after debiasing - classification metrics"
      ],
      "text/plain": [
       "<IPython.core.display.Markdown object>"
      ]
     },
     "metadata": {},
     "output_type": "display_data"
    },
    {
     "data": {
      "text/markdown": [
       "#### Unbiased training dataset - CLassification Metrics"
      ],
      "text/plain": [
       "<IPython.core.display.Markdown object>"
      ]
     },
     "metadata": {},
     "output_type": "display_data"
    },
    {
     "name": "stdout",
     "output_type": "stream",
     "text": [
      "Classification accuracy         = 0.8415785836767077\n",
      "Balanced classification accuracy= 0.7243341086278101\n",
      "Disparate impact                = 0.7974075323140213\n",
      "Equal opportunity difference    = 0.2583792564231656\n",
      "Average odds difference         = 0.13943432605596404\n",
      "Theil_index                     = 0.14305764755686662\n"
     ]
    },
    {
     "data": {
      "text/markdown": [
       "#### Unbiased test dataset - CLassification Metrics"
      ],
      "text/plain": [
       "<IPython.core.display.Markdown object>"
      ]
     },
     "metadata": {},
     "output_type": "display_data"
    },
    {
     "name": "stdout",
     "output_type": "stream",
     "text": [
      "Classification accuracy         = 0.8385709898659024\n",
      "Balanced classification accuracy= 0.7181572156867139\n",
      "Disparate impact                = 0.819335715267598\n",
      "Equal opportunity difference    = 0.25034679868934007\n",
      "Average odds difference         = 0.138550711455793\n",
      "Theil_index                     = 0.14569295717927783\n"
     ]
    }
   ],
   "source": [
    "display(Markdown(\"#### Plain model - after debiasing - classification metrics\"))\n",
    "display(Markdown(\"#### Unbiased training dataset - CLassification Metrics\"))\n",
    "TPR_train = classified_metric_unbiased_train.true_positive_rate()\n",
    "TNR_train = classified_metric_unbiased_train.true_negative_rate()\n",
    "bal_acc_unbiased_train = 0.5*(TPR_train + TNR_train)\n",
    "print('Classification accuracy         =', classified_metric_unbiased_train.accuracy())\n",
    "print('Balanced classification accuracy=', bal_acc_unbiased_train)\n",
    "print('Disparate impact                =', classified_metric_unbiased_train.disparate_impact())\n",
    "print('Equal opportunity difference    =', classified_metric_unbiased_train.equal_opportunity_difference())\n",
    "print('Average odds difference         =', classified_metric_unbiased_train.average_odds_difference())\n",
    "print('Theil_index                     =', classified_metric_unbiased_train.theil_index())\n",
    "\n",
    "display(Markdown(\"#### Unbiased test dataset - CLassification Metrics\"))\n",
    "TPR_test = classified_metric_unbiased_test.true_positive_rate()\n",
    "TNR_test = classified_metric_unbiased_test.true_negative_rate()\n",
    "bal_acc_unbiased_test = 0.5*(TPR_test+TNR_test)\n",
    "print('Classification accuracy         =', classified_metric_unbiased_test.accuracy())\n",
    "print('Balanced classification accuracy=', bal_acc_unbiased_test)\n",
    "print('Disparate impact                =', classified_metric_unbiased_test.disparate_impact())\n",
    "print('Equal opportunity difference    =', classified_metric_unbiased_test.equal_opportunity_difference())\n",
    "print('Average odds difference         =', classified_metric_unbiased_test.average_odds_difference())\n",
    "print('Theil_index                     =', classified_metric_unbiased_test.theil_index())"
   ]
  },
  {
   "cell_type": "code",
   "execution_count": 28,
   "metadata": {},
   "outputs": [
    {
     "name": "stdout",
     "output_type": "stream",
     "text": [
      "Model Accuracy for Log Reg and RFC after bias transformation:\n",
      "Biased Logistic regression validation accuracy: 0.9034701607124578\n",
      "Biased Random Forest       validation accuracy: 0.9175964786569761\n",
      "\n",
      "Biased Balanced accuracy\n",
      "Biased Logistic regression balanced accuracy  : 0.7480738426444882\n",
      "Biased Random Forest       balanced accuracy  : 0.7403673011664975\n"
     ]
    }
   ],
   "source": [
    "# Determine the after-transformation model accuracy for Logistic Regression and Random Forest Classifiers\n",
    "X_train = Adult_train_df.drop(lab,axis=1)\n",
    "y_train = Adult_train_df[lab]\n",
    "X_test  = Adult_test_df.drop(lab,axis=1)\n",
    "y_test  = Adult_test_df[lab]\n",
    "\n",
    "UnbiasedLogModel = LogisticRegression(random_state=101)\n",
    "UnbiasedRfcModel = RandomForestClassifier(n_estimators=100,max_depth=4,random_state=101)\n",
    "UnbiasedLogModel.fit(X_train, y_train) \n",
    "UnbiasedRfcModel.fit(X_train, y_train) \n",
    "UnbiasedLog_pred = UnbiasedLogModel.predict(X_test)\n",
    "UnbiasedRfc_pred = UnbiasedRfcModel.predict(X_test)\n",
    "\n",
    "# Now get Logistic Regression and Random Forest Clasisfication performancce of unbiased data\n",
    "print('Model Accuracy for Log Reg and RFC after bias transformation:')\n",
    "print(f\"Biased Logistic regression validation accuracy: {UnbiasedLogModel.score(X_test, y_test)}\")\n",
    "print(f\"Biased Random Forest       validation accuracy: {UnbiasedRfcModel.score(X_test, y_test)}\")\n",
    "print('')\n",
    "print('Biased Balanced accuracy')\n",
    "print(f\"Biased Logistic regression balanced accuracy  : {balanced_accuracy_score(y_test, UnbiasedLog_pred)}\")\n",
    "print(f\"Biased Random Forest       balanced accuracy  : {balanced_accuracy_score(y_test, UnbiasedRfc_pred)}\")"
   ]
  },
  {
   "cell_type": "code",
   "execution_count": 29,
   "metadata": {},
   "outputs": [
    {
     "name": "stdout",
     "output_type": "stream",
     "text": [
      "Model Accuracy for predicting the Sensitive Variable before bias transformation:\n",
      "Biased Logistic regression validation accuracy: 0.7636400859862832\n",
      "Biased Random Forest       validation accuracy: 0.7946565666905517\n",
      "\n",
      "Biased Balanced accuracy\n",
      "Biased Logistic regression balanced accuracy  : 0.6898084327227013\n",
      "Biased Random Forest       balanced accuracy  : 0.7525725712779185\n"
     ]
    }
   ],
   "source": [
    "# Finally test whether it is possible to predict the Sensitive Variable from the transformed dataset\n",
    "X_se_train = Adult_train_df.drop(protected_attr,axis=1)\n",
    "y_se_train = Adult_train_df[protected_attr]\n",
    "X_se_test  = Adult_test_df.drop(protected_attr,axis=1)\n",
    "y_se_test  = Adult_test_df[protected_attr]\n",
    "\n",
    "Se_unbiasedLogModel = LogisticRegression(random_state=101)\n",
    "Se_unbiasedRfcModel = RandomForestClassifier(n_estimators=100,max_depth=4,random_state=101)\n",
    "Se_unbiasedLogModel.fit(X_se_train, y_se_train) \n",
    "Se_unbiasedRfcModel.fit(X_se_train, y_se_train) \n",
    "yseLog_pred =  Se_unbiasedLogModel.predict(X_se_test)\n",
    "yseRfc_pred =  Se_unbiasedRfcModel.predict(X_se_test)\n",
    "# Now test whether we can predict Gender from the test dataset\n",
    "print('Model Accuracy for predicting the Sensitive Variable before bias transformation:')\n",
    "print(f\"Biased Logistic regression validation accuracy: {Se_unbiasedLogModel.score(X_se_test, y_se_test)}\")\n",
    "print(f\"Biased Random Forest       validation accuracy: {Se_unbiasedRfcModel.score(X_se_test, y_se_test)}\")\n",
    "print('')\n",
    "print('Biased Balanced accuracy')\n",
    "print(f\"Biased Logistic regression balanced accuracy  : {balanced_accuracy_score(y_se_test, yseLog_pred)}\")\n",
    "print(f\"Biased Random Forest       balanced accuracy  : {balanced_accuracy_score(y_se_test, yseRfc_pred)}\")"
   ]
  },
  {
   "cell_type": "code",
   "execution_count": 30,
   "metadata": {},
   "outputs": [
    {
     "name": "stdout",
     "output_type": "stream",
     "text": [
      "Predicted Training After - Income value counts:\n",
      "0.0    32897\n",
      "1.0     6176\n",
      "Name: Income, dtype: int64\n",
      "Predicted Training After - Gender value counts:\n",
      "1.0    26052\n",
      "0.0    13021\n",
      "Name: Gender, dtype: int64\n"
     ]
    }
   ],
   "source": [
    "print('Predicted Training After - Income value counts:')\n",
    "print(Adult_train_df.Income.value_counts())\n",
    "print('Predicted Training After - Gender value counts:')\n",
    "print(Adult_train_df.Gender.value_counts())"
   ]
  },
  {
   "cell_type": "code",
   "execution_count": 31,
   "metadata": {},
   "outputs": [
    {
     "name": "stdout",
     "output_type": "stream",
     "text": [
      "Predicted Test After - Income value counts:\n",
      "0.0    8247\n",
      "1.0    1522\n",
      "Name: Income, dtype: int64\n",
      "Predicted Test After - Gender value counts:\n",
      "1.0    6598\n",
      "0.0    3171\n",
      "Name: Gender, dtype: int64\n"
     ]
    }
   ],
   "source": [
    "print('Predicted Test After - Income value counts:')\n",
    "print(Adult_test_df.Income.value_counts())\n",
    "print('Predicted Test After - Gender value counts:')\n",
    "print(Adult_test_df.Gender.value_counts())"
   ]
  }
 ],
 "metadata": {
  "kernelspec": {
   "display_name": "Python 3",
   "language": "python",
   "name": "python3"
  },
  "language_info": {
   "codemirror_mode": {
    "name": "ipython",
    "version": 3
   },
   "file_extension": ".py",
   "mimetype": "text/x-python",
   "name": "python",
   "nbconvert_exporter": "python",
   "pygments_lexer": "ipython3",
   "version": "3.7.3"
  }
 },
 "nbformat": 4,
 "nbformat_minor": 2
}
