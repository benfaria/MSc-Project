{
 "cells": [
  {
   "cell_type": "code",
   "execution_count": 1,
   "metadata": {},
   "outputs": [],
   "source": [
    "# To be run after Adult-Data-Prep\n",
    "# Import Data handling/display libraries\n",
    "import sys\n",
    "import pandas as pd\n",
    "import numpy  as np \n",
    "import matplotlib.pyplot as plt\n",
    "import tensorflow as tf\n",
    "from sklearn.model_selection import train_test_split\n",
    "from sklearn.ensemble      import RandomForestClassifier\n",
    "from sklearn.linear_model  import LogisticRegression\n",
    "from sklearn.preprocessing import StandardScaler, MinMaxScaler\n",
    "from sklearn.metrics       import accuracy_score\n",
    "from sklearn.metrics       import balanced_accuracy_score\n",
    "from sklearn.metrics       import auc, roc_auc_score, roc_curve, classification_report, confusion_matrix\n",
    "from IPython.display       import Markdown, display\n",
    "# Import IBM's AI Fairness tooolbox\n",
    "from aif360.datasets       import BinaryLabelDataset\n",
    "from aif360.metrics        import BinaryLabelDatasetMetric\n",
    "from aif360.metrics        import ClassificationMetric\n",
    "from aif360.metrics.utils  import compute_boolean_conditioning_vector\n",
    "#from aif360.algorithms.preprocessing.optim_preproc_helpers.data_preproc_functions import load_preproc_data_adult, load_preproc_data_compas, load_preproc_data_Adult\n",
    "from aif360.algorithms.inprocessing.adversarial_debiasing import AdversarialDebiasing\n",
    "%matplotlib inline\n",
    "# Warnings will be used to silence various model warnings for tidier output\n",
    "import warnings\n",
    "warnings.filterwarnings('ignore')"
   ]
  },
  {
   "cell_type": "code",
   "execution_count": 2,
   "metadata": {},
   "outputs": [],
   "source": [
    "# Read the cleaned Adult dataset\n",
    "Adult_df = pd.read_csv('./input/adult-cleaned.csv')\n",
    "# The AIF demo drops the following columns - we'll try the same\n",
    "Adult_df.drop([\"Fnlwgt\"],axis=1,inplace=True)\n",
    "#Adult_df.drop([\"Fnlwgt\", \"NativeCountry\", \"Relationship\", \"MaritalStatus\"],axis=1,inplace=True)"
   ]
  },
  {
   "cell_type": "code",
   "execution_count": 3,
   "metadata": {},
   "outputs": [],
   "source": [
    "# Set privileged (1)/ unprivileged (0)/ favourable (1) / unfavourable values (0)\n",
    "protected_attr      = 'Gender'\n",
    "priv_grp            = 1  # Males \n",
    "unpriv_grp          = 0  # Females  \n",
    "lab                 = 'Income'\n",
    "fav_label           = 1 # Income over £50K\n",
    "unfav_label         = 0 # Income under £50K\n",
    "privileged_groups   = [{protected_attr: priv_grp}]   # Males\n",
    "unprivileged_groups = [{protected_attr: unpriv_grp}] # Females"
   ]
  },
  {
   "cell_type": "code",
   "execution_count": 4,
   "metadata": {},
   "outputs": [],
   "source": [
    "# Create the traoning and test splits\n",
    "X = Adult_df.drop(lab,axis=1)\n",
    "y = Adult_df[lab]"
   ]
  },
  {
   "cell_type": "code",
   "execution_count": 5,
   "metadata": {},
   "outputs": [],
   "source": [
    "# Create a Binary Label Dataset to use with AIF360 APIs\n",
    "Adult_bld = BinaryLabelDataset(df=pd.concat((X, y), axis=1),\n",
    "                                label_names=[lab], protected_attribute_names=[protected_attr],\n",
    "                                favorable_label=fav_label, unfavorable_label=unfav_label)"
   ]
  },
  {
   "cell_type": "code",
   "execution_count": 6,
   "metadata": {},
   "outputs": [],
   "source": [
    "# Create train and test datasets\n",
    "Adult_train_bld, Adult_test_bld = Adult_bld.split([0.8], shuffle=True)"
   ]
  },
  {
   "cell_type": "code",
   "execution_count": 7,
   "metadata": {},
   "outputs": [],
   "source": [
    "#Scale the binary labelled datasets\n",
    "min_max_scaler = MinMaxScaler()\n",
    "Adult_train_bld.features = min_max_scaler.fit_transform(Adult_train_bld.features)\n",
    "Adult_test_bld.features  = min_max_scaler.fit_transform(Adult_test_bld.features)"
   ]
  },
  {
   "cell_type": "code",
   "execution_count": 8,
   "metadata": {},
   "outputs": [],
   "source": [
    "# Convert the train and test datasets to dataframes\n",
    "Adult_train_df, d = Adult_train_bld.convert_to_dataframe(de_dummy_code=False, sep='=', set_category=False)\n",
    "Adult_test_df,  d = Adult_test_bld.convert_to_dataframe(de_dummy_code=False, sep='=', set_category=False)"
   ]
  },
  {
   "cell_type": "code",
   "execution_count": 9,
   "metadata": {},
   "outputs": [
    {
     "name": "stdout",
     "output_type": "stream",
     "text": [
      "Biased Logistic regression validation accuracy: 0.8229092025795884\n",
      "Biased Random Forest       validation accuracy: 0.8341693110860886\n",
      "\n",
      "Biased Logistic regression balanced accuracy  : 0.6811838121179303\n",
      "Biased Random forest balanced accuracy        : 0.666795509486613\n"
     ]
    }
   ],
   "source": [
    "# Determine the baseline model accuracy for Logistic Regression and Random Forest Classifiers\n",
    "X_train = Adult_train_df.drop(lab,axis=1)\n",
    "y_train = Adult_train_df[lab]\n",
    "X_test  = Adult_test_df.drop(lab,axis=1)\n",
    "y_test  = Adult_test_df[lab]\n",
    "BiasedLogModel = LogisticRegression(random_state=101)\n",
    "BiasedRfcModel = RandomForestClassifier(n_estimators=100,max_depth=4,random_state=101)\n",
    "BiasedLogModel.fit(X_train, y_train) \n",
    "BiasedRfcModel.fit(X_train, y_train)\n",
    "BiasedLogPredictions = BiasedLogModel.predict(X_test)\n",
    "BiasedRfcPredictions = BiasedRfcModel.predict(X_test)\n",
    "print(f\"Biased Logistic regression validation accuracy: {BiasedLogModel.score(X_test, y_test)}\")\n",
    "print(f\"Biased Random Forest       validation accuracy: {BiasedRfcModel.score(X_test, y_test)}\")\n",
    "print('')\n",
    "print(f\"Biased Logistic regression balanced accuracy  : {balanced_accuracy_score(y_test, BiasedLogPredictions)}\")\n",
    "print(f\"Biased Random forest balanced accuracy        : {balanced_accuracy_score(y_test, BiasedRfcPredictions)}\")"
   ]
  },
  {
   "cell_type": "code",
   "execution_count": 10,
   "metadata": {},
   "outputs": [
    {
     "name": "stdout",
     "output_type": "stream",
     "text": [
      "Training Before - Income value counts:\n",
      "0.0    29671\n",
      "1.0     9402\n",
      "Name: Income, dtype: int64\n",
      "Training Before - Gender value counts:\n",
      "1.0    26123\n",
      "0.0    12950\n",
      "Name: Gender, dtype: int64\n"
     ]
    }
   ],
   "source": [
    "print('Training Before - Income value counts:')\n",
    "print(Adult_train_df.Income.value_counts())\n",
    "print('Training Before - Gender value counts:')\n",
    "print(Adult_train_df.Gender.value_counts())"
   ]
  },
  {
   "cell_type": "code",
   "execution_count": 11,
   "metadata": {},
   "outputs": [
    {
     "name": "stdout",
     "output_type": "stream",
     "text": [
      "Test Before - Income value counts:\n",
      "0.0    7484\n",
      "1.0    2285\n",
      "Name: Income, dtype: int64\n",
      "Test Before - Gender value counts:\n",
      "1.0    6527\n",
      "0.0    3242\n",
      "Name: Gender, dtype: int64\n"
     ]
    }
   ],
   "source": [
    "print('Test Before - Income value counts:')\n",
    "print(Adult_test_df.Income.value_counts())\n",
    "print('Test Before - Gender value counts:')\n",
    "print(Adult_test_df.Gender.value_counts())"
   ]
  },
  {
   "cell_type": "code",
   "execution_count": 12,
   "metadata": {},
   "outputs": [],
   "source": [
    "# Create the binary label dataset metric class for the training dataset\n",
    "metric_train_bld = BinaryLabelDatasetMetric(Adult_train_bld, \n",
    "                                            unprivileged_groups=unprivileged_groups,\n",
    "                                            privileged_groups=privileged_groups)\n",
    "metric_test_bld = BinaryLabelDatasetMetric(Adult_test_bld, \n",
    "                                           unprivileged_groups=unprivileged_groups,\n",
    "                                           privileged_groups=privileged_groups)"
   ]
  },
  {
   "cell_type": "code",
   "execution_count": 13,
   "metadata": {},
   "outputs": [
    {
     "data": {
      "text/markdown": [
       "#### Orig training dataset"
      ],
      "text/plain": [
       "<IPython.core.display.Markdown object>"
      ]
     },
     "metadata": {},
     "output_type": "display_data"
    },
    {
     "name": "stdout",
     "output_type": "stream",
     "text": [
      "Number of instances           : 39073.0\n",
      "Base Rate                     : 0.2406265195915338\n",
      "Consistency                   : [0.83187879]\n",
      "Disparate Impact              : 0.3642343635161315\n",
      "Mean Difference               : -0.19382297320206443\n",
      "Statistical Parity Difference : -0.19382297320206443\n"
     ]
    },
    {
     "data": {
      "text/markdown": [
       "#### Orig test dataset"
      ],
      "text/plain": [
       "<IPython.core.display.Markdown object>"
      ]
     },
     "metadata": {},
     "output_type": "display_data"
    },
    {
     "name": "stdout",
     "output_type": "stream",
     "text": [
      "Number of instances           : 9769.0\n",
      "Base Rate                     : 0.2339031630668441\n",
      "Consistency                   : [0.8303204]\n",
      "Disparate Impact              : 0.34103899244625147\n",
      "Mean Difference               : -0.19727436935192655\n",
      "Statistical Parity Difference : -0.19727436935192655\n"
     ]
    }
   ],
   "source": [
    "display(Markdown(\"#### Orig training dataset\"))\n",
    "print('Number of instances           :', metric_train_bld.num_instances())\n",
    "print('Base Rate                     :', metric_train_bld.base_rate())\n",
    "print('Consistency                   :', metric_train_bld.consistency())\n",
    "print('Disparate Impact              :', metric_train_bld.disparate_impact())\n",
    "print('Mean Difference               :', metric_train_bld.mean_difference())\n",
    "print('Statistical Parity Difference :', metric_train_bld.statistical_parity_difference()) \n",
    "display(Markdown(\"#### Orig test dataset\"))\n",
    "print('Number of instances           :', metric_test_bld.num_instances())\n",
    "print('Base Rate                     :', metric_test_bld.base_rate())\n",
    "print('Consistency                   :', metric_test_bld.consistency())\n",
    "print('Disparate Impact              :', metric_test_bld.disparate_impact())\n",
    "print('Mean Difference               :', metric_test_bld.mean_difference())\n",
    "print('Statistical Parity Difference :', metric_test_bld.statistical_parity_difference()) "
   ]
  },
  {
   "cell_type": "code",
   "execution_count": 14,
   "metadata": {},
   "outputs": [],
   "source": [
    "#Test for equality of odds. \n",
    "Test_Log_bld = Adult_test_bld.copy(deepcopy=True)\n",
    "Test_Rfc_bld = Adult_test_bld.copy(deepcopy=True)\n",
    "TestLogPredictions = BiasedLogModel.predict(X_test)\n",
    "TestRfcPredictions = BiasedRfcModel.predict(X_test)\n",
    "Test_Log_bld.labels= TestLogPredictions\n",
    "Test_Rfc_bld.labels= TestRfcPredictions\n",
    "\n",
    "c_Log_metric = ClassificationMetric(Adult_test_bld, Test_Log_bld, \n",
    "                                unprivileged_groups=unprivileged_groups,\n",
    "                                privileged_groups=privileged_groups)\n",
    "c_Rfc_metric = ClassificationMetric(Adult_test_bld, Test_Rfc_bld, \n",
    "                                unprivileged_groups=unprivileged_groups,\n",
    "                                privileged_groups=privileged_groups)"
   ]
  },
  {
   "cell_type": "code",
   "execution_count": 15,
   "metadata": {},
   "outputs": [
    {
     "name": "stdout",
     "output_type": "stream",
     "text": [
      "A value of 0 means that equality of odds has been met\n",
      "Log average_abs_odds_difference: 0.1571979383246626\n",
      "Log average_odds_difference:     -0.1571979383246626\n",
      " \n",
      "Rfc average_abs_odds_difference: 0.0874050035468085\n",
      "Rfc average_odds_difference:     -0.0874050035468085\n"
     ]
    }
   ],
   "source": [
    "print('A value of 0 means that equality of odds has been met')\n",
    "print('Log average_abs_odds_difference:', c_Log_metric.average_abs_odds_difference())\n",
    "print('Log average_odds_difference:    ', c_Log_metric.average_odds_difference())\n",
    "print(' ')\n",
    "print('Rfc average_abs_odds_difference:', c_Rfc_metric.average_abs_odds_difference())\n",
    "print('Rfc average_odds_difference:    ', c_Rfc_metric.average_odds_difference())"
   ]
  },
  {
   "cell_type": "code",
   "execution_count": 16,
   "metadata": {},
   "outputs": [],
   "source": [
    "# Test for Equality of odds\n",
    "Test_bld = BinaryLabelDataset(df=pd.concat((X_test, y_test),axis=1),\n",
    "                              label_names=[lab], protected_attribute_names=[protected_attr],\n",
    "                              favorable_label=fav_label, unfavorable_label=unfav_label)\n",
    "Test_Log_bld = Test_bld.copy(deepcopy=True)\n",
    "Test_Rfc_bld = Test_bld.copy(deepcopy=True)\n",
    "TestLogPredictions = BiasedLogModel.predict(X_test)\n",
    "TestRfcPredictions = BiasedRfcModel.predict(X_test)\n",
    "Test_Log_bld.labels= TestLogPredictions\n",
    "Test_Rfc_bld.labels= TestRfcPredictions#\n",
    "\n",
    "c_Log_metric = ClassificationMetric(Test_bld, Test_Log_bld, \n",
    "                                unprivileged_groups=unprivileged_groups,\n",
    "                                privileged_groups=privileged_groups)\n",
    "c_Rfc_metric = ClassificationMetric(Test_bld, Test_Rfc_bld, \n",
    "                                unprivileged_groups=unprivileged_groups,\n",
    "                                privileged_groups=privileged_groups)"
   ]
  },
  {
   "cell_type": "code",
   "execution_count": 17,
   "metadata": {},
   "outputs": [
    {
     "name": "stdout",
     "output_type": "stream",
     "text": [
      "A value of 0 means that equality of odds has been met\n",
      "Log average_abs_odds_difference: 0.1571979383246626\n",
      "Log average_odds_difference:     -0.1571979383246626\n",
      " \n",
      "Rfc average_abs_odds_difference: 0.0874050035468085\n",
      "Rfc average_odds_difference:     -0.0874050035468085\n"
     ]
    }
   ],
   "source": [
    "print('A value of 0 means that equality of odds has been met')\n",
    "print('Log average_abs_odds_difference:', c_Log_metric.average_abs_odds_difference())\n",
    "print('Log average_odds_difference:    ', c_Log_metric.average_odds_difference())\n",
    "print(' ')\n",
    "print('Rfc average_abs_odds_difference:', c_Rfc_metric.average_abs_odds_difference())\n",
    "print('Rfc average_odds_difference:    ', c_Rfc_metric.average_odds_difference())"
   ]
  },
  {
   "cell_type": "code",
   "execution_count": 18,
   "metadata": {},
   "outputs": [],
   "source": [
    "# Load post-processing algorithm that equalizes the odds\n",
    "# Learn parameters with debias set to FALSE!\n",
    "sess = tf.Session()\n",
    "biased_model = AdversarialDebiasing(privileged_groups = privileged_groups,\n",
    "                          unprivileged_groups = unprivileged_groups,\n",
    "                          scope_name='plain_classifier',\n",
    "                          debias=False,\n",
    "                          sess=sess)"
   ]
  },
  {
   "cell_type": "code",
   "execution_count": 19,
   "metadata": {},
   "outputs": [
    {
     "name": "stderr",
     "output_type": "stream",
     "text": [
      "WARNING: Logging before flag parsing goes to stderr.\n",
      "W0914 00:10:32.532166 11872 deprecation_wrapper.py:119] From c:\\users\\befaria\\appdata\\local\\continuum\\miniconda3\\lib\\site-packages\\aif360\\algorithms\\inprocessing\\adversarial_debiasing.py:138: The name tf.variable_scope is deprecated. Please use tf.compat.v1.variable_scope instead.\n",
      "\n",
      "W0914 00:10:32.535164 11872 deprecation_wrapper.py:119] From c:\\users\\befaria\\appdata\\local\\continuum\\miniconda3\\lib\\site-packages\\aif360\\algorithms\\inprocessing\\adversarial_debiasing.py:142: The name tf.placeholder is deprecated. Please use tf.compat.v1.placeholder instead.\n",
      "\n",
      "W0914 00:10:32.544165 11872 deprecation_wrapper.py:119] From c:\\users\\befaria\\appdata\\local\\continuum\\miniconda3\\lib\\site-packages\\aif360\\algorithms\\inprocessing\\adversarial_debiasing.py:87: The name tf.get_variable is deprecated. Please use tf.compat.v1.get_variable instead.\n",
      "\n",
      "W0914 00:10:35.898625 11872 lazy_loader.py:50] \n",
      "The TensorFlow contrib module will not be included in TensorFlow 2.0.\n",
      "For more information, please see:\n",
      "  * https://github.com/tensorflow/community/blob/master/rfcs/20180907-contrib-sunset.md\n",
      "  * https://github.com/tensorflow/addons\n",
      "  * https://github.com/tensorflow/io (for I/O related ops)\n",
      "If you depend on functionality not listed there, please file an issue.\n",
      "\n",
      "W0914 00:10:35.933672 11872 deprecation.py:506] From c:\\users\\befaria\\appdata\\local\\continuum\\miniconda3\\lib\\site-packages\\aif360\\algorithms\\inprocessing\\adversarial_debiasing.py:92: calling dropout (from tensorflow.python.ops.nn_ops) with keep_prob is deprecated and will be removed in a future version.\n",
      "Instructions for updating:\n",
      "Please use `rate` instead of `keep_prob`. Rate should be set to `rate = 1 - keep_prob`.\n",
      "W0914 00:10:36.014673 11872 deprecation.py:323] From c:\\users\\befaria\\appdata\\local\\continuum\\miniconda3\\lib\\site-packages\\tensorflow\\python\\ops\\nn_impl.py:180: add_dispatch_support.<locals>.wrapper (from tensorflow.python.ops.array_ops) is deprecated and will be removed in a future version.\n",
      "Instructions for updating:\n",
      "Use tf.where in 2.0, which has the same broadcast rule as np.where\n",
      "W0914 00:10:36.037672 11872 deprecation_wrapper.py:119] From c:\\users\\befaria\\appdata\\local\\continuum\\miniconda3\\lib\\site-packages\\aif360\\algorithms\\inprocessing\\adversarial_debiasing.py:160: The name tf.train.exponential_decay is deprecated. Please use tf.compat.v1.train.exponential_decay instead.\n",
      "\n",
      "W0914 00:10:36.065679 11872 deprecation_wrapper.py:119] From c:\\users\\befaria\\appdata\\local\\continuum\\miniconda3\\lib\\site-packages\\aif360\\algorithms\\inprocessing\\adversarial_debiasing.py:162: The name tf.train.AdamOptimizer is deprecated. Please use tf.compat.v1.train.AdamOptimizer instead.\n",
      "\n",
      "W0914 00:10:36.067674 11872 deprecation_wrapper.py:119] From c:\\users\\befaria\\appdata\\local\\continuum\\miniconda3\\lib\\site-packages\\aif360\\algorithms\\inprocessing\\adversarial_debiasing.py:166: The name tf.trainable_variables is deprecated. Please use tf.compat.v1.trainable_variables instead.\n",
      "\n",
      "W0914 00:10:36.444675 11872 deprecation_wrapper.py:119] From c:\\users\\befaria\\appdata\\local\\continuum\\miniconda3\\lib\\site-packages\\aif360\\algorithms\\inprocessing\\adversarial_debiasing.py:187: The name tf.global_variables_initializer is deprecated. Please use tf.compat.v1.global_variables_initializer instead.\n",
      "\n"
     ]
    },
    {
     "name": "stdout",
     "output_type": "stream",
     "text": [
      "epoch 0; iter: 0; batch classifier loss: 0.662015\n",
      "epoch 0; iter: 200; batch classifier loss: 0.460970\n",
      "epoch 1; iter: 0; batch classifier loss: 0.392080\n",
      "epoch 1; iter: 200; batch classifier loss: 0.354779\n",
      "epoch 2; iter: 0; batch classifier loss: 0.396746\n",
      "epoch 2; iter: 200; batch classifier loss: 0.273991\n",
      "epoch 3; iter: 0; batch classifier loss: 0.311612\n",
      "epoch 3; iter: 200; batch classifier loss: 0.274908\n",
      "epoch 4; iter: 0; batch classifier loss: 0.310346\n",
      "epoch 4; iter: 200; batch classifier loss: 0.296020\n",
      "epoch 5; iter: 0; batch classifier loss: 0.345009\n",
      "epoch 5; iter: 200; batch classifier loss: 0.240544\n",
      "epoch 6; iter: 0; batch classifier loss: 0.327614\n",
      "epoch 6; iter: 200; batch classifier loss: 0.283488\n",
      "epoch 7; iter: 0; batch classifier loss: 0.328729\n",
      "epoch 7; iter: 200; batch classifier loss: 0.328893\n",
      "epoch 8; iter: 0; batch classifier loss: 0.307173\n",
      "epoch 8; iter: 200; batch classifier loss: 0.374340\n",
      "epoch 9; iter: 0; batch classifier loss: 0.265983\n",
      "epoch 9; iter: 200; batch classifier loss: 0.357880\n",
      "epoch 10; iter: 0; batch classifier loss: 0.387893\n",
      "epoch 10; iter: 200; batch classifier loss: 0.292739\n",
      "epoch 11; iter: 0; batch classifier loss: 0.359094\n",
      "epoch 11; iter: 200; batch classifier loss: 0.336354\n",
      "epoch 12; iter: 0; batch classifier loss: 0.307505\n",
      "epoch 12; iter: 200; batch classifier loss: 0.280938\n",
      "epoch 13; iter: 0; batch classifier loss: 0.346154\n",
      "epoch 13; iter: 200; batch classifier loss: 0.319709\n",
      "epoch 14; iter: 0; batch classifier loss: 0.253323\n",
      "epoch 14; iter: 200; batch classifier loss: 0.407184\n",
      "epoch 15; iter: 0; batch classifier loss: 0.332260\n",
      "epoch 15; iter: 200; batch classifier loss: 0.298376\n",
      "epoch 16; iter: 0; batch classifier loss: 0.305947\n",
      "epoch 16; iter: 200; batch classifier loss: 0.355462\n",
      "epoch 17; iter: 0; batch classifier loss: 0.298793\n",
      "epoch 17; iter: 200; batch classifier loss: 0.326774\n",
      "epoch 18; iter: 0; batch classifier loss: 0.269738\n",
      "epoch 18; iter: 200; batch classifier loss: 0.339034\n",
      "epoch 19; iter: 0; batch classifier loss: 0.365272\n",
      "epoch 19; iter: 200; batch classifier loss: 0.272094\n",
      "epoch 20; iter: 0; batch classifier loss: 0.410533\n",
      "epoch 20; iter: 200; batch classifier loss: 0.421670\n",
      "epoch 21; iter: 0; batch classifier loss: 0.227064\n",
      "epoch 21; iter: 200; batch classifier loss: 0.355496\n",
      "epoch 22; iter: 0; batch classifier loss: 0.345692\n",
      "epoch 22; iter: 200; batch classifier loss: 0.322051\n",
      "epoch 23; iter: 0; batch classifier loss: 0.347169\n",
      "epoch 23; iter: 200; batch classifier loss: 0.291485\n",
      "epoch 24; iter: 0; batch classifier loss: 0.342073\n",
      "epoch 24; iter: 200; batch classifier loss: 0.294207\n",
      "epoch 25; iter: 0; batch classifier loss: 0.271750\n",
      "epoch 25; iter: 200; batch classifier loss: 0.306705\n",
      "epoch 26; iter: 0; batch classifier loss: 0.310454\n",
      "epoch 26; iter: 200; batch classifier loss: 0.398183\n",
      "epoch 27; iter: 0; batch classifier loss: 0.359604\n",
      "epoch 27; iter: 200; batch classifier loss: 0.381149\n",
      "epoch 28; iter: 0; batch classifier loss: 0.288888\n",
      "epoch 28; iter: 200; batch classifier loss: 0.304959\n",
      "epoch 29; iter: 0; batch classifier loss: 0.316210\n",
      "epoch 29; iter: 200; batch classifier loss: 0.271655\n",
      "epoch 30; iter: 0; batch classifier loss: 0.343499\n",
      "epoch 30; iter: 200; batch classifier loss: 0.273052\n",
      "epoch 31; iter: 0; batch classifier loss: 0.289608\n",
      "epoch 31; iter: 200; batch classifier loss: 0.304479\n",
      "epoch 32; iter: 0; batch classifier loss: 0.306639\n",
      "epoch 32; iter: 200; batch classifier loss: 0.394645\n",
      "epoch 33; iter: 0; batch classifier loss: 0.367593\n",
      "epoch 33; iter: 200; batch classifier loss: 0.309428\n",
      "epoch 34; iter: 0; batch classifier loss: 0.299573\n",
      "epoch 34; iter: 200; batch classifier loss: 0.360168\n",
      "epoch 35; iter: 0; batch classifier loss: 0.266944\n",
      "epoch 35; iter: 200; batch classifier loss: 0.373961\n",
      "epoch 36; iter: 0; batch classifier loss: 0.357873\n",
      "epoch 36; iter: 200; batch classifier loss: 0.328840\n",
      "epoch 37; iter: 0; batch classifier loss: 0.307658\n",
      "epoch 37; iter: 200; batch classifier loss: 0.336985\n",
      "epoch 38; iter: 0; batch classifier loss: 0.364334\n",
      "epoch 38; iter: 200; batch classifier loss: 0.345085\n",
      "epoch 39; iter: 0; batch classifier loss: 0.353078\n",
      "epoch 39; iter: 200; batch classifier loss: 0.295744\n",
      "epoch 40; iter: 0; batch classifier loss: 0.292631\n",
      "epoch 40; iter: 200; batch classifier loss: 0.310848\n",
      "epoch 41; iter: 0; batch classifier loss: 0.378289\n",
      "epoch 41; iter: 200; batch classifier loss: 0.364243\n",
      "epoch 42; iter: 0; batch classifier loss: 0.339196\n",
      "epoch 42; iter: 200; batch classifier loss: 0.330242\n",
      "epoch 43; iter: 0; batch classifier loss: 0.372207\n",
      "epoch 43; iter: 200; batch classifier loss: 0.279792\n",
      "epoch 44; iter: 0; batch classifier loss: 0.290028\n",
      "epoch 44; iter: 200; batch classifier loss: 0.281922\n",
      "epoch 45; iter: 0; batch classifier loss: 0.349116\n",
      "epoch 45; iter: 200; batch classifier loss: 0.312267\n",
      "epoch 46; iter: 0; batch classifier loss: 0.253667\n",
      "epoch 46; iter: 200; batch classifier loss: 0.331860\n",
      "epoch 47; iter: 0; batch classifier loss: 0.271061\n",
      "epoch 47; iter: 200; batch classifier loss: 0.282139\n",
      "epoch 48; iter: 0; batch classifier loss: 0.277112\n",
      "epoch 48; iter: 200; batch classifier loss: 0.300392\n",
      "epoch 49; iter: 0; batch classifier loss: 0.288904\n",
      "epoch 49; iter: 200; batch classifier loss: 0.387561\n"
     ]
    },
    {
     "data": {
      "text/plain": [
       "<aif360.algorithms.inprocessing.adversarial_debiasing.AdversarialDebiasing at 0x20195752b38>"
      ]
     },
     "execution_count": 19,
     "metadata": {},
     "output_type": "execute_result"
    }
   ],
   "source": [
    "biased_model.fit(Adult_train_bld)"
   ]
  },
  {
   "cell_type": "code",
   "execution_count": 20,
   "metadata": {},
   "outputs": [],
   "source": [
    "# Apply the plain model to test data\n",
    "Adult_biased_train = biased_model.predict(Adult_train_bld)\n",
    "Adult_biased_test  = biased_model.predict(Adult_test_bld)\n",
    "# And convert them to dataframes\n",
    "Adult_train_df, d = Adult_biased_train.convert_to_dataframe(de_dummy_code=False, sep='=', set_category=False)\n",
    "Adult_test_df, d  = Adult_biased_test.convert_to_dataframe(de_dummy_code=False, sep='=', set_category=False)"
   ]
  },
  {
   "cell_type": "code",
   "execution_count": 21,
   "metadata": {},
   "outputs": [
    {
     "name": "stdout",
     "output_type": "stream",
     "text": [
      "Model Accuracy for predicting the Sensitive Variable before bias transformation:\n",
      "Biased Logistic regression validation accuracy: 0.7593407718292559\n",
      "Biased Random Forest       validation accuracy: 0.7950660251816972\n",
      "\n",
      "Biased Balanced accuracy\n",
      "Biased Logistic regression balanced accuracy  : 0.6949322734482977\n",
      "Biased Random Forest       balanced accuracy  : 0.7524052559354126\n"
     ]
    }
   ],
   "source": [
    "# Test whether it is possible to predict the Sensitive Variable from the biased dataset\n",
    "X_se_train = Adult_train_df.drop(protected_attr,axis=1)\n",
    "y_se_train = Adult_train_df[protected_attr]\n",
    "X_se_test  = Adult_test_df.drop(protected_attr,axis=1)\n",
    "y_se_test  = Adult_test_df[protected_attr]\n",
    "\n",
    "Se_BiasedLogModel = LogisticRegression(random_state=101)\n",
    "Se_BiasedRfcModel = RandomForestClassifier(n_estimators=100,max_depth=4,random_state=101)\n",
    "Se_BiasedLogModel.fit(X_se_train, y_se_train) \n",
    "Se_BiasedRfcModel.fit(X_se_train, y_se_train) \n",
    "yseLog_pred =  Se_BiasedLogModel.predict(X_se_test)\n",
    "yseRfc_pred =  Se_BiasedRfcModel.predict(X_se_test)\n",
    "# Now test whether we can predict Gender from the test dataset\n",
    "print('Model Accuracy for predicting the Sensitive Variable before bias transformation:')\n",
    "print(f\"Biased Logistic regression validation accuracy: {Se_BiasedLogModel.score(X_se_test, y_se_test)}\")\n",
    "print(f\"Biased Random Forest       validation accuracy: {Se_BiasedRfcModel.score(X_se_test, y_se_test)}\")\n",
    "print('')\n",
    "print('Biased Balanced accuracy')\n",
    "print(f\"Biased Logistic regression balanced accuracy  : {balanced_accuracy_score(y_se_test, yseLog_pred)}\")\n",
    "print(f\"Biased Random Forest       balanced accuracy  : {balanced_accuracy_score(y_se_test, yseRfc_pred)}\")"
   ]
  },
  {
   "cell_type": "code",
   "execution_count": 22,
   "metadata": {},
   "outputs": [
    {
     "data": {
      "text/markdown": [
       "#### Plain model - without debiasing - dataset metrics"
      ],
      "text/plain": [
       "<IPython.core.display.Markdown object>"
      ]
     },
     "metadata": {},
     "output_type": "display_data"
    },
    {
     "data": {
      "text/markdown": [
       "#### Biased training dataset"
      ],
      "text/plain": [
       "<IPython.core.display.Markdown object>"
      ]
     },
     "metadata": {},
     "output_type": "display_data"
    },
    {
     "name": "stdout",
     "output_type": "stream",
     "text": [
      "Number of instances           : 39073.0\n",
      "Base Rate                     : 0.18700893199907864\n",
      "Consistency                   : [0.96169222]\n",
      "Disparate Impact              : 0.27299544550321436\n",
      "Mean Difference               : -0.17911424081236121\n",
      "Statistical Parity Difference : -0.17911424081236121\n"
     ]
    },
    {
     "data": {
      "text/markdown": [
       "#### Biased test dataset"
      ],
      "text/plain": [
       "<IPython.core.display.Markdown object>"
      ]
     },
     "metadata": {},
     "output_type": "display_data"
    },
    {
     "name": "stdout",
     "output_type": "stream",
     "text": [
      "Number of instances           : 9769.0\n",
      "Base Rate                     : 0.1876343535674071\n",
      "Consistency                   : [0.94765073]\n",
      "Disparate Impact              : 0.27034539704741606\n",
      "Mean Difference               : -0.18065295516644334\n",
      "Statistical Parity Difference : -0.18065295516644334\n"
     ]
    }
   ],
   "source": [
    "# Metrics for the dataset from plain model (without debiasing)\n",
    "display(Markdown(\"#### Plain model - without debiasing - dataset metrics\"))\n",
    "metric_biased_train = BinaryLabelDatasetMetric(Adult_biased_train, \n",
    "                             unprivileged_groups=unprivileged_groups,\n",
    "                             privileged_groups=privileged_groups)\n",
    "\n",
    "metric_biased_test = BinaryLabelDatasetMetric(Adult_biased_test, \n",
    "                            unprivileged_groups=unprivileged_groups,\n",
    "                            privileged_groups=privileged_groups)\n",
    "display(Markdown(\"#### Biased training dataset\"))\n",
    "print('Number of instances           :', metric_biased_train.num_instances())\n",
    "print('Base Rate                     :', metric_biased_train.base_rate())\n",
    "print('Consistency                   :', metric_biased_train.consistency())\n",
    "print('Disparate Impact              :', metric_biased_train.disparate_impact())\n",
    "print('Mean Difference               :', metric_biased_train.mean_difference())\n",
    "print('Statistical Parity Difference :', metric_biased_train.statistical_parity_difference()) \n",
    "display(Markdown(\"#### Biased test dataset\"))\n",
    "print('Number of instances           :', metric_biased_test.num_instances())\n",
    "print('Base Rate                     :', metric_biased_test.base_rate())\n",
    "print('Consistency                   :', metric_biased_test.consistency())\n",
    "print('Disparate Impact              :', metric_biased_test.disparate_impact())\n",
    "print('Mean Difference               :', metric_biased_test.mean_difference())\n",
    "print('Statistical Parity Difference :', metric_biased_test.statistical_parity_difference()) "
   ]
  },
  {
   "cell_type": "code",
   "execution_count": 23,
   "metadata": {},
   "outputs": [],
   "source": [
    "# Create the Classification metric for train and test\n",
    "classified_metric_biased_test = ClassificationMetric(Adult_train_bld, Adult_biased_train,\n",
    "                                       unprivileged_groups=unprivileged_groups,\n",
    "                                       privileged_groups=privileged_groups)\n",
    "classified_metric_biased_train = ClassificationMetric(Adult_test_bld, Adult_biased_test,\n",
    "                                       unprivileged_groups=unprivileged_groups,\n",
    "                                       privileged_groups=privileged_groups)"
   ]
  },
  {
   "cell_type": "code",
   "execution_count": 24,
   "metadata": {},
   "outputs": [
    {
     "data": {
      "text/markdown": [
       "#### Plain model - without debiasing - classification metrics"
      ],
      "text/plain": [
       "<IPython.core.display.Markdown object>"
      ]
     },
     "metadata": {},
     "output_type": "display_data"
    },
    {
     "data": {
      "text/markdown": [
       "#### Biased training dataset - CLassification Metrics"
      ],
      "text/plain": [
       "<IPython.core.display.Markdown object>"
      ]
     },
     "metadata": {},
     "output_type": "display_data"
    },
    {
     "name": "stdout",
     "output_type": "stream",
     "text": [
      "Classification accuracy         = 0.8505476507319071\n",
      "Balanced classification accuracy= 0.7571377947644984\n",
      "Disparate impact                = 0.27034539704741606\n",
      "Equal opportunity difference    = -0.11840921249153491\n",
      "Average odds difference         = -0.09800688115511055\n",
      "Theil_index                     = 0.12236454818045317\n"
     ]
    },
    {
     "data": {
      "text/markdown": [
       "#### Biased test dataset - CLassification Metrics"
      ],
      "text/plain": [
       "<IPython.core.display.Markdown object>"
      ]
     },
     "metadata": {},
     "output_type": "display_data"
    },
    {
     "name": "stdout",
     "output_type": "stream",
     "text": [
      "Classification accuracy         = 0.8533770122591048\n",
      "Balanced classification accuracy= 0.7613400345765948\n",
      "Disparate impact                = 0.27299544550321436\n",
      "Equal opportunity difference    = -0.12041617738795374\n",
      "Average odds difference         = -0.09760616252263601\n",
      "Theil_index                     = 0.1232273465918918\n"
     ]
    }
   ],
   "source": [
    "display(Markdown(\"#### Plain model - without debiasing - classification metrics\"))\n",
    "\n",
    "display(Markdown(\"#### Biased training dataset - CLassification Metrics\"))\n",
    "TPR_train = classified_metric_biased_train.true_positive_rate()\n",
    "TNR_train = classified_metric_biased_train.true_negative_rate()\n",
    "bal_acc_biased_train = 0.5*(TPR_train + TNR_train)\n",
    "print('Classification accuracy         =', classified_metric_biased_train.accuracy())\n",
    "print('Balanced classification accuracy=', bal_acc_biased_train)\n",
    "print('Disparate impact                =', classified_metric_biased_train.disparate_impact())\n",
    "print('Equal opportunity difference    =', classified_metric_biased_train.equal_opportunity_difference())\n",
    "print('Average odds difference         =', classified_metric_biased_train.average_odds_difference())\n",
    "print('Theil_index                     =', classified_metric_biased_train.theil_index())\n",
    "\n",
    "display(Markdown(\"#### Biased test dataset - CLassification Metrics\"))\n",
    "TPR_test = classified_metric_biased_test.true_positive_rate()\n",
    "TNR_test = classified_metric_biased_test.true_negative_rate()\n",
    "bal_acc_biased_test = 0.5*(TPR_test+TNR_test)\n",
    "print('Classification accuracy         =', classified_metric_biased_test.accuracy())\n",
    "print('Balanced classification accuracy=', bal_acc_biased_test)\n",
    "print('Disparate impact                =', classified_metric_biased_test.disparate_impact())\n",
    "print('Equal opportunity difference    =', classified_metric_biased_test.equal_opportunity_difference())\n",
    "print('Average odds difference         =', classified_metric_biased_test.average_odds_difference())\n",
    "print('Theil_index                     =', classified_metric_biased_test.theil_index())"
   ]
  },
  {
   "cell_type": "code",
   "execution_count": 25,
   "metadata": {},
   "outputs": [],
   "source": [
    "sess.close()\n",
    "tf.reset_default_graph()\n",
    "sess = tf.Session()"
   ]
  },
  {
   "cell_type": "code",
   "execution_count": 26,
   "metadata": {},
   "outputs": [],
   "source": [
    "unbiased_model = AdversarialDebiasing(privileged_groups = privileged_groups,\n",
    "                          unprivileged_groups = unprivileged_groups,\n",
    "                          scope_name='plain_classifier',\n",
    "                          debias=True,\n",
    "                          sess=sess)"
   ]
  },
  {
   "cell_type": "code",
   "execution_count": 27,
   "metadata": {},
   "outputs": [
    {
     "name": "stdout",
     "output_type": "stream",
     "text": [
      "epoch 0; iter: 0; batch classifier loss: 0.643776; batch adversarial loss: 0.672236\n",
      "epoch 0; iter: 200; batch classifier loss: 0.429696; batch adversarial loss: 0.656466\n",
      "epoch 1; iter: 0; batch classifier loss: 0.468778; batch adversarial loss: 0.638571\n",
      "epoch 1; iter: 200; batch classifier loss: 0.514125; batch adversarial loss: 0.677158\n",
      "epoch 2; iter: 0; batch classifier loss: 0.518629; batch adversarial loss: 0.661475\n",
      "epoch 2; iter: 200; batch classifier loss: 0.484642; batch adversarial loss: 0.667322\n",
      "epoch 3; iter: 0; batch classifier loss: 0.458394; batch adversarial loss: 0.626473\n",
      "epoch 3; iter: 200; batch classifier loss: 0.455095; batch adversarial loss: 0.651198\n",
      "epoch 4; iter: 0; batch classifier loss: 0.388452; batch adversarial loss: 0.612581\n",
      "epoch 4; iter: 200; batch classifier loss: 0.376831; batch adversarial loss: 0.627103\n",
      "epoch 5; iter: 0; batch classifier loss: 0.385795; batch adversarial loss: 0.670569\n",
      "epoch 5; iter: 200; batch classifier loss: 0.389292; batch adversarial loss: 0.651233\n",
      "epoch 6; iter: 0; batch classifier loss: 0.325439; batch adversarial loss: 0.654146\n",
      "epoch 6; iter: 200; batch classifier loss: 0.343711; batch adversarial loss: 0.616942\n",
      "epoch 7; iter: 0; batch classifier loss: 0.460565; batch adversarial loss: 0.605183\n",
      "epoch 7; iter: 200; batch classifier loss: 0.377014; batch adversarial loss: 0.635485\n",
      "epoch 8; iter: 0; batch classifier loss: 0.330897; batch adversarial loss: 0.578598\n",
      "epoch 8; iter: 200; batch classifier loss: 0.317810; batch adversarial loss: 0.589471\n",
      "epoch 9; iter: 0; batch classifier loss: 0.300385; batch adversarial loss: 0.651929\n",
      "epoch 9; iter: 200; batch classifier loss: 0.400390; batch adversarial loss: 0.629951\n",
      "epoch 10; iter: 0; batch classifier loss: 0.306071; batch adversarial loss: 0.592215\n",
      "epoch 10; iter: 200; batch classifier loss: 0.344484; batch adversarial loss: 0.610463\n",
      "epoch 11; iter: 0; batch classifier loss: 0.305226; batch adversarial loss: 0.587213\n",
      "epoch 11; iter: 200; batch classifier loss: 0.383931; batch adversarial loss: 0.627179\n",
      "epoch 12; iter: 0; batch classifier loss: 0.296426; batch adversarial loss: 0.630675\n",
      "epoch 12; iter: 200; batch classifier loss: 0.317093; batch adversarial loss: 0.660528\n",
      "epoch 13; iter: 0; batch classifier loss: 0.305974; batch adversarial loss: 0.649396\n",
      "epoch 13; iter: 200; batch classifier loss: 0.310781; batch adversarial loss: 0.602382\n",
      "epoch 14; iter: 0; batch classifier loss: 0.324496; batch adversarial loss: 0.574560\n",
      "epoch 14; iter: 200; batch classifier loss: 0.356350; batch adversarial loss: 0.640043\n",
      "epoch 15; iter: 0; batch classifier loss: 0.353001; batch adversarial loss: 0.672881\n",
      "epoch 15; iter: 200; batch classifier loss: 0.292570; batch adversarial loss: 0.596089\n",
      "epoch 16; iter: 0; batch classifier loss: 0.382258; batch adversarial loss: 0.611015\n",
      "epoch 16; iter: 200; batch classifier loss: 0.283301; batch adversarial loss: 0.649098\n",
      "epoch 17; iter: 0; batch classifier loss: 0.298145; batch adversarial loss: 0.657692\n",
      "epoch 17; iter: 200; batch classifier loss: 0.329367; batch adversarial loss: 0.660559\n",
      "epoch 18; iter: 0; batch classifier loss: 0.343618; batch adversarial loss: 0.629793\n",
      "epoch 18; iter: 200; batch classifier loss: 0.240733; batch adversarial loss: 0.634797\n",
      "epoch 19; iter: 0; batch classifier loss: 0.362203; batch adversarial loss: 0.620511\n",
      "epoch 19; iter: 200; batch classifier loss: 0.434987; batch adversarial loss: 0.607335\n",
      "epoch 20; iter: 0; batch classifier loss: 0.373582; batch adversarial loss: 0.605506\n",
      "epoch 20; iter: 200; batch classifier loss: 0.316646; batch adversarial loss: 0.631756\n",
      "epoch 21; iter: 0; batch classifier loss: 0.350620; batch adversarial loss: 0.595675\n",
      "epoch 21; iter: 200; batch classifier loss: 0.308975; batch adversarial loss: 0.569186\n",
      "epoch 22; iter: 0; batch classifier loss: 0.309944; batch adversarial loss: 0.583994\n",
      "epoch 22; iter: 200; batch classifier loss: 0.377060; batch adversarial loss: 0.592099\n",
      "epoch 23; iter: 0; batch classifier loss: 0.325525; batch adversarial loss: 0.654205\n",
      "epoch 23; iter: 200; batch classifier loss: 0.341235; batch adversarial loss: 0.605350\n",
      "epoch 24; iter: 0; batch classifier loss: 0.345678; batch adversarial loss: 0.616823\n",
      "epoch 24; iter: 200; batch classifier loss: 0.318281; batch adversarial loss: 0.615551\n",
      "epoch 25; iter: 0; batch classifier loss: 0.293686; batch adversarial loss: 0.630198\n",
      "epoch 25; iter: 200; batch classifier loss: 0.298436; batch adversarial loss: 0.709203\n",
      "epoch 26; iter: 0; batch classifier loss: 0.365927; batch adversarial loss: 0.659495\n",
      "epoch 26; iter: 200; batch classifier loss: 0.352072; batch adversarial loss: 0.640789\n",
      "epoch 27; iter: 0; batch classifier loss: 0.368080; batch adversarial loss: 0.598170\n",
      "epoch 27; iter: 200; batch classifier loss: 0.325440; batch adversarial loss: 0.605357\n",
      "epoch 28; iter: 0; batch classifier loss: 0.353433; batch adversarial loss: 0.578689\n",
      "epoch 28; iter: 200; batch classifier loss: 0.316888; batch adversarial loss: 0.654834\n",
      "epoch 29; iter: 0; batch classifier loss: 0.389594; batch adversarial loss: 0.617913\n",
      "epoch 29; iter: 200; batch classifier loss: 0.295858; batch adversarial loss: 0.631026\n",
      "epoch 30; iter: 0; batch classifier loss: 0.342490; batch adversarial loss: 0.650397\n",
      "epoch 30; iter: 200; batch classifier loss: 0.364253; batch adversarial loss: 0.629227\n",
      "epoch 31; iter: 0; batch classifier loss: 0.296629; batch adversarial loss: 0.711112\n",
      "epoch 31; iter: 200; batch classifier loss: 0.386919; batch adversarial loss: 0.648522\n",
      "epoch 32; iter: 0; batch classifier loss: 0.377993; batch adversarial loss: 0.634986\n",
      "epoch 32; iter: 200; batch classifier loss: 0.330010; batch adversarial loss: 0.604089\n",
      "epoch 33; iter: 0; batch classifier loss: 0.349829; batch adversarial loss: 0.614286\n",
      "epoch 33; iter: 200; batch classifier loss: 0.315925; batch adversarial loss: 0.647922\n",
      "epoch 34; iter: 0; batch classifier loss: 0.364470; batch adversarial loss: 0.601384\n",
      "epoch 34; iter: 200; batch classifier loss: 0.311447; batch adversarial loss: 0.718575\n",
      "epoch 35; iter: 0; batch classifier loss: 0.363086; batch adversarial loss: 0.607274\n",
      "epoch 35; iter: 200; batch classifier loss: 0.348328; batch adversarial loss: 0.618917\n",
      "epoch 36; iter: 0; batch classifier loss: 0.297368; batch adversarial loss: 0.689796\n",
      "epoch 36; iter: 200; batch classifier loss: 0.319617; batch adversarial loss: 0.619167\n",
      "epoch 37; iter: 0; batch classifier loss: 0.451388; batch adversarial loss: 0.626694\n",
      "epoch 37; iter: 200; batch classifier loss: 0.356043; batch adversarial loss: 0.640242\n",
      "epoch 38; iter: 0; batch classifier loss: 0.328628; batch adversarial loss: 0.658660\n",
      "epoch 38; iter: 200; batch classifier loss: 0.353961; batch adversarial loss: 0.613639\n",
      "epoch 39; iter: 0; batch classifier loss: 0.304417; batch adversarial loss: 0.662602\n",
      "epoch 39; iter: 200; batch classifier loss: 0.321918; batch adversarial loss: 0.652461\n",
      "epoch 40; iter: 0; batch classifier loss: 0.237114; batch adversarial loss: 0.656051\n",
      "epoch 40; iter: 200; batch classifier loss: 0.364300; batch adversarial loss: 0.626830\n",
      "epoch 41; iter: 0; batch classifier loss: 0.406831; batch adversarial loss: 0.638420\n",
      "epoch 41; iter: 200; batch classifier loss: 0.290451; batch adversarial loss: 0.644188\n",
      "epoch 42; iter: 0; batch classifier loss: 0.396746; batch adversarial loss: 0.655270\n",
      "epoch 42; iter: 200; batch classifier loss: 0.270129; batch adversarial loss: 0.587685\n",
      "epoch 43; iter: 0; batch classifier loss: 0.334824; batch adversarial loss: 0.574607\n",
      "epoch 43; iter: 200; batch classifier loss: 0.290507; batch adversarial loss: 0.605244\n",
      "epoch 44; iter: 0; batch classifier loss: 0.305619; batch adversarial loss: 0.658889\n",
      "epoch 44; iter: 200; batch classifier loss: 0.390326; batch adversarial loss: 0.588486\n",
      "epoch 45; iter: 0; batch classifier loss: 0.442317; batch adversarial loss: 0.643800\n",
      "epoch 45; iter: 200; batch classifier loss: 0.344530; batch adversarial loss: 0.590815\n",
      "epoch 46; iter: 0; batch classifier loss: 0.368264; batch adversarial loss: 0.646868\n",
      "epoch 46; iter: 200; batch classifier loss: 0.344081; batch adversarial loss: 0.571577\n",
      "epoch 47; iter: 0; batch classifier loss: 0.316454; batch adversarial loss: 0.625058\n",
      "epoch 47; iter: 200; batch classifier loss: 0.385086; batch adversarial loss: 0.667110\n"
     ]
    },
    {
     "name": "stdout",
     "output_type": "stream",
     "text": [
      "epoch 48; iter: 0; batch classifier loss: 0.321236; batch adversarial loss: 0.570988\n",
      "epoch 48; iter: 200; batch classifier loss: 0.325131; batch adversarial loss: 0.575273\n",
      "epoch 49; iter: 0; batch classifier loss: 0.405918; batch adversarial loss: 0.576333\n",
      "epoch 49; iter: 200; batch classifier loss: 0.302039; batch adversarial loss: 0.601762\n"
     ]
    },
    {
     "data": {
      "text/plain": [
       "<aif360.algorithms.inprocessing.adversarial_debiasing.AdversarialDebiasing at 0x2019af65320>"
      ]
     },
     "execution_count": 27,
     "metadata": {},
     "output_type": "execute_result"
    }
   ],
   "source": [
    "unbiased_model.fit(Adult_train_bld)"
   ]
  },
  {
   "cell_type": "code",
   "execution_count": 28,
   "metadata": {},
   "outputs": [],
   "source": [
    "Adult_unbiased_train = unbiased_model.predict(Adult_train_bld)\n",
    "Adult_unbiased_test  = unbiased_model.predict(Adult_test_bld)\n",
    "# And convert these to dataframes..\n",
    "Adult_train_df, d = Adult_unbiased_train.convert_to_dataframe(de_dummy_code=False, sep='=', set_category=False)\n",
    "Adult_test_df, d  = Adult_unbiased_test.convert_to_dataframe(de_dummy_code=False, sep='=', set_category=False)"
   ]
  },
  {
   "cell_type": "code",
   "execution_count": 29,
   "metadata": {},
   "outputs": [
    {
     "data": {
      "text/markdown": [
       "#### Plain model - after unbiasing - dataset metrics"
      ],
      "text/plain": [
       "<IPython.core.display.Markdown object>"
      ]
     },
     "metadata": {},
     "output_type": "display_data"
    },
    {
     "data": {
      "text/markdown": [
       "#### Biased training dataset"
      ],
      "text/plain": [
       "<IPython.core.display.Markdown object>"
      ]
     },
     "metadata": {},
     "output_type": "display_data"
    },
    {
     "name": "stdout",
     "output_type": "stream",
     "text": [
      "Number of instances           : 39073.0\n",
      "Base Rate                     : 0.1408389424922581\n",
      "Consistency                   : [0.95926087]\n",
      "Disparate Impact              : 0.8781273627752502\n",
      "Mean Difference               : -0.017886907748715347\n",
      "Statistical Parity Difference : -0.017886907748715347\n"
     ]
    },
    {
     "data": {
      "text/markdown": [
       "#### Biased test dataset"
      ],
      "text/plain": [
       "<IPython.core.display.Markdown object>"
      ]
     },
     "metadata": {},
     "output_type": "display_data"
    },
    {
     "name": "stdout",
     "output_type": "stream",
     "text": [
      "Number of instances           : 9769.0\n",
      "Base Rate                     : 0.1352236667007882\n",
      "Consistency                   : [0.94513256]\n",
      "Disparate Impact              : 0.8495148113199403\n",
      "Mean Difference               : -0.021418835649421694\n",
      "Statistical Parity Difference : -0.021418835649421694\n"
     ]
    }
   ],
   "source": [
    "# Metrics for the dataset from plain model (after unbiasing)\n",
    "display(Markdown(\"#### Plain model - after unbiasing - dataset metrics\"))\n",
    "metric_unbiased_train = BinaryLabelDatasetMetric(Adult_unbiased_train, \n",
    "                             unprivileged_groups=unprivileged_groups,\n",
    "                             privileged_groups=privileged_groups)\n",
    "\n",
    "metric_unbiased_test = BinaryLabelDatasetMetric(Adult_unbiased_test, \n",
    "                            unprivileged_groups=unprivileged_groups,\n",
    "                            privileged_groups=privileged_groups)\n",
    "display(Markdown(\"#### Biased training dataset\"))\n",
    "print('Number of instances           :', metric_unbiased_train.num_instances())\n",
    "print('Base Rate                     :', metric_unbiased_train.base_rate())\n",
    "print('Consistency                   :', metric_unbiased_train.consistency())\n",
    "print('Disparate Impact              :', metric_unbiased_train.disparate_impact())\n",
    "print('Mean Difference               :', metric_unbiased_train.mean_difference())\n",
    "print('Statistical Parity Difference :', metric_unbiased_train.statistical_parity_difference()) \n",
    "display(Markdown(\"#### Biased test dataset\"))\n",
    "print('Number of instances           :', metric_unbiased_test.num_instances())\n",
    "print('Base Rate                     :', metric_unbiased_test.base_rate())\n",
    "print('Consistency                   :', metric_unbiased_test.consistency())\n",
    "print('Disparate Impact              :', metric_unbiased_test.disparate_impact())\n",
    "print('Mean Difference               :', metric_unbiased_test.mean_difference())\n",
    "print('Statistical Parity Difference :', metric_unbiased_test.statistical_parity_difference()) "
   ]
  },
  {
   "cell_type": "code",
   "execution_count": 30,
   "metadata": {},
   "outputs": [],
   "source": [
    "# Create the Classification metric for train and test\n",
    "classified_metric_unbiased_train = ClassificationMetric(Adult_train_bld, Adult_unbiased_train,\n",
    "                                       unprivileged_groups=unprivileged_groups,\n",
    "                                       privileged_groups=privileged_groups)\n",
    "classified_metric_unbiased_test = ClassificationMetric(Adult_test_bld, Adult_unbiased_test,\n",
    "                                       unprivileged_groups=unprivileged_groups,\n",
    "                                       privileged_groups=privileged_groups)"
   ]
  },
  {
   "cell_type": "code",
   "execution_count": 31,
   "metadata": {},
   "outputs": [
    {
     "data": {
      "text/markdown": [
       "#### Plain model - after debiasing - classification metrics"
      ],
      "text/plain": [
       "<IPython.core.display.Markdown object>"
      ]
     },
     "metadata": {},
     "output_type": "display_data"
    },
    {
     "data": {
      "text/markdown": [
       "#### Unbiased training dataset - CLassification Metrics"
      ],
      "text/plain": [
       "<IPython.core.display.Markdown object>"
      ]
     },
     "metadata": {},
     "output_type": "display_data"
    },
    {
     "name": "stdout",
     "output_type": "stream",
     "text": [
      "Classification accuracy         = 0.8379699536764518\n",
      "Balanced classification accuracy= 0.7074920188873267\n",
      "Disparate impact                = 0.8781273627752502\n",
      "Equal opportunity difference    = 0.2892457994214578\n",
      "Average odds difference         = 0.15805039424103434\n",
      "Theil_index                     = 0.15305008646846033\n"
     ]
    },
    {
     "data": {
      "text/markdown": [
       "#### Unbiased test dataset - CLassification Metrics"
      ],
      "text/plain": [
       "<IPython.core.display.Markdown object>"
      ]
     },
     "metadata": {},
     "output_type": "display_data"
    },
    {
     "name": "stdout",
     "output_type": "stream",
     "text": [
      "Classification accuracy         = 0.8335551233493704\n",
      "Balanced classification accuracy= 0.6945163540717645\n",
      "Disparate impact                = 0.8495148113199403\n",
      "Equal opportunity difference    = 0.2635232708797818\n",
      "Average odds difference         = 0.14448229813805885\n",
      "Theil_index                     = 0.15600832650919857\n"
     ]
    }
   ],
   "source": [
    "display(Markdown(\"#### Plain model - after debiasing - classification metrics\"))\n",
    "display(Markdown(\"#### Unbiased training dataset - CLassification Metrics\"))\n",
    "TPR_train = classified_metric_unbiased_train.true_positive_rate()\n",
    "TNR_train = classified_metric_unbiased_train.true_negative_rate()\n",
    "bal_acc_unbiased_train = 0.5*(TPR_train + TNR_train)\n",
    "print('Classification accuracy         =', classified_metric_unbiased_train.accuracy())\n",
    "print('Balanced classification accuracy=', bal_acc_unbiased_train)\n",
    "print('Disparate impact                =', classified_metric_unbiased_train.disparate_impact())\n",
    "print('Equal opportunity difference    =', classified_metric_unbiased_train.equal_opportunity_difference())\n",
    "print('Average odds difference         =', classified_metric_unbiased_train.average_odds_difference())\n",
    "print('Theil_index                     =', classified_metric_unbiased_train.theil_index())\n",
    "\n",
    "display(Markdown(\"#### Unbiased test dataset - CLassification Metrics\"))\n",
    "TPR_test = classified_metric_unbiased_test.true_positive_rate()\n",
    "TNR_test = classified_metric_unbiased_test.true_negative_rate()\n",
    "bal_acc_unbiased_test = 0.5*(TPR_test+TNR_test)\n",
    "print('Classification accuracy         =', classified_metric_unbiased_test.accuracy())\n",
    "print('Balanced classification accuracy=', bal_acc_unbiased_test)\n",
    "print('Disparate impact                =', classified_metric_unbiased_test.disparate_impact())\n",
    "print('Equal opportunity difference    =', classified_metric_unbiased_test.equal_opportunity_difference())\n",
    "print('Average odds difference         =', classified_metric_unbiased_test.average_odds_difference())\n",
    "print('Theil_index                     =', classified_metric_unbiased_test.theil_index())"
   ]
  },
  {
   "cell_type": "code",
   "execution_count": 32,
   "metadata": {},
   "outputs": [
    {
     "name": "stdout",
     "output_type": "stream",
     "text": [
      "Model Accuracy for Log Reg and RFC after bias transformation:\n",
      "Biased Logistic regression validation accuracy: 0.9154468215784625\n",
      "Biased Random Forest       validation accuracy: 0.9176988432797625\n",
      "\n",
      "Biased Balanced accuracy\n",
      "Biased Logistic regression balanced accuracy  : 0.7378099157261487\n",
      "Biased Random Forest       balanced accuracy  : 0.7030293442324456\n"
     ]
    }
   ],
   "source": [
    "# Determine the after-transformation model accuracy for Logistic Regression and Random Forest Classifiers\n",
    "X_train = Adult_train_df.drop(lab,axis=1)\n",
    "y_train = Adult_train_df[lab]\n",
    "X_test  = Adult_test_df.drop(lab,axis=1)\n",
    "y_test  = Adult_test_df[lab]\n",
    "\n",
    "UnbiasedLogModel = LogisticRegression(random_state=101)\n",
    "UnbiasedRfcModel = RandomForestClassifier(n_estimators=100,max_depth=4,random_state=101)\n",
    "UnbiasedLogModel.fit(X_train, y_train) \n",
    "UnbiasedRfcModel.fit(X_train, y_train) \n",
    "UnbiasedLog_pred = UnbiasedLogModel.predict(X_test)\n",
    "UnbiasedRfc_pred = UnbiasedRfcModel.predict(X_test)\n",
    "\n",
    "# Now get Logistic Regression and Random Forest Clasisfication performancce of unbiased data\n",
    "print('Model Accuracy for Log Reg and RFC after bias transformation:')\n",
    "print(f\"Biased Logistic regression validation accuracy: {UnbiasedLogModel.score(X_test, y_test)}\")\n",
    "print(f\"Biased Random Forest       validation accuracy: {UnbiasedRfcModel.score(X_test, y_test)}\")\n",
    "print('')\n",
    "print('Biased Balanced accuracy')\n",
    "print(f\"Biased Logistic regression balanced accuracy  : {balanced_accuracy_score(y_test, UnbiasedLog_pred)}\")\n",
    "print(f\"Biased Random Forest       balanced accuracy  : {balanced_accuracy_score(y_test, UnbiasedRfc_pred)}\")"
   ]
  },
  {
   "cell_type": "code",
   "execution_count": 33,
   "metadata": {},
   "outputs": [],
   "source": [
    "# Test for Equality of odds\n",
    "Test_bld = BinaryLabelDataset(df=pd.concat((X_test, y_test),axis=1),\n",
    "                              label_names=[lab], protected_attribute_names=[protected_attr],\n",
    "                              favorable_label=fav_label, unfavorable_label=unfav_label)\n",
    "Test_Log_bld = Test_bld.copy(deepcopy=True)\n",
    "Test_Rfc_bld = Test_bld.copy(deepcopy=True)\n",
    "TestLogPredictions = UnbiasedLogModel.predict(X_test)\n",
    "TestRfcPredictions = UnbiasedRfcModel.predict(X_test)\n",
    "Test_Log_bld.labels= TestLogPredictions\n",
    "Test_Rfc_bld.labels= TestRfcPredictions#\n",
    "\n",
    "c_Log_metric = ClassificationMetric(Test_bld, Test_Log_bld, \n",
    "                                unprivileged_groups=unprivileged_groups,\n",
    "                                privileged_groups=privileged_groups)\n",
    "c_Rfc_metric = ClassificationMetric(Test_bld, Test_Rfc_bld, \n",
    "                                unprivileged_groups=unprivileged_groups,\n",
    "                                privileged_groups=privileged_groups)"
   ]
  },
  {
   "cell_type": "code",
   "execution_count": 34,
   "metadata": {},
   "outputs": [
    {
     "name": "stdout",
     "output_type": "stream",
     "text": [
      "A value of 0 means that equality of odds has been met\n",
      "Log average_abs_odds_difference: 0.038393203079389336\n",
      "Log average_odds_difference:     -0.03696487341277908\n",
      " \n",
      "Rfc average_abs_odds_difference: 0.11751293146322353\n",
      "Rfc average_odds_difference:     -0.11751293146322353\n"
     ]
    }
   ],
   "source": [
    "print('A value of 0 means that equality of odds has been met')\n",
    "print('Log average_abs_odds_difference:', c_Log_metric.average_abs_odds_difference())\n",
    "print('Log average_odds_difference:    ', c_Log_metric.average_odds_difference())\n",
    "print(' ')\n",
    "print('Rfc average_abs_odds_difference:', c_Rfc_metric.average_abs_odds_difference())\n",
    "print('Rfc average_odds_difference:    ', c_Rfc_metric.average_odds_difference())"
   ]
  },
  {
   "cell_type": "code",
   "execution_count": 35,
   "metadata": {},
   "outputs": [
    {
     "name": "stdout",
     "output_type": "stream",
     "text": [
      "Model Accuracy for predicting the Sensitive Variable before bias transformation:\n",
      "Biased Logistic regression validation accuracy: 0.7628211690039922\n",
      "Biased Random Forest       validation accuracy: 0.7957825775412017\n",
      "\n",
      "Biased Balanced accuracy\n",
      "Biased Logistic regression balanced accuracy  : 0.6914824077691045\n",
      "Biased Random Forest       balanced accuracy  : 0.7517771763226769\n"
     ]
    }
   ],
   "source": [
    "# Finally test whether it is possible to predict the Sensitive Variable from the transformed dataset\n",
    "X_se_train = Adult_train_df.drop(protected_attr,axis=1)\n",
    "y_se_train = Adult_train_df[protected_attr]\n",
    "X_se_test  = Adult_test_df.drop(protected_attr,axis=1)\n",
    "y_se_test  = Adult_test_df[protected_attr]\n",
    "\n",
    "Se_unbiasedLogModel = LogisticRegression(random_state=101)\n",
    "Se_unbiasedRfcModel = RandomForestClassifier(n_estimators=100,max_depth=4,random_state=101)\n",
    "Se_unbiasedLogModel.fit(X_se_train, y_se_train) \n",
    "Se_unbiasedRfcModel.fit(X_se_train, y_se_train) \n",
    "yseLog_pred =  Se_unbiasedLogModel.predict(X_se_test)\n",
    "yseRfc_pred =  Se_unbiasedRfcModel.predict(X_se_test)\n",
    "# Now test whether we can predict Gender from the test dataset\n",
    "print('Model Accuracy for predicting the Sensitive Variable before bias transformation:')\n",
    "print(f\"Biased Logistic regression validation accuracy: {Se_unbiasedLogModel.score(X_se_test, y_se_test)}\")\n",
    "print(f\"Biased Random Forest       validation accuracy: {Se_unbiasedRfcModel.score(X_se_test, y_se_test)}\")\n",
    "print('')\n",
    "print('Biased Balanced accuracy')\n",
    "print(f\"Biased Logistic regression balanced accuracy  : {balanced_accuracy_score(y_se_test, yseLog_pred)}\")\n",
    "print(f\"Biased Random Forest       balanced accuracy  : {balanced_accuracy_score(y_se_test, yseRfc_pred)}\")"
   ]
  },
  {
   "cell_type": "code",
   "execution_count": 36,
   "metadata": {},
   "outputs": [
    {
     "name": "stdout",
     "output_type": "stream",
     "text": [
      "Predicted Training After - Income value counts:\n",
      "0.0    33570\n",
      "1.0     5503\n",
      "Name: Income, dtype: int64\n",
      "Predicted Training After - Gender value counts:\n",
      "1.0    26123\n",
      "0.0    12950\n",
      "Name: Gender, dtype: int64\n"
     ]
    }
   ],
   "source": [
    "print('Predicted Training After - Income value counts:')\n",
    "print(Adult_train_df.Income.value_counts())\n",
    "print('Predicted Training After - Gender value counts:')\n",
    "print(Adult_train_df.Gender.value_counts())"
   ]
  },
  {
   "cell_type": "code",
   "execution_count": 37,
   "metadata": {},
   "outputs": [
    {
     "name": "stdout",
     "output_type": "stream",
     "text": [
      "Predicted Test After - Income value counts:\n",
      "0.0    8448\n",
      "1.0    1321\n",
      "Name: Income, dtype: int64\n",
      "Predicted Test After - Gender value counts:\n",
      "1.0    6527\n",
      "0.0    3242\n",
      "Name: Gender, dtype: int64\n"
     ]
    }
   ],
   "source": [
    "print('Predicted Test After - Income value counts:')\n",
    "print(Adult_test_df.Income.value_counts())\n",
    "print('Predicted Test After - Gender value counts:')\n",
    "print(Adult_test_df.Gender.value_counts())"
   ]
  }
 ],
 "metadata": {
  "kernelspec": {
   "display_name": "Python 3",
   "language": "python",
   "name": "python3"
  },
  "language_info": {
   "codemirror_mode": {
    "name": "ipython",
    "version": 3
   },
   "file_extension": ".py",
   "mimetype": "text/x-python",
   "name": "python",
   "nbconvert_exporter": "python",
   "pygments_lexer": "ipython3",
   "version": "3.7.3"
  }
 },
 "nbformat": 4,
 "nbformat_minor": 2
}
