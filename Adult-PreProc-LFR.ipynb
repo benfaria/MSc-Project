{
 "cells": [
  {
   "cell_type": "code",
   "execution_count": 1,
   "metadata": {},
   "outputs": [],
   "source": [
    "%matplotlib inline\n",
    "# Load all necessary packages\n",
    "import sys\n",
    "import pandas as pd\n",
    "import matplotlib.pyplot as plt\n",
    "# Import IBM's AI Fairness tooolbox\n",
    "from aif360.datasets import BinaryLabelDataset\n",
    "from aif360.metrics  import BinaryLabelDatasetMetric\n",
    "from aif360.metrics  import ClassificationMetric\n",
    "from aif360.metrics.utils import compute_boolean_conditioning_vector\n",
    "from aif360.algorithms.preprocessing.lfr import LFR\n",
    "# Import scikit-learn core slibraries\n",
    "from sklearn.ensemble      import RandomForestClassifier\n",
    "from sklearn.linear_model  import LogisticRegression\n",
    "from sklearn.preprocessing import StandardScaler, MinMaxScaler\n",
    "from sklearn.metrics       import accuracy_score\n",
    "from IPython.display import Markdown, display\n",
    "\n",
    "# Warnings will be used to silence various model warnings for tidier output\n",
    "import warnings\n",
    "warnings.filterwarnings('ignore')"
   ]
  },
  {
   "cell_type": "code",
   "execution_count": 2,
   "metadata": {},
   "outputs": [],
   "source": [
    "# Read the cleaned Adult dataset\n",
    "Adult_df = pd.read_csv('./input/adult-cleaned.csv')\n",
    "# The AIF demo drops the following columns - we'll try the same\n",
    "Adult_df.drop([\"Fnlwgt\", \"NativeCountry\", \"Relationship\", \"MaritalStatus\"],axis=1,inplace=True)"
   ]
  },
  {
   "cell_type": "code",
   "execution_count": 3,
   "metadata": {},
   "outputs": [],
   "source": [
    "# Set privileged (1)/ unprivileged (0)/ favourable (1) / unfavourable values (0)\n",
    "protected_attr      = 'Gender'\n",
    "priv_grp            = 1  # Males \n",
    "unpriv_grp          = 0  # Females  \n",
    "lab                 = 'Income'\n",
    "fav_label           = 1 # Income over £50K\n",
    "unfav_label         = 0 # Income under £50K\n",
    "privileged_groups   = [{protected_attr: priv_grp}]   # Males\n",
    "unprivileged_groups = [{protected_attr: unpriv_grp}] # Females"
   ]
  },
  {
   "cell_type": "code",
   "execution_count": 4,
   "metadata": {},
   "outputs": [],
   "source": [
    "# Create a Binary Label Dataset to use with AIF360 APIs\n",
    "X = Adult_df.drop(lab,axis=1)\n",
    "y = Adult_df[lab]"
   ]
  },
  {
   "cell_type": "code",
   "execution_count": 5,
   "metadata": {},
   "outputs": [],
   "source": [
    "Adult_bld = BinaryLabelDataset(df=pd.concat((X, y), axis=1),\n",
    "                                label_names=[lab], protected_attribute_names=[protected_attr],\n",
    "                                favorable_label=fav_label, unfavorable_label=unfav_label)"
   ]
  },
  {
   "cell_type": "code",
   "execution_count": 6,
   "metadata": {},
   "outputs": [],
   "source": [
    "# Create train and test datasets\n",
    "Adult_train_df, Adult_test_df = Adult_bld.split([0.8], shuffle=True, seed=101)"
   ]
  },
  {
   "cell_type": "code",
   "execution_count": 7,
   "metadata": {},
   "outputs": [],
   "source": [
    "scaler = MinMaxScaler(copy=False)\n",
    "Adult_train_df.features = scaler.fit_transform(Adult_train_df.features)\n",
    "Adult_test_df.features  = scaler.fit_transform(Adult_test_df.features)"
   ]
  },
  {
   "cell_type": "code",
   "execution_count": 8,
   "metadata": {},
   "outputs": [
    {
     "name": "stdout",
     "output_type": "stream",
     "text": [
      "Logistic regression validation accuracy: 0.8207595455010749\n",
      "Random Forest       validation accuracy: 0.8296652676834886\n"
     ]
    }
   ],
   "source": [
    "# Determine the baseline model accuracy for Logistic Regression and Random Forest Classifiers\n",
    "Adult_train, d = Adult_train_df.convert_to_dataframe(de_dummy_code=False, sep='=', set_category=False)\n",
    "Adult_test, d = Adult_test_df.convert_to_dataframe(de_dummy_code=False, sep='=', set_category=False)\n",
    "X_train = Adult_train.drop(lab,axis=1)\n",
    "y_train = Adult_train[lab]\n",
    "X_test = Adult_test.drop(lab,axis=1)\n",
    "y_test = Adult_test[lab]\n",
    "biasedLogModel = LogisticRegression(random_state=101)\n",
    "biasedRfcModel = RandomForestClassifier(n_estimators=100,max_depth=4,random_state=101)\n",
    "biasedLogModel.fit(X_train, y_train) \n",
    "biasedRfcModel.fit(X_train, y_train) \n",
    "print(f\"Logistic regression validation accuracy: {biasedLogModel.score(X_test, y_test)}\")\n",
    "print(f\"Random Forest       validation accuracy: {biasedRfcModel.score(X_test, y_test)}\")"
   ]
  },
  {
   "cell_type": "code",
   "execution_count": 9,
   "metadata": {
    "scrolled": true
   },
   "outputs": [
    {
     "data": {
      "text/markdown": [
       "#### Biased training dataset"
      ],
      "text/plain": [
       "<IPython.core.display.Markdown object>"
      ]
     },
     "metadata": {},
     "output_type": "display_data"
    },
    {
     "name": "stdout",
     "output_type": "stream",
     "text": [
      "Difference in mean outcomes between unprivileged and privileged groups = -0.192939\n",
      "Number of instances           : 39073.0\n",
      "Base Rate                     :0.238605\n",
      "Consistency                   : [0.81125585]\n",
      "Disparate Impact              : 0.3620832314871518\n",
      "Mean Difference               : -0.19293913814906824\n",
      "Statistical Parity Difference : -0.19293913814906824\n",
      "# of positives(privileged)    : 7907.0\n",
      "# of positives(non-privileged): 1416.0\n",
      "Total positive instances\"     : 9323.0\n",
      "# of negatives(privileged)    : 18236.0\n",
      "# of negatives(non-privileged): 11514.0\n",
      "Total negative instances\"     : 29750.0\n"
     ]
    },
    {
     "data": {
      "text/markdown": [
       "#### Biased training dataset"
      ],
      "text/plain": [
       "<IPython.core.display.Markdown object>"
      ]
     },
     "metadata": {},
     "output_type": "display_data"
    },
    {
     "name": "stdout",
     "output_type": "stream",
     "text": [
      "Difference in mean outcomes between unprivileged and privileged groups = -0.192939\n"
     ]
    }
   ],
   "source": [
    "# Create the binary label dataset metric class for the training dataset\n",
    "metric_train_bld = BinaryLabelDatasetMetric(Adult_train_df, \n",
    "                                            unprivileged_groups=unprivileged_groups,\n",
    "                                            privileged_groups=privileged_groups)\n",
    "display(Markdown(\"#### Biased training dataset\"))\n",
    "print(\"Difference in mean outcomes between unprivileged and privileged groups = %f\" % metric_train_bld.mean_difference())\n",
    "print('Number of instances           :', metric_train_bld.num_instances())\n",
    "print(\"Base Rate                     :%f\" % metric_train_bld.base_rate())\n",
    "print('Consistency                   :', metric_train_bld.consistency())\n",
    "print('Disparate Impact              :', metric_train_bld.disparate_impact())\n",
    "print('Mean Difference               :', metric_train_bld.mean_difference())\n",
    "print('Statistical Parity Difference :', metric_train_bld.statistical_parity_difference()) \n",
    "print('# of positives(privileged)    :', metric_train_bld.num_positives(privileged=True))\n",
    "print('# of positives(non-privileged):', metric_train_bld.num_positives(privileged=False))\n",
    "print('Total positive instances\"     :', metric_train_bld.num_positives(privileged=True)+metric_train_bld.num_positives(privileged=False))\n",
    "print('# of negatives(privileged)    :', metric_train_bld.num_negatives(privileged=True))\n",
    "print('# of negatives(non-privileged):', metric_train_bld.num_negatives(privileged=False))\n",
    "print('Total negative instances\"     :', metric_train_bld.num_negatives(privileged=True)+metric_train_bld.num_negatives(privileged=False))\n",
    "display(Markdown(\"#### Biased training dataset\"))\n",
    "print(\"Difference in mean outcomes between unprivileged and privileged groups = %f\" % metric_train_bld.mean_difference())"
   ]
  },
  {
   "cell_type": "code",
   "execution_count": 10,
   "metadata": {},
   "outputs": [
    {
     "name": "stdout",
     "output_type": "stream",
     "text": [
      "Interval : Optimization objective value for the interval\n",
      "250 20315.451767096565\n",
      "500 19286.966322690554\n",
      "750 18408.53142080968\n",
      "1000 17549.43702966024\n",
      "1250 17124.241896159663\n",
      "1500 17025.29486604778\n",
      "1750 16808.634902034868\n",
      "2000 16574.82065876097\n",
      "2250 16542.584425679714\n",
      "2500 16445.904068983964\n",
      "2750 16353.399057267265\n",
      "3000 16301.11574492851\n",
      "3250 16255.995310472583\n",
      "3500 16186.452308296375\n",
      "3750 16151.240155774334\n",
      "4000 16099.369041745846\n",
      "4250 16091.432413938335\n",
      "4500 16059.342582387313\n",
      "4750 16043.460498825825\n",
      "5000 15999.343402532852\n"
     ]
    }
   ],
   "source": [
    "# Fit the Learning Fair Representations on the biased training data\n",
    "print('Interval : Optimization objective value for the interval')\n",
    "TR = LFR(unprivileged_groups = unprivileged_groups, privileged_groups = privileged_groups,verbose=1, seed=101)\n",
    "TR = TR.fit(Adult_train_df)"
   ]
  },
  {
   "cell_type": "code",
   "execution_count": 11,
   "metadata": {},
   "outputs": [],
   "source": [
    "# Transform training data and align features\n",
    "Adult_train_lfr = TR.transform(Adult_train_df)"
   ]
  },
  {
   "cell_type": "code",
   "execution_count": 12,
   "metadata": {},
   "outputs": [
    {
     "name": "stdout",
     "output_type": "stream",
     "text": [
      "Logistic regression validation accuracy: 0.7848295629030607\n",
      "Random Forest       validation accuracy: 0.7558603746545194\n"
     ]
    }
   ],
   "source": [
    "# Determine the transformed model accuracy for Logistic Regression and Random Forest Classifiers\n",
    "# Convert the scaled Binary Labelled Dataset to a pandas dataframe for consistency \n",
    "Adult_train, d = Adult_train_lfr.convert_to_dataframe(de_dummy_code=False, sep='=', set_category=False)\n",
    "X_train = Adult_train.drop(lab,axis=1)\n",
    "y_train = Adult_train[lab]\n",
    "debiasedLogModel = LogisticRegression(random_state=101)\n",
    "debiasedRfcModel = RandomForestClassifier(n_estimators=100,max_depth=4,random_state=101)\n",
    "debiasedLogModel.fit(X_train, y_train) \n",
    "debiasedRfcModel.fit(X_train, y_train) \n",
    "print(f\"Logistic regression validation accuracy: {debiasedLogModel.score(X_test, y_test)}\")\n",
    "print(f\"Random Forest       validation accuracy: {debiasedRfcModel.score(X_test, y_test)}\")"
   ]
  },
  {
   "cell_type": "code",
   "execution_count": 13,
   "metadata": {},
   "outputs": [
    {
     "data": {
      "text/markdown": [
       "#### Transformed training dataset"
      ],
      "text/plain": [
       "<IPython.core.display.Markdown object>"
      ]
     },
     "metadata": {},
     "output_type": "display_data"
    },
    {
     "name": "stdout",
     "output_type": "stream",
     "text": [
      "Classification threshold = 0.100000\n",
      "Difference in mean outcomes between unprivileged and privileged groups = -0.444327\n",
      "Classification threshold = 0.300000\n",
      "Difference in mean outcomes between unprivileged and privileged groups = -0.349896\n",
      "Classification threshold = 0.350000\n",
      "Difference in mean outcomes between unprivileged and privileged groups = -0.301159\n",
      "Classification threshold = 0.400000\n",
      "Difference in mean outcomes between unprivileged and privileged groups = -0.260219\n",
      "Classification threshold = 0.500000\n",
      "Difference in mean outcomes between unprivileged and privileged groups = -0.184895\n",
      "Classification threshold = 0.600000\n",
      "Difference in mean outcomes between unprivileged and privileged groups = -0.125776\n",
      "Classification threshold = 0.700000\n",
      "Difference in mean outcomes between unprivileged and privileged groups = -0.079608\n"
     ]
    }
   ],
   "source": [
    "display(Markdown(\"#### Transformed training dataset\"))\n",
    "from sklearn.metrics import classification_report\n",
    "thresholds = [0.1, 0.3, 0.35, 0.4, 0.5, 0.6, 0.7]\n",
    "for threshold in thresholds:\n",
    "    \n",
    "    # Transform training data and align features\n",
    "    Adult_train_lfr = TR.transform(Adult_train_df,threshold=threshold)\n",
    "    metric_train_lfr = BinaryLabelDatasetMetric(Adult_train_lfr, \n",
    "                                                 unprivileged_groups=unprivileged_groups,\n",
    "                                                 privileged_groups=privileged_groups)\n",
    "    print(\"Classification threshold = %f\" % threshold)\n",
    "    #print(classification_report(dataset_orig_train.labels, dataset_transf_train.labels))\n",
    "    print(\"Difference in mean outcomes between unprivileged and privileged groups = %f\" % metric_train_lfr.mean_difference())"
   ]
  },
  {
   "cell_type": "code",
   "execution_count": 14,
   "metadata": {
    "scrolled": true
   },
   "outputs": [
    {
     "name": "stdout",
     "output_type": "stream",
     "text": [
      "THIS IS WHAT THE AIF CODE PRODUCES FROM THE LAST CLASSIFICATION THRESHOLD RUN ABOVE\n",
      "Difference in mean outcomes between unprivileged and privileged groups = -0.079608\n",
      "Number of instances           : 39073.0\n",
      "Base Rate                     :0.059683\n",
      "Consistency                   : [0.99987203]\n",
      "Disparate Impact              : 0.07461833170160356\n",
      "Mean Difference               : -0.07960767211119969\n",
      "Statistical Parity Difference : -0.07960767211119969\n",
      "# of positives(privileged)    : 2249.0\n",
      "# of positives(non-privileged): 83.0\n",
      "Total positive instances\"     : 2332.0\n",
      "# of negatives(privileged)    : 23894.0\n",
      "# of negatives(non-privileged): 12847.0\n",
      "Total negative instances\"     : 36741.0\n"
     ]
    },
    {
     "data": {
      "text/markdown": [
       "#### Original training dataset"
      ],
      "text/plain": [
       "<IPython.core.display.Markdown object>"
      ]
     },
     "metadata": {},
     "output_type": "display_data"
    },
    {
     "name": "stdout",
     "output_type": "stream",
     "text": [
      "Difference in mean outcomes between unprivileged and privileged groups = -0.192939\n"
     ]
    }
   ],
   "source": [
    "print('THIS IS WHAT THE AIF CODE PRODUCES FROM THE LAST CLASSIFICATION THRESHOLD RUN ABOVE')\n",
    "print(\"Difference in mean outcomes between unprivileged and privileged groups = %f\" % metric_train_lfr.mean_difference())\n",
    "print('Number of instances           :', metric_train_lfr.num_instances())\n",
    "print(\"Base Rate                     :%f\" % metric_train_lfr.base_rate())\n",
    "print('Consistency                   :', metric_train_lfr.consistency())\n",
    "print('Disparate Impact              :', metric_train_lfr.disparate_impact())\n",
    "print('Mean Difference               :', metric_train_lfr.mean_difference())\n",
    "print('Statistical Parity Difference :', metric_train_lfr.statistical_parity_difference()) \n",
    "print('# of positives(privileged)    :', metric_train_lfr.num_positives(privileged=True))\n",
    "print('# of positives(non-privileged):', metric_train_lfr.num_positives(privileged=False))\n",
    "print('Total positive instances\"     :', metric_train_lfr.num_positives(privileged=True)+metric_train_lfr.num_positives(privileged=False))\n",
    "print('# of negatives(privileged)    :', metric_train_lfr.num_negatives(privileged=True))\n",
    "print('# of negatives(non-privileged):', metric_train_lfr.num_negatives(privileged=False))\n",
    "print('Total negative instances\"     :', metric_train_lfr.num_negatives(privileged=True)+metric_train_lfr.num_negatives(privileged=False))\n",
    "display(Markdown(\"#### Original training dataset\"))\n",
    "print(\"Difference in mean outcomes between unprivileged and privileged groups = %f\" % metric_train_bld.mean_difference())"
   ]
  },
  {
   "cell_type": "code",
   "execution_count": 15,
   "metadata": {},
   "outputs": [
    {
     "data": {
      "text/markdown": [
       "#### Individual fairness metrics"
      ],
      "text/plain": [
       "<IPython.core.display.Markdown object>"
      ]
     },
     "metadata": {},
     "output_type": "display_data"
    },
    {
     "name": "stdout",
     "output_type": "stream",
     "text": [
      "Consistency of labels in transformed training dataset= 0.999872\n",
      "Consistency of labels in original training dataset= 0.811256\n"
     ]
    }
   ],
   "source": [
    "display(Markdown(\"#### Individual fairness metrics\"))\n",
    "print(\"Consistency of labels in transformed training dataset= %f\" %metric_train_lfr.consistency())\n",
    "print(\"Consistency of labels in original training dataset= %f\" %metric_train_bld.consistency())"
   ]
  },
  {
   "cell_type": "code",
   "execution_count": 16,
   "metadata": {},
   "outputs": [
    {
     "data": {
      "text/plain": [
       "False"
      ]
     },
     "execution_count": 16,
     "metadata": {},
     "output_type": "execute_result"
    }
   ],
   "source": [
    "# The following Cells compare the original and transformed datasets\n",
    "#Convert the returned Binary Labelled Dataset to a pandas dataframe \n",
    "Adult_orig_df, d = Adult_train_df.convert_to_dataframe(de_dummy_code=False, sep='=', set_category=False)\n",
    "Adult_lfr_df, d = Adult_train_lfr.convert_to_dataframe(de_dummy_code=False, sep='=', set_category=False)\n",
    "# Check whether the transform on the original dataset has worked. \n",
    "# A false means that the dataset is transformed.\n",
    "Adult_lfr_df.equals(Adult_df)"
   ]
  },
  {
   "cell_type": "code",
   "execution_count": 17,
   "metadata": {},
   "outputs": [
    {
     "data": {
      "text/html": [
       "<div>\n",
       "<style scoped>\n",
       "    .dataframe tbody tr th:only-of-type {\n",
       "        vertical-align: middle;\n",
       "    }\n",
       "\n",
       "    .dataframe tbody tr th {\n",
       "        vertical-align: top;\n",
       "    }\n",
       "\n",
       "    .dataframe thead th {\n",
       "        text-align: right;\n",
       "    }\n",
       "</style>\n",
       "<table border=\"1\" class=\"dataframe\">\n",
       "  <thead>\n",
       "    <tr style=\"text-align: right;\">\n",
       "      <th></th>\n",
       "      <th>Age</th>\n",
       "      <th>Employment</th>\n",
       "      <th>Education</th>\n",
       "      <th>EducationNum</th>\n",
       "      <th>Occupation</th>\n",
       "      <th>Race</th>\n",
       "      <th>Gender</th>\n",
       "      <th>CapitalGain</th>\n",
       "      <th>CapitalLoss</th>\n",
       "      <th>HoursPerWeek</th>\n",
       "      <th>Income</th>\n",
       "    </tr>\n",
       "  </thead>\n",
       "  <tbody>\n",
       "    <tr>\n",
       "      <th>30658</th>\n",
       "      <td>0.083403</td>\n",
       "      <td>0.206938</td>\n",
       "      <td>0.270332</td>\n",
       "      <td>0.342235</td>\n",
       "      <td>0.324137</td>\n",
       "      <td>0.204671</td>\n",
       "      <td>0.0</td>\n",
       "      <td>-0.963563</td>\n",
       "      <td>-0.153807</td>\n",
       "      <td>0.364831</td>\n",
       "      <td>0.0</td>\n",
       "    </tr>\n",
       "    <tr>\n",
       "      <th>25493</th>\n",
       "      <td>0.070238</td>\n",
       "      <td>0.198302</td>\n",
       "      <td>0.275690</td>\n",
       "      <td>0.317222</td>\n",
       "      <td>0.315824</td>\n",
       "      <td>0.200837</td>\n",
       "      <td>1.0</td>\n",
       "      <td>-1.042219</td>\n",
       "      <td>-0.176152</td>\n",
       "      <td>0.345351</td>\n",
       "      <td>0.0</td>\n",
       "    </tr>\n",
       "    <tr>\n",
       "      <th>11136</th>\n",
       "      <td>0.067842</td>\n",
       "      <td>0.196599</td>\n",
       "      <td>0.276738</td>\n",
       "      <td>0.312645</td>\n",
       "      <td>0.314252</td>\n",
       "      <td>0.200134</td>\n",
       "      <td>0.0</td>\n",
       "      <td>-1.056612</td>\n",
       "      <td>-0.180320</td>\n",
       "      <td>0.341817</td>\n",
       "      <td>0.0</td>\n",
       "    </tr>\n",
       "  </tbody>\n",
       "</table>\n",
       "</div>"
      ],
      "text/plain": [
       "            Age  Employment  Education  EducationNum  Occupation      Race  \\\n",
       "30658  0.083403    0.206938   0.270332      0.342235    0.324137  0.204671   \n",
       "25493  0.070238    0.198302   0.275690      0.317222    0.315824  0.200837   \n",
       "11136  0.067842    0.196599   0.276738      0.312645    0.314252  0.200134   \n",
       "\n",
       "       Gender  CapitalGain  CapitalLoss  HoursPerWeek  Income  \n",
       "30658     0.0    -0.963563    -0.153807      0.364831     0.0  \n",
       "25493     1.0    -1.042219    -0.176152      0.345351     0.0  \n",
       "11136     0.0    -1.056612    -0.180320      0.341817     0.0  "
      ]
     },
     "execution_count": 17,
     "metadata": {},
     "output_type": "execute_result"
    }
   ],
   "source": [
    "Adult_lfr_df.head(3)"
   ]
  },
  {
   "cell_type": "code",
   "execution_count": 18,
   "metadata": {},
   "outputs": [
    {
     "data": {
      "text/html": [
       "<div>\n",
       "<style scoped>\n",
       "    .dataframe tbody tr th:only-of-type {\n",
       "        vertical-align: middle;\n",
       "    }\n",
       "\n",
       "    .dataframe tbody tr th {\n",
       "        vertical-align: top;\n",
       "    }\n",
       "\n",
       "    .dataframe thead th {\n",
       "        text-align: right;\n",
       "    }\n",
       "</style>\n",
       "<table border=\"1\" class=\"dataframe\">\n",
       "  <thead>\n",
       "    <tr style=\"text-align: right;\">\n",
       "      <th></th>\n",
       "      <th>Age</th>\n",
       "      <th>Employment</th>\n",
       "      <th>Education</th>\n",
       "      <th>EducationNum</th>\n",
       "      <th>Occupation</th>\n",
       "      <th>Race</th>\n",
       "      <th>Gender</th>\n",
       "      <th>CapitalGain</th>\n",
       "      <th>CapitalLoss</th>\n",
       "      <th>HoursPerWeek</th>\n",
       "      <th>Income</th>\n",
       "    </tr>\n",
       "  </thead>\n",
       "  <tbody>\n",
       "    <tr>\n",
       "      <th>30658</th>\n",
       "      <td>0.068493</td>\n",
       "      <td>0.0</td>\n",
       "      <td>0.133333</td>\n",
       "      <td>0.733333</td>\n",
       "      <td>0.461538</td>\n",
       "      <td>0.25</td>\n",
       "      <td>0.0</td>\n",
       "      <td>0.0</td>\n",
       "      <td>0.0</td>\n",
       "      <td>0.265306</td>\n",
       "      <td>0.0</td>\n",
       "    </tr>\n",
       "    <tr>\n",
       "      <th>25493</th>\n",
       "      <td>0.082192</td>\n",
       "      <td>0.5</td>\n",
       "      <td>0.066667</td>\n",
       "      <td>0.533333</td>\n",
       "      <td>0.230769</td>\n",
       "      <td>0.25</td>\n",
       "      <td>1.0</td>\n",
       "      <td>0.0</td>\n",
       "      <td>0.0</td>\n",
       "      <td>0.397959</td>\n",
       "      <td>0.0</td>\n",
       "    </tr>\n",
       "    <tr>\n",
       "      <th>11136</th>\n",
       "      <td>0.287671</td>\n",
       "      <td>0.0</td>\n",
       "      <td>0.066667</td>\n",
       "      <td>0.533333</td>\n",
       "      <td>0.461538</td>\n",
       "      <td>0.25</td>\n",
       "      <td>0.0</td>\n",
       "      <td>0.0</td>\n",
       "      <td>0.0</td>\n",
       "      <td>0.448980</td>\n",
       "      <td>0.0</td>\n",
       "    </tr>\n",
       "  </tbody>\n",
       "</table>\n",
       "</div>"
      ],
      "text/plain": [
       "            Age  Employment  Education  EducationNum  Occupation  Race  \\\n",
       "30658  0.068493         0.0   0.133333      0.733333    0.461538  0.25   \n",
       "25493  0.082192         0.5   0.066667      0.533333    0.230769  0.25   \n",
       "11136  0.287671         0.0   0.066667      0.533333    0.461538  0.25   \n",
       "\n",
       "       Gender  CapitalGain  CapitalLoss  HoursPerWeek  Income  \n",
       "30658     0.0          0.0          0.0      0.265306     0.0  \n",
       "25493     1.0          0.0          0.0      0.397959     0.0  \n",
       "11136     0.0          0.0          0.0      0.448980     0.0  "
      ]
     },
     "execution_count": 18,
     "metadata": {},
     "output_type": "execute_result"
    }
   ],
   "source": [
    "Adult_orig_df.head(3)"
   ]
  },
  {
   "cell_type": "code",
   "execution_count": 19,
   "metadata": {},
   "outputs": [
    {
     "name": "stdout",
     "output_type": "stream",
     "text": [
      "                    Adult_df  Adult_lfr\n",
      "0     Age           0.068493   0.083403\n",
      "      Employment    0.000000   0.206938\n",
      "      Education     0.133333   0.270332\n",
      "      EducationNum  0.733333   0.342235\n",
      "      Occupation    0.461538   0.324137\n",
      "      Race          0.250000   0.204671\n",
      "      CapitalGain   0.000000  -0.963563\n",
      "      CapitalLoss   0.000000  -0.153807\n",
      "      HoursPerWeek  0.265306   0.364831\n",
      "1     Age           0.082192   0.070238\n",
      "      Employment    0.500000   0.198302\n",
      "      Education     0.066667   0.275690\n",
      "      EducationNum  0.533333   0.317222\n",
      "      Occupation    0.230769   0.315824\n",
      "      Race          0.250000   0.200837\n",
      "      CapitalGain   0.000000  -1.042219\n",
      "      CapitalLoss   0.000000  -0.176152\n",
      "      HoursPerWeek  0.397959   0.345351\n",
      "2     Age           0.287671   0.067842\n",
      "      Employment    0.000000   0.196599\n",
      "      Education     0.066667   0.276738\n",
      "      EducationNum  0.533333   0.312645\n",
      "      Occupation    0.461538   0.314252\n",
      "      Race          0.250000   0.200134\n",
      "      CapitalGain   0.000000  -1.056612\n",
      "      CapitalLoss   0.000000  -0.180320\n",
      "      HoursPerWeek  0.448980   0.341817\n",
      "3     Age           0.383562   0.161727\n",
      "      Employment    0.000000   0.257298\n",
      "      Education     0.066667   0.239015\n",
      "...                      ...        ...\n",
      "39069 HoursPerWeek  0.397959   0.539596\n",
      "      Income        1.000000   0.000000\n",
      "39070 Age           0.136986   0.123031\n",
      "      Employment    0.000000   0.236997\n",
      "      Education     0.066667   0.251966\n",
      "      EducationNum  0.533333   0.418290\n",
      "      Occupation    0.923077   0.350990\n",
      "      Race          0.000000   0.216374\n",
      "      CapitalGain   0.000000  -0.724411\n",
      "      CapitalLoss   0.394628  -0.083387\n",
      "      HoursPerWeek  0.397959   0.423113\n",
      "39071 Age           0.520548   0.183736\n",
      "      Employment    0.625000   0.268256\n",
      "      Education     0.200000   0.231973\n",
      "      EducationNum  0.600000   0.532017\n",
      "      Occupation    0.384615   0.385456\n",
      "      Race          0.250000   0.233706\n",
      "      CapitalGain   0.000000  -0.366783\n",
      "      CapitalLoss   0.000000   0.012986\n",
      "      HoursPerWeek  0.428571   0.513681\n",
      "      Income        1.000000   0.000000\n",
      "39072 Age           0.287671   0.151345\n",
      "      Employment    0.000000   0.254004\n",
      "      Education     0.733333   0.241305\n",
      "      EducationNum  0.666667   0.471791\n",
      "      Occupation    0.307692   0.368161\n",
      "      Race          0.250000   0.224555\n",
      "      CapitalGain   0.000000  -0.556172\n",
      "      CapitalLoss   0.000000  -0.036549\n",
      "      HoursPerWeek  0.397959   0.465145\n",
      "\n",
      "[359380 rows x 2 columns]\n"
     ]
    }
   ],
   "source": [
    "Adult_orig_df   = Adult_orig_df.reset_index(drop=True)\n",
    "Adult_lfr_df = Adult_lfr_df.reset_index(drop=True)\n",
    "AdultBool   = (Adult_orig_df != Adult_lfr_df).stack()  # Create Frame of comparison booleans\n",
    "Adultdiff   = pd.concat([Adult_orig_df.stack()[AdultBool], Adult_lfr_df.stack()[AdultBool]], axis=1)\n",
    "Adultdiff.columns=[\"Adult_df\", \"Adult_lfr\"]\n",
    "print(Adultdiff)"
   ]
  },
  {
   "cell_type": "code",
   "execution_count": 20,
   "metadata": {},
   "outputs": [],
   "source": [
    "## PCA Analysis of consitency"
   ]
  },
  {
   "cell_type": "code",
   "execution_count": 21,
   "metadata": {},
   "outputs": [
    {
     "name": "stdout",
     "output_type": "stream",
     "text": [
      "this is the threshold being used : 0.7\n"
     ]
    }
   ],
   "source": [
    "# At this stage the transformed dataframe will have the last threshold encountered!\n",
    "print('this is the threshold being used :',threshold)\n",
    "feat_cols = Adult_train_df.feature_names\n",
    "\n",
    "orig_df = pd.DataFrame(Adult_train_df.features,columns=feat_cols)\n",
    "orig_df['label'] = Adult_train_df.labels\n",
    "orig_df['label'] = orig_df['label'].apply(lambda i: str(i))\n",
    "\n",
    "transf_df = pd.DataFrame(Adult_train_lfr.features,columns=feat_cols)\n",
    "transf_df['label'] = Adult_train_lfr.labels\n",
    "transf_df['label'] = transf_df['label'].apply(lambda i: str(i))"
   ]
  },
  {
   "cell_type": "code",
   "execution_count": 22,
   "metadata": {},
   "outputs": [
    {
     "data": {
      "text/markdown": [
       "#### Original training dataset"
      ],
      "text/plain": [
       "<IPython.core.display.Markdown object>"
      ]
     },
     "metadata": {},
     "output_type": "display_data"
    },
    {
     "name": "stdout",
     "output_type": "stream",
     "text": [
      "Explained variation per principal component:\n",
      "[0.46080807 0.12983659 0.10831626]\n"
     ]
    }
   ],
   "source": [
    "from sklearn.decomposition import PCA\n",
    "\n",
    "orig_pca = PCA(n_components=3)\n",
    "orig_pca_result = orig_pca.fit_transform(orig_df[feat_cols].values)\n",
    "\n",
    "orig_df['pca-one'] = orig_pca_result[:,0]\n",
    "orig_df['pca-two'] = orig_pca_result[:,1] \n",
    "orig_df['pca-three'] = orig_pca_result[:,2]\n",
    "\n",
    "display(Markdown(\"#### Original training dataset\"))\n",
    "print('Explained variation per principal component:')\n",
    "print(orig_pca.explained_variance_ratio_)"
   ]
  },
  {
   "cell_type": "code",
   "execution_count": 23,
   "metadata": {},
   "outputs": [
    {
     "data": {
      "text/markdown": [
       "#### Transformed training dataset"
      ],
      "text/plain": [
       "<IPython.core.display.Markdown object>"
      ]
     },
     "metadata": {},
     "output_type": "display_data"
    },
    {
     "name": "stdout",
     "output_type": "stream",
     "text": [
      "Explained variation per principal component:\n",
      "[9.99520929e-01 4.79071361e-04 1.30617896e-13]\n"
     ]
    }
   ],
   "source": [
    "transf_pca = PCA(n_components=3)\n",
    "transf_pca_result = transf_pca.fit_transform(transf_df[feat_cols].values)\n",
    "\n",
    "transf_df['pca-one'] = transf_pca_result[:,0]\n",
    "transf_df['pca-two'] = transf_pca_result[:,1] \n",
    "transf_df['pca-three'] = transf_pca_result[:,2]\n",
    "\n",
    "display(Markdown(\"#### Transformed training dataset\"))\n",
    "print('Explained variation per principal component:')\n",
    "print(transf_pca.explained_variance_ratio_)"
   ]
  },
  {
   "cell_type": "code",
   "execution_count": 24,
   "metadata": {},
   "outputs": [
    {
     "name": "stdout",
     "output_type": "stream",
     "text": [
      "Logistic regression validation accuracy: 0.5037363087317023\n",
      "Random Forest       validation accuracy: 0.36605589108404135\n"
     ]
    }
   ],
   "source": [
    "# Test whether we can predict the Sensitive (Protected) variable from the transformed training dataset\n",
    "X_train = Adult_lfr_df.drop(protected_attr,axis=1)\n",
    "y_train = Adult_lfr_df[protected_attr]\n",
    "debiasedLogModel = LogisticRegression(random_state=101)\n",
    "debiasedRfcModel = RandomForestClassifier(n_estimators=100,max_depth=4,random_state=101)\n",
    "debiasedLogModel.fit(X_train, y_train) \n",
    "debiasedRfcModel.fit(X_train, y_train) \n",
    "# Now test whether we can predict Gender from the test dataset\n",
    "Adult_test, d = Adult_test_df.convert_to_dataframe(de_dummy_code=False, sep='=', set_category=False)\n",
    "X_test = Adult_test.drop(protected_attr,axis=1)\n",
    "y_test = Adult_test[protected_attr]\n",
    "print(f\"Logistic regression validation accuracy: {debiasedLogModel.score(X_test, y_test)}\")\n",
    "print(f\"Random Forest       validation accuracy: {debiasedRfcModel.score(X_test, y_test)}\")"
   ]
  },
  {
   "cell_type": "code",
   "execution_count": 25,
   "metadata": {},
   "outputs": [],
   "source": [
    "###Load, clean up original test data and compute metric"
   ]
  },
  {
   "cell_type": "code",
   "execution_count": 26,
   "metadata": {},
   "outputs": [
    {
     "data": {
      "text/markdown": [
       "#### Testing Dataset shape"
      ],
      "text/plain": [
       "<IPython.core.display.Markdown object>"
      ]
     },
     "metadata": {},
     "output_type": "display_data"
    },
    {
     "name": "stdout",
     "output_type": "stream",
     "text": [
      "(9769, 10)\n"
     ]
    },
    {
     "data": {
      "text/markdown": [
       "#### Original test dataset"
      ],
      "text/plain": [
       "<IPython.core.display.Markdown object>"
      ]
     },
     "metadata": {},
     "output_type": "display_data"
    },
    {
     "name": "stdout",
     "output_type": "stream",
     "text": [
      "Difference in mean outcomes between unprivileged and privileged groups = -0.200836\n"
     ]
    }
   ],
   "source": [
    "display(Markdown(\"#### Testing Dataset shape\"))\n",
    "print(Adult_test_df.features.shape)\n",
    "\n",
    "metric_test_bld = BinaryLabelDatasetMetric(Adult_test_df, \n",
    "                                            unprivileged_groups=unprivileged_groups,\n",
    "                                            privileged_groups=privileged_groups)\n",
    "display(Markdown(\"#### Original test dataset\"))\n",
    "print(\"Difference in mean outcomes between unprivileged and privileged groups = %f\" % metric_test_bld.mean_difference())"
   ]
  },
  {
   "cell_type": "code",
   "execution_count": 27,
   "metadata": {},
   "outputs": [],
   "source": [
    "###Transform test data and compute metric"
   ]
  },
  {
   "cell_type": "code",
   "execution_count": 28,
   "metadata": {},
   "outputs": [],
   "source": [
    "Adult_test_lfr = TR.transform(Adult_test_df, threshold=threshold)\n",
    "metric_test_lfr = BinaryLabelDatasetMetric(Adult_test_lfr, \n",
    "                                         unprivileged_groups=unprivileged_groups,\n",
    "                                         privileged_groups=privileged_groups)"
   ]
  },
  {
   "cell_type": "code",
   "execution_count": 29,
   "metadata": {},
   "outputs": [
    {
     "name": "stdout",
     "output_type": "stream",
     "text": [
      "Consistency of labels in tranformed test dataset= 0.999672\n"
     ]
    }
   ],
   "source": [
    "print(\"Consistency of labels in tranformed test dataset= %f\" %metric_test_lfr.consistency())"
   ]
  },
  {
   "cell_type": "code",
   "execution_count": 30,
   "metadata": {},
   "outputs": [
    {
     "name": "stdout",
     "output_type": "stream",
     "text": [
      "Consistency of labels in original test dataset= 0.803890\n"
     ]
    }
   ],
   "source": [
    "print(\"Consistency of labels in original test dataset= %f\" %metric_test_bld.consistency())"
   ]
  },
  {
   "cell_type": "code",
   "execution_count": 31,
   "metadata": {},
   "outputs": [
    {
     "name": "stdout",
     "output_type": "stream",
     "text": [
      "None\n"
     ]
    }
   ],
   "source": [
    "def check_algorithm_success():\n",
    "    \"\"\"Transformed dataset consistency should be greater than original dataset.\"\"\"\n",
    "    assert metric_test_lfr.consistency() > metric_test_bld.consistency(), \"Transformed dataset consistency should be greater than original dataset.\"\n",
    "\n",
    "print(check_algorithm_success())"
   ]
  }
 ],
 "metadata": {
  "kernelspec": {
   "display_name": "Python 3",
   "language": "python",
   "name": "python3"
  },
  "language_info": {
   "codemirror_mode": {
    "name": "ipython",
    "version": 3
   },
   "file_extension": ".py",
   "mimetype": "text/x-python",
   "name": "python",
   "nbconvert_exporter": "python",
   "pygments_lexer": "ipython3",
   "version": "3.7.3"
  }
 },
 "nbformat": 4,
 "nbformat_minor": 2
}
