{
 "cells": [
  {
   "cell_type": "code",
   "execution_count": 1,
   "metadata": {},
   "outputs": [],
   "source": [
    "# To be run after German-Data-Prep\n",
    "# Import Data handling/display libraries\n",
    "import sys\n",
    "import pandas as pd\n",
    "import numpy  as np \n",
    "import matplotlib.pyplot as plt\n",
    "import tensorflow as tf\n",
    "from sklearn.model_selection import train_test_split\n",
    "from sklearn.ensemble      import RandomForestClassifier\n",
    "from sklearn.linear_model  import LogisticRegression\n",
    "from sklearn.preprocessing import StandardScaler, MinMaxScaler\n",
    "from sklearn.metrics       import accuracy_score\n",
    "from sklearn.metrics       import balanced_accuracy_score\n",
    "from sklearn.metrics       import auc, roc_auc_score, roc_curve, classification_report, confusion_matrix\n",
    "from IPython.display       import Markdown, display\n",
    "# Import IBM's AI Fairness tooolbox\n",
    "from aif360.datasets       import BinaryLabelDataset\n",
    "from aif360.metrics        import BinaryLabelDatasetMetric\n",
    "from aif360.metrics        import ClassificationMetric\n",
    "from aif360.metrics.utils  import compute_boolean_conditioning_vector\n",
    "#from aif360.algorithms.preprocessing.optim_preproc_helpers.data_preproc_functions import load_preproc_data_German, load_preproc_data_compas, load_preproc_data_german\n",
    "from aif360.algorithms.inprocessing.adversarial_debiasing import AdversarialDebiasing\n",
    "%matplotlib inline\n",
    "# Warnings will be used to silence various model warnings for tidier output\n",
    "import warnings\n",
    "warnings.filterwarnings('ignore')"
   ]
  },
  {
   "cell_type": "code",
   "execution_count": 2,
   "metadata": {},
   "outputs": [],
   "source": [
    "# Read the cleaned German dataset\n",
    "German_df = pd.read_csv('./input/German-Cleaned.csv')"
   ]
  },
  {
   "cell_type": "code",
   "execution_count": 3,
   "metadata": {},
   "outputs": [],
   "source": [
    "# Set privileged (1)/ unprivileged (0)/ favourable (1) / unfavourable values (0)\n",
    "protected_attr      = 'Gender'\n",
    "priv_grp            = 1  # Males \n",
    "unpriv_grp          = 0  # Females  \n",
    "lab                 = 'CreditStatus'\n",
    "fav_label           = 1 # Good Credit status\n",
    "unfav_label         = 0 # Bad Credit Status\n",
    "privileged_groups   = [{protected_attr: priv_grp}]   # Males\n",
    "unprivileged_groups = [{protected_attr: unpriv_grp}] # Females"
   ]
  },
  {
   "cell_type": "code",
   "execution_count": 4,
   "metadata": {},
   "outputs": [],
   "source": [
    "# Create the traoning and test splits\n",
    "X = German_df.drop(lab,axis=1)\n",
    "y = German_df[lab]"
   ]
  },
  {
   "cell_type": "code",
   "execution_count": 5,
   "metadata": {},
   "outputs": [],
   "source": [
    "# Create a Binary Label Dataset to use with AIF360 APIs\n",
    "German_bld = BinaryLabelDataset(df=pd.concat((X, y), axis=1),\n",
    "                                label_names=[lab], protected_attribute_names=[protected_attr],\n",
    "                                favorable_label=fav_label, unfavorable_label=unfav_label)"
   ]
  },
  {
   "cell_type": "code",
   "execution_count": 6,
   "metadata": {},
   "outputs": [],
   "source": [
    "# Create train and test datasets\n",
    "German_train_bld, German_test_bld = German_bld.split([0.8], shuffle=True)"
   ]
  },
  {
   "cell_type": "code",
   "execution_count": 7,
   "metadata": {},
   "outputs": [],
   "source": [
    "#Scale the binary labelled datasets\n",
    "min_max_scaler = MinMaxScaler()\n",
    "German_train_bld.features = min_max_scaler.fit_transform(German_train_bld.features)\n",
    "German_test_bld.features  = min_max_scaler.fit_transform(German_test_bld.features)"
   ]
  },
  {
   "cell_type": "code",
   "execution_count": 8,
   "metadata": {},
   "outputs": [],
   "source": [
    "# Convert the train and test datasets to dataframes\n",
    "German_train_df, d = German_train_bld.convert_to_dataframe(de_dummy_code=False, sep='=', set_category=False)\n",
    "German_test_df,  d = German_test_bld.convert_to_dataframe(de_dummy_code=False, sep='=', set_category=False)"
   ]
  },
  {
   "cell_type": "code",
   "execution_count": 9,
   "metadata": {},
   "outputs": [
    {
     "name": "stdout",
     "output_type": "stream",
     "text": [
      "Biased Logistic regression validation accuracy: 0.705\n",
      "Biased Random Forest       validation accuracy: 0.705\n",
      "\n",
      "Biased Logistic regression balanced accuracy  : 0.5539184952978057\n",
      "Biased Random forest balanced accuracy        : 0.5482758620689655\n"
     ]
    }
   ],
   "source": [
    "# Determine the baseline model accuracy for Logistic Regression and Random Forest Classifiers\n",
    "X_train = German_train_df.drop(lab,axis=1)\n",
    "y_train = German_train_df[lab]\n",
    "X_test  = German_test_df.drop(lab,axis=1)\n",
    "y_test  = German_test_df[lab]\n",
    "BiasedLogModel = LogisticRegression(random_state=101)\n",
    "BiasedRfcModel = RandomForestClassifier(n_estimators=100,max_depth=4,random_state=101)\n",
    "BiasedLogModel.fit(X_train, y_train) \n",
    "BiasedRfcModel.fit(X_train, y_train)\n",
    "BiasedLogPredictions = BiasedLogModel.predict(X_test)\n",
    "BiasedRfcPredictions = BiasedRfcModel.predict(X_test)\n",
    "print(f\"Biased Logistic regression validation accuracy: {BiasedLogModel.score(X_test, y_test)}\")\n",
    "print(f\"Biased Random Forest       validation accuracy: {BiasedRfcModel.score(X_test, y_test)}\")\n",
    "print('')\n",
    "print(f\"Biased Logistic regression balanced accuracy  : {balanced_accuracy_score(y_test, BiasedLogPredictions)}\")\n",
    "print(f\"Biased Random forest balanced accuracy        : {balanced_accuracy_score(y_test, BiasedRfcPredictions)}\")"
   ]
  },
  {
   "cell_type": "code",
   "execution_count": 10,
   "metadata": {},
   "outputs": [
    {
     "name": "stdout",
     "output_type": "stream",
     "text": [
      "Training Before - CreditStatus value counts:\n",
      "1.0    555\n",
      "0.0    245\n",
      "Name: CreditStatus, dtype: int64\n",
      "Training Before - Gender value counts:\n",
      "1.0    545\n",
      "0.0    255\n",
      "Name: Gender, dtype: int64\n"
     ]
    }
   ],
   "source": [
    "print('Training Before - CreditStatus value counts:')\n",
    "print(German_train_df.CreditStatus.value_counts())\n",
    "print('Training Before - Gender value counts:')\n",
    "print(German_train_df.Gender.value_counts())"
   ]
  },
  {
   "cell_type": "code",
   "execution_count": 11,
   "metadata": {},
   "outputs": [
    {
     "name": "stdout",
     "output_type": "stream",
     "text": [
      "Test Before - CreditStatus value counts:\n",
      "1.0    145\n",
      "0.0     55\n",
      "Name: CreditStatus, dtype: int64\n",
      "Test Before - Gender value counts:\n",
      "1.0    145\n",
      "0.0     55\n",
      "Name: Gender, dtype: int64\n"
     ]
    }
   ],
   "source": [
    "print('Test Before - CreditStatus value counts:')\n",
    "print(German_test_df.CreditStatus.value_counts())\n",
    "print('Test Before - Gender value counts:')\n",
    "print(German_test_df.Gender.value_counts())"
   ]
  },
  {
   "cell_type": "code",
   "execution_count": 12,
   "metadata": {},
   "outputs": [],
   "source": [
    "# Create the binary label dataset metric class for the training dataset\n",
    "metric_train_bld = BinaryLabelDatasetMetric(German_train_bld, \n",
    "                                            unprivileged_groups=unprivileged_groups,\n",
    "                                            privileged_groups=privileged_groups)\n",
    "metric_test_bld = BinaryLabelDatasetMetric(German_test_bld, \n",
    "                                           unprivileged_groups=unprivileged_groups,\n",
    "                                           privileged_groups=privileged_groups)"
   ]
  },
  {
   "cell_type": "code",
   "execution_count": 13,
   "metadata": {},
   "outputs": [
    {
     "data": {
      "text/markdown": [
       "#### Orig training dataset"
      ],
      "text/plain": [
       "<IPython.core.display.Markdown object>"
      ]
     },
     "metadata": {},
     "output_type": "display_data"
    },
    {
     "name": "stdout",
     "output_type": "stream",
     "text": [
      "Number of instances           : 800.0\n",
      "Base Rate                     : 0.69375\n",
      "Consistency                   : [0.705]\n",
      "Disparate Impact              : 0.9120419375976612\n",
      "Mean Difference               : -0.06278107573304548\n",
      "Statistical Parity Difference : -0.06278107573304548\n"
     ]
    },
    {
     "data": {
      "text/markdown": [
       "#### Orig test dataset"
      ],
      "text/plain": [
       "<IPython.core.display.Markdown object>"
      ]
     },
     "metadata": {},
     "output_type": "display_data"
    },
    {
     "name": "stdout",
     "output_type": "stream",
     "text": [
      "Number of instances           : 200.0\n",
      "Base Rate                     : 0.725\n",
      "Consistency                   : [0.718]\n",
      "Disparate Impact              : 0.8388429752066116\n",
      "Mean Difference               : -0.12225705329153602\n",
      "Statistical Parity Difference : -0.12225705329153602\n"
     ]
    }
   ],
   "source": [
    "display(Markdown(\"#### Orig training dataset\"))\n",
    "print('Number of instances           :', metric_train_bld.num_instances())\n",
    "print('Base Rate                     :', metric_train_bld.base_rate())\n",
    "print('Consistency                   :', metric_train_bld.consistency())\n",
    "print('Disparate Impact              :', metric_train_bld.disparate_impact())\n",
    "print('Mean Difference               :', metric_train_bld.mean_difference())\n",
    "print('Statistical Parity Difference :', metric_train_bld.statistical_parity_difference()) \n",
    "display(Markdown(\"#### Orig test dataset\"))\n",
    "print('Number of instances           :', metric_test_bld.num_instances())\n",
    "print('Base Rate                     :', metric_test_bld.base_rate())\n",
    "print('Consistency                   :', metric_test_bld.consistency())\n",
    "print('Disparate Impact              :', metric_test_bld.disparate_impact())\n",
    "print('Mean Difference               :', metric_test_bld.mean_difference())\n",
    "print('Statistical Parity Difference :', metric_test_bld.statistical_parity_difference()) "
   ]
  },
  {
   "cell_type": "code",
   "execution_count": 14,
   "metadata": {},
   "outputs": [],
   "source": [
    "# Load post-processing algorithm that equalizes the odds\n",
    "# Learn parameters with debias set to FALSE!\n",
    "sess = tf.Session()\n",
    "biased_model = AdversarialDebiasing(privileged_groups = privileged_groups,\n",
    "                          unprivileged_groups = unprivileged_groups,\n",
    "                          scope_name='plain_classifier',\n",
    "                          debias=False,\n",
    "                          sess=sess)"
   ]
  },
  {
   "cell_type": "code",
   "execution_count": 15,
   "metadata": {},
   "outputs": [
    {
     "name": "stderr",
     "output_type": "stream",
     "text": [
      "WARNING: Logging before flag parsing goes to stderr.\n",
      "W0914 00:05:49.064809 22728 deprecation_wrapper.py:119] From c:\\users\\befaria\\appdata\\local\\continuum\\miniconda3\\lib\\site-packages\\aif360\\algorithms\\inprocessing\\adversarial_debiasing.py:138: The name tf.variable_scope is deprecated. Please use tf.compat.v1.variable_scope instead.\n",
      "\n",
      "W0914 00:05:49.066808 22728 deprecation_wrapper.py:119] From c:\\users\\befaria\\appdata\\local\\continuum\\miniconda3\\lib\\site-packages\\aif360\\algorithms\\inprocessing\\adversarial_debiasing.py:142: The name tf.placeholder is deprecated. Please use tf.compat.v1.placeholder instead.\n",
      "\n",
      "W0914 00:05:49.092812 22728 deprecation_wrapper.py:119] From c:\\users\\befaria\\appdata\\local\\continuum\\miniconda3\\lib\\site-packages\\aif360\\algorithms\\inprocessing\\adversarial_debiasing.py:87: The name tf.get_variable is deprecated. Please use tf.compat.v1.get_variable instead.\n",
      "\n",
      "W0914 00:05:53.629809 22728 lazy_loader.py:50] \n",
      "The TensorFlow contrib module will not be included in TensorFlow 2.0.\n",
      "For more information, please see:\n",
      "  * https://github.com/tensorflow/community/blob/master/rfcs/20180907-contrib-sunset.md\n",
      "  * https://github.com/tensorflow/addons\n",
      "  * https://github.com/tensorflow/io (for I/O related ops)\n",
      "If you depend on functionality not listed there, please file an issue.\n",
      "\n",
      "W0914 00:05:53.677811 22728 deprecation.py:506] From c:\\users\\befaria\\appdata\\local\\continuum\\miniconda3\\lib\\site-packages\\aif360\\algorithms\\inprocessing\\adversarial_debiasing.py:92: calling dropout (from tensorflow.python.ops.nn_ops) with keep_prob is deprecated and will be removed in a future version.\n",
      "Instructions for updating:\n",
      "Please use `rate` instead of `keep_prob`. Rate should be set to `rate = 1 - keep_prob`.\n",
      "W0914 00:05:53.744816 22728 deprecation.py:323] From c:\\users\\befaria\\appdata\\local\\continuum\\miniconda3\\lib\\site-packages\\tensorflow\\python\\ops\\nn_impl.py:180: add_dispatch_support.<locals>.wrapper (from tensorflow.python.ops.array_ops) is deprecated and will be removed in a future version.\n",
      "Instructions for updating:\n",
      "Use tf.where in 2.0, which has the same broadcast rule as np.where\n",
      "W0914 00:05:53.767813 22728 deprecation_wrapper.py:119] From c:\\users\\befaria\\appdata\\local\\continuum\\miniconda3\\lib\\site-packages\\aif360\\algorithms\\inprocessing\\adversarial_debiasing.py:160: The name tf.train.exponential_decay is deprecated. Please use tf.compat.v1.train.exponential_decay instead.\n",
      "\n",
      "W0914 00:05:53.795812 22728 deprecation_wrapper.py:119] From c:\\users\\befaria\\appdata\\local\\continuum\\miniconda3\\lib\\site-packages\\aif360\\algorithms\\inprocessing\\adversarial_debiasing.py:162: The name tf.train.AdamOptimizer is deprecated. Please use tf.compat.v1.train.AdamOptimizer instead.\n",
      "\n",
      "W0914 00:05:53.797809 22728 deprecation_wrapper.py:119] From c:\\users\\befaria\\appdata\\local\\continuum\\miniconda3\\lib\\site-packages\\aif360\\algorithms\\inprocessing\\adversarial_debiasing.py:166: The name tf.trainable_variables is deprecated. Please use tf.compat.v1.trainable_variables instead.\n",
      "\n",
      "W0914 00:05:54.251811 22728 deprecation_wrapper.py:119] From c:\\users\\befaria\\appdata\\local\\continuum\\miniconda3\\lib\\site-packages\\aif360\\algorithms\\inprocessing\\adversarial_debiasing.py:187: The name tf.global_variables_initializer is deprecated. Please use tf.compat.v1.global_variables_initializer instead.\n",
      "\n"
     ]
    },
    {
     "name": "stdout",
     "output_type": "stream",
     "text": [
      "epoch 0; iter: 0; batch classifier loss: 0.694134\n",
      "epoch 1; iter: 0; batch classifier loss: 0.653568\n",
      "epoch 2; iter: 0; batch classifier loss: 0.640304\n",
      "epoch 3; iter: 0; batch classifier loss: 0.605600\n",
      "epoch 4; iter: 0; batch classifier loss: 0.589743\n",
      "epoch 5; iter: 0; batch classifier loss: 0.585962\n",
      "epoch 6; iter: 0; batch classifier loss: 0.622227\n",
      "epoch 7; iter: 0; batch classifier loss: 0.616783\n",
      "epoch 8; iter: 0; batch classifier loss: 0.621861\n",
      "epoch 9; iter: 0; batch classifier loss: 0.616374\n",
      "epoch 10; iter: 0; batch classifier loss: 0.584814\n",
      "epoch 11; iter: 0; batch classifier loss: 0.607898\n",
      "epoch 12; iter: 0; batch classifier loss: 0.559656\n",
      "epoch 13; iter: 0; batch classifier loss: 0.580725\n",
      "epoch 14; iter: 0; batch classifier loss: 0.578082\n",
      "epoch 15; iter: 0; batch classifier loss: 0.582110\n",
      "epoch 16; iter: 0; batch classifier loss: 0.560773\n",
      "epoch 17; iter: 0; batch classifier loss: 0.575890\n",
      "epoch 18; iter: 0; batch classifier loss: 0.617325\n",
      "epoch 19; iter: 0; batch classifier loss: 0.539986\n",
      "epoch 20; iter: 0; batch classifier loss: 0.542495\n",
      "epoch 21; iter: 0; batch classifier loss: 0.540196\n",
      "epoch 22; iter: 0; batch classifier loss: 0.547730\n",
      "epoch 23; iter: 0; batch classifier loss: 0.534055\n",
      "epoch 24; iter: 0; batch classifier loss: 0.561479\n",
      "epoch 25; iter: 0; batch classifier loss: 0.615058\n",
      "epoch 26; iter: 0; batch classifier loss: 0.590250\n",
      "epoch 27; iter: 0; batch classifier loss: 0.538761\n",
      "epoch 28; iter: 0; batch classifier loss: 0.548703\n",
      "epoch 29; iter: 0; batch classifier loss: 0.555571\n",
      "epoch 30; iter: 0; batch classifier loss: 0.512716\n",
      "epoch 31; iter: 0; batch classifier loss: 0.553059\n",
      "epoch 32; iter: 0; batch classifier loss: 0.512426\n",
      "epoch 33; iter: 0; batch classifier loss: 0.489535\n",
      "epoch 34; iter: 0; batch classifier loss: 0.504694\n",
      "epoch 35; iter: 0; batch classifier loss: 0.518684\n",
      "epoch 36; iter: 0; batch classifier loss: 0.540675\n",
      "epoch 37; iter: 0; batch classifier loss: 0.513358\n",
      "epoch 38; iter: 0; batch classifier loss: 0.502689\n",
      "epoch 39; iter: 0; batch classifier loss: 0.572678\n",
      "epoch 40; iter: 0; batch classifier loss: 0.485548\n",
      "epoch 41; iter: 0; batch classifier loss: 0.546135\n",
      "epoch 42; iter: 0; batch classifier loss: 0.569362\n",
      "epoch 43; iter: 0; batch classifier loss: 0.484422\n",
      "epoch 44; iter: 0; batch classifier loss: 0.499393\n",
      "epoch 45; iter: 0; batch classifier loss: 0.554218\n",
      "epoch 46; iter: 0; batch classifier loss: 0.549836\n",
      "epoch 47; iter: 0; batch classifier loss: 0.540764\n",
      "epoch 48; iter: 0; batch classifier loss: 0.497082\n",
      "epoch 49; iter: 0; batch classifier loss: 0.423410\n"
     ]
    },
    {
     "data": {
      "text/plain": [
       "<aif360.algorithms.inprocessing.adversarial_debiasing.AdversarialDebiasing at 0x1ae338576a0>"
      ]
     },
     "execution_count": 15,
     "metadata": {},
     "output_type": "execute_result"
    }
   ],
   "source": [
    "biased_model.fit(German_train_bld)"
   ]
  },
  {
   "cell_type": "code",
   "execution_count": 16,
   "metadata": {},
   "outputs": [],
   "source": [
    "# Apply the plain model to test data\n",
    "German_biased_train = biased_model.predict(German_train_bld)\n",
    "German_biased_test  = biased_model.predict(German_test_bld)\n",
    "# And convert them to dataframes\n",
    "German_train_df, d = German_biased_train.convert_to_dataframe(de_dummy_code=False, sep='=', set_category=False)\n",
    "German_test_df, d  = German_biased_test.convert_to_dataframe(de_dummy_code=False, sep='=', set_category=False)"
   ]
  },
  {
   "cell_type": "code",
   "execution_count": 17,
   "metadata": {},
   "outputs": [
    {
     "name": "stdout",
     "output_type": "stream",
     "text": [
      "Model Accuracy for predicting the Sensitive Variable before bias transformation:\n",
      "Biased Logistic regression validation accuracy: 0.755\n",
      "Biased Random Forest       validation accuracy: 0.755\n",
      "\n",
      "Biased Balanced accuracy\n",
      "Biased Logistic regression balanced accuracy  : 0.622257053291536\n",
      "Biased Random Forest       balanced accuracy  : 0.5658307210031348\n"
     ]
    }
   ],
   "source": [
    "# Test whether it is possible to predict the Sensitive Variable from the biased dataset\n",
    "X_se_train = German_train_df.drop(protected_attr,axis=1)\n",
    "y_se_train = German_train_df[protected_attr]\n",
    "X_se_test  = German_test_df.drop(protected_attr,axis=1)\n",
    "y_se_test  = German_test_df[protected_attr]\n",
    "\n",
    "Se_BiasedLogModel = LogisticRegression(random_state=101)\n",
    "Se_BiasedRfcModel = RandomForestClassifier(n_estimators=100,max_depth=4,random_state=101)\n",
    "Se_BiasedLogModel.fit(X_se_train, y_se_train) \n",
    "Se_BiasedRfcModel.fit(X_se_train, y_se_train) \n",
    "yseLog_pred =  Se_BiasedLogModel.predict(X_se_test)\n",
    "yseRfc_pred =  Se_BiasedRfcModel.predict(X_se_test)\n",
    "# Now test whether we can predict Gender from the test dataset\n",
    "print('Model Accuracy for predicting the Sensitive Variable before bias transformation:')\n",
    "print(f\"Biased Logistic regression validation accuracy: {Se_BiasedLogModel.score(X_se_test, y_se_test)}\")\n",
    "print(f\"Biased Random Forest       validation accuracy: {Se_BiasedRfcModel.score(X_se_test, y_se_test)}\")\n",
    "print('')\n",
    "print('Biased Balanced accuracy')\n",
    "print(f\"Biased Logistic regression balanced accuracy  : {balanced_accuracy_score(y_se_test, yseLog_pred)}\")\n",
    "print(f\"Biased Random Forest       balanced accuracy  : {balanced_accuracy_score(y_se_test, yseRfc_pred)}\")"
   ]
  },
  {
   "cell_type": "code",
   "execution_count": 18,
   "metadata": {},
   "outputs": [
    {
     "data": {
      "text/markdown": [
       "#### Plain model - without debiasing - dataset metrics"
      ],
      "text/plain": [
       "<IPython.core.display.Markdown object>"
      ]
     },
     "metadata": {},
     "output_type": "display_data"
    },
    {
     "data": {
      "text/markdown": [
       "#### Biased training dataset"
      ],
      "text/plain": [
       "<IPython.core.display.Markdown object>"
      ]
     },
     "metadata": {},
     "output_type": "display_data"
    },
    {
     "name": "stdout",
     "output_type": "stream",
     "text": [
      "Number of instances           : 800.0\n",
      "Base Rate                     : 0.8475\n",
      "Consistency                   : [0.88275]\n",
      "Disparate Impact              : 0.894248912954303\n",
      "Mean Difference               : -0.09275049469329022\n",
      "Statistical Parity Difference : -0.09275049469329022\n"
     ]
    },
    {
     "data": {
      "text/markdown": [
       "#### Biased test dataset"
      ],
      "text/plain": [
       "<IPython.core.display.Markdown object>"
      ]
     },
     "metadata": {},
     "output_type": "display_data"
    },
    {
     "name": "stdout",
     "output_type": "stream",
     "text": [
      "Number of instances           : 200.0\n",
      "Base Rate                     : 0.85\n",
      "Consistency                   : [0.857]\n",
      "Disparate Impact              : 0.9206349206349207\n",
      "Mean Difference               : -0.06896551724137923\n",
      "Statistical Parity Difference : -0.06896551724137923\n"
     ]
    }
   ],
   "source": [
    "# Metrics for the dataset from plain model (without debiasing)\n",
    "display(Markdown(\"#### Plain model - without debiasing - dataset metrics\"))\n",
    "metric_biased_train = BinaryLabelDatasetMetric(German_biased_train, \n",
    "                             unprivileged_groups=unprivileged_groups,\n",
    "                             privileged_groups=privileged_groups)\n",
    "\n",
    "metric_biased_test = BinaryLabelDatasetMetric(German_biased_test, \n",
    "                            unprivileged_groups=unprivileged_groups,\n",
    "                            privileged_groups=privileged_groups)\n",
    "display(Markdown(\"#### Biased training dataset\"))\n",
    "print('Number of instances           :', metric_biased_train.num_instances())\n",
    "print('Base Rate                     :', metric_biased_train.base_rate())\n",
    "print('Consistency                   :', metric_biased_train.consistency())\n",
    "print('Disparate Impact              :', metric_biased_train.disparate_impact())\n",
    "print('Mean Difference               :', metric_biased_train.mean_difference())\n",
    "print('Statistical Parity Difference :', metric_biased_train.statistical_parity_difference()) \n",
    "display(Markdown(\"#### Biased test dataset\"))\n",
    "print('Number of instances           :', metric_biased_test.num_instances())\n",
    "print('Base Rate                     :', metric_biased_test.base_rate())\n",
    "print('Consistency                   :', metric_biased_test.consistency())\n",
    "print('Disparate Impact              :', metric_biased_test.disparate_impact())\n",
    "print('Mean Difference               :', metric_biased_test.mean_difference())\n",
    "print('Statistical Parity Difference :', metric_biased_test.statistical_parity_difference()) "
   ]
  },
  {
   "cell_type": "code",
   "execution_count": 19,
   "metadata": {},
   "outputs": [],
   "source": [
    "# Create the Classification metric for train and test\n",
    "classified_metric_biased_test = ClassificationMetric(German_train_bld, German_biased_train,\n",
    "                                       unprivileged_groups=unprivileged_groups,\n",
    "                                       privileged_groups=privileged_groups)\n",
    "classified_metric_biased_train = ClassificationMetric(German_test_bld, German_biased_test,\n",
    "                                       unprivileged_groups=unprivileged_groups,\n",
    "                                       privileged_groups=privileged_groups)"
   ]
  },
  {
   "cell_type": "code",
   "execution_count": 20,
   "metadata": {},
   "outputs": [
    {
     "data": {
      "text/markdown": [
       "#### Plain model - without debiasing - classification metrics"
      ],
      "text/plain": [
       "<IPython.core.display.Markdown object>"
      ]
     },
     "metadata": {},
     "output_type": "display_data"
    },
    {
     "data": {
      "text/markdown": [
       "#### Biased training dataset - CLassification Metrics"
      ],
      "text/plain": [
       "<IPython.core.display.Markdown object>"
      ]
     },
     "metadata": {},
     "output_type": "display_data"
    },
    {
     "name": "stdout",
     "output_type": "stream",
     "text": [
      "Classification accuracy         = 0.715\n",
      "Balanced classification accuracy= 0.5721003134796239\n",
      "Disparate impact                = 0.9206349206349207\n",
      "Equal opportunity difference    = -0.04285714285714293\n",
      "Average odds difference         = -0.05714285714285722\n",
      "Theil_index                     = 0.1348306034810188\n"
     ]
    },
    {
     "data": {
      "text/markdown": [
       "#### Biased test dataset - CLassification Metrics"
      ],
      "text/plain": [
       "<IPython.core.display.Markdown object>"
      ]
     },
     "metadata": {},
     "output_type": "display_data"
    },
    {
     "name": "stdout",
     "output_type": "stream",
     "text": [
      "Classification accuracy         = 0.76125\n",
      "Balanced classification accuracy= 0.6489612061040633\n",
      "Disparate impact                = 0.894248912954303\n",
      "Equal opportunity difference    = -0.02432867717657261\n",
      "Average odds difference         = -0.1006834973321642\n",
      "Theil_index                     = 0.09278770952024615\n"
     ]
    }
   ],
   "source": [
    "display(Markdown(\"#### Plain model - without debiasing - classification metrics\"))\n",
    "\n",
    "display(Markdown(\"#### Biased training dataset - CLassification Metrics\"))\n",
    "TPR_train = classified_metric_biased_train.true_positive_rate()\n",
    "TNR_train = classified_metric_biased_train.true_negative_rate()\n",
    "bal_acc_biased_train = 0.5*(TPR_train + TNR_train)\n",
    "print('Classification accuracy         =', classified_metric_biased_train.accuracy())\n",
    "print('Balanced classification accuracy=', bal_acc_biased_train)\n",
    "print('Disparate impact                =', classified_metric_biased_train.disparate_impact())\n",
    "print('Equal opportunity difference    =', classified_metric_biased_train.equal_opportunity_difference())\n",
    "print('Average odds difference         =', classified_metric_biased_train.average_odds_difference())\n",
    "print('Theil_index                     =', classified_metric_biased_train.theil_index())\n",
    "\n",
    "display(Markdown(\"#### Biased test dataset - CLassification Metrics\"))\n",
    "TPR_test = classified_metric_biased_test.true_positive_rate()\n",
    "TNR_test = classified_metric_biased_test.true_negative_rate()\n",
    "bal_acc_biased_test = 0.5*(TPR_test+TNR_test)\n",
    "print('Classification accuracy         =', classified_metric_biased_test.accuracy())\n",
    "print('Balanced classification accuracy=', bal_acc_biased_test)\n",
    "print('Disparate impact                =', classified_metric_biased_test.disparate_impact())\n",
    "print('Equal opportunity difference    =', classified_metric_biased_test.equal_opportunity_difference())\n",
    "print('Average odds difference         =', classified_metric_biased_test.average_odds_difference())\n",
    "print('Theil_index                     =', classified_metric_biased_test.theil_index())"
   ]
  },
  {
   "cell_type": "code",
   "execution_count": 21,
   "metadata": {},
   "outputs": [],
   "source": [
    "sess.close()\n",
    "tf.reset_default_graph()\n",
    "sess = tf.Session()"
   ]
  },
  {
   "cell_type": "code",
   "execution_count": 22,
   "metadata": {},
   "outputs": [],
   "source": [
    "unbiased_model = AdversarialDebiasing(privileged_groups = privileged_groups,\n",
    "                          unprivileged_groups = unprivileged_groups,\n",
    "                          scope_name='plain_classifier',\n",
    "                          debias=True,\n",
    "                          sess=sess)"
   ]
  },
  {
   "cell_type": "code",
   "execution_count": 23,
   "metadata": {},
   "outputs": [
    {
     "name": "stdout",
     "output_type": "stream",
     "text": [
      "epoch 0; iter: 0; batch classifier loss: 0.727130; batch adversarial loss: 0.681455\n",
      "epoch 1; iter: 0; batch classifier loss: 0.703990; batch adversarial loss: 0.674060\n",
      "epoch 2; iter: 0; batch classifier loss: 0.676257; batch adversarial loss: 0.680588\n",
      "epoch 3; iter: 0; batch classifier loss: 0.664822; batch adversarial loss: 0.680126\n",
      "epoch 4; iter: 0; batch classifier loss: 0.648972; batch adversarial loss: 0.663950\n",
      "epoch 5; iter: 0; batch classifier loss: 0.640814; batch adversarial loss: 0.672114\n",
      "epoch 6; iter: 0; batch classifier loss: 0.658273; batch adversarial loss: 0.670931\n",
      "epoch 7; iter: 0; batch classifier loss: 0.588764; batch adversarial loss: 0.679681\n",
      "epoch 8; iter: 0; batch classifier loss: 0.644398; batch adversarial loss: 0.673680\n",
      "epoch 9; iter: 0; batch classifier loss: 0.628681; batch adversarial loss: 0.666555\n",
      "epoch 10; iter: 0; batch classifier loss: 0.646635; batch adversarial loss: 0.675722\n",
      "epoch 11; iter: 0; batch classifier loss: 0.645015; batch adversarial loss: 0.671116\n",
      "epoch 12; iter: 0; batch classifier loss: 0.655397; batch adversarial loss: 0.649706\n",
      "epoch 13; iter: 0; batch classifier loss: 0.644475; batch adversarial loss: 0.672016\n",
      "epoch 14; iter: 0; batch classifier loss: 0.641158; batch adversarial loss: 0.652123\n",
      "epoch 15; iter: 0; batch classifier loss: 0.644189; batch adversarial loss: 0.655947\n",
      "epoch 16; iter: 0; batch classifier loss: 0.603043; batch adversarial loss: 0.674931\n",
      "epoch 17; iter: 0; batch classifier loss: 0.618996; batch adversarial loss: 0.658000\n",
      "epoch 18; iter: 0; batch classifier loss: 0.645108; batch adversarial loss: 0.658221\n",
      "epoch 19; iter: 0; batch classifier loss: 0.644274; batch adversarial loss: 0.662215\n",
      "epoch 20; iter: 0; batch classifier loss: 0.625277; batch adversarial loss: 0.675061\n",
      "epoch 21; iter: 0; batch classifier loss: 0.694686; batch adversarial loss: 0.647592\n",
      "epoch 22; iter: 0; batch classifier loss: 0.628173; batch adversarial loss: 0.655768\n",
      "epoch 23; iter: 0; batch classifier loss: 0.623809; batch adversarial loss: 0.670101\n",
      "epoch 24; iter: 0; batch classifier loss: 0.620349; batch adversarial loss: 0.651039\n",
      "epoch 25; iter: 0; batch classifier loss: 0.593755; batch adversarial loss: 0.683465\n",
      "epoch 26; iter: 0; batch classifier loss: 0.613991; batch adversarial loss: 0.654144\n",
      "epoch 27; iter: 0; batch classifier loss: 0.645380; batch adversarial loss: 0.678130\n",
      "epoch 28; iter: 0; batch classifier loss: 0.585473; batch adversarial loss: 0.656761\n",
      "epoch 29; iter: 0; batch classifier loss: 0.590710; batch adversarial loss: 0.669706\n",
      "epoch 30; iter: 0; batch classifier loss: 0.648673; batch adversarial loss: 0.644004\n",
      "epoch 31; iter: 0; batch classifier loss: 0.663770; batch adversarial loss: 0.653053\n",
      "epoch 32; iter: 0; batch classifier loss: 0.647303; batch adversarial loss: 0.672892\n",
      "epoch 33; iter: 0; batch classifier loss: 0.692188; batch adversarial loss: 0.658840\n",
      "epoch 34; iter: 0; batch classifier loss: 0.563688; batch adversarial loss: 0.680155\n",
      "epoch 35; iter: 0; batch classifier loss: 0.644520; batch adversarial loss: 0.656025\n",
      "epoch 36; iter: 0; batch classifier loss: 0.599478; batch adversarial loss: 0.699882\n",
      "epoch 37; iter: 0; batch classifier loss: 0.624371; batch adversarial loss: 0.654837\n",
      "epoch 38; iter: 0; batch classifier loss: 0.672260; batch adversarial loss: 0.659099\n",
      "epoch 39; iter: 0; batch classifier loss: 0.602480; batch adversarial loss: 0.638941\n",
      "epoch 40; iter: 0; batch classifier loss: 0.680052; batch adversarial loss: 0.656985\n",
      "epoch 41; iter: 0; batch classifier loss: 0.636243; batch adversarial loss: 0.647285\n",
      "epoch 42; iter: 0; batch classifier loss: 0.626984; batch adversarial loss: 0.640298\n",
      "epoch 43; iter: 0; batch classifier loss: 0.586264; batch adversarial loss: 0.641398\n",
      "epoch 44; iter: 0; batch classifier loss: 0.594107; batch adversarial loss: 0.661252\n",
      "epoch 45; iter: 0; batch classifier loss: 0.614901; batch adversarial loss: 0.633595\n",
      "epoch 46; iter: 0; batch classifier loss: 0.612912; batch adversarial loss: 0.674044\n",
      "epoch 47; iter: 0; batch classifier loss: 0.599296; batch adversarial loss: 0.630333\n",
      "epoch 48; iter: 0; batch classifier loss: 0.610039; batch adversarial loss: 0.609761\n",
      "epoch 49; iter: 0; batch classifier loss: 0.586859; batch adversarial loss: 0.654663\n"
     ]
    },
    {
     "data": {
      "text/plain": [
       "<aif360.algorithms.inprocessing.adversarial_debiasing.AdversarialDebiasing at 0x1ae3465d128>"
      ]
     },
     "execution_count": 23,
     "metadata": {},
     "output_type": "execute_result"
    }
   ],
   "source": [
    "unbiased_model.fit(German_train_bld)"
   ]
  },
  {
   "cell_type": "code",
   "execution_count": 24,
   "metadata": {},
   "outputs": [],
   "source": [
    "German_unbiased_train = unbiased_model.predict(German_train_bld)\n",
    "German_unbiased_test  = unbiased_model.predict(German_test_bld)\n",
    "# And convert these to dataframes..\n",
    "German_train_df, d = German_unbiased_train.convert_to_dataframe(de_dummy_code=False, sep='=', set_category=False)\n",
    "German_test_df, d  = German_unbiased_test.convert_to_dataframe(de_dummy_code=False, sep='=', set_category=False)"
   ]
  },
  {
   "cell_type": "code",
   "execution_count": 25,
   "metadata": {},
   "outputs": [
    {
     "data": {
      "text/markdown": [
       "#### Plain model - after unbiasing - dataset metrics"
      ],
      "text/plain": [
       "<IPython.core.display.Markdown object>"
      ]
     },
     "metadata": {},
     "output_type": "display_data"
    },
    {
     "data": {
      "text/markdown": [
       "#### Biased training dataset"
      ],
      "text/plain": [
       "<IPython.core.display.Markdown object>"
      ]
     },
     "metadata": {},
     "output_type": "display_data"
    },
    {
     "name": "stdout",
     "output_type": "stream",
     "text": [
      "Number of instances           : 800.0\n",
      "Base Rate                     : 0.76625\n",
      "Consistency                   : [0.8675]\n",
      "Disparate Impact              : 1.4229006820119352\n",
      "Mean Difference               : 0.28555495592732505\n",
      "Statistical Parity Difference : 0.28555495592732505\n"
     ]
    },
    {
     "data": {
      "text/markdown": [
       "#### Biased test dataset"
      ],
      "text/plain": [
       "<IPython.core.display.Markdown object>"
      ]
     },
     "metadata": {},
     "output_type": "display_data"
    },
    {
     "name": "stdout",
     "output_type": "stream",
     "text": [
      "Number of instances           : 200.0\n",
      "Base Rate                     : 0.775\n",
      "Consistency                   : [0.841]\n",
      "Disparate Impact              : 1.4095409540954096\n",
      "Mean Difference               : 0.28526645768025083\n",
      "Statistical Parity Difference : 0.28526645768025083\n"
     ]
    }
   ],
   "source": [
    "# Metrics for the dataset from plain model (after unbiasing)\n",
    "display(Markdown(\"#### Plain model - after unbiasing - dataset metrics\"))\n",
    "metric_unbiased_train = BinaryLabelDatasetMetric(German_unbiased_train, \n",
    "                             unprivileged_groups=unprivileged_groups,\n",
    "                             privileged_groups=privileged_groups)\n",
    "\n",
    "metric_unbiased_test = BinaryLabelDatasetMetric(German_unbiased_test, \n",
    "                            unprivileged_groups=unprivileged_groups,\n",
    "                            privileged_groups=privileged_groups)\n",
    "display(Markdown(\"#### Biased training dataset\"))\n",
    "print('Number of instances           :', metric_unbiased_train.num_instances())\n",
    "print('Base Rate                     :', metric_unbiased_train.base_rate())\n",
    "print('Consistency                   :', metric_unbiased_train.consistency())\n",
    "print('Disparate Impact              :', metric_unbiased_train.disparate_impact())\n",
    "print('Mean Difference               :', metric_unbiased_train.mean_difference())\n",
    "print('Statistical Parity Difference :', metric_unbiased_train.statistical_parity_difference()) \n",
    "display(Markdown(\"#### Biased test dataset\"))\n",
    "print('Number of instances           :', metric_unbiased_test.num_instances())\n",
    "print('Base Rate                     :', metric_unbiased_test.base_rate())\n",
    "print('Consistency                   :', metric_unbiased_test.consistency())\n",
    "print('Disparate Impact              :', metric_unbiased_test.disparate_impact())\n",
    "print('Mean Difference               :', metric_unbiased_test.mean_difference())\n",
    "print('Statistical Parity Difference :', metric_unbiased_test.statistical_parity_difference()) "
   ]
  },
  {
   "cell_type": "code",
   "execution_count": 26,
   "metadata": {},
   "outputs": [],
   "source": [
    "# Create the Classification metric for train and test\n",
    "classified_metric_unbiased_train = ClassificationMetric(German_train_bld, German_unbiased_train,\n",
    "                                       unprivileged_groups=unprivileged_groups,\n",
    "                                       privileged_groups=privileged_groups)\n",
    "classified_metric_unbiased_test = ClassificationMetric(German_test_bld, German_unbiased_test,\n",
    "                                       unprivileged_groups=unprivileged_groups,\n",
    "                                       privileged_groups=privileged_groups)"
   ]
  },
  {
   "cell_type": "code",
   "execution_count": 27,
   "metadata": {},
   "outputs": [
    {
     "data": {
      "text/markdown": [
       "#### Plain model - after debiasing - classification metrics"
      ],
      "text/plain": [
       "<IPython.core.display.Markdown object>"
      ]
     },
     "metadata": {},
     "output_type": "display_data"
    },
    {
     "data": {
      "text/markdown": [
       "#### Unbiased training dataset - CLassification Metrics"
      ],
      "text/plain": [
       "<IPython.core.display.Markdown object>"
      ]
     },
     "metadata": {},
     "output_type": "display_data"
    },
    {
     "name": "stdout",
     "output_type": "stream",
     "text": [
      "Classification accuracy         = 0.71\n",
      "Balanced classification accuracy= 0.6257032542746829\n",
      "Disparate impact                = 1.4229006820119352\n",
      "Equal opportunity difference    = 0.2236503856041131\n",
      "Average odds difference         = 0.34410695598269614\n",
      "Theil_index                     = 0.1642881437538392\n"
     ]
    },
    {
     "data": {
      "text/markdown": [
       "#### Unbiased test dataset - CLassification Metrics"
      ],
      "text/plain": [
       "<IPython.core.display.Markdown object>"
      ]
     },
     "metadata": {},
     "output_type": "display_data"
    },
    {
     "name": "stdout",
     "output_type": "stream",
     "text": [
      "Classification accuracy         = 0.66\n",
      "Balanced classification accuracy= 0.5454545454545454\n",
      "Disparate impact                = 1.4095409540954096\n",
      "Equal opportunity difference    = 0.26363636363636367\n",
      "Average odds difference         = 0.3211038961038961\n",
      "Theil_index                     = 0.20866450289569044\n"
     ]
    }
   ],
   "source": [
    "display(Markdown(\"#### Plain model - after debiasing - classification metrics\"))\n",
    "display(Markdown(\"#### Unbiased training dataset - CLassification Metrics\"))\n",
    "TPR_train = classified_metric_unbiased_train.true_positive_rate()\n",
    "TNR_train = classified_metric_unbiased_train.true_negative_rate()\n",
    "bal_acc_unbiased_train = 0.5*(TPR_train + TNR_train)\n",
    "print('Classification accuracy         =', classified_metric_unbiased_train.accuracy())\n",
    "print('Balanced classification accuracy=', bal_acc_unbiased_train)\n",
    "print('Disparate impact                =', classified_metric_unbiased_train.disparate_impact())\n",
    "print('Equal opportunity difference    =', classified_metric_unbiased_train.equal_opportunity_difference())\n",
    "print('Average odds difference         =', classified_metric_unbiased_train.average_odds_difference())\n",
    "print('Theil_index                     =', classified_metric_unbiased_train.theil_index())\n",
    "\n",
    "display(Markdown(\"#### Unbiased test dataset - CLassification Metrics\"))\n",
    "TPR_test = classified_metric_unbiased_test.true_positive_rate()\n",
    "TNR_test = classified_metric_unbiased_test.true_negative_rate()\n",
    "bal_acc_unbiased_test = 0.5*(TPR_test+TNR_test)\n",
    "print('Classification accuracy         =', classified_metric_unbiased_test.accuracy())\n",
    "print('Balanced classification accuracy=', bal_acc_unbiased_test)\n",
    "print('Disparate impact                =', classified_metric_unbiased_test.disparate_impact())\n",
    "print('Equal opportunity difference    =', classified_metric_unbiased_test.equal_opportunity_difference())\n",
    "print('Average odds difference         =', classified_metric_unbiased_test.average_odds_difference())\n",
    "print('Theil_index                     =', classified_metric_unbiased_test.theil_index())"
   ]
  },
  {
   "cell_type": "code",
   "execution_count": 28,
   "metadata": {},
   "outputs": [
    {
     "name": "stdout",
     "output_type": "stream",
     "text": [
      "Model Accuracy for Log Reg and RFC after bias transformation:\n",
      "Biased Logistic regression validation accuracy: 0.895\n",
      "Biased Random Forest       validation accuracy: 0.875\n",
      "\n",
      "Biased Balanced accuracy\n",
      "Biased Logistic regression balanced accuracy  : 0.7903225806451613\n",
      "Biased Random Forest       balanced accuracy  : 0.7379928315412186\n"
     ]
    }
   ],
   "source": [
    "# Determine the after-transformation model accuracy for Logistic Regression and Random Forest Classifiers\n",
    "X_train = German_train_df.drop(lab,axis=1)\n",
    "y_train = German_train_df[lab]\n",
    "X_test  = German_test_df.drop(lab,axis=1)\n",
    "y_test  = German_test_df[lab]\n",
    "\n",
    "UnbiasedLogModel = LogisticRegression(random_state=101)\n",
    "UnbiasedRfcModel = RandomForestClassifier(n_estimators=100,max_depth=4,random_state=101)\n",
    "UnbiasedLogModel.fit(X_train, y_train) \n",
    "UnbiasedRfcModel.fit(X_train, y_train) \n",
    "UnbiasedLog_pred = UnbiasedLogModel.predict(X_test)\n",
    "UnbiasedRfc_pred = UnbiasedRfcModel.predict(X_test)\n",
    "\n",
    "# Now get Logistic Regression and Random Forest Clasisfication performancce of unbiased data\n",
    "print('Model Accuracy for Log Reg and RFC after bias transformation:')\n",
    "print(f\"Biased Logistic regression validation accuracy: {UnbiasedLogModel.score(X_test, y_test)}\")\n",
    "print(f\"Biased Random Forest       validation accuracy: {UnbiasedRfcModel.score(X_test, y_test)}\")\n",
    "print('')\n",
    "print('Biased Balanced accuracy')\n",
    "print(f\"Biased Logistic regression balanced accuracy  : {balanced_accuracy_score(y_test, UnbiasedLog_pred)}\")\n",
    "print(f\"Biased Random Forest       balanced accuracy  : {balanced_accuracy_score(y_test, UnbiasedRfc_pred)}\")"
   ]
  },
  {
   "cell_type": "code",
   "execution_count": 29,
   "metadata": {},
   "outputs": [
    {
     "name": "stdout",
     "output_type": "stream",
     "text": [
      "Model Accuracy for predicting the Sensitive Variable before bias transformation:\n",
      "Biased Logistic regression validation accuracy: 0.78\n",
      "Biased Random Forest       validation accuracy: 0.78\n",
      "\n",
      "Biased Balanced accuracy\n",
      "Biased Logistic regression balanced accuracy  : 0.6846394984326019\n",
      "Biased Random Forest       balanced accuracy  : 0.6225705329153605\n"
     ]
    }
   ],
   "source": [
    "# Finally test whether it is possible to predict the Sensitive Variable from the transformed dataset\n",
    "X_se_train = German_train_df.drop(protected_attr,axis=1)\n",
    "y_se_train = German_train_df[protected_attr]\n",
    "X_se_test  = German_test_df.drop(protected_attr,axis=1)\n",
    "y_se_test  = German_test_df[protected_attr]\n",
    "\n",
    "Se_unbiasedLogModel = LogisticRegression(random_state=101)\n",
    "Se_unbiasedRfcModel = RandomForestClassifier(n_estimators=100,max_depth=4,random_state=101)\n",
    "Se_unbiasedLogModel.fit(X_se_train, y_se_train) \n",
    "Se_unbiasedRfcModel.fit(X_se_train, y_se_train) \n",
    "yseLog_pred =  Se_unbiasedLogModel.predict(X_se_test)\n",
    "yseRfc_pred =  Se_unbiasedRfcModel.predict(X_se_test)\n",
    "# Now test whether we can predict Gender from the test dataset\n",
    "print('Model Accuracy for predicting the Sensitive Variable before bias transformation:')\n",
    "print(f\"Biased Logistic regression validation accuracy: {Se_unbiasedLogModel.score(X_se_test, y_se_test)}\")\n",
    "print(f\"Biased Random Forest       validation accuracy: {Se_unbiasedRfcModel.score(X_se_test, y_se_test)}\")\n",
    "print('')\n",
    "print('Biased Balanced accuracy')\n",
    "print(f\"Biased Logistic regression balanced accuracy  : {balanced_accuracy_score(y_se_test, yseLog_pred)}\")\n",
    "print(f\"Biased Random Forest       balanced accuracy  : {balanced_accuracy_score(y_se_test, yseRfc_pred)}\")"
   ]
  },
  {
   "cell_type": "code",
   "execution_count": 30,
   "metadata": {},
   "outputs": [
    {
     "name": "stdout",
     "output_type": "stream",
     "text": [
      "Predicted Training After - CreditStatus value counts:\n",
      "1.0    613\n",
      "0.0    187\n",
      "Name: CreditStatus, dtype: int64\n",
      "Predicted Training After - Gender value counts:\n",
      "1.0    545\n",
      "0.0    255\n",
      "Name: Gender, dtype: int64\n"
     ]
    }
   ],
   "source": [
    "print('Predicted Training After - CreditStatus value counts:')\n",
    "print(German_train_df.CreditStatus.value_counts())\n",
    "print('Predicted Training After - Gender value counts:')\n",
    "print(German_train_df.Gender.value_counts())"
   ]
  },
  {
   "cell_type": "code",
   "execution_count": 31,
   "metadata": {},
   "outputs": [
    {
     "name": "stdout",
     "output_type": "stream",
     "text": [
      "Predicted Test After - CreditStatus value counts:\n",
      "1.0    155\n",
      "0.0     45\n",
      "Name: CreditStatus, dtype: int64\n",
      "Predicted Test After - Gender value counts:\n",
      "1.0    145\n",
      "0.0     55\n",
      "Name: Gender, dtype: int64\n"
     ]
    }
   ],
   "source": [
    "print('Predicted Test After - CreditStatus value counts:')\n",
    "print(German_test_df.CreditStatus.value_counts())\n",
    "print('Predicted Test After - Gender value counts:')\n",
    "print(German_test_df.Gender.value_counts())"
   ]
  }
 ],
 "metadata": {
  "kernelspec": {
   "display_name": "Python 3",
   "language": "python",
   "name": "python3"
  },
  "language_info": {
   "codemirror_mode": {
    "name": "ipython",
    "version": 3
   },
   "file_extension": ".py",
   "mimetype": "text/x-python",
   "name": "python",
   "nbconvert_exporter": "python",
   "pygments_lexer": "ipython3",
   "version": "3.7.3"
  }
 },
 "nbformat": 4,
 "nbformat_minor": 2
}
