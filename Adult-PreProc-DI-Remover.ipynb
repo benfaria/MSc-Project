{
 "cells": [
  {
   "cell_type": "code",
   "execution_count": 1,
   "metadata": {},
   "outputs": [],
   "source": [
    "# Import Data handling/display libraries\n",
    "import pandas  as pd\n",
    "import numpy   as np\n",
    "import seaborn as sns\n",
    "sns.set()\n",
    "sns.set_context(\"talk\")\n",
    "import matplotlib.pyplot as plt\n",
    "from IPython.display import display\n",
    "from typing import List, Union, Dict\n",
    "# Import scikit-learn core slibraries\n",
    "from sklearn.metrics         import auc, roc_auc_score, roc_curve\n",
    "from sklearn.metrics         import classification_report, confusion_matrix\n",
    "from sklearn.linear_model    import LogisticRegression\n",
    "from sklearn.ensemble        import RandomForestClassifier\n",
    "from sklearn.preprocessing   import MinMaxScaler\n",
    "from sklearn.metrics         import balanced_accuracy_score\n",
    "from sklearn.model_selection import train_test_split\n",
    "from collections             import Counter\n",
    "from IPython.display         import Markdown, display\n",
    "# Import IBM's AI Fairness tooolbox\n",
    "from aif360.datasets   import BinaryLabelDataset  # To handle the data\n",
    "from aif360.metrics    import BinaryLabelDatasetMetric, ClassificationMetric, DatasetMetric  # For calculating metrics\n",
    "from aif360.explainers import MetricTextExplainer  # For explaining metrics\n",
    "from aif360.algorithms import Transformer\n",
    "from aif360.algorithms.preprocessing import DisparateImpactRemover # Preprocessing technique\n",
    "# Warnings will be used to silence various model warnings for tidier output\n",
    "import warnings\n",
    "warnings.filterwarnings('ignore')"
   ]
  },
  {
   "cell_type": "code",
   "execution_count": 2,
   "metadata": {},
   "outputs": [],
   "source": [
    "# Read the cleaned Adult dataset\n",
    "Adult_df = pd.read_csv('./input/adult-cleaned.csv')"
   ]
  },
  {
   "cell_type": "code",
   "execution_count": 3,
   "metadata": {},
   "outputs": [],
   "source": [
    "# The AIF demo drops the following columns - we'll try the same\n",
    "#Adult_df.drop([\"Fnlwgt\", \"NativeCountry\", \"Relationship\", \"MaritalStatus\"],axis=1,inplace=True)\n",
    "Adult_df.drop([\"Fnlwgt\"],axis=1,inplace=True)"
   ]
  },
  {
   "cell_type": "code",
   "execution_count": 4,
   "metadata": {},
   "outputs": [],
   "source": [
    "# Set privileged (1)/ unprivileged (0)/ favourable (1) / unfavourable values (0)\n",
    "protected_attr      = 'Gender'\n",
    "priv_grp            = 1  # Males \n",
    "unpriv_grp          = 0  # Females  \n",
    "lab                 = 'Income'\n",
    "fav_label           = 1 # Income over £50K\n",
    "unfav_label         = 0 # Income under £50K\n",
    "privileged_groups   = [{protected_attr: priv_grp}]   # Males\n",
    "unprivileged_groups = [{protected_attr: unpriv_grp}] # Females"
   ]
  },
  {
   "cell_type": "code",
   "execution_count": 5,
   "metadata": {},
   "outputs": [],
   "source": [
    "# Create a Binary Label Dataset to use with AIF360 APIs\n",
    "X = Adult_df.drop(lab,axis=1)\n",
    "y = Adult_df[lab]"
   ]
  },
  {
   "cell_type": "code",
   "execution_count": 6,
   "metadata": {},
   "outputs": [],
   "source": [
    "Adult_bld = BinaryLabelDataset(df=pd.concat((X, y), axis=1),\n",
    "                                label_names=[lab], protected_attribute_names=[protected_attr],\n",
    "                                favorable_label=fav_label, unfavorable_label=unfav_label)"
   ]
  },
  {
   "cell_type": "code",
   "execution_count": 7,
   "metadata": {},
   "outputs": [],
   "source": [
    "# Create train and test datasets\n",
    "Adult_train_bld, Adult_test_bld = Adult_bld.split([0.8], shuffle=True, seed=101)"
   ]
  },
  {
   "cell_type": "code",
   "execution_count": 8,
   "metadata": {},
   "outputs": [],
   "source": [
    "scaler = MinMaxScaler(copy=False)\n",
    "Adult_train_bld.features = scaler.fit_transform(Adult_train_bld.features)\n",
    "Adult_test_bld.features  = scaler.fit_transform(Adult_test_bld.features)"
   ]
  },
  {
   "cell_type": "code",
   "execution_count": 9,
   "metadata": {},
   "outputs": [],
   "source": [
    "Adult_train_df, d = Adult_train_bld.convert_to_dataframe(de_dummy_code=False, sep='=', set_category=False)\n",
    "Adult_test_df,  d = Adult_test_bld.convert_to_dataframe(de_dummy_code=False, sep='=', set_category=False)"
   ]
  },
  {
   "cell_type": "code",
   "execution_count": 10,
   "metadata": {},
   "outputs": [
    {
     "name": "stdout",
     "output_type": "stream",
     "text": [
      "Model Accuracy for predicting the Sensitive Variable before bias transformation:\n",
      "Biased Logistic regression validation accuracy: 0.7607738765482649\n",
      "Biased Random Forest       validation accuracy: 0.8003889855665882\n",
      "\n",
      "Biased Balanced accuracy\n",
      "Biased Logistic regression balanced accuracy  : 0.6952920907607211\n",
      "Biased Random Forest       balanced accuracy  : 0.7569811626718649\n"
     ]
    }
   ],
   "source": [
    "# First test whether it is possible to predict the Sensitive Variable from the whole original dataset\n",
    "X_se_train = Adult_train_df.drop(protected_attr,axis=1)\n",
    "y_se_train = Adult_train_df[protected_attr]\n",
    "X_se_test  = Adult_test_df.drop(protected_attr,axis=1)\n",
    "y_se_test  = Adult_test_df[protected_attr]\n",
    "\n",
    "Se_BiasedLogModel = LogisticRegression(random_state=101)\n",
    "Se_BiasedRfcModel = RandomForestClassifier(n_estimators=100,max_depth=4,random_state=101)\n",
    "Se_BiasedLogModel.fit(X_se_train, y_se_train) \n",
    "Se_BiasedRfcModel.fit(X_se_train, y_se_train) \n",
    "yseLog_pred =  Se_BiasedLogModel.predict(X_se_test)\n",
    "yseRfc_pred =  Se_BiasedRfcModel.predict(X_se_test)\n",
    "# Now test whether we can predict Gender from the test dataset\n",
    "print('Model Accuracy for predicting the Sensitive Variable before bias transformation:')\n",
    "print(f\"Biased Logistic regression validation accuracy: {Se_BiasedLogModel.score(X_se_test, y_se_test)}\")\n",
    "print(f\"Biased Random Forest       validation accuracy: {Se_BiasedRfcModel.score(X_se_test, y_se_test)}\")\n",
    "print('')\n",
    "print('Biased Balanced accuracy')\n",
    "print(f\"Biased Logistic regression balanced accuracy  : {balanced_accuracy_score(y_se_test, yseLog_pred)}\")\n",
    "print(f\"Biased Random Forest       balanced accuracy  : {balanced_accuracy_score(y_se_test, yseRfc_pred)}\")"
   ]
  },
  {
   "cell_type": "code",
   "execution_count": 11,
   "metadata": {},
   "outputs": [
    {
     "name": "stdout",
     "output_type": "stream",
     "text": [
      "Training Before - Income value counts:\n",
      "0.0    29750\n",
      "1.0     9323\n",
      "Name: Income, dtype: int64\n",
      "Training Before - Gender value counts:\n",
      "1.0    26143\n",
      "0.0    12930\n",
      "Name: Gender, dtype: int64\n"
     ]
    }
   ],
   "source": [
    "# Next get the number of labels from the training dataset\n",
    "print('Training Before - Income value counts:')\n",
    "print(Adult_train_df.Income.value_counts())\n",
    "print('Training Before - Gender value counts:')\n",
    "print(Adult_train_df.Gender.value_counts())"
   ]
  },
  {
   "cell_type": "code",
   "execution_count": 12,
   "metadata": {},
   "outputs": [
    {
     "name": "stdout",
     "output_type": "stream",
     "text": [
      "Biased Logistic regression validation accuracy: 0.8195311700276384\n",
      "Biased Random Forest       validation accuracy: 0.8344764049544477\n",
      "\n",
      "Biased Logistic regression balanced accuracy  : 0.6914758971792736\n",
      "Biased Random forest balanced accuracy        : 0.6781526807126022\n"
     ]
    }
   ],
   "source": [
    "# Determine the baseline model accuracy for Logistic Regression and Random Forest Classifiers\n",
    "X_train = Adult_train_df.drop(lab,axis=1)\n",
    "y_train = Adult_train_df[lab]\n",
    "X_test  = Adult_test_df.drop(lab,axis=1)\n",
    "y_test  = Adult_test_df[lab]\n",
    "\n",
    "BiasedLogModel = LogisticRegression(random_state=101)\n",
    "BiasedRfcModel = RandomForestClassifier(n_estimators=100,max_depth=4,random_state=101)\n",
    "\n",
    "BiasedLogModel.fit(X_train, y_train) \n",
    "BiasedRfcModel.fit(X_train, y_train)\n",
    "\n",
    "BiasedLogPredictions = BiasedLogModel.predict(X_test)\n",
    "BiasedRfcPredictions = BiasedRfcModel.predict(X_test)\n",
    "print(f\"Biased Logistic regression validation accuracy: {BiasedLogModel.score(X_test, y_test)}\")\n",
    "print(f\"Biased Random Forest       validation accuracy: {BiasedRfcModel.score(X_test, y_test)}\")\n",
    "print('')\n",
    "print(f\"Biased Logistic regression balanced accuracy  : {balanced_accuracy_score(y_test, BiasedLogPredictions)}\")\n",
    "print(f\"Biased Random forest balanced accuracy        : {balanced_accuracy_score(y_test, BiasedRfcPredictions)}\")"
   ]
  },
  {
   "cell_type": "code",
   "execution_count": 13,
   "metadata": {},
   "outputs": [
    {
     "data": {
      "text/markdown": [
       "#### Biased training dataset"
      ],
      "text/plain": [
       "<IPython.core.display.Markdown object>"
      ]
     },
     "metadata": {},
     "output_type": "display_data"
    },
    {
     "name": "stdout",
     "output_type": "stream",
     "text": [
      "Number of instances           : 39073.0\n",
      "Base Rate                     :0.238605\n",
      "Consistency                   : [0.83263123]\n",
      "Disparate Impact              : 0.3620832314871518\n",
      "Mean Difference               : -0.19293913814906824\n",
      "Statistical Parity Difference : -0.19293913814906824\n",
      "# of positives(privileged)    : 7907.0\n",
      "# of positives(non-privileged): 1416.0\n",
      "Total positive instances\"     : 9323.0\n",
      "# of negatives(privileged)    : 18236.0\n",
      "# of negatives(non-privileged): 11514.0\n",
      "Total negative instances\"     : 29750.0\n"
     ]
    },
    {
     "data": {
      "text/markdown": [
       "#### Biased training dataset"
      ],
      "text/plain": [
       "<IPython.core.display.Markdown object>"
      ]
     },
     "metadata": {},
     "output_type": "display_data"
    },
    {
     "name": "stdout",
     "output_type": "stream",
     "text": [
      "Difference in mean outcomes between unprivileged and privileged groups = -0.192939\n"
     ]
    }
   ],
   "source": [
    "# Create the binary label dataset metric class for the training dataset\n",
    "metric_train_bld = BinaryLabelDatasetMetric(Adult_train_bld, \n",
    "                                            unprivileged_groups=unprivileged_groups,\n",
    "                                            privileged_groups=privileged_groups)\n",
    "display(Markdown(\"#### Biased training dataset\"))\n",
    "print('Number of instances           :', metric_train_bld.num_instances())\n",
    "print(\"Base Rate                     :%f\" % metric_train_bld.base_rate())\n",
    "print('Consistency                   :', metric_train_bld.consistency())\n",
    "print('Disparate Impact              :', metric_train_bld.disparate_impact())\n",
    "print('Mean Difference               :', metric_train_bld.mean_difference())\n",
    "print('Statistical Parity Difference :', metric_train_bld.statistical_parity_difference()) \n",
    "print('# of positives(privileged)    :', metric_train_bld.num_positives(privileged=True))\n",
    "print('# of positives(non-privileged):', metric_train_bld.num_positives(privileged=False))\n",
    "print('Total positive instances\"     :', metric_train_bld.num_positives(privileged=True)+metric_train_bld.num_positives(privileged=False))\n",
    "print('# of negatives(privileged)    :', metric_train_bld.num_negatives(privileged=True))\n",
    "print('# of negatives(non-privileged):', metric_train_bld.num_negatives(privileged=False))\n",
    "print('Total negative instances\"     :', metric_train_bld.num_negatives(privileged=True)+metric_train_bld.num_negatives(privileged=False))\n",
    "display(Markdown(\"#### Biased training dataset\"))\n",
    "print(\"Difference in mean outcomes between unprivileged and privileged groups = %f\" % metric_train_bld.mean_difference())"
   ]
  },
  {
   "cell_type": "code",
   "execution_count": 14,
   "metadata": {},
   "outputs": [],
   "source": [
    "#Test for equality of odds. \n",
    "Test_Log_bld = Adult_test_bld.copy(deepcopy=True)\n",
    "Test_Rfc_bld = Adult_test_bld.copy(deepcopy=True)\n",
    "TestLogPredictions = BiasedLogModel.predict(X_test)\n",
    "TestRfcPredictions = BiasedRfcModel.predict(X_test)\n",
    "Test_Log_bld.labels= TestLogPredictions\n",
    "Test_Rfc_bld.labels= TestRfcPredictions\n",
    "\n",
    "c_Log_metric = ClassificationMetric(Adult_test_bld, Test_Log_bld, \n",
    "                                unprivileged_groups=unprivileged_groups,\n",
    "                                privileged_groups=privileged_groups)\n",
    "c_Rfc_metric = ClassificationMetric(Adult_test_bld, Test_Rfc_bld, \n",
    "                                unprivileged_groups=unprivileged_groups,\n",
    "                                privileged_groups=privileged_groups)"
   ]
  },
  {
   "cell_type": "code",
   "execution_count": 15,
   "metadata": {},
   "outputs": [
    {
     "name": "stdout",
     "output_type": "stream",
     "text": [
      "A value of 0 means that equality of odds has been met\n",
      "Log average_abs_odds_difference: 0.17240932599510445\n",
      "Log average_odds_difference:     -0.17240932599510445\n",
      " \n",
      "Rfc average_abs_odds_difference: 0.10648112965040518\n",
      "Rfc average_odds_difference:     -0.10648112965040518\n"
     ]
    }
   ],
   "source": [
    "print('A value of 0 means that equality of odds has been met')\n",
    "print('Log average_abs_odds_difference:', c_Log_metric.average_abs_odds_difference())\n",
    "print('Log average_odds_difference:    ', c_Log_metric.average_odds_difference())\n",
    "print(' ')\n",
    "print('Rfc average_abs_odds_difference:', c_Rfc_metric.average_abs_odds_difference())\n",
    "print('Rfc average_odds_difference:    ', c_Rfc_metric.average_odds_difference())"
   ]
  },
  {
   "cell_type": "code",
   "execution_count": 16,
   "metadata": {},
   "outputs": [
    {
     "name": "stderr",
     "output_type": "stream",
     "text": [
      "100%|██████████████████████████████████████████████████████████████████████████████████████████████████████████████████████████| 11/11 [01:03<00:00,  4.68s/it]\n"
     ]
    }
   ],
   "source": [
    "from tqdm import tqdm\n",
    "index = Adult_train_bld.feature_names.index(protected_attr)\n",
    "DIs = []\n",
    "for level in tqdm(np.linspace(0., 1., 11)):\n",
    "    di = DisparateImpactRemover(repair_level=level)\n",
    "    train_repd = di.fit_transform(Adult_train_bld)\n",
    "    test_repd = di.fit_transform(Adult_test_bld)\n",
    "    \n",
    "    X_tr = np.delete(train_repd.features, index, axis=1)\n",
    "    X_te = np.delete(test_repd.features, index, axis=1)\n",
    "    y_tr = train_repd.labels.ravel()\n",
    "    \n",
    "    lmod = LogisticRegression(class_weight='balanced', solver='liblinear', random_state=101)\n",
    "    lmod.fit(X_tr, y_tr)\n",
    "    \n",
    "    test_repd_pred = test_repd.copy()\n",
    "    test_repd_pred.labels = lmod.predict(X_te)\n",
    "    cm = BinaryLabelDatasetMetric(test_repd_pred, privileged_groups=privileged_groups, unprivileged_groups=unprivileged_groups)\n",
    "    DIs.append(cm.disparate_impact())"
   ]
  },
  {
   "cell_type": "code",
   "execution_count": 17,
   "metadata": {},
   "outputs": [
    {
     "data": {
      "image/png": "[encoded data removed]",
      "text/plain": [
       "<Figure size 432x288 with 1 Axes>"
      ]
     },
     "metadata": {
      "needs_background": "light"
     },
     "output_type": "display_data"
    }
   ],
   "source": [
    "%matplotlib inline\n",
    "plt.plot(np.linspace(0, 1, 11), DIs, marker='o')\n",
    "plt.plot([0, 1], [1, 1], 'g')\n",
    "plt.plot([0, 1], [0.8, 0.8], 'r')\n",
    "plt.ylim([0.4, 1.2])\n",
    "plt.ylabel('Disparate Impact (DI)')\n",
    "plt.xlabel('repair level')\n",
    "plt.show()"
   ]
  },
  {
   "cell_type": "code",
   "execution_count": 18,
   "metadata": {},
   "outputs": [],
   "source": [
    "# Where the plot meets the 0.8 (threshold) line is where we target, eg level = 1.0\n",
    "# Therefore set up an instance of the disparate remover object using this repair level\n",
    "di = DisparateImpactRemover(repair_level=1.0)\n",
    "Adult_di_train_bld = di.fit_transform(Adult_train_bld)\n",
    "Adult_di_test_bld  = di.fit_transform(Adult_test_bld)"
   ]
  },
  {
   "cell_type": "code",
   "execution_count": 19,
   "metadata": {},
   "outputs": [
    {
     "name": "stdout",
     "output_type": "stream",
     "text": [
      "Model Accuracy after DI removed:\n",
      "Unbiased Logistic regression validation accuracy: 0.7376394717985464\n",
      "Unbiased Random Forest       validation accuracy: 0.8381615313747569\n",
      "\n",
      "Biased Balanced accuracy\n",
      "Unbiased Logistic regression balanced accuracy  : 0.7330637025561226\n",
      "Unbiased Random Forest       balanced accuracy  : 0.7092362822485836\n"
     ]
    }
   ],
   "source": [
    "# Train Logistic and Random Forest classifiers with the transformed dataset.\n",
    "X_di_train = np.delete(Adult_di_train_bld.features,index, axis=1) # Drop Gender! This is what the AIF360 example does\n",
    "X_di_test  = np.delete(Adult_di_test_bld.features, index, axis=1) # thus we cannot compare before and after feature \n",
    "y_di_train = Adult_di_train_bld.labels.ravel()                    # importance, and binary label dataset metrics because\n",
    "y_di_test  = Adult_di_test_bld.labels.ravel()                     # the sensitive attr has been dropped. Doh!\n",
    "\n",
    "Di_LogModel= LogisticRegression(class_weight='balanced', solver='liblinear', random_state=101)\n",
    "Di_RfcModel= RandomForestClassifier(n_estimators=100,max_depth=4,random_state=101)\n",
    "\n",
    "Di_LogModel.fit(X_di_train, y_train)\n",
    "Di_RfcModel.fit(X_di_train, y_train)\n",
    "\n",
    "Di_train_LogPredictions= Di_LogModel.predict(X_di_train) \n",
    "Di_train_RfcPredictions= Di_RfcModel.predict(X_di_train)\n",
    "Di_test_LogPredictions = Di_LogModel.predict(X_di_test) \n",
    "Di_test_RfcPredictions = Di_RfcModel.predict(X_di_test)\n",
    "\n",
    "# Now test whether we can predict Gender from the test dataset\n",
    "print('Model Accuracy after DI removed:')\n",
    "print(f\"Unbiased Logistic regression validation accuracy: {Di_LogModel.score(X_di_test, y_di_test)}\")\n",
    "print(f\"Unbiased Random Forest       validation accuracy: {Di_RfcModel.score(X_di_test, y_di_test)}\")\n",
    "print('')\n",
    "print('Biased Balanced accuracy')\n",
    "print(f\"Unbiased Logistic regression balanced accuracy  : {balanced_accuracy_score(y_test, Di_test_LogPredictions)}\")\n",
    "print(f\"Unbiased Random Forest       balanced accuracy  : {balanced_accuracy_score(y_test, Di_test_RfcPredictions)}\")"
   ]
  },
  {
   "cell_type": "code",
   "execution_count": 20,
   "metadata": {},
   "outputs": [
    {
     "data": {
      "text/markdown": [
       "#### Biased training dataset"
      ],
      "text/plain": [
       "<IPython.core.display.Markdown object>"
      ]
     },
     "metadata": {},
     "output_type": "display_data"
    },
    {
     "name": "stdout",
     "output_type": "stream",
     "text": [
      "Number of instances           : 9769.0\n",
      "Base Rate                     :0.370867\n",
      "Consistency                   : 0.9120073702528398\n",
      "Disparate Impact              : 0.7838038522654707\n",
      "Mean Difference               : -0.08641865379706637\n",
      "Statistical Parity Difference : -0.08641865379706637\n",
      "# of positives(privileged)    : 2601.0\n",
      "# of positives(non-privileged): 1022.0\n",
      "Total positive instances\"     : 3623.0\n",
      "# of negatives(privileged)    : 3906.0\n",
      "# of negatives(non-privileged): 2240.0\n",
      "Total negative instances\"     : 6146.0\n"
     ]
    },
    {
     "data": {
      "text/markdown": [
       "#### Biased training dataset"
      ],
      "text/plain": [
       "<IPython.core.display.Markdown object>"
      ]
     },
     "metadata": {},
     "output_type": "display_data"
    },
    {
     "name": "stdout",
     "output_type": "stream",
     "text": [
      "Difference in mean outcomes between unprivileged and privileged groups = -0.086419\n"
     ]
    }
   ],
   "source": [
    "Adult_di_test_bld_cpy        = Adult_di_test_bld.copy()\n",
    "Adult_di_test_bld_cpy.labels = Di_test_LogPredictions\n",
    "\n",
    "Adult_di_train_bld_cpy       = Adult_di_train_bld.copy()\n",
    "Adult_di_train_bld_cpy.labels= Di_train_LogPredictions\n",
    "\n",
    "metric_train_bld = BinaryLabelDatasetMetric(Adult_di_test_bld_cpy, \n",
    "                                            unprivileged_groups=unprivileged_groups,\n",
    "                                            privileged_groups=privileged_groups)\n",
    "display(Markdown(\"#### Biased training dataset\"))\n",
    "print('Number of instances           :', metric_train_bld.num_instances())\n",
    "print(\"Base Rate                     :%f\" % metric_train_bld.base_rate())\n",
    "print('Consistency                   :', metric_train_bld.consistency())\n",
    "print('Disparate Impact              :', metric_train_bld.disparate_impact())\n",
    "print('Mean Difference               :', metric_train_bld.mean_difference())\n",
    "print('Statistical Parity Difference :', metric_train_bld.statistical_parity_difference()) \n",
    "print('# of positives(privileged)    :', metric_train_bld.num_positives(privileged=True))\n",
    "print('# of positives(non-privileged):', metric_train_bld.num_positives(privileged=False))\n",
    "print('Total positive instances\"     :', metric_train_bld.num_positives(privileged=True)+metric_train_bld.num_positives(privileged=False))\n",
    "print('# of negatives(privileged)    :', metric_train_bld.num_negatives(privileged=True))\n",
    "print('# of negatives(non-privileged):', metric_train_bld.num_negatives(privileged=False))\n",
    "print('Total negative instances\"     :', metric_train_bld.num_negatives(privileged=True)+metric_train_bld.num_negatives(privileged=False))\n",
    "display(Markdown(\"#### Biased training dataset\"))\n",
    "print(\"Difference in mean outcomes between unprivileged and privileged groups = %f\" % metric_train_bld.mean_difference())"
   ]
  },
  {
   "cell_type": "code",
   "execution_count": 21,
   "metadata": {},
   "outputs": [],
   "source": [
    "Adult_di_train_df,d = Adult_di_train_bld.convert_to_dataframe(de_dummy_code=False, sep='=', set_category=False)\n",
    "Adult_di_test_df, d = Adult_di_test_bld.convert_to_dataframe(de_dummy_code=False, sep='=', set_category=False)"
   ]
  },
  {
   "cell_type": "code",
   "execution_count": 24,
   "metadata": {},
   "outputs": [],
   "source": [
    "# Test for Equality of Odds\n",
    "Adult_Log_di_test_bld        = Adult_di_test_bld.copy()\n",
    "Adult_Rfc_di_test_bld        = Adult_di_test_bld.copy()\n",
    "\n",
    "Adult_Log_di_test_bld.labels = Di_test_LogPredictions\n",
    "Adult_Rfc_di_test_bld.labels = Di_test_RfcPredictions\n",
    "\n",
    "c_Log_metric = ClassificationMetric(Adult_di_test_bld, Adult_Log_di_test_bld, \n",
    "                                unprivileged_groups=unprivileged_groups,\n",
    "                                privileged_groups=privileged_groups)\n",
    "c_Rfc_metric = ClassificationMetric(Adult_di_test_bld, Adult_Rfc_di_test_bld, \n",
    "                                unprivileged_groups=unprivileged_groups,\n",
    "                                privileged_groups=privileged_groups)"
   ]
  },
  {
   "cell_type": "code",
   "execution_count": 25,
   "metadata": {},
   "outputs": [
    {
     "name": "stdout",
     "output_type": "stream",
     "text": [
      "A value of 0 means that equality of odds has been met\n",
      "Log average_abs_odds_difference: 0.040742589192332784\n",
      "Log average_odds_difference:     -0.021335246169269045\n",
      " \n",
      "Rfc average_abs_odds_difference: 0.1507083841348042\n",
      "Rfc average_odds_difference:     -0.1507083841348042\n"
     ]
    }
   ],
   "source": [
    "print('A value of 0 means that equality of odds has been met')\n",
    "print('Log average_abs_odds_difference:', c_Log_metric.average_abs_odds_difference())\n",
    "print('Log average_odds_difference:    ', c_Log_metric.average_odds_difference())\n",
    "print(' ')\n",
    "print('Rfc average_abs_odds_difference:', c_Rfc_metric.average_abs_odds_difference())\n",
    "print('Rfc average_odds_difference:    ', c_Rfc_metric.average_odds_difference())"
   ]
  },
  {
   "cell_type": "code",
   "execution_count": 26,
   "metadata": {
    "scrolled": true
   },
   "outputs": [
    {
     "name": "stdout",
     "output_type": "stream",
     "text": [
      "                    Adult_train_df  Adult_di_train_df\n",
      "1     HoursPerWeek        0.397959           0.336735\n",
      "3     Occupation          0.692308           0.615385\n",
      "      HoursPerWeek        0.551020           0.459184\n",
      "4     Occupation          0.538462           0.461538\n",
      "      HoursPerWeek        0.500000           0.418367\n",
      "5     Age                 0.575342           0.561644\n",
      "      HoursPerWeek        0.295918           0.244898\n",
      "6     Age                 0.712329           0.698630\n",
      "      HoursPerWeek        0.122449           0.102041\n",
      "8     Occupation          0.538462           0.461538\n",
      "      HoursPerWeek        0.448980           0.377551\n",
      "9     Occupation          0.615385           0.538462\n",
      "      HoursPerWeek        0.397959           0.336735\n",
      "10    Occupation          0.692308           0.615385\n",
      "      HoursPerWeek        0.040816           0.030612\n",
      "11    Age                 0.493151           0.479452\n",
      "      HoursPerWeek        0.397959           0.336735\n",
      "13    Occupation          0.615385           0.538462\n",
      "      HoursPerWeek        0.397959           0.336735\n",
      "14    Occupation          0.846154           0.769231\n",
      "      HoursPerWeek        0.653061           0.551020\n",
      "15    HoursPerWeek        0.397959           0.336735\n",
      "17    Age                 0.534247           0.520548\n",
      "      HoursPerWeek        0.397959           0.336735\n",
      "20    HoursPerWeek        0.397959           0.336735\n",
      "22    HoursPerWeek        0.397959           0.336735\n",
      "25    HoursPerWeek        0.346939           0.285714\n",
      "26    CapitalLoss         0.323232           0.307622\n",
      "      HoursPerWeek        0.397959           0.336735\n",
      "27    Occupation          0.692308           0.615385\n",
      "...                            ...                ...\n",
      "39049 HoursPerWeek        0.397959           0.336735\n",
      "39050 Age                 0.630137           0.616438\n",
      "      HoursPerWeek        0.193878           0.163265\n",
      "39051 HoursPerWeek        0.397959           0.336735\n",
      "39052 HoursPerWeek        0.397959           0.336735\n",
      "39053 HoursPerWeek        0.397959           0.336735\n",
      "39054 HoursPerWeek        0.397959           0.336735\n",
      "39055 Occupation          0.846154           0.769231\n",
      "      HoursPerWeek        0.479592           0.397959\n",
      "39058 HoursPerWeek        0.397959           0.336735\n",
      "39059 Age                 0.671233           0.657534\n",
      "      HoursPerWeek        0.295918           0.244898\n",
      "39060 HoursPerWeek        0.500000           0.418367\n",
      "39061 CapitalLoss         0.373737           0.371212\n",
      "      HoursPerWeek        0.397959           0.336735\n",
      "39062 HoursPerWeek        0.397959           0.336735\n",
      "39063 Age                 0.561644           0.547945\n",
      "      HoursPerWeek        0.397959           0.336735\n",
      "39064 HoursPerWeek        0.397959           0.336735\n",
      "39065 HoursPerWeek        0.397959           0.336735\n",
      "39066 HoursPerWeek        0.397959           0.336735\n",
      "39067 HoursPerWeek        0.397959           0.336735\n",
      "39068 Occupation          0.615385           0.538462\n",
      "      HoursPerWeek        0.397959           0.336735\n",
      "39069 HoursPerWeek        0.397959           0.336735\n",
      "39070 Occupation          0.923077           0.846154\n",
      "      HoursPerWeek        0.397959           0.336735\n",
      "39071 Age                 0.520548           0.506849\n",
      "      HoursPerWeek        0.428571           0.357143\n",
      "39072 HoursPerWeek        0.397959           0.336735\n",
      "\n",
      "[43132 rows x 2 columns]\n"
     ]
    }
   ],
   "source": [
    "# Let's take a look at the differences between the original dataset and the DI_removed dataset\n",
    "Adult_train_df   = Adult_train_df.reset_index(drop=True)\n",
    "Adult_di_train_df= Adult_di_train_df.reset_index(drop=True)\n",
    "AdultBool        = (Adult_train_df != Adult_di_train_df).stack()  # Create Frame of comparison booleans\n",
    "Adultdiff        = pd.concat([Adult_train_df.stack()[AdultBool], Adult_di_train_df.stack()[AdultBool]], axis=1)\n",
    "Adultdiff.columns=[\"Adult_train_df\", \"Adult_di_train_df\"]\n",
    "print(Adultdiff)"
   ]
  },
  {
   "cell_type": "code",
   "execution_count": 27,
   "metadata": {},
   "outputs": [
    {
     "name": "stdout",
     "output_type": "stream",
     "text": [
      "Accuracy:\n"
     ]
    },
    {
     "data": {
      "text/html": [
       "<div>\n",
       "<style scoped>\n",
       "    .dataframe tbody tr th:only-of-type {\n",
       "        vertical-align: middle;\n",
       "    }\n",
       "\n",
       "    .dataframe tbody tr th {\n",
       "        vertical-align: top;\n",
       "    }\n",
       "\n",
       "    .dataframe thead th {\n",
       "        text-align: right;\n",
       "    }\n",
       "</style>\n",
       "<table border=\"1\" class=\"dataframe\">\n",
       "  <thead>\n",
       "    <tr style=\"text-align: right;\">\n",
       "      <th></th>\n",
       "      <th>LogReg</th>\n",
       "      <th>RFC</th>\n",
       "    </tr>\n",
       "  </thead>\n",
       "  <tbody>\n",
       "    <tr>\n",
       "      <th>Biased</th>\n",
       "      <td>0.819531</td>\n",
       "      <td>0.834476</td>\n",
       "    </tr>\n",
       "    <tr>\n",
       "      <th>Fair</th>\n",
       "      <td>0.737639</td>\n",
       "      <td>0.838162</td>\n",
       "    </tr>\n",
       "  </tbody>\n",
       "</table>\n",
       "</div>"
      ],
      "text/plain": [
       "          LogReg       RFC\n",
       "Biased  0.819531  0.834476\n",
       "Fair    0.737639  0.838162"
      ]
     },
     "metadata": {},
     "output_type": "display_data"
    },
    {
     "name": "stdout",
     "output_type": "stream",
     "text": [
      "AUC:\n"
     ]
    },
    {
     "data": {
      "image/png": "[encoded data removed]",
      "text/plain": [
       "<Figure size 1152x432 with 2 Axes>"
      ]
     },
     "metadata": {
      "needs_background": "light"
     },
     "output_type": "display_data"
    }
   ],
   "source": [
    "%matplotlib inline\n",
    "def plot_auc(y_true: np.ndarray, preds: Dict[str, np.ndarray], title: str='', ax=None) -> None:\n",
    "    leg = []\n",
    "    for k, p in preds.items():\n",
    "        fpr, tpr, _ = roc_curve(y_true, p)\n",
    "        ax = sns.lineplot(x=fpr, y=tpr, ci=None, ax=ax)\n",
    "        leg.append(f\"{k}: {round(auc(fpr, tpr), 2)}\")\n",
    "   \n",
    "    ax.legend(leg)\n",
    "    ax.set_xlabel('FPR')\n",
    "    ax.set_ylabel('TPR')\n",
    "    sns.lineplot(x=[0, 1], y=[0, 1], color='gray',ax=ax)\n",
    "    ax.set_title(title)\n",
    "    \n",
    "print('Accuracy:')\n",
    "display(pd.DataFrame({'LogReg': [BiasedLogModel.score(X_test, y_test), \n",
    "                                 Di_LogModel.score(X_di_test, y_di_test)],\n",
    "                      'RFC': [BiasedRfcModel.score(X_test, y_test),\n",
    "                              Di_RfcModel.score(X_di_test, y_di_test)]}, \n",
    "                      index =['Biased', 'Fair']))\n",
    "\n",
    "print('AUC:')\n",
    "\n",
    "fig, ax = plt.subplots(nrows=1, ncols=2,figsize=(16, 6))\n",
    "plot_auc(y_test, \n",
    "         {'AUC biased': BiasedLogModel.predict_proba(X_test)[:, 1], \n",
    "          'AUC fair'  : Di_LogModel.predict_proba(X_di_test)[:, 1]},\n",
    "         title='LR', ax=ax[0]) \n",
    "plot_auc(y_test, \n",
    "         {'AUC biased': BiasedRfcModel.predict_proba(X_test)[:, 1],\n",
    "          'AUC fair'  : Di_RfcModel.predict_proba(X_di_test)[:, 1]},\n",
    "         title='RFC', ax=ax[1]) \n",
    "plt.show()"
   ]
  },
  {
   "cell_type": "code",
   "execution_count": 28,
   "metadata": {},
   "outputs": [
    {
     "name": "stdout",
     "output_type": "stream",
     "text": [
      "Model Accuracy for predicting the Sensitive Variable before bias transformation:\n",
      "Biased Logistic regression validation accuracy: 0.6649605896202273\n",
      "Biased Random Forest       validation accuracy: 0.7480806633227557\n",
      "\n",
      "Biased Balanced accuracy\n",
      "Biased Logistic regression balanced accuracy  : 0.5509809885444312\n",
      "Biased Random Forest       balanced accuracy  : 0.6635963279464072\n"
     ]
    }
   ],
   "source": [
    "# Finally test whether it is possible to predict the Sensitive Variable from the transformed dataset\n",
    "X_se_train = Adult_di_train_df.drop(protected_attr,axis=1)\n",
    "y_se_train = Adult_di_train_df[protected_attr]\n",
    "X_se_test  = Adult_di_test_df.drop(protected_attr,axis=1)\n",
    "y_se_test  = Adult_di_test_df[protected_attr]\n",
    "\n",
    "Se_BiasedLogModel = LogisticRegression(random_state=101)\n",
    "Se_BiasedRfcModel = RandomForestClassifier(n_estimators=100,max_depth=4,random_state=101)\n",
    "Se_BiasedLogModel.fit(X_se_train, y_se_train) \n",
    "Se_BiasedRfcModel.fit(X_se_train, y_se_train) \n",
    "yseLog_pred =  Se_BiasedLogModel.predict(X_se_test)\n",
    "yseRfc_pred =  Se_BiasedRfcModel.predict(X_se_test)\n",
    "# Now test whether we can predict Gender from the test dataset\n",
    "print('Model Accuracy for predicting the Sensitive Variable before bias transformation:')\n",
    "print(f\"Biased Logistic regression validation accuracy: {Se_BiasedLogModel.score(X_se_test, y_se_test)}\")\n",
    "print(f\"Biased Random Forest       validation accuracy: {Se_BiasedRfcModel.score(X_se_test, y_se_test)}\")\n",
    "print('')\n",
    "print('Biased Balanced accuracy')\n",
    "print(f\"Biased Logistic regression balanced accuracy  : {balanced_accuracy_score(y_se_test, yseLog_pred)}\")\n",
    "print(f\"Biased Random Forest       balanced accuracy  : {balanced_accuracy_score(y_se_test, yseRfc_pred)}\")"
   ]
  },
  {
   "cell_type": "code",
   "execution_count": 29,
   "metadata": {},
   "outputs": [
    {
     "name": "stdout",
     "output_type": "stream",
     "text": [
      "Training Before - Income value counts:\n",
      "0.0    29750\n",
      "1.0     9323\n",
      "Name: Income, dtype: int64\n",
      "Training Before - Gender value counts:\n",
      "1.0    26143\n",
      "0.0    12930\n",
      "Name: Gender, dtype: int64\n"
     ]
    }
   ],
   "source": [
    "# Lastly get the number of labels from the modified training dataset\n",
    "print('Training Before - Income value counts:')\n",
    "print(Adult_di_train_df.Income.value_counts())\n",
    "print('Training Before - Gender value counts:')\n",
    "print(Adult_di_train_df.Gender.value_counts())"
   ]
  }
 ],
 "metadata": {
  "kernelspec": {
   "display_name": "Python 3",
   "language": "python",
   "name": "python3"
  },
  "language_info": {
   "codemirror_mode": {
    "name": "ipython",
    "version": 3
   },
   "file_extension": ".py",
   "mimetype": "text/x-python",
   "name": "python",
   "nbconvert_exporter": "python",
   "pygments_lexer": "ipython3",
   "version": "3.7.3"
  }
 },
 "nbformat": 4,
 "nbformat_minor": 2
}
