{
 "cells": [
  {
   "cell_type": "code",
   "execution_count": 1,
   "metadata": {},
   "outputs": [],
   "source": [
    "%matplotlib inline\n",
    "# Load all necessary packages\n",
    "import sys\n",
    "import pandas as pd\n",
    "# Import IBM's AI Fairness tooolbox\n",
    "from aif360.datasets import BinaryLabelDataset\n",
    "from aif360.metrics  import BinaryLabelDatasetMetric\n",
    "from aif360.metrics  import ClassificationMetric\n",
    "from aif360.metrics.utils import compute_boolean_conditioning_vector\n",
    "from aif360.algorithms.preprocessing.lfr import LFR\n",
    "# Import scikit-learn core slibraries\n",
    "from sklearn.ensemble      import RandomForestClassifier\n",
    "from sklearn.linear_model  import LogisticRegression\n",
    "from sklearn.preprocessing import StandardScaler, MinMaxScaler\n",
    "from sklearn.metrics       import accuracy_score\n",
    "\n",
    "from IPython.display import Markdown, display\n",
    "import matplotlib.pyplot as plt\n",
    "# Warnings will be used to silence various model warnings for tidier output\n",
    "import warnings\n",
    "warnings.filterwarnings('ignore')"
   ]
  },
  {
   "cell_type": "code",
   "execution_count": 2,
   "metadata": {},
   "outputs": [],
   "source": [
    "# Read the cleaned German-Cleaned dataset\n",
    "German_df = pd.read_csv('./input/German-Cleaned.csv')"
   ]
  },
  {
   "cell_type": "code",
   "execution_count": 3,
   "metadata": {},
   "outputs": [],
   "source": [
    "# Set privileged (1)/ unprivileged (0)/ favourable (1) / unfavourable values (0)\n",
    "protected_attr      = 'Gender'\n",
    "priv_grp            = 1  # Males \n",
    "unpriv_grp          = 0  # Females  \n",
    "lab                 = 'CreditStatus'\n",
    "fav_label           = 1 # Good Credit status\n",
    "unfav_label         = 0 # Bad Credit Status\n",
    "privileged_groups   = [{protected_attr: priv_grp}]   # Males\n",
    "unprivileged_groups = [{protected_attr: unpriv_grp}] # Females"
   ]
  },
  {
   "cell_type": "code",
   "execution_count": 4,
   "metadata": {},
   "outputs": [],
   "source": [
    "# Create a Binary Label Dataset to use with AIF360 APIs\n",
    "X = German_df.drop(lab,axis=1)\n",
    "y = German_df[lab]\n",
    "German_bld = BinaryLabelDataset(df=pd.concat((X, y), axis=1),\n",
    "                                label_names=[lab], protected_attribute_names=[protected_attr],\n",
    "                                favorable_label=fav_label, unfavorable_label=unfav_label)"
   ]
  },
  {
   "cell_type": "code",
   "execution_count": 5,
   "metadata": {},
   "outputs": [],
   "source": [
    "# Create train and test datasets\n",
    "German_train_df, German_test_df = German_bld.split([0.8], shuffle=True, seed=101)"
   ]
  },
  {
   "cell_type": "code",
   "execution_count": 6,
   "metadata": {},
   "outputs": [],
   "source": [
    "scaler = MinMaxScaler(copy=False)\n",
    "German_train_df.features = scaler.fit_transform(German_train_df.features)\n",
    "German_test_df.features  = scaler.fit_transform(German_test_df.features)"
   ]
  },
  {
   "cell_type": "code",
   "execution_count": 7,
   "metadata": {},
   "outputs": [
    {
     "name": "stdout",
     "output_type": "stream",
     "text": [
      "Logistic regression validation accuracy: 0.72\n",
      "Random Forest       validation accuracy: 0.765\n"
     ]
    }
   ],
   "source": [
    "# Determine the baseline model accuracy for Logistic Regression and Random Forest Classifiers\n",
    "German_train, d = German_train_df.convert_to_dataframe(de_dummy_code=False, sep='=', set_category=False)\n",
    "German_test, d = German_test_df.convert_to_dataframe(de_dummy_code=False, sep='=', set_category=False)\n",
    "X_train = German_train.drop(lab,axis=1)\n",
    "y_train = German_train[lab]\n",
    "X_test = German_test.drop(lab,axis=1)\n",
    "y_test = German_test[lab]\n",
    "biasedLogModel = LogisticRegression(random_state=101)\n",
    "biasedRfcModel = RandomForestClassifier(n_estimators=100,max_depth=4,random_state=101)\n",
    "biasedLogModel.fit(X_train, y_train) \n",
    "biasedRfcModel.fit(X_train, y_train) \n",
    "print(f\"Logistic regression validation accuracy: {biasedLogModel.score(X_test, y_test)}\")\n",
    "print(f\"Random Forest       validation accuracy: {biasedRfcModel.score(X_test, y_test)}\")"
   ]
  },
  {
   "cell_type": "code",
   "execution_count": 8,
   "metadata": {
    "scrolled": true
   },
   "outputs": [
    {
     "data": {
      "text/markdown": [
       "#### Biased training dataset"
      ],
      "text/plain": [
       "<IPython.core.display.Markdown object>"
      ]
     },
     "metadata": {},
     "output_type": "display_data"
    },
    {
     "name": "stdout",
     "output_type": "stream",
     "text": [
      "Difference in mean outcomes between unprivileged and privileged groups = -0.092000\n",
      "Number of instances           : 800.0\n",
      "Base Rate                     :0.691250\n",
      "Consistency                   : [0.7055]\n",
      "Disparate Impact              : 0.8722222222222222\n",
      "Mean Difference               : -0.09199999999999997\n",
      "Statistical Parity Difference : -0.09199999999999997\n",
      "# of positives(privileged)    : 396.0\n",
      "# of positives(non-privileged): 157.0\n",
      "Total positive instances\"     : 553.0\n",
      "# of negatives(privileged)    : 154.0\n",
      "# of negatives(non-privileged): 93.0\n",
      "Total negative instances\"     : 247.0\n"
     ]
    },
    {
     "data": {
      "text/markdown": [
       "#### Biased training dataset"
      ],
      "text/plain": [
       "<IPython.core.display.Markdown object>"
      ]
     },
     "metadata": {},
     "output_type": "display_data"
    },
    {
     "name": "stdout",
     "output_type": "stream",
     "text": [
      "Difference in mean outcomes between unprivileged and privileged groups = -0.092000\n"
     ]
    }
   ],
   "source": [
    "# Create the binary label dataset metric class for the train dataset\n",
    "metric_train_bld = BinaryLabelDatasetMetric(German_train_df, \n",
    "                                            unprivileged_groups=unprivileged_groups,\n",
    "                                            privileged_groups=privileged_groups)\n",
    "display(Markdown(\"#### Biased training dataset\"))\n",
    "print(\"Difference in mean outcomes between unprivileged and privileged groups = %f\" % metric_train_bld.mean_difference())\n",
    "print('Number of instances           :', metric_train_bld.num_instances())\n",
    "print(\"Base Rate                     :%f\" % metric_train_bld.base_rate())\n",
    "print('Consistency                   :', metric_train_bld.consistency())\n",
    "print('Disparate Impact              :', metric_train_bld.disparate_impact())\n",
    "print('Mean Difference               :', metric_train_bld.mean_difference())\n",
    "print('Statistical Parity Difference :', metric_train_bld.statistical_parity_difference()) \n",
    "print('# of positives(privileged)    :', metric_train_bld.num_positives(privileged=True))\n",
    "print('# of positives(non-privileged):', metric_train_bld.num_positives(privileged=False))\n",
    "print('Total positive instances\"     :', metric_train_bld.num_positives(privileged=True)+metric_train_bld.num_positives(privileged=False))\n",
    "print('# of negatives(privileged)    :', metric_train_bld.num_negatives(privileged=True))\n",
    "print('# of negatives(non-privileged):', metric_train_bld.num_negatives(privileged=False))\n",
    "print('Total negative instances\"     :', metric_train_bld.num_negatives(privileged=True)+metric_train_bld.num_negatives(privileged=False))\n",
    "display(Markdown(\"#### Biased training dataset\"))\n",
    "print(\"Difference in mean outcomes between unprivileged and privileged groups = %f\" % metric_train_bld.mean_difference())"
   ]
  },
  {
   "cell_type": "code",
   "execution_count": 9,
   "metadata": {},
   "outputs": [
    {
     "name": "stdout",
     "output_type": "stream",
     "text": [
      "Interval : Optimization objective value for the interval\n",
      "250 520.5934717667799\n",
      "500 507.94546596469763\n",
      "750 500.26258600718523\n",
      "1000 487.8615570680949\n",
      "1250 479.6683181588537\n",
      "1500 471.0245081739862\n",
      "1750 467.2477652935682\n",
      "2000 461.80876024799176\n",
      "2250 456.09039120052665\n",
      "2500 455.3834676146122\n",
      "2750 453.89696210469333\n",
      "3000 452.84732425421873\n",
      "3250 451.9724476161422\n",
      "3500 451.1493924850815\n",
      "3750 450.3044399365166\n",
      "4000 449.050321176735\n",
      "4250 446.7635202613466\n",
      "4500 446.6616512259222\n",
      "4750 446.16890815018337\n",
      "5000 445.987740406953\n"
     ]
    }
   ],
   "source": [
    "# Fit the Learning Fair Representations on the biased training data\n",
    "print('Interval : Optimization objective value for the interval')\n",
    "TR = LFR(unprivileged_groups = unprivileged_groups, privileged_groups = privileged_groups, verbose=1, seed=101)\n",
    "TR = TR.fit(German_train_df)"
   ]
  },
  {
   "cell_type": "code",
   "execution_count": 10,
   "metadata": {},
   "outputs": [],
   "source": [
    "# Transform training data and align features\n",
    "German_train_lfr = TR.transform(German_train_df)"
   ]
  },
  {
   "cell_type": "code",
   "execution_count": 11,
   "metadata": {},
   "outputs": [
    {
     "name": "stdout",
     "output_type": "stream",
     "text": [
      "Logistic regression validation accuracy: 0.725\n",
      "Random Forest       validation accuracy: 0.715\n"
     ]
    }
   ],
   "source": [
    "# Determine the transformed model accuracy for Logistic Regression and Random Forest Classifiers\n",
    "# Convert the scaled Binary Labelled Dataset to a pandas dataframe for consistency \n",
    "German_train, d = German_train_lfr.convert_to_dataframe(de_dummy_code=False, sep='=', set_category=False)\n",
    "X_train = German_train.drop(lab,axis=1)\n",
    "y_train = German_train[lab]\n",
    "debiasedLogModel = LogisticRegression(random_state=101)\n",
    "debiasedRfcModel = RandomForestClassifier(n_estimators=100,max_depth=4,random_state=101)\n",
    "debiasedLogModel.fit(X_train, y_train) \n",
    "debiasedRfcModel.fit(X_train, y_train) \n",
    "print(f\"Logistic regression validation accuracy: {debiasedLogModel.score(X_test, y_test)}\")\n",
    "print(f\"Random Forest       validation accuracy: {debiasedRfcModel.score(X_test, y_test)}\")"
   ]
  },
  {
   "cell_type": "code",
   "execution_count": 12,
   "metadata": {},
   "outputs": [
    {
     "data": {
      "text/markdown": [
       "#### Transformed training dataset"
      ],
      "text/plain": [
       "<IPython.core.display.Markdown object>"
      ]
     },
     "metadata": {},
     "output_type": "display_data"
    },
    {
     "name": "stdout",
     "output_type": "stream",
     "text": [
      "Classification threshold = 0.100000\n",
      "Difference in mean outcomes between unprivileged and privileged groups = 0.000000\n",
      "Classification threshold = 0.300000\n",
      "Difference in mean outcomes between unprivileged and privileged groups = -0.002545\n",
      "Classification threshold = 0.350000\n",
      "Difference in mean outcomes between unprivileged and privileged groups = -0.000364\n",
      "Classification threshold = 0.400000\n",
      "Difference in mean outcomes between unprivileged and privileged groups = 0.012364\n",
      "Classification threshold = 0.500000\n",
      "Difference in mean outcomes between unprivileged and privileged groups = 0.022909\n",
      "Classification threshold = 0.600000\n",
      "Difference in mean outcomes between unprivileged and privileged groups = 0.010545\n",
      "Classification threshold = 0.700000\n",
      "Difference in mean outcomes between unprivileged and privileged groups = -0.038909\n"
     ]
    }
   ],
   "source": [
    "display(Markdown(\"#### Transformed training dataset\"))\n",
    "from sklearn.metrics import classification_report\n",
    "thresholds = [0.1, 0.3, 0.35, 0.4, 0.5, 0.6, 0.7]\n",
    "for threshold in thresholds:\n",
    "    \n",
    "    # Transform training data and align features\n",
    "    German_train_lfr = TR.transform(German_train_df,threshold=threshold)\n",
    "    metric_train_lfr = BinaryLabelDatasetMetric(German_train_lfr, \n",
    "                                                 unprivileged_groups=unprivileged_groups,\n",
    "                                                 privileged_groups=privileged_groups)\n",
    "    print(\"Classification threshold = %f\" % threshold)\n",
    "    #print(classification_report(dataset_orig_train.labels, dataset_transf_train.labels))\n",
    "    print(\"Difference in mean outcomes between unprivileged and privileged groups = %f\" % metric_train_lfr.mean_difference())"
   ]
  },
  {
   "cell_type": "code",
   "execution_count": 13,
   "metadata": {},
   "outputs": [
    {
     "name": "stdout",
     "output_type": "stream",
     "text": [
      "THIS IS WHAT THE AIF CODE PRODUCES FROM THE LAST CLASSIFICATION THRESHOLD RUN ABOVE\n",
      "Difference in mean outcomes between unprivileged and privileged groups = -0.038909\n",
      "Number of instances           : 800.0\n",
      "Base Rate                     :0.518750\n",
      "Consistency                   : [0.97725]\n",
      "Disparate Impact              : 0.9267123287671233\n",
      "Mean Difference               : -0.03890909090909089\n",
      "Statistical Parity Difference : -0.03890909090909089\n",
      "# of positives(privileged)    : 292.0\n",
      "# of positives(non-privileged): 123.0\n",
      "Total positive instances\"     : 415.0\n",
      "# of negatives(privileged)    : 258.0\n",
      "# of negatives(non-privileged): 127.0\n",
      "Total negative instances\"     : 385.0\n"
     ]
    },
    {
     "data": {
      "text/markdown": [
       "#### Original training dataset"
      ],
      "text/plain": [
       "<IPython.core.display.Markdown object>"
      ]
     },
     "metadata": {},
     "output_type": "display_data"
    },
    {
     "name": "stdout",
     "output_type": "stream",
     "text": [
      "Difference in mean outcomes between unprivileged and privileged groups = -0.092000\n"
     ]
    }
   ],
   "source": [
    "print('THIS IS WHAT THE AIF CODE PRODUCES FROM THE LAST CLASSIFICATION THRESHOLD RUN ABOVE')\n",
    "print(\"Difference in mean outcomes between unprivileged and privileged groups = %f\" % metric_train_lfr.mean_difference())\n",
    "print('Number of instances           :', metric_train_lfr.num_instances())\n",
    "print(\"Base Rate                     :%f\" % metric_train_lfr.base_rate())\n",
    "print('Consistency                   :', metric_train_lfr.consistency())\n",
    "print('Disparate Impact              :', metric_train_lfr.disparate_impact())\n",
    "print('Mean Difference               :', metric_train_lfr.mean_difference())\n",
    "print('Statistical Parity Difference :', metric_train_lfr.statistical_parity_difference()) \n",
    "print('# of positives(privileged)    :', metric_train_lfr.num_positives(privileged=True))\n",
    "print('# of positives(non-privileged):', metric_train_lfr.num_positives(privileged=False))\n",
    "print('Total positive instances\"     :', metric_train_lfr.num_positives(privileged=True)+metric_train_lfr.num_positives(privileged=False))\n",
    "print('# of negatives(privileged)    :', metric_train_lfr.num_negatives(privileged=True))\n",
    "print('# of negatives(non-privileged):', metric_train_lfr.num_negatives(privileged=False))\n",
    "print('Total negative instances\"     :', metric_train_lfr.num_negatives(privileged=True)+metric_train_lfr.num_negatives(privileged=False))\n",
    "display(Markdown(\"#### Original training dataset\"))\n",
    "print(\"Difference in mean outcomes between unprivileged and privileged groups = %f\" % metric_train_bld.mean_difference())"
   ]
  },
  {
   "cell_type": "code",
   "execution_count": 14,
   "metadata": {},
   "outputs": [
    {
     "data": {
      "text/markdown": [
       "#### Individual fairness metrics"
      ],
      "text/plain": [
       "<IPython.core.display.Markdown object>"
      ]
     },
     "metadata": {},
     "output_type": "display_data"
    },
    {
     "name": "stdout",
     "output_type": "stream",
     "text": [
      "Consistency of labels in transformed training dataset= 0.977250\n",
      "Consistency of labels in original training dataset= 0.705500\n"
     ]
    }
   ],
   "source": [
    "display(Markdown(\"#### Individual fairness metrics\"))\n",
    "print(\"Consistency of labels in transformed training dataset= %f\" %metric_train_lfr.consistency())\n",
    "print(\"Consistency of labels in original training dataset= %f\" %metric_train_bld.consistency())"
   ]
  },
  {
   "cell_type": "code",
   "execution_count": 15,
   "metadata": {},
   "outputs": [
    {
     "data": {
      "text/plain": [
       "False"
      ]
     },
     "execution_count": 15,
     "metadata": {},
     "output_type": "execute_result"
    }
   ],
   "source": [
    "# Compare the original and transformed datasets\n",
    "#Convert the returned Binary Labelled Dataset to a pandas dataframe \n",
    "German_orig_df, d = German_train_df.convert_to_dataframe(de_dummy_code=False, sep='=', set_category=False)\n",
    "German_lfr_df, d = German_train_lfr.convert_to_dataframe(de_dummy_code=False, sep='=', set_category=False)\n",
    "# Check whether the transform on the original dataset has worked. \n",
    "# A false means that the dataset is transformed.\n",
    "German_lfr_df.equals(German_df)"
   ]
  },
  {
   "cell_type": "code",
   "execution_count": 16,
   "metadata": {},
   "outputs": [
    {
     "data": {
      "text/html": [
       "<div>\n",
       "<style scoped>\n",
       "    .dataframe tbody tr th:only-of-type {\n",
       "        vertical-align: middle;\n",
       "    }\n",
       "\n",
       "    .dataframe tbody tr th {\n",
       "        vertical-align: top;\n",
       "    }\n",
       "\n",
       "    .dataframe thead th {\n",
       "        text-align: right;\n",
       "    }\n",
       "</style>\n",
       "<table border=\"1\" class=\"dataframe\">\n",
       "  <thead>\n",
       "    <tr style=\"text-align: right;\">\n",
       "      <th></th>\n",
       "      <th>NumMonths</th>\n",
       "      <th>CreditHistory</th>\n",
       "      <th>Purpose</th>\n",
       "      <th>CreditAmount</th>\n",
       "      <th>Savings</th>\n",
       "      <th>EmployDuration</th>\n",
       "      <th>PayBackPercent</th>\n",
       "      <th>Gender</th>\n",
       "      <th>Debtors</th>\n",
       "      <th>ResidenceDuration</th>\n",
       "      <th>Collateral</th>\n",
       "      <th>OtherPayBackPlan</th>\n",
       "      <th>Property</th>\n",
       "      <th>ExistingCredit</th>\n",
       "      <th>Job</th>\n",
       "      <th>Dependents</th>\n",
       "      <th>Telephone</th>\n",
       "      <th>Foreignworker</th>\n",
       "      <th>CreditStatus</th>\n",
       "    </tr>\n",
       "  </thead>\n",
       "  <tbody>\n",
       "    <tr>\n",
       "      <th>545</th>\n",
       "      <td>0.853476</td>\n",
       "      <td>0.742106</td>\n",
       "      <td>0.326361</td>\n",
       "      <td>0.397229</td>\n",
       "      <td>0.361051</td>\n",
       "      <td>0.714082</td>\n",
       "      <td>1.025977</td>\n",
       "      <td>1.0</td>\n",
       "      <td>0.010094</td>\n",
       "      <td>0.659228</td>\n",
       "      <td>0.554914</td>\n",
       "      <td>0.256358</td>\n",
       "      <td>0.444575</td>\n",
       "      <td>0.015676</td>\n",
       "      <td>0.188846</td>\n",
       "      <td>0.329984</td>\n",
       "      <td>0.839221</td>\n",
       "      <td>-0.289778</td>\n",
       "      <td>0.0</td>\n",
       "    </tr>\n",
       "    <tr>\n",
       "      <th>298</th>\n",
       "      <td>-0.153830</td>\n",
       "      <td>-0.133537</td>\n",
       "      <td>0.076879</td>\n",
       "      <td>-0.275152</td>\n",
       "      <td>0.272333</td>\n",
       "      <td>0.272349</td>\n",
       "      <td>0.574971</td>\n",
       "      <td>1.0</td>\n",
       "      <td>-0.045511</td>\n",
       "      <td>0.728774</td>\n",
       "      <td>0.557201</td>\n",
       "      <td>-0.261114</td>\n",
       "      <td>0.209190</td>\n",
       "      <td>0.064675</td>\n",
       "      <td>-0.012957</td>\n",
       "      <td>-0.058200</td>\n",
       "      <td>0.424140</td>\n",
       "      <td>0.005392</td>\n",
       "      <td>1.0</td>\n",
       "    </tr>\n",
       "    <tr>\n",
       "      <th>109</th>\n",
       "      <td>-0.258166</td>\n",
       "      <td>-0.212034</td>\n",
       "      <td>0.083563</td>\n",
       "      <td>-0.281475</td>\n",
       "      <td>0.272554</td>\n",
       "      <td>0.216912</td>\n",
       "      <td>0.514884</td>\n",
       "      <td>1.0</td>\n",
       "      <td>-0.042815</td>\n",
       "      <td>0.693015</td>\n",
       "      <td>0.562503</td>\n",
       "      <td>-0.246121</td>\n",
       "      <td>0.191181</td>\n",
       "      <td>0.106810</td>\n",
       "      <td>0.000222</td>\n",
       "      <td>-0.073863</td>\n",
       "      <td>0.358425</td>\n",
       "      <td>0.082273</td>\n",
       "      <td>1.0</td>\n",
       "    </tr>\n",
       "  </tbody>\n",
       "</table>\n",
       "</div>"
      ],
      "text/plain": [
       "     NumMonths  CreditHistory   Purpose  CreditAmount   Savings  \\\n",
       "545   0.853476       0.742106  0.326361      0.397229  0.361051   \n",
       "298  -0.153830      -0.133537  0.076879     -0.275152  0.272333   \n",
       "109  -0.258166      -0.212034  0.083563     -0.281475  0.272554   \n",
       "\n",
       "     EmployDuration  PayBackPercent  Gender   Debtors  ResidenceDuration  \\\n",
       "545        0.714082        1.025977     1.0  0.010094           0.659228   \n",
       "298        0.272349        0.574971     1.0 -0.045511           0.728774   \n",
       "109        0.216912        0.514884     1.0 -0.042815           0.693015   \n",
       "\n",
       "     Collateral  OtherPayBackPlan  Property  ExistingCredit       Job  \\\n",
       "545    0.554914          0.256358  0.444575        0.015676  0.188846   \n",
       "298    0.557201         -0.261114  0.209190        0.064675 -0.012957   \n",
       "109    0.562503         -0.246121  0.191181        0.106810  0.000222   \n",
       "\n",
       "     Dependents  Telephone  Foreignworker  CreditStatus  \n",
       "545    0.329984   0.839221      -0.289778           0.0  \n",
       "298   -0.058200   0.424140       0.005392           1.0  \n",
       "109   -0.073863   0.358425       0.082273           1.0  "
      ]
     },
     "execution_count": 16,
     "metadata": {},
     "output_type": "execute_result"
    }
   ],
   "source": [
    "German_lfr_df.head(3)"
   ]
  },
  {
   "cell_type": "code",
   "execution_count": 17,
   "metadata": {},
   "outputs": [
    {
     "data": {
      "text/html": [
       "<div>\n",
       "<style scoped>\n",
       "    .dataframe tbody tr th:only-of-type {\n",
       "        vertical-align: middle;\n",
       "    }\n",
       "\n",
       "    .dataframe tbody tr th {\n",
       "        vertical-align: top;\n",
       "    }\n",
       "\n",
       "    .dataframe thead th {\n",
       "        text-align: right;\n",
       "    }\n",
       "</style>\n",
       "<table border=\"1\" class=\"dataframe\">\n",
       "  <thead>\n",
       "    <tr style=\"text-align: right;\">\n",
       "      <th></th>\n",
       "      <th>NumMonths</th>\n",
       "      <th>CreditHistory</th>\n",
       "      <th>Purpose</th>\n",
       "      <th>CreditAmount</th>\n",
       "      <th>Savings</th>\n",
       "      <th>EmployDuration</th>\n",
       "      <th>PayBackPercent</th>\n",
       "      <th>Gender</th>\n",
       "      <th>Debtors</th>\n",
       "      <th>ResidenceDuration</th>\n",
       "      <th>Collateral</th>\n",
       "      <th>OtherPayBackPlan</th>\n",
       "      <th>Property</th>\n",
       "      <th>ExistingCredit</th>\n",
       "      <th>Job</th>\n",
       "      <th>Dependents</th>\n",
       "      <th>Telephone</th>\n",
       "      <th>Foreignworker</th>\n",
       "      <th>CreditStatus</th>\n",
       "    </tr>\n",
       "  </thead>\n",
       "  <tbody>\n",
       "    <tr>\n",
       "      <th>545</th>\n",
       "      <td>0.294118</td>\n",
       "      <td>0.50</td>\n",
       "      <td>0.333333</td>\n",
       "      <td>0.059591</td>\n",
       "      <td>0.25</td>\n",
       "      <td>0.75</td>\n",
       "      <td>1.000000</td>\n",
       "      <td>1.0</td>\n",
       "      <td>0.0</td>\n",
       "      <td>0.333333</td>\n",
       "      <td>0.0</td>\n",
       "      <td>0.0</td>\n",
       "      <td>0.5</td>\n",
       "      <td>0.333333</td>\n",
       "      <td>0.0</td>\n",
       "      <td>1.0</td>\n",
       "      <td>1.0</td>\n",
       "      <td>0.0</td>\n",
       "      <td>0.0</td>\n",
       "    </tr>\n",
       "    <tr>\n",
       "      <th>298</th>\n",
       "      <td>0.205882</td>\n",
       "      <td>0.25</td>\n",
       "      <td>0.222222</td>\n",
       "      <td>0.124629</td>\n",
       "      <td>0.25</td>\n",
       "      <td>0.25</td>\n",
       "      <td>0.666667</td>\n",
       "      <td>1.0</td>\n",
       "      <td>0.0</td>\n",
       "      <td>1.000000</td>\n",
       "      <td>0.0</td>\n",
       "      <td>0.0</td>\n",
       "      <td>0.0</td>\n",
       "      <td>0.000000</td>\n",
       "      <td>0.0</td>\n",
       "      <td>0.0</td>\n",
       "      <td>0.0</td>\n",
       "      <td>0.0</td>\n",
       "      <td>1.0</td>\n",
       "    </tr>\n",
       "    <tr>\n",
       "      <th>109</th>\n",
       "      <td>0.147059</td>\n",
       "      <td>0.25</td>\n",
       "      <td>0.555556</td>\n",
       "      <td>0.063827</td>\n",
       "      <td>0.50</td>\n",
       "      <td>0.00</td>\n",
       "      <td>0.000000</td>\n",
       "      <td>1.0</td>\n",
       "      <td>0.0</td>\n",
       "      <td>0.333333</td>\n",
       "      <td>0.0</td>\n",
       "      <td>0.0</td>\n",
       "      <td>0.0</td>\n",
       "      <td>0.000000</td>\n",
       "      <td>0.0</td>\n",
       "      <td>0.0</td>\n",
       "      <td>0.0</td>\n",
       "      <td>0.0</td>\n",
       "      <td>1.0</td>\n",
       "    </tr>\n",
       "  </tbody>\n",
       "</table>\n",
       "</div>"
      ],
      "text/plain": [
       "     NumMonths  CreditHistory   Purpose  CreditAmount  Savings  \\\n",
       "545   0.294118           0.50  0.333333      0.059591     0.25   \n",
       "298   0.205882           0.25  0.222222      0.124629     0.25   \n",
       "109   0.147059           0.25  0.555556      0.063827     0.50   \n",
       "\n",
       "     EmployDuration  PayBackPercent  Gender  Debtors  ResidenceDuration  \\\n",
       "545            0.75        1.000000     1.0      0.0           0.333333   \n",
       "298            0.25        0.666667     1.0      0.0           1.000000   \n",
       "109            0.00        0.000000     1.0      0.0           0.333333   \n",
       "\n",
       "     Collateral  OtherPayBackPlan  Property  ExistingCredit  Job  Dependents  \\\n",
       "545         0.0               0.0       0.5        0.333333  0.0         1.0   \n",
       "298         0.0               0.0       0.0        0.000000  0.0         0.0   \n",
       "109         0.0               0.0       0.0        0.000000  0.0         0.0   \n",
       "\n",
       "     Telephone  Foreignworker  CreditStatus  \n",
       "545        1.0            0.0           0.0  \n",
       "298        0.0            0.0           1.0  \n",
       "109        0.0            0.0           1.0  "
      ]
     },
     "execution_count": 17,
     "metadata": {},
     "output_type": "execute_result"
    }
   ],
   "source": [
    "German_orig_df.head(3)"
   ]
  },
  {
   "cell_type": "code",
   "execution_count": 18,
   "metadata": {},
   "outputs": [
    {
     "name": "stdout",
     "output_type": "stream",
     "text": [
      "                       German_df  German_lfr\n",
      "0   NumMonths           0.294118    0.853476\n",
      "    CreditHistory       0.500000    0.742106\n",
      "    Purpose             0.333333    0.326361\n",
      "    CreditAmount        0.059591    0.397229\n",
      "    Savings             0.250000    0.361051\n",
      "    EmployDuration      0.750000    0.714082\n",
      "    PayBackPercent      1.000000    1.025977\n",
      "    Debtors             0.000000    0.010094\n",
      "    ResidenceDuration   0.333333    0.659228\n",
      "    Collateral          0.000000    0.554914\n",
      "    OtherPayBackPlan    0.000000    0.256358\n",
      "    Property            0.500000    0.444575\n",
      "    ExistingCredit      0.333333    0.015676\n",
      "    Job                 0.000000    0.188846\n",
      "    Dependents          1.000000    0.329984\n",
      "    Telephone           1.000000    0.839221\n",
      "    Foreignworker       0.000000   -0.289778\n",
      "1   NumMonths           0.205882   -0.153830\n",
      "    CreditHistory       0.250000   -0.133537\n",
      "    Purpose             0.222222    0.076879\n",
      "    CreditAmount        0.124629   -0.275152\n",
      "    Savings             0.250000    0.272333\n",
      "    EmployDuration      0.250000    0.272349\n",
      "    PayBackPercent      0.666667    0.574971\n",
      "    Debtors             0.000000   -0.045511\n",
      "    ResidenceDuration   1.000000    0.728774\n",
      "    Collateral          0.000000    0.557201\n",
      "    OtherPayBackPlan    0.000000   -0.261114\n",
      "    Property            0.000000    0.209190\n",
      "    ExistingCredit      0.000000    0.064675\n",
      "...                          ...         ...\n",
      "798 EmployDuration      1.000000    0.409950\n",
      "    PayBackPercent      1.000000    0.748082\n",
      "    Debtors             0.000000   -0.001594\n",
      "    ResidenceDuration   0.000000    0.442649\n",
      "    Collateral          0.666667    0.679668\n",
      "    OtherPayBackPlan    0.000000    0.355001\n",
      "    Property            0.000000    0.423264\n",
      "    ExistingCredit      0.000000    0.153413\n",
      "    Job                 0.666667    0.228805\n",
      "    Dependents          0.000000    0.194494\n",
      "    Telephone           0.000000    0.391282\n",
      "    Foreignworker       0.000000    0.008554\n",
      "    CreditStatus        1.000000    0.000000\n",
      "799 NumMonths           0.250000   -0.125844\n",
      "    CreditHistory       0.000000   -0.101458\n",
      "    Purpose             0.222222    0.082037\n",
      "    CreditAmount        0.112138   -0.263203\n",
      "    Savings             0.250000    0.267866\n",
      "    EmployDuration      1.000000    0.286159\n",
      "    PayBackPercent      1.000000    0.602874\n",
      "    Debtors             0.000000   -0.050816\n",
      "    ResidenceDuration   1.000000    0.718188\n",
      "    Collateral          0.333333    0.571193\n",
      "    OtherPayBackPlan    0.000000   -0.245335\n",
      "    Property            0.000000    0.233055\n",
      "    ExistingCredit      0.000000    0.043906\n",
      "    Job                 0.000000   -0.011382\n",
      "    Dependents          0.000000   -0.056012\n",
      "    Telephone           0.000000    0.415792\n",
      "    Foreignworker       0.000000   -0.027332\n",
      "\n",
      "[13886 rows x 2 columns]\n"
     ]
    }
   ],
   "source": [
    "German_orig_df   = German_orig_df.reset_index(drop=True)\n",
    "German_lfr_df = German_lfr_df.reset_index(drop=True)\n",
    "GermanBool   = (German_orig_df != German_lfr_df).stack()  # Create Frame of comparison booleans\n",
    "Germandiff   = pd.concat([German_orig_df.stack()[GermanBool], German_lfr_df.stack()[GermanBool]], axis=1)\n",
    "Germandiff.columns=[\"German_df\", \"German_lfr\"]\n",
    "print(Germandiff)"
   ]
  },
  {
   "cell_type": "code",
   "execution_count": 19,
   "metadata": {},
   "outputs": [],
   "source": [
    "## PCA Analysis of consitency"
   ]
  },
  {
   "cell_type": "code",
   "execution_count": 20,
   "metadata": {},
   "outputs": [
    {
     "name": "stdout",
     "output_type": "stream",
     "text": [
      "this is the threshold being used : 0.7\n"
     ]
    }
   ],
   "source": [
    "# At this stage the transformed dataframe will have the last threshold encountered!\n",
    "print('this is the threshold being used :',threshold)\n",
    "feat_cols = German_train_df.feature_names\n",
    "\n",
    "orig_df = pd.DataFrame(German_train_df.features,columns=feat_cols)\n",
    "orig_df['label'] = German_train_df.labels\n",
    "orig_df['label'] = orig_df['label'].apply(lambda i: str(i))\n",
    "\n",
    "transf_df = pd.DataFrame(German_train_lfr.features,columns=feat_cols)\n",
    "transf_df['label'] = German_train_lfr.labels\n",
    "transf_df['label'] = transf_df['label'].apply(lambda i: str(i))"
   ]
  },
  {
   "cell_type": "code",
   "execution_count": 21,
   "metadata": {},
   "outputs": [
    {
     "data": {
      "text/markdown": [
       "#### Original training dataset"
      ],
      "text/plain": [
       "<IPython.core.display.Markdown object>"
      ]
     },
     "metadata": {},
     "output_type": "display_data"
    },
    {
     "name": "stdout",
     "output_type": "stream",
     "text": [
      "Explained variation per principal component:\n",
      "[0.15576645 0.13448264 0.10111426]\n"
     ]
    }
   ],
   "source": [
    "from sklearn.decomposition import PCA\n",
    "\n",
    "orig_pca = PCA(n_components=3)\n",
    "orig_pca_result = orig_pca.fit_transform(orig_df[feat_cols].values)\n",
    "\n",
    "orig_df['pca-one'] = orig_pca_result[:,0]\n",
    "orig_df['pca-two'] = orig_pca_result[:,1] \n",
    "orig_df['pca-three'] = orig_pca_result[:,2]\n",
    "\n",
    "display(Markdown(\"#### Original training dataset\"))\n",
    "print('Explained variation per principal component:')\n",
    "print(orig_pca.explained_variance_ratio_)"
   ]
  },
  {
   "cell_type": "code",
   "execution_count": 22,
   "metadata": {},
   "outputs": [
    {
     "data": {
      "text/markdown": [
       "#### Transformed training dataset"
      ],
      "text/plain": [
       "<IPython.core.display.Markdown object>"
      ]
     },
     "metadata": {},
     "output_type": "display_data"
    },
    {
     "name": "stdout",
     "output_type": "stream",
     "text": [
      "Explained variation per principal component:\n",
      "[0.71598891 0.13888389 0.13536777]\n"
     ]
    }
   ],
   "source": [
    "transf_pca = PCA(n_components=3)\n",
    "transf_pca_result = transf_pca.fit_transform(transf_df[feat_cols].values)\n",
    "\n",
    "transf_df['pca-one'] = transf_pca_result[:,0]\n",
    "transf_df['pca-two'] = transf_pca_result[:,1] \n",
    "transf_df['pca-three'] = transf_pca_result[:,2]\n",
    "\n",
    "display(Markdown(\"#### Transformed training dataset\"))\n",
    "print('Explained variation per principal component:')\n",
    "print(transf_pca.explained_variance_ratio_)"
   ]
  },
  {
   "cell_type": "code",
   "execution_count": 23,
   "metadata": {},
   "outputs": [
    {
     "name": "stdout",
     "output_type": "stream",
     "text": [
      "Logistic regression validation accuracy: 0.7\n",
      "Random Forest       validation accuracy: 0.695\n"
     ]
    }
   ],
   "source": [
    "# Test whether we can predict the Sensitive variable from the transformed training dataset\n",
    "X_train = German_lfr_df.drop(protected_attr,axis=1)\n",
    "y_train = German_lfr_df[protected_attr]\n",
    "debiasedLogModel = LogisticRegression(random_state=101)\n",
    "debiasedRfcModel = RandomForestClassifier(n_estimators=100,max_depth=4,random_state=101)\n",
    "debiasedLogModel.fit(X_train, y_train) \n",
    "debiasedRfcModel.fit(X_train, y_train) \n",
    "# Now test whether we can predict Gender from the test dataset\n",
    "German_test, d = German_test_df.convert_to_dataframe(de_dummy_code=False, sep='=', set_category=False)\n",
    "X_test = German_test.drop(protected_attr,axis=1)\n",
    "y_test = German_test[protected_attr]\n",
    "print(f\"Logistic regression validation accuracy: {debiasedLogModel.score(X_test, y_test)}\")\n",
    "print(f\"Random Forest       validation accuracy: {debiasedRfcModel.score(X_test, y_test)}\")"
   ]
  },
  {
   "cell_type": "code",
   "execution_count": 24,
   "metadata": {},
   "outputs": [],
   "source": [
    "###Load, clean up original test data and compute metric"
   ]
  },
  {
   "cell_type": "code",
   "execution_count": 25,
   "metadata": {},
   "outputs": [
    {
     "data": {
      "text/markdown": [
       "#### Testing Dataset shape"
      ],
      "text/plain": [
       "<IPython.core.display.Markdown object>"
      ]
     },
     "metadata": {},
     "output_type": "display_data"
    },
    {
     "name": "stdout",
     "output_type": "stream",
     "text": [
      "(200, 18)\n"
     ]
    },
    {
     "data": {
      "text/markdown": [
       "#### Original test dataset"
      ],
      "text/plain": [
       "<IPython.core.display.Markdown object>"
      ]
     },
     "metadata": {},
     "output_type": "display_data"
    },
    {
     "name": "stdout",
     "output_type": "stream",
     "text": [
      "Difference in mean outcomes between unprivileged and privileged groups = -0.002381\n"
     ]
    }
   ],
   "source": [
    "display(Markdown(\"#### Testing Dataset shape\"))\n",
    "print(German_test_df.features.shape)\n",
    "\n",
    "metric_test_bld = BinaryLabelDatasetMetric(German_test_df, \n",
    "                                            unprivileged_groups=unprivileged_groups,\n",
    "                                            privileged_groups=privileged_groups)\n",
    "display(Markdown(\"#### Original test dataset\"))\n",
    "print(\"Difference in mean outcomes between unprivileged and privileged groups = %f\" % metric_test_bld.mean_difference())"
   ]
  },
  {
   "cell_type": "code",
   "execution_count": 26,
   "metadata": {},
   "outputs": [],
   "source": [
    "###Transform test data and compute metric"
   ]
  },
  {
   "cell_type": "code",
   "execution_count": 27,
   "metadata": {},
   "outputs": [],
   "source": [
    "German_test_lfr = TR.transform(German_test_df, threshold=threshold)\n",
    "metric_test_lfr = BinaryLabelDatasetMetric(German_test_lfr, \n",
    "                                         unprivileged_groups=unprivileged_groups,\n",
    "                                         privileged_groups=privileged_groups)"
   ]
  },
  {
   "cell_type": "code",
   "execution_count": 28,
   "metadata": {},
   "outputs": [
    {
     "name": "stdout",
     "output_type": "stream",
     "text": [
      "Consistency of labels in tranformed test dataset= 0.972000\n"
     ]
    }
   ],
   "source": [
    "print(\"Consistency of labels in tranformed test dataset= %f\" %metric_test_lfr.consistency())"
   ]
  },
  {
   "cell_type": "code",
   "execution_count": 29,
   "metadata": {},
   "outputs": [
    {
     "name": "stdout",
     "output_type": "stream",
     "text": [
      "Consistency of labels in original test dataset= 0.711000\n"
     ]
    }
   ],
   "source": [
    "print(\"Consistency of labels in original test dataset= %f\" %metric_test_bld.consistency())"
   ]
  },
  {
   "cell_type": "code",
   "execution_count": 30,
   "metadata": {},
   "outputs": [
    {
     "name": "stdout",
     "output_type": "stream",
     "text": [
      "None\n"
     ]
    }
   ],
   "source": [
    "def check_algorithm_success():\n",
    "    \"\"\"Transformed dataset consistency should be greater than original dataset.\"\"\"\n",
    "    assert metric_test_lfr.consistency() > metric_test_bld.consistency(), \"Transformed dataset consistency should be greater than original dataset.\"\n",
    "\n",
    "print(check_algorithm_success())"
   ]
  }
 ],
 "metadata": {
  "kernelspec": {
   "display_name": "Python 3",
   "language": "python",
   "name": "python3"
  },
  "language_info": {
   "codemirror_mode": {
    "name": "ipython",
    "version": 3
   },
   "file_extension": ".py",
   "mimetype": "text/x-python",
   "name": "python",
   "nbconvert_exporter": "python",
   "pygments_lexer": "ipython3",
   "version": "3.7.3"
  }
 },
 "nbformat": 4,
 "nbformat_minor": 2
}
