{
 "cells": [
  {
   "cell_type": "code",
   "execution_count": 2,
   "metadata": {},
   "outputs": [
    {
     "name": "stdout",
     "output_type": "stream",
     "text": [
      "Collecting aif360\n",
      "  Downloading https://files.pythonhosted.org/packages/cf/ec/6497d4ee752611e80a6d5cd51ae89ae8ded02fe6c48a5424db2db7c252af/aif360-0.2.0-py3-none-any.whl (23.4MB)\n",
      "Collecting scipy (from aif360)\n",
      "  Using cached https://files.pythonhosted.org/packages/53/17/9dfd64540b6645fae581462ed2d1c8e680b7e946ca2789c5149693660392/scipy-1.3.0-cp37-cp37m-win_amd64.whl\n",
      "Collecting pandas==0.23.3 (from aif360)\n",
      "  Using cached https://files.pythonhosted.org/packages/6b/b1/cdcbfff4cb46080451c7f16bb9f0649cf8d2c4d7c02fc072521a75c93741/pandas-0.23.3-cp37-cp37m-win_amd64.whl\n",
      "Collecting scikit-learn (from aif360)\n",
      "  Downloading https://files.pythonhosted.org/packages/75/14/fde90de4fc6722303ddbc183ec253c288dae8c7e4eb5a069ac49f14c9a0f/scikit_learn-0.21.2-cp37-cp37m-win_amd64.whl (5.9MB)\n",
      "Collecting numpy<1.16,>=1.14 (from aif360)\n",
      "  Using cached https://files.pythonhosted.org/packages/00/0e/5a8c34adb97fc1cd6636d78050e575945e874c8516d501421d5a0f377a6c/numpy-1.15.4-cp37-none-win_amd64.whl\n",
      "Requirement already satisfied: python-dateutil>=2.5.0 in c:\\users\\befaria\\appdata\\local\\continuum\\miniconda3\\lib\\site-packages (from pandas==0.23.3->aif360) (2.8.0)\n",
      "Collecting pytz>=2011k (from pandas==0.23.3->aif360)\n",
      "  Using cached https://files.pythonhosted.org/packages/3d/73/fe30c2daaaa0713420d0382b16fbb761409f532c56bdcc514bf7b6262bb6/pytz-2019.1-py2.py3-none-any.whl\n",
      "Collecting joblib>=0.11 (from scikit-learn->aif360)\n",
      "  Using cached https://files.pythonhosted.org/packages/cd/c1/50a758e8247561e58cb87305b1e90b171b8c767b15b12a1734001f41d356/joblib-0.13.2-py2.py3-none-any.whl\n",
      "Requirement already satisfied: six>=1.5 in c:\\users\\befaria\\appdata\\local\\continuum\\miniconda3\\lib\\site-packages (from python-dateutil>=2.5.0->pandas==0.23.3->aif360) (1.12.0)\n",
      "Installing collected packages: numpy, scipy, pytz, pandas, joblib, scikit-learn, aif360\n",
      "Successfully installed aif360-0.2.0 joblib-0.13.2 numpy-1.15.4 pandas-0.23.3 pytz-2019.1 scikit-learn-0.21.2 scipy-1.3.0\n",
      "Note: you may need to restart the kernel to use updated packages.\n"
     ]
    }
   ],
   "source": [
    "pip install aif360"
   ]
  }
 ],
 "metadata": {
  "kernelspec": {
   "display_name": "Python 3",
   "language": "python",
   "name": "python3"
  },
  "language_info": {
   "codemirror_mode": {
    "name": "ipython",
    "version": 3
   },
   "file_extension": ".py",
   "mimetype": "text/x-python",
   "name": "python",
   "nbconvert_exporter": "python",
   "pygments_lexer": "ipython3",
   "version": "3.7.3"
  }
 },
 "nbformat": 4,
 "nbformat_minor": 2
}
