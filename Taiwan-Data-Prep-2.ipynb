{
 "cells": [
  {
   "cell_type": "code",
   "execution_count": 1,
   "metadata": {},
   "outputs": [],
   "source": [
    "# THis notebook creates a subset of 'Singles' of the Taiwan Credit Default dataset. \n",
    "# Import Data handling/display libraries\n",
    "import pandas as pd\n",
    "import numpy as np\n",
    "from sklearn.base import TransformerMixin\n",
    "from sklearn.pipeline import Pipeline, FeatureUnion\n",
    "# from sklearn import preprocessing\n",
    "from sklearn.preprocessing import LabelEncoder,StandardScaler, MinMaxScaler, RobustScaler \n",
    "from typing import List, Union, Dict\n",
    "# Warnings will be used to silence various model warnings for tidier output\n",
    "import warnings\n",
    "warnings.filterwarnings('ignore')"
   ]
  },
  {
   "cell_type": "code",
   "execution_count": 2,
   "metadata": {},
   "outputs": [],
   "source": [
    "# Import the Taiwan Credit Card Default training dataset\n",
    "Taiwan_df = pd.read_csv('./input/Taiwan-Credit-Card-Default.csv')\n",
    "\n",
    "# Drop the first row because it is a redundant heading row.\n",
    "Taiwan_df.to_csv('./input/Taiwan-Credit-Card-New.csv', header=False, index=False)\n",
    "\n",
    "# Re-read the dataset with its proper column headers\n",
    "Taiwan_df = pd.read_csv('./input/Taiwan-Credit-Card-New.csv')\n",
    "# Rename a couple of columns for aesthetics\n",
    "Taiwan_df.rename(columns={'SEX':'GENDER', 'PAY_0': 'PAY_1',\n",
    "                          'default payment next month':'DEFAULT'}, \n",
    "                          inplace=True)\n",
    "# Drop ID as it has no impact on this study.\n",
    "Taiwan_df.drop([\"ID\"], axis=1, inplace=True)"
   ]
  },
  {
   "cell_type": "code",
   "execution_count": 3,
   "metadata": {},
   "outputs": [
    {
     "data": {
      "text/plain": [
       "1    18112\n",
       "0    11888\n",
       "Name: GENDER, dtype: int64"
      ]
     },
     "execution_count": 3,
     "metadata": {},
     "output_type": "execute_result"
    }
   ],
   "source": [
    "# Make males 0, Females 1\n",
    "gender = {1: 0,2: 1} \n",
    "Taiwan_df.GENDER = [gender[item] for item in Taiwan_df.GENDER]\n",
    "Taiwan_df.GENDER.value_counts()"
   ]
  },
  {
   "cell_type": "code",
   "execution_count": 4,
   "metadata": {},
   "outputs": [
    {
     "data": {
      "text/html": [
       "<div>\n",
       "<style scoped>\n",
       "    .dataframe tbody tr th:only-of-type {\n",
       "        vertical-align: middle;\n",
       "    }\n",
       "\n",
       "    .dataframe tbody tr th {\n",
       "        vertical-align: top;\n",
       "    }\n",
       "\n",
       "    .dataframe thead th {\n",
       "        text-align: right;\n",
       "    }\n",
       "</style>\n",
       "<table border=\"1\" class=\"dataframe\">\n",
       "  <thead>\n",
       "    <tr style=\"text-align: right;\">\n",
       "      <th></th>\n",
       "      <th>LIMIT_BAL</th>\n",
       "      <th>GENDER</th>\n",
       "      <th>EDUCATION</th>\n",
       "      <th>MARRIAGE</th>\n",
       "      <th>AGE</th>\n",
       "      <th>PAY_1</th>\n",
       "      <th>PAY_2</th>\n",
       "      <th>PAY_3</th>\n",
       "      <th>PAY_4</th>\n",
       "      <th>PAY_5</th>\n",
       "      <th>...</th>\n",
       "      <th>BILL_AMT4</th>\n",
       "      <th>BILL_AMT5</th>\n",
       "      <th>BILL_AMT6</th>\n",
       "      <th>PAY_AMT1</th>\n",
       "      <th>PAY_AMT2</th>\n",
       "      <th>PAY_AMT3</th>\n",
       "      <th>PAY_AMT4</th>\n",
       "      <th>PAY_AMT5</th>\n",
       "      <th>PAY_AMT6</th>\n",
       "      <th>DEFAULT</th>\n",
       "    </tr>\n",
       "  </thead>\n",
       "  <tbody>\n",
       "    <tr>\n",
       "      <th>1</th>\n",
       "      <td>120000</td>\n",
       "      <td>1</td>\n",
       "      <td>2</td>\n",
       "      <td>2</td>\n",
       "      <td>26</td>\n",
       "      <td>-1</td>\n",
       "      <td>2</td>\n",
       "      <td>0</td>\n",
       "      <td>0</td>\n",
       "      <td>0</td>\n",
       "      <td>...</td>\n",
       "      <td>3272</td>\n",
       "      <td>3455</td>\n",
       "      <td>3261</td>\n",
       "      <td>0</td>\n",
       "      <td>1000</td>\n",
       "      <td>1000</td>\n",
       "      <td>1000</td>\n",
       "      <td>0</td>\n",
       "      <td>2000</td>\n",
       "      <td>1</td>\n",
       "    </tr>\n",
       "    <tr>\n",
       "      <th>2</th>\n",
       "      <td>90000</td>\n",
       "      <td>1</td>\n",
       "      <td>2</td>\n",
       "      <td>2</td>\n",
       "      <td>34</td>\n",
       "      <td>0</td>\n",
       "      <td>0</td>\n",
       "      <td>0</td>\n",
       "      <td>0</td>\n",
       "      <td>0</td>\n",
       "      <td>...</td>\n",
       "      <td>14331</td>\n",
       "      <td>14948</td>\n",
       "      <td>15549</td>\n",
       "      <td>1518</td>\n",
       "      <td>1500</td>\n",
       "      <td>1000</td>\n",
       "      <td>1000</td>\n",
       "      <td>1000</td>\n",
       "      <td>5000</td>\n",
       "      <td>0</td>\n",
       "    </tr>\n",
       "    <tr>\n",
       "      <th>5</th>\n",
       "      <td>50000</td>\n",
       "      <td>0</td>\n",
       "      <td>1</td>\n",
       "      <td>2</td>\n",
       "      <td>37</td>\n",
       "      <td>0</td>\n",
       "      <td>0</td>\n",
       "      <td>0</td>\n",
       "      <td>0</td>\n",
       "      <td>0</td>\n",
       "      <td>...</td>\n",
       "      <td>19394</td>\n",
       "      <td>19619</td>\n",
       "      <td>20024</td>\n",
       "      <td>2500</td>\n",
       "      <td>1815</td>\n",
       "      <td>657</td>\n",
       "      <td>1000</td>\n",
       "      <td>1000</td>\n",
       "      <td>800</td>\n",
       "      <td>0</td>\n",
       "    </tr>\n",
       "    <tr>\n",
       "      <th>6</th>\n",
       "      <td>500000</td>\n",
       "      <td>0</td>\n",
       "      <td>1</td>\n",
       "      <td>2</td>\n",
       "      <td>29</td>\n",
       "      <td>0</td>\n",
       "      <td>0</td>\n",
       "      <td>0</td>\n",
       "      <td>0</td>\n",
       "      <td>0</td>\n",
       "      <td>...</td>\n",
       "      <td>542653</td>\n",
       "      <td>483003</td>\n",
       "      <td>473944</td>\n",
       "      <td>55000</td>\n",
       "      <td>40000</td>\n",
       "      <td>38000</td>\n",
       "      <td>20239</td>\n",
       "      <td>13750</td>\n",
       "      <td>13770</td>\n",
       "      <td>0</td>\n",
       "    </tr>\n",
       "    <tr>\n",
       "      <th>7</th>\n",
       "      <td>100000</td>\n",
       "      <td>1</td>\n",
       "      <td>2</td>\n",
       "      <td>2</td>\n",
       "      <td>23</td>\n",
       "      <td>0</td>\n",
       "      <td>-1</td>\n",
       "      <td>-1</td>\n",
       "      <td>0</td>\n",
       "      <td>0</td>\n",
       "      <td>...</td>\n",
       "      <td>221</td>\n",
       "      <td>-159</td>\n",
       "      <td>567</td>\n",
       "      <td>380</td>\n",
       "      <td>601</td>\n",
       "      <td>0</td>\n",
       "      <td>581</td>\n",
       "      <td>1687</td>\n",
       "      <td>1542</td>\n",
       "      <td>0</td>\n",
       "    </tr>\n",
       "  </tbody>\n",
       "</table>\n",
       "<p>5 rows × 24 columns</p>\n",
       "</div>"
      ],
      "text/plain": [
       "   LIMIT_BAL  GENDER  EDUCATION  MARRIAGE  AGE  PAY_1  PAY_2  PAY_3  PAY_4  \\\n",
       "1     120000       1          2         2   26     -1      2      0      0   \n",
       "2      90000       1          2         2   34      0      0      0      0   \n",
       "5      50000       0          1         2   37      0      0      0      0   \n",
       "6     500000       0          1         2   29      0      0      0      0   \n",
       "7     100000       1          2         2   23      0     -1     -1      0   \n",
       "\n",
       "   PAY_5   ...     BILL_AMT4  BILL_AMT5  BILL_AMT6  PAY_AMT1  PAY_AMT2  \\\n",
       "1      0   ...          3272       3455       3261         0      1000   \n",
       "2      0   ...         14331      14948      15549      1518      1500   \n",
       "5      0   ...         19394      19619      20024      2500      1815   \n",
       "6      0   ...        542653     483003     473944     55000     40000   \n",
       "7      0   ...           221       -159        567       380       601   \n",
       "\n",
       "   PAY_AMT3  PAY_AMT4  PAY_AMT5  PAY_AMT6  DEFAULT  \n",
       "1      1000      1000         0      2000        1  \n",
       "2      1000      1000      1000      5000        0  \n",
       "5       657      1000      1000       800        0  \n",
       "6     38000     20239     13750     13770        0  \n",
       "7         0       581      1687      1542        0  \n",
       "\n",
       "[5 rows x 24 columns]"
      ]
     },
     "execution_count": 4,
     "metadata": {},
     "output_type": "execute_result"
    }
   ],
   "source": [
    "# Create a subset of all MARRIAGE== 2 (singles) of the dataset\n",
    "Taiwan_df = Taiwan_df.loc[Taiwan_df['MARRIAGE'] ==2]\n",
    "Taiwan_df.head(5)"
   ]
  },
  {
   "cell_type": "code",
   "execution_count": 5,
   "metadata": {},
   "outputs": [
    {
     "data": {
      "text/plain": [
       "1    9411\n",
       "0    6553\n",
       "Name: GENDER, dtype: int64"
      ]
     },
     "execution_count": 5,
     "metadata": {},
     "output_type": "execute_result"
    }
   ],
   "source": [
    "Taiwan_df.GENDER.value_counts()"
   ]
  },
  {
   "cell_type": "code",
   "execution_count": 6,
   "metadata": {},
   "outputs": [
    {
     "data": {
      "text/plain": [
       "(15964, 24)"
      ]
     },
     "execution_count": 6,
     "metadata": {},
     "output_type": "execute_result"
    }
   ],
   "source": [
    "Taiwan_df.shape"
   ]
  },
  {
   "cell_type": "code",
   "execution_count": 7,
   "metadata": {},
   "outputs": [],
   "source": [
    "# We create a new column AMT_PAY_RATIO to hold the ratio of:\n",
    "# Total sum owed / Total sum paid over 6 months\n",
    "Taiwan_df['AMT_PAY_RATIO'] = (Taiwan_df['BILL_AMT1']+Taiwan_df['BILL_AMT2']+\n",
    "                              Taiwan_df['BILL_AMT3']+Taiwan_df['BILL_AMT4']+\n",
    "                              Taiwan_df['BILL_AMT5']+\n",
    "                              Taiwan_df['BILL_AMT6']) / (Taiwan_df['PAY_AMT1']+\n",
    "                                                         Taiwan_df['PAY_AMT2']+Taiwan_df['PAY_AMT3']+\n",
    "                                                         Taiwan_df['PAY_AMT4']+Taiwan_df['PAY_AMT5']+\n",
    "                                                         Taiwan_df['PAY_AMT6'])  "
   ]
  },
  {
   "cell_type": "code",
   "execution_count": 8,
   "metadata": {},
   "outputs": [],
   "source": [
    "# Here we create a 6 new columns called AMT-PAY-RATIO. This will contain \n",
    "# the amount/payment ratio for the 6 BILL_AMTx/PAY_AMTx. \n",
    "Taiwan_df['AMT_PAY_RATIO1'] = Taiwan_df['BILL_AMT1']/Taiwan_df['PAY_AMT1']\n",
    "Taiwan_df['AMT_PAY_RATIO2'] = Taiwan_df['BILL_AMT2']/Taiwan_df['PAY_AMT2']\n",
    "Taiwan_df['AMT_PAY_RATIO3'] = Taiwan_df['BILL_AMT3']/Taiwan_df['PAY_AMT3']\n",
    "Taiwan_df['AMT_PAY_RATIO4'] = Taiwan_df['BILL_AMT4']/Taiwan_df['PAY_AMT4']\n",
    "Taiwan_df['AMT_PAY_RATIO5'] = Taiwan_df['BILL_AMT5']/Taiwan_df['PAY_AMT5']\n",
    "Taiwan_df['AMT_PAY_RATIO6'] = Taiwan_df['BILL_AMT6']/Taiwan_df['PAY_AMT6']\n",
    "\n",
    "# We now replace the inf values (from division by zero) with NaN\n",
    "Taiwan_df.replace([np.inf, -np.inf], np.nan, inplace=True)\n",
    "\n",
    "# We then drop the all the original BILL_AMTx aand PAY_AMTx columns.\n",
    "Taiwan_df.drop([\"BILL_AMT1\",\"BILL_AMT2\", \"BILL_AMT3\", \"BILL_AMT4\", \"BILL_AMT5\", \"BILL_AMT6\"], axis=1, inplace=True)\n",
    "Taiwan_df.drop([\"PAY_AMT1\", \"PAY_AMT2\" , \"PAY_AMT3\" , \"PAY_AMT4\" , \"PAY_AMT5\" , \"PAY_AMT6\" ], axis=1, inplace=True)\n",
    "#Taiwan_df.head(10)"
   ]
  },
  {
   "cell_type": "code",
   "execution_count": 9,
   "metadata": {},
   "outputs": [],
   "source": [
    "# Now we do some data cleansing:\n",
    "# As the Education categories 0, 5, and 6 have no definition, \n",
    "# we shall make them 'Education Other', eg '4'\n",
    "fil = (Taiwan_df.EDUCATION == 5) | (Taiwan_df.EDUCATION == 6) | (Taiwan_df.EDUCATION == 0)\n",
    "Taiwan_df.loc[fil, 'EDUCATION'] = 4\n",
    "# Same with MARRIAGE category 0 - it has no definition, \n",
    "# so we make them 'Marriage Other', eg '3'\n",
    "Taiwan_df.loc[Taiwan_df.MARRIAGE == 0, 'MARRIAGE'] = 3\n",
    "# Taiwan_df.MARRIAGE.value_counts()\n",
    "#Taiwan_df.head(10)"
   ]
  },
  {
   "cell_type": "code",
   "execution_count": 10,
   "metadata": {},
   "outputs": [],
   "source": [
    "# Create a function to return columns from the dataframe.\n",
    "class SelectCols(TransformerMixin):\n",
    "    \"\"\"Select columns from a DataFrame.\"\"\"\n",
    "    def __init__(self, cols: List[str]) -> None:\n",
    "        self.cols = cols\n",
    "    def fit(self, x: None) -> \"SelectCols\":\n",
    "        \"\"\"Nothing to do.\"\"\"\n",
    "        return self\n",
    "    def transform(self, x: pd.DataFrame) -> pd.DataFrame:\n",
    "        \"\"\"Return just selected columns.\"\"\"\n",
    "        return x[self.cols]"
   ]
  },
  {
   "cell_type": "code",
   "execution_count": 11,
   "metadata": {},
   "outputs": [],
   "source": [
    "class NumericEncoder(TransformerMixin):\n",
    "    \"\"\"Remove invalid values from numerical columns, replace with median.\"\"\"\n",
    "    def fit(self, x: pd.DataFrame) -> \"NumericEncoder\":\n",
    "        # Find median for all columns. Examine all columns for non-NaNs, invalid values and NaNs\n",
    "        # If a column is all NaNs (after coercion), the median value will be a NaN.\n",
    "        self.encoders_ = {\n",
    "            c: pd.to_numeric(x[c], errors='coerce').median(skipna=True) for c in x}\n",
    "        return self\n",
    "\n",
    "    def transform(self, x: pd.DataFrame) -> pd.DataFrame:\n",
    "        #For each column in x, encode any NaN values with the learned medium \n",
    "        # Create a list of new DataFrames, each with 1 cleaned columns\n",
    "        output_dfs = []\n",
    "        for c in x:\n",
    "            new_cols = pd.DataFrame()\n",
    "            # Find invalid values that aren't nans (-inf, inf, string)\n",
    "            invalid_idx = pd.to_numeric(x[c].replace([-np.inf, np.inf],np.nan),\n",
    "                                        errors='coerce').isnull()\n",
    "            # Copy to new df for this column\n",
    "            new_cols.loc[:, c] = x[c].copy()\n",
    "            # Replace the invalid values with learned median\n",
    "            new_cols.loc[invalid_idx, c] = self.encoders_[c]\n",
    "            output_dfs.append(new_cols)\n",
    "\n",
    "        # Concat list of output_dfs to single df\n",
    "        df = pd.concat(output_dfs, axis=1)\n",
    "        # Return with an remaining NaNs removed. These might exist if the median\n",
    "        # is a NaN because there was no numeric data in the column at all.\n",
    "        return df.fillna(0)"
   ]
  },
  {
   "cell_type": "code",
   "execution_count": 12,
   "metadata": {},
   "outputs": [],
   "source": [
    "# Construct the data engineering pipeline\n",
    "# NumericEncoding fork: Select numeric columns -> numeric encode\n",
    "pp_numeric_cols = Pipeline([('select', SelectCols(cols=['LIMIT_BAL','GENDER','EDUCATION','MARRIAGE','AGE',\n",
    "                                                       'PAY_1','PAY_2','PAY_3','PAY_4','PAY_5','PAY_6',\n",
    "                                                       'AMT_PAY_RATIO1', 'AMT_PAY_RATIO2', 'AMT_PAY_RATIO3', \n",
    "                                                       'AMT_PAY_RATIO4', 'AMT_PAY_RATIO5', 'AMT_PAY_RATIO6',\n",
    "                                                       'AMT_PAY_RATIO', 'DEFAULT'])),\n",
    "                            ('process', NumericEncoder())])"
   ]
  },
  {
   "cell_type": "code",
   "execution_count": 13,
   "metadata": {},
   "outputs": [],
   "source": [
    "# .fit_transform on the Taiwan dataset\n",
    "Taiwan_pp = pp_numeric_cols.fit_transform(Taiwan_df)\n",
    "# Test step - dropping columns to see whether we get meaningful results in de-biasing.\n",
    "# Taiwan_pp.drop([\"PAY_1\", \"PAY_2\", \"PAY_3\", \"PAY_4\", \"PAY_5\", \"PAY_6\"], axis=1, inplace=True)\n",
    "# Taiwan_pp.drop([\"AMT_PAY_RATIO1\",\"AMT_PAY_RATIO2\", \"AMT_PAY_RATIO3\", \"AMT_PAY_RATIO4\", \"AMT_PAY_RATIO5\", \"AMT_PAY_RATIO6\"], axis=1, inplace=True)\n",
    "# Taiwan_pp.drop([\"LIMIT_BAL\", \"AMT_PAY_RATIO\"], axis=1, inplace=True)\n",
    "# Taiwan_pp.drop([\"PAY_1\", \"PAY_2\" , \"PAY_3\" , \"PAY_4\" , \"PAY_5\" , \"PAY_6\" ], axis=1, inplace=True)\n",
    "# Taiwan_pp.drop([\"PAY_1\", \"PAY_2\" , \"PAY_3\" , \"PAY_4\" , \"PAY_5\" , \"PAY_6\" ], axis=1, inplace=True)\n",
    "#Taiwan_pp.head(10)"
   ]
  },
  {
   "cell_type": "code",
   "execution_count": 14,
   "metadata": {},
   "outputs": [],
   "source": [
    "# Finally write the cleaned dataset out to a csv\n",
    "# Taiwan_scaled_df.to_csv('./input/Taiwan-Credit-Card-Cleaned.csv',index=False)\n",
    "Taiwan_pp.to_csv('./input/Taiwan-Credit-Card-Cleaned-Subset.csv',index=False)\n",
    "# Taiwan_df.to_csv('./input/Taiwan-Credit-Card-Cleaned.csv',index=False)"
   ]
  }
 ],
 "metadata": {
  "kernelspec": {
   "display_name": "Python 3",
   "language": "python",
   "name": "python3"
  },
  "language_info": {
   "codemirror_mode": {
    "name": "ipython",
    "version": 3
   },
   "file_extension": ".py",
   "mimetype": "text/x-python",
   "name": "python",
   "nbconvert_exporter": "python",
   "pygments_lexer": "ipython3",
   "version": "3.7.3"
  }
 },
 "nbformat": 4,
 "nbformat_minor": 2
}
