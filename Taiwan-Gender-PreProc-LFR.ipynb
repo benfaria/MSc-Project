{
 "cells": [
  {
   "cell_type": "code",
   "execution_count": 1,
   "metadata": {},
   "outputs": [],
   "source": [
    "%matplotlib inline\n",
    "# Load all necessary packages\n",
    "import sys\n",
    "import pandas as pd\n",
    "# Import IBM's AI Fairness tooolbox\n",
    "from aif360.datasets       import BinaryLabelDataset\n",
    "from aif360.metrics        import BinaryLabelDatasetMetric\n",
    "from aif360.metrics        import ClassificationMetric\n",
    "from aif360.metrics.utils  import compute_boolean_conditioning_vector\n",
    "from aif360.algorithms.preprocessing.lfr import LFR\n",
    "# Import scikit-learn core slibraries\n",
    "from sklearn.model_selection import train_test_split\n",
    "from sklearn.ensemble      import RandomForestClassifier\n",
    "from sklearn.linear_model  import LogisticRegression\n",
    "from sklearn.preprocessing import StandardScaler, MinMaxScaler\n",
    "from sklearn.metrics       import accuracy_score\n",
    "from IPython.display import Markdown, display\n",
    "import matplotlib.pyplot as plt\n",
    "# Warnings will be used to silence various model warnings for tidier output\n",
    "import warnings\n",
    "warnings.filterwarnings('ignore')"
   ]
  },
  {
   "cell_type": "code",
   "execution_count": 2,
   "metadata": {},
   "outputs": [],
   "source": [
    "# Read the cleaned Taiwan-Credit-Card-Cleaned-Marriage dataset\n",
    "Taiwan_df = pd.read_csv('./input/Taiwan-Credit-Card-Cleaned-Gender.csv')"
   ]
  },
  {
   "cell_type": "code",
   "execution_count": 3,
   "metadata": {},
   "outputs": [],
   "source": [
    "# Set privileged (1)/ unprivileged (0)/ favourable (1) / unfavourable values (0)\n",
    "protected_attr      = 'GENDER'\n",
    "priv_grp            = 1  # Males \n",
    "unpriv_grp          = 0  # Females  \n",
    "lab                 = 'DEFAULT'\n",
    "fav_label           = 1 # Will not default next month\n",
    "unfav_label         = 0 # Will default next month\n",
    "privileged_groups   = [{protected_attr: priv_grp}]   # Males\n",
    "unprivileged_groups = [{protected_attr: unpriv_grp}] # Females"
   ]
  },
  {
   "cell_type": "code",
   "execution_count": 4,
   "metadata": {},
   "outputs": [],
   "source": [
    "# Create a Binary Label Dataset to use with AIF360 APIs\n",
    "X = Taiwan_df.drop(lab,axis=1)\n",
    "y = Taiwan_df[lab]"
   ]
  },
  {
   "cell_type": "code",
   "execution_count": 5,
   "metadata": {},
   "outputs": [],
   "source": [
    "Taiwan_bld = BinaryLabelDataset(df=pd.concat((X, y), axis=1),\n",
    "                                label_names=[lab], protected_attribute_names=[protected_attr],\n",
    "                                favorable_label=fav_label, unfavorable_label=unfav_label)"
   ]
  },
  {
   "cell_type": "code",
   "execution_count": 6,
   "metadata": {},
   "outputs": [],
   "source": [
    "# Create train and test datasets\n",
    "Taiwan_train_df, Taiwan_test_df = Taiwan_bld.split([0.8], shuffle=True, seed=101)"
   ]
  },
  {
   "cell_type": "code",
   "execution_count": 7,
   "metadata": {},
   "outputs": [],
   "source": [
    "# Scale the train and test datasets\n",
    "scaler = MinMaxScaler(copy=False)\n",
    "Taiwan_train_df.features = scaler.fit_transform(Taiwan_train_df.features)\n",
    "Taiwan_test_df.features  = scaler.fit_transform(Taiwan_test_df.features)"
   ]
  },
  {
   "cell_type": "code",
   "execution_count": 8,
   "metadata": {},
   "outputs": [
    {
     "name": "stdout",
     "output_type": "stream",
     "text": [
      "Logistic regression validation accuracy: 0.8083333333333333\n",
      "Random Forest       validation accuracy: 0.7946666666666666\n"
     ]
    }
   ],
   "source": [
    "# Determine the baseline model accuracy for Logistic Regression and Random Forest Classifiers\n",
    "Taiwan_train, d = Taiwan_train_df.convert_to_dataframe(de_dummy_code=False, sep='=', set_category=False)\n",
    "Taiwan_test, d = Taiwan_test_df.convert_to_dataframe(de_dummy_code=False, sep='=', set_category=False)\n",
    "X_train = Taiwan_train.drop(lab,axis=1)\n",
    "y_train = Taiwan_train[lab]\n",
    "X_test = Taiwan_test.drop(lab,axis=1)\n",
    "y_test = Taiwan_test[lab]\n",
    "biasedLogModel = LogisticRegression(random_state=101)\n",
    "biasedRfcModel = RandomForestClassifier(n_estimators=100,max_depth=4,random_state=101)\n",
    "biasedLogModel.fit(X_train, y_train) \n",
    "biasedRfcModel.fit(X_train, y_train) \n",
    "print(f\"Logistic regression validation accuracy: {biasedLogModel.score(X_test, y_test)}\")\n",
    "print(f\"Random Forest       validation accuracy: {biasedRfcModel.score(X_test, y_test)}\")"
   ]
  },
  {
   "cell_type": "code",
   "execution_count": 9,
   "metadata": {},
   "outputs": [
    {
     "data": {
      "text/markdown": [
       "#### Biased training dataset"
      ],
      "text/plain": [
       "<IPython.core.display.Markdown object>"
      ]
     },
     "metadata": {},
     "output_type": "display_data"
    },
    {
     "name": "stdout",
     "output_type": "stream",
     "text": [
      "Difference in mean outcomes between unprivileged and privileged groups = 0.033271\n",
      "Number of instances           : 24000.0\n",
      "Base Rate                     :0.780625\n",
      "Consistency                   : [0.78445833]\n",
      "Disparate Impact              : 1.0437451995559814\n",
      "Mean Difference               : 0.03327060860999975\n",
      "Statistical Parity Difference : 0.03327060860999975\n",
      "# of positives(privileged)    : 7242.0\n",
      "# of positives(non-privileged): 11493.0\n",
      "Total positive instances\"     : 18735.0\n",
      "# of negatives(privileged)    : 2280.0\n",
      "# of negatives(non-privileged): 2985.0\n",
      "Total negative instances\"     : 5265.0\n"
     ]
    },
    {
     "data": {
      "text/markdown": [
       "#### Biased training dataset"
      ],
      "text/plain": [
       "<IPython.core.display.Markdown object>"
      ]
     },
     "metadata": {},
     "output_type": "display_data"
    },
    {
     "name": "stdout",
     "output_type": "stream",
     "text": [
      "Difference in mean outcomes between unprivileged and privileged groups = 0.033271\n"
     ]
    }
   ],
   "source": [
    "# Create the binary label dataset metric class for the train dataset\n",
    "metric_train_bld = BinaryLabelDatasetMetric(Taiwan_train_df, \n",
    "                                            unprivileged_groups=unprivileged_groups,\n",
    "                                            privileged_groups=privileged_groups)\n",
    "display(Markdown(\"#### Biased training dataset\"))\n",
    "print(\"Difference in mean outcomes between unprivileged and privileged groups = %f\" % metric_train_bld.mean_difference())\n",
    "print('Number of instances           :', metric_train_bld.num_instances())\n",
    "print(\"Base Rate                     :%f\" % metric_train_bld.base_rate())\n",
    "print('Consistency                   :', metric_train_bld.consistency())\n",
    "print('Disparate Impact              :', metric_train_bld.disparate_impact())\n",
    "print('Mean Difference               :', metric_train_bld.mean_difference())\n",
    "print('Statistical Parity Difference :', metric_train_bld.statistical_parity_difference()) \n",
    "print('# of positives(privileged)    :', metric_train_bld.num_positives(privileged=True))\n",
    "print('# of positives(non-privileged):', metric_train_bld.num_positives(privileged=False))\n",
    "print('Total positive instances\"     :', metric_train_bld.num_positives(privileged=True)+metric_train_bld.num_positives(privileged=False))\n",
    "print('# of negatives(privileged)    :', metric_train_bld.num_negatives(privileged=True))\n",
    "print('# of negatives(non-privileged):', metric_train_bld.num_negatives(privileged=False))\n",
    "print('Total negative instances\"     :', metric_train_bld.num_negatives(privileged=True)+metric_train_bld.num_negatives(privileged=False))\n",
    "display(Markdown(\"#### Biased training dataset\"))\n",
    "print(\"Difference in mean outcomes between unprivileged and privileged groups = %f\" % metric_train_bld.mean_difference())"
   ]
  },
  {
   "cell_type": "code",
   "execution_count": 10,
   "metadata": {},
   "outputs": [
    {
     "name": "stdout",
     "output_type": "stream",
     "text": [
      "Interval : Optimization objective value for the interval\n",
      "250 14578.08549718056\n",
      "500 13605.03020050427\n",
      "750 13083.612646790078\n",
      "1000 13036.594166704075\n",
      "1250 12954.67519081236\n",
      "1500 12732.308566374204\n",
      "1750 18089.89559272153\n",
      "2000 12580.510148898644\n",
      "2250 13388.197792134097\n",
      "2500 12366.493271331\n",
      "2750 12348.177285776956\n",
      "3000 12308.01642107602\n",
      "3250 12023.019250304562\n",
      "3500 12905.484141530787\n",
      "3750 12356.352453873673\n",
      "4000 11975.145094362962\n",
      "4250 11851.562431848142\n",
      "4500 13695.972154762827\n",
      "4750 11726.462035654917\n",
      "5000 11681.679846702305\n"
     ]
    }
   ],
   "source": [
    "# Fit the Learning Fair Representations on the biased training data\n",
    "print('Interval : Optimization objective value for the interval')\n",
    "TR = LFR(unprivileged_groups = unprivileged_groups, privileged_groups = privileged_groups,verbose=1, seed=101)\n",
    "TR = TR.fit(Taiwan_train_df)"
   ]
  },
  {
   "cell_type": "code",
   "execution_count": 11,
   "metadata": {},
   "outputs": [],
   "source": [
    "# Transform training data and align features\n",
    "Taiwan_train_lfr = TR.transform(Taiwan_train_df)"
   ]
  },
  {
   "cell_type": "code",
   "execution_count": 12,
   "metadata": {},
   "outputs": [
    {
     "name": "stdout",
     "output_type": "stream",
     "text": [
      "Logistic regression validation accuracy: 0.7935\n",
      "Random Forest       validation accuracy: 0.7908333333333334\n"
     ]
    }
   ],
   "source": [
    "# Determine the transformed model accuracy for Logistic Regression and Random Forest Classifiers\n",
    "# Convert the scaled Binary Labelled Dataset to a pandas dataframe for consistency \n",
    "Taiwan_train, d = Taiwan_train_lfr.convert_to_dataframe(de_dummy_code=False, sep='=', set_category=False)\n",
    "X_train = Taiwan_train.drop(\"DEFAULT\",axis=1)\n",
    "y_train = Taiwan_train[\"DEFAULT\"]\n",
    "debiasedLogModel = LogisticRegression(random_state=101)\n",
    "debiasedRfcModel = RandomForestClassifier(n_estimators=100,max_depth=4,random_state=101)\n",
    "debiasedLogModel.fit(X_train, y_train) \n",
    "debiasedRfcModel.fit(X_train, y_train) \n",
    "print(f\"Logistic regression validation accuracy: {debiasedLogModel.score(X_test, y_test)}\")\n",
    "print(f\"Random Forest       validation accuracy: {debiasedRfcModel.score(X_test, y_test)}\")"
   ]
  },
  {
   "cell_type": "code",
   "execution_count": 13,
   "metadata": {},
   "outputs": [
    {
     "data": {
      "text/markdown": [
       "#### Transformed training dataset"
      ],
      "text/plain": [
       "<IPython.core.display.Markdown object>"
      ]
     },
     "metadata": {},
     "output_type": "display_data"
    },
    {
     "name": "stdout",
     "output_type": "stream",
     "text": [
      "Classification threshold = 0.100000\n",
      "Difference in mean outcomes between unprivileged and privileged groups = 0.000177\n",
      "Classification threshold = 0.300000\n",
      "Difference in mean outcomes between unprivileged and privileged groups = 0.002599\n",
      "Classification threshold = 0.350000\n",
      "Difference in mean outcomes between unprivileged and privileged groups = 0.004116\n",
      "Classification threshold = 0.400000\n",
      "Difference in mean outcomes between unprivileged and privileged groups = 0.007013\n",
      "Classification threshold = 0.500000\n",
      "Difference in mean outcomes between unprivileged and privileged groups = 0.016431\n",
      "Classification threshold = 0.600000\n",
      "Difference in mean outcomes between unprivileged and privileged groups = 0.034877\n",
      "Classification threshold = 0.700000\n",
      "Difference in mean outcomes between unprivileged and privileged groups = 0.072923\n"
     ]
    }
   ],
   "source": [
    "display(Markdown(\"#### Transformed training dataset\"))\n",
    "from sklearn.metrics import classification_report\n",
    "thresholds = [0.1, 0.3, 0.35, 0.4, 0.5, 0.6, 0.7]\n",
    "for threshold in thresholds:  \n",
    "    # Transform training data and align features\n",
    "    Taiwan_train_lfr = TR.transform(Taiwan_train_df,threshold=threshold)\n",
    "    metric_train_lfr = BinaryLabelDatasetMetric(Taiwan_train_lfr, \n",
    "                                                 unprivileged_groups=unprivileged_groups,\n",
    "                                                 privileged_groups=privileged_groups)\n",
    "    print(\"Classification threshold = %f\" % threshold)\n",
    "    #print(classification_report(dataset_orig_train.labels, dataset_transf_train.labels))\n",
    "    print(\"Difference in mean outcomes between unprivileged and privileged groups = %f\" % metric_train_lfr.mean_difference())"
   ]
  },
  {
   "cell_type": "code",
   "execution_count": 14,
   "metadata": {
    "scrolled": true
   },
   "outputs": [
    {
     "name": "stdout",
     "output_type": "stream",
     "text": [
      "THIS IS WHAT THE AIF CODE PRODUCES FROM THE LAST CLASSIFICATION THRESHOLD RUN ABOVE\n",
      "Difference in mean outcomes between unprivileged and privileged groups = 0.072923\n",
      "Number of instances           : 24000.0\n",
      "Base Rate                     :0.863042\n",
      "Consistency                   : [0.99704167]\n",
      "Disparate Impact              : 1.0890340696871728\n",
      "Mean Difference               : 0.07292340994436686\n",
      "Statistical Parity Difference : 0.07292340994436686\n",
      "# of positives(privileged)    : 7799.0\n",
      "# of positives(non-privileged): 12914.0\n",
      "Total positive instances\"     : 20713.0\n",
      "# of negatives(privileged)    : 1723.0\n",
      "# of negatives(non-privileged): 1564.0\n",
      "Total negative instances\"     : 3287.0\n"
     ]
    },
    {
     "data": {
      "text/markdown": [
       "#### Original training dataset"
      ],
      "text/plain": [
       "<IPython.core.display.Markdown object>"
      ]
     },
     "metadata": {},
     "output_type": "display_data"
    },
    {
     "name": "stdout",
     "output_type": "stream",
     "text": [
      "Difference in mean outcomes between unprivileged and privileged groups = 0.033271\n"
     ]
    }
   ],
   "source": [
    "print('THIS IS WHAT THE AIF CODE PRODUCES FROM THE LAST CLASSIFICATION THRESHOLD RUN ABOVE')\n",
    "print(\"Difference in mean outcomes between unprivileged and privileged groups = %f\" % metric_train_lfr.mean_difference())\n",
    "print('Number of instances           :', metric_train_lfr.num_instances())\n",
    "print(\"Base Rate                     :%f\" % metric_train_lfr.base_rate())\n",
    "print('Consistency                   :', metric_train_lfr.consistency())\n",
    "print('Disparate Impact              :', metric_train_lfr.disparate_impact())\n",
    "print('Mean Difference               :', metric_train_lfr.mean_difference())\n",
    "print('Statistical Parity Difference :', metric_train_lfr.statistical_parity_difference()) \n",
    "print('# of positives(privileged)    :', metric_train_lfr.num_positives(privileged=True))\n",
    "print('# of positives(non-privileged):', metric_train_lfr.num_positives(privileged=False))\n",
    "print('Total positive instances\"     :', metric_train_lfr.num_positives(privileged=True)+metric_train_lfr.num_positives(privileged=False))\n",
    "print('# of negatives(privileged)    :', metric_train_lfr.num_negatives(privileged=True))\n",
    "print('# of negatives(non-privileged):', metric_train_lfr.num_negatives(privileged=False))\n",
    "print('Total negative instances\"     :', metric_train_lfr.num_negatives(privileged=True)+metric_train_lfr.num_negatives(privileged=False))\n",
    "display(Markdown(\"#### Original training dataset\"))\n",
    "print(\"Difference in mean outcomes between unprivileged and privileged groups = %f\" % metric_train_bld.mean_difference())"
   ]
  },
  {
   "cell_type": "code",
   "execution_count": 15,
   "metadata": {},
   "outputs": [
    {
     "data": {
      "text/markdown": [
       "#### Individual fairness metrics"
      ],
      "text/plain": [
       "<IPython.core.display.Markdown object>"
      ]
     },
     "metadata": {},
     "output_type": "display_data"
    },
    {
     "name": "stdout",
     "output_type": "stream",
     "text": [
      "Consistency of labels in transformed training dataset= 0.997042\n",
      "Consistency of labels in original training dataset= 0.784458\n"
     ]
    }
   ],
   "source": [
    "display(Markdown(\"#### Individual fairness metrics\"))\n",
    "print(\"Consistency of labels in transformed training dataset= %f\" %metric_train_lfr.consistency())\n",
    "print(\"Consistency of labels in original training dataset= %f\" %metric_train_bld.consistency())"
   ]
  },
  {
   "cell_type": "code",
   "execution_count": 16,
   "metadata": {},
   "outputs": [
    {
     "data": {
      "text/plain": [
       "False"
      ]
     },
     "execution_count": 16,
     "metadata": {},
     "output_type": "execute_result"
    }
   ],
   "source": [
    "# Compare the original and transformed datasets\n",
    "#Convert the returned Binary Labelled Dataset to a pandas dataframe \n",
    "Taiwan_orig_df, d = Taiwan_train_df.convert_to_dataframe(de_dummy_code=False, sep='=', set_category=False)\n",
    "Taiwan_lfr_df, d = Taiwan_train_lfr.convert_to_dataframe(de_dummy_code=False, sep='=', set_category=False)\n",
    "# Check whether the transform on the original dataset has worked. \n",
    "# A false means that the dataset is transformed.\n",
    "\n",
    "Taiwan_lfr_df.equals(Taiwan_df)"
   ]
  },
  {
   "cell_type": "code",
   "execution_count": 17,
   "metadata": {},
   "outputs": [
    {
     "data": {
      "text/html": [
       "<div>\n",
       "<style scoped>\n",
       "    .dataframe tbody tr th:only-of-type {\n",
       "        vertical-align: middle;\n",
       "    }\n",
       "\n",
       "    .dataframe tbody tr th {\n",
       "        vertical-align: top;\n",
       "    }\n",
       "\n",
       "    .dataframe thead th {\n",
       "        text-align: right;\n",
       "    }\n",
       "</style>\n",
       "<table border=\"1\" class=\"dataframe\">\n",
       "  <thead>\n",
       "    <tr style=\"text-align: right;\">\n",
       "      <th></th>\n",
       "      <th>LIMIT_BAL</th>\n",
       "      <th>GENDER</th>\n",
       "      <th>EDUCATION</th>\n",
       "      <th>MARRIAGE</th>\n",
       "      <th>AGE</th>\n",
       "      <th>PAY_1</th>\n",
       "      <th>PAY_2</th>\n",
       "      <th>PAY_3</th>\n",
       "      <th>PAY_4</th>\n",
       "      <th>PAY_5</th>\n",
       "      <th>...</th>\n",
       "      <th>BILL_AMT4</th>\n",
       "      <th>BILL_AMT5</th>\n",
       "      <th>BILL_AMT6</th>\n",
       "      <th>PAY_AMT1</th>\n",
       "      <th>PAY_AMT2</th>\n",
       "      <th>PAY_AMT3</th>\n",
       "      <th>PAY_AMT4</th>\n",
       "      <th>PAY_AMT5</th>\n",
       "      <th>PAY_AMT6</th>\n",
       "      <th>DEFAULT</th>\n",
       "    </tr>\n",
       "  </thead>\n",
       "  <tbody>\n",
       "    <tr>\n",
       "      <th>6015</th>\n",
       "      <td>0.308190</td>\n",
       "      <td>0.0</td>\n",
       "      <td>0.373589</td>\n",
       "      <td>0.504044</td>\n",
       "      <td>0.256706</td>\n",
       "      <td>-0.344691</td>\n",
       "      <td>-0.094310</td>\n",
       "      <td>0.025233</td>\n",
       "      <td>-0.008984</td>\n",
       "      <td>0.033267</td>\n",
       "      <td>...</td>\n",
       "      <td>0.216855</td>\n",
       "      <td>0.125657</td>\n",
       "      <td>0.503885</td>\n",
       "      <td>-0.083071</td>\n",
       "      <td>-0.220214</td>\n",
       "      <td>-0.171899</td>\n",
       "      <td>-0.204767</td>\n",
       "      <td>-0.109420</td>\n",
       "      <td>-0.100871</td>\n",
       "      <td>1.0</td>\n",
       "    </tr>\n",
       "    <tr>\n",
       "      <th>28660</th>\n",
       "      <td>0.301151</td>\n",
       "      <td>0.0</td>\n",
       "      <td>0.406784</td>\n",
       "      <td>0.523528</td>\n",
       "      <td>0.294951</td>\n",
       "      <td>-0.091104</td>\n",
       "      <td>0.066368</td>\n",
       "      <td>0.229157</td>\n",
       "      <td>0.132202</td>\n",
       "      <td>0.106698</td>\n",
       "      <td>...</td>\n",
       "      <td>0.282134</td>\n",
       "      <td>0.192730</td>\n",
       "      <td>0.511756</td>\n",
       "      <td>0.052980</td>\n",
       "      <td>-0.009526</td>\n",
       "      <td>-0.102760</td>\n",
       "      <td>-0.044746</td>\n",
       "      <td>0.003198</td>\n",
       "      <td>0.015386</td>\n",
       "      <td>1.0</td>\n",
       "    </tr>\n",
       "    <tr>\n",
       "      <th>12498</th>\n",
       "      <td>0.284733</td>\n",
       "      <td>1.0</td>\n",
       "      <td>0.397808</td>\n",
       "      <td>0.511513</td>\n",
       "      <td>0.290347</td>\n",
       "      <td>-0.109891</td>\n",
       "      <td>0.056963</td>\n",
       "      <td>0.202343</td>\n",
       "      <td>0.128835</td>\n",
       "      <td>0.114426</td>\n",
       "      <td>...</td>\n",
       "      <td>0.246418</td>\n",
       "      <td>0.169629</td>\n",
       "      <td>0.514724</td>\n",
       "      <td>0.003549</td>\n",
       "      <td>-0.039784</td>\n",
       "      <td>-0.117320</td>\n",
       "      <td>-0.078252</td>\n",
       "      <td>-0.036648</td>\n",
       "      <td>0.003845</td>\n",
       "      <td>1.0</td>\n",
       "    </tr>\n",
       "  </tbody>\n",
       "</table>\n",
       "<p>3 rows × 24 columns</p>\n",
       "</div>"
      ],
      "text/plain": [
       "       LIMIT_BAL  GENDER  EDUCATION  MARRIAGE       AGE     PAY_1     PAY_2  \\\n",
       "6015    0.308190     0.0   0.373589  0.504044  0.256706 -0.344691 -0.094310   \n",
       "28660   0.301151     0.0   0.406784  0.523528  0.294951 -0.091104  0.066368   \n",
       "12498   0.284733     1.0   0.397808  0.511513  0.290347 -0.109891  0.056963   \n",
       "\n",
       "          PAY_3     PAY_4     PAY_5   ...     BILL_AMT4  BILL_AMT5  BILL_AMT6  \\\n",
       "6015   0.025233 -0.008984  0.033267   ...      0.216855   0.125657   0.503885   \n",
       "28660  0.229157  0.132202  0.106698   ...      0.282134   0.192730   0.511756   \n",
       "12498  0.202343  0.128835  0.114426   ...      0.246418   0.169629   0.514724   \n",
       "\n",
       "       PAY_AMT1  PAY_AMT2  PAY_AMT3  PAY_AMT4  PAY_AMT5  PAY_AMT6  DEFAULT  \n",
       "6015  -0.083071 -0.220214 -0.171899 -0.204767 -0.109420 -0.100871      1.0  \n",
       "28660  0.052980 -0.009526 -0.102760 -0.044746  0.003198  0.015386      1.0  \n",
       "12498  0.003549 -0.039784 -0.117320 -0.078252 -0.036648  0.003845      1.0  \n",
       "\n",
       "[3 rows x 24 columns]"
      ]
     },
     "execution_count": 17,
     "metadata": {},
     "output_type": "execute_result"
    }
   ],
   "source": [
    "Taiwan_lfr_df.head(3)"
   ]
  },
  {
   "cell_type": "code",
   "execution_count": 18,
   "metadata": {},
   "outputs": [
    {
     "data": {
      "text/html": [
       "<div>\n",
       "<style scoped>\n",
       "    .dataframe tbody tr th:only-of-type {\n",
       "        vertical-align: middle;\n",
       "    }\n",
       "\n",
       "    .dataframe tbody tr th {\n",
       "        vertical-align: top;\n",
       "    }\n",
       "\n",
       "    .dataframe thead th {\n",
       "        text-align: right;\n",
       "    }\n",
       "</style>\n",
       "<table border=\"1\" class=\"dataframe\">\n",
       "  <thead>\n",
       "    <tr style=\"text-align: right;\">\n",
       "      <th></th>\n",
       "      <th>LIMIT_BAL</th>\n",
       "      <th>GENDER</th>\n",
       "      <th>EDUCATION</th>\n",
       "      <th>MARRIAGE</th>\n",
       "      <th>AGE</th>\n",
       "      <th>PAY_1</th>\n",
       "      <th>PAY_2</th>\n",
       "      <th>PAY_3</th>\n",
       "      <th>PAY_4</th>\n",
       "      <th>PAY_5</th>\n",
       "      <th>...</th>\n",
       "      <th>BILL_AMT4</th>\n",
       "      <th>BILL_AMT5</th>\n",
       "      <th>BILL_AMT6</th>\n",
       "      <th>PAY_AMT1</th>\n",
       "      <th>PAY_AMT2</th>\n",
       "      <th>PAY_AMT3</th>\n",
       "      <th>PAY_AMT4</th>\n",
       "      <th>PAY_AMT5</th>\n",
       "      <th>PAY_AMT6</th>\n",
       "      <th>DEFAULT</th>\n",
       "    </tr>\n",
       "  </thead>\n",
       "  <tbody>\n",
       "    <tr>\n",
       "      <th>6015</th>\n",
       "      <td>0.063291</td>\n",
       "      <td>0.0</td>\n",
       "      <td>0.333333</td>\n",
       "      <td>0.333333</td>\n",
       "      <td>0.482759</td>\n",
       "      <td>0.3</td>\n",
       "      <td>0.0</td>\n",
       "      <td>0.000000</td>\n",
       "      <td>0.0</td>\n",
       "      <td>0.000000</td>\n",
       "      <td>...</td>\n",
       "      <td>0.193873</td>\n",
       "      <td>0.089884</td>\n",
       "      <td>0.373913</td>\n",
       "      <td>0.000000</td>\n",
       "      <td>0.000000</td>\n",
       "      <td>0.000000</td>\n",
       "      <td>0.000000</td>\n",
       "      <td>0.000000</td>\n",
       "      <td>0.000000</td>\n",
       "      <td>0.0</td>\n",
       "    </tr>\n",
       "    <tr>\n",
       "      <th>28660</th>\n",
       "      <td>0.063291</td>\n",
       "      <td>0.0</td>\n",
       "      <td>0.666667</td>\n",
       "      <td>0.666667</td>\n",
       "      <td>0.396552</td>\n",
       "      <td>0.2</td>\n",
       "      <td>0.2</td>\n",
       "      <td>0.222222</td>\n",
       "      <td>0.2</td>\n",
       "      <td>0.222222</td>\n",
       "      <td>...</td>\n",
       "      <td>0.229724</td>\n",
       "      <td>0.125373</td>\n",
       "      <td>0.410898</td>\n",
       "      <td>0.002633</td>\n",
       "      <td>0.002119</td>\n",
       "      <td>0.001800</td>\n",
       "      <td>0.001932</td>\n",
       "      <td>0.004689</td>\n",
       "      <td>0.002459</td>\n",
       "      <td>1.0</td>\n",
       "    </tr>\n",
       "    <tr>\n",
       "      <th>12498</th>\n",
       "      <td>0.050633</td>\n",
       "      <td>1.0</td>\n",
       "      <td>0.666667</td>\n",
       "      <td>0.333333</td>\n",
       "      <td>0.465517</td>\n",
       "      <td>0.2</td>\n",
       "      <td>0.2</td>\n",
       "      <td>0.222222</td>\n",
       "      <td>0.2</td>\n",
       "      <td>0.111111</td>\n",
       "      <td>...</td>\n",
       "      <td>0.197500</td>\n",
       "      <td>0.092570</td>\n",
       "      <td>0.374772</td>\n",
       "      <td>0.002061</td>\n",
       "      <td>0.001227</td>\n",
       "      <td>0.000007</td>\n",
       "      <td>0.003913</td>\n",
       "      <td>0.001829</td>\n",
       "      <td>0.000000</td>\n",
       "      <td>1.0</td>\n",
       "    </tr>\n",
       "  </tbody>\n",
       "</table>\n",
       "<p>3 rows × 24 columns</p>\n",
       "</div>"
      ],
      "text/plain": [
       "       LIMIT_BAL  GENDER  EDUCATION  MARRIAGE       AGE  PAY_1  PAY_2  \\\n",
       "6015    0.063291     0.0   0.333333  0.333333  0.482759    0.3    0.0   \n",
       "28660   0.063291     0.0   0.666667  0.666667  0.396552    0.2    0.2   \n",
       "12498   0.050633     1.0   0.666667  0.333333  0.465517    0.2    0.2   \n",
       "\n",
       "          PAY_3  PAY_4     PAY_5   ...     BILL_AMT4  BILL_AMT5  BILL_AMT6  \\\n",
       "6015   0.000000    0.0  0.000000   ...      0.193873   0.089884   0.373913   \n",
       "28660  0.222222    0.2  0.222222   ...      0.229724   0.125373   0.410898   \n",
       "12498  0.222222    0.2  0.111111   ...      0.197500   0.092570   0.374772   \n",
       "\n",
       "       PAY_AMT1  PAY_AMT2  PAY_AMT3  PAY_AMT4  PAY_AMT5  PAY_AMT6  DEFAULT  \n",
       "6015   0.000000  0.000000  0.000000  0.000000  0.000000  0.000000      0.0  \n",
       "28660  0.002633  0.002119  0.001800  0.001932  0.004689  0.002459      1.0  \n",
       "12498  0.002061  0.001227  0.000007  0.003913  0.001829  0.000000      1.0  \n",
       "\n",
       "[3 rows x 24 columns]"
      ]
     },
     "execution_count": 18,
     "metadata": {},
     "output_type": "execute_result"
    }
   ],
   "source": [
    "Taiwan_orig_df.head(3)"
   ]
  },
  {
   "cell_type": "code",
   "execution_count": 19,
   "metadata": {},
   "outputs": [
    {
     "name": "stdout",
     "output_type": "stream",
     "text": [
      "                 Taiwan_df  Taiwan_lfr\n",
      "0     LIMIT_BAL   0.063291    0.308190\n",
      "      EDUCATION   0.333333    0.373589\n",
      "      MARRIAGE    0.333333    0.504044\n",
      "      AGE         0.482759    0.256706\n",
      "      PAY_1       0.300000   -0.344691\n",
      "      PAY_2       0.000000   -0.094310\n",
      "      PAY_3       0.000000    0.025233\n",
      "      PAY_4       0.000000   -0.008984\n",
      "      PAY_5       0.000000    0.033267\n",
      "      PAY_6       0.000000   -0.125388\n",
      "      BILL_AMT1   0.181479    0.120185\n",
      "      BILL_AMT2   0.085748    0.122078\n",
      "      BILL_AMT3   0.184931    0.200536\n",
      "      BILL_AMT4   0.193873    0.216855\n",
      "      BILL_AMT5   0.089884    0.125657\n",
      "      BILL_AMT6   0.373913    0.503885\n",
      "      PAY_AMT1    0.000000   -0.083071\n",
      "      PAY_AMT2    0.000000   -0.220214\n",
      "      PAY_AMT3    0.000000   -0.171899\n",
      "      PAY_AMT4    0.000000   -0.204767\n",
      "      PAY_AMT5    0.000000   -0.109420\n",
      "      PAY_AMT6    0.000000   -0.100871\n",
      "      DEFAULT     0.000000    1.000000\n",
      "1     LIMIT_BAL   0.063291    0.301151\n",
      "      EDUCATION   0.666667    0.406784\n",
      "      MARRIAGE    0.666667    0.523528\n",
      "      AGE         0.396552    0.294951\n",
      "      PAY_1       0.200000   -0.091104\n",
      "      PAY_2       0.200000    0.066368\n",
      "      PAY_3       0.222222    0.229157\n",
      "...                    ...         ...\n",
      "23998 BILL_AMT6   0.426037    0.535763\n",
      "      PAY_AMT1    0.002283    0.022274\n",
      "      PAY_AMT2    0.001393   -0.014617\n",
      "      PAY_AMT3    0.001763   -0.095469\n",
      "      PAY_AMT4    0.006441   -0.081239\n",
      "      PAY_AMT5    0.003751   -0.010817\n",
      "      PAY_AMT6    0.003783    0.009785\n",
      "      DEFAULT     0.000000    1.000000\n",
      "23999 LIMIT_BAL   0.075949    0.295934\n",
      "      EDUCATION   0.333333    0.400300\n",
      "      MARRIAGE    0.666667    0.519234\n",
      "      AGE         0.103448    0.293690\n",
      "      PAY_1       0.200000   -0.102639\n",
      "      PAY_2       0.200000    0.063617\n",
      "      PAY_3       0.222222    0.211204\n",
      "      PAY_4       0.200000    0.131485\n",
      "      PAY_5       0.444444    0.108294\n",
      "      PAY_6       0.200000   -0.003066\n",
      "      BILL_AMT1   0.234020    0.173489\n",
      "      BILL_AMT2   0.146747    0.146321\n",
      "      BILL_AMT3   0.244909    0.311905\n",
      "      BILL_AMT4   0.255617    0.266553\n",
      "      BILL_AMT5   0.148098    0.178434\n",
      "      BILL_AMT6   0.433226    0.515353\n",
      "      PAY_AMT1    0.002862    0.028229\n",
      "      PAY_AMT2    0.002008   -0.024408\n",
      "      PAY_AMT3    0.005174   -0.108660\n",
      "      PAY_AMT4    0.000000   -0.063694\n",
      "      PAY_AMT5    0.005158   -0.015701\n",
      "      PAY_AMT6    0.004124    0.009025\n",
      "\n",
      "[532646 rows x 2 columns]\n"
     ]
    }
   ],
   "source": [
    "Taiwan_orig_df = Taiwan_orig_df.reset_index(drop=True)\n",
    "Taiwan_lfr_df  = Taiwan_lfr_df.reset_index(drop=True)\n",
    "TaiwanBool     = (Taiwan_orig_df != Taiwan_lfr_df).stack()  # Create Frame of comparison booleans\n",
    "Taiwandiff     = pd.concat([Taiwan_orig_df.stack()[TaiwanBool], Taiwan_lfr_df.stack()[TaiwanBool]], axis=1)\n",
    "Taiwandiff.columns=[\"Taiwan_df\", \"Taiwan_lfr\"]\n",
    "print(Taiwandiff)"
   ]
  },
  {
   "cell_type": "code",
   "execution_count": 20,
   "metadata": {},
   "outputs": [],
   "source": [
    "## PCA Analysis of consitency"
   ]
  },
  {
   "cell_type": "code",
   "execution_count": 21,
   "metadata": {},
   "outputs": [
    {
     "name": "stdout",
     "output_type": "stream",
     "text": [
      "this is the threshold being used : 0.7\n"
     ]
    }
   ],
   "source": [
    "# At this stage the transformed dataframe will have the last threshold encountered!\n",
    "print('this is the threshold being used :',threshold)\n",
    "feat_cols = Taiwan_train_df.feature_names\n",
    "\n",
    "orig_df = pd.DataFrame(Taiwan_train_df.features,columns=feat_cols)\n",
    "orig_df['label'] = Taiwan_train_df.labels\n",
    "orig_df['label'] = orig_df['label'].apply(lambda i: str(i))\n",
    "\n",
    "transf_df = pd.DataFrame(Taiwan_train_lfr.features,columns=feat_cols)\n",
    "transf_df['label'] = Taiwan_train_lfr.labels\n",
    "transf_df['label'] = transf_df['label'].apply(lambda i: str(i))"
   ]
  },
  {
   "cell_type": "code",
   "execution_count": 22,
   "metadata": {},
   "outputs": [
    {
     "data": {
      "text/markdown": [
       "#### Original training dataset"
      ],
      "text/plain": [
       "<IPython.core.display.Markdown object>"
      ]
     },
     "metadata": {},
     "output_type": "display_data"
    },
    {
     "name": "stdout",
     "output_type": "stream",
     "text": [
      "Explained variation per principal component:\n",
      "[0.472332   0.14967459 0.11719392]\n"
     ]
    }
   ],
   "source": [
    "from sklearn.decomposition import PCA\n",
    "\n",
    "orig_pca = PCA(n_components=3)\n",
    "orig_pca_result = orig_pca.fit_transform(orig_df[feat_cols].values)\n",
    "\n",
    "orig_df['pca-one'] = orig_pca_result[:,0]\n",
    "orig_df['pca-two'] = orig_pca_result[:,1] \n",
    "orig_df['pca-three'] = orig_pca_result[:,2]\n",
    "\n",
    "display(Markdown(\"#### Original training dataset\"))\n",
    "print('Explained variation per principal component:')\n",
    "print(orig_pca.explained_variance_ratio_)"
   ]
  },
  {
   "cell_type": "code",
   "execution_count": 23,
   "metadata": {},
   "outputs": [
    {
     "data": {
      "text/markdown": [
       "#### Transformed training dataset"
      ],
      "text/plain": [
       "<IPython.core.display.Markdown object>"
      ]
     },
     "metadata": {},
     "output_type": "display_data"
    },
    {
     "name": "stdout",
     "output_type": "stream",
     "text": [
      "Explained variation per principal component:\n",
      "[0.93394652 0.05821425 0.00783895]\n"
     ]
    }
   ],
   "source": [
    "transf_pca = PCA(n_components=3)\n",
    "transf_pca_result = transf_pca.fit_transform(transf_df[feat_cols].values)\n",
    "\n",
    "transf_df['pca-one'] = transf_pca_result[:,0]\n",
    "transf_df['pca-two'] = transf_pca_result[:,1] \n",
    "transf_df['pca-three'] = transf_pca_result[:,2]\n",
    "\n",
    "display(Markdown(\"#### Transformed training dataset\"))\n",
    "print('Explained variation per principal component:')\n",
    "print(transf_pca.explained_variance_ratio_)"
   ]
  },
  {
   "cell_type": "code",
   "execution_count": 24,
   "metadata": {},
   "outputs": [
    {
     "name": "stdout",
     "output_type": "stream",
     "text": [
      "Logistic regression validation accuracy: 0.43066666666666664\n",
      "Random Forest       validation accuracy: 0.45966666666666667\n"
     ]
    }
   ],
   "source": [
    "# Test whether we can predict the Sensitive (Protected) variable from the transformed training dataset\n",
    "X_train = Taiwan_lfr_df.drop(protected_attr,axis=1)\n",
    "y_train = Taiwan_lfr_df[protected_attr]\n",
    "debiasedLogModel = LogisticRegression(random_state=101)\n",
    "debiasedRfcModel = RandomForestClassifier(n_estimators=100,max_depth=4,random_state=101)\n",
    "debiasedLogModel.fit(X_train, y_train) \n",
    "debiasedRfcModel.fit(X_train, y_train) \n",
    "# Now test whether we can predict Gender from the test dataset\n",
    "Taiwan_test, d = Taiwan_test_df.convert_to_dataframe(de_dummy_code=False, sep='=', set_category=False)\n",
    "X_test = Taiwan_test.drop(protected_attr,axis=1)\n",
    "y_test = Taiwan_test[protected_attr]\n",
    "print(f\"Logistic regression validation accuracy: {debiasedLogModel.score(X_test, y_test)}\")\n",
    "print(f\"Random Forest       validation accuracy: {debiasedRfcModel.score(X_test, y_test)}\")"
   ]
  },
  {
   "cell_type": "code",
   "execution_count": 25,
   "metadata": {},
   "outputs": [],
   "source": [
    "###Load, clean up original test data and compute metric"
   ]
  },
  {
   "cell_type": "code",
   "execution_count": 26,
   "metadata": {},
   "outputs": [
    {
     "data": {
      "text/markdown": [
       "#### Testing Dataset shape"
      ],
      "text/plain": [
       "<IPython.core.display.Markdown object>"
      ]
     },
     "metadata": {},
     "output_type": "display_data"
    },
    {
     "name": "stdout",
     "output_type": "stream",
     "text": [
      "(6000, 23)\n"
     ]
    },
    {
     "data": {
      "text/markdown": [
       "#### Original test dataset"
      ],
      "text/plain": [
       "<IPython.core.display.Markdown object>"
      ]
     },
     "metadata": {},
     "output_type": "display_data"
    },
    {
     "name": "stdout",
     "output_type": "stream",
     "text": [
      "Difference in mean outcomes between unprivileged and privileged groups = 0.036545\n"
     ]
    }
   ],
   "source": [
    "display(Markdown(\"#### Testing Dataset shape\"))\n",
    "print(Taiwan_test_df.features.shape)\n",
    "\n",
    "metric_test_bld = BinaryLabelDatasetMetric(Taiwan_test_df, \n",
    "                                           unprivileged_groups=unprivileged_groups,\n",
    "                                           privileged_groups=privileged_groups)\n",
    "display(Markdown(\"#### Original test dataset\"))\n",
    "print(\"Difference in mean outcomes between unprivileged and privileged groups = %f\" % metric_test_bld.mean_difference())"
   ]
  },
  {
   "cell_type": "code",
   "execution_count": 27,
   "metadata": {},
   "outputs": [],
   "source": [
    "###Transform test data and compute metric"
   ]
  },
  {
   "cell_type": "code",
   "execution_count": 28,
   "metadata": {},
   "outputs": [],
   "source": [
    "Taiwan_test_lfr = TR.transform(Taiwan_test_df, threshold=threshold)\n",
    "metric_test_lfr = BinaryLabelDatasetMetric(Taiwan_test_lfr, \n",
    "                                         unprivileged_groups=unprivileged_groups,\n",
    "                                         privileged_groups=privileged_groups)"
   ]
  },
  {
   "cell_type": "code",
   "execution_count": 29,
   "metadata": {},
   "outputs": [
    {
     "name": "stdout",
     "output_type": "stream",
     "text": [
      "Consistency of labels in tranformed test dataset= 0.996633\n"
     ]
    }
   ],
   "source": [
    "print(\"Consistency of labels in tranformed test dataset= %f\" %metric_test_lfr.consistency())"
   ]
  },
  {
   "cell_type": "code",
   "execution_count": 30,
   "metadata": {},
   "outputs": [
    {
     "name": "stdout",
     "output_type": "stream",
     "text": [
      "Consistency of labels in original test dataset= 0.777433\n"
     ]
    }
   ],
   "source": [
    "print(\"Consistency of labels in original test dataset= %f\" %metric_test_bld.consistency())"
   ]
  },
  {
   "cell_type": "code",
   "execution_count": 31,
   "metadata": {},
   "outputs": [
    {
     "name": "stdout",
     "output_type": "stream",
     "text": [
      "None\n"
     ]
    }
   ],
   "source": [
    "def check_algorithm_success():\n",
    "    \"\"\"Transformed dataset consistency should be greater than original dataset.\"\"\"\n",
    "    assert metric_test_lfr.consistency() > metric_test_bld.consistency(), \"Transformed dataset consistency should be greater than original dataset.\"\n",
    "\n",
    "print(check_algorithm_success())"
   ]
  }
 ],
 "metadata": {
  "kernelspec": {
   "display_name": "Python 3",
   "language": "python",
   "name": "python3"
  },
  "language_info": {
   "codemirror_mode": {
    "name": "ipython",
    "version": 3
   },
   "file_extension": ".py",
   "mimetype": "text/x-python",
   "name": "python",
   "nbconvert_exporter": "python",
   "pygments_lexer": "ipython3",
   "version": "3.7.3"
  }
 },
 "nbformat": 4,
 "nbformat_minor": 2
}
