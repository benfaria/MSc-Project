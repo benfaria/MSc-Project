{
 "cells": [
  {
   "cell_type": "code",
   "execution_count": 1,
   "metadata": {},
   "outputs": [],
   "source": [
    "import pandas as pd\n",
    "import numpy as np\n",
    "import seaborn               as sns\n",
    "import matplotlib.pyplot     as plt\n",
    "from sklearn.model_selection import train_test_split\n",
    "from sklearn.ensemble        import RandomForestClassifier\n",
    "from sklearn.linear_model    import LogisticRegression\n",
    "from sklearn.preprocessing   import MinMaxScaler, StandardScaler\n",
    "from sklearn.base            import TransformerMixin\n",
    "from sklearn.pipeline        import Pipeline, FeatureUnion\n",
    "from typing                  import List, Union, Dict\n",
    "# Warnings will be used to silence various model warnings for tidier output\n",
    "import warnings\n",
    "warnings.filterwarnings('ignore')"
   ]
  },
  {
   "cell_type": "code",
   "execution_count": 2,
   "metadata": {},
   "outputs": [
    {
     "name": "stdout",
     "output_type": "stream",
     "text": [
      "(1000, 21)\n",
      "Index(['CurrentAcc', 'NumMonths', 'CreditHistory', 'Purpose', 'CreditAmount',\n",
      "       'Savings', 'EmployDuration', 'PayBackPercent', 'Gender', 'Debtors',\n",
      "       'ResidenceDuration', 'Collateral', 'Age', 'OtherPayBackPlan',\n",
      "       'Property', 'ExistingCredit', 'Job', 'Dependents', 'Telephone',\n",
      "       'Foreignworker', 'CreditStatus'],\n",
      "      dtype='object')\n"
     ]
    }
   ],
   "source": [
    "German = './input/german.data'\n",
    "feature_names = ['CurrentAcc', 'NumMonths', 'CreditHistory', 'Purpose', 'CreditAmount', \n",
    "         'Savings', 'EmployDuration', 'PayBackPercent', 'Gender', 'Debtors', \n",
    "         'ResidenceDuration', 'Collateral', 'Age', 'OtherPayBackPlan', 'Property', \n",
    "         'ExistingCredit', 'Job', 'Dependents', 'Telephone', 'Foreignworker', 'CreditStatus']\n",
    "German_df = pd.read_csv(German,names = feature_names, delimiter=' ')\n",
    "print(German_df.shape)\n",
    "print (German_df.columns)"
   ]
  },
  {
   "cell_type": "code",
   "execution_count": 3,
   "metadata": {},
   "outputs": [
    {
     "name": "stdout",
     "output_type": "stream",
     "text": [
      "Before - German gender value counts A93    548\n",
      "A92    310\n",
      "A94     92\n",
      "A91     50\n",
      "Name: Gender, dtype: int64\n",
      "After - German gender value counts 1    690\n",
      "0    310\n",
      "Name: Gender, dtype: int64\n"
     ]
    }
   ],
   "source": [
    "print('Before - German gender value counts', German_df.Gender.value_counts())\n",
    "German_df['Gender'].replace('A91' ,1, inplace=True)\n",
    "German_df['Gender'].replace('A92' ,0, inplace=True)\n",
    "German_df['Gender'].replace('A93' ,1, inplace=True)\n",
    "German_df['Gender'].replace('A94' ,1, inplace=True)\n",
    "German_df['Gender'].replace('A95' ,0, inplace=True)\n",
    "print('After - German gender value counts', German_df.Gender.value_counts())"
   ]
  },
  {
   "cell_type": "code",
   "execution_count": 4,
   "metadata": {},
   "outputs": [
    {
     "name": "stdout",
     "output_type": "stream",
     "text": [
      "Before CreditStatus transform:\n",
      "1    700\n",
      "2    300\n",
      "Name: CreditStatus, dtype: int64\n",
      "After CreditStatus transform:\n",
      "1    700\n",
      "0    300\n",
      "Name: CreditStatus, dtype: int64\n"
     ]
    }
   ],
   "source": [
    "# Encode CreditStatus from GoodCreditStatus=1 and BadCreditStatus=2 ==> GoodCreditStatus=1 and BadCreditStatus=0 \n",
    "# to comply with the AIF360 convention for favourable/unfavavourable labels. \n",
    "print('Before CreditStatus transform:')\n",
    "print(German_df.CreditStatus.value_counts())\n",
    "Status = {1: 1,2: 0} \n",
    "German_df.CreditStatus = [Status[item] for item in German_df.CreditStatus]\n",
    "print('After CreditStatus transform:')\n",
    "print(German_df.CreditStatus.value_counts())"
   ]
  },
  {
   "cell_type": "code",
   "execution_count": 5,
   "metadata": {},
   "outputs": [
    {
     "data": {
      "text/html": [
       "<div>\n",
       "<style scoped>\n",
       "    .dataframe tbody tr th:only-of-type {\n",
       "        vertical-align: middle;\n",
       "    }\n",
       "\n",
       "    .dataframe tbody tr th {\n",
       "        vertical-align: top;\n",
       "    }\n",
       "\n",
       "    .dataframe thead th {\n",
       "        text-align: right;\n",
       "    }\n",
       "</style>\n",
       "<table border=\"1\" class=\"dataframe\">\n",
       "  <thead>\n",
       "    <tr style=\"text-align: right;\">\n",
       "      <th>CreditStatus</th>\n",
       "      <th>0</th>\n",
       "      <th>1</th>\n",
       "    </tr>\n",
       "    <tr>\n",
       "      <th>Gender</th>\n",
       "      <th></th>\n",
       "      <th></th>\n",
       "    </tr>\n",
       "  </thead>\n",
       "  <tbody>\n",
       "    <tr>\n",
       "      <th>0</th>\n",
       "      <td>109</td>\n",
       "      <td>201</td>\n",
       "    </tr>\n",
       "    <tr>\n",
       "      <th>1</th>\n",
       "      <td>191</td>\n",
       "      <td>499</td>\n",
       "    </tr>\n",
       "  </tbody>\n",
       "</table>\n",
       "</div>"
      ],
      "text/plain": [
       "CreditStatus    0    1\n",
       "Gender                \n",
       "0             109  201\n",
       "1             191  499"
      ]
     },
     "execution_count": 5,
     "metadata": {},
     "output_type": "execute_result"
    }
   ],
   "source": [
    "gender = German_df.groupby(['Gender', 'CreditStatus']).size().unstack(1)\n",
    "gender"
   ]
  },
  {
   "cell_type": "code",
   "execution_count": 6,
   "metadata": {},
   "outputs": [
    {
     "data": {
      "text/plain": [
       "<matplotlib.axes._subplots.AxesSubplot at 0x1c052b2b710>"
      ]
     },
     "execution_count": 6,
     "metadata": {},
     "output_type": "execute_result"
    },
    {
     "data": {
      "image/png": "[encoded data removed]",
      "text/plain": [
       "<Figure size 432x288 with 1 Axes>"
      ]
     },
     "metadata": {
      "needs_background": "light"
     },
     "output_type": "display_data"
    }
   ],
   "source": [
    "# Plot chart of number of women who've defaulted etc.\n",
    "gender.plot(kind='bar', stacked = True)"
   ]
  },
  {
   "cell_type": "code",
   "execution_count": 7,
   "metadata": {},
   "outputs": [
    {
     "name": "stdout",
     "output_type": "stream",
     "text": [
      "Total Males   : 690\n",
      "Total Females : 310\n",
      "Percentate of males : 69.0\n",
      "Ratio Males-Females : 2.225806451612903\n",
      "\n",
      "Total of good credit males  : 499\n",
      "Total of good credit females: 201\n",
      "Percentate of good credit males : 71.28571428571429\n",
      "Ratio of good credit: male to female  2.482587064676617\n",
      "\n",
      "Total of bad credit males  : 191\n",
      "Total of bad credit females: 109\n",
      "Percentate of bad credit males : 63.666666666666664\n",
      "Ratio of bad credit: male to female  1.7522935779816513\n"
     ]
    }
   ],
   "source": [
    "Ratio_Males_Females = Ratio_GoodCredit_male_female = 0\n",
    "TotalMales          = len(German_df[German_df[\"Gender\"]==1])\n",
    "TotalFemales        = len(German_df[German_df[\"Gender\"]==0])\n",
    "Ratio_Males_Females = TotalMales / TotalFemales\n",
    "\n",
    "MaleGoodCredit     = len(German_df[(German_df[\"Gender\"]==1)  & (German_df[\"CreditStatus\"]==1)])\n",
    "FemaleGoodCredit   = len(German_df[(German_df[\"Gender\"]==0)  & (German_df[\"CreditStatus\"]==1)])\n",
    "Ratio_GoodCredit_male_female = MaleGoodCredit / FemaleGoodCredit\n",
    "\n",
    "MaleBadCredit     = len(German_df[(German_df[\"Gender\"]==1)  & (German_df[\"CreditStatus\"]==0)])\n",
    "FemaleBadCredit   = len(German_df[(German_df[\"Gender\"]==0)  & (German_df[\"CreditStatus\"]==0)])\n",
    "Ratio_BadCredit_male_female = MaleBadCredit / FemaleBadCredit\n",
    "\n",
    "\n",
    "print('Total Males   :', TotalMales)\n",
    "print('Total Females :', TotalFemales)\n",
    "print('Percentate of males :',((100*TotalMales) /(TotalMales+TotalFemales)))\n",
    "print('Ratio Males-Females :', Ratio_Males_Females)\n",
    "print('')\n",
    "print('Total of good credit males  :', MaleGoodCredit)\n",
    "print('Total of good credit females:', FemaleGoodCredit)\n",
    "print('Percentate of good credit males :',((100*MaleGoodCredit) /(MaleGoodCredit+FemaleGoodCredit)))\n",
    "print('Ratio of good credit: male to female ', Ratio_GoodCredit_male_female)\n",
    "print('')\n",
    "print('Total of bad credit males  :', MaleBadCredit)\n",
    "print('Total of bad credit females:', FemaleBadCredit)\n",
    "print('Percentate of bad credit males :',((100*MaleBadCredit) /(MaleBadCredit+FemaleBadCredit)))\n",
    "print('Ratio of bad credit: male to female ', Ratio_BadCredit_male_female)\n"
   ]
  },
  {
   "cell_type": "code",
   "execution_count": 8,
   "metadata": {},
   "outputs": [],
   "source": [
    "class SelectCols(TransformerMixin):\n",
    "    \"\"\"Select columns from a DataFrame.\"\"\"\n",
    "    def __init__(self, cols: List[str]) -> None:\n",
    "        self.cols = cols\n",
    "    def fit(self, x: None) -> \"SelectCols\":\n",
    "        \"\"\"Nothing to do.\"\"\"\n",
    "        return self\n",
    "    def transform(self, x: pd.DataFrame) -> pd.DataFrame:\n",
    "        \"\"\"Return just selected columns.\"\"\"\n",
    "        return x[self.cols]"
   ]
  },
  {
   "cell_type": "code",
   "execution_count": 9,
   "metadata": {},
   "outputs": [],
   "source": [
    "class LabelEncoder(TransformerMixin):\n",
    "    # Convert non-numeric columns to numeric using label encoding. \n",
    "    def fit(self, x: pd.DataFrame) -> \"LabelEncoder\":\n",
    "        # Generate encoders for each column.\n",
    "        encoders = {}\n",
    "        for c in x:\n",
    "            # Generate encoders using pd.factorize on unique values, then convert to a dictionary\n",
    "            v, k = zip(pd.factorize(x[c].unique()))\n",
    "            encoders[c] = dict(zip(k[0], v[0]))\n",
    "        self.encoders_ = encoders\n",
    "        return self\n",
    "\n",
    "    def transform(self, x) -> pd.DataFrame:\n",
    "        # For columns in x that have learned encoders, apply encoding.\n",
    "        x = x.copy()\n",
    "        for c in x:\n",
    "            # Ignore new, unseen values\n",
    "            x.loc[~x[c].isin(self.encoders_[c]), c] = np.nan\n",
    "            # Map learned labels\n",
    "            x.loc[:, c] = x[c].map(self.encoders_[c])\n",
    "        # Return without nans\n",
    "        return x.fillna(-2).astype(int)"
   ]
  },
  {
   "cell_type": "code",
   "execution_count": 10,
   "metadata": {},
   "outputs": [],
   "source": [
    "class NumericEncoder(TransformerMixin):\n",
    "    \"\"\"Remove invalid values from numerical columns, replace with median.\"\"\"\n",
    "    def fit(self, x: pd.DataFrame) -> \"NumericEncoder\":\n",
    "        \"\"\"Learn median for every column in x.\"\"\"\n",
    "        # Find median for all columns, handling non-NaNs invalid values and NaNs\n",
    "        # Where all values are NaNs (after coercion) the median value will be a NaN.\n",
    "        self.encoders_ = {\n",
    "            c: pd.to_numeric(x[c], errors='coerce').median(skipna=True) for c in x}\n",
    "        return self\n",
    "\n",
    "    def transform(self, x: pd.DataFrame) -> pd.DataFrame:\n",
    "        \"\"\"For each column in x, encode NaN values are learned \n",
    "        median and add a flag column indicating where these \n",
    "        replacements were made\"\"\"\n",
    "\n",
    "        # Create a list of new DataFrames, each with 2 columns\n",
    "        output_dfs = []\n",
    "        for c in x:\n",
    "            new_cols = pd.DataFrame()\n",
    "            # Find invalid values that aren't nans (-inf, inf, string)\n",
    "            invalid_idx = pd.to_numeric(x[c].replace([-np.inf, np.inf], np.nan),\n",
    "                                        errors='coerce').isnull()\n",
    "            # Copy to new df for this column\n",
    "            new_cols.loc[:, c] = x[c].copy()\n",
    "            # Replace the invalid values with learned median\n",
    "            new_cols.loc[invalid_idx, c] = self.encoders_[c]\n",
    "            output_dfs.append(new_cols)\n",
    "\n",
    "        # Concat list of output_dfs to single df\n",
    "        df = pd.concat(output_dfs, axis=1)\n",
    "        # Return wtih an remaining NaNs removed. These might exist if the median\n",
    "        # is a NaN because there was no numeric data in the column at all.\n",
    "        return df.fillna(0)"
   ]
  },
  {
   "cell_type": "code",
   "execution_count": 11,
   "metadata": {},
   "outputs": [
    {
     "data": {
      "text/html": [
       "<div>\n",
       "<style scoped>\n",
       "    .dataframe tbody tr th:only-of-type {\n",
       "        vertical-align: middle;\n",
       "    }\n",
       "\n",
       "    .dataframe tbody tr th {\n",
       "        vertical-align: top;\n",
       "    }\n",
       "\n",
       "    .dataframe thead th {\n",
       "        text-align: right;\n",
       "    }\n",
       "</style>\n",
       "<table border=\"1\" class=\"dataframe\">\n",
       "  <thead>\n",
       "    <tr style=\"text-align: right;\">\n",
       "      <th></th>\n",
       "      <th>CurrentAcc</th>\n",
       "      <th>NumMonths</th>\n",
       "      <th>CreditHistory</th>\n",
       "      <th>Purpose</th>\n",
       "      <th>CreditAmount</th>\n",
       "      <th>Savings</th>\n",
       "      <th>EmployDuration</th>\n",
       "      <th>PayBackPercent</th>\n",
       "      <th>Gender</th>\n",
       "      <th>Debtors</th>\n",
       "      <th>...</th>\n",
       "      <th>Collateral</th>\n",
       "      <th>Age</th>\n",
       "      <th>OtherPayBackPlan</th>\n",
       "      <th>Property</th>\n",
       "      <th>ExistingCredit</th>\n",
       "      <th>Job</th>\n",
       "      <th>Dependents</th>\n",
       "      <th>Telephone</th>\n",
       "      <th>Foreignworker</th>\n",
       "      <th>CreditStatus</th>\n",
       "    </tr>\n",
       "  </thead>\n",
       "  <tbody>\n",
       "    <tr>\n",
       "      <th>0</th>\n",
       "      <td>A11</td>\n",
       "      <td>6</td>\n",
       "      <td>A34</td>\n",
       "      <td>A43</td>\n",
       "      <td>1169</td>\n",
       "      <td>A65</td>\n",
       "      <td>A75</td>\n",
       "      <td>4</td>\n",
       "      <td>1</td>\n",
       "      <td>A101</td>\n",
       "      <td>...</td>\n",
       "      <td>A121</td>\n",
       "      <td>67</td>\n",
       "      <td>A143</td>\n",
       "      <td>A152</td>\n",
       "      <td>2</td>\n",
       "      <td>A173</td>\n",
       "      <td>1</td>\n",
       "      <td>A192</td>\n",
       "      <td>A201</td>\n",
       "      <td>1</td>\n",
       "    </tr>\n",
       "    <tr>\n",
       "      <th>1</th>\n",
       "      <td>A12</td>\n",
       "      <td>48</td>\n",
       "      <td>A32</td>\n",
       "      <td>A43</td>\n",
       "      <td>5951</td>\n",
       "      <td>A61</td>\n",
       "      <td>A73</td>\n",
       "      <td>2</td>\n",
       "      <td>0</td>\n",
       "      <td>A101</td>\n",
       "      <td>...</td>\n",
       "      <td>A121</td>\n",
       "      <td>22</td>\n",
       "      <td>A143</td>\n",
       "      <td>A152</td>\n",
       "      <td>1</td>\n",
       "      <td>A173</td>\n",
       "      <td>1</td>\n",
       "      <td>A191</td>\n",
       "      <td>A201</td>\n",
       "      <td>0</td>\n",
       "    </tr>\n",
       "  </tbody>\n",
       "</table>\n",
       "<p>2 rows × 21 columns</p>\n",
       "</div>"
      ],
      "text/plain": [
       "  CurrentAcc  NumMonths CreditHistory Purpose  CreditAmount Savings  \\\n",
       "0        A11          6           A34     A43          1169     A65   \n",
       "1        A12         48           A32     A43          5951     A61   \n",
       "\n",
       "  EmployDuration  PayBackPercent  Gender Debtors     ...       Collateral Age  \\\n",
       "0            A75               4       1    A101     ...             A121  67   \n",
       "1            A73               2       0    A101     ...             A121  22   \n",
       "\n",
       "   OtherPayBackPlan Property ExistingCredit   Job Dependents  Telephone  \\\n",
       "0              A143     A152              2  A173          1       A192   \n",
       "1              A143     A152              1  A173          1       A191   \n",
       "\n",
       "  Foreignworker CreditStatus  \n",
       "0          A201            1  \n",
       "1          A201            0  \n",
       "\n",
       "[2 rows x 21 columns]"
      ]
     },
     "execution_count": 11,
     "metadata": {},
     "output_type": "execute_result"
    }
   ],
   "source": [
    "German_df.head(2)"
   ]
  },
  {
   "cell_type": "code",
   "execution_count": 12,
   "metadata": {},
   "outputs": [],
   "source": [
    "## Constructing the feature engineering pipeline\n",
    "# LabelEncoding fork: Select object columns -> label encode\n",
    "pp_object_cols = Pipeline([('select', SelectCols(cols=['CurrentAcc', 'CreditHistory','Purpose', \n",
    "                                                       'Savings','EmployDuration','Debtors',\n",
    "                                                       'Collateral','OtherPayBackPlan', 'Property',\n",
    "                                                       'Job','Telephone', 'Foreignworker'])),\n",
    "                           ('process', LabelEncoder())])\n",
    "\n",
    "# NumericEncoding fork: Select numeric columns -> numeric encode\n",
    "pp_numeric_cols = Pipeline([('select', SelectCols(cols=['NumMonths','CreditAmount','PayBackPercent',\n",
    "                                                        'Gender','ResidenceDuration','Age',\n",
    "                                                        'ExistingCredit','Dependents','CreditStatus'])),\n",
    "                            ('process', NumericEncoder())])"
   ]
  },
  {
   "cell_type": "code",
   "execution_count": 13,
   "metadata": {},
   "outputs": [],
   "source": [
    "German_pp = pd.concat((pp_numeric_cols.fit_transform(German_df),\n",
    "                       pp_object_cols.fit_transform(German_df)),axis=1)"
   ]
  },
  {
   "cell_type": "code",
   "execution_count": 14,
   "metadata": {},
   "outputs": [],
   "source": [
    "# Convert all label encoded columns from from int64 to float64\n",
    "German_pp[['CurrentAcc', 'CreditHistory','Purpose','Savings','EmployDuration','Debtors',\n",
    "          'Collateral','OtherPayBackPlan', 'Property','Job','Telephone',\n",
    "          'Foreignworker']] = German_pp[['CurrentAcc', 'CreditHistory','Purpose','Savings',\n",
    "                                        'EmployDuration','Debtors','Collateral','OtherPayBackPlan',\n",
    "                                        'Property','Job','Telephone', 'Foreignworker']].astype(float)"
   ]
  },
  {
   "cell_type": "code",
   "execution_count": 15,
   "metadata": {},
   "outputs": [],
   "source": [
    "# Reorder the columns to have Income the last column - for aesthetics\n",
    "German_pp = German_pp.reindex(columns=feature_names)"
   ]
  },
  {
   "cell_type": "code",
   "execution_count": 16,
   "metadata": {},
   "outputs": [
    {
     "data": {
      "text/html": [
       "<div>\n",
       "<style scoped>\n",
       "    .dataframe tbody tr th:only-of-type {\n",
       "        vertical-align: middle;\n",
       "    }\n",
       "\n",
       "    .dataframe tbody tr th {\n",
       "        vertical-align: top;\n",
       "    }\n",
       "\n",
       "    .dataframe thead th {\n",
       "        text-align: right;\n",
       "    }\n",
       "</style>\n",
       "<table border=\"1\" class=\"dataframe\">\n",
       "  <thead>\n",
       "    <tr style=\"text-align: right;\">\n",
       "      <th></th>\n",
       "      <th>CurrentAcc</th>\n",
       "      <th>NumMonths</th>\n",
       "      <th>CreditHistory</th>\n",
       "      <th>Purpose</th>\n",
       "      <th>CreditAmount</th>\n",
       "      <th>Savings</th>\n",
       "      <th>EmployDuration</th>\n",
       "      <th>PayBackPercent</th>\n",
       "      <th>Gender</th>\n",
       "      <th>Debtors</th>\n",
       "      <th>...</th>\n",
       "      <th>Collateral</th>\n",
       "      <th>Age</th>\n",
       "      <th>OtherPayBackPlan</th>\n",
       "      <th>Property</th>\n",
       "      <th>ExistingCredit</th>\n",
       "      <th>Job</th>\n",
       "      <th>Dependents</th>\n",
       "      <th>Telephone</th>\n",
       "      <th>Foreignworker</th>\n",
       "      <th>CreditStatus</th>\n",
       "    </tr>\n",
       "  </thead>\n",
       "  <tbody>\n",
       "    <tr>\n",
       "      <th>0</th>\n",
       "      <td>0.0</td>\n",
       "      <td>6.0</td>\n",
       "      <td>0.0</td>\n",
       "      <td>0.0</td>\n",
       "      <td>1169.0</td>\n",
       "      <td>0.0</td>\n",
       "      <td>0.0</td>\n",
       "      <td>4.0</td>\n",
       "      <td>1.0</td>\n",
       "      <td>0.0</td>\n",
       "      <td>...</td>\n",
       "      <td>0.0</td>\n",
       "      <td>67.0</td>\n",
       "      <td>0.0</td>\n",
       "      <td>0.0</td>\n",
       "      <td>2.0</td>\n",
       "      <td>0.0</td>\n",
       "      <td>1.0</td>\n",
       "      <td>0.0</td>\n",
       "      <td>0.0</td>\n",
       "      <td>1.0</td>\n",
       "    </tr>\n",
       "    <tr>\n",
       "      <th>1</th>\n",
       "      <td>1.0</td>\n",
       "      <td>48.0</td>\n",
       "      <td>1.0</td>\n",
       "      <td>0.0</td>\n",
       "      <td>5951.0</td>\n",
       "      <td>1.0</td>\n",
       "      <td>1.0</td>\n",
       "      <td>2.0</td>\n",
       "      <td>0.0</td>\n",
       "      <td>0.0</td>\n",
       "      <td>...</td>\n",
       "      <td>0.0</td>\n",
       "      <td>22.0</td>\n",
       "      <td>0.0</td>\n",
       "      <td>0.0</td>\n",
       "      <td>1.0</td>\n",
       "      <td>0.0</td>\n",
       "      <td>1.0</td>\n",
       "      <td>1.0</td>\n",
       "      <td>0.0</td>\n",
       "      <td>0.0</td>\n",
       "    </tr>\n",
       "    <tr>\n",
       "      <th>2</th>\n",
       "      <td>2.0</td>\n",
       "      <td>12.0</td>\n",
       "      <td>0.0</td>\n",
       "      <td>1.0</td>\n",
       "      <td>2096.0</td>\n",
       "      <td>1.0</td>\n",
       "      <td>2.0</td>\n",
       "      <td>2.0</td>\n",
       "      <td>1.0</td>\n",
       "      <td>0.0</td>\n",
       "      <td>...</td>\n",
       "      <td>0.0</td>\n",
       "      <td>49.0</td>\n",
       "      <td>0.0</td>\n",
       "      <td>0.0</td>\n",
       "      <td>1.0</td>\n",
       "      <td>1.0</td>\n",
       "      <td>2.0</td>\n",
       "      <td>1.0</td>\n",
       "      <td>0.0</td>\n",
       "      <td>1.0</td>\n",
       "    </tr>\n",
       "    <tr>\n",
       "      <th>3</th>\n",
       "      <td>0.0</td>\n",
       "      <td>42.0</td>\n",
       "      <td>1.0</td>\n",
       "      <td>2.0</td>\n",
       "      <td>7882.0</td>\n",
       "      <td>1.0</td>\n",
       "      <td>2.0</td>\n",
       "      <td>2.0</td>\n",
       "      <td>1.0</td>\n",
       "      <td>1.0</td>\n",
       "      <td>...</td>\n",
       "      <td>1.0</td>\n",
       "      <td>45.0</td>\n",
       "      <td>0.0</td>\n",
       "      <td>1.0</td>\n",
       "      <td>1.0</td>\n",
       "      <td>0.0</td>\n",
       "      <td>2.0</td>\n",
       "      <td>1.0</td>\n",
       "      <td>0.0</td>\n",
       "      <td>1.0</td>\n",
       "    </tr>\n",
       "    <tr>\n",
       "      <th>4</th>\n",
       "      <td>0.0</td>\n",
       "      <td>24.0</td>\n",
       "      <td>2.0</td>\n",
       "      <td>3.0</td>\n",
       "      <td>4870.0</td>\n",
       "      <td>1.0</td>\n",
       "      <td>1.0</td>\n",
       "      <td>3.0</td>\n",
       "      <td>1.0</td>\n",
       "      <td>0.0</td>\n",
       "      <td>...</td>\n",
       "      <td>2.0</td>\n",
       "      <td>53.0</td>\n",
       "      <td>0.0</td>\n",
       "      <td>1.0</td>\n",
       "      <td>2.0</td>\n",
       "      <td>0.0</td>\n",
       "      <td>2.0</td>\n",
       "      <td>1.0</td>\n",
       "      <td>0.0</td>\n",
       "      <td>0.0</td>\n",
       "    </tr>\n",
       "  </tbody>\n",
       "</table>\n",
       "<p>5 rows × 21 columns</p>\n",
       "</div>"
      ],
      "text/plain": [
       "   CurrentAcc  NumMonths  CreditHistory  Purpose  CreditAmount  Savings  \\\n",
       "0         0.0        6.0            0.0      0.0        1169.0      0.0   \n",
       "1         1.0       48.0            1.0      0.0        5951.0      1.0   \n",
       "2         2.0       12.0            0.0      1.0        2096.0      1.0   \n",
       "3         0.0       42.0            1.0      2.0        7882.0      1.0   \n",
       "4         0.0       24.0            2.0      3.0        4870.0      1.0   \n",
       "\n",
       "   EmployDuration  PayBackPercent  Gender  Debtors      ...       Collateral  \\\n",
       "0             0.0             4.0     1.0      0.0      ...              0.0   \n",
       "1             1.0             2.0     0.0      0.0      ...              0.0   \n",
       "2             2.0             2.0     1.0      0.0      ...              0.0   \n",
       "3             2.0             2.0     1.0      1.0      ...              1.0   \n",
       "4             1.0             3.0     1.0      0.0      ...              2.0   \n",
       "\n",
       "    Age  OtherPayBackPlan  Property  ExistingCredit  Job  Dependents  \\\n",
       "0  67.0               0.0       0.0             2.0  0.0         1.0   \n",
       "1  22.0               0.0       0.0             1.0  0.0         1.0   \n",
       "2  49.0               0.0       0.0             1.0  1.0         2.0   \n",
       "3  45.0               0.0       1.0             1.0  0.0         2.0   \n",
       "4  53.0               0.0       1.0             2.0  0.0         2.0   \n",
       "\n",
       "   Telephone  Foreignworker  CreditStatus  \n",
       "0        0.0            0.0           1.0  \n",
       "1        1.0            0.0           0.0  \n",
       "2        1.0            0.0           1.0  \n",
       "3        1.0            0.0           1.0  \n",
       "4        1.0            0.0           0.0  \n",
       "\n",
       "[5 rows x 21 columns]"
      ]
     },
     "execution_count": 16,
     "metadata": {},
     "output_type": "execute_result"
    }
   ],
   "source": [
    "German_pp.head(5)"
   ]
  },
  {
   "cell_type": "code",
   "execution_count": 17,
   "metadata": {},
   "outputs": [],
   "source": [
    "# Try dropping come features for more bias signal\n",
    "feature_names = ['CurrentAcc', 'NumMonths', 'CreditHistory', 'Purpose', 'CreditAmount', \n",
    "         'Savings', 'EmployDuration', 'PayBackPercent', 'Gender', 'Debtors', \n",
    "         'ResidenceDuration', 'Collateral', 'Age', 'OtherPayBackPlan', 'Property', \n",
    "         'ExistingCredit', 'Job', 'Dependents', 'Telephone', 'Foreignworker', 'CreditStatus']\n",
    "German_pp.drop([\"CurrentAcc\", \"Age\"],axis=1,inplace=True)"
   ]
  },
  {
   "cell_type": "code",
   "execution_count": 18,
   "metadata": {},
   "outputs": [],
   "source": [
    "German_pp.to_csv('./input/German-cleaned.csv', index=False)"
   ]
  },
  {
   "cell_type": "code",
   "execution_count": 19,
   "metadata": {},
   "outputs": [],
   "source": [
    "## NOW DETERMINE THE MOST IMPORTANT FEATURES OF A LOGISTIC REGRESSION & RANDOM FOREST CLASSIFIER"
   ]
  },
  {
   "cell_type": "code",
   "execution_count": 20,
   "metadata": {},
   "outputs": [],
   "source": [
    "German_df = pd.read_csv('./input/German-Cleaned.csv')"
   ]
  },
  {
   "cell_type": "code",
   "execution_count": 21,
   "metadata": {},
   "outputs": [],
   "source": [
    "# Set up train and test samples.\n",
    "X = German_df.drop(\"CreditStatus\",axis=1)\n",
    "y = German_df[\"CreditStatus\"]\n",
    "X_train, X_test, y_train, y_test = train_test_split(X, y, test_size = 0.2, random_state = 101)"
   ]
  },
  {
   "cell_type": "code",
   "execution_count": 22,
   "metadata": {},
   "outputs": [],
   "source": [
    "# Scale the Test and Train dataframes \n",
    "scaler  = MinMaxScaler(copy=False)\n",
    "X_train = pd.DataFrame(scaler.fit_transform(X_train.values), columns=X_train.columns, index=X_train.index)\n",
    "X_test  = pd.DataFrame(scaler.fit_transform(X_test.values),  columns=X_test.columns,  index=X_test.index)"
   ]
  },
  {
   "cell_type": "code",
   "execution_count": 23,
   "metadata": {},
   "outputs": [
    {
     "name": "stdout",
     "output_type": "stream",
     "text": [
      "Logistic regression validation accuracy: 0.695\n"
     ]
    }
   ],
   "source": [
    "biasedlogmodel = LogisticRegression(random_state=101)\n",
    "biasedlogmodel.fit(X_train,y_train)\n",
    "logpredictions = biasedlogmodel.predict(X_test)\n",
    "print(f\"Logistic regression validation accuracy: {biasedlogmodel.score(X_test, y_test)}\")"
   ]
  },
  {
   "cell_type": "code",
   "execution_count": 24,
   "metadata": {},
   "outputs": [
    {
     "data": {
      "text/html": [
       "<div>\n",
       "<style scoped>\n",
       "    .dataframe tbody tr th:only-of-type {\n",
       "        vertical-align: middle;\n",
       "    }\n",
       "\n",
       "    .dataframe tbody tr th {\n",
       "        vertical-align: top;\n",
       "    }\n",
       "\n",
       "    .dataframe thead th {\n",
       "        text-align: right;\n",
       "    }\n",
       "</style>\n",
       "<table border=\"1\" class=\"dataframe\">\n",
       "  <thead>\n",
       "    <tr style=\"text-align: right;\">\n",
       "      <th></th>\n",
       "      <th>importance</th>\n",
       "    </tr>\n",
       "  </thead>\n",
       "  <tbody>\n",
       "    <tr>\n",
       "      <th>Foreignworker</th>\n",
       "      <td>0.462634</td>\n",
       "    </tr>\n",
       "    <tr>\n",
       "      <th>Gender</th>\n",
       "      <td>0.356118</td>\n",
       "    </tr>\n",
       "    <tr>\n",
       "      <th>ExistingCredit</th>\n",
       "      <td>0.144609</td>\n",
       "    </tr>\n",
       "    <tr>\n",
       "      <th>ResidenceDuration</th>\n",
       "      <td>0.098520</td>\n",
       "    </tr>\n",
       "    <tr>\n",
       "      <th>Purpose</th>\n",
       "      <td>0.049580</td>\n",
       "    </tr>\n",
       "    <tr>\n",
       "      <th>Dependents</th>\n",
       "      <td>0.008956</td>\n",
       "    </tr>\n",
       "    <tr>\n",
       "      <th>Savings</th>\n",
       "      <td>-0.005357</td>\n",
       "    </tr>\n",
       "    <tr>\n",
       "      <th>Job</th>\n",
       "      <td>-0.061393</td>\n",
       "    </tr>\n",
       "    <tr>\n",
       "      <th>EmployDuration</th>\n",
       "      <td>-0.133410</td>\n",
       "    </tr>\n",
       "    <tr>\n",
       "      <th>Debtors</th>\n",
       "      <td>-0.150359</td>\n",
       "    </tr>\n",
       "    <tr>\n",
       "      <th>Collateral</th>\n",
       "      <td>-0.217738</td>\n",
       "    </tr>\n",
       "    <tr>\n",
       "      <th>Telephone</th>\n",
       "      <td>-0.300995</td>\n",
       "    </tr>\n",
       "    <tr>\n",
       "      <th>OtherPayBackPlan</th>\n",
       "      <td>-0.377776</td>\n",
       "    </tr>\n",
       "    <tr>\n",
       "      <th>PayBackPercent</th>\n",
       "      <td>-0.427043</td>\n",
       "    </tr>\n",
       "    <tr>\n",
       "      <th>Property</th>\n",
       "      <td>-0.547920</td>\n",
       "    </tr>\n",
       "    <tr>\n",
       "      <th>CreditAmount</th>\n",
       "      <td>-0.586249</td>\n",
       "    </tr>\n",
       "    <tr>\n",
       "      <th>NumMonths</th>\n",
       "      <td>-1.519379</td>\n",
       "    </tr>\n",
       "    <tr>\n",
       "      <th>CreditHistory</th>\n",
       "      <td>-1.527626</td>\n",
       "    </tr>\n",
       "  </tbody>\n",
       "</table>\n",
       "</div>"
      ],
      "text/plain": [
       "                   importance\n",
       "Foreignworker        0.462634\n",
       "Gender               0.356118\n",
       "ExistingCredit       0.144609\n",
       "ResidenceDuration    0.098520\n",
       "Purpose              0.049580\n",
       "Dependents           0.008956\n",
       "Savings             -0.005357\n",
       "Job                 -0.061393\n",
       "EmployDuration      -0.133410\n",
       "Debtors             -0.150359\n",
       "Collateral          -0.217738\n",
       "Telephone           -0.300995\n",
       "OtherPayBackPlan    -0.377776\n",
       "PayBackPercent      -0.427043\n",
       "Property            -0.547920\n",
       "CreditAmount        -0.586249\n",
       "NumMonths           -1.519379\n",
       "CreditHistory       -1.527626"
      ]
     },
     "execution_count": 24,
     "metadata": {},
     "output_type": "execute_result"
    }
   ],
   "source": [
    "## CODE TO DISPLAY LOG REGRESSION FEATURE IMPORTANCE \n",
    "# List feature importances from the Logistic Regression Classifier\n",
    "log_feature_importance = pd.DataFrame((biasedlogmodel.coef_[0]),index = X_train.columns,\n",
    "                         columns=['importance']).sort_values('importance',ascending=False)\n",
    "log_feature_importance"
   ]
  },
  {
   "cell_type": "code",
   "execution_count": 25,
   "metadata": {},
   "outputs": [
    {
     "data": {
      "image/png": "[encoded data removed]",
      "text/plain": [
       "<Figure size 432x288 with 1 Axes>"
      ]
     },
     "metadata": {
      "needs_background": "light"
     },
     "output_type": "display_data"
    }
   ],
   "source": [
    "## CODE TO DISPLAY LOG FEATURE IMPORTANCE\n",
    "# Display feature importances from the Logistic Regression Classifier\n",
    "#feature_names = colnames #list(German_df.columns)\n",
    "\n",
    "importances = biasedlogmodel.coef_[0]\n",
    "# Sort feature importances in descending order\n",
    "indices = np.argsort(importances)[::-1]\n",
    " \n",
    "# Rearrange feature names so they match the sorted feature importances\n",
    "names = [feature_names[i] for i in indices]\n",
    "\n",
    "# Barplot: Add bars\n",
    "plt.bar(range(X_train.shape[1]), importances[indices])\n",
    "# Add feature names as x-axis labels\n",
    "plt.xticks(range(X_train.shape[1]), names, rotation=20, fontsize = 8)\n",
    "# Create plot title\n",
    "plt.title(\"Biased Logistic Regression Feature Importance\")\n",
    "# Show plot\n",
    "plt.show()"
   ]
  },
  {
   "cell_type": "code",
   "execution_count": 26,
   "metadata": {},
   "outputs": [
    {
     "name": "stdout",
     "output_type": "stream",
     "text": [
      "Random forest validation accuracy: 0.7\n"
     ]
    }
   ],
   "source": [
    "biasedrfcmodel = RandomForestClassifier(n_estimators=100,max_depth=4)\n",
    "biasedrfcmodel.fit(X_train, y_train)\n",
    "rfcpredictions = biasedrfcmodel.predict(X_test)\n",
    "print(f\"Random forest validation accuracy: {biasedrfcmodel.score(X_test, y_test)}\")"
   ]
  },
  {
   "cell_type": "code",
   "execution_count": 27,
   "metadata": {},
   "outputs": [
    {
     "data": {
      "text/html": [
       "<div>\n",
       "<style scoped>\n",
       "    .dataframe tbody tr th:only-of-type {\n",
       "        vertical-align: middle;\n",
       "    }\n",
       "\n",
       "    .dataframe tbody tr th {\n",
       "        vertical-align: top;\n",
       "    }\n",
       "\n",
       "    .dataframe thead th {\n",
       "        text-align: right;\n",
       "    }\n",
       "</style>\n",
       "<table border=\"1\" class=\"dataframe\">\n",
       "  <thead>\n",
       "    <tr style=\"text-align: right;\">\n",
       "      <th></th>\n",
       "      <th>importance</th>\n",
       "    </tr>\n",
       "  </thead>\n",
       "  <tbody>\n",
       "    <tr>\n",
       "      <th>CreditHistory</th>\n",
       "      <td>0.205175</td>\n",
       "    </tr>\n",
       "    <tr>\n",
       "      <th>NumMonths</th>\n",
       "      <td>0.169690</td>\n",
       "    </tr>\n",
       "    <tr>\n",
       "      <th>CreditAmount</th>\n",
       "      <td>0.166327</td>\n",
       "    </tr>\n",
       "    <tr>\n",
       "      <th>Savings</th>\n",
       "      <td>0.098714</td>\n",
       "    </tr>\n",
       "    <tr>\n",
       "      <th>Property</th>\n",
       "      <td>0.052321</td>\n",
       "    </tr>\n",
       "    <tr>\n",
       "      <th>Purpose</th>\n",
       "      <td>0.047668</td>\n",
       "    </tr>\n",
       "    <tr>\n",
       "      <th>Collateral</th>\n",
       "      <td>0.039619</td>\n",
       "    </tr>\n",
       "    <tr>\n",
       "      <th>EmployDuration</th>\n",
       "      <td>0.039470</td>\n",
       "    </tr>\n",
       "    <tr>\n",
       "      <th>PayBackPercent</th>\n",
       "      <td>0.030972</td>\n",
       "    </tr>\n",
       "    <tr>\n",
       "      <th>OtherPayBackPlan</th>\n",
       "      <td>0.029644</td>\n",
       "    </tr>\n",
       "    <tr>\n",
       "      <th>ResidenceDuration</th>\n",
       "      <td>0.026082</td>\n",
       "    </tr>\n",
       "    <tr>\n",
       "      <th>Job</th>\n",
       "      <td>0.022305</td>\n",
       "    </tr>\n",
       "    <tr>\n",
       "      <th>ExistingCredit</th>\n",
       "      <td>0.017535</td>\n",
       "    </tr>\n",
       "    <tr>\n",
       "      <th>Debtors</th>\n",
       "      <td>0.014936</td>\n",
       "    </tr>\n",
       "    <tr>\n",
       "      <th>Gender</th>\n",
       "      <td>0.012357</td>\n",
       "    </tr>\n",
       "    <tr>\n",
       "      <th>Telephone</th>\n",
       "      <td>0.011417</td>\n",
       "    </tr>\n",
       "    <tr>\n",
       "      <th>Dependents</th>\n",
       "      <td>0.009697</td>\n",
       "    </tr>\n",
       "    <tr>\n",
       "      <th>Foreignworker</th>\n",
       "      <td>0.006070</td>\n",
       "    </tr>\n",
       "  </tbody>\n",
       "</table>\n",
       "</div>"
      ],
      "text/plain": [
       "                   importance\n",
       "CreditHistory        0.205175\n",
       "NumMonths            0.169690\n",
       "CreditAmount         0.166327\n",
       "Savings              0.098714\n",
       "Property             0.052321\n",
       "Purpose              0.047668\n",
       "Collateral           0.039619\n",
       "EmployDuration       0.039470\n",
       "PayBackPercent       0.030972\n",
       "OtherPayBackPlan     0.029644\n",
       "ResidenceDuration    0.026082\n",
       "Job                  0.022305\n",
       "ExistingCredit       0.017535\n",
       "Debtors              0.014936\n",
       "Gender               0.012357\n",
       "Telephone            0.011417\n",
       "Dependents           0.009697\n",
       "Foreignworker        0.006070"
      ]
     },
     "execution_count": 27,
     "metadata": {},
     "output_type": "execute_result"
    }
   ],
   "source": [
    "## THIS IS MY CODE TO DISPLAY FEATURE IMPORTANCE\n",
    "# List feature importances from the Random Forest Classifier\n",
    "feature_importances = pd.DataFrame(biasedrfcmodel.feature_importances_, index = X_train.columns,\n",
    "                                   columns=['importance']).sort_values('importance',ascending=False)\n",
    "feature_importances"
   ]
  },
  {
   "cell_type": "code",
   "execution_count": 28,
   "metadata": {},
   "outputs": [
    {
     "data": {
      "image/png": "[encoded data removed]",
      "text/plain": [
       "<Figure size 432x288 with 1 Axes>"
      ]
     },
     "metadata": {
      "needs_background": "light"
     },
     "output_type": "display_data"
    }
   ],
   "source": [
    "## THIS IS MY CODE TO DISPLAY FEATURE IMPORTANCE\n",
    "# Display feature importances from the Random Forest Classifier\n",
    "#feature_names = list(Adult_df.columns)\n",
    "\n",
    "importances = biasedrfcmodel.feature_importances_\n",
    "# Sort feature importances in descending order\n",
    "indices = np.argsort(importances)[::-1]\n",
    " \n",
    "# Rearrange feature names so they match the sorted feature importances\n",
    "names = [feature_names[i] for i in indices]\n",
    "\n",
    "# Barplot: Add bars\n",
    "plt.bar(range(X_train.shape[1]), importances[indices])\n",
    "# Add feature names as x-axis labels\n",
    "plt.xticks(range(X_train.shape[1]), names, rotation=20, fontsize = 8)\n",
    "# Create plot title\n",
    "plt.title(\"Biased RFC Feature Importance\")\n",
    "plt.show()"
   ]
  },
  {
   "cell_type": "code",
   "execution_count": 29,
   "metadata": {},
   "outputs": [],
   "source": [
    "## THIS IS GARETH's CODE TO DISPLAY FEATURE IMPORTANCE\n",
    "# Check for the attribute with the most impact on a random forest classification\n",
    "def feature_importance(mod: Union[LogisticRegression,RandomForestClassifier],\n",
    "                       names: List[str],\n",
    "                       scale=None) -> pd.DataFrame:\n",
    "    \"\"\"Return feature importance for LR or RFC models in a sorted DataFrame.\"\"\"\n",
    "    if type(mod) == LogisticRegression:\n",
    "        imp = np.abs(mod.coef_.squeeze()) / scale\n",
    "        var = np.zeros(shape=imp.shape)\n",
    "    elif type(mod) == RandomForestClassifier:\n",
    "        imps = np.array([fi.feature_importances_ for fi in mod.estimators_])\n",
    "        imp = imps.mean(axis=0)\n",
    "        var = imps.std(axis=0)\n",
    "\n",
    "    return pd.DataFrame({'feature': names,'importance': imp,\n",
    "                         'std': var}).sort_values('importance',ascending=False)\n",
    "def plot_feature_importance(**kwargs) -> None:\n",
    "    ax = sns.barplot(**kwargs)\n",
    "    for l in ax.get_xticklabels():\n",
    "        l.set_rotation(90)"
   ]
  },
  {
   "cell_type": "code",
   "execution_count": 30,
   "metadata": {},
   "outputs": [
    {
     "data": {
      "image/png": "[encoded data removed]",
      "text/plain": [
       "<Figure size 1152x432 with 2 Axes>"
      ]
     },
     "metadata": {
      "needs_background": "light"
     },
     "output_type": "display_data"
    }
   ],
   "source": [
    "## THIS IS GARETH's CODE TO DISPLAY FEATURE IMPORTANCE\n",
    "## THE RFC CHART (bottom right) DIFFERS FROM MINE IN CELL 22 & 23\n",
    "fig, ax = plt.subplots(nrows=1, ncols=2, figsize=(16, 6))\n",
    "plot_feature_importance(x='feature',y='importance', \n",
    "                        data=feature_importance(biasedlogmodel,\n",
    "                                                names=X_train.columns.tolist(),\n",
    "                                                scale=X_train.std()),\n",
    "                       ax=ax[1])\n",
    "_ = ax[0].set_title('LR Feature Importance - before Mitigating')\n",
    "plot_feature_importance(x='feature',y='importance', \n",
    "                        data=feature_importance(biasedrfcmodel,names=X_train.columns.tolist()),\n",
    "                       ax=ax[0])\n",
    "_ = ax[1].set_title('RFC Feature Importance - before Mitigating')"
   ]
  }
 ],
 "metadata": {
  "kernelspec": {
   "display_name": "Python 3",
   "language": "python",
   "name": "python3"
  },
  "language_info": {
   "codemirror_mode": {
    "name": "ipython",
    "version": 3
   },
   "file_extension": ".py",
   "mimetype": "text/x-python",
   "name": "python",
   "nbconvert_exporter": "python",
   "pygments_lexer": "ipython3",
   "version": "3.7.3"
  }
 },
 "nbformat": 4,
 "nbformat_minor": 2
}
