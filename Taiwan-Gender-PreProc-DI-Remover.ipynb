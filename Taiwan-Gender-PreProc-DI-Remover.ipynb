{
 "cells": [
  {
   "cell_type": "code",
   "execution_count": 1,
   "metadata": {},
   "outputs": [],
   "source": [
    "# Import Data handling/display libraries\n",
    "import pandas  as pd\n",
    "import numpy   as np\n",
    "import seaborn as sns\n",
    "sns.set()\n",
    "sns.set_context(\"talk\")\n",
    "import matplotlib.pyplot as plt\n",
    "from IPython.display import display\n",
    "from typing import List, Union, Dict\n",
    "# Import scikit-learn core slibraries\n",
    "from sklearn.metrics         import auc, roc_auc_score, roc_curve\n",
    "from sklearn.metrics         import classification_report, confusion_matrix\n",
    "from sklearn.linear_model    import LogisticRegression\n",
    "from sklearn.ensemble        import RandomForestClassifier\n",
    "from sklearn.preprocessing   import MinMaxScaler\n",
    "from sklearn.metrics         import balanced_accuracy_score\n",
    "from sklearn.model_selection import train_test_split\n",
    "from collections             import Counter\n",
    "from IPython.display         import Markdown, display\n",
    "# Import IBM's AI Fairness tooolbox\n",
    "from aif360.datasets   import BinaryLabelDataset  # To handle the data\n",
    "from aif360.metrics    import BinaryLabelDatasetMetric, ClassificationMetric, DatasetMetric  # For calculating metrics\n",
    "from aif360.explainers import MetricTextExplainer  # For explaining metrics\n",
    "from aif360.algorithms import Transformer\n",
    "from aif360.algorithms.preprocessing import DisparateImpactRemover # Preprocessing technique\n",
    "# Warnings will be used to silence various model warnings for tidier output\n",
    "import warnings\n",
    "warnings.filterwarnings('ignore')"
   ]
  },
  {
   "cell_type": "code",
   "execution_count": 2,
   "metadata": {},
   "outputs": [],
   "source": [
    "# Read the cleaned Taiwan-Credit-Card-Cleaned-Gender dataset\n",
    "Taiwan_df = pd.read_csv('./input/Taiwan-Credit-Card-Cleaned-Gender.csv')"
   ]
  },
  {
   "cell_type": "code",
   "execution_count": 3,
   "metadata": {},
   "outputs": [],
   "source": [
    "# Set privileged (1)/ unprivileged (0)/ favourable (1) / unfavourable values (0)\n",
    "protected_attr      = 'GENDER'\n",
    "priv_grp            = 1  # Males \n",
    "unpriv_grp          = 0  # Females  \n",
    "lab                 = 'DEFAULT'\n",
    "fav_label           = 1 # Will not default next month\n",
    "unfav_label         = 0 # Will default next month\n",
    "privileged_groups   = [{protected_attr: priv_grp}]   # Males\n",
    "unprivileged_groups = [{protected_attr: unpriv_grp}] # Females"
   ]
  },
  {
   "cell_type": "code",
   "execution_count": 4,
   "metadata": {},
   "outputs": [],
   "source": [
    "# Create a Binary Label Dataset to use with AIF360 APIs\n",
    "X = Taiwan_df.drop(lab,axis=1)\n",
    "y = Taiwan_df[lab]"
   ]
  },
  {
   "cell_type": "code",
   "execution_count": 5,
   "metadata": {},
   "outputs": [],
   "source": [
    "Taiwan_bld = BinaryLabelDataset(df=pd.concat((X, y), axis=1),\n",
    "                                label_names=[lab], protected_attribute_names=[protected_attr],\n",
    "                                favorable_label=fav_label, unfavorable_label=unfav_label)"
   ]
  },
  {
   "cell_type": "code",
   "execution_count": 6,
   "metadata": {},
   "outputs": [],
   "source": [
    "# Create train and test datasets\n",
    "Taiwan_train_bld, Taiwan_test_bld = Taiwan_bld.split([0.8], shuffle=True, seed=101)"
   ]
  },
  {
   "cell_type": "code",
   "execution_count": 7,
   "metadata": {},
   "outputs": [],
   "source": [
    "scaler = MinMaxScaler(copy=False)\n",
    "Taiwan_train_bld.features = scaler.fit_transform(Taiwan_train_bld.features)\n",
    "Taiwan_test_bld.features  = scaler.fit_transform(Taiwan_test_bld.features)"
   ]
  },
  {
   "cell_type": "code",
   "execution_count": 8,
   "metadata": {},
   "outputs": [],
   "source": [
    "Taiwan_train_df, d = Taiwan_train_bld.convert_to_dataframe(de_dummy_code=False, sep='=', set_category=False)\n",
    "Taiwan_test_df,  d = Taiwan_test_bld.convert_to_dataframe(de_dummy_code=False, sep='=', set_category=False)"
   ]
  },
  {
   "cell_type": "code",
   "execution_count": 9,
   "metadata": {},
   "outputs": [
    {
     "name": "stdout",
     "output_type": "stream",
     "text": [
      "Model Accuracy for predicting the Sensitive Variable before bias transformation:\n",
      "Biased Logistic regression validation accuracy: 0.6075\n",
      "Biased Random Forest       validation accuracy: 0.613\n",
      "\n",
      "Biased Balanced accuracy\n",
      "Biased Logistic regression balanced accuracy  : 0.5391934491147057\n",
      "Biased Random Forest       balanced accuracy  : 0.5121004265621344\n"
     ]
    }
   ],
   "source": [
    "# First test whether it is possible to predict the Sensitive Variable from the whole original dataset\n",
    "X_se_train = Taiwan_train_df.drop(protected_attr,axis=1)\n",
    "y_se_train = Taiwan_train_df[protected_attr]\n",
    "X_se_test  = Taiwan_test_df.drop(protected_attr,axis=1)\n",
    "y_se_test  = Taiwan_test_df[protected_attr]\n",
    "\n",
    "Se_BiasedLogModel = LogisticRegression(random_state=101)\n",
    "Se_BiasedRfcModel = RandomForestClassifier(n_estimators=100,max_depth=4,random_state=101)\n",
    "Se_BiasedLogModel.fit(X_se_train, y_se_train) \n",
    "Se_BiasedRfcModel.fit(X_se_train, y_se_train) \n",
    "yseLog_pred =  Se_BiasedLogModel.predict(X_se_test)\n",
    "yseRfc_pred =  Se_BiasedRfcModel.predict(X_se_test)\n",
    "# Now test whether we can predict Gender from the test dataset\n",
    "print('Model Accuracy for predicting the Sensitive Variable before bias transformation:')\n",
    "print(f\"Biased Logistic regression validation accuracy: {Se_BiasedLogModel.score(X_se_test, y_se_test)}\")\n",
    "print(f\"Biased Random Forest       validation accuracy: {Se_BiasedRfcModel.score(X_se_test, y_se_test)}\")\n",
    "print('')\n",
    "print('Biased Balanced accuracy')\n",
    "print(f\"Biased Logistic regression balanced accuracy  : {balanced_accuracy_score(y_se_test, yseLog_pred)}\")\n",
    "print(f\"Biased Random Forest       balanced accuracy  : {balanced_accuracy_score(y_se_test, yseRfc_pred)}\")"
   ]
  },
  {
   "cell_type": "code",
   "execution_count": 10,
   "metadata": {},
   "outputs": [
    {
     "name": "stdout",
     "output_type": "stream",
     "text": [
      "Training Before - DEFAULT value counts:\n",
      "1.0    18735\n",
      "0.0     5265\n",
      "Name: DEFAULT, dtype: int64\n",
      "Training Before - GENDER value counts:\n",
      "0.0    14478\n",
      "1.0     9522\n",
      "Name: GENDER, dtype: int64\n"
     ]
    }
   ],
   "source": [
    "# Next get the number of labels from the modified training dataset\n",
    "print('Training Before - DEFAULT value counts:')\n",
    "print(Taiwan_train_df.DEFAULT.value_counts())\n",
    "print('Training Before - GENDER value counts:')\n",
    "print(Taiwan_train_df.GENDER.value_counts())"
   ]
  },
  {
   "cell_type": "code",
   "execution_count": 11,
   "metadata": {},
   "outputs": [
    {
     "name": "stdout",
     "output_type": "stream",
     "text": [
      "Biased Logistic regression validation accuracy: 0.8083333333333333\n",
      "Biased Random Forest       validation accuracy: 0.7946666666666666\n",
      "\n",
      "Biased Logistic regression balanced accuracy  : 0.648105630330714\n",
      "Biased Random forest balanced accuracy        : 0.5845750295563172\n"
     ]
    }
   ],
   "source": [
    "# Determine the baseline model accuracy for Logistic Regression and Random Forest Classifiers\n",
    "X_train = Taiwan_train_df.drop(lab,axis=1)\n",
    "y_train = Taiwan_train_df[lab]\n",
    "X_test  = Taiwan_test_df.drop(lab,axis=1)\n",
    "y_test  = Taiwan_test_df[lab]\n",
    "\n",
    "BiasedLogModel = LogisticRegression(random_state=101)\n",
    "BiasedRfcModel = RandomForestClassifier(n_estimators=100,max_depth=4,random_state=101)\n",
    "\n",
    "BiasedLogModel.fit(X_train, y_train) \n",
    "BiasedRfcModel.fit(X_train, y_train)\n",
    "\n",
    "BiasedLogPredictions = BiasedLogModel.predict(X_test)\n",
    "BiasedRfcPredictions = BiasedRfcModel.predict(X_test)\n",
    "print(f\"Biased Logistic regression validation accuracy: {BiasedLogModel.score(X_test, y_test)}\")\n",
    "print(f\"Biased Random Forest       validation accuracy: {BiasedRfcModel.score(X_test, y_test)}\")\n",
    "print('')\n",
    "print(f\"Biased Logistic regression balanced accuracy  : {balanced_accuracy_score(y_test, BiasedLogPredictions)}\")\n",
    "print(f\"Biased Random forest balanced accuracy        : {balanced_accuracy_score(y_test, BiasedRfcPredictions)}\")"
   ]
  },
  {
   "cell_type": "code",
   "execution_count": 12,
   "metadata": {},
   "outputs": [
    {
     "data": {
      "text/markdown": [
       "#### Biased training dataset"
      ],
      "text/plain": [
       "<IPython.core.display.Markdown object>"
      ]
     },
     "metadata": {},
     "output_type": "display_data"
    },
    {
     "name": "stdout",
     "output_type": "stream",
     "text": [
      "Number of instances           : 24000.0\n",
      "Base Rate                     :0.780625\n",
      "Consistency                   : [0.78445833]\n",
      "Disparate Impact              : 1.0437451995559814\n",
      "Mean Difference               : 0.03327060860999975\n",
      "Statistical Parity Difference : 0.03327060860999975\n",
      "# of positives(privileged)    : 7242.0\n",
      "# of positives(non-privileged): 11493.0\n",
      "Total positive instances\"     : 18735.0\n",
      "# of negatives(privileged)    : 2280.0\n",
      "# of negatives(non-privileged): 2985.0\n",
      "Total negative instances\"     : 5265.0\n"
     ]
    },
    {
     "data": {
      "text/markdown": [
       "#### Biased training dataset"
      ],
      "text/plain": [
       "<IPython.core.display.Markdown object>"
      ]
     },
     "metadata": {},
     "output_type": "display_data"
    },
    {
     "name": "stdout",
     "output_type": "stream",
     "text": [
      "Difference in mean outcomes between unprivileged and privileged groups = 0.033271\n"
     ]
    }
   ],
   "source": [
    "# Create the binary label dataset metric class for the training dataset\n",
    "metric_train_bld = BinaryLabelDatasetMetric(Taiwan_train_bld, \n",
    "                                            unprivileged_groups=unprivileged_groups,\n",
    "                                            privileged_groups=privileged_groups)\n",
    "display(Markdown(\"#### Biased training dataset\"))\n",
    "print('Number of instances           :', metric_train_bld.num_instances())\n",
    "print(\"Base Rate                     :%f\" % metric_train_bld.base_rate())\n",
    "print('Consistency                   :', metric_train_bld.consistency())\n",
    "print('Disparate Impact              :', metric_train_bld.disparate_impact())\n",
    "print('Mean Difference               :', metric_train_bld.mean_difference())\n",
    "print('Statistical Parity Difference :', metric_train_bld.statistical_parity_difference()) \n",
    "print('# of positives(privileged)    :', metric_train_bld.num_positives(privileged=True))\n",
    "print('# of positives(non-privileged):', metric_train_bld.num_positives(privileged=False))\n",
    "print('Total positive instances\"     :', metric_train_bld.num_positives(privileged=True)+metric_train_bld.num_positives(privileged=False))\n",
    "print('# of negatives(privileged)    :', metric_train_bld.num_negatives(privileged=True))\n",
    "print('# of negatives(non-privileged):', metric_train_bld.num_negatives(privileged=False))\n",
    "print('Total negative instances\"     :', metric_train_bld.num_negatives(privileged=True)+metric_train_bld.num_negatives(privileged=False))\n",
    "display(Markdown(\"#### Biased training dataset\"))\n",
    "print(\"Difference in mean outcomes between unprivileged and privileged groups = %f\" % metric_train_bld.mean_difference())"
   ]
  },
  {
   "cell_type": "code",
   "execution_count": 13,
   "metadata": {},
   "outputs": [],
   "source": [
    "#Test for equality of odds. \n",
    "Test_Log_bld = Taiwan_test_bld.copy(deepcopy=True)\n",
    "Test_Rfc_bld = Taiwan_test_bld.copy(deepcopy=True)\n",
    "TestLogPredictions = BiasedLogModel.predict(X_test)\n",
    "TestRfcPredictions = BiasedRfcModel.predict(X_test)\n",
    "Test_Log_bld.labels= TestLogPredictions\n",
    "Test_Rfc_bld.labels= TestRfcPredictions\n",
    "\n",
    "c_Log_metric = ClassificationMetric(Taiwan_test_bld, Test_Log_bld, \n",
    "                                unprivileged_groups=unprivileged_groups,\n",
    "                                privileged_groups=privileged_groups)\n",
    "c_Rfc_metric = ClassificationMetric(Taiwan_test_bld, Test_Rfc_bld, \n",
    "                                unprivileged_groups=unprivileged_groups,\n",
    "                                privileged_groups=privileged_groups)"
   ]
  },
  {
   "cell_type": "code",
   "execution_count": 14,
   "metadata": {},
   "outputs": [
    {
     "name": "stdout",
     "output_type": "stream",
     "text": [
      "A value of 0 means that equality of odds has been met\n",
      "Log average_abs_odds_difference: 0.04166681223548929\n",
      "Log average_odds_difference:     0.04166681223548929\n",
      " \n",
      "Rfc average_abs_odds_difference: 0.011766323944724433\n",
      "Rfc average_odds_difference:     0.011766323944724433\n"
     ]
    }
   ],
   "source": [
    "print('A value of 0 means that equality of odds has been met')\n",
    "print('Log average_abs_odds_difference:', c_Log_metric.average_abs_odds_difference())\n",
    "print('Log average_odds_difference:    ', c_Log_metric.average_odds_difference())\n",
    "print(' ')\n",
    "print('Rfc average_abs_odds_difference:', c_Rfc_metric.average_abs_odds_difference())\n",
    "print('Rfc average_odds_difference:    ', c_Rfc_metric.average_odds_difference())"
   ]
  },
  {
   "cell_type": "code",
   "execution_count": 15,
   "metadata": {},
   "outputs": [
    {
     "name": "stderr",
     "output_type": "stream",
     "text": [
      "100%|██████████████████████████████████████████████████████████████████████████████████████████████████████████████████████████| 11/11 [02:04<00:00, 10.14s/it]\n"
     ]
    }
   ],
   "source": [
    "from tqdm import tqdm\n",
    "index = Taiwan_train_bld.feature_names.index(protected_attr)\n",
    "DIs = []\n",
    "for level in tqdm(np.linspace(0., 1., 11)):\n",
    "    di = DisparateImpactRemover(repair_level=level)\n",
    "    train_repd = di.fit_transform(Taiwan_train_bld)\n",
    "    test_repd = di.fit_transform(Taiwan_test_bld)\n",
    "    \n",
    "    X_tr = np.delete(train_repd.features, index, axis=1)\n",
    "    X_te = np.delete(test_repd.features, index, axis=1)\n",
    "    y_tr = train_repd.labels.ravel()\n",
    "    \n",
    "    lmod = LogisticRegression(class_weight='balanced', solver='liblinear', random_state=101)\n",
    "    lmod.fit(X_tr, y_tr)\n",
    "    \n",
    "    test_repd_pred = test_repd.copy()\n",
    "    test_repd_pred.labels = lmod.predict(X_te)\n",
    "    cm = BinaryLabelDatasetMetric(test_repd_pred, privileged_groups=privileged_groups, unprivileged_groups=unprivileged_groups)\n",
    "    DIs.append(cm.disparate_impact())"
   ]
  },
  {
   "cell_type": "code",
   "execution_count": 16,
   "metadata": {},
   "outputs": [
    {
     "data": {
      "image/png": "[encoded data removed]",
      "text/plain": [
       "<Figure size 432x288 with 1 Axes>"
      ]
     },
     "metadata": {
      "needs_background": "light"
     },
     "output_type": "display_data"
    }
   ],
   "source": [
    "%matplotlib inline\n",
    "plt.plot(np.linspace(0, 1, 11), DIs, marker='o')\n",
    "plt.plot([0, 1], [1, 1], 'g')\n",
    "plt.plot([0, 1], [0.8, 0.8], 'r')\n",
    "plt.ylim([0.4, 1.2])\n",
    "plt.ylabel('Disparate Impact (DI)')\n",
    "plt.xlabel('repair level')\n",
    "plt.show()"
   ]
  },
  {
   "cell_type": "code",
   "execution_count": 17,
   "metadata": {},
   "outputs": [],
   "source": [
    "# Where the plot meets the 0.8 (threshold) line is where we target, eg level = 0.1\n",
    "# Therefore set up an instance of the disparate remover object using this repair level\n",
    "di = DisparateImpactRemover(repair_level=0.1)\n",
    "Taiwan_di_train_bld = di.fit_transform(Taiwan_train_bld)\n",
    "Taiwan_di_test_bld  = di.fit_transform(Taiwan_test_bld)"
   ]
  },
  {
   "cell_type": "code",
   "execution_count": 18,
   "metadata": {},
   "outputs": [
    {
     "name": "stdout",
     "output_type": "stream",
     "text": [
      "Model Accuracy after DI removed:\n",
      "Unbiased Logistic regression validation accuracy: 0.539\n",
      "Unbiased Random Forest       validation accuracy: 0.7996666666666666\n",
      "\n",
      "Biased Balanced accuracy\n",
      "Unbiased Logistic regression balanced accuracy  : 0.6196062970909777\n",
      "Unbiased Random Forest       balanced accuracy  : 0.6037297921532645\n"
     ]
    }
   ],
   "source": [
    "# Train Logistic and Random Forest classifiers with the transformed dataset.\n",
    "X_di_train = np.delete(Taiwan_di_train_bld.features,index, axis=1) # Drop Gender! This is what the AIF360 example does\n",
    "X_di_test  = np.delete(Taiwan_di_test_bld.features, index, axis=1) # thus we cannot compare before and after feature \n",
    "y_di_train = Taiwan_di_train_bld.labels.ravel()                    # importance, and binary label dataset metrics because\n",
    "y_di_test  = Taiwan_di_test_bld.labels.ravel()                     # the sensitive attr has been dropped. Doh!\n",
    "\n",
    "Di_LogModel= LogisticRegression(class_weight='balanced', solver='liblinear', random_state=101)\n",
    "Di_RfcModel= RandomForestClassifier(n_estimators=100,max_depth=4,random_state=101)\n",
    "\n",
    "Di_LogModel.fit(X_di_train, y_train)\n",
    "Di_RfcModel.fit(X_di_train, y_train)\n",
    "\n",
    "Di_train_LogPredictions= Di_LogModel.predict(X_di_train) \n",
    "Di_train_RfcPredictions= Di_RfcModel.predict(X_di_train)\n",
    "Di_test_LogPredictions = Di_LogModel.predict(X_di_test) \n",
    "Di_test_RfcPredictions = Di_RfcModel.predict(X_di_test)\n",
    "\n",
    "# Now test whether we can predict Gender from the test dataset\n",
    "print('Model Accuracy after DI removed:')\n",
    "print(f\"Unbiased Logistic regression validation accuracy: {Di_LogModel.score(X_di_test, y_di_test)}\")\n",
    "print(f\"Unbiased Random Forest       validation accuracy: {Di_RfcModel.score(X_di_test, y_di_test)}\")\n",
    "print('')\n",
    "print('Biased Balanced accuracy')\n",
    "print(f\"Unbiased Logistic regression balanced accuracy  : {balanced_accuracy_score(y_test, Di_test_LogPredictions)}\")\n",
    "print(f\"Unbiased Random Forest       balanced accuracy  : {balanced_accuracy_score(y_test, Di_test_RfcPredictions)}\")"
   ]
  },
  {
   "cell_type": "code",
   "execution_count": 19,
   "metadata": {},
   "outputs": [
    {
     "data": {
      "text/markdown": [
       "#### Biased training dataset"
      ],
      "text/plain": [
       "<IPython.core.display.Markdown object>"
      ]
     },
     "metadata": {},
     "output_type": "display_data"
    },
    {
     "name": "stdout",
     "output_type": "stream",
     "text": [
      "Number of instances           : 6000.0\n",
      "Base Rate                     :0.416500\n",
      "Consistency                   : 0.9187666666666675\n",
      "Disparate Impact              : 1.1770525560715588\n",
      "Mean Difference               : 0.06660049657805889\n",
      "Statistical Parity Difference : 0.06660049657805889\n",
      "# of positives(privileged)    : 890.0\n",
      "# of positives(non-privileged): 1609.0\n",
      "Total positive instances\"     : 2499.0\n",
      "# of negatives(privileged)    : 1476.0\n",
      "# of negatives(non-privileged): 2025.0\n",
      "Total negative instances\"     : 3501.0\n"
     ]
    },
    {
     "data": {
      "text/markdown": [
       "#### Biased training dataset"
      ],
      "text/plain": [
       "<IPython.core.display.Markdown object>"
      ]
     },
     "metadata": {},
     "output_type": "display_data"
    },
    {
     "name": "stdout",
     "output_type": "stream",
     "text": [
      "Difference in mean outcomes between unprivileged and privileged groups = 0.066600\n"
     ]
    }
   ],
   "source": [
    "Taiwan_di_test_bld_cpy        = Taiwan_di_test_bld.copy()\n",
    "Taiwan_di_test_bld_cpy.labels = Di_test_LogPredictions\n",
    "\n",
    "Taiwan_di_train_bld_cpy       = Taiwan_di_train_bld.copy()\n",
    "Taiwan_di_train_bld_cpy.labels= Di_train_LogPredictions\n",
    "\n",
    "metric_train_bld = BinaryLabelDatasetMetric(Taiwan_di_test_bld_cpy, \n",
    "                                            unprivileged_groups=unprivileged_groups,\n",
    "                                            privileged_groups=privileged_groups)\n",
    "display(Markdown(\"#### Biased training dataset\"))\n",
    "print('Number of instances           :', metric_train_bld.num_instances())\n",
    "print(\"Base Rate                     :%f\" % metric_train_bld.base_rate())\n",
    "print('Consistency                   :', metric_train_bld.consistency())\n",
    "print('Disparate Impact              :', metric_train_bld.disparate_impact())\n",
    "print('Mean Difference               :', metric_train_bld.mean_difference())\n",
    "print('Statistical Parity Difference :', metric_train_bld.statistical_parity_difference()) \n",
    "print('# of positives(privileged)    :', metric_train_bld.num_positives(privileged=True))\n",
    "print('# of positives(non-privileged):', metric_train_bld.num_positives(privileged=False))\n",
    "print('Total positive instances\"     :', metric_train_bld.num_positives(privileged=True)+metric_train_bld.num_positives(privileged=False))\n",
    "print('# of negatives(privileged)    :', metric_train_bld.num_negatives(privileged=True))\n",
    "print('# of negatives(non-privileged):', metric_train_bld.num_negatives(privileged=False))\n",
    "print('Total negative instances\"     :', metric_train_bld.num_negatives(privileged=True)+metric_train_bld.num_negatives(privileged=False))\n",
    "display(Markdown(\"#### Biased training dataset\"))\n",
    "print(\"Difference in mean outcomes between unprivileged and privileged groups = %f\" % metric_train_bld.mean_difference())"
   ]
  },
  {
   "cell_type": "code",
   "execution_count": 20,
   "metadata": {},
   "outputs": [],
   "source": [
    "Taiwan_di_train_df,d = Taiwan_di_train_bld.convert_to_dataframe(de_dummy_code=False, sep='=', set_category=False)\n",
    "Taiwan_di_test_df, d = Taiwan_di_test_bld.convert_to_dataframe(de_dummy_code=False, sep='=', set_category=False)"
   ]
  },
  {
   "cell_type": "code",
   "execution_count": 21,
   "metadata": {},
   "outputs": [],
   "source": [
    "# Test for Equality of Odds\n",
    "Taiwan_Log_di_test_bld        = Taiwan_di_test_bld.copy()\n",
    "Taiwan_Rfc_di_test_bld        = Taiwan_di_test_bld.copy()\n",
    "\n",
    "Taiwan_Log_di_test_bld.labels = Di_test_LogPredictions\n",
    "Taiwan_Rfc_di_test_bld.labels = Di_test_RfcPredictions\n",
    "\n",
    "c_Log_metric = ClassificationMetric(Taiwan_di_test_bld, Taiwan_Log_di_test_bld, \n",
    "                                unprivileged_groups=unprivileged_groups,\n",
    "                                privileged_groups=privileged_groups)\n",
    "c_Rfc_metric = ClassificationMetric(Taiwan_di_test_bld, Taiwan_Rfc_di_test_bld, \n",
    "                                unprivileged_groups=unprivileged_groups,\n",
    "                                privileged_groups=privileged_groups)"
   ]
  },
  {
   "cell_type": "code",
   "execution_count": 22,
   "metadata": {},
   "outputs": [
    {
     "name": "stdout",
     "output_type": "stream",
     "text": [
      "A value of 0 means that equality of odds has been met\n",
      "Log average_abs_odds_difference: 0.05491788239345523\n",
      "Log average_odds_difference:     0.05491788239345523\n",
      " \n",
      "Rfc average_abs_odds_difference: 0.006092278225835801\n",
      "Rfc average_odds_difference:     0.006092278225835801\n"
     ]
    }
   ],
   "source": [
    "print('A value of 0 means that equality of odds has been met')\n",
    "print('Log average_abs_odds_difference:', c_Log_metric.average_abs_odds_difference())\n",
    "print('Log average_odds_difference:    ', c_Log_metric.average_odds_difference())\n",
    "print(' ')\n",
    "print('Rfc average_abs_odds_difference:', c_Rfc_metric.average_abs_odds_difference())\n",
    "print('Rfc average_odds_difference:    ', c_Rfc_metric.average_odds_difference())"
   ]
  },
  {
   "cell_type": "code",
   "execution_count": 23,
   "metadata": {
    "scrolled": true
   },
   "outputs": [
    {
     "name": "stdout",
     "output_type": "stream",
     "text": [
      "                 Taiwan_train_df  Taiwan_di_train_df\n",
      "0     BILL_AMT1         0.181479            0.181478\n",
      "      BILL_AMT3         0.184931            0.184928\n",
      "      BILL_AMT4         0.193873            0.193868\n",
      "      BILL_AMT5         0.089884            0.089882\n",
      "      BILL_AMT6         0.373913            0.373906\n",
      "1     BILL_AMT1         0.243297            0.243214\n",
      "      BILL_AMT2         0.156734            0.156574\n",
      "      BILL_AMT3         0.254543            0.254439\n",
      "      BILL_AMT4         0.229724            0.229541\n",
      "      BILL_AMT5         0.125373            0.125233\n",
      "      BILL_AMT6         0.410898            0.410709\n",
      "      PAY_AMT1          0.002633            0.002609\n",
      "      PAY_AMT2          0.002119            0.002099\n",
      "      PAY_AMT3          0.001800            0.001775\n",
      "      PAY_AMT4          0.001932            0.001905\n",
      "      PAY_AMT5          0.004689            0.004626\n",
      "      PAY_AMT6          0.002459            0.002427\n",
      "2     BILL_AMT1         0.231457            0.231243\n",
      "      BILL_AMT2         0.100991            0.100826\n",
      "      BILL_AMT3         0.194170            0.194031\n",
      "      BILL_AMT4         0.197500            0.197456\n",
      "      BILL_AMT5         0.092570            0.092537\n",
      "3     BILL_AMT1         0.236730            0.236719\n",
      "      BILL_AMT4         0.232482            0.232342\n",
      "      BILL_AMT5         0.120899            0.120713\n",
      "      BILL_AMT6         0.406569            0.406468\n",
      "      PAY_AMT1          0.005724            0.005689\n",
      "      PAY_AMT2          0.001630            0.001620\n",
      "      PAY_AMT3          0.002812            0.002765\n",
      "      PAY_AMT4          0.004026            0.003965\n",
      "...                          ...                 ...\n",
      "23994 BILL_AMT3         0.186046            0.186041\n",
      "      BILL_AMT5         0.093740            0.093683\n",
      "      PAY_AMT2          0.000773            0.000767\n",
      "23996 BILL_AMT1         0.197875            0.197715\n",
      "      BILL_AMT2         0.099364            0.099186\n",
      "      BILL_AMT3         0.199859            0.199712\n",
      "      BILL_AMT4         0.206967            0.206876\n",
      "      BILL_AMT5         0.099716            0.099635\n",
      "      BILL_AMT6         0.385005            0.384969\n",
      "23997 BILL_AMT4         0.193873            0.193868\n",
      "      BILL_AMT5         0.089884            0.089882\n",
      "      BILL_AMT6         0.374299            0.374293\n",
      "      PAY_AMT5          0.000823            0.000818\n",
      "23998 BILL_AMT4         0.243342            0.243333\n",
      "      BILL_AMT6         0.426037            0.425988\n",
      "      PAY_AMT1          0.002283            0.002265\n",
      "      PAY_AMT2          0.001393            0.001385\n",
      "      PAY_AMT3          0.001763            0.001738\n",
      "      PAY_AMT4          0.006441            0.006386\n",
      "      PAY_AMT5          0.003751            0.003704\n",
      "      PAY_AMT6          0.003783            0.003749\n",
      "23999 BILL_AMT3         0.244909            0.244794\n",
      "      BILL_AMT4         0.255617            0.255349\n",
      "      BILL_AMT5         0.148098            0.147834\n",
      "      BILL_AMT6         0.433226            0.432917\n",
      "      PAY_AMT1          0.002862            0.002834\n",
      "      PAY_AMT2          0.002008            0.001990\n",
      "      PAY_AMT3          0.005174            0.005113\n",
      "      PAY_AMT5          0.005158            0.005095\n",
      "      PAY_AMT6          0.004124            0.004071\n",
      "\n",
      "[132310 rows x 2 columns]\n"
     ]
    }
   ],
   "source": [
    "# Let's take a look at the differences between the original dataset and the DI_removed dataset\n",
    "Taiwan_train_df   = Taiwan_train_df.reset_index(drop=True)\n",
    "Taiwan_di_train_df= Taiwan_di_train_df.reset_index(drop=True)\n",
    "TaiwanBool        = (Taiwan_train_df != Taiwan_di_train_df).stack()  # Create Frame of comparison booleans\n",
    "Taiwandiff        = pd.concat([Taiwan_train_df.stack()[TaiwanBool], Taiwan_di_train_df.stack()[TaiwanBool]], axis=1)\n",
    "Taiwandiff.columns=[\"Taiwan_train_df\", \"Taiwan_di_train_df\"]\n",
    "print(Taiwandiff)"
   ]
  },
  {
   "cell_type": "code",
   "execution_count": 24,
   "metadata": {},
   "outputs": [
    {
     "name": "stdout",
     "output_type": "stream",
     "text": [
      "Accuracy:\n"
     ]
    },
    {
     "data": {
      "text/html": [
       "<div>\n",
       "<style scoped>\n",
       "    .dataframe tbody tr th:only-of-type {\n",
       "        vertical-align: middle;\n",
       "    }\n",
       "\n",
       "    .dataframe tbody tr th {\n",
       "        vertical-align: top;\n",
       "    }\n",
       "\n",
       "    .dataframe thead th {\n",
       "        text-align: right;\n",
       "    }\n",
       "</style>\n",
       "<table border=\"1\" class=\"dataframe\">\n",
       "  <thead>\n",
       "    <tr style=\"text-align: right;\">\n",
       "      <th></th>\n",
       "      <th>LogReg</th>\n",
       "      <th>RFC</th>\n",
       "    </tr>\n",
       "  </thead>\n",
       "  <tbody>\n",
       "    <tr>\n",
       "      <th>Biased</th>\n",
       "      <td>0.808333</td>\n",
       "      <td>0.794667</td>\n",
       "    </tr>\n",
       "    <tr>\n",
       "      <th>Fair</th>\n",
       "      <td>0.539000</td>\n",
       "      <td>0.799667</td>\n",
       "    </tr>\n",
       "  </tbody>\n",
       "</table>\n",
       "</div>"
      ],
      "text/plain": [
       "          LogReg       RFC\n",
       "Biased  0.808333  0.794667\n",
       "Fair    0.539000  0.799667"
      ]
     },
     "metadata": {},
     "output_type": "display_data"
    },
    {
     "name": "stdout",
     "output_type": "stream",
     "text": [
      "AUC:\n"
     ]
    },
    {
     "data": {
      "image/png": "[encoded data removed]",
      "text/plain": [
       "<Figure size 1152x432 with 2 Axes>"
      ]
     },
     "metadata": {
      "needs_background": "light"
     },
     "output_type": "display_data"
    }
   ],
   "source": [
    "%matplotlib inline\n",
    "def plot_auc(y_true: np.ndarray, preds: Dict[str, np.ndarray], title: str='', ax=None) -> None:\n",
    "    leg = []\n",
    "    for k, p in preds.items():\n",
    "        fpr, tpr, _ = roc_curve(y_true, p)\n",
    "        ax = sns.lineplot(x=fpr, y=tpr, ci=None, ax=ax)\n",
    "        leg.append(f\"{k}: {round(auc(fpr, tpr), 2)}\")\n",
    "   \n",
    "    ax.legend(leg)\n",
    "    ax.set_xlabel('FPR')\n",
    "    ax.set_ylabel('TPR')\n",
    "    sns.lineplot(x=[0, 1], y=[0, 1], color='gray',ax=ax)\n",
    "    ax.set_title(title)\n",
    "    \n",
    "print('Accuracy:')\n",
    "display(pd.DataFrame({'LogReg': [BiasedLogModel.score(X_test, y_test), \n",
    "                                 Di_LogModel.score(X_di_test, y_di_test)],\n",
    "                      'RFC': [BiasedRfcModel.score(X_test, y_test),\n",
    "                              Di_RfcModel.score(X_di_test, y_di_test)]}, \n",
    "                      index =['Biased', 'Fair']))\n",
    "\n",
    "print('AUC:')\n",
    "\n",
    "fig, ax = plt.subplots(nrows=1, ncols=2,figsize=(16, 6))\n",
    "plot_auc(y_test, \n",
    "         {'AUC biased': BiasedLogModel.predict_proba(X_test)[:, 1], \n",
    "          'AUC fair'  : Di_LogModel.predict_proba(X_di_test)[:, 1]},\n",
    "         title='LR', ax=ax[0]) \n",
    "plot_auc(y_test, \n",
    "         {'AUC biased': BiasedRfcModel.predict_proba(X_test)[:, 1],\n",
    "          'AUC fair'  : Di_RfcModel.predict_proba(X_di_test)[:, 1]},\n",
    "         title='RFC', ax=ax[1]) \n",
    "plt.show()"
   ]
  },
  {
   "cell_type": "code",
   "execution_count": 25,
   "metadata": {},
   "outputs": [
    {
     "name": "stdout",
     "output_type": "stream",
     "text": [
      "Model Accuracy for predicting the Sensitive Variable before bias transformation:\n",
      "Biased Logistic regression validation accuracy: 0.6073333333333333\n",
      "Biased Random Forest       validation accuracy: 0.606\n",
      "\n",
      "Biased Balanced accuracy\n",
      "Biased Logistic regression balanced accuracy  : 0.5390558596815741\n",
      "Biased Random Forest       balanced accuracy  : 0.5004226542688082\n"
     ]
    }
   ],
   "source": [
    "# Finally test whether it is possible to predict the Sensitive Variable from the transformed dataset\n",
    "X_se_train = Taiwan_di_train_df.drop(protected_attr,axis=1)\n",
    "y_se_train = Taiwan_di_train_df[protected_attr]\n",
    "X_se_test  = Taiwan_di_test_df.drop(protected_attr,axis=1)\n",
    "y_se_test  = Taiwan_di_test_df[protected_attr]\n",
    "\n",
    "Se_BiasedLogModel = LogisticRegression(random_state=101)\n",
    "Se_BiasedRfcModel = RandomForestClassifier(n_estimators=100,max_depth=4,random_state=101)\n",
    "Se_BiasedLogModel.fit(X_se_train, y_se_train) \n",
    "Se_BiasedRfcModel.fit(X_se_train, y_se_train) \n",
    "yseLog_pred =  Se_BiasedLogModel.predict(X_se_test)\n",
    "yseRfc_pred =  Se_BiasedRfcModel.predict(X_se_test)\n",
    "# Now test whether we can predict Gender from the test dataset\n",
    "print('Model Accuracy for predicting the Sensitive Variable before bias transformation:')\n",
    "print(f\"Biased Logistic regression validation accuracy: {Se_BiasedLogModel.score(X_se_test, y_se_test)}\")\n",
    "print(f\"Biased Random Forest       validation accuracy: {Se_BiasedRfcModel.score(X_se_test, y_se_test)}\")\n",
    "print('')\n",
    "print('Biased Balanced accuracy')\n",
    "print(f\"Biased Logistic regression balanced accuracy  : {balanced_accuracy_score(y_se_test, yseLog_pred)}\")\n",
    "print(f\"Biased Random Forest       balanced accuracy  : {balanced_accuracy_score(y_se_test, yseRfc_pred)}\")"
   ]
  },
  {
   "cell_type": "code",
   "execution_count": 26,
   "metadata": {},
   "outputs": [
    {
     "name": "stdout",
     "output_type": "stream",
     "text": [
      "Training After - DEFAULT value counts:\n",
      "1.0    18735\n",
      "0.0     5265\n",
      "Name: DEFAULT, dtype: int64\n",
      "Training After - GENDER value counts:\n",
      "0.0    14478\n",
      "1.0     9522\n",
      "Name: GENDER, dtype: int64\n"
     ]
    }
   ],
   "source": [
    "# Lastly get the number of labels from the modified training dataset\n",
    "print('Training After - DEFAULT value counts:')\n",
    "print(Taiwan_di_train_df.DEFAULT.value_counts())\n",
    "print('Training After - GENDER value counts:')\n",
    "print(Taiwan_di_train_df.GENDER.value_counts())"
   ]
  }
 ],
 "metadata": {
  "kernelspec": {
   "display_name": "Python 3",
   "language": "python",
   "name": "python3"
  },
  "language_info": {
   "codemirror_mode": {
    "name": "ipython",
    "version": 3
   },
   "file_extension": ".py",
   "mimetype": "text/x-python",
   "name": "python",
   "nbconvert_exporter": "python",
   "pygments_lexer": "ipython3",
   "version": "3.7.3"
  }
 },
 "nbformat": 4,
 "nbformat_minor": 2
}
